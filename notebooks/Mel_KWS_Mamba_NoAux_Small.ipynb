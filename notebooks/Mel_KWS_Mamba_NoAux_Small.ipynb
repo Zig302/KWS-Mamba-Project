{
  "nbformat": 4,
  "nbformat_minor": 0,
  "metadata": {
    "colab": {
      "provenance": [],
      "gpuType": "L4"
    },
    "kernelspec": {
      "name": "python3",
      "display_name": "Python 3"
    },
    "language_info": {
      "name": "python"
    },
    "accelerator": "GPU"
  },
  "cells": [
    {
      "cell_type": "code",
      "execution_count": null,
      "metadata": {
        "colab": {
          "base_uri": "https://localhost:8080/"
        },
        "collapsed": true,
        "id": "Qeo644JV9RwT",
        "outputId": "74ebe422-1be6-49e2-fdcc-31fd96678928"
      },
      "outputs": [
        {
          "output_type": "stream",
          "name": "stdout",
          "text": [
            "Collecting datasets==2.16.0\n",
            "  Downloading datasets-2.16.0-py3-none-any.whl.metadata (20 kB)\n",
            "Requirement already satisfied: filelock in /usr/local/lib/python3.12/dist-packages (from datasets==2.16.0) (3.19.1)\n",
            "Requirement already satisfied: numpy>=1.17 in /usr/local/lib/python3.12/dist-packages (from datasets==2.16.0) (2.0.2)\n",
            "Requirement already satisfied: pyarrow>=8.0.0 in /usr/local/lib/python3.12/dist-packages (from datasets==2.16.0) (18.1.0)\n",
            "Collecting pyarrow-hotfix (from datasets==2.16.0)\n",
            "  Downloading pyarrow_hotfix-0.7-py3-none-any.whl.metadata (3.6 kB)\n",
            "Collecting dill<0.3.8,>=0.3.0 (from datasets==2.16.0)\n",
            "  Downloading dill-0.3.7-py3-none-any.whl.metadata (9.9 kB)\n",
            "Requirement already satisfied: pandas in /usr/local/lib/python3.12/dist-packages (from datasets==2.16.0) (2.2.2)\n",
            "Requirement already satisfied: requests>=2.19.0 in /usr/local/lib/python3.12/dist-packages (from datasets==2.16.0) (2.32.4)\n",
            "Requirement already satisfied: tqdm>=4.62.1 in /usr/local/lib/python3.12/dist-packages (from datasets==2.16.0) (4.67.1)\n",
            "Requirement already satisfied: xxhash in /usr/local/lib/python3.12/dist-packages (from datasets==2.16.0) (3.5.0)\n",
            "Requirement already satisfied: multiprocess in /usr/local/lib/python3.12/dist-packages (from datasets==2.16.0) (0.70.16)\n",
            "Collecting fsspec<=2023.10.0,>=2023.1.0 (from fsspec[http]<=2023.10.0,>=2023.1.0->datasets==2.16.0)\n",
            "  Downloading fsspec-2023.10.0-py3-none-any.whl.metadata (6.8 kB)\n",
            "Requirement already satisfied: aiohttp in /usr/local/lib/python3.12/dist-packages (from datasets==2.16.0) (3.12.15)\n",
            "Requirement already satisfied: huggingface-hub>=0.19.4 in /usr/local/lib/python3.12/dist-packages (from datasets==2.16.0) (0.34.4)\n",
            "Requirement already satisfied: packaging in /usr/local/lib/python3.12/dist-packages (from datasets==2.16.0) (25.0)\n",
            "Requirement already satisfied: pyyaml>=5.1 in /usr/local/lib/python3.12/dist-packages (from datasets==2.16.0) (6.0.2)\n",
            "Requirement already satisfied: aiohappyeyeballs>=2.5.0 in /usr/local/lib/python3.12/dist-packages (from aiohttp->datasets==2.16.0) (2.6.1)\n",
            "Requirement already satisfied: aiosignal>=1.4.0 in /usr/local/lib/python3.12/dist-packages (from aiohttp->datasets==2.16.0) (1.4.0)\n",
            "Requirement already satisfied: attrs>=17.3.0 in /usr/local/lib/python3.12/dist-packages (from aiohttp->datasets==2.16.0) (25.3.0)\n",
            "Requirement already satisfied: frozenlist>=1.1.1 in /usr/local/lib/python3.12/dist-packages (from aiohttp->datasets==2.16.0) (1.7.0)\n",
            "Requirement already satisfied: multidict<7.0,>=4.5 in /usr/local/lib/python3.12/dist-packages (from aiohttp->datasets==2.16.0) (6.6.4)\n",
            "Requirement already satisfied: propcache>=0.2.0 in /usr/local/lib/python3.12/dist-packages (from aiohttp->datasets==2.16.0) (0.3.2)\n",
            "Requirement already satisfied: yarl<2.0,>=1.17.0 in /usr/local/lib/python3.12/dist-packages (from aiohttp->datasets==2.16.0) (1.20.1)\n",
            "Requirement already satisfied: typing-extensions>=3.7.4.3 in /usr/local/lib/python3.12/dist-packages (from huggingface-hub>=0.19.4->datasets==2.16.0) (4.15.0)\n",
            "Requirement already satisfied: hf-xet<2.0.0,>=1.1.3 in /usr/local/lib/python3.12/dist-packages (from huggingface-hub>=0.19.4->datasets==2.16.0) (1.1.9)\n",
            "Requirement already satisfied: charset_normalizer<4,>=2 in /usr/local/lib/python3.12/dist-packages (from requests>=2.19.0->datasets==2.16.0) (3.4.3)\n",
            "Requirement already satisfied: idna<4,>=2.5 in /usr/local/lib/python3.12/dist-packages (from requests>=2.19.0->datasets==2.16.0) (3.10)\n",
            "Requirement already satisfied: urllib3<3,>=1.21.1 in /usr/local/lib/python3.12/dist-packages (from requests>=2.19.0->datasets==2.16.0) (2.5.0)\n",
            "Requirement already satisfied: certifi>=2017.4.17 in /usr/local/lib/python3.12/dist-packages (from requests>=2.19.0->datasets==2.16.0) (2025.8.3)\n",
            "INFO: pip is looking at multiple versions of multiprocess to determine which version is compatible with other requirements. This could take a while.\n",
            "Collecting multiprocess (from datasets==2.16.0)\n",
            "  Downloading multiprocess-0.70.18-py312-none-any.whl.metadata (7.5 kB)\n",
            "  Downloading multiprocess-0.70.17-py312-none-any.whl.metadata (7.2 kB)\n",
            "  Downloading multiprocess-0.70.15-py311-none-any.whl.metadata (7.2 kB)\n",
            "Requirement already satisfied: python-dateutil>=2.8.2 in /usr/local/lib/python3.12/dist-packages (from pandas->datasets==2.16.0) (2.9.0.post0)\n",
            "Requirement already satisfied: pytz>=2020.1 in /usr/local/lib/python3.12/dist-packages (from pandas->datasets==2.16.0) (2025.2)\n",
            "Requirement already satisfied: tzdata>=2022.7 in /usr/local/lib/python3.12/dist-packages (from pandas->datasets==2.16.0) (2025.2)\n",
            "Requirement already satisfied: six>=1.5 in /usr/local/lib/python3.12/dist-packages (from python-dateutil>=2.8.2->pandas->datasets==2.16.0) (1.17.0)\n",
            "Downloading datasets-2.16.0-py3-none-any.whl (507 kB)\n",
            "\u001b[2K   \u001b[90m\u2501\u2501\u2501\u2501\u2501\u2501\u2501\u2501\u2501\u2501\u2501\u2501\u2501\u2501\u2501\u2501\u2501\u2501\u2501\u2501\u2501\u2501\u2501\u2501\u2501\u2501\u2501\u2501\u2501\u2501\u2501\u2501\u2501\u2501\u2501\u2501\u2501\u2501\u2501\u2501\u001b[0m \u001b[32m507.1/507.1 kB\u001b[0m \u001b[31m16.0 MB/s\u001b[0m eta \u001b[36m0:00:00\u001b[0m\n",
            "\u001b[?25hDownloading dill-0.3.7-py3-none-any.whl (115 kB)\n",
            "\u001b[2K   \u001b[90m\u2501\u2501\u2501\u2501\u2501\u2501\u2501\u2501\u2501\u2501\u2501\u2501\u2501\u2501\u2501\u2501\u2501\u2501\u2501\u2501\u2501\u2501\u2501\u2501\u2501\u2501\u2501\u2501\u2501\u2501\u2501\u2501\u2501\u2501\u2501\u2501\u2501\u2501\u2501\u2501\u001b[0m \u001b[32m115.3/115.3 kB\u001b[0m \u001b[31m12.5 MB/s\u001b[0m eta \u001b[36m0:00:00\u001b[0m\n",
            "\u001b[?25hDownloading fsspec-2023.10.0-py3-none-any.whl (166 kB)\n",
            "\u001b[2K   \u001b[90m\u2501\u2501\u2501\u2501\u2501\u2501\u2501\u2501\u2501\u2501\u2501\u2501\u2501\u2501\u2501\u2501\u2501\u2501\u2501\u2501\u2501\u2501\u2501\u2501\u2501\u2501\u2501\u2501\u2501\u2501\u2501\u2501\u2501\u2501\u2501\u2501\u2501\u2501\u2501\u2501\u001b[0m \u001b[32m166.4/166.4 kB\u001b[0m \u001b[31m19.2 MB/s\u001b[0m eta \u001b[36m0:00:00\u001b[0m\n",
            "\u001b[?25hDownloading multiprocess-0.70.15-py311-none-any.whl (135 kB)\n",
            "\u001b[2K   \u001b[90m\u2501\u2501\u2501\u2501\u2501\u2501\u2501\u2501\u2501\u2501\u2501\u2501\u2501\u2501\u2501\u2501\u2501\u2501\u2501\u2501\u2501\u2501\u2501\u2501\u2501\u2501\u2501\u2501\u2501\u2501\u2501\u2501\u2501\u2501\u2501\u2501\u2501\u2501\u2501\u2501\u001b[0m \u001b[32m135.4/135.4 kB\u001b[0m \u001b[31m13.7 MB/s\u001b[0m eta \u001b[36m0:00:00\u001b[0m\n",
            "\u001b[?25hDownloading pyarrow_hotfix-0.7-py3-none-any.whl (7.9 kB)\n",
            "Installing collected packages: pyarrow-hotfix, fsspec, dill, multiprocess, datasets\n",
            "  Attempting uninstall: fsspec\n",
            "    Found existing installation: fsspec 2025.3.0\n",
            "    Uninstalling fsspec-2025.3.0:\n",
            "      Successfully uninstalled fsspec-2025.3.0\n",
            "  Attempting uninstall: dill\n",
            "    Found existing installation: dill 0.3.8\n",
            "    Uninstalling dill-0.3.8:\n",
            "      Successfully uninstalled dill-0.3.8\n",
            "  Attempting uninstall: multiprocess\n",
            "    Found existing installation: multiprocess 0.70.16\n",
            "    Uninstalling multiprocess-0.70.16:\n",
            "      Successfully uninstalled multiprocess-0.70.16\n",
            "  Attempting uninstall: datasets\n",
            "    Found existing installation: datasets 4.0.0\n",
            "    Uninstalling datasets-4.0.0:\n",
            "      Successfully uninstalled datasets-4.0.0\n",
            "\u001b[31mERROR: pip's dependency resolver does not currently take into account all the packages that are installed. This behaviour is the source of the following dependency conflicts.\n",
            "gcsfs 2025.3.0 requires fsspec==2025.3.0, but you have fsspec 2023.10.0 which is incompatible.\u001b[0m\u001b[31m\n",
            "\u001b[0mSuccessfully installed datasets-2.16.0 dill-0.3.7 fsspec-2023.10.0 multiprocess-0.70.15 pyarrow-hotfix-0.7\n",
            "Collecting huggingface-hub==0.20.0\n",
            "  Downloading huggingface_hub-0.20.0-py3-none-any.whl.metadata (12 kB)\n",
            "Requirement already satisfied: filelock in /usr/local/lib/python3.12/dist-packages (from huggingface-hub==0.20.0) (3.19.1)\n",
            "Requirement already satisfied: fsspec>=2023.5.0 in /usr/local/lib/python3.12/dist-packages (from huggingface-hub==0.20.0) (2023.10.0)\n",
            "Requirement already satisfied: requests in /usr/local/lib/python3.12/dist-packages (from huggingface-hub==0.20.0) (2.32.4)\n",
            "Requirement already satisfied: tqdm>=4.42.1 in /usr/local/lib/python3.12/dist-packages (from huggingface-hub==0.20.0) (4.67.1)\n",
            "Requirement already satisfied: pyyaml>=5.1 in /usr/local/lib/python3.12/dist-packages (from huggingface-hub==0.20.0) (6.0.2)\n",
            "Requirement already satisfied: typing-extensions>=3.7.4.3 in /usr/local/lib/python3.12/dist-packages (from huggingface-hub==0.20.0) (4.15.0)\n",
            "Requirement already satisfied: packaging>=20.9 in /usr/local/lib/python3.12/dist-packages (from huggingface-hub==0.20.0) (25.0)\n",
            "Requirement already satisfied: charset_normalizer<4,>=2 in /usr/local/lib/python3.12/dist-packages (from requests->huggingface-hub==0.20.0) (3.4.3)\n",
            "Requirement already satisfied: idna<4,>=2.5 in /usr/local/lib/python3.12/dist-packages (from requests->huggingface-hub==0.20.0) (3.10)\n",
            "Requirement already satisfied: urllib3<3,>=1.21.1 in /usr/local/lib/python3.12/dist-packages (from requests->huggingface-hub==0.20.0) (2.5.0)\n",
            "Requirement already satisfied: certifi>=2017.4.17 in /usr/local/lib/python3.12/dist-packages (from requests->huggingface-hub==0.20.0) (2025.8.3)\n",
            "Downloading huggingface_hub-0.20.0-py3-none-any.whl (329 kB)\n",
            "\u001b[2K   \u001b[90m\u2501\u2501\u2501\u2501\u2501\u2501\u2501\u2501\u2501\u2501\u2501\u2501\u2501\u2501\u2501\u2501\u2501\u2501\u2501\u2501\u2501\u2501\u2501\u2501\u2501\u2501\u2501\u2501\u2501\u2501\u2501\u2501\u2501\u2501\u2501\u2501\u2501\u2501\u2501\u2501\u001b[0m \u001b[32m329.1/329.1 kB\u001b[0m \u001b[31m7.8 MB/s\u001b[0m eta \u001b[36m0:00:00\u001b[0m\n",
            "\u001b[?25hInstalling collected packages: huggingface-hub\n",
            "  Attempting uninstall: huggingface-hub\n",
            "    Found existing installation: huggingface-hub 0.34.4\n",
            "    Uninstalling huggingface-hub-0.34.4:\n",
            "      Successfully uninstalled huggingface-hub-0.34.4\n",
            "\u001b[31mERROR: pip's dependency resolver does not currently take into account all the packages that are installed. This behaviour is the source of the following dependency conflicts.\n",
            "peft 0.17.1 requires huggingface_hub>=0.25.0, but you have huggingface-hub 0.20.0 which is incompatible.\n",
            "transformers 4.56.1 requires huggingface-hub<1.0,>=0.34.0, but you have huggingface-hub 0.20.0 which is incompatible.\n",
            "accelerate 1.10.1 requires huggingface_hub>=0.21.0, but you have huggingface-hub 0.20.0 which is incompatible.\n",
            "gradio 5.44.1 requires huggingface-hub<1.0,>=0.33.5, but you have huggingface-hub 0.20.0 which is incompatible.\n",
            "diffusers 0.35.1 requires huggingface-hub>=0.34.0, but you have huggingface-hub 0.20.0 which is incompatible.\u001b[0m\u001b[31m\n",
            "\u001b[0mSuccessfully installed huggingface-hub-0.20.0\n",
            "Reading package lists... Done\n",
            "Building dependency tree... Done\n",
            "Reading state information... Done\n",
            "The following additional packages will be installed:\n",
            "  libao-common libao4 libid3tag0 libmad0 libopencore-amrnb0 libopencore-amrwb0\n",
            "  libsox-fmt-all libsox-fmt-alsa libsox-fmt-ao libsox-fmt-base libsox-fmt-mp3\n",
            "  libsox-fmt-oss libsox-fmt-pulse libsox3 libwavpack1\n",
            "Suggested packages:\n",
            "  libaudio2 libsndio6.1\n",
            "The following NEW packages will be installed:\n",
            "  libao-common libao4 libid3tag0 libmad0 libopencore-amrnb0 libopencore-amrwb0\n",
            "  libsox-dev libsox-fmt-all libsox-fmt-alsa libsox-fmt-ao libsox-fmt-base\n",
            "  libsox-fmt-mp3 libsox-fmt-oss libsox-fmt-pulse libsox3 libwavpack1\n",
            "0 upgraded, 16 newly installed, 0 to remove and 35 not upgraded.\n",
            "Need to get 1,053 kB of archives.\n",
            "After this operation, 4,061 kB of additional disk space will be used.\n",
            "Get:1 http://archive.ubuntu.com/ubuntu jammy/main amd64 libao-common all 1.2.2+20180113-1.1ubuntu3 [6,568 B]\n",
            "Get:2 http://archive.ubuntu.com/ubuntu jammy/main amd64 libao4 amd64 1.2.2+20180113-1.1ubuntu3 [35.2 kB]\n",
            "Get:3 http://archive.ubuntu.com/ubuntu jammy/universe amd64 libid3tag0 amd64 0.15.1b-14 [31.3 kB]\n",
            "Get:4 http://archive.ubuntu.com/ubuntu jammy/universe amd64 libmad0 amd64 0.15.1b-10ubuntu1 [63.1 kB]\n",
            "Get:5 http://archive.ubuntu.com/ubuntu jammy/universe amd64 libopencore-amrnb0 amd64 0.1.5-1 [94.8 kB]\n",
            "Get:6 http://archive.ubuntu.com/ubuntu jammy/universe amd64 libopencore-amrwb0 amd64 0.1.5-1 [49.1 kB]\n",
            "Get:7 http://archive.ubuntu.com/ubuntu jammy-updates/universe amd64 libsox3 amd64 14.4.2+git20190427-2+deb11u2ubuntu0.22.04.1 [240 kB]\n",
            "Get:8 http://archive.ubuntu.com/ubuntu jammy-updates/universe amd64 libsox-fmt-alsa amd64 14.4.2+git20190427-2+deb11u2ubuntu0.22.04.1 [11.2 kB]\n",
            "Get:9 http://archive.ubuntu.com/ubuntu jammy-updates/universe amd64 libsox-fmt-ao amd64 14.4.2+git20190427-2+deb11u2ubuntu0.22.04.1 [7,740 B]\n",
            "Get:10 http://archive.ubuntu.com/ubuntu jammy/main amd64 libwavpack1 amd64 5.4.0-1build2 [83.7 kB]\n",
            "Get:11 http://archive.ubuntu.com/ubuntu jammy-updates/universe amd64 libsox-fmt-base amd64 14.4.2+git20190427-2+deb11u2ubuntu0.22.04.1 [33.7 kB]\n",
            "Get:12 http://archive.ubuntu.com/ubuntu jammy-updates/universe amd64 libsox-fmt-mp3 amd64 14.4.2+git20190427-2+deb11u2ubuntu0.22.04.1 [17.3 kB]\n",
            "Get:13 http://archive.ubuntu.com/ubuntu jammy-updates/universe amd64 libsox-fmt-oss amd64 14.4.2+git20190427-2+deb11u2ubuntu0.22.04.1 [9,424 B]\n",
            "Get:14 http://archive.ubuntu.com/ubuntu jammy-updates/universe amd64 libsox-fmt-pulse amd64 14.4.2+git20190427-2+deb11u2ubuntu0.22.04.1 [7,732 B]\n",
            "Get:15 http://archive.ubuntu.com/ubuntu jammy-updates/universe amd64 libsox-fmt-all amd64 14.4.2+git20190427-2+deb11u2ubuntu0.22.04.1 [5,016 B]\n",
            "Get:16 http://archive.ubuntu.com/ubuntu jammy-updates/universe amd64 libsox-dev amd64 14.4.2+git20190427-2+deb11u2ubuntu0.22.04.1 [356 kB]\n",
            "Fetched 1,053 kB in 2s (435 kB/s)\n",
            "Selecting previously unselected package libao-common.\n",
            "(Reading database ... 126374 files and directories currently installed.)\n",
            "Preparing to unpack .../00-libao-common_1.2.2+20180113-1.1ubuntu3_all.deb ...\n",
            "Unpacking libao-common (1.2.2+20180113-1.1ubuntu3) ...\n",
            "Selecting previously unselected package libao4:amd64.\n",
            "Preparing to unpack .../01-libao4_1.2.2+20180113-1.1ubuntu3_amd64.deb ...\n",
            "Unpacking libao4:amd64 (1.2.2+20180113-1.1ubuntu3) ...\n",
            "Selecting previously unselected package libid3tag0:amd64.\n",
            "Preparing to unpack .../02-libid3tag0_0.15.1b-14_amd64.deb ...\n",
            "Unpacking libid3tag0:amd64 (0.15.1b-14) ...\n",
            "Selecting previously unselected package libmad0:amd64.\n",
            "Preparing to unpack .../03-libmad0_0.15.1b-10ubuntu1_amd64.deb ...\n",
            "Unpacking libmad0:amd64 (0.15.1b-10ubuntu1) ...\n",
            "Selecting previously unselected package libopencore-amrnb0:amd64.\n",
            "Preparing to unpack .../04-libopencore-amrnb0_0.1.5-1_amd64.deb ...\n",
            "Unpacking libopencore-amrnb0:amd64 (0.1.5-1) ...\n",
            "Selecting previously unselected package libopencore-amrwb0:amd64.\n",
            "Preparing to unpack .../05-libopencore-amrwb0_0.1.5-1_amd64.deb ...\n",
            "Unpacking libopencore-amrwb0:amd64 (0.1.5-1) ...\n",
            "Selecting previously unselected package libsox3:amd64.\n",
            "Preparing to unpack .../06-libsox3_14.4.2+git20190427-2+deb11u2ubuntu0.22.04.1_amd64.deb ...\n",
            "Unpacking libsox3:amd64 (14.4.2+git20190427-2+deb11u2ubuntu0.22.04.1) ...\n",
            "Selecting previously unselected package libsox-fmt-alsa:amd64.\n",
            "Preparing to unpack .../07-libsox-fmt-alsa_14.4.2+git20190427-2+deb11u2ubuntu0.22.04.1_amd64.deb ...\n",
            "Unpacking libsox-fmt-alsa:amd64 (14.4.2+git20190427-2+deb11u2ubuntu0.22.04.1) ...\n",
            "Selecting previously unselected package libsox-fmt-ao:amd64.\n",
            "Preparing to unpack .../08-libsox-fmt-ao_14.4.2+git20190427-2+deb11u2ubuntu0.22.04.1_amd64.deb ...\n",
            "Unpacking libsox-fmt-ao:amd64 (14.4.2+git20190427-2+deb11u2ubuntu0.22.04.1) ...\n",
            "Selecting previously unselected package libwavpack1:amd64.\n",
            "Preparing to unpack .../09-libwavpack1_5.4.0-1build2_amd64.deb ...\n",
            "Unpacking libwavpack1:amd64 (5.4.0-1build2) ...\n",
            "Selecting previously unselected package libsox-fmt-base:amd64.\n",
            "Preparing to unpack .../10-libsox-fmt-base_14.4.2+git20190427-2+deb11u2ubuntu0.22.04.1_amd64.deb ...\n",
            "Unpacking libsox-fmt-base:amd64 (14.4.2+git20190427-2+deb11u2ubuntu0.22.04.1) ...\n",
            "Selecting previously unselected package libsox-fmt-mp3:amd64.\n",
            "Preparing to unpack .../11-libsox-fmt-mp3_14.4.2+git20190427-2+deb11u2ubuntu0.22.04.1_amd64.deb ...\n",
            "Unpacking libsox-fmt-mp3:amd64 (14.4.2+git20190427-2+deb11u2ubuntu0.22.04.1) ...\n",
            "Selecting previously unselected package libsox-fmt-oss:amd64.\n",
            "Preparing to unpack .../12-libsox-fmt-oss_14.4.2+git20190427-2+deb11u2ubuntu0.22.04.1_amd64.deb ...\n",
            "Unpacking libsox-fmt-oss:amd64 (14.4.2+git20190427-2+deb11u2ubuntu0.22.04.1) ...\n",
            "Selecting previously unselected package libsox-fmt-pulse:amd64.\n",
            "Preparing to unpack .../13-libsox-fmt-pulse_14.4.2+git20190427-2+deb11u2ubuntu0.22.04.1_amd64.deb ...\n",
            "Unpacking libsox-fmt-pulse:amd64 (14.4.2+git20190427-2+deb11u2ubuntu0.22.04.1) ...\n",
            "Selecting previously unselected package libsox-fmt-all:amd64.\n",
            "Preparing to unpack .../14-libsox-fmt-all_14.4.2+git20190427-2+deb11u2ubuntu0.22.04.1_amd64.deb ...\n",
            "Unpacking libsox-fmt-all:amd64 (14.4.2+git20190427-2+deb11u2ubuntu0.22.04.1) ...\n",
            "Selecting previously unselected package libsox-dev:amd64.\n",
            "Preparing to unpack .../15-libsox-dev_14.4.2+git20190427-2+deb11u2ubuntu0.22.04.1_amd64.deb ...\n",
            "Unpacking libsox-dev:amd64 (14.4.2+git20190427-2+deb11u2ubuntu0.22.04.1) ...\n",
            "Setting up libsox3:amd64 (14.4.2+git20190427-2+deb11u2ubuntu0.22.04.1) ...\n",
            "Setting up libsox-fmt-oss:amd64 (14.4.2+git20190427-2+deb11u2ubuntu0.22.04.1) ...\n",
            "Setting up libao-common (1.2.2+20180113-1.1ubuntu3) ...\n",
            "Setting up libid3tag0:amd64 (0.15.1b-14) ...\n",
            "Setting up libopencore-amrwb0:amd64 (0.1.5-1) ...\n",
            "Setting up libsox-fmt-alsa:amd64 (14.4.2+git20190427-2+deb11u2ubuntu0.22.04.1) ...\n",
            "Setting up libao4:amd64 (1.2.2+20180113-1.1ubuntu3) ...\n",
            "Setting up libmad0:amd64 (0.15.1b-10ubuntu1) ...\n",
            "Setting up libwavpack1:amd64 (5.4.0-1build2) ...\n",
            "Setting up libopencore-amrnb0:amd64 (0.1.5-1) ...\n",
            "Setting up libsox-fmt-base:amd64 (14.4.2+git20190427-2+deb11u2ubuntu0.22.04.1) ...\n",
            "Setting up libsox-fmt-ao:amd64 (14.4.2+git20190427-2+deb11u2ubuntu0.22.04.1) ...\n",
            "Setting up libsox-fmt-mp3:amd64 (14.4.2+git20190427-2+deb11u2ubuntu0.22.04.1) ...\n",
            "Setting up libsox-fmt-pulse:amd64 (14.4.2+git20190427-2+deb11u2ubuntu0.22.04.1) ...\n",
            "Setting up libsox-fmt-all:amd64 (14.4.2+git20190427-2+deb11u2ubuntu0.22.04.1) ...\n",
            "Setting up libsox-dev:amd64 (14.4.2+git20190427-2+deb11u2ubuntu0.22.04.1) ...\n",
            "Processing triggers for man-db (2.10.2-1) ...\n",
            "Processing triggers for libc-bin (2.35-0ubuntu3.8) ...\n",
            "/sbin/ldconfig.real: /usr/local/lib/libtbb.so.12 is not a symbolic link\n",
            "\n",
            "/sbin/ldconfig.real: /usr/local/lib/libur_adapter_level_zero_v2.so.0 is not a symbolic link\n",
            "\n",
            "/sbin/ldconfig.real: /usr/local/lib/libtbbbind_2_5.so.3 is not a symbolic link\n",
            "\n",
            "/sbin/ldconfig.real: /usr/local/lib/libhwloc.so.15 is not a symbolic link\n",
            "\n",
            "/sbin/ldconfig.real: /usr/local/lib/libur_adapter_level_zero.so.0 is not a symbolic link\n",
            "\n",
            "/sbin/ldconfig.real: /usr/local/lib/libumf.so.0 is not a symbolic link\n",
            "\n",
            "/sbin/ldconfig.real: /usr/local/lib/libtbbmalloc.so.2 is not a symbolic link\n",
            "\n",
            "/sbin/ldconfig.real: /usr/local/lib/libtcm_debug.so.1 is not a symbolic link\n",
            "\n",
            "/sbin/ldconfig.real: /usr/local/lib/libtbbbind.so.3 is not a symbolic link\n",
            "\n",
            "/sbin/ldconfig.real: /usr/local/lib/libtbbbind_2_0.so.3 is not a symbolic link\n",
            "\n",
            "/sbin/ldconfig.real: /usr/local/lib/libtcm.so.1 is not a symbolic link\n",
            "\n",
            "/sbin/ldconfig.real: /usr/local/lib/libtbbmalloc_proxy.so.2 is not a symbolic link\n",
            "\n",
            "/sbin/ldconfig.real: /usr/local/lib/libur_loader.so.0 is not a symbolic link\n",
            "\n",
            "/sbin/ldconfig.real: /usr/local/lib/libur_adapter_opencl.so.0 is not a symbolic link\n",
            "\n",
            "Looking in indexes: https://download.pytorch.org/whl/cu121\n",
            "Collecting torch==2.4.0\n",
            "  Downloading https://download.pytorch.org/whl/cu121/torch-2.4.0%2Bcu121-cp312-cp312-linux_x86_64.whl (799.0 MB)\n",
            "\u001b[2K     \u001b[90m\u2501\u2501\u2501\u2501\u2501\u2501\u2501\u2501\u2501\u2501\u2501\u2501\u2501\u2501\u2501\u2501\u2501\u2501\u2501\u2501\u2501\u2501\u2501\u2501\u2501\u2501\u2501\u2501\u2501\u2501\u2501\u2501\u2501\u2501\u2501\u2501\u2501\u2501\u2501\u001b[0m \u001b[32m799.0/799.0 MB\u001b[0m \u001b[31m1.5 MB/s\u001b[0m eta \u001b[36m0:00:00\u001b[0m\n",
            "\u001b[?25hCollecting torchvision==0.19.0\n",
            "  Downloading https://download.pytorch.org/whl/cu121/torchvision-0.19.0%2Bcu121-cp312-cp312-linux_x86_64.whl (7.1 MB)\n",
            "\u001b[2K     \u001b[90m\u2501\u2501\u2501\u2501\u2501\u2501\u2501\u2501\u2501\u2501\u2501\u2501\u2501\u2501\u2501\u2501\u2501\u2501\u2501\u2501\u2501\u2501\u2501\u2501\u2501\u2501\u2501\u2501\u2501\u2501\u2501\u2501\u2501\u2501\u2501\u2501\u2501\u2501\u2501\u2501\u001b[0m \u001b[32m7.1/7.1 MB\u001b[0m \u001b[31m86.9 MB/s\u001b[0m eta \u001b[36m0:00:00\u001b[0m\n",
            "\u001b[?25hCollecting torchaudio==2.4.0\n",
            "  Downloading https://download.pytorch.org/whl/cu121/torchaudio-2.4.0%2Bcu121-cp312-cp312-linux_x86_64.whl (3.4 MB)\n",
            "\u001b[2K     \u001b[90m\u2501\u2501\u2501\u2501\u2501\u2501\u2501\u2501\u2501\u2501\u2501\u2501\u2501\u2501\u2501\u2501\u2501\u2501\u2501\u2501\u2501\u2501\u2501\u2501\u2501\u2501\u2501\u2501\u2501\u2501\u2501\u2501\u2501\u2501\u2501\u2501\u2501\u2501\u2501\u2501\u001b[0m \u001b[32m3.4/3.4 MB\u001b[0m \u001b[31m110.1 MB/s\u001b[0m eta \u001b[36m0:00:00\u001b[0m\n",
            "\u001b[?25hRequirement already satisfied: filelock in /usr/local/lib/python3.12/dist-packages (from torch==2.4.0) (3.19.1)\n",
            "Requirement already satisfied: typing-extensions>=4.8.0 in /usr/local/lib/python3.12/dist-packages (from torch==2.4.0) (4.15.0)\n",
            "Requirement already satisfied: sympy in /usr/local/lib/python3.12/dist-packages (from torch==2.4.0) (1.13.3)\n",
            "Requirement already satisfied: networkx in /usr/local/lib/python3.12/dist-packages (from torch==2.4.0) (3.5)\n",
            "Requirement already satisfied: jinja2 in /usr/local/lib/python3.12/dist-packages (from torch==2.4.0) (3.1.6)\n",
            "Requirement already satisfied: fsspec in /usr/local/lib/python3.12/dist-packages (from torch==2.4.0) (2023.10.0)\n",
            "Requirement already satisfied: setuptools in /usr/local/lib/python3.12/dist-packages (from torch==2.4.0) (75.2.0)\n",
            "Collecting nvidia-cuda-nvrtc-cu12==12.1.105 (from torch==2.4.0)\n",
            "  Downloading https://download.pytorch.org/whl/cu121/nvidia_cuda_nvrtc_cu12-12.1.105-py3-none-manylinux1_x86_64.whl (23.7 MB)\n",
            "\u001b[2K     \u001b[90m\u2501\u2501\u2501\u2501\u2501\u2501\u2501\u2501\u2501\u2501\u2501\u2501\u2501\u2501\u2501\u2501\u2501\u2501\u2501\u2501\u2501\u2501\u2501\u2501\u2501\u2501\u2501\u2501\u2501\u2501\u2501\u2501\u2501\u2501\u2501\u2501\u2501\u2501\u2501\u001b[0m \u001b[32m23.7/23.7 MB\u001b[0m \u001b[31m105.2 MB/s\u001b[0m eta \u001b[36m0:00:00\u001b[0m\n",
            "\u001b[?25hCollecting nvidia-cuda-runtime-cu12==12.1.105 (from torch==2.4.0)\n",
            "  Downloading https://download.pytorch.org/whl/cu121/nvidia_cuda_runtime_cu12-12.1.105-py3-none-manylinux1_x86_64.whl (823 kB)\n",
            "\u001b[2K     \u001b[90m\u2501\u2501\u2501\u2501\u2501\u2501\u2501\u2501\u2501\u2501\u2501\u2501\u2501\u2501\u2501\u2501\u2501\u2501\u2501\u2501\u2501\u2501\u2501\u2501\u2501\u2501\u2501\u2501\u2501\u2501\u2501\u2501\u2501\u2501\u2501\u2501\u2501\u2501\u001b[0m \u001b[32m823.6/823.6 kB\u001b[0m \u001b[31m59.6 MB/s\u001b[0m eta \u001b[36m0:00:00\u001b[0m\n",
            "\u001b[?25hCollecting nvidia-cuda-cupti-cu12==12.1.105 (from torch==2.4.0)\n",
            "  Downloading https://download.pytorch.org/whl/cu121/nvidia_cuda_cupti_cu12-12.1.105-py3-none-manylinux1_x86_64.whl (14.1 MB)\n",
            "\u001b[2K     \u001b[90m\u2501\u2501\u2501\u2501\u2501\u2501\u2501\u2501\u2501\u2501\u2501\u2501\u2501\u2501\u2501\u2501\u2501\u2501\u2501\u2501\u2501\u2501\u2501\u2501\u2501\u2501\u2501\u2501\u2501\u2501\u2501\u2501\u2501\u2501\u2501\u2501\u2501\u2501\u2501\u001b[0m \u001b[32m14.1/14.1 MB\u001b[0m \u001b[31m123.3 MB/s\u001b[0m eta \u001b[36m0:00:00\u001b[0m\n",
            "\u001b[?25hCollecting nvidia-cudnn-cu12==9.1.0.70 (from torch==2.4.0)\n",
            "  Downloading https://download.pytorch.org/whl/cu121/nvidia_cudnn_cu12-9.1.0.70-py3-none-manylinux2014_x86_64.whl (664.8 MB)\n",
            "\u001b[2K     \u001b[90m\u2501\u2501\u2501\u2501\u2501\u2501\u2501\u2501\u2501\u2501\u2501\u2501\u2501\u2501\u2501\u2501\u2501\u2501\u2501\u2501\u2501\u2501\u2501\u2501\u2501\u2501\u2501\u2501\u2501\u2501\u2501\u2501\u2501\u2501\u2501\u2501\u2501\u2501\u2501\u001b[0m \u001b[32m664.8/664.8 MB\u001b[0m \u001b[31m1.6 MB/s\u001b[0m eta \u001b[36m0:00:00\u001b[0m\n",
            "\u001b[?25hCollecting nvidia-cublas-cu12==12.1.3.1 (from torch==2.4.0)\n",
            "  Downloading https://download.pytorch.org/whl/cu121/nvidia_cublas_cu12-12.1.3.1-py3-none-manylinux1_x86_64.whl (410.6 MB)\n",
            "\u001b[2K     \u001b[90m\u2501\u2501\u2501\u2501\u2501\u2501\u2501\u2501\u2501\u2501\u2501\u2501\u2501\u2501\u2501\u2501\u2501\u2501\u2501\u2501\u2501\u2501\u2501\u2501\u2501\u2501\u2501\u2501\u2501\u2501\u2501\u2501\u2501\u2501\u2501\u2501\u2501\u2501\u2501\u001b[0m \u001b[32m410.6/410.6 MB\u001b[0m \u001b[31m2.2 MB/s\u001b[0m eta \u001b[36m0:00:00\u001b[0m\n",
            "\u001b[?25hCollecting nvidia-cufft-cu12==11.0.2.54 (from torch==2.4.0)\n",
            "  Downloading https://download.pytorch.org/whl/cu121/nvidia_cufft_cu12-11.0.2.54-py3-none-manylinux1_x86_64.whl (121.6 MB)\n",
            "\u001b[2K     \u001b[90m\u2501\u2501\u2501\u2501\u2501\u2501\u2501\u2501\u2501\u2501\u2501\u2501\u2501\u2501\u2501\u2501\u2501\u2501\u2501\u2501\u2501\u2501\u2501\u2501\u2501\u2501\u2501\u2501\u2501\u2501\u2501\u2501\u2501\u2501\u2501\u2501\u2501\u2501\u001b[0m \u001b[32m121.6/121.6 MB\u001b[0m \u001b[31m17.4 MB/s\u001b[0m eta \u001b[36m0:00:00\u001b[0m\n",
            "\u001b[?25hCollecting nvidia-curand-cu12==10.3.2.106 (from torch==2.4.0)\n",
            "  Downloading https://download.pytorch.org/whl/cu121/nvidia_curand_cu12-10.3.2.106-py3-none-manylinux1_x86_64.whl (56.5 MB)\n",
            "\u001b[2K     \u001b[90m\u2501\u2501\u2501\u2501\u2501\u2501\u2501\u2501\u2501\u2501\u2501\u2501\u2501\u2501\u2501\u2501\u2501\u2501\u2501\u2501\u2501\u2501\u2501\u2501\u2501\u2501\u2501\u2501\u2501\u2501\u2501\u2501\u2501\u2501\u2501\u2501\u2501\u2501\u2501\u2501\u001b[0m \u001b[32m56.5/56.5 MB\u001b[0m \u001b[31m14.1 MB/s\u001b[0m eta \u001b[36m0:00:00\u001b[0m\n",
            "\u001b[?25hCollecting nvidia-cusolver-cu12==11.4.5.107 (from torch==2.4.0)\n",
            "  Downloading https://download.pytorch.org/whl/cu121/nvidia_cusolver_cu12-11.4.5.107-py3-none-manylinux1_x86_64.whl (124.2 MB)\n",
            "\u001b[2K     \u001b[90m\u2501\u2501\u2501\u2501\u2501\u2501\u2501\u2501\u2501\u2501\u2501\u2501\u2501\u2501\u2501\u2501\u2501\u2501\u2501\u2501\u2501\u2501\u2501\u2501\u2501\u2501\u2501\u2501\u2501\u2501\u2501\u2501\u2501\u2501\u2501\u2501\u2501\u2501\u001b[0m \u001b[32m124.2/124.2 MB\u001b[0m \u001b[31m17.2 MB/s\u001b[0m eta \u001b[36m0:00:00\u001b[0m\n",
            "\u001b[?25hCollecting nvidia-cusparse-cu12==12.1.0.106 (from torch==2.4.0)\n",
            "  Downloading https://download.pytorch.org/whl/cu121/nvidia_cusparse_cu12-12.1.0.106-py3-none-manylinux1_x86_64.whl (196.0 MB)\n",
            "\u001b[2K     \u001b[90m\u2501\u2501\u2501\u2501\u2501\u2501\u2501\u2501\u2501\u2501\u2501\u2501\u2501\u2501\u2501\u2501\u2501\u2501\u2501\u2501\u2501\u2501\u2501\u2501\u2501\u2501\u2501\u2501\u2501\u2501\u2501\u2501\u2501\u2501\u2501\u2501\u2501\u2501\u2501\u001b[0m \u001b[32m196.0/196.0 MB\u001b[0m \u001b[31m5.3 MB/s\u001b[0m eta \u001b[36m0:00:00\u001b[0m\n",
            "\u001b[?25hCollecting nvidia-nccl-cu12==2.20.5 (from torch==2.4.0)\n",
            "  Downloading https://download.pytorch.org/whl/cu121/nvidia_nccl_cu12-2.20.5-py3-none-manylinux2014_x86_64.whl (176.2 MB)\n",
            "\u001b[2K     \u001b[90m\u2501\u2501\u2501\u2501\u2501\u2501\u2501\u2501\u2501\u2501\u2501\u2501\u2501\u2501\u2501\u2501\u2501\u2501\u2501\u2501\u2501\u2501\u2501\u2501\u2501\u2501\u2501\u2501\u2501\u2501\u2501\u2501\u2501\u2501\u2501\u2501\u2501\u2501\u2501\u001b[0m \u001b[32m176.2/176.2 MB\u001b[0m \u001b[31m4.3 MB/s\u001b[0m eta \u001b[36m0:00:00\u001b[0m\n",
            "\u001b[?25hCollecting nvidia-nvtx-cu12==12.1.105 (from torch==2.4.0)\n",
            "  Downloading https://download.pytorch.org/whl/cu121/nvidia_nvtx_cu12-12.1.105-py3-none-manylinux1_x86_64.whl (99 kB)\n",
            "\u001b[2K     \u001b[90m\u2501\u2501\u2501\u2501\u2501\u2501\u2501\u2501\u2501\u2501\u2501\u2501\u2501\u2501\u2501\u2501\u2501\u2501\u2501\u2501\u2501\u2501\u2501\u2501\u2501\u2501\u2501\u2501\u2501\u2501\u2501\u2501\u2501\u2501\u2501\u2501\u2501\u2501\u2501\u2501\u001b[0m \u001b[32m99.1/99.1 kB\u001b[0m \u001b[31m10.5 MB/s\u001b[0m eta \u001b[36m0:00:00\u001b[0m\n",
            "\u001b[?25hCollecting triton==3.0.0 (from torch==2.4.0)\n",
            "  Downloading https://download.pytorch.org/whl/triton-3.0.0-1-cp312-cp312-manylinux2014_x86_64.manylinux_2_17_x86_64.whl (209.5 MB)\n",
            "\u001b[2K     \u001b[90m\u2501\u2501\u2501\u2501\u2501\u2501\u2501\u2501\u2501\u2501\u2501\u2501\u2501\u2501\u2501\u2501\u2501\u2501\u2501\u2501\u2501\u2501\u2501\u2501\u2501\u2501\u2501\u2501\u2501\u2501\u2501\u2501\u2501\u2501\u2501\u2501\u2501\u2501\u2501\u001b[0m \u001b[32m209.5/209.5 MB\u001b[0m \u001b[31m3.9 MB/s\u001b[0m eta \u001b[36m0:00:00\u001b[0m\n",
            "\u001b[?25hRequirement already satisfied: numpy in /usr/local/lib/python3.12/dist-packages (from torchvision==0.19.0) (2.0.2)\n",
            "Requirement already satisfied: pillow!=8.3.*,>=5.3.0 in /usr/local/lib/python3.12/dist-packages (from torchvision==0.19.0) (11.3.0)\n",
            "Requirement already satisfied: nvidia-nvjitlink-cu12 in /usr/local/lib/python3.12/dist-packages (from nvidia-cusolver-cu12==11.4.5.107->torch==2.4.0) (12.6.85)\n",
            "Requirement already satisfied: MarkupSafe>=2.0 in /usr/local/lib/python3.12/dist-packages (from jinja2->torch==2.4.0) (3.0.2)\n",
            "Requirement already satisfied: mpmath<1.4,>=1.1.0 in /usr/local/lib/python3.12/dist-packages (from sympy->torch==2.4.0) (1.3.0)\n",
            "Installing collected packages: triton, nvidia-nvtx-cu12, nvidia-nccl-cu12, nvidia-cusparse-cu12, nvidia-curand-cu12, nvidia-cufft-cu12, nvidia-cuda-runtime-cu12, nvidia-cuda-nvrtc-cu12, nvidia-cuda-cupti-cu12, nvidia-cublas-cu12, nvidia-cusolver-cu12, nvidia-cudnn-cu12, torch, torchvision, torchaudio\n",
            "  Attempting uninstall: triton\n",
            "    Found existing installation: triton 3.4.0\n",
            "    Uninstalling triton-3.4.0:\n",
            "      Successfully uninstalled triton-3.4.0\n",
            "  Attempting uninstall: nvidia-nvtx-cu12\n",
            "    Found existing installation: nvidia-nvtx-cu12 12.6.77\n",
            "    Uninstalling nvidia-nvtx-cu12-12.6.77:\n",
            "      Successfully uninstalled nvidia-nvtx-cu12-12.6.77\n",
            "  Attempting uninstall: nvidia-nccl-cu12\n",
            "    Found existing installation: nvidia-nccl-cu12 2.27.3\n",
            "    Uninstalling nvidia-nccl-cu12-2.27.3:\n",
            "      Successfully uninstalled nvidia-nccl-cu12-2.27.3\n",
            "  Attempting uninstall: nvidia-cusparse-cu12\n",
            "    Found existing installation: nvidia-cusparse-cu12 12.5.4.2\n",
            "    Uninstalling nvidia-cusparse-cu12-12.5.4.2:\n",
            "      Successfully uninstalled nvidia-cusparse-cu12-12.5.4.2\n",
            "  Attempting uninstall: nvidia-curand-cu12\n",
            "    Found existing installation: nvidia-curand-cu12 10.3.7.77\n",
            "    Uninstalling nvidia-curand-cu12-10.3.7.77:\n",
            "      Successfully uninstalled nvidia-curand-cu12-10.3.7.77\n",
            "  Attempting uninstall: nvidia-cufft-cu12\n",
            "    Found existing installation: nvidia-cufft-cu12 11.3.0.4\n",
            "    Uninstalling nvidia-cufft-cu12-11.3.0.4:\n",
            "      Successfully uninstalled nvidia-cufft-cu12-11.3.0.4\n",
            "  Attempting uninstall: nvidia-cuda-runtime-cu12\n",
            "    Found existing installation: nvidia-cuda-runtime-cu12 12.6.77\n",
            "    Uninstalling nvidia-cuda-runtime-cu12-12.6.77:\n",
            "      Successfully uninstalled nvidia-cuda-runtime-cu12-12.6.77\n",
            "  Attempting uninstall: nvidia-cuda-nvrtc-cu12\n",
            "    Found existing installation: nvidia-cuda-nvrtc-cu12 12.6.77\n",
            "    Uninstalling nvidia-cuda-nvrtc-cu12-12.6.77:\n",
            "      Successfully uninstalled nvidia-cuda-nvrtc-cu12-12.6.77\n",
            "  Attempting uninstall: nvidia-cuda-cupti-cu12\n",
            "    Found existing installation: nvidia-cuda-cupti-cu12 12.6.80\n",
            "    Uninstalling nvidia-cuda-cupti-cu12-12.6.80:\n",
            "      Successfully uninstalled nvidia-cuda-cupti-cu12-12.6.80\n",
            "  Attempting uninstall: nvidia-cublas-cu12\n",
            "    Found existing installation: nvidia-cublas-cu12 12.6.4.1\n",
            "    Uninstalling nvidia-cublas-cu12-12.6.4.1:\n",
            "      Successfully uninstalled nvidia-cublas-cu12-12.6.4.1\n",
            "  Attempting uninstall: nvidia-cusolver-cu12\n",
            "    Found existing installation: nvidia-cusolver-cu12 11.7.1.2\n",
            "    Uninstalling nvidia-cusolver-cu12-11.7.1.2:\n",
            "      Successfully uninstalled nvidia-cusolver-cu12-11.7.1.2\n",
            "  Attempting uninstall: nvidia-cudnn-cu12\n",
            "    Found existing installation: nvidia-cudnn-cu12 9.10.2.21\n",
            "    Uninstalling nvidia-cudnn-cu12-9.10.2.21:\n",
            "      Successfully uninstalled nvidia-cudnn-cu12-9.10.2.21\n",
            "  Attempting uninstall: torch\n",
            "    Found existing installation: torch 2.8.0+cu126\n",
            "    Uninstalling torch-2.8.0+cu126:\n",
            "      Successfully uninstalled torch-2.8.0+cu126\n",
            "  Attempting uninstall: torchvision\n",
            "    Found existing installation: torchvision 0.23.0+cu126\n",
            "    Uninstalling torchvision-0.23.0+cu126:\n",
            "      Successfully uninstalled torchvision-0.23.0+cu126\n",
            "  Attempting uninstall: torchaudio\n",
            "    Found existing installation: torchaudio 2.8.0+cu126\n",
            "    Uninstalling torchaudio-2.8.0+cu126:\n",
            "      Successfully uninstalled torchaudio-2.8.0+cu126\n",
            "\u001b[31mERROR: pip's dependency resolver does not currently take into account all the packages that are installed. This behaviour is the source of the following dependency conflicts.\n",
            "peft 0.17.1 requires huggingface_hub>=0.25.0, but you have huggingface-hub 0.20.0 which is incompatible.\n",
            "accelerate 1.10.1 requires huggingface_hub>=0.21.0, but you have huggingface-hub 0.20.0 which is incompatible.\u001b[0m\u001b[31m\n",
            "\u001b[0mSuccessfully installed nvidia-cublas-cu12-12.1.3.1 nvidia-cuda-cupti-cu12-12.1.105 nvidia-cuda-nvrtc-cu12-12.1.105 nvidia-cuda-runtime-cu12-12.1.105 nvidia-cudnn-cu12-9.1.0.70 nvidia-cufft-cu12-11.0.2.54 nvidia-curand-cu12-10.3.2.106 nvidia-cusolver-cu12-11.4.5.107 nvidia-cusparse-cu12-12.1.0.106 nvidia-nccl-cu12-2.20.5 nvidia-nvtx-cu12-12.1.105 torch-2.4.0+cu121 torchaudio-2.4.0+cu121 torchvision-0.19.0+cu121 triton-3.0.0\n",
            "Collecting causal-conv1d==1.4.0\n",
            "  Downloading causal_conv1d-1.4.0.tar.gz (9.3 kB)\n",
            "  Preparing metadata (setup.py) ... \u001b[?25l\u001b[?25hdone\n",
            "Requirement already satisfied: torch in /usr/local/lib/python3.12/dist-packages (from causal-conv1d==1.4.0) (2.4.0+cu121)\n",
            "Requirement already satisfied: packaging in /usr/local/lib/python3.12/dist-packages (from causal-conv1d==1.4.0) (25.0)\n",
            "Collecting ninja (from causal-conv1d==1.4.0)\n",
            "  Downloading ninja-1.13.0-py3-none-manylinux2014_x86_64.manylinux_2_17_x86_64.whl.metadata (5.1 kB)\n",
            "Requirement already satisfied: filelock in /usr/local/lib/python3.12/dist-packages (from torch->causal-conv1d==1.4.0) (3.19.1)\n",
            "Requirement already satisfied: typing-extensions>=4.8.0 in /usr/local/lib/python3.12/dist-packages (from torch->causal-conv1d==1.4.0) (4.15.0)\n",
            "Requirement already satisfied: sympy in /usr/local/lib/python3.12/dist-packages (from torch->causal-conv1d==1.4.0) (1.13.3)\n",
            "Requirement already satisfied: networkx in /usr/local/lib/python3.12/dist-packages (from torch->causal-conv1d==1.4.0) (3.5)\n",
            "Requirement already satisfied: jinja2 in /usr/local/lib/python3.12/dist-packages (from torch->causal-conv1d==1.4.0) (3.1.6)\n",
            "Requirement already satisfied: fsspec in /usr/local/lib/python3.12/dist-packages (from torch->causal-conv1d==1.4.0) (2023.10.0)\n",
            "Requirement already satisfied: setuptools in /usr/local/lib/python3.12/dist-packages (from torch->causal-conv1d==1.4.0) (75.2.0)\n",
            "Requirement already satisfied: nvidia-cuda-nvrtc-cu12==12.1.105 in /usr/local/lib/python3.12/dist-packages (from torch->causal-conv1d==1.4.0) (12.1.105)\n",
            "Requirement already satisfied: nvidia-cuda-runtime-cu12==12.1.105 in /usr/local/lib/python3.12/dist-packages (from torch->causal-conv1d==1.4.0) (12.1.105)\n",
            "Requirement already satisfied: nvidia-cuda-cupti-cu12==12.1.105 in /usr/local/lib/python3.12/dist-packages (from torch->causal-conv1d==1.4.0) (12.1.105)\n",
            "Requirement already satisfied: nvidia-cudnn-cu12==9.1.0.70 in /usr/local/lib/python3.12/dist-packages (from torch->causal-conv1d==1.4.0) (9.1.0.70)\n",
            "Requirement already satisfied: nvidia-cublas-cu12==12.1.3.1 in /usr/local/lib/python3.12/dist-packages (from torch->causal-conv1d==1.4.0) (12.1.3.1)\n",
            "Requirement already satisfied: nvidia-cufft-cu12==11.0.2.54 in /usr/local/lib/python3.12/dist-packages (from torch->causal-conv1d==1.4.0) (11.0.2.54)\n",
            "Requirement already satisfied: nvidia-curand-cu12==10.3.2.106 in /usr/local/lib/python3.12/dist-packages (from torch->causal-conv1d==1.4.0) (10.3.2.106)\n",
            "Requirement already satisfied: nvidia-cusolver-cu12==11.4.5.107 in /usr/local/lib/python3.12/dist-packages (from torch->causal-conv1d==1.4.0) (11.4.5.107)\n",
            "Requirement already satisfied: nvidia-cusparse-cu12==12.1.0.106 in /usr/local/lib/python3.12/dist-packages (from torch->causal-conv1d==1.4.0) (12.1.0.106)\n",
            "Requirement already satisfied: nvidia-nccl-cu12==2.20.5 in /usr/local/lib/python3.12/dist-packages (from torch->causal-conv1d==1.4.0) (2.20.5)\n",
            "Requirement already satisfied: nvidia-nvtx-cu12==12.1.105 in /usr/local/lib/python3.12/dist-packages (from torch->causal-conv1d==1.4.0) (12.1.105)\n",
            "Requirement already satisfied: triton==3.0.0 in /usr/local/lib/python3.12/dist-packages (from torch->causal-conv1d==1.4.0) (3.0.0)\n",
            "Requirement already satisfied: nvidia-nvjitlink-cu12 in /usr/local/lib/python3.12/dist-packages (from nvidia-cusolver-cu12==11.4.5.107->torch->causal-conv1d==1.4.0) (12.6.85)\n",
            "Requirement already satisfied: MarkupSafe>=2.0 in /usr/local/lib/python3.12/dist-packages (from jinja2->torch->causal-conv1d==1.4.0) (3.0.2)\n",
            "Requirement already satisfied: mpmath<1.4,>=1.1.0 in /usr/local/lib/python3.12/dist-packages (from sympy->torch->causal-conv1d==1.4.0) (1.3.0)\n",
            "Downloading ninja-1.13.0-py3-none-manylinux2014_x86_64.manylinux_2_17_x86_64.whl (180 kB)\n",
            "\u001b[2K   \u001b[90m\u2501\u2501\u2501\u2501\u2501\u2501\u2501\u2501\u2501\u2501\u2501\u2501\u2501\u2501\u2501\u2501\u2501\u2501\u2501\u2501\u2501\u2501\u2501\u2501\u2501\u2501\u2501\u2501\u2501\u2501\u2501\u2501\u2501\u2501\u2501\u2501\u2501\u2501\u2501\u2501\u001b[0m \u001b[32m180.7/180.7 kB\u001b[0m \u001b[31m6.1 MB/s\u001b[0m eta \u001b[36m0:00:00\u001b[0m\n",
            "\u001b[?25hBuilding wheels for collected packages: causal-conv1d\n",
            "  Building wheel for causal-conv1d (setup.py) ... \u001b[?25l\u001b[?25hdone\n",
            "  Created wheel for causal-conv1d: filename=causal_conv1d-1.4.0-cp312-cp312-linux_x86_64.whl size=104884589 sha256=70c6d91d00c625d750b83c9c4bdd0bd395c61aff9baa8c0d58e0a33dabbe3b4e\n",
            "  Stored in directory: /root/.cache/pip/wheels/3a/bd/04/a4893fd5ad69a02f55b49f04dc1dbbd7c439332db7895f62ff\n",
            "Successfully built causal-conv1d\n",
            "Installing collected packages: ninja, causal-conv1d\n",
            "Successfully installed causal-conv1d-1.4.0 ninja-1.13.0\n",
            "Collecting mamba-ssm==2.2.2\n",
            "  Downloading mamba_ssm-2.2.2.tar.gz (85 kB)\n",
            "\u001b[2K     \u001b[90m\u2501\u2501\u2501\u2501\u2501\u2501\u2501\u2501\u2501\u2501\u2501\u2501\u2501\u2501\u2501\u2501\u2501\u2501\u2501\u2501\u2501\u2501\u2501\u2501\u2501\u2501\u2501\u2501\u2501\u2501\u2501\u2501\u2501\u2501\u2501\u2501\u2501\u2501\u2501\u2501\u001b[0m \u001b[32m85.4/85.4 kB\u001b[0m \u001b[31m3.6 MB/s\u001b[0m eta \u001b[36m0:00:00\u001b[0m\n",
            "\u001b[?25h  Preparing metadata (setup.py) ... \u001b[?25l\u001b[?25hdone\n",
            "Requirement already satisfied: torch in /usr/local/lib/python3.12/dist-packages (from mamba-ssm==2.2.2) (2.4.0+cu121)\n",
            "Requirement already satisfied: packaging in /usr/local/lib/python3.12/dist-packages (from mamba-ssm==2.2.2) (25.0)\n",
            "Requirement already satisfied: ninja in /usr/local/lib/python3.12/dist-packages (from mamba-ssm==2.2.2) (1.13.0)\n",
            "Requirement already satisfied: einops in /usr/local/lib/python3.12/dist-packages (from mamba-ssm==2.2.2) (0.8.1)\n",
            "Requirement already satisfied: triton in /usr/local/lib/python3.12/dist-packages (from mamba-ssm==2.2.2) (3.0.0)\n",
            "Requirement already satisfied: transformers in /usr/local/lib/python3.12/dist-packages (from mamba-ssm==2.2.2) (4.56.1)\n",
            "Requirement already satisfied: filelock in /usr/local/lib/python3.12/dist-packages (from torch->mamba-ssm==2.2.2) (3.19.1)\n",
            "Requirement already satisfied: typing-extensions>=4.8.0 in /usr/local/lib/python3.12/dist-packages (from torch->mamba-ssm==2.2.2) (4.15.0)\n",
            "Requirement already satisfied: sympy in /usr/local/lib/python3.12/dist-packages (from torch->mamba-ssm==2.2.2) (1.13.3)\n",
            "Requirement already satisfied: networkx in /usr/local/lib/python3.12/dist-packages (from torch->mamba-ssm==2.2.2) (3.5)\n",
            "Requirement already satisfied: jinja2 in /usr/local/lib/python3.12/dist-packages (from torch->mamba-ssm==2.2.2) (3.1.6)\n",
            "Requirement already satisfied: fsspec in /usr/local/lib/python3.12/dist-packages (from torch->mamba-ssm==2.2.2) (2023.10.0)\n",
            "Requirement already satisfied: setuptools in /usr/local/lib/python3.12/dist-packages (from torch->mamba-ssm==2.2.2) (75.2.0)\n",
            "Requirement already satisfied: nvidia-cuda-nvrtc-cu12==12.1.105 in /usr/local/lib/python3.12/dist-packages (from torch->mamba-ssm==2.2.2) (12.1.105)\n",
            "Requirement already satisfied: nvidia-cuda-runtime-cu12==12.1.105 in /usr/local/lib/python3.12/dist-packages (from torch->mamba-ssm==2.2.2) (12.1.105)\n",
            "Requirement already satisfied: nvidia-cuda-cupti-cu12==12.1.105 in /usr/local/lib/python3.12/dist-packages (from torch->mamba-ssm==2.2.2) (12.1.105)\n",
            "Requirement already satisfied: nvidia-cudnn-cu12==9.1.0.70 in /usr/local/lib/python3.12/dist-packages (from torch->mamba-ssm==2.2.2) (9.1.0.70)\n",
            "Requirement already satisfied: nvidia-cublas-cu12==12.1.3.1 in /usr/local/lib/python3.12/dist-packages (from torch->mamba-ssm==2.2.2) (12.1.3.1)\n",
            "Requirement already satisfied: nvidia-cufft-cu12==11.0.2.54 in /usr/local/lib/python3.12/dist-packages (from torch->mamba-ssm==2.2.2) (11.0.2.54)\n",
            "Requirement already satisfied: nvidia-curand-cu12==10.3.2.106 in /usr/local/lib/python3.12/dist-packages (from torch->mamba-ssm==2.2.2) (10.3.2.106)\n",
            "Requirement already satisfied: nvidia-cusolver-cu12==11.4.5.107 in /usr/local/lib/python3.12/dist-packages (from torch->mamba-ssm==2.2.2) (11.4.5.107)\n",
            "Requirement already satisfied: nvidia-cusparse-cu12==12.1.0.106 in /usr/local/lib/python3.12/dist-packages (from torch->mamba-ssm==2.2.2) (12.1.0.106)\n",
            "Requirement already satisfied: nvidia-nccl-cu12==2.20.5 in /usr/local/lib/python3.12/dist-packages (from torch->mamba-ssm==2.2.2) (2.20.5)\n",
            "Requirement already satisfied: nvidia-nvtx-cu12==12.1.105 in /usr/local/lib/python3.12/dist-packages (from torch->mamba-ssm==2.2.2) (12.1.105)\n",
            "Requirement already satisfied: nvidia-nvjitlink-cu12 in /usr/local/lib/python3.12/dist-packages (from nvidia-cusolver-cu12==11.4.5.107->torch->mamba-ssm==2.2.2) (12.6.85)\n",
            "Collecting huggingface-hub<1.0,>=0.34.0 (from transformers->mamba-ssm==2.2.2)\n",
            "  Downloading huggingface_hub-0.34.4-py3-none-any.whl.metadata (14 kB)\n",
            "Requirement already satisfied: numpy>=1.17 in /usr/local/lib/python3.12/dist-packages (from transformers->mamba-ssm==2.2.2) (2.0.2)\n",
            "Requirement already satisfied: pyyaml>=5.1 in /usr/local/lib/python3.12/dist-packages (from transformers->mamba-ssm==2.2.2) (6.0.2)\n",
            "Requirement already satisfied: regex!=2019.12.17 in /usr/local/lib/python3.12/dist-packages (from transformers->mamba-ssm==2.2.2) (2024.11.6)\n",
            "Requirement already satisfied: requests in /usr/local/lib/python3.12/dist-packages (from transformers->mamba-ssm==2.2.2) (2.32.4)\n",
            "Requirement already satisfied: tokenizers<=0.23.0,>=0.22.0 in /usr/local/lib/python3.12/dist-packages (from transformers->mamba-ssm==2.2.2) (0.22.0)\n",
            "Requirement already satisfied: safetensors>=0.4.3 in /usr/local/lib/python3.12/dist-packages (from transformers->mamba-ssm==2.2.2) (0.6.2)\n",
            "Requirement already satisfied: tqdm>=4.27 in /usr/local/lib/python3.12/dist-packages (from transformers->mamba-ssm==2.2.2) (4.67.1)\n",
            "Requirement already satisfied: hf-xet<2.0.0,>=1.1.3 in /usr/local/lib/python3.12/dist-packages (from huggingface-hub<1.0,>=0.34.0->transformers->mamba-ssm==2.2.2) (1.1.9)\n",
            "Requirement already satisfied: MarkupSafe>=2.0 in /usr/local/lib/python3.12/dist-packages (from jinja2->torch->mamba-ssm==2.2.2) (3.0.2)\n",
            "Requirement already satisfied: charset_normalizer<4,>=2 in /usr/local/lib/python3.12/dist-packages (from requests->transformers->mamba-ssm==2.2.2) (3.4.3)\n",
            "Requirement already satisfied: idna<4,>=2.5 in /usr/local/lib/python3.12/dist-packages (from requests->transformers->mamba-ssm==2.2.2) (3.10)\n",
            "Requirement already satisfied: urllib3<3,>=1.21.1 in /usr/local/lib/python3.12/dist-packages (from requests->transformers->mamba-ssm==2.2.2) (2.5.0)\n",
            "Requirement already satisfied: certifi>=2017.4.17 in /usr/local/lib/python3.12/dist-packages (from requests->transformers->mamba-ssm==2.2.2) (2025.8.3)\n",
            "Requirement already satisfied: mpmath<1.4,>=1.1.0 in /usr/local/lib/python3.12/dist-packages (from sympy->torch->mamba-ssm==2.2.2) (1.3.0)\n",
            "Downloading huggingface_hub-0.34.4-py3-none-any.whl (561 kB)\n",
            "\u001b[2K   \u001b[90m\u2501\u2501\u2501\u2501\u2501\u2501\u2501\u2501\u2501\u2501\u2501\u2501\u2501\u2501\u2501\u2501\u2501\u2501\u2501\u2501\u2501\u2501\u2501\u2501\u2501\u2501\u2501\u2501\u2501\u2501\u2501\u2501\u2501\u2501\u2501\u2501\u2501\u2501\u2501\u2501\u001b[0m \u001b[32m561.5/561.5 kB\u001b[0m \u001b[31m1.6 MB/s\u001b[0m eta \u001b[36m0:00:00\u001b[0m\n",
            "\u001b[?25hBuilding wheels for collected packages: mamba-ssm\n",
            "  Building wheel for mamba-ssm (setup.py) ... \u001b[?25l\u001b[?25hdone\n",
            "  Created wheel for mamba-ssm: filename=mamba_ssm-2.2.2-cp312-cp312-linux_x86_64.whl size=324005633 sha256=f4cf06585ac28c783dbe6fe357c64218415af3665c3c06106be8f86dab69b2a8\n",
            "  Stored in directory: /root/.cache/pip/wheels/5f/b8/99/4112d82fe2a9458dd194c3ff54c43a14a8594c8f90cf16046f\n",
            "Successfully built mamba-ssm\n",
            "Installing collected packages: huggingface-hub, mamba-ssm\n",
            "  Attempting uninstall: huggingface-hub\n",
            "    Found existing installation: huggingface-hub 0.20.0\n",
            "    Uninstalling huggingface-hub-0.20.0:\n",
            "      Successfully uninstalled huggingface-hub-0.20.0\n",
            "Successfully installed huggingface-hub-0.34.4 mamba-ssm-2.2.2\n"
          ]
        }
      ],
      "source": [
        "#!pip install -U datasets\n",
        "!pip install datasets==2.16.0\n",
        "!pip install huggingface-hub==0.20.0\n",
        "!apt-get install -y libsox-dev\n",
        "!pip install torch==2.4.0 torchvision==0.19.0 torchaudio==2.4.0 --index-url https://download.pytorch.org/whl/cu121\n",
        "!pip install causal-conv1d==1.4.0 && pip install mamba-ssm==2.2.2"
      ]
    },
    {
      "cell_type": "code",
      "source": [
        "# Keyword\u2011Spotting with Mamba SSM\n",
        "# ------------------------------------------------\n",
        "# 1. Uses Mamba state\u2011space blocks instead of a CNN.\n",
        "# 2. Maintains separate front\u2011ends for train vs. eval (no masks in eval).\n",
        "# 3. Handles variable\u2011length sequences with a custom `collate_fn` (pads \u201380\u202fdB).\n",
        "# 4. One\u2011Cycle LR scheduler stepped correctly each batch.\n",
        "# 5. Saves best + final checkpoints to Google\u00a0Drive.\n",
        "\n",
        "\n",
        "from __future__ import annotations\n",
        "import json, os, random\n",
        "from pathlib import Path\n",
        "from typing import Tuple, Dict\n",
        "import torch, torchaudio\n",
        "import torch.nn as nn\n",
        "import os\n",
        "import math\n",
        "import torch.nn.functional as F\n",
        "import torchvision.models as tvm\n",
        "import torchaudio.transforms as T\n",
        "from torch.utils.data import Dataset, DataLoader\n",
        "from datasets import load_dataset\n",
        "from tqdm.notebook import tqdm\n",
        "from mamba_ssm import Mamba\n",
        "\n",
        "from google.colab import drive\n",
        "drive.mount('/content/drive')"
      ],
      "metadata": {
        "colab": {
          "base_uri": "https://localhost:8080/"
        },
        "collapsed": true,
        "id": "vVGJGcPH9Xdt",
        "outputId": "084e1434-2bd8-44d9-e471-67d272264faa"
      },
      "execution_count": null,
      "outputs": [
        {
          "output_type": "stream",
          "name": "stdout",
          "text": [
            "Mounted at /content/drive\n"
          ]
        }
      ]
    },
    {
      "cell_type": "code",
      "source": [
        "# ---------------------------------------------------------------------\n",
        "# 2. Waveform-level augmentation (shift + noise)\n",
        "# ---------------------------------------------------------------------\n",
        "class WaveToSpec:\n",
        "    def __init__(self,\n",
        "                 feature_type: str = \"mel\",\n",
        "                 sample_rate: int = 16_000,\n",
        "                 n_fft: int = 2048,\n",
        "                 hop_length: int = 256,\n",
        "                 n_mels: int = 128,\n",
        "                 n_mfcc: int = 40,\n",
        "                 top_db: int | None = 80,\n",
        "                 apply_mask: bool = True,\n",
        "                 freq_mask_param: int = 15,\n",
        "                 time_mask_param: int = 10):\n",
        "        self.feature_type = feature_type.lower(); assert self.feature_type in {\"mel\",\"mfcc\"}\n",
        "        self.apply_mask = apply_mask and self.feature_type == \"mel\"\n",
        "\n",
        "        if self.feature_type == \"mel\":\n",
        "            self.spec = T.MelSpectrogram(sample_rate, n_fft, hop_length, n_mels, power=2)\n",
        "            self.to_db = T.AmplitudeToDB(stype=\"power\", top_db=top_db)\n",
        "            if self.apply_mask:\n",
        "                self.freq_mask = T.FrequencyMasking(freq_mask_param)\n",
        "                self.time_mask = T.TimeMasking(time_mask_param)\n",
        "        else:\n",
        "            self.spec = T.MFCC(sample_rate, n_mfcc,\n",
        "                                melkwargs=dict(n_fft=n_fft, hop_length=hop_length, n_mels=n_mels))\n",
        "            self.to_db = None\n",
        "            self.freq_mask = self.time_mask = None\n",
        "\n",
        "    def __call__(self, wav: torch.Tensor) -> torch.Tensor:\n",
        "        if wav.dim() == 1:\n",
        "            wav = wav.unsqueeze(0)\n",
        "        feats = self.spec(wav)\n",
        "        if self.to_db is not None:\n",
        "            feats = self.to_db(feats.clamp(min=1e-10))\n",
        "        if self.apply_mask:\n",
        "            # stronger SpecAugment \u2014 apply two freq & two time masks\n",
        "            feats = self.freq_mask(feats); feats = self.time_mask(feats)\n",
        "            feats = self.freq_mask(feats); feats = self.time_mask(feats)\n",
        "        return feats\n",
        "\n",
        "class Augment:\n",
        "    def __init__(self, stretch: Tuple[float,float]=(1.0,1.0),\n",
        "                 shift_ms: int = 100,\n",
        "                 noise: Tuple[float,float]=(0.,0.005),\n",
        "                 sr: int = 16_000):\n",
        "        self.stretch = stretch\n",
        "        self.shift   = int(shift_ms * sr / 1000)\n",
        "        self.noise   = noise\n",
        "        self.sr      = sr\n",
        "\n",
        "    def _shift(self, x: torch.Tensor):\n",
        "        if self.shift == 0:\n",
        "            return x\n",
        "        s = int(torch.randint(-self.shift, self.shift + 1, ()).item())\n",
        "        if s == 0:\n",
        "            return x\n",
        "        return (F.pad(x, (s, 0))[:, :-s] if s > 0 else F.pad(x, (0, -s))[:, -s:])\n",
        "\n",
        "    def __call__(self, wav: torch.Tensor):\n",
        "        squeezed = False\n",
        "        if wav.dim() == 1:\n",
        "            wav = wav.unsqueeze(0)\n",
        "            squeezed = True\n",
        "        if self.stretch != (1.0, 1.0):\n",
        "            factor = float(torch.empty(()).uniform_(*self.stretch))\n",
        "            if abs(factor - 1.0) > 1e-3:\n",
        "                wav, _ = torchaudio.sox_effects.apply_effects_tensor(\n",
        "                    wav, self.sr, [[\"tempo\", f\"{factor}\"]]\n",
        "                )\n",
        "        wav = self._shift(wav)\n",
        "        if self.noise[1] > 0:\n",
        "            sigma = float(torch.empty(()).uniform_(*self.noise))\n",
        "            if sigma > 0:\n",
        "                wav = wav + sigma * torch.randn_like(wav)\n",
        "        return wav.squeeze(0) if squeezed else wav"
      ],
      "metadata": {
        "id": "SNS1FZs59YFq"
      },
      "execution_count": null,
      "outputs": []
    },
    {
      "cell_type": "code",
      "source": [
        "# ---------------------------------------------------------------------\n",
        "# 3. Dataset wrapper with dataset-level normalization\n",
        "# ---------------------------------------------------------------------\n",
        "class SpeechCommands(Dataset):\n",
        "    def __init__(self, hf_split, aug: Augment | None, frontend: WaveToSpec,\n",
        "                 wav_len: int = 16_000, mean: float = 0.0, std: float = 1.0):\n",
        "        self.ds, self.aug, self.front = hf_split, aug, frontend\n",
        "        self.wav_len = wav_len\n",
        "        self.mean = mean\n",
        "        self.std = std\n",
        "\n",
        "    def __len__(self):\n",
        "        return len(self.ds)\n",
        "\n",
        "    def __getitem__(self, idx):\n",
        "        sample = self.ds[idx]\n",
        "        wav = torch.from_numpy(sample[\"audio\"][\"array\"]).float()\n",
        "\n",
        "        if wav.numel() < self.wav_len:\n",
        "            wav = F.pad(wav, (0, self.wav_len - wav.numel()))\n",
        "        else:\n",
        "            wav = wav[: self.wav_len]\n",
        "\n",
        "        if self.aug:\n",
        "            wav = self.aug(wav)\n",
        "        feats = self.front(wav)           # [C=1, 40, ~55] for MFCC\n",
        "        feats = (feats - self.mean) / (self.std + 1e-6)  # Normalize with precomputed stats\n",
        "        feats = feats.squeeze(0).transpose(0, 1)\n",
        "        return feats, sample[\"label\"]"
      ],
      "metadata": {
        "id": "zSD5VmAh9aH0"
      },
      "execution_count": null,
      "outputs": []
    },
    {
      "cell_type": "code",
      "source": [
        "# ---------------------------------------------------------------------\n",
        "# 4. Helper funcs = collate function + data mean/std + LR decay func\n",
        "# ---------------------------------------------------------------------\n",
        "from torch.nn.utils.rnn import pad_sequence\n",
        "\n",
        "# Add padding to spectrograms if needed\n",
        "def collate_fn(batch):\n",
        "    feats, lbls = zip(*batch)\n",
        "    # Also return true lengths for mask-aware pooling\n",
        "    lens = torch.tensor([f.size(0) for f in feats], dtype=torch.long)\n",
        "    feats_padded = pad_sequence(feats, batch_first=True, padding_value=0.0)  # [B, T_max, F]\n",
        "    return feats_padded, torch.tensor(lbls), lens\n",
        "\n",
        "\n",
        "# Defines your learning rate schedule\n",
        "def lr_lambda(step):\n",
        "    ' ' 'Start with a very low learning rate and gradually increase it' ' '\n",
        "    if step < warmup_steps:\n",
        "        return float(step) / float(max(1, warmup_steps))\n",
        "    progress = float(step - warmup_steps) / float(max(1, total_steps - warmup_steps))\n",
        "    return max(0.005, 0.5 * (1.0 + math.cos(math.pi * progress)))\n",
        "\n",
        "\n",
        "# Precompute dataset-level mean and std for MFCCs\n",
        "def compute_dataset_stats(ds, frontend, wav_len=16_000):\n",
        "    feats_all = []\n",
        "    for sample in ds:\n",
        "        wav = torch.from_numpy(sample[\"audio\"][\"array\"]).float()\n",
        "        if wav.numel() < wav_len:\n",
        "            wav = F.pad(wav, (0, wav_len - wav.numel()))\n",
        "        else:\n",
        "            wav = wav[: wav_len]\n",
        "        feats = frontend(wav).squeeze(0).transpose(0, 1)  # [T, 40]\n",
        "        feats_all.append(feats)\n",
        "    feats_all = torch.cat(feats_all, dim=0)\n",
        "    return feats_all.mean().item(), feats_all.std().item()\n"
      ],
      "metadata": {
        "id": "ZGtWGIg-9cH6"
      },
      "execution_count": null,
      "outputs": []
    },
    {
      "cell_type": "code",
      "source": [
        "# ---------------------------------------------------------------------\n",
        "# 5. Mamba KWS model with normalization and residuals\n",
        "# ---------------------------------------------------------------------\n",
        "class MambaKWS(nn.Module):\n",
        "    def __init__(self, num_classes: int, d_model=256, d_state=32, expand=2, n_layers=8, in_ch=1, feature_dim=128):\n",
        "        super().__init__()\n",
        "\n",
        "        # Convolutional embedding layer for feature extraction\n",
        "        self.conv_embed = nn.Sequential(\n",
        "            nn.Conv2d(in_ch, 32, 3, padding=1),\n",
        "            nn.BatchNorm2d(32), nn.SiLU(),\n",
        "            nn.Conv2d(32, 32, 3, padding=1),\n",
        "            nn.BatchNorm2d(32), nn.SiLU(),\n",
        "            nn.MaxPool2d(2),\n",
        "\n",
        "            nn.Conv2d(32, 64, 3, padding=1),\n",
        "            nn.BatchNorm2d(64), nn.SiLU(),\n",
        "            nn.Conv2d(64, 64, 3, padding=1),\n",
        "            nn.BatchNorm2d(64), nn.SiLU(),\n",
        "            nn.MaxPool2d((2, 1)),\n",
        "        )\n",
        "\n",
        "        # Calculate the flattened dimension after convolutions to project to d_model\n",
        "        freq_dim_after_conv = feature_dim // 4\n",
        "        flattened_dim = 64 * freq_dim_after_conv\n",
        "\n",
        "        # Projection layer to map flattened conv features to Mamba's dimension\n",
        "        self.proj = nn.Sequential(\n",
        "            nn.Linear(flattened_dim, d_model),\n",
        "            nn.LayerNorm(d_model),\n",
        "            nn.SiLU(),\n",
        "            nn.Dropout(0.1)\n",
        "        )\n",
        "\n",
        "        # Add Mamba blocks with layer norm and residuals\n",
        "        self.blocks = nn.ModuleList([\n",
        "            nn.ModuleDict({\n",
        "                \"norm\": nn.LayerNorm(d_model),\n",
        "                \"mamba\": Mamba(d_model=d_model, d_state=d_state, expand=expand),\n",
        "                \"dropout\": nn.Dropout(max(0.02, 0.05 - (i * 0.005)))\n",
        "            }) for i in range(n_layers)\n",
        "        ])\n",
        "        self.pre_classifier_norm = nn.LayerNorm(d_model)\n",
        "\n",
        "        # Classifier head\n",
        "        self.classifier_dropout = nn.Dropout(0.1)\n",
        "        self.classifier = nn.Sequential(\n",
        "            nn.Linear(d_model, d_model // 2),\n",
        "            nn.SiLU(),\n",
        "            nn.Dropout(0.05),\n",
        "            nn.Linear(d_model // 2, num_classes)\n",
        "        )\n",
        "\n",
        "    # accept lengths for mask-aware pooling\n",
        "    def forward(self, x, lengths: torch.Tensor | None = None):  # x: [B, T, F]\n",
        "        # reshape for Conv2d: [B, T, F] -> [B, 1, F, T]\n",
        "        x = x.permute(0, 2, 1).unsqueeze(1)\n",
        "\n",
        "        # conv front-end\n",
        "        x = self.conv_embed(x)                  # [B, 64, F', T']\n",
        "\n",
        "        # flatten per time-step and project\n",
        "        x = x.permute(0, 3, 1, 2).contiguous().flatten(2)  # [B, T', 64*F']\n",
        "        x = self.proj(x)                                   # [B, T', d_model]\n",
        "\n",
        "        for i, blk in enumerate(self.blocks):\n",
        "            residual = x\n",
        "            x = blk[\"norm\"](x)\n",
        "            x = blk[\"mamba\"](x)\n",
        "            x = blk[\"dropout\"](x)\n",
        "            x = residual + x\n",
        "\n",
        "        x = self.pre_classifier_norm(x)\n",
        "\n",
        "        # mask-aware mean pooling over time\n",
        "        if lengths is not None:\n",
        "            t_lens = torch.div(lengths, 2, rounding_mode='floor').clamp(min=1).to(x.device)  # first pool halves time\n",
        "            Tprime = x.size(1)\n",
        "            mask = (torch.arange(Tprime, device=x.device)[None, :] < t_lens[:, None]).float()  # [B, T']\n",
        "            mask = mask.unsqueeze(-1)  # [B, T', 1]\n",
        "            x_sum = (x * mask).sum(dim=1)                            # [B, d_model]\n",
        "            denom = mask.sum(dim=1).clamp(min=1.0)                   # [B, 1]\n",
        "            pooled = x_sum / denom\n",
        "        else:\n",
        "            pooled = x.mean(dim=1)\n",
        "\n",
        "        # single-head output (no aux)\n",
        "        main_output = self.classifier(self.classifier_dropout(pooled))\n",
        "        return main_output\n",
        "\n",
        "# ---------------------------------------------------------------------\n",
        "@torch.no_grad()\n",
        "def evaluate(model, loader, device, criterion):\n",
        "    model.eval()\n",
        "    tot = correct = loss_sum = 0\n",
        "    for batch in loader:\n",
        "        xb, yb, lb = batch\n",
        "        xb, yb, lb = xb.to(device), yb.to(device), lb.to(device)\n",
        "        logits = model(xb, lengths=lb)\n",
        "        loss = criterion(logits, yb)\n",
        "        loss_sum += loss.item() * xb.size(0)\n",
        "        correct += (logits.argmax(1) == yb).sum().item()\n",
        "        tot += xb.size(0)\n",
        "    return loss_sum / tot, 100 * correct / tot"
      ],
      "metadata": {
        "id": "y6lH7nTk9dan"
      },
      "execution_count": null,
      "outputs": []
    },
    {
      "cell_type": "code",
      "source": [
        "# ---------------------------------------------------------------------\n",
        "# 6. Main script\n",
        "# ---------------------------------------------------------------------\n",
        "if __name__ == \"__main__\":\n",
        "    device = torch.device(\"cuda\" if torch.cuda.is_available() else \"cpu\")\n",
        "    use_amp = (device.type == \"cuda\")\n",
        "\n",
        "    # ---- dataset\n",
        "    ds = load_dataset(\"google/speech_commands\", \"v0.02\")\n",
        "    n_classes = len(ds[\"train\"].features[\"label\"].names)\n",
        "\n",
        "    # log-mel + SpecAugment (train only)\n",
        "    feature_type = \"mel\"        # \"mel\"/\"mfcc\"\n",
        "    Epochs = 100\n",
        "    base_lr = 5e-4\n",
        "    warmup_frac = 0.12          # % of epochs warmup\n",
        "\n",
        "    frontend_train = WaveToSpec(\n",
        "        feature_type=feature_type,\n",
        "        n_mfcc=40, n_mels=128,\n",
        "        apply_mask=True,         # SpecAugment on train\n",
        "        freq_mask_param=12,\n",
        "        time_mask_param=20\n",
        "    )\n",
        "    frontend_eval = WaveToSpec(\n",
        "        feature_type=feature_type,\n",
        "        n_mfcc=40, n_mels=128,\n",
        "        apply_mask=False\n",
        "    )\n",
        "\n",
        "    frontend_stats = WaveToSpec(feature_type=feature_type, n_mfcc=40, n_mels=128, apply_mask=False)\n",
        "\n",
        "    # Waveform augs shift + a bit of noise\n",
        "    aug = Augment(shift_ms=120, noise=(0., 0.005))\n",
        "\n",
        "    # Normalization stats\n",
        "    train_mean, train_std = compute_dataset_stats(ds[\"train\"], frontend_stats)\n",
        "\n",
        "    # Datasets\n",
        "    train_ds = SpeechCommands(ds[\"train\"], aug, frontend_train, mean=train_mean, std=train_std)\n",
        "    val_ds   = SpeechCommands(ds[\"validation\"], None, frontend_eval, mean=train_mean, std=train_std)\n",
        "    test_ds  = SpeechCommands(ds[\"test\"], None, frontend_eval, mean=train_mean, std=train_std)\n",
        "\n",
        "    # Loaders\n",
        "    dl_kwargs = dict(\n",
        "        batch_size=64,\n",
        "        num_workers=2,\n",
        "        pin_memory=True,\n",
        "        persistent_workers=True,\n",
        "        collate_fn=collate_fn\n",
        "    )\n",
        "    train_dl = DataLoader(train_ds, shuffle=True, **dl_kwargs)\n",
        "    val_dl   = DataLoader(val_ds, shuffle=False, **dl_kwargs)\n",
        "\n",
        "    # Model\n",
        "    model = MambaKWS(n_classes, d_model=64, d_state=16, n_layers=8).to(device)\n",
        "\n",
        "    # Loss/opt/sched (per-batch schedule; short warmup; cosine with floor)\n",
        "    criterion = nn.CrossEntropyLoss(label_smoothing=0.07)\n",
        "    opt = torch.optim.AdamW(model.parameters(), lr=base_lr, weight_decay=1.8e-4, betas=(0.9, 0.999))\n",
        "\n",
        "    steps_per_epoch = len(train_dl)\n",
        "    total_steps     = steps_per_epoch * Epochs\n",
        "    warmup_steps    = int(total_steps * warmup_frac)\n",
        "    sched = torch.optim.lr_scheduler.LambdaLR(opt, lr_lambda)\n",
        "\n",
        "\n",
        "    # Training loop with AMP, clipping, collapse guard, and checkpoints\n",
        "    best_val_acc = 0.0\n",
        "    prev_val_acc = 0.0\n",
        "    BEST_PATH = Path(\"/content/best_kws.pt\")\n",
        "    BEST_PATH.parent.mkdir(parents=True, exist_ok=True)\n",
        "\n",
        "    scaler = torch.cuda.amp.GradScaler(enabled=use_amp)\n",
        "    global_step = 0  # track steps to know when warmup ends\n",
        "\n",
        "    for epoch in range(1, Epochs + 1):\n",
        "        model.train()\n",
        "        running_loss = correct = total = 0.0\n",
        "\n",
        "        pbar = tqdm(train_dl, desc=f\"Epoch {epoch:02d}\")\n",
        "        for batch in pbar:\n",
        "            xb, yb, lb = batch\n",
        "            xb = xb.to(device, non_blocking=True)\n",
        "            yb = yb.to(device, non_blocking=True)\n",
        "            lb = lb.to(device, non_blocking=True)\n",
        "\n",
        "            with torch.amp.autocast(device_type=device.type, dtype=torch.bfloat16,\n",
        "                                    enabled=use_amp and torch.cuda.is_bf16_supported()):\n",
        "                if torch.isnan(xb).any():\n",
        "                    xb = torch.nan_to_num(xb, nan=0.0)\n",
        "\n",
        "                logits = model(xb, lengths=lb)\n",
        "                loss = criterion(logits, yb)\n",
        "\n",
        "                if not torch.isfinite(loss):\n",
        "                    continue\n",
        "\n",
        "            opt.zero_grad(set_to_none=True)\n",
        "            scaler.scale(loss).backward()\n",
        "            scaler.unscale_(opt)\n",
        "            torch.nn.utils.clip_grad_norm_(model.parameters(), max_norm=0.3)\n",
        "            scaler.step(opt)\n",
        "            scaler.update()\n",
        "            sched.step()  # per-batch warmup + cosine\n",
        "            global_step += 1\n",
        "\n",
        "            pred = logits.argmax(1)\n",
        "            correct += (pred == yb).sum().item()\n",
        "            total += yb.size(0)\n",
        "            running_loss += loss.item() * yb.size(0)\n",
        "\n",
        "            pbar.set_postfix(\n",
        "                train_loss=f\"{running_loss / max(1,total):.3f}\",\n",
        "                train_acc=f\"{100 * correct / max(1,total):.2f}%\",\n",
        "                lr=f\"{opt.param_groups[0]['lr']:.2e}\"\n",
        "            )\n",
        "\n",
        "        tr_acc = 100.0 * correct / max(1, total)\n",
        "        val_loss, val_acc = evaluate(model, val_dl, device, criterion)\n",
        "        print(f\"Epoch {epoch:02d} \u279c train {tr_acc:.2f}% | val {val_acc:.2f}% (loss {val_loss:.3f}) | lr {opt.param_groups[0]['lr']:.2e}\")\n",
        "\n",
        "        # Collapse guard: big sudden drop -> reload best + shrink LR\n",
        "        if epoch > 1 and prev_val_acc > 50.0 and val_acc < 0.5 * prev_val_acc:\n",
        "            print(f\"WARNING: accuracy collapse ({prev_val_acc:.2f}% \u2192 {val_acc:.2f}%). Restoring best and reducing LR \u00d75.\")\n",
        "            if BEST_PATH.exists():\n",
        "                model.load_state_dict(torch.load(BEST_PATH, map_location=device))\n",
        "            for g in opt.param_groups:\n",
        "                g['lr'] = max(g['lr'] / 5.0, 1e-6)\n",
        "            print(f\"New LR: {opt.param_groups[0]['lr']:.2e}\")\n",
        "\n",
        "        # Best-by-accuracy checkpoint\n",
        "        if val_acc > best_val_acc:\n",
        "            best_val_acc = val_acc\n",
        "            torch.save(model.state_dict(), BEST_PATH)\n",
        "            print(f\"** Saved new best model params ** @ {best_val_acc:.2f}%\")\n",
        "\n",
        "        prev_val_acc = val_acc\n",
        "\n"
      ],
      "metadata": {
        "colab": {
          "base_uri": "https://localhost:8080/",
          "height": 1000,
          "referenced_widgets": [
            "6303536bdd1843ad8e3378a67ffb37ec",
            "ae3fd635184d464c8c29c8638601ff97",
            "0683de9dacc14df19aad53e74a253974",
            "2f0417684c314f68bdfce838b30636fd",
            "7c540734aad040bcaefd759aca348076",
            "a730dbdf7cb74b64888c6d02c6190018",
            "b7e3daab2100449eaef1f9d9e22eaee6",
            "8a93436251634f25a93da239bc04c652",
            "d6e3ca23cd414a3f8aa9be74e998ded5",
            "62198fcbd9714404a7d0550152064a6d",
            "d953340c9b3142d9952d92be1a5011d9",
            "f0a8f9a16fe64faa97cdc573751253d1",
            "e95f66ebcd184ec0915dced4cb431bec",
            "3a6af56a9e1b4fb28b135296095fe974",
            "4b032c8d004e445f99e9adf304b9295b",
            "cd74823b8e904b669b0b75bd0d7e3a71",
            "27ecb2661cd14935b14412d8e36096da",
            "b8f4f7e0441a4f698149ea80d1d97260",
            "bbe7407e039b40d89b089923a3505fc7",
            "1dfc22e1780543c0bb788548d3f73fb8",
            "2467f5f84ad84c62a5df6d285b7216a1",
            "acba1edcbb234ed199861c6d546dd85f",
            "77a8ec30bddb499f8e24e6baca377b62",
            "ef5d999160a1420e90a823eaec38998b",
            "dfe7dbded8fd4777a21071d42fbe47ad",
            "a307fb9859a64729a665152bc0ab893f",
            "170613c617724be298214f473930b59d",
            "1db19f79001d425f98f83e4efa4cacd8",
            "e3f7dca22c1b4dd7b25e5d2055fb4cba",
            "8ce577b0d83c4826925a178b97026d2b",
            "120f387170644dd6a362ca251c45a5e6",
            "1d59701a93b3428b9b2e374ad276f9a2",
            "d78311378f894247951111237bf15e4d",
            "4ece7e9582aa437d97c172ea06008bc2",
            "a17b14b73afc4eff8e17438d75c410a8",
            "2567668c048c4791bc53f86e0a817049",
            "1d9f0607b410412d8b2b74c018968cb2",
            "733519d942ed4695965c3143dfc782df",
            "4b3869d47dd84e0dba1bded71dd9aae6",
            "d958e2d237b44e1abfb92f1e5a629fee",
            "be122e3b63294daa9a5efdc46cdc9de3",
            "62297c2378d949ffac00954f9237f2df",
            "07b3b4f5a5ac42989c0f6391a7c53549",
            "10592751de474b2dbd111b105b5d5d47",
            "2720334de84c4130b6f745149fa8ee31",
            "a025d8c00cda4bf2b9545892e3ae75dd",
            "2f286541ca044fc8a4d7e4b7a159d7c5",
            "f10f34b0393b477db16131437af9e73d",
            "da2ee0f1e0cd4c6b9788a6a8eb9f1b99",
            "a53070ccf4b34cddb5c7c0a0639fedbe",
            "09ea4f46f2624054bc348736309b05db",
            "00928203086c4d5da116fec84df9496e",
            "a797ef6905d84a23bb104515becfc653",
            "610f3519bc914ac78a06abd1dec8db2f",
            "4db650abbacc4150865264d9a1797a2a",
            "d1f8a674eaea4108add865c8e0517e06",
            "1e669319b18741f5bf4aa8ef0aee68d3",
            "62afd596ce8041dc84cafa0f408812ef",
            "36058ff0de6b483fa1645e89537bfe2d",
            "73751d89b76f491496d58e65d9bb06eb",
            "f5b9295d4f8b4330be9d878733228094",
            "0fea77bd36c24c94ad4f98b7e125e7c6",
            "f23aa28e69ce48f8ab96ed36e2bf3a39",
            "9b53523e214e4105ab43aacd458f4900",
            "af85c986f8594dfaaa09feb9e7ead6be",
            "254c5682e2c74cf5b1dbec9a024ceb7d",
            "c16a896f297f4c1aaabc092938c3e64f",
            "f63bd089b5914561aed53d84580f0744",
            "1a46b57898234971a4e6963eadaee242",
            "08cf8343088d4ee89e0a94fa510921d0",
            "068710bf2486462db218f551039e1405",
            "31fa31ae428c42068de34cc640e11832",
            "675a4b47d65046148446b76f6b448f3a",
            "3f38f921de93452990a27d6cc09820ce",
            "168da491192e4430ae1a8b282f533e06",
            "737f23c1a97845cda0d4dccd1a815bdd",
            "dc99f66d81334144a3126cce4c7d25ca",
            "b4afe4de92854f109df4c54feef88384",
            "f56e7cedafe34970a03f42b6bb7fc4c9",
            "8fcb6758c52c4e2e8730ea2500a51efa",
            "b038d37c02e14473bc3db694a943bb31",
            "61d0432708df476bac33adf3a404bdcd",
            "e70d0176e89049b0b47bffa89fe0a06b",
            "dcd71e9fb46c4156b96d4411aea1be74",
            "e3a831c1ae274887853d5184c31c0f97",
            "b49e09a677d14e8a9bce688f1eff0045",
            "6673f85a773741bc94f61dece641b7b6",
            "44a16ab7e230433499b2e2d5b52d850a",
            "7cf90ec695bc46658d6c539b1965435f",
            "c6167e843ec14cdbb3e269c1dc3ca076",
            "0c30ab86739646239eaf27a06b359f99",
            "56fa9f5a4997442d9199a81faec74665",
            "9662e45a51d34d9bbd0fdd6e116e6eca",
            "757cb1b23fa84bae8dac5660d61e9c55",
            "bb02e597c14b4f54956762122b30f0fb",
            "23d9fe20fa3741029b651c52cd4612bf",
            "c2242fa73a2546719e2e4441e59fab58",
            "e6f459924ac745e6a74d013bcd19e861",
            "2ad4934fd7564fc9b488511f156dbd7d",
            "b44e7f49209d4eca848a581d93902d7f",
            "6534e429d1844f8daab183696a3013f2",
            "2342b6b4c9d54a1fb2311853c51f4a78",
            "f4a75f701f36443e9d135dae0be83bdc",
            "3729a7b53aa04978bead0f4a0d5664f7",
            "e1628157bcc24070b1c6319bf65c9cca",
            "a2527370fea5492f8cf6a0566bbb68e5",
            "1fb18e4e1e014e1bae6a21ead781e962",
            "5215929331354ab4a77336e3638ea497",
            "a12c0efc26374a5a9776f42e575be2cd",
            "cd922b10a3674b8cbdfaec54433c435e",
            "b4ff98b4b0ec4ecd823264dbfeb55b27",
            "7c12912927454d6fbe4d34d8d36e211b",
            "fb9174aa8b824e30b4de687d0d75a36b",
            "8f1e270ad293471bb177dfd486bc3d99",
            "96a7d83cc2c64c88ab941efc8ab2b3a0",
            "859f4e6d808f456ea3fa63fc8bfa5edd",
            "2e61ee7cbc5a4b2b99a9e027ad5c664e",
            "1414a943f4ae4a2b815f1ad48c60c770",
            "a43b66e57a5145338d5ea56b5b21c312",
            "1775568a58374fe3bd22f995bdebd2cc",
            "673bb46098c741a2bf91a9ec6de892fa",
            "c1feba45b4fb495f90183fbd2a56775f",
            "3661033b7e654a8093249f445b40ab8c",
            "79159c0a570147ec89b93d2bb061abac",
            "269369f55a0a45cca3c523b1c654d02b",
            "46111529fa9748cc99b40b9340997e2e",
            "fdb424cfde4941b5acea807cc377d642",
            "1e597f8e4b97471d9e735d0db29a39cc",
            "f28ce18fd430470da858cadfb7824529",
            "028bcad7b5a24d9d88ca39df95e968c7",
            "69e9105c8f234633883547bdbc3e42aa",
            "e111a64c1b3b420d965b427730ccfdb3",
            "d737471a06c344a7b936fefe05bba684",
            "cbda0255bf574cd38edb3d5d1e344969",
            "47985884c9644e1fbfbece38e4c71bd8",
            "fb3c68d1919344e083bd15434530819b",
            "eed8cae49e944db6bdce2af51be65313",
            "2f5901c3c74a47f9ae69d1b4ee47570c",
            "1d589a1cb5ee48f7bbcd86ae532375ab",
            "5ddb5f661ac84e39bedd0829ad0458a9",
            "416a41f30f084a35855bb92c6d22d5f6",
            "44d785075da74097b950beadaba96329",
            "44360cbf6bde465592df70805335ed24",
            "45287e1e8c014261a284f6e3ecda835b",
            "818ee9905cc246658760310b31f0c434",
            "416b4c85edf3444dbcab254ac22883c5",
            "36570f8411a043dc8a3d6074950abf86",
            "64d69fc4e38644dbb63ef1aadf2a7072",
            "2ac94ad470004577a0a8d7e5d474fbba",
            "86d1fb24ca8b43b6a65b468e0cc10674",
            "c4b506ca9efb4def852b45bcae2cea9c",
            "2a473e4e34904ee597f54949bfdbab8c",
            "499b16c4f0e64283bdb1597a946f99f2",
            "935f4ab5a56a4f06b23a54fdf51094b9",
            "aa328e09166b40cfbbfa0dc47061cc2e",
            "b53899b8a026420bab036a6af96c1b25",
            "7ac78f53405b4b1a8de7db4756b0f044",
            "4812191a28594ecd95b48afff39cea83",
            "7d8bc041b58f4ec892119987caa127df",
            "3a96f4e3b8ad445c98f4d28125b90583",
            "1188f1ce76004fa980501f82445fb5d8",
            "5f3b88381f16446185e89e7f92b04f16",
            "7138988094644dcc8297bba81d457674",
            "728fb084d00348048e5a700dcd537e77",
            "645b635578e2404b956432db05f798e3",
            "42ae0a5f858741d4919b1dd4f111bf45",
            "e2344a5df1904bbebea2b733cdb2681c",
            "10c222535bfd4c75b8a9a0a90e2be9a9",
            "5cffe1e3474f40b082e865e6d0e6f5a0",
            "0f089e2a91dd4b259d62d85c5eeb267a",
            "78c4ce32aef545aba8849e16939df251",
            "6b21205648b74c5993ef671630bd32b7",
            "78c930814d424ba5ac383a4c55a22818",
            "71b4791f689e4b11b7f197fcd6041f8c",
            "98300d8db8474ce49cbc39f204aed736",
            "c48af48e18674289b3ba7fc5c0ca8db9",
            "2c5de1c7376c4800b7071203b1ee5a78",
            "6309b4442d5745ccafdbae39786f058e",
            "15b925b9652243b0afbee6af3794c692",
            "c437e5d229554e06b76bd2870b584ac0",
            "1c8f21e0edf24f0e9af1073da9b0e818",
            "b9a6fa98c0e3472ea4038ecaba579fae",
            "394801d9abc34afaa0d1c1e3eb937c94",
            "7c65e3a1db0a4ad496fd5eed25df53ef",
            "92e5e296152c4de3af4d5561cf0ece90",
            "538a1739cd174b64a93cf438ca145ce3",
            "f13f6f54beb645b58f25e1ca4c149687",
            "fb33035ebb474bcd8ad3f688e91411d6",
            "3d8ca877d0c647a4a0a3ab189a1c925a",
            "823f46bf7f5e4f0ab10cdb6358451407",
            "2a7580be9bbb40748240901283135d8c",
            "9f185e3008c24118b209965aaf4ba425",
            "dafd199712154d0bbc8e44f39b08c737",
            "c3e114f4052e495f84d84c99303263b3",
            "716eea9e65a04bd285f5317a7425a341",
            "1a4f1fef57ba42f3a0b96c3c28f61fa1",
            "2162b579294446d2b86dbb4454dfcaf0",
            "6809e899347f43418e0ad8d3f7e7dfb9",
            "cf097fbf3fb34554acca0b54243a888b",
            "89a136c54c4c45479dfaa8b63c01a658",
            "05558e449ab64e12843fcf26b9e8ad36",
            "8c7d8ec7dfcb4cba9d3752e50fc376d5",
            "3c0125b7e75241fcb57bc3db4cc662c4",
            "b2cb7eda4ebc49118f52c062180cf16f",
            "bcebdb3aa84645fda264f17b2d6f2d8d",
            "3b2b612e43504920bd06bc1806e39386",
            "3abdfeeef2294d0fa4bbffff7311252c",
            "bc1890b86f81451e8bc7115b11797bbc",
            "475bf61a5bf6467fad1ad6c82248d927",
            "ee9536aec192474eab5dc2ce97c027ae",
            "a749cc2b3b534f378587f07889262ada",
            "3b4af2306f7045cc8312ed58eacbd549",
            "67af8379f08142989d71f41480022ff6",
            "e647ea04115942b59c79f76da11df0d6",
            "3dc13a91897f49f8a53a12a58c2b79d4",
            "bc19a0cfa9334f1bbde98a7dd8dfb05f",
            "b6ab7c6d5f4d4a2bb63d72c08dac9460",
            "e57b860bcc10418e92b369cf4dbdb50e",
            "073caf3288e941bfb8b0244ab8940387",
            "74055fcb242345e48737a1f1085955c7",
            "adfa8b3432f441a6a92a6ad3bb0855ba",
            "2bb99bb57c1346918131242acd41f429",
            "58ee731131694e9f9ea53ddfded028fd",
            "0b8ac610dad149e68636aa35994e407e",
            "b4566b176cc346e6adc0af59a736fc79",
            "d64ea773875d45bc873a8c43d2c55eb5",
            "e09767b65ae64cb7827b4f4556091a9d",
            "62670143dce34a9299d836924f0f99b9",
            "b00003ab62664ec29c681b8b43fcabcd",
            "b15b26d7b7044f88a1dbb09b707f01e5",
            "38bf967713fd4d2f9129afa45edadca7",
            "47e2b8de00ed41a19a9c9fbc2301fdad",
            "c18af9c4aff04e96bf6f5a6201c746ff",
            "75a553faeba44bdca9ef2710449bf638",
            "1a8c884e39c548159a4e9f0d18ae5faf",
            "b762204be7dd4ff39a1ab4f48db8da53",
            "ebaf2098729143bc943ef394888148f3",
            "0a47835a82794ea69c249513c1a80e01",
            "9d962cb014ed42b38ac182d8c4f452fa",
            "3f4b4fcc021348e9b5f8b52b2605d02a",
            "0f32a3b7cb164d2583f463344a87fc8f",
            "97ef8fea943c4957942ab58bd2226a0f",
            "83d8012472e64e6b87cd1e8bb846ff83",
            "8fb3137feccc45b2bcbcde76f0d6fbc7",
            "4b9e0e01dfca48d89408712daf0dd280",
            "6079e7ab814e468cb386ec28b9898620",
            "794dd53cee3a49ccad4951f196698c2d",
            "555f5209463f4316a8877390a6341848",
            "be73daa985424b598e1a8e6c7ae4102c",
            "281746eeb5c74f6d9cea25e706c5e28d",
            "c60134e1282441c8b9eb150fe24d81e8",
            "2cffd40385d54e8e8b4124a40010e5c1",
            "35335cf67f88480d8dd8035fc3d383c5",
            "05879d0d0fa844639a9ce3c5821da43a",
            "bae2bb8462f7448ca72679c073527b1f",
            "f56f810026ea48dba683dc2147f2a36a",
            "ec57fc62a4cb4bdabb67b32025cddc68",
            "380aa96c0762488f9f6fe9d1ef0135a1",
            "eab09d343fb9446394fc2c8df4995331",
            "0d72827277d94bad85c2fc56644c985b",
            "fab41195e79a479da0abc142540a8ac4",
            "0ce6ff004bb9483db95cccfd03df2b0c",
            "8a39a4dbc1104c54a463fcc77404bc58",
            "8134cf1f9b5c4b59a4ce32c8ce628e8b",
            "9b219b2e109843cab2c83f11726e7ae2",
            "5c668abe5f3a468aab762c9e32e769f2",
            "a095e52c6aac4f47b117468f171ca61e",
            "21a02559d28e4a8d864441626107a14d",
            "05c5ec6901dd42848d34a53cfced5109",
            "00a609e5d6a14233b4ccce1edad0a06f",
            "c5f1463664e64a42a76852757a3597e6",
            "53a8a95087b24000804ab6a835cddd10",
            "8a578474ffe34966920c0711ec4b5ffe",
            "8c3f700ea4554c1bbbb6e3d64bad44d8",
            "efcca6f53e5a454bb0cba9397336b010",
            "90298560557d414e946b2e60cefb11b3",
            "250d976e589b49098d81ac28fdafb14f",
            "7ecb0ad9a0e7471d9ed58378744a846e",
            "4ffdc8cf0ace47c0b52dd6db5b153bc7",
            "79b4941dbbf74383b18b9107e0abdcab",
            "a6424a0246654e41b399a49e783a0db4",
            "eee55e9dce6f4617a5d8567670976cb6",
            "670e67624607400b9375350b68bf6661",
            "1c3d0954d7654c229f60a8f07b689cc2",
            "7f54842815ae44e0981c7e7edfca61bf",
            "050ced8e1f504781bcda4f928384f70e",
            "0639a81dcd384f2a9cb5857feeb30da0",
            "1505f78d9ac648c99e10b83fd682a9cc",
            "dcb4d45be23d4c92b7e5157a37e0fe06",
            "9b4dbc801bfc4880b916ad6da60dc33e",
            "a7bf867a4a3047b58ab73c52a93f31a2",
            "db71f1b964ba4894a9d8f7388768f4d4",
            "52e7efacf0d443b682762fb47fc4dea1",
            "0936cd74fa974f428365a12f22f338aa",
            "8b1bac8c43fd430cbeb8030cd533cde0",
            "260b76d2daed47d4a757ed01ab9e370d",
            "543926fd31864bffba8b687de1d7175e",
            "b4c029185120482e9551d20b4ffe9ed7",
            "ee03308dcd3d42dea6778ac7b6cf6913",
            "c0b6b07280a24ff2a54800c4c2ab4d9c",
            "dadf554407aa4605bff22f4dac2ff042",
            "098e8b1d75964e20b17caa402ab2a66a",
            "1558e1e490f845d6b01675ff3cb9c6d5",
            "5ca5b9452add4fa5a138bb0faa661923",
            "8b05122883a24248b2557c4b8ad54a92",
            "c770f473636e49649bf6d266ea8dac8d",
            "2f67f783fddc469095dd7e93d3588d0e",
            "8d0c5b74bf624c6696ac921843affdb2",
            "f236ec06d0dc4f16926d13be42e61131",
            "5038316606f84130bbf2c37e3583c760",
            "599c6ce7764e41168eab86dd5479c4a0",
            "3d3fa1c1528f4e71b3d029dfde673d1e",
            "6b09226019da40908b0ac29777a0fe33",
            "b0f51cfc398e4bea87b16db74b6250fa",
            "58572956c1754140a729241cade25b6a",
            "daa148faf1d14f7497b2eb3b6a477ef3",
            "5a5dca6a1dcc4f88b0e1b4a8de388f82",
            "33b8303ceefd4f9483fdb8bc8377576b",
            "dbd03d9e187c4bacb62f4a80f0a716ac",
            "a6fead2cb4964b3abdb3c977364c573a",
            "12e317e1b5f54dfe949d8cf03b478347",
            "156e0f76dca2481ab0928d76cada1f68",
            "71762de1011843a4961a73147f157c8e",
            "a4e45789bd6342cdabf453f52810dae1",
            "e55fed3c08eb4c8f912526e94555735d",
            "2590ce51bde243f7823f46477b1fd1b8",
            "7b046b1c51c647be9312fc0773bf78ff",
            "b49617b0c34e4f33b18c778724f7ae89",
            "4e08073542a64253b0a93c8f601963d5",
            "9d6cdf0524b84504a5698892bef395e5",
            "09e055afc4a443d4b255e7ec5171eb69",
            "1f8a70f414d3432b8d15566d5eed99e9",
            "f577a8f0b66b4c70a1dcc31809610bc3",
            "4a5105243fb04abf9ac24dba9262524f",
            "7907991429df46108a3330c2b4ec8ee3",
            "a4406025fadc4a95a4e6161483e3e561",
            "66fd6bddc006423fa17eeca474ca611a",
            "2f0ad651d01a40d2b4c2305ad7778554",
            "9dc50dededcf413386a358dd28528677",
            "90da1eba65d3497b92ff8f828830b835",
            "31dace31d26147d98dbf88363cab5164",
            "d5a80447508441b999dd6313d7f8e576",
            "870af90dd9f54e00a7e77ec5b8dacb67",
            "3a029855c1594c2f9ae95c205d550791",
            "ddfa2822f7044eb49852dd96089703c0",
            "f5b97ca940be475fbf75a7ff02774a5b",
            "45c6fcaafff8494c8e56193a7769f8b4",
            "c20339fcb64a4f9db9ff1efbed58df4f",
            "bd491ca003c14551a1a9e319929781bb",
            "480d4614786248fd90a4679cefb62a56",
            "f3eff1fc21874ad2bf56585c422c84b5",
            "a4e2d78b002b4e6bb3ce3905b74e2ee5",
            "4dec123ef3da4e429f8a218a4b6d3cdf",
            "b87c87c3c88e416fa4917a4cb4afe5b6",
            "7a071338afb54759be42cef9d282af76",
            "6c4c30738e904060984cbc11436cd3f1",
            "056e20e8036d448690ceed8f984c5121",
            "fe2ee5e02fa945d88fa006e4415d9873",
            "cfa43f2a7c6f4aaeb84d9d60431a09f6",
            "eee6add2c9e448fb92ea876cee7cd7aa",
            "83f27c4447c0438cb86af4d5e0ea0ad7",
            "41bc1ccd856b45b3a070e4fd0d4fe0ef",
            "8eb0ee9be4d84fb3ba34ca39143d0034",
            "3eef174df73647b3b3442b3420d1ac88",
            "5f6aa55db0294989a173f46117d74141",
            "387d8b040b9049cc982c87c1a80a2864",
            "cc9474bede964ff69adb72dcf678a148",
            "1ea73fe6c8c245ed8a7358c347ff964c",
            "f070be93d58249c996f814fd8cb3393d",
            "be9f065516654328b891c94ae38639f9",
            "5292fdf2fa6148f3bff4f38fb745e4cc",
            "4f471cf24cf447abb2917e67080ae667",
            "ab4d5243382b47ff9d3e380cab2c1a09",
            "4c5eff8cb03843889aadf0e7ba8647d2",
            "47b790217a984337a08bd1606fcb9cc1",
            "fc2d3d86a26142b2b722d621c04e37aa",
            "c92c85e6a8354dfdadb2b43ed6b723fd",
            "bc83c67dd91742a3a1a36a826d0288d0",
            "73a631e7d5644b17bfe62eb8a309efdf",
            "5257093663974be18dd65890179e08b9",
            "b46e941f52f64f6e867f1ccbdb23fb1b",
            "e67dd8c74a72451f9abfde4498a92725",
            "89eab8fe34e542318048f6b1c18c7b05",
            "6319c96972a34de6a09fe3ac9b174384",
            "fa5db61575e74a429329e3ed820a49cb",
            "13f1e88e29e74a8b8a08361d216b4e2b",
            "ce65b13796b546639be79d69b53b4eb5",
            "9cd4cbcd4f0f4644b2002d19f9b72059",
            "3b37eb4fdc1f4fe8a0636b50d7d60bab",
            "069692299e2943e99b658b02661c8659",
            "d02d9830c31d49c0873b9ac9f85f1a92",
            "fc6d7a818af44dbabc39b94406dc92db",
            "c18e305d0ecb4840b322694bec5bbfb8",
            "ff7d998519a748b495bd25ab7a9aabe1",
            "ba663871a93c457f9d3882edfa0ad7d1",
            "41c47f2afe58425fa9c8914a3a54e34d",
            "797b04cdabdb4655a9567fa8a5f66025",
            "ae28cf3e585e4bcb92ae7a6e073f45fe",
            "ee7841e53a0d4a23a8b021e57dfea91a",
            "2d657312a8294e3c96833556dbd4f021",
            "01cd191e910c4541936c53f7a0b1f8ea",
            "25e0825ed3a34e9bb72b52437dae4356",
            "87acc99e029b485793b93929181cd9b1",
            "0c50f12e72ac47978af00c9822793e33",
            "171b4d18804f4638ba83aae21ff2b132",
            "26aa8330fe284069a892d67d51b587e6",
            "c8d35c2f83204f2882edd82b21894bd3",
            "50a5f42c7c6a4c86a1c8707f940ada9c",
            "e9123a883c704c399a18898333a48bd4",
            "e95030c3a446400ea6fa0a9222f6cb94",
            "ad915db43787435b88d3c1f7518ffa58",
            "114da60308544552b911a2b283850ae5",
            "9d016a7fcb834789b8a90664e463859b",
            "3a8c825dfb2b4acbbcf7dec29e891c72",
            "22095c77b1db45b6a0473482a31f80bb",
            "04632df393174a83b552cc3ecfc56b53",
            "e6b2d800ef334dfe98dbc0c008e4c184",
            "e5c68c7c69404faf97f4f0cef21c3e17",
            "686904ba7cc34e72b70ded17477ea9d5",
            "5b98d420b5d0499d847259f929c8fe6b",
            "3c35ca157e864b4aa3aa1bc589e89760",
            "aeb9dd2029b74560a50a2cc98215b9d3",
            "dbea26f3bf404bdcbd34d204f070c4c0",
            "663eab3c1399427d83b9812f12e8b458",
            "a539eb392abe46909738e748b469d93c",
            "e69d5c6ee4ce46f8854a55be7717f5f3",
            "cb72c95bc8f142d0ac05535b508704c6",
            "acedf3e977b44436bbc09a96069609c7",
            "d6dc6efb92bf47669920fb616793bf76",
            "bc16bfee24934396bda9ed12a3c69df2",
            "b0cff4140fb7476786e56f76522d5f05",
            "52519266a66349459dfd96d963d0e850",
            "1b56ef3b26404356a8f9d1db49c99feb",
            "40603783082a4d2d9adfa57a6f81530d",
            "1f84664bad7744fb9339c356155aba4d",
            "189fcc8df1ff4e00872a57db5e33f0f5",
            "9af276839c3f418c86eddb1af6ba0dd3",
            "ef474ff098014e44979cce45b7420b9e",
            "a42022444fb14855bc9c678caf5ad064",
            "683f05e1f6fa4a79a5771741f4289891",
            "4f2d2faf728f40a18ad7b26b28773aa8",
            "b637eae92ea241658c12c11947327f6b",
            "fd092681483344c6b3c630a0e7fa44a8",
            "bf14baf2f30241b7bf7752097ac51647",
            "41c7924d441e4c10befdd73d05f3f324",
            "fcb2ea6142d84aa5b285668cf4b0a9e2",
            "b587de100138420abc767f1089d3a485",
            "acf7969eaf9243d09aa66aa7301f05f4",
            "df10800c55014858b5d8ef0cf06797e0",
            "33bb6b72437d436cb611081ef16a4e5a",
            "9a50ae1beea84e619403e3289367c35b",
            "edb500259cf04f1db8d2922391e37999",
            "385d6680d1ff41fd90d46ffb2fcbdd52",
            "2fe01f834f52487c869901ffba6d0939",
            "a4a0e67ec4614684b2fbb7429f0ecdbf",
            "b1c09e87203540018c391cbad109c0dc",
            "eb867148bb784186bef5529211ddab83",
            "efd7136a38fa439fa483e3049677de94",
            "c7ee56be29484fda8481e3c747d5fc1f",
            "3cfe59e806be49f8beebad56d9725fa1",
            "5bea29c1bf694e5288cd7f79065769a3",
            "e44dce5005594d8b91f30f0a75980789",
            "56bb0ffcee7b4608a009ec84126c77e8",
            "1bcc997bb2ed4fc98891bea665aaf1db",
            "92855ee6421f4ed2b8d9fab6bdf170b3",
            "0594f21bec6d4c43a464b08ae9d8c8fb",
            "b144596d90294880a6fab71aa952be23",
            "206d7d04bb05407989e602ea763cdcac",
            "8208a6a5af674607a5e53ea444be6661",
            "12ac9a64e46340488da1da535b926189",
            "627bc49402504cf6a6af71c54a3aab9f",
            "8ef43ff98b224b40b8cf45bae1ea1969",
            "6b9a71511aa84537910204b9771a9366",
            "c648e537a5874d3587a2ef6747d6ea81",
            "799ea387d1ca4e16808ac6a019f71ebc",
            "04fb7b508a6b40e294eb825124c1e584",
            "fd54a71f05f94e5cb7e1c198071fa7e0",
            "acc641a73c7d4ab498e63a37a3a6de99",
            "e2f60709057941d79e408b577f903a07",
            "b836c438b9694bf99a9ac0bab6a37315",
            "727a05a960c04ec384cef0a14f8fab43",
            "33b33911c45c4e99b0e3e51b86cbe822",
            "f0c2f9cac08c47a79d11f7ed806e7586",
            "51a9c7a4914842079aec93d20e2de577",
            "5c701b70e10840b9a0deb8fbf05b19a4",
            "eb291c69e2574d549bda3eab33939578",
            "b183c2b149c44ae384cce73e0451dc2d",
            "fa9c67908994465ebc75908554df3b9a",
            "dd71ef6976914f51bf018d8018cd0fe4",
            "6845e4af322f4e5ca2420bbf9d3fb2cf",
            "efe98f8647c7470cb0a2af24bb539452",
            "290eaca82a874afda891261c24f0c4fc",
            "f25f4bf7a5664674a4c2729d1cec4bba",
            "84dba40ce5f14b739582cfaf0bef243f",
            "28eb99573ead412bac24bdbc2aec17d2",
            "fbe5f0bcfc574e20a7b9dc9710a45011",
            "548e5c33ef73485081f8ef84194a3d76",
            "5bcfbe084fed4a4b853d137f4f7e61e2",
            "05e24c7623394128a1be72de6b0a44d6",
            "b2a46a7132e4433aac00fdcb3ead77a0",
            "d467d1f004c3424180b4c7b71cc4c96c",
            "49a3697643c64e61bdf7e83c4a9e6409",
            "2d0ba528787d4ab0a8c4b43982e8de6d",
            "bd58ff66735e40feae41ff16261f448d",
            "121b5c9d7a644390ac9c7bf96807322b",
            "3ef821e83ca440af845b09352f9b0797",
            "14cf704edfad4b839e78f300d67a6a14",
            "8b922bbcbae84cd19d1c039509cbcae8",
            "659122cada074ad2a285cc79090479e8",
            "3698cb16efca4579af6f787e4f9ca0dc",
            "1162c3347f494d028aa306259c00bcb0",
            "4f105f4037754b0abf2405ff0c6adb91",
            "a3bb7eec9a79495688f48e74a7b98b41",
            "90a895360e6b4d26a023111f837bc725",
            "889fff7d9cb948e7b9e5f3b8b036f490",
            "5f114e03e33c462cbc856c0ec4b83ac9",
            "6756a395ed134af68a84659ff8ef53cc",
            "9cf5b39bdac54a088df80869bfaf166a",
            "f3f9cc0c958b445aa0dc1b062098e304",
            "364be3cd213246cc82aba93800ace2f6",
            "cb81041f912b45d3bfecd08ac838e888",
            "42ede4d6b29a4e39845f03c0783441f8",
            "7df8cd3127af45c0928471bdb350c5e0",
            "3be16a937e5048e99867b752099947a7",
            "3a9c36820e1948968b9b219636c0ba2a",
            "783f100f005d4aca9ba00f5ef5004ceb",
            "1731b24ec10a4caeb61318180ff0a169",
            "3ea722a5c15c403c9ef98929ac05aed4",
            "af70f374a39742079dec95165e2a0327",
            "2898b7c8f17f41d1beef53bc62fa625f",
            "28103a7f4e1e4914929f8e25a076edd6",
            "dec3ee36fc6f422895993b26a1102643",
            "1009b8f964654eb19755583909e8a50d",
            "be31f1ecf30949f782fc2cc7bd322a07",
            "5abead8f0e8c45a9b6675645133bb546",
            "2ad9db1d566249609cca70035645c55d",
            "27f688fbf9754169a86471ef88d73074",
            "7376be354cc84645be9f6bd7ca0da2d6",
            "be2fd341cc8f42cf82f22c792ac93eb8",
            "2cd5be3f948e4f749b9475887655b094",
            "b9700307ee3f4840bb93c6c21371c12c",
            "97db0052dfb641cc9ff2308505d555ca",
            "dc369f15cc9d4b89ae61d4b39d13283f",
            "e114a738052046a2b6007736a7b66846",
            "0a2d17f477b54783836440bce49eddb2",
            "ecb283aba0604cfd89e2a57a0882e330",
            "c4312d376f8e4f6783de1d66c2442535",
            "a370aba24c1c4341bda47740995d0aa5",
            "b075493c0ddb42aebf3ac3278259cf7a",
            "01cba2327d2e49268a5338fd6ea82ce1",
            "4e6d263cef3946d7baece86cb7b8ebcb",
            "4dc747c653d34ad9a52286c2bd1b06a4",
            "c2c83fdad8bd4c22b950f88af6afb42a",
            "82cd6858bc0d47488cbcc12b32eb09cd",
            "6be1727101e34307b16d5dddb8b91a51",
            "88edf49a168f4f438baa2a36a69808f2",
            "0b5f194fc25f4ba1b57cb263d31d1014",
            "fd3f914356c44dd6be4c23bfe4014148",
            "b366cd29f74d42929834559ec8894404",
            "35a7749ff3ba4b80820f601b6a7ff2df",
            "ada5a84ab7f44ee291dd4c26cd90fcad",
            "a01cf01f665545a690ce483a8ad158dc",
            "aee61fe814c54da9b88383e2f495aed2",
            "24484175b9bd4a57bbded05aca175494",
            "1f6ac0fb47ab4f43b4cbbfe73e960425",
            "6a01e8c8e1374e2b9179c07f99be2766",
            "720d0ab1f62545e7bb9690fbbba2f2e9",
            "e703db5ccdf8477c90b9ec401e3c6f18",
            "dc3530855067482e8ad4f702ab1c2c3e",
            "5425596b1658452389c0a62bc15b59f7",
            "5783607940384bac8b403a3e71932a17",
            "9c5d171d18fa4f2c8af9e50d5f8902ef",
            "bcbf5f2f8fea4a07aa4fd1c067800cf6",
            "69e6180914834fd289a9c201132e7255",
            "71acde13d59143dca2078ffbfbaf1bee",
            "388e43ce42944438ae15618f4a2fc51d",
            "df3bd69ca16f41c3ad2eabfab74081ce",
            "bc77f21e6c4340bdb9a203feb50427c8",
            "bfdb43a045084eb6bde5df70d94007a2",
            "c3a340b295c34e5a864f720a62ffa524",
            "5272b4709d9740aa94d7d6adb7e266ff",
            "70a703c9741f41a3a7f197224094b921",
            "64b9c39284c24de59672bcd21a2fd4fe",
            "7d595c819c9144108a9eb142ba01e180",
            "ba6ecbe520404d78a0d8e3b84448f7e2",
            "8c1bcb5aebb048949ae23ac25a8c08a4",
            "06264445bbf1452782a7a64ed9384d71",
            "a751b37b259a42bfb5ba3c9cd506a545",
            "d60c785d8a394051a797d62281e1dead",
            "e2dd6f8ec1d74d65a88412afc0423edf",
            "c7d21b0fdfe447bfb08b67fd91bdeca1",
            "0e8bc3308cf6439f9a57d38583425822",
            "0d0068255053456ba30520043d2fed20",
            "313f5517002d4842a889c200c1718e76",
            "437d8a9179fd4ae3830020bdd9e7d82a",
            "922c636f97894cd9abf0dd4ff9c77ab1",
            "cd916456379f496893887342a8ed4b81",
            "f283cf82d1d140ae9cea4afd239365f7",
            "02c6f82067ac4f0b89bd03a54157c2f1",
            "390aa6e60fb34131a4b95a80f828f7d1",
            "8cb638de09364da582869392387a08d3",
            "786649ac3ef4415e84febae0f85f43d1",
            "a9003ade9f7e474abd495c04d3ede8bf",
            "b0fa2865ac7c4b0f9b740b0dc26573fc",
            "5fe744052c644be19e2f1c1ee1dcb73c",
            "d713b48947794ac48787e01e809f8115",
            "5d1838b9c7264a1c869d8f9ecfde70fd",
            "f4a1af950d444ba899b4ff127f2d12ea",
            "498946e2855b421a8d6ddfccc437b585",
            "51ae129a414447d6878f283b9926cacd",
            "4138832247324106956c8973a2b961e5",
            "3e7b5253b18f4db081ed4da66af64415",
            "4ed3109c3037462597ca14faca3bb1fa",
            "2f3fbc9400a54f4db8694c67ed20cf55",
            "905b5e26d7ac43608d9b44eabd1ef956",
            "40180a6c69e643e99e37862a227d09bc",
            "57d4410728fb4f1caaa683a15a8275c0",
            "04ca83755e8343f39a96b569ec8c8f89",
            "7f7e9abef8b4477aaf5cd37c98b2a904",
            "80ce14ae918f4bb0bce892e7e0d4619c",
            "2b72187ee0804ae1b0844a58c98ffc1f",
            "95fc81bf515b4303a5ffc6d326c0728a",
            "7405817aa90c4492ab457abf0d06083a",
            "08214420625e4b10ac4356a72688e9a9",
            "1bb6104046a247e2ac1bda79fa8fe86d",
            "2f44975c3abd4272b55fcd791792ad0d",
            "cafe425575874a7b8f00ee2f22df7158",
            "0c586f251d5b45a2bb964e5c67726ab1",
            "bbad8cc5fb85400abf30df6cefb133f2",
            "210e21984034434d843bf6355684508a",
            "b2c144e54d584b9ca37c7d95f96d7ccf",
            "5eb5122bc5624615b50a0dc01685e8e6",
            "c6fb41eb2a9a4ebb8a09beed2327bc8b",
            "15b54884492d4587a7a80ed658082e8f",
            "5a2dbe51adc64eb4966dc4a0cafeea3e",
            "79588fdf693348f49fe4dbfe4a421c51",
            "db9349a287864eb79d861eff043664ca",
            "66652bb1864d4d70a13e3eb04db0df8e",
            "0038f1e4507848048824034b0b9ceba3",
            "dc17ec0aec064c0db9f92762d2f57cb8",
            "6e58ebdbf5564cac8d309a42fbc9e2dc",
            "3a1dc0c09fc24c1c9e373f2949564477",
            "9475be0323ad484b804780c978d32e47",
            "cc9baf46ff4e40d18201afd091a12b88",
            "eeaa192d28184226a1463bd9d2b3c93d",
            "a79ed63d1489496b8393be280ea1b0ef",
            "d93c7f544584468ab1969411e87d1eb2",
            "41ac0f28041c43d9b35b430150f8b378",
            "8c9a5a7ac60449aeae3d0815738458da",
            "b9135e4f859b4492967c3b16ba5c0c7c",
            "46c301fbcd7e4651915892b5922e9428",
            "204bf5dc72bd47c89334110fc173ef17",
            "f65f7250cd0942b190099f6e851825b5",
            "5c19ac52c5444eb688b0f8a234c358b9",
            "09c7afe0c0b047ba9261913d7d3abf24",
            "ec85048e4dcb47159bd6b8b72decd79b",
            "2afa14f1b8eb4d478a30cf9756a34d60",
            "617fc76af84449dea2472a6721b4cce7",
            "84abbd968f204678bddb9b6d4c1315bc",
            "67952aba7f564a3f93920032bced57db",
            "9a101066463a4151be97d55bc9aa16a1",
            "84bc659417ed4a9eb15cc010e6dbf548",
            "4d5d8dc9e50c4f77aae5f5205a450a4a",
            "cdf19610e3dd4dbbaf88ca1089b3f2f4",
            "7b75af4583024da686d591991b8f15c5",
            "a856c8e44dc14c16975786e8d3b8fcc6",
            "2319be178d2d412e994a304272ea704d",
            "2a1c147de0f645d6bf382aed533e5638",
            "8f39dd193b184bb081e6bcd38e346b8c",
            "84d90b888ae44773bb2c1c0f8e7ba0af",
            "e1eecdafe598403a9d44d083f09ec75f",
            "42213686636f4326a503727f17f7d66f",
            "34996d9a425b4c98a843d7e67256680d",
            "c4b8e06db5aa45539d58c6800d46bfe4",
            "8916a8a36aad43f0990ee22fddca6b02",
            "c46c8444e0f343bdaf46bf74a48105ee",
            "a119411455ff41e1ad2cea260ca0c904",
            "e119544c0c3c4b518c3727c5f4e793e5",
            "85067ab8cdbc4caf9920c550be8dd6ce",
            "d8bed880ed3442bb91b5e0ec1dc7c877",
            "887e4f5b2c3c403db02b5dac7ae80fcf",
            "c575604f807d4c118aec804075a7ffe6",
            "ce3c0dcddb734f9fbbc10c53b06d328b",
            "fdecc935e58b44c8a558d17b0eef481c",
            "b3a916d7a81147e092e2c7b358dd268c",
            "690cf30c75f643158e30805924323c78",
            "ab1fb760038747099d093d98fba67367",
            "06a237f031744798a0b891f264c97673",
            "4b7dc04fa87c477cbe8bce126b4620fd",
            "bdc02078dfd6495e85d20672d1efa34d",
            "18b1ee5fe6534ab8bb4dede810a80a0f",
            "828e1fdba8524caabee16881adeefed7",
            "60d4e4d92010451da3fbf1fcee1d096b",
            "4af9a7a8a13b4455a28fb28899130c9c",
            "3f3d8a0f83e543788d6c0ae57b4b7d27",
            "2c13b8e292ad47acb5742c957604ca4a",
            "6abfecde4dab44f1ab8106b95680bd57",
            "a142a86abe5c4e08a673f5df278cfb7e",
            "94f068231ab14c33a2338645a8e8b87d",
            "c9964e2401da45c59375aa6dd4d852a9",
            "4e4de3fd0e5441ffa8309ad70a2ec696",
            "0313a0576c294a59af42c45a67481386",
            "0d0567b1b59c4d9bb783840171f4e6d4",
            "a80423565cf447a48e0088148adeb327",
            "e94ebfdac1274ef28cc25067b955612a",
            "0678b9fd71764a0da2f0d52fc453ad8e",
            "feae1b9583c247e9a5ee9ff64b778a8b",
            "833a1617f49f4c8494fb4aa4641a1200",
            "a796794b09ef407db46d741039357305",
            "e3008248e32d48328ead831d49c53d95",
            "f7cfc5341a884634bd00f51fb1ace803",
            "e11e75ed7f054846a6b4eede9cc53590",
            "688415299a234b98adf4111e0a684bae",
            "c9afd1bcc4da49d8913166f8fb8a0139",
            "a4dcd052df4145679aaea7c402d625d6",
            "0699da3bd54544168845c372e599b1a2",
            "bcfd39fa01994bdd91fa7fb83282f942",
            "5fb1d7ce65f44fe1884909ce485949e6",
            "dfb9d6398f0a4f8fb556e733753e4925",
            "eabbb64e396b491d9400fc2dbf19abde",
            "7edeb5ff48b6448da84a156f14be5bbe",
            "4d7963361d4e4e8b9d404f0237f84a9e",
            "2a9b6946094f487e9509eb4f19cdfb37",
            "a33dfc6b16384c00b1fd50f1ca95c923",
            "2f42e0436ef64e3bbc2cf4d861dd6327",
            "7eddf1ff29c7483eb5f862ef05d6fb9c",
            "145de6296335491b8c424508813da303",
            "0830e4ee9892470a9031a1b607f5684c",
            "5375a9a21e674827b9b84d2aca3d6c6b",
            "c20db6155b82429d89f2d7051a23e35a",
            "7683137c45ed48199d5bdb8d1b47db3e",
            "144f4fb387e0450e8e2c9f7945476ca6",
            "7e4b83f6743845a0a7328d09d3100386",
            "4765b07c1cf145f1a3326f8444267b40",
            "dd706d2d51914993851f1409b8d81c75",
            "5f4c0e05a7a6471db7c28e9a68133eeb",
            "fa86ef46c47d4acb8ad00957a048f0ce",
            "a8ac287fd1c74d8f805d2befbbfd472c",
            "e285dd11d99342f399eee7b03dfa4560",
            "3ef6ceb1c55445f6968260be15157348",
            "58a498e77174408da032fdf47a2e2f4b",
            "65224b43380e43ac8039c483d7af25db",
            "f480ae2b58ef45e686a8f942229ec248",
            "019fc6e4eef741839cfac906241947e7",
            "7580d2b403a345aa90bef7bc56660598",
            "4a3979c953334d20a5cc511b3c886318",
            "94bc76b3c47341b9854abae8ed7cccd0",
            "8bbc5f8c41854ae18868f5dc222ee829",
            "701ca789fa1f4e85b9a7a4e22a402afe",
            "629e07032ea449a19396582908a9b6d1",
            "45ff328935eb47ffa8c3aeaf5712fcfe",
            "efb9a7b240484cf5b6e0982ba76fd01a",
            "2c85b3ceeee54a7dba4557b2ff01e070",
            "0f901b262c184fd1ba464193091a0540",
            "46001ffe7d9241eabdf730b2f6c2dd9a",
            "1aba37a5b0b44f199ee6177b7d006095",
            "9b5fa34b7a0b420fa31eba8d7d6bd5de",
            "2b0e07dc6f2e42be8332500fa05b701f",
            "1a6cdf25d9384312a1a489f04e1bd08e",
            "e49c9cfb648b40e390fa4eab91f11ed3",
            "378dc94042dd420a87137fc0a5714b86",
            "715e4954cab1439fb544a9901ac1ecb7",
            "6980d060ac1e4ecb94841a49df510451",
            "ca0420a311d44b81b8d86973bca62c09",
            "35ef9a477b8046bca9cc2aa769f998c3",
            "3874a6a66a504378b88e110dd46953b9",
            "79132ad248234107a11e34b303f63cf8",
            "7e1785a1d1f64be2896b19e8f0992502",
            "2f8b00202fe14bca863d3f8abbe1af3d",
            "fc8623ee492a48409916bb98c0d51208",
            "66bbe5d92c7949cb9dad32abe0ee8dbb",
            "edf74869f11346b5a1ac803d55f240c5",
            "eccf6c15859f48828a76437ef4e3708b",
            "3e0fa995f553417581723c5f903ac666",
            "f79cba9512014cd6a701ec5c7005be58",
            "a2ba01be8c144ebdba335ac7310ac172",
            "782e925427b84c28a086d9ec5da797ae",
            "6f1b3c79b3a44aebb8c3ef98a7dabada",
            "9797bb41be9d436bacfd53aa6c498c70",
            "c02ec0ffc29e4c7481a4ed7f580a33d2",
            "6aadc62507ab4c58842ede7c85b4e422",
            "aca74fe16a0b4085801a2786decf4c8e",
            "414d60c0ef8546b5ac707de54504f974",
            "7da7534a684e4b86a8eff85c11cc6d58",
            "9b6ef1a84529423ea8e46777119031a5",
            "9b225bdbf97d4e818046f4fec5be8043",
            "e525358b13094bdc977cdc2276d3cc1f",
            "588ef24dd7e54997a2e078f1dc869257",
            "c7a6c4b70d4b4ab5ad2d12b2a1066ae9",
            "b70b0e1309b14ee2903b994e83f4af48",
            "3112710564b0481c9a6e693a9387ccb9",
            "d8e23763ee6d477799b9a9cf701d9bc9",
            "3bc885d4c71c4c718996202c2fafa8a9",
            "70b149f4703f41f6821024aeb70078ed",
            "d3759efd36484f05b849651f84898e61",
            "11ffc2a0bb3e4a3f932c468dbf3bb0ec",
            "31ae976e94c24bb28d34f873e40d7d30",
            "770b2b6cee9a44139068b2b1768295fb",
            "9a27440a3c044584b76fc1c545c655d7",
            "7141f00fc44648e28c3f22b1fba85e7d",
            "0b7c782c0ed44ee0aa874f988c386342",
            "531df5393e3f430dbd26377dd9906e12",
            "2fba5eb13d0e46a189411a795a3944c3",
            "00febd5156e949728082e66805ce1da4",
            "134f5ddbb73d4a58b81148f55a6d822a",
            "1d49a4a1fbab409f9cee0a3af5ee3a36",
            "097c24e5cae34ac19ea1fd4facebe0d6",
            "04dff6ebb17a4102ad7f5aa0f6eb5649",
            "150218a9f61a42169a50c2228171bd56",
            "dfbe0656968946639bc4f9fad2353ad8",
            "fe7299611e6740f9a017b7022606fca6",
            "5b9a7631ee194a78b248f5db55577a70",
            "28f1f4c9f4274d4d811f6708208e6409",
            "a9cd0a915c184d6ab0e184b29622d691",
            "905340f1c3564d0c96dcfe062d09fc69",
            "46c8b77fdb9c402e9ed9c0f54546b9bc",
            "1e51ebb6c7164f96a37273f320c5d339",
            "9a2f171c5e60499988c84d340dbe61d9",
            "e3ccb542c8da480ca5f6916d790db0b9",
            "465750ec08de45e7a060be3042d5a675",
            "0d334b7b953e488cb401b9ef77c21960",
            "09036230a447401298216d342f190366",
            "229831ccfab84d67ae4fdb908477780d",
            "43fde63f0de448beb623ee1dff3d598b",
            "c631dccfc1a0479486b2b083afbff46f",
            "8305eb961e34403cb45c8ddf7d022fc6",
            "f52972a35dc44441a5d6718fdf08cfa5",
            "8f97037c247f414d936e3e434b5fff6e",
            "7665933376484f21a7e7a774b8c3fb82",
            "31c6ebecb3ef46eba4617c9917bd896b",
            "189d6d8e9f134cc4a0eda400f02c15da",
            "d5eaac76a3544e57823ba4f9de0f0fe5",
            "a823d38a6ba94296a3f652bb04ac8584",
            "686adc53a82d4cf6b8ee5a5499299092",
            "a05d1a8d98bb44e786270b0e433e7457",
            "496c8e2166cd49cf8abf496096e399ce",
            "4e0470cab43243dab1cd9c6da726088d",
            "485a5d27a68649a9be852a87bfb0b56b",
            "81e1a045974a43bba6e878f6193e779d",
            "c7d597f836b246b395ca002ab63fe315",
            "75874f0899bd46228f94ed6c06eb4fd8",
            "ddfd1053e73e4fd1bca1f093c01ea6d0",
            "24ad73393fc54462a757c13243d8bd40",
            "116fd3aa50a54f8faac35a34e41b475e",
            "3e8d4aa0ea0c4ad78f9b84748d4ff019",
            "027bbfb0c30d440ca78710117a88fa50",
            "dc0beb83ca654b2780a71cdcc8fdf47d",
            "80b0e06e97ca4e34b88597d29a840c89",
            "3fcb0ff43b40497f931263ff90bda485",
            "9e01efabd0e047b7b56dff933557300b",
            "d48065f95d6a44d985e3ccad73d815d0",
            "859705c133f74a83a64c1701ce567ad8",
            "a1cb1e12c67541f78eb0cb6df9c4f021",
            "fe3bb8c42f5f4beebf023732953a5dea",
            "f1c48d019e9e4d2f8dc0ec7b3796d1fc",
            "2c64cb887fde495e8662432427cbff8d",
            "acbaa13687d74e2491360a6914ab0c3e",
            "3b028c7748874edea9cb8c2ce30ea8ca",
            "53864f5686af4fe4bc64e0520bf9b989",
            "ffff70cd145b47c5b354cc68255bf0d1",
            "6ced9ac6cc2b4c7abb66bd2b6cae2694",
            "ec303444e14d4d389c87219157211900",
            "04d9915243b34a99b73147cba0366ce0",
            "00ac841d3dae4db3ad48c8f287a04e43",
            "b00940addce54c129dd9064442d46823",
            "047716f308234d478b0932cde95362c0",
            "5ab73ebad2c84b248f2a81ad7aecba09",
            "751035a10f614dbaaf9d03309f2aec8f",
            "4a82a3cb26ca41a3adaa27b1a008d900",
            "720ebdeea3cb4656b51e2eacc039f49d",
            "8eca911b391f4b35a49dcb57c8d6d0b1",
            "04fbae0cd589424e887ee95b54ea2708",
            "671a36b22a2f4400b3bbf634dfa2550f",
            "3c59fa811b394381a83e93267f03f983",
            "4ff50cac8b944871bcd4ecdbf27848f2",
            "863f17117c25446b84c56ab59c8306b9",
            "8f7e0c54b77746e2afe77669ada9f8ad",
            "9799ebc097984b57a5bd19d00413d8bc",
            "f8dbf46cfa414f4ea93b4e738fcab5ca",
            "000a1aab3fb64d08b67e674bd4e82c10",
            "2cfbb72a016a4ab5bfea2eecba3ffe40",
            "1d4404f933584a598d9e4835e90cb7dd",
            "ed38fdf0a0fc461ba29d7c4d69c14395",
            "588d4e37cea947658b31fe26a43c819b",
            "da2b13a2e4ed48a6a61da82b00e04f24",
            "2de092877d914267a60432878f8b014f",
            "16b5956e48a5418d98499e3fca10a54a",
            "389061835b234585b759795f68e27d65",
            "b3f2e6921ee84a8087dd3364fbc1a290",
            "68de05220f4048e58259265e10ef4df6",
            "a80e02e157a54ee1a22eccec596ad9a9",
            "e6a27d9aafa042498df7645567b5a8d4",
            "f6abad2d61bb49989bdfd9cba8e7f7cf",
            "b40fc726d3f942f5abf11e1559f56c32",
            "c2275f13337348b68e66101664ac9eae",
            "fe26a31ca4374086a4cd95b295d339e2",
            "7e0b9b0880ab4b6ca668397378e6b17a",
            "f70cf2f2f39b4d7886f0130f31a86529",
            "e14838aaaf3c44828b4e4885d9b37c03",
            "3073bcfd1fce410bb0df83e3e029417e",
            "7bf1188c76f64361ac7a1777e0f6eb5d",
            "39b5a819c4774286a838fbcc9eee1657",
            "4fb17815dd6f4b9398f6e01d54eccbff",
            "efbd0e64236d435fa0b32353b276f586",
            "0c8b455e784444f19a05fd49701dfda6",
            "0f90806d711e47818e9f3ef5f311c5f3",
            "8c570915cc2f4d3d95377576c4ed0ad5",
            "39ce85a6f13045b2be9266f934130376",
            "cb7a9735dde04467a59934f8fcaccd4d",
            "c2c4d7bfb49a4c919cf9567d2a42f597",
            "ac515ca04b274b59b1558c93251f37b8",
            "f66992fb550246198a94b884086b129a",
            "e9c41868d5244743b0d50d5f60d86f01",
            "b5c495a692bd4ffe9251bbee4f1dfb95",
            "f31ce2da01c24014ba3b6fa66df5e1d7",
            "8e126966087f4c8e928da082562ef161",
            "6e6589ee076f426887906081d890610b",
            "865a7849baca4620a83b61003b518752",
            "5a18d7eca1144490a7194152716a3399",
            "e3af267062e34d5dbd8b81d51de314f4",
            "0e72cbee61d745c3be559d0d8285d544",
            "9a9b1f296533477c8fb6c86de81e3b1a",
            "a2ae7b3bb80747ceae2249b37b08d5e4",
            "3373e9bb0bb1469cb8b798aa3068c925",
            "24bcf302bb124d778515c35c390fa63f",
            "25f24d80285d4131857ed2a078c7def0",
            "7c8cf552738f4cbabcffcbb19fcf01eb",
            "876371a7bf45412bafd6ddad585a140d",
            "81e438cd3b634fb687c9772f9617f98e",
            "0b0424e15c97423da6d697d5ed2c93ec",
            "4252f462094a4e098ac22c9ee61f4d1a",
            "6c5df42c660a4c1a8ca26bd4e6630124",
            "45e3e25308cb4d43a2316b577b49d0af",
            "a816fe74ed5e47319c08062e851d9d10",
            "61022547438141fda9d8fe9d80b7cc87",
            "8ab1a6653dea42f3bed0a0adcd6e9a6d",
            "47b1092a3d9e46d693dc5f6b2283a8ed",
            "dfdc9cdd699c42a28ad4393973cfb092",
            "090a504d4915481b8b5af99d3449212c",
            "7f810685b6d041308b7d124f18b907d2",
            "0e89652a343f41d7ae86491142ae2421",
            "dfbfe130c25e4b01b5ecdf67ca7b75fc",
            "230b56f49e854b2da34257f044d7917d",
            "17a9eab781b64aee95bea08fb53cbbee",
            "5db539e5fea9424ab96d9e7c0d63c67e",
            "8233d08108444cba8a6170546a9f6b89",
            "641bd5f94f424d968b8ca17f700ef1e6",
            "457b4bbdca60400684721d4707c54680",
            "bb8ee005c9a34f52a7177ae3a37d37e1",
            "8c97fc2c663d455e905a06f8fce17dce",
            "44daee293b224f7db7235681383a7c22",
            "8fddbf4050ae4c89b6dcf21fcca1e0e1",
            "4739b3a71c10419eb86a167a122062d5",
            "f046986bf16f4e6bb293a94f2d54ea60",
            "9ff3883efe564bfdad3a1f256d3e9c82",
            "884f745a27844670aec6165038a9d4b9",
            "aaa7c0eaa84a43b2bd222f7b4de14435",
            "c9611283d3f64506832e154d97e874fd",
            "efca7c3a5b5c4b55a3807436a642b930",
            "9a07b9f223dd438cb677e5de0ff3df49",
            "8053b8824ec14e1ca5eeb9300ae84343",
            "100baefac91845a1bb77965485bc4af7",
            "13eaf41c96914120a346a6a8373c8ab2",
            "5e48b598666e412cb5836062c6cd44f9",
            "e8158a10c8d1466a892733ed121436d9",
            "a69027123edc447e806e20566ea0280e",
            "6a2d126edbf146d4bc24025e0b729d86",
            "22e19b66df364fa08342d519fcbc0d1e",
            "a35924cb9c4041a88489aeb93dbb113b",
            "e8edd5e82c914706aec7c2158a0d977b",
            "2c33a80329d343bc9200841e04e5193b",
            "11280a0b381d4917bf66476b7012af14",
            "991f0bd5c7db45bfa8ad379af6db82f7",
            "050b855766da42faa19e12f94f66ffc8",
            "e65050da47b641bab770cee267b596f9",
            "a66f9d8bcd224392be8165baeb6c285d",
            "17f62718a9674ad89bbdd03901cf4513",
            "43da5e33a4fd4f84b5cd49f74ecbd50c",
            "7f349569a88f4a7898c19f274d91ae67",
            "0b586ee967614d4aa13235126428041d",
            "2ae4971509b4450ab0c5669d7a65039c",
            "39d03fbddf8d4aeda58a663e462c3da6",
            "a2ee4c7af7a14ac48d621492b139f490",
            "101f58b44d0342d5956a1e3be5e4f473",
            "b99c6cf385c7462da392fd9df9b68fa5",
            "6ed197780a6c4ad2bf537f3465827a34",
            "953b9d184e23448e96a8cac6c4d63404",
            "39b84836fd2c43118140f86b73f5563b",
            "c4598fa3f5de40a6b923c1b6e2593bf4",
            "c13c376486b0421988201585f477c8e1",
            "77e4ce81d2364f3181326f7ab07113cf",
            "8a3bec30f08242b9b3592d535aeaa5b5",
            "533c0b725c8e46abb257df207c3fcc40",
            "be9e7d999da4423487703c5be13c3a7d",
            "91c7a7280050446a95a333612f0c512e",
            "3271529052334a46b1b6038ee4043d69",
            "49a717ad053c4052a797960079d91bd9",
            "a9c2d30ee07140e6b8fa8304b756603e",
            "7a31cf1c96fc4a63affa60d08147c6a9",
            "20f068db6e834883b7ada258dd3e1a67",
            "22354e3e3fcc4eb094f5664c16d88e97",
            "32534b70212a415390370a85fd049515",
            "d69bd698eeeb4abd91317984a2d59e6e",
            "ff4b3fb79bda48d68ff379d63a5dde86",
            "26b6a793d4be43ea870b09177143ab82",
            "587059a16b924a34b49eb6013170c01c",
            "061fcbc7fab74eb89b05528a6e3e67cd",
            "9de55c589f4a42608519db2b35ea8d3b",
            "03d33ec5846f4fe3a35565e758c7a0f7",
            "81d679ce77ad40398eb94a059fefc696",
            "41037b24b9514e3b910309eacc27b6a4",
            "5cb904b2c1ca482bb3158104e8267480",
            "093c4ee3647342bcab2e2eaced5f3492",
            "82b545931cd84b289992e2e31c1bcee5",
            "cfb97137ff464cc58c0e095ccfa8ae56",
            "7c4e5757d98e4fc6ab247a309d5fc3a6",
            "27edcc84e48f4dfe83432b1d2ddb38d5",
            "94ec873c41484531b53b002523e29968",
            "64e8abf6bc5245318073baf63d743e17",
            "ca96b57c10e54e2cbeb80b8cbec992ba",
            "ea47c384b8b641749be1603fefcc5e9b",
            "48a946658d0f44018ebab8a6d8c366b4",
            "825c74ede14c4642ae76e9109d9d7a70",
            "d77bde15e97f4b819213369fbd87b660",
            "e1299966861d43a2b114a90eb7ca52aa",
            "b14e8de049f9458aac8fc2b1e15f4525",
            "e3b9c5add3b84f0abe4023aff708b5b2",
            "c16fa656353e43758e35a74590829e19",
            "0adb842fb38f4adb84de23480ca9a990",
            "b4b7b3d1bbb043cda32bf0e6d2a1ed2e",
            "799544dc3af3423da4be17f999304f14",
            "8853b938f148495ab18d7769b88048f3",
            "e0daec1cb5444435b3de8af24a10d5a6",
            "99812cc680a64d3ebd5bbf70b7aab477",
            "0e9c113bd82d4e939f64397ae6ecf64f",
            "66b936bd11874eec943c01bc1835df06",
            "f3ff0e1318d0471c95de9608b3f537d5",
            "bd04b290578546fd82ba44e2aae2cb36",
            "87abbb1139e74da8ace8840604b62983",
            "4f0f50ece1bf445982900e9e8c04d8f9",
            "b1b5977e2e7f4e21997e4951fe87de43",
            "ce13e037a42440479d2ad27ce4c6b296",
            "a98bada9c0014413b8b805319dda398d",
            "23f1549d72304e09b8659ae917aab114",
            "b1f94129e64841909ca0db49b07c8746",
            "587b6a7af1b849c2a8da3f8a232db2d8",
            "8686bb78ac3640ebb170eb4f7b95cd2c",
            "fd6f78757c9942b783b22bb5b0d56f1d",
            "b8fb96fca6b346e99a408b4a1bc81a6f",
            "c6c3f7fa00104a0681a5bc97af55f560",
            "3c3b4b51c3f3444ab9386af873b9ce09",
            "5bbe4990e0c54582bb929577bc80117b",
            "f49495bb278f4b4ead919fe321d4baa4",
            "878304b02ec5487e8dd1e91f9df66d14",
            "1e8695c435ee4e3ebb647590ea3cafbd",
            "bc999c31e10f49c98313567d8f943318",
            "02dd856a5f914cbe93f45b82549c854b",
            "978ef14e93f548f2800bcd7fe845110e",
            "1b31f779002b4e43b54db7081cd962af",
            "732d1ee254d241a69360db054ed6f7f6",
            "7191e10fcfcb44f698b3b6efb76e2132",
            "56ca0e09bf034cc9913f8337963c4cb9",
            "2e8e97357c18484ea49f25c0ba68af92",
            "6fe6e6d0526a4cc29e8420238e345cae",
            "3ff33e7002554d4aae57dc27ee09f2ba",
            "3b94b39ba51a4dc699526689682d196c",
            "3dfb87e6a22340cda67f55aa3d419e7f",
            "8344b28b9052492da401e41f8140e4e2",
            "1762ad9315aa4ae0b9b7e06a1b4d9fe5",
            "50e5d8bf6e424f75b4fca1a5163772c1",
            "8dc51d1eace74ebd9fa039058cb7fd5a",
            "38d3de3ffa00406da3a8887208c03de2",
            "d11a5f6d7c2f49e6b7622a52638a9027",
            "244d7356d7514bb4a83ade4258c3ae4f",
            "f6043ed07d8743469a79d2ddf867fcb3",
            "332e7e2238854a369b05ce42002aae69",
            "a35092da55ad47c99cd0fe3faa938f19",
            "3967ea3c8d734abe9f71b9873fd37dc4",
            "52db48ac24444d1082df593b73e437af",
            "7a95b92906db4cee8337998d6c317811",
            "16a75e8ce3b14b5bb9fac10588bd24d3",
            "a1289777b4144eb0840a172c7140aac0",
            "2cac6d3eb689406982a3041b69c7243c",
            "96b5050587d7423aa8ec7453260af18f",
            "3a23406f0fa647bca17ed441bcf9281d",
            "6e9bc3b9613f40a085693e54509714f9",
            "d2429ffede374824b8587a52e1775258",
            "43a97d8c33f94066aaa94d4dfbe1accc",
            "fb0443d0103f4f43bbd5814e7c277e6a",
            "afeb4cad566f4d16a6ee01d5cc0b74d6",
            "44ea9cc612954ab9ac424c84b19574a1",
            "81f0ed8f880e4c5db4cd82e315b12359",
            "0144503c8749492ca72ef0dc5759be89",
            "a9859e7e0d624ef6a4136688a4a6b2c7",
            "a2eb4eb58d5642bf9f0feace85c850e7",
            "ae69f7dab774462786664c6bdeeb0533",
            "17c816cbc39340b48fd5f86af0752c0a",
            "30d1631959444d73a1a872170901da4f",
            "f1fba9131af141ef9acbaac39691e796",
            "828b9fbf55344cd499591a32cfcb09ed",
            "b9053b01cfe2415f852816aedf9a8fd1",
            "ada7394b583c4cbb8a46e7c42be15edb",
            "de79f495e00745d7aa3ec779ae85e8f9",
            "b2c72f8a74824194b360fc7c6a9babe1",
            "c66a99ee4f5d4bb7b59ac906a4a35839",
            "9455eb20d8c64850a7fb40f7166a618e",
            "21fdf7d0c75d4d64b2e7c1cc02fedb32",
            "a7f50defaa96403caccba4e55836ca70",
            "9398cf04578f4fd3b0506d1de85aad3b",
            "d5eb07e76ec34ef6a23548372cb96685",
            "676bac100856474da9f577bdd24cb8ee",
            "a72e580318e449e28820503724caa703",
            "8be43552c57d402da03d114d5817540d",
            "bf898c99067c497592ea21f788b3c1af",
            "9a67201f78364a30a1d5cc4997befb21",
            "1d19e5d4e1ef4ddea96a46ea99d94640",
            "ff867d6f8d7b4b08905935956d6362f3",
            "e7142adcecf5485aabac6d309f69ee2a",
            "20acfae8b47b4445a6371498e6f53c91",
            "02fc12eed05b4c19b86391fa6283452e",
            "15a1a867071d4c3889b6420bb89ee49a",
            "9ef6d4265b9d47df8c1299370b248227",
            "31bf2e61fba644b59b867373b4951f82",
            "08a59ba1736e43fdb5e9e9df5a54dfcb",
            "ed29e7cd84c94cada2103799d3b2ad36",
            "8a73773d339d4ed5b32276dc41a97690",
            "5640cbb593be4039bb8af30150e80d35",
            "8d7f0aa2607d4305920c38057f6d6dcc",
            "670911b6ea6441e49f95173ac1904b3a",
            "ef9e2b1ad6c74e5ebb97b71dea47f01e",
            "ef3dfa4c3e214341a0039f132a1d48bf",
            "367a7cdc3e0540b09e934bc1dedcdaed",
            "4203666923ff46608e6cd0987be1a184",
            "3522b6d90756461d832649f99379644e",
            "260f27cda1fc44c4ad4fa2e38cd4b84e",
            "5c2ccb707424405db02ca58719e5e07b",
            "8f5a0a6a8e6a40b08a7b0f0550a63dc9",
            "bdf3f5434adc4124a387b8fc3eee7042",
            "1294e870220f412eb2c42f0d302ec0da",
            "71481e6ca0ce414c885d20f5e23677fd",
            "f2b3202e6a6242ae8b18e5af47464a47",
            "d5a72a61d69b468f9f43e765a56cd62d",
            "7fe317c7bf7f4350bc59b079a0f997d7",
            "e3a3f0e489e14c3290a88011d364422c",
            "98e65d2836604320b1764f39594da020",
            "3a6c9e250c5944e6a2735dab37d0d36f",
            "960b06379a1f45a98becf33edfc4d36f",
            "f2ad5fd0a231401ea69811180ec37061",
            "877dfe32d94a4b41878448bd1ccd0c53",
            "081854da3b654f6494c450d73440ade7",
            "b2d3984fc1ce4991b015f0210cbb8ae8",
            "ec97ceaedf6a431c93e02322ed75be01",
            "266d65fa67074908887c984c5ecb901a",
            "8f845e91033e49a99374ca8718366409",
            "b51f2b6dbec24705beaecd07560e3fc1",
            "0a7df34a17644e55b53beb38d6cb0d73",
            "7936a07ec52f438b870f5dca4e98197d",
            "7031efbd14504050907e43be47fc3a8b",
            "a3d995c7c5364380a5bbfa43c6575b75",
            "e96186478302450e95162112ca71cbf7",
            "5ffe0d1fbc5849b799a4b313a6d6b625",
            "5ab13d710ed54e99993cb418937687f5",
            "44e0561894894491a6afc36c7df2e022",
            "860bc16540894693aec13aeaa09c281c",
            "cf7553eae8d34696a3334be129132eed",
            "d5e89eec4a2c4c60ad312a3a6e848383",
            "7952086f540e47b1bb4daf7a9be3a15e",
            "555845454d3441a7aeeab5f8bb7496d6",
            "f6eed171d9b54d83a98746443c959e2f",
            "59234a5d4e594cedb7cfc79677b61a59",
            "d6b8c9d5390a4c0c8c9dab3bf37468a0",
            "317e83b633d8403e84f5bccfb3a85ad6",
            "2b8d088bad28470fa60f5851aff3c8d0",
            "5ea1e561d6514729a572ec5f40dd2257",
            "ff426e399fe84abd841f58de17359b42",
            "32e4e79419394b9998a5a60511e51f96",
            "5de93959454743cfa7bd392dadbc5eaf",
            "7ebdd87e4b5d411db83c5802a7a3b743",
            "76bfa3b56cea4956967c26c56022f990",
            "b105350d6f5047389b6e09f9e29ceed4",
            "b3654237dfb447f383f8bb4969673e5e",
            "7a29051d74d04145bf92fe97c0264455",
            "85b8c7a21dd8487c92b08408031a2ce9",
            "d98b5b9d1ea0410e8dbd58c1baff3077",
            "307be19ec45f455696928cac22fd9f3b",
            "8834fba5200b43608b148f7764f30db2",
            "db2b10f6fe5044f4828df27084487011",
            "987f1da3f3c84e16bfa6fc6d7313278f"
          ]
        },
        "id": "NlGj4j7V9emw",
        "outputId": "9b398d00-22fb-4aa3-8dab-cc8e9be778c8",
        "collapsed": true
      },
      "execution_count": null,
      "outputs": [
        {
          "output_type": "stream",
          "name": "stderr",
          "text": [
            "/usr/local/lib/python3.12/dist-packages/huggingface_hub/utils/_auth.py:94: UserWarning: \n",
            "The secret `HF_TOKEN` does not exist in your Colab secrets.\n",
            "To authenticate with the Hugging Face Hub, create a token in your settings tab (https://huggingface.co/settings/tokens), set it as secret in your Google Colab and restart your session.\n",
            "You will be able to reuse this secret in all of your notebooks.\n",
            "Please note that authentication is recommended but still optional to access public models or datasets.\n",
            "  warnings.warn(\n",
            "/usr/local/lib/python3.12/dist-packages/datasets/load.py:1429: FutureWarning: The repository for google/speech_commands contains custom code which must be executed to correctly load the dataset. You can inspect the repository content at https://hf.co/datasets/google/speech_commands\n",
            "You can avoid this message in future by passing the argument `trust_remote_code=True`.\n",
            "Passing `trust_remote_code=True` will be mandatory to load this dataset from the next major release of `datasets`.\n",
            "  warnings.warn(\n"
          ]
        },
        {
          "output_type": "display_data",
          "data": {
            "text/plain": [
              "Downloading builder script: 0.00B [00:00, ?B/s]"
            ],
            "application/vnd.jupyter.widget-view+json": {
              "version_major": 2,
              "version_minor": 0,
              "model_id": "6303536bdd1843ad8e3378a67ffb37ec"
            }
          },
          "metadata": {}
        },
        {
          "output_type": "display_data",
          "data": {
            "text/plain": [
              "Downloading readme: 0.00B [00:00, ?B/s]"
            ],
            "application/vnd.jupyter.widget-view+json": {
              "version_major": 2,
              "version_minor": 0,
              "model_id": "f0a8f9a16fe64faa97cdc573751253d1"
            }
          },
          "metadata": {}
        },
        {
          "output_type": "display_data",
          "data": {
            "text/plain": [
              "Downloading data:   0%|          | 0.00/1.94G [00:00<?, ?B/s]"
            ],
            "application/vnd.jupyter.widget-view+json": {
              "version_major": 2,
              "version_minor": 0,
              "model_id": "77a8ec30bddb499f8e24e6baca377b62"
            }
          },
          "metadata": {}
        },
        {
          "output_type": "display_data",
          "data": {
            "text/plain": [
              "Downloading data:   0%|          | 0.00/229M [00:00<?, ?B/s]"
            ],
            "application/vnd.jupyter.widget-view+json": {
              "version_major": 2,
              "version_minor": 0,
              "model_id": "4ece7e9582aa437d97c172ea06008bc2"
            }
          },
          "metadata": {}
        },
        {
          "output_type": "display_data",
          "data": {
            "text/plain": [
              "Downloading data:   0%|          | 0.00/112M [00:00<?, ?B/s]"
            ],
            "application/vnd.jupyter.widget-view+json": {
              "version_major": 2,
              "version_minor": 0,
              "model_id": "2720334de84c4130b6f745149fa8ee31"
            }
          },
          "metadata": {}
        },
        {
          "output_type": "display_data",
          "data": {
            "text/plain": [
              "Generating train split:   0%|          | 0/84848 [00:00<?, ? examples/s]"
            ],
            "application/vnd.jupyter.widget-view+json": {
              "version_major": 2,
              "version_minor": 0,
              "model_id": "d1f8a674eaea4108add865c8e0517e06"
            }
          },
          "metadata": {}
        },
        {
          "output_type": "display_data",
          "data": {
            "text/plain": [
              "Generating validation split:   0%|          | 0/9982 [00:00<?, ? examples/s]"
            ],
            "application/vnd.jupyter.widget-view+json": {
              "version_major": 2,
              "version_minor": 0,
              "model_id": "c16a896f297f4c1aaabc092938c3e64f"
            }
          },
          "metadata": {}
        },
        {
          "output_type": "display_data",
          "data": {
            "text/plain": [
              "Generating test split:   0%|          | 0/4890 [00:00<?, ? examples/s]"
            ],
            "application/vnd.jupyter.widget-view+json": {
              "version_major": 2,
              "version_minor": 0,
              "model_id": "b4afe4de92854f109df4c54feef88384"
            }
          },
          "metadata": {}
        },
        {
          "output_type": "stream",
          "name": "stderr",
          "text": [
            "/tmp/ipython-input-2921285276.py:75: FutureWarning: `torch.cuda.amp.GradScaler(args...)` is deprecated. Please use `torch.amp.GradScaler('cuda', args...)` instead.\n",
            "  scaler = torch.cuda.amp.GradScaler(enabled=use_amp)\n"
          ]
        },
        {
          "output_type": "display_data",
          "data": {
            "text/plain": [
              "Epoch 01:   0%|          | 0/1326 [00:00<?, ?it/s]"
            ],
            "application/vnd.jupyter.widget-view+json": {
              "version_major": 2,
              "version_minor": 0,
              "model_id": "7cf90ec695bc46658d6c539b1965435f"
            }
          },
          "metadata": {}
        },
        {
          "output_type": "stream",
          "name": "stdout",
          "text": [
            "Epoch 01 \u279c train 6.49% | val 9.87% (loss 3.347) | lr 4.17e-05\n",
            "** Saved new best model params ** @ 9.87%\n"
          ]
        },
        {
          "output_type": "display_data",
          "data": {
            "text/plain": [
              "Epoch 02:   0%|          | 0/1326 [00:00<?, ?it/s]"
            ],
            "application/vnd.jupyter.widget-view+json": {
              "version_major": 2,
              "version_minor": 0,
              "model_id": "b44e7f49209d4eca848a581d93902d7f"
            }
          },
          "metadata": {}
        },
        {
          "output_type": "stream",
          "name": "stdout",
          "text": [
            "Epoch 02 \u279c train 19.90% | val 37.62% (loss 2.520) | lr 8.33e-05\n",
            "** Saved new best model params ** @ 37.62%\n"
          ]
        },
        {
          "output_type": "display_data",
          "data": {
            "text/plain": [
              "Epoch 03:   0%|          | 0/1326 [00:00<?, ?it/s]"
            ],
            "application/vnd.jupyter.widget-view+json": {
              "version_major": 2,
              "version_minor": 0,
              "model_id": "b4ff98b4b0ec4ecd823264dbfeb55b27"
            }
          },
          "metadata": {}
        },
        {
          "output_type": "stream",
          "name": "stdout",
          "text": [
            "Epoch 03 \u279c train 48.81% | val 72.50% (loss 1.519) | lr 1.25e-04\n",
            "** Saved new best model params ** @ 72.50%\n"
          ]
        },
        {
          "output_type": "display_data",
          "data": {
            "text/plain": [
              "Epoch 04:   0%|          | 0/1326 [00:00<?, ?it/s]"
            ],
            "application/vnd.jupyter.widget-view+json": {
              "version_major": 2,
              "version_minor": 0,
              "model_id": "c1feba45b4fb495f90183fbd2a56775f"
            }
          },
          "metadata": {}
        },
        {
          "output_type": "stream",
          "name": "stdout",
          "text": [
            "Epoch 04 \u279c train 70.36% | val 86.47% (loss 1.024) | lr 1.67e-04\n",
            "** Saved new best model params ** @ 86.47%\n"
          ]
        },
        {
          "output_type": "display_data",
          "data": {
            "text/plain": [
              "Epoch 05:   0%|          | 0/1326 [00:00<?, ?it/s]"
            ],
            "application/vnd.jupyter.widget-view+json": {
              "version_major": 2,
              "version_minor": 0,
              "model_id": "d737471a06c344a7b936fefe05bba684"
            }
          },
          "metadata": {}
        },
        {
          "output_type": "stream",
          "name": "stdout",
          "text": [
            "Epoch 05 \u279c train 79.50% | val 90.68% (loss 0.859) | lr 2.08e-04\n",
            "** Saved new best model params ** @ 90.68%\n"
          ]
        },
        {
          "output_type": "display_data",
          "data": {
            "text/plain": [
              "Epoch 06:   0%|          | 0/1326 [00:00<?, ?it/s]"
            ],
            "application/vnd.jupyter.widget-view+json": {
              "version_major": 2,
              "version_minor": 0,
              "model_id": "45287e1e8c014261a284f6e3ecda835b"
            }
          },
          "metadata": {}
        },
        {
          "output_type": "stream",
          "name": "stdout",
          "text": [
            "Epoch 06 \u279c train 84.08% | val 92.66% (loss 0.782) | lr 2.50e-04\n",
            "** Saved new best model params ** @ 92.66%\n"
          ]
        },
        {
          "output_type": "display_data",
          "data": {
            "text/plain": [
              "Epoch 07:   0%|          | 0/1326 [00:00<?, ?it/s]"
            ],
            "application/vnd.jupyter.widget-view+json": {
              "version_major": 2,
              "version_minor": 0,
              "model_id": "aa328e09166b40cfbbfa0dc47061cc2e"
            }
          },
          "metadata": {}
        },
        {
          "output_type": "stream",
          "name": "stdout",
          "text": [
            "Epoch 07 \u279c train 86.69% | val 93.84% (loss 0.743) | lr 2.92e-04\n",
            "** Saved new best model params ** @ 93.84%\n"
          ]
        },
        {
          "output_type": "display_data",
          "data": {
            "text/plain": [
              "Epoch 08:   0%|          | 0/1326 [00:00<?, ?it/s]"
            ],
            "application/vnd.jupyter.widget-view+json": {
              "version_major": 2,
              "version_minor": 0,
              "model_id": "42ae0a5f858741d4919b1dd4f111bf45"
            }
          },
          "metadata": {}
        },
        {
          "output_type": "stream",
          "name": "stdout",
          "text": [
            "Epoch 08 \u279c train 88.20% | val 94.22% (loss 0.716) | lr 3.33e-04\n",
            "** Saved new best model params ** @ 94.22%\n"
          ]
        },
        {
          "output_type": "display_data",
          "data": {
            "text/plain": [
              "Epoch 09:   0%|          | 0/1326 [00:00<?, ?it/s]"
            ],
            "application/vnd.jupyter.widget-view+json": {
              "version_major": 2,
              "version_minor": 0,
              "model_id": "2c5de1c7376c4800b7071203b1ee5a78"
            }
          },
          "metadata": {}
        },
        {
          "output_type": "stream",
          "name": "stdout",
          "text": [
            "Epoch 09 \u279c train 89.06% | val 94.70% (loss 0.695) | lr 3.75e-04\n",
            "** Saved new best model params ** @ 94.70%\n"
          ]
        },
        {
          "output_type": "display_data",
          "data": {
            "text/plain": [
              "Epoch 10:   0%|          | 0/1326 [00:00<?, ?it/s]"
            ],
            "application/vnd.jupyter.widget-view+json": {
              "version_major": 2,
              "version_minor": 0,
              "model_id": "fb33035ebb474bcd8ad3f688e91411d6"
            }
          },
          "metadata": {}
        },
        {
          "output_type": "stream",
          "name": "stdout",
          "text": [
            "Epoch 10 \u279c train 89.78% | val 94.65% (loss 0.692) | lr 4.17e-04\n"
          ]
        },
        {
          "output_type": "display_data",
          "data": {
            "text/plain": [
              "Epoch 11:   0%|          | 0/1326 [00:00<?, ?it/s]"
            ],
            "application/vnd.jupyter.widget-view+json": {
              "version_major": 2,
              "version_minor": 0,
              "model_id": "cf097fbf3fb34554acca0b54243a888b"
            }
          },
          "metadata": {}
        },
        {
          "output_type": "stream",
          "name": "stdout",
          "text": [
            "Epoch 11 \u279c train 90.47% | val 95.17% (loss 0.673) | lr 4.58e-04\n",
            "** Saved new best model params ** @ 95.17%\n"
          ]
        },
        {
          "output_type": "display_data",
          "data": {
            "text/plain": [
              "Epoch 12:   0%|          | 0/1326 [00:00<?, ?it/s]"
            ],
            "application/vnd.jupyter.widget-view+json": {
              "version_major": 2,
              "version_minor": 0,
              "model_id": "ee9536aec192474eab5dc2ce97c027ae"
            }
          },
          "metadata": {}
        },
        {
          "output_type": "stream",
          "name": "stdout",
          "text": [
            "Epoch 12 \u279c train 90.84% | val 95.41% (loss 0.667) | lr 5.00e-04\n",
            "** Saved new best model params ** @ 95.41%\n"
          ]
        },
        {
          "output_type": "display_data",
          "data": {
            "text/plain": [
              "Epoch 13:   0%|          | 0/1326 [00:00<?, ?it/s]"
            ],
            "application/vnd.jupyter.widget-view+json": {
              "version_major": 2,
              "version_minor": 0,
              "model_id": "adfa8b3432f441a6a92a6ad3bb0855ba"
            }
          },
          "metadata": {}
        },
        {
          "output_type": "stream",
          "name": "stdout",
          "text": [
            "Epoch 13 \u279c train 91.29% | val 95.71% (loss 0.651) | lr 5.00e-04\n",
            "** Saved new best model params ** @ 95.71%\n"
          ]
        },
        {
          "output_type": "display_data",
          "data": {
            "text/plain": [
              "Epoch 14:   0%|          | 0/1326 [00:00<?, ?it/s]"
            ],
            "application/vnd.jupyter.widget-view+json": {
              "version_major": 2,
              "version_minor": 0,
              "model_id": "47e2b8de00ed41a19a9c9fbc2301fdad"
            }
          },
          "metadata": {}
        },
        {
          "output_type": "stream",
          "name": "stdout",
          "text": [
            "Epoch 14 \u279c train 91.74% | val 95.94% (loss 0.642) | lr 4.99e-04\n",
            "** Saved new best model params ** @ 95.94%\n"
          ]
        },
        {
          "output_type": "display_data",
          "data": {
            "text/plain": [
              "Epoch 15:   0%|          | 0/1326 [00:00<?, ?it/s]"
            ],
            "application/vnd.jupyter.widget-view+json": {
              "version_major": 2,
              "version_minor": 0,
              "model_id": "83d8012472e64e6b87cd1e8bb846ff83"
            }
          },
          "metadata": {}
        },
        {
          "output_type": "stream",
          "name": "stdout",
          "text": [
            "Epoch 15 \u279c train 92.27% | val 96.25% (loss 0.634) | lr 4.99e-04\n",
            "** Saved new best model params ** @ 96.25%\n"
          ]
        },
        {
          "output_type": "display_data",
          "data": {
            "text/plain": [
              "Epoch 16:   0%|          | 0/1326 [00:00<?, ?it/s]"
            ],
            "application/vnd.jupyter.widget-view+json": {
              "version_major": 2,
              "version_minor": 0,
              "model_id": "05879d0d0fa844639a9ce3c5821da43a"
            }
          },
          "metadata": {}
        },
        {
          "output_type": "stream",
          "name": "stdout",
          "text": [
            "Epoch 16 \u279c train 92.53% | val 96.01% (loss 0.635) | lr 4.97e-04\n"
          ]
        },
        {
          "output_type": "display_data",
          "data": {
            "text/plain": [
              "Epoch 17:   0%|          | 0/1326 [00:00<?, ?it/s]"
            ],
            "application/vnd.jupyter.widget-view+json": {
              "version_major": 2,
              "version_minor": 0,
              "model_id": "9b219b2e109843cab2c83f11726e7ae2"
            }
          },
          "metadata": {}
        },
        {
          "output_type": "stream",
          "name": "stdout",
          "text": [
            "Epoch 17 \u279c train 92.79% | val 96.18% (loss 0.631) | lr 4.96e-04\n"
          ]
        },
        {
          "output_type": "display_data",
          "data": {
            "text/plain": [
              "Epoch 18:   0%|          | 0/1326 [00:00<?, ?it/s]"
            ],
            "application/vnd.jupyter.widget-view+json": {
              "version_major": 2,
              "version_minor": 0,
              "model_id": "90298560557d414e946b2e60cefb11b3"
            }
          },
          "metadata": {}
        },
        {
          "output_type": "stream",
          "name": "stdout",
          "text": [
            "Epoch 18 \u279c train 93.03% | val 95.95% (loss 0.635) | lr 4.94e-04\n"
          ]
        },
        {
          "output_type": "display_data",
          "data": {
            "text/plain": [
              "Epoch 19:   0%|          | 0/1326 [00:00<?, ?it/s]"
            ],
            "application/vnd.jupyter.widget-view+json": {
              "version_major": 2,
              "version_minor": 0,
              "model_id": "0639a81dcd384f2a9cb5857feeb30da0"
            }
          },
          "metadata": {}
        },
        {
          "output_type": "stream",
          "name": "stdout",
          "text": [
            "Epoch 19 \u279c train 93.22% | val 96.10% (loss 0.627) | lr 4.92e-04\n"
          ]
        },
        {
          "output_type": "display_data",
          "data": {
            "text/plain": [
              "Epoch 20:   0%|          | 0/1326 [00:00<?, ?it/s]"
            ],
            "application/vnd.jupyter.widget-view+json": {
              "version_major": 2,
              "version_minor": 0,
              "model_id": "b4c029185120482e9551d20b4ffe9ed7"
            }
          },
          "metadata": {}
        },
        {
          "output_type": "stream",
          "name": "stdout",
          "text": [
            "Epoch 20 \u279c train 93.58% | val 96.20% (loss 0.622) | lr 4.90e-04\n"
          ]
        },
        {
          "output_type": "display_data",
          "data": {
            "text/plain": [
              "Epoch 21:   0%|          | 0/1326 [00:00<?, ?it/s]"
            ],
            "application/vnd.jupyter.widget-view+json": {
              "version_major": 2,
              "version_minor": 0,
              "model_id": "f236ec06d0dc4f16926d13be42e61131"
            }
          },
          "metadata": {}
        },
        {
          "output_type": "stream",
          "name": "stdout",
          "text": [
            "Epoch 21 \u279c train 93.69% | val 96.37% (loss 0.618) | lr 4.87e-04\n",
            "** Saved new best model params ** @ 96.37%\n"
          ]
        },
        {
          "output_type": "display_data",
          "data": {
            "text/plain": [
              "Epoch 22:   0%|          | 0/1326 [00:00<?, ?it/s]"
            ],
            "application/vnd.jupyter.widget-view+json": {
              "version_major": 2,
              "version_minor": 0,
              "model_id": "a6fead2cb4964b3abdb3c977364c573a"
            }
          },
          "metadata": {}
        },
        {
          "output_type": "stream",
          "name": "stdout",
          "text": [
            "Epoch 22 \u279c train 93.83% | val 96.47% (loss 0.620) | lr 4.84e-04\n",
            "** Saved new best model params ** @ 96.47%\n"
          ]
        },
        {
          "output_type": "display_data",
          "data": {
            "text/plain": [
              "Epoch 23:   0%|          | 0/1326 [00:00<?, ?it/s]"
            ],
            "application/vnd.jupyter.widget-view+json": {
              "version_major": 2,
              "version_minor": 0,
              "model_id": "09e055afc4a443d4b255e7ec5171eb69"
            }
          },
          "metadata": {}
        },
        {
          "output_type": "stream",
          "name": "stdout",
          "text": [
            "Epoch 23 \u279c train 93.95% | val 96.31% (loss 0.622) | lr 4.81e-04\n"
          ]
        },
        {
          "output_type": "display_data",
          "data": {
            "text/plain": [
              "Epoch 24:   0%|          | 0/1326 [00:00<?, ?it/s]"
            ],
            "application/vnd.jupyter.widget-view+json": {
              "version_major": 2,
              "version_minor": 0,
              "model_id": "d5a80447508441b999dd6313d7f8e576"
            }
          },
          "metadata": {}
        },
        {
          "output_type": "stream",
          "name": "stdout",
          "text": [
            "Epoch 24 \u279c train 94.13% | val 96.42% (loss 0.613) | lr 4.77e-04\n"
          ]
        },
        {
          "output_type": "display_data",
          "data": {
            "text/plain": [
              "Epoch 25:   0%|          | 0/1326 [00:00<?, ?it/s]"
            ],
            "application/vnd.jupyter.widget-view+json": {
              "version_major": 2,
              "version_minor": 0,
              "model_id": "4dec123ef3da4e429f8a218a4b6d3cdf"
            }
          },
          "metadata": {}
        },
        {
          "output_type": "stream",
          "name": "stdout",
          "text": [
            "Epoch 25 \u279c train 94.33% | val 96.83% (loss 0.608) | lr 4.74e-04\n",
            "** Saved new best model params ** @ 96.83%\n"
          ]
        },
        {
          "output_type": "display_data",
          "data": {
            "text/plain": [
              "Epoch 26:   0%|          | 0/1326 [00:00<?, ?it/s]"
            ],
            "application/vnd.jupyter.widget-view+json": {
              "version_major": 2,
              "version_minor": 0,
              "model_id": "3eef174df73647b3b3442b3420d1ac88"
            }
          },
          "metadata": {}
        },
        {
          "output_type": "stream",
          "name": "stdout",
          "text": [
            "Epoch 26 \u279c train 94.42% | val 96.45% (loss 0.611) | lr 4.69e-04\n"
          ]
        },
        {
          "output_type": "display_data",
          "data": {
            "text/plain": [
              "Epoch 27:   0%|          | 0/1326 [00:00<?, ?it/s]"
            ],
            "application/vnd.jupyter.widget-view+json": {
              "version_major": 2,
              "version_minor": 0,
              "model_id": "47b790217a984337a08bd1606fcb9cc1"
            }
          },
          "metadata": {}
        },
        {
          "output_type": "stream",
          "name": "stdout",
          "text": [
            "Epoch 27 \u279c train 94.54% | val 96.62% (loss 0.611) | lr 4.65e-04\n"
          ]
        },
        {
          "output_type": "display_data",
          "data": {
            "text/plain": [
              "Epoch 28:   0%|          | 0/1326 [00:00<?, ?it/s]"
            ],
            "application/vnd.jupyter.widget-view+json": {
              "version_major": 2,
              "version_minor": 0,
              "model_id": "13f1e88e29e74a8b8a08361d216b4e2b"
            }
          },
          "metadata": {}
        },
        {
          "output_type": "stream",
          "name": "stdout",
          "text": [
            "Epoch 28 \u279c train 94.63% | val 96.75% (loss 0.608) | lr 4.60e-04\n"
          ]
        },
        {
          "output_type": "display_data",
          "data": {
            "text/plain": [
              "Epoch 29:   0%|          | 0/1326 [00:00<?, ?it/s]"
            ],
            "application/vnd.jupyter.widget-view+json": {
              "version_major": 2,
              "version_minor": 0,
              "model_id": "797b04cdabdb4655a9567fa8a5f66025"
            }
          },
          "metadata": {}
        },
        {
          "output_type": "stream",
          "name": "stdout",
          "text": [
            "Epoch 29 \u279c train 94.72% | val 96.73% (loss 0.608) | lr 4.55e-04\n"
          ]
        },
        {
          "output_type": "display_data",
          "data": {
            "text/plain": [
              "Epoch 30:   0%|          | 0/1326 [00:00<?, ?it/s]"
            ],
            "application/vnd.jupyter.widget-view+json": {
              "version_major": 2,
              "version_minor": 0,
              "model_id": "50a5f42c7c6a4c86a1c8707f940ada9c"
            }
          },
          "metadata": {}
        },
        {
          "output_type": "stream",
          "name": "stdout",
          "text": [
            "Epoch 30 \u279c train 94.87% | val 96.79% (loss 0.603) | lr 4.50e-04\n"
          ]
        },
        {
          "output_type": "display_data",
          "data": {
            "text/plain": [
              "Epoch 31:   0%|          | 0/1326 [00:00<?, ?it/s]"
            ],
            "application/vnd.jupyter.widget-view+json": {
              "version_major": 2,
              "version_minor": 0,
              "model_id": "686904ba7cc34e72b70ded17477ea9d5"
            }
          },
          "metadata": {}
        },
        {
          "output_type": "stream",
          "name": "stdout",
          "text": [
            "Epoch 31 \u279c train 94.89% | val 96.46% (loss 0.613) | lr 4.45e-04\n"
          ]
        },
        {
          "output_type": "display_data",
          "data": {
            "text/plain": [
              "Epoch 32:   0%|          | 0/1326 [00:00<?, ?it/s]"
            ],
            "application/vnd.jupyter.widget-view+json": {
              "version_major": 2,
              "version_minor": 0,
              "model_id": "bc16bfee24934396bda9ed12a3c69df2"
            }
          },
          "metadata": {}
        },
        {
          "output_type": "stream",
          "name": "stdout",
          "text": [
            "Epoch 32 \u279c train 95.01% | val 96.73% (loss 0.608) | lr 4.39e-04\n"
          ]
        },
        {
          "output_type": "display_data",
          "data": {
            "text/plain": [
              "Epoch 33:   0%|          | 0/1326 [00:00<?, ?it/s]"
            ],
            "application/vnd.jupyter.widget-view+json": {
              "version_major": 2,
              "version_minor": 0,
              "model_id": "4f2d2faf728f40a18ad7b26b28773aa8"
            }
          },
          "metadata": {}
        },
        {
          "output_type": "stream",
          "name": "stdout",
          "text": [
            "Epoch 33 \u279c train 95.22% | val 96.86% (loss 0.606) | lr 4.33e-04\n",
            "** Saved new best model params ** @ 96.86%\n"
          ]
        },
        {
          "output_type": "display_data",
          "data": {
            "text/plain": [
              "Epoch 34:   0%|          | 0/1326 [00:00<?, ?it/s]"
            ],
            "application/vnd.jupyter.widget-view+json": {
              "version_major": 2,
              "version_minor": 0,
              "model_id": "edb500259cf04f1db8d2922391e37999"
            }
          },
          "metadata": {}
        },
        {
          "output_type": "stream",
          "name": "stdout",
          "text": [
            "Epoch 34 \u279c train 95.27% | val 96.74% (loss 0.607) | lr 4.27e-04\n"
          ]
        },
        {
          "output_type": "display_data",
          "data": {
            "text/plain": [
              "Epoch 35:   0%|          | 0/1326 [00:00<?, ?it/s]"
            ],
            "application/vnd.jupyter.widget-view+json": {
              "version_major": 2,
              "version_minor": 0,
              "model_id": "56bb0ffcee7b4608a009ec84126c77e8"
            }
          },
          "metadata": {}
        },
        {
          "output_type": "stream",
          "name": "stdout",
          "text": [
            "Epoch 35 \u279c train 95.43% | val 96.72% (loss 0.603) | lr 4.20e-04\n"
          ]
        },
        {
          "output_type": "display_data",
          "data": {
            "text/plain": [
              "Epoch 36:   0%|          | 0/1326 [00:00<?, ?it/s]"
            ],
            "application/vnd.jupyter.widget-view+json": {
              "version_major": 2,
              "version_minor": 0,
              "model_id": "c648e537a5874d3587a2ef6747d6ea81"
            }
          },
          "metadata": {}
        },
        {
          "output_type": "stream",
          "name": "stdout",
          "text": [
            "Epoch 36 \u279c train 95.38% | val 96.80% (loss 0.601) | lr 4.14e-04\n"
          ]
        },
        {
          "output_type": "display_data",
          "data": {
            "text/plain": [
              "Epoch 37:   0%|          | 0/1326 [00:00<?, ?it/s]"
            ],
            "application/vnd.jupyter.widget-view+json": {
              "version_major": 2,
              "version_minor": 0,
              "model_id": "5c701b70e10840b9a0deb8fbf05b19a4"
            }
          },
          "metadata": {}
        },
        {
          "output_type": "stream",
          "name": "stdout",
          "text": [
            "Epoch 37 \u279c train 95.48% | val 97.01% (loss 0.595) | lr 4.07e-04\n",
            "** Saved new best model params ** @ 97.01%\n"
          ]
        },
        {
          "output_type": "display_data",
          "data": {
            "text/plain": [
              "Epoch 38:   0%|          | 0/1326 [00:00<?, ?it/s]"
            ],
            "application/vnd.jupyter.widget-view+json": {
              "version_major": 2,
              "version_minor": 0,
              "model_id": "fbe5f0bcfc574e20a7b9dc9710a45011"
            }
          },
          "metadata": {}
        },
        {
          "output_type": "stream",
          "name": "stdout",
          "text": [
            "Epoch 38 \u279c train 95.50% | val 97.13% (loss 0.592) | lr 4.00e-04\n",
            "** Saved new best model params ** @ 97.13%\n"
          ]
        },
        {
          "output_type": "display_data",
          "data": {
            "text/plain": [
              "Epoch 39:   0%|          | 0/1326 [00:00<?, ?it/s]"
            ],
            "application/vnd.jupyter.widget-view+json": {
              "version_major": 2,
              "version_minor": 0,
              "model_id": "14cf704edfad4b839e78f300d67a6a14"
            }
          },
          "metadata": {}
        },
        {
          "output_type": "stream",
          "name": "stdout",
          "text": [
            "Epoch 39 \u279c train 95.50% | val 97.06% (loss 0.594) | lr 3.93e-04\n"
          ]
        },
        {
          "output_type": "display_data",
          "data": {
            "text/plain": [
              "Epoch 40:   0%|          | 0/1326 [00:00<?, ?it/s]"
            ],
            "application/vnd.jupyter.widget-view+json": {
              "version_major": 2,
              "version_minor": 0,
              "model_id": "9cf5b39bdac54a088df80869bfaf166a"
            }
          },
          "metadata": {}
        },
        {
          "output_type": "stream",
          "name": "stdout",
          "text": [
            "Epoch 40 \u279c train 95.70% | val 97.16% (loss 0.594) | lr 3.85e-04\n",
            "** Saved new best model params ** @ 97.16%\n"
          ]
        },
        {
          "output_type": "display_data",
          "data": {
            "text/plain": [
              "Epoch 41:   0%|          | 0/1326 [00:00<?, ?it/s]"
            ],
            "application/vnd.jupyter.widget-view+json": {
              "version_major": 2,
              "version_minor": 0,
              "model_id": "af70f374a39742079dec95165e2a0327"
            }
          },
          "metadata": {}
        },
        {
          "output_type": "stream",
          "name": "stdout",
          "text": [
            "Epoch 41 \u279c train 95.80% | val 96.89% (loss 0.603) | lr 3.78e-04\n"
          ]
        },
        {
          "output_type": "display_data",
          "data": {
            "text/plain": [
              "Epoch 42:   0%|          | 0/1326 [00:00<?, ?it/s]"
            ],
            "application/vnd.jupyter.widget-view+json": {
              "version_major": 2,
              "version_minor": 0,
              "model_id": "2cd5be3f948e4f749b9475887655b094"
            }
          },
          "metadata": {}
        },
        {
          "output_type": "stream",
          "name": "stdout",
          "text": [
            "Epoch 42 \u279c train 95.82% | val 97.02% (loss 0.597) | lr 3.70e-04\n"
          ]
        },
        {
          "output_type": "display_data",
          "data": {
            "text/plain": [
              "Epoch 43:   0%|          | 0/1326 [00:00<?, ?it/s]"
            ],
            "application/vnd.jupyter.widget-view+json": {
              "version_major": 2,
              "version_minor": 0,
              "model_id": "4e6d263cef3946d7baece86cb7b8ebcb"
            }
          },
          "metadata": {}
        },
        {
          "output_type": "stream",
          "name": "stdout",
          "text": [
            "Epoch 43 \u279c train 95.92% | val 97.00% (loss 0.599) | lr 3.62e-04\n"
          ]
        },
        {
          "output_type": "display_data",
          "data": {
            "text/plain": [
              "Epoch 44:   0%|          | 0/1326 [00:00<?, ?it/s]"
            ],
            "application/vnd.jupyter.widget-view+json": {
              "version_major": 2,
              "version_minor": 0,
              "model_id": "a01cf01f665545a690ce483a8ad158dc"
            }
          },
          "metadata": {}
        },
        {
          "output_type": "stream",
          "name": "stdout",
          "text": [
            "Epoch 44 \u279c train 95.95% | val 97.04% (loss 0.597) | lr 3.54e-04\n"
          ]
        },
        {
          "output_type": "display_data",
          "data": {
            "text/plain": [
              "Epoch 45:   0%|          | 0/1326 [00:00<?, ?it/s]"
            ],
            "application/vnd.jupyter.widget-view+json": {
              "version_major": 2,
              "version_minor": 0,
              "model_id": "bcbf5f2f8fea4a07aa4fd1c067800cf6"
            }
          },
          "metadata": {}
        },
        {
          "output_type": "stream",
          "name": "stdout",
          "text": [
            "Epoch 45 \u279c train 95.93% | val 96.85% (loss 0.603) | lr 3.46e-04\n"
          ]
        },
        {
          "output_type": "display_data",
          "data": {
            "text/plain": [
              "Epoch 46:   0%|          | 0/1326 [00:00<?, ?it/s]"
            ],
            "application/vnd.jupyter.widget-view+json": {
              "version_major": 2,
              "version_minor": 0,
              "model_id": "7d595c819c9144108a9eb142ba01e180"
            }
          },
          "metadata": {}
        },
        {
          "output_type": "stream",
          "name": "stdout",
          "text": [
            "Epoch 46 \u279c train 96.04% | val 97.02% (loss 0.592) | lr 3.37e-04\n"
          ]
        },
        {
          "output_type": "display_data",
          "data": {
            "text/plain": [
              "Epoch 47:   0%|          | 0/1326 [00:00<?, ?it/s]"
            ],
            "application/vnd.jupyter.widget-view+json": {
              "version_major": 2,
              "version_minor": 0,
              "model_id": "437d8a9179fd4ae3830020bdd9e7d82a"
            }
          },
          "metadata": {}
        },
        {
          "output_type": "stream",
          "name": "stdout",
          "text": [
            "Epoch 47 \u279c train 96.21% | val 97.15% (loss 0.593) | lr 3.29e-04\n"
          ]
        },
        {
          "output_type": "display_data",
          "data": {
            "text/plain": [
              "Epoch 48:   0%|          | 0/1326 [00:00<?, ?it/s]"
            ],
            "application/vnd.jupyter.widget-view+json": {
              "version_major": 2,
              "version_minor": 0,
              "model_id": "d713b48947794ac48787e01e809f8115"
            }
          },
          "metadata": {}
        },
        {
          "output_type": "stream",
          "name": "stdout",
          "text": [
            "Epoch 48 \u279c train 96.24% | val 97.01% (loss 0.591) | lr 3.20e-04\n"
          ]
        },
        {
          "output_type": "display_data",
          "data": {
            "text/plain": [
              "Epoch 49:   0%|          | 0/1326 [00:00<?, ?it/s]"
            ],
            "application/vnd.jupyter.widget-view+json": {
              "version_major": 2,
              "version_minor": 0,
              "model_id": "57d4410728fb4f1caaa683a15a8275c0"
            }
          },
          "metadata": {}
        },
        {
          "output_type": "stream",
          "name": "stdout",
          "text": [
            "Epoch 49 \u279c train 96.26% | val 97.03% (loss 0.597) | lr 3.12e-04\n"
          ]
        },
        {
          "output_type": "display_data",
          "data": {
            "text/plain": [
              "Epoch 50:   0%|          | 0/1326 [00:00<?, ?it/s]"
            ],
            "application/vnd.jupyter.widget-view+json": {
              "version_major": 2,
              "version_minor": 0,
              "model_id": "0c586f251d5b45a2bb964e5c67726ab1"
            }
          },
          "metadata": {}
        },
        {
          "output_type": "stream",
          "name": "stdout",
          "text": [
            "Epoch 50 \u279c train 96.40% | val 97.01% (loss 0.600) | lr 3.03e-04\n"
          ]
        },
        {
          "output_type": "display_data",
          "data": {
            "text/plain": [
              "Epoch 51:   0%|          | 0/1326 [00:00<?, ?it/s]"
            ],
            "application/vnd.jupyter.widget-view+json": {
              "version_major": 2,
              "version_minor": 0,
              "model_id": "0038f1e4507848048824034b0b9ceba3"
            }
          },
          "metadata": {}
        },
        {
          "output_type": "stream",
          "name": "stdout",
          "text": [
            "Epoch 51 \u279c train 96.41% | val 97.28% (loss 0.593) | lr 2.94e-04\n",
            "** Saved new best model params ** @ 97.28%\n"
          ]
        },
        {
          "output_type": "display_data",
          "data": {
            "text/plain": [
              "Epoch 52:   0%|          | 0/1326 [00:00<?, ?it/s]"
            ],
            "application/vnd.jupyter.widget-view+json": {
              "version_major": 2,
              "version_minor": 0,
              "model_id": "b9135e4f859b4492967c3b16ba5c0c7c"
            }
          },
          "metadata": {}
        },
        {
          "output_type": "stream",
          "name": "stdout",
          "text": [
            "Epoch 52 \u279c train 96.57% | val 97.21% (loss 0.594) | lr 2.86e-04\n"
          ]
        },
        {
          "output_type": "display_data",
          "data": {
            "text/plain": [
              "Epoch 53:   0%|          | 0/1326 [00:00<?, ?it/s]"
            ],
            "application/vnd.jupyter.widget-view+json": {
              "version_major": 2,
              "version_minor": 0,
              "model_id": "9a101066463a4151be97d55bc9aa16a1"
            }
          },
          "metadata": {}
        },
        {
          "output_type": "stream",
          "name": "stdout",
          "text": [
            "Epoch 53 \u279c train 96.57% | val 97.06% (loss 0.598) | lr 2.77e-04\n"
          ]
        },
        {
          "output_type": "display_data",
          "data": {
            "text/plain": [
              "Epoch 54:   0%|          | 0/1326 [00:00<?, ?it/s]"
            ],
            "application/vnd.jupyter.widget-view+json": {
              "version_major": 2,
              "version_minor": 0,
              "model_id": "42213686636f4326a503727f17f7d66f"
            }
          },
          "metadata": {}
        },
        {
          "output_type": "stream",
          "name": "stdout",
          "text": [
            "Epoch 54 \u279c train 96.74% | val 97.13% (loss 0.592) | lr 2.68e-04\n"
          ]
        },
        {
          "output_type": "display_data",
          "data": {
            "text/plain": [
              "Epoch 55:   0%|          | 0/1326 [00:00<?, ?it/s]"
            ],
            "application/vnd.jupyter.widget-view+json": {
              "version_major": 2,
              "version_minor": 0,
              "model_id": "ce3c0dcddb734f9fbbc10c53b06d328b"
            }
          },
          "metadata": {}
        },
        {
          "output_type": "stream",
          "name": "stdout",
          "text": [
            "Epoch 55 \u279c train 96.70% | val 97.03% (loss 0.597) | lr 2.59e-04\n"
          ]
        },
        {
          "output_type": "display_data",
          "data": {
            "text/plain": [
              "Epoch 56:   0%|          | 0/1326 [00:00<?, ?it/s]"
            ],
            "application/vnd.jupyter.widget-view+json": {
              "version_major": 2,
              "version_minor": 0,
              "model_id": "4af9a7a8a13b4455a28fb28899130c9c"
            }
          },
          "metadata": {}
        },
        {
          "output_type": "stream",
          "name": "stdout",
          "text": [
            "Epoch 56 \u279c train 96.67% | val 97.13% (loss 0.598) | lr 2.50e-04\n"
          ]
        },
        {
          "output_type": "display_data",
          "data": {
            "text/plain": [
              "Epoch 57:   0%|          | 0/1326 [00:00<?, ?it/s]"
            ],
            "application/vnd.jupyter.widget-view+json": {
              "version_major": 2,
              "version_minor": 0,
              "model_id": "e94ebfdac1274ef28cc25067b955612a"
            }
          },
          "metadata": {}
        },
        {
          "output_type": "stream",
          "name": "stdout",
          "text": [
            "Epoch 57 \u279c train 96.72% | val 97.03% (loss 0.599) | lr 2.41e-04\n"
          ]
        },
        {
          "output_type": "display_data",
          "data": {
            "text/plain": [
              "Epoch 58:   0%|          | 0/1326 [00:00<?, ?it/s]"
            ],
            "application/vnd.jupyter.widget-view+json": {
              "version_major": 2,
              "version_minor": 0,
              "model_id": "0699da3bd54544168845c372e599b1a2"
            }
          },
          "metadata": {}
        },
        {
          "output_type": "stream",
          "name": "stdout",
          "text": [
            "Epoch 58 \u279c train 96.79% | val 97.04% (loss 0.598) | lr 2.32e-04\n"
          ]
        },
        {
          "output_type": "display_data",
          "data": {
            "text/plain": [
              "Epoch 59:   0%|          | 0/1326 [00:00<?, ?it/s]"
            ],
            "application/vnd.jupyter.widget-view+json": {
              "version_major": 2,
              "version_minor": 0,
              "model_id": "145de6296335491b8c424508813da303"
            }
          },
          "metadata": {}
        },
        {
          "output_type": "stream",
          "name": "stdout",
          "text": [
            "Epoch 59 \u279c train 96.92% | val 97.21% (loss 0.593) | lr 2.23e-04\n"
          ]
        },
        {
          "output_type": "display_data",
          "data": {
            "text/plain": [
              "Epoch 60:   0%|          | 0/1326 [00:00<?, ?it/s]"
            ],
            "application/vnd.jupyter.widget-view+json": {
              "version_major": 2,
              "version_minor": 0,
              "model_id": "a8ac287fd1c74d8f805d2befbbfd472c"
            }
          },
          "metadata": {}
        },
        {
          "output_type": "stream",
          "name": "stdout",
          "text": [
            "Epoch 60 \u279c train 96.90% | val 97.21% (loss 0.592) | lr 2.14e-04\n"
          ]
        },
        {
          "output_type": "display_data",
          "data": {
            "text/plain": [
              "Epoch 61:   0%|          | 0/1326 [00:00<?, ?it/s]"
            ],
            "application/vnd.jupyter.widget-view+json": {
              "version_major": 2,
              "version_minor": 0,
              "model_id": "701ca789fa1f4e85b9a7a4e22a402afe"
            }
          },
          "metadata": {}
        },
        {
          "output_type": "stream",
          "name": "stdout",
          "text": [
            "Epoch 61 \u279c train 97.00% | val 97.13% (loss 0.593) | lr 2.06e-04\n"
          ]
        },
        {
          "output_type": "display_data",
          "data": {
            "text/plain": [
              "Epoch 62:   0%|          | 0/1326 [00:00<?, ?it/s]"
            ],
            "application/vnd.jupyter.widget-view+json": {
              "version_major": 2,
              "version_minor": 0,
              "model_id": "e49c9cfb648b40e390fa4eab91f11ed3"
            }
          },
          "metadata": {}
        },
        {
          "output_type": "stream",
          "name": "stdout",
          "text": [
            "Epoch 62 \u279c train 97.09% | val 97.18% (loss 0.596) | lr 1.97e-04\n"
          ]
        },
        {
          "output_type": "display_data",
          "data": {
            "text/plain": [
              "Epoch 63:   0%|          | 0/1326 [00:00<?, ?it/s]"
            ],
            "application/vnd.jupyter.widget-view+json": {
              "version_major": 2,
              "version_minor": 0,
              "model_id": "66bbe5d92c7949cb9dad32abe0ee8dbb"
            }
          },
          "metadata": {}
        },
        {
          "output_type": "stream",
          "name": "stdout",
          "text": [
            "Epoch 63 \u279c train 97.01% | val 97.15% (loss 0.595) | lr 1.88e-04\n"
          ]
        },
        {
          "output_type": "display_data",
          "data": {
            "text/plain": [
              "Epoch 64:   0%|          | 0/1326 [00:00<?, ?it/s]"
            ],
            "application/vnd.jupyter.widget-view+json": {
              "version_major": 2,
              "version_minor": 0,
              "model_id": "aca74fe16a0b4085801a2786decf4c8e"
            }
          },
          "metadata": {}
        },
        {
          "output_type": "stream",
          "name": "stdout",
          "text": [
            "Epoch 64 \u279c train 97.00% | val 97.24% (loss 0.590) | lr 1.80e-04\n"
          ]
        },
        {
          "output_type": "display_data",
          "data": {
            "text/plain": [
              "Epoch 65:   0%|          | 0/1326 [00:00<?, ?it/s]"
            ],
            "application/vnd.jupyter.widget-view+json": {
              "version_major": 2,
              "version_minor": 0,
              "model_id": "3bc885d4c71c4c718996202c2fafa8a9"
            }
          },
          "metadata": {}
        },
        {
          "output_type": "stream",
          "name": "stdout",
          "text": [
            "Epoch 65 \u279c train 97.11% | val 97.15% (loss 0.591) | lr 1.71e-04\n"
          ]
        },
        {
          "output_type": "display_data",
          "data": {
            "text/plain": [
              "Epoch 66:   0%|          | 0/1326 [00:00<?, ?it/s]"
            ],
            "application/vnd.jupyter.widget-view+json": {
              "version_major": 2,
              "version_minor": 0,
              "model_id": "00febd5156e949728082e66805ce1da4"
            }
          },
          "metadata": {}
        },
        {
          "output_type": "stream",
          "name": "stdout",
          "text": [
            "Epoch 66 \u279c train 97.15% | val 97.09% (loss 0.596) | lr 1.63e-04\n"
          ]
        },
        {
          "output_type": "display_data",
          "data": {
            "text/plain": [
              "Epoch 67:   0%|          | 0/1326 [00:00<?, ?it/s]"
            ],
            "application/vnd.jupyter.widget-view+json": {
              "version_major": 2,
              "version_minor": 0,
              "model_id": "905340f1c3564d0c96dcfe062d09fc69"
            }
          },
          "metadata": {}
        },
        {
          "output_type": "stream",
          "name": "stdout",
          "text": [
            "Epoch 67 \u279c train 97.26% | val 97.14% (loss 0.593) | lr 1.54e-04\n"
          ]
        },
        {
          "output_type": "display_data",
          "data": {
            "text/plain": [
              "Epoch 68:   0%|          | 0/1326 [00:00<?, ?it/s]"
            ],
            "application/vnd.jupyter.widget-view+json": {
              "version_major": 2,
              "version_minor": 0,
              "model_id": "8305eb961e34403cb45c8ddf7d022fc6"
            }
          },
          "metadata": {}
        },
        {
          "output_type": "stream",
          "name": "stdout",
          "text": [
            "Epoch 68 \u279c train 97.28% | val 97.17% (loss 0.592) | lr 1.46e-04\n"
          ]
        },
        {
          "output_type": "display_data",
          "data": {
            "text/plain": [
              "Epoch 69:   0%|          | 0/1326 [00:00<?, ?it/s]"
            ],
            "application/vnd.jupyter.widget-view+json": {
              "version_major": 2,
              "version_minor": 0,
              "model_id": "4e0470cab43243dab1cd9c6da726088d"
            }
          },
          "metadata": {}
        },
        {
          "output_type": "stream",
          "name": "stdout",
          "text": [
            "Epoch 69 \u279c train 97.32% | val 97.18% (loss 0.590) | lr 1.38e-04\n"
          ]
        },
        {
          "output_type": "display_data",
          "data": {
            "text/plain": [
              "Epoch 70:   0%|          | 0/1326 [00:00<?, ?it/s]"
            ],
            "application/vnd.jupyter.widget-view+json": {
              "version_major": 2,
              "version_minor": 0,
              "model_id": "80b0e06e97ca4e34b88597d29a840c89"
            }
          },
          "metadata": {}
        },
        {
          "output_type": "stream",
          "name": "stdout",
          "text": [
            "Epoch 70 \u279c train 97.30% | val 97.20% (loss 0.593) | lr 1.30e-04\n"
          ]
        },
        {
          "output_type": "display_data",
          "data": {
            "text/plain": [
              "Epoch 71:   0%|          | 0/1326 [00:00<?, ?it/s]"
            ],
            "application/vnd.jupyter.widget-view+json": {
              "version_major": 2,
              "version_minor": 0,
              "model_id": "53864f5686af4fe4bc64e0520bf9b989"
            }
          },
          "metadata": {}
        },
        {
          "output_type": "stream",
          "name": "stdout",
          "text": [
            "Epoch 71 \u279c train 97.37% | val 97.26% (loss 0.591) | lr 1.22e-04\n"
          ]
        },
        {
          "output_type": "display_data",
          "data": {
            "text/plain": [
              "Epoch 72:   0%|          | 0/1326 [00:00<?, ?it/s]"
            ],
            "application/vnd.jupyter.widget-view+json": {
              "version_major": 2,
              "version_minor": 0,
              "model_id": "720ebdeea3cb4656b51e2eacc039f49d"
            }
          },
          "metadata": {}
        },
        {
          "output_type": "stream",
          "name": "stdout",
          "text": [
            "Epoch 72 \u279c train 97.43% | val 97.27% (loss 0.592) | lr 1.15e-04\n"
          ]
        },
        {
          "output_type": "display_data",
          "data": {
            "text/plain": [
              "Epoch 73:   0%|          | 0/1326 [00:00<?, ?it/s]"
            ],
            "application/vnd.jupyter.widget-view+json": {
              "version_major": 2,
              "version_minor": 0,
              "model_id": "2cfbb72a016a4ab5bfea2eecba3ffe40"
            }
          },
          "metadata": {}
        },
        {
          "output_type": "stream",
          "name": "stdout",
          "text": [
            "Epoch 73 \u279c train 97.47% | val 97.20% (loss 0.592) | lr 1.07e-04\n"
          ]
        },
        {
          "output_type": "display_data",
          "data": {
            "text/plain": [
              "Epoch 74:   0%|          | 0/1326 [00:00<?, ?it/s]"
            ],
            "application/vnd.jupyter.widget-view+json": {
              "version_major": 2,
              "version_minor": 0,
              "model_id": "e6a27d9aafa042498df7645567b5a8d4"
            }
          },
          "metadata": {}
        },
        {
          "output_type": "stream",
          "name": "stdout",
          "text": [
            "Epoch 74 \u279c train 97.49% | val 97.38% (loss 0.589) | lr 1.00e-04\n",
            "** Saved new best model params ** @ 97.38%\n"
          ]
        },
        {
          "output_type": "display_data",
          "data": {
            "text/plain": [
              "Epoch 75:   0%|          | 0/1326 [00:00<?, ?it/s]"
            ],
            "application/vnd.jupyter.widget-view+json": {
              "version_major": 2,
              "version_minor": 0,
              "model_id": "4fb17815dd6f4b9398f6e01d54eccbff"
            }
          },
          "metadata": {}
        },
        {
          "output_type": "stream",
          "name": "stdout",
          "text": [
            "Epoch 75 \u279c train 97.50% | val 97.19% (loss 0.593) | lr 9.31e-05\n"
          ]
        },
        {
          "output_type": "display_data",
          "data": {
            "text/plain": [
              "Epoch 76:   0%|          | 0/1326 [00:00<?, ?it/s]"
            ],
            "application/vnd.jupyter.widget-view+json": {
              "version_major": 2,
              "version_minor": 0,
              "model_id": "b5c495a692bd4ffe9251bbee4f1dfb95"
            }
          },
          "metadata": {}
        },
        {
          "output_type": "stream",
          "name": "stdout",
          "text": [
            "Epoch 76 \u279c train 97.61% | val 97.23% (loss 0.591) | lr 8.63e-05\n"
          ]
        },
        {
          "output_type": "display_data",
          "data": {
            "text/plain": [
              "Epoch 77:   0%|          | 0/1326 [00:00<?, ?it/s]"
            ],
            "application/vnd.jupyter.widget-view+json": {
              "version_major": 2,
              "version_minor": 0,
              "model_id": "24bcf302bb124d778515c35c390fa63f"
            }
          },
          "metadata": {}
        },
        {
          "output_type": "stream",
          "name": "stdout",
          "text": [
            "Epoch 77 \u279c train 97.63% | val 97.19% (loss 0.592) | lr 7.96e-05\n"
          ]
        },
        {
          "output_type": "display_data",
          "data": {
            "text/plain": [
              "Epoch 78:   0%|          | 0/1326 [00:00<?, ?it/s]"
            ],
            "application/vnd.jupyter.widget-view+json": {
              "version_major": 2,
              "version_minor": 0,
              "model_id": "8ab1a6653dea42f3bed0a0adcd6e9a6d"
            }
          },
          "metadata": {}
        },
        {
          "output_type": "stream",
          "name": "stdout",
          "text": [
            "Epoch 78 \u279c train 97.56% | val 97.31% (loss 0.591) | lr 7.32e-05\n"
          ]
        },
        {
          "output_type": "display_data",
          "data": {
            "text/plain": [
              "Epoch 79:   0%|          | 0/1326 [00:00<?, ?it/s]"
            ],
            "application/vnd.jupyter.widget-view+json": {
              "version_major": 2,
              "version_minor": 0,
              "model_id": "641bd5f94f424d968b8ca17f700ef1e6"
            }
          },
          "metadata": {}
        },
        {
          "output_type": "stream",
          "name": "stdout",
          "text": [
            "Epoch 79 \u279c train 97.63% | val 97.27% (loss 0.591) | lr 6.70e-05\n"
          ]
        },
        {
          "output_type": "display_data",
          "data": {
            "text/plain": [
              "Epoch 80:   0%|          | 0/1326 [00:00<?, ?it/s]"
            ],
            "application/vnd.jupyter.widget-view+json": {
              "version_major": 2,
              "version_minor": 0,
              "model_id": "c9611283d3f64506832e154d97e874fd"
            }
          },
          "metadata": {}
        },
        {
          "output_type": "stream",
          "name": "stdout",
          "text": [
            "Epoch 80 \u279c train 97.69% | val 97.34% (loss 0.592) | lr 6.11e-05\n"
          ]
        },
        {
          "output_type": "display_data",
          "data": {
            "text/plain": [
              "Epoch 81:   0%|          | 0/1326 [00:00<?, ?it/s]"
            ],
            "application/vnd.jupyter.widget-view+json": {
              "version_major": 2,
              "version_minor": 0,
              "model_id": "a35924cb9c4041a88489aeb93dbb113b"
            }
          },
          "metadata": {}
        },
        {
          "output_type": "stream",
          "name": "stdout",
          "text": [
            "Epoch 81 \u279c train 97.72% | val 97.33% (loss 0.589) | lr 5.53e-05\n"
          ]
        },
        {
          "output_type": "display_data",
          "data": {
            "text/plain": [
              "Epoch 82:   0%|          | 0/1326 [00:00<?, ?it/s]"
            ],
            "application/vnd.jupyter.widget-view+json": {
              "version_major": 2,
              "version_minor": 0,
              "model_id": "0b586ee967614d4aa13235126428041d"
            }
          },
          "metadata": {}
        },
        {
          "output_type": "stream",
          "name": "stdout",
          "text": [
            "Epoch 82 \u279c train 97.68% | val 97.28% (loss 0.592) | lr 4.99e-05\n"
          ]
        },
        {
          "output_type": "display_data",
          "data": {
            "text/plain": [
              "Epoch 83:   0%|          | 0/1326 [00:00<?, ?it/s]"
            ],
            "application/vnd.jupyter.widget-view+json": {
              "version_major": 2,
              "version_minor": 0,
              "model_id": "77e4ce81d2364f3181326f7ab07113cf"
            }
          },
          "metadata": {}
        },
        {
          "output_type": "stream",
          "name": "stdout",
          "text": [
            "Epoch 83 \u279c train 97.70% | val 97.28% (loss 0.592) | lr 4.46e-05\n"
          ]
        },
        {
          "output_type": "display_data",
          "data": {
            "text/plain": [
              "Epoch 84:   0%|          | 0/1326 [00:00<?, ?it/s]"
            ],
            "application/vnd.jupyter.widget-view+json": {
              "version_major": 2,
              "version_minor": 0,
              "model_id": "32534b70212a415390370a85fd049515"
            }
          },
          "metadata": {}
        },
        {
          "output_type": "stream",
          "name": "stdout",
          "text": [
            "Epoch 84 \u279c train 97.79% | val 97.30% (loss 0.593) | lr 3.97e-05\n"
          ]
        },
        {
          "output_type": "display_data",
          "data": {
            "text/plain": [
              "Epoch 85:   0%|          | 0/1326 [00:00<?, ?it/s]"
            ],
            "application/vnd.jupyter.widget-view+json": {
              "version_major": 2,
              "version_minor": 0,
              "model_id": "093c4ee3647342bcab2e2eaced5f3492"
            }
          },
          "metadata": {}
        },
        {
          "output_type": "stream",
          "name": "stdout",
          "text": [
            "Epoch 85 \u279c train 97.83% | val 97.27% (loss 0.593) | lr 3.50e-05\n"
          ]
        },
        {
          "output_type": "display_data",
          "data": {
            "text/plain": [
              "Epoch 86:   0%|          | 0/1326 [00:00<?, ?it/s]"
            ],
            "application/vnd.jupyter.widget-view+json": {
              "version_major": 2,
              "version_minor": 0,
              "model_id": "d77bde15e97f4b819213369fbd87b660"
            }
          },
          "metadata": {}
        },
        {
          "output_type": "stream",
          "name": "stdout",
          "text": [
            "Epoch 86 \u279c train 97.81% | val 97.29% (loss 0.593) | lr 3.06e-05\n"
          ]
        },
        {
          "output_type": "display_data",
          "data": {
            "text/plain": [
              "Epoch 87:   0%|          | 0/1326 [00:00<?, ?it/s]"
            ],
            "application/vnd.jupyter.widget-view+json": {
              "version_major": 2,
              "version_minor": 0,
              "model_id": "0e9c113bd82d4e939f64397ae6ecf64f"
            }
          },
          "metadata": {}
        },
        {
          "output_type": "stream",
          "name": "stdout",
          "text": [
            "Epoch 87 \u279c train 97.77% | val 97.35% (loss 0.593) | lr 2.64e-05\n"
          ]
        },
        {
          "output_type": "display_data",
          "data": {
            "text/plain": [
              "Epoch 88:   0%|          | 0/1326 [00:00<?, ?it/s]"
            ],
            "application/vnd.jupyter.widget-view+json": {
              "version_major": 2,
              "version_minor": 0,
              "model_id": "587b6a7af1b849c2a8da3f8a232db2d8"
            }
          },
          "metadata": {}
        },
        {
          "output_type": "stream",
          "name": "stdout",
          "text": [
            "Epoch 88 \u279c train 97.91% | val 97.26% (loss 0.592) | lr 2.26e-05\n"
          ]
        },
        {
          "output_type": "display_data",
          "data": {
            "text/plain": [
              "Epoch 89:   0%|          | 0/1326 [00:00<?, ?it/s]"
            ],
            "application/vnd.jupyter.widget-view+json": {
              "version_major": 2,
              "version_minor": 0,
              "model_id": "02dd856a5f914cbe93f45b82549c854b"
            }
          },
          "metadata": {}
        },
        {
          "output_type": "stream",
          "name": "stdout",
          "text": [
            "Epoch 89 \u279c train 97.86% | val 97.32% (loss 0.591) | lr 1.90e-05\n"
          ]
        },
        {
          "output_type": "display_data",
          "data": {
            "text/plain": [
              "Epoch 90:   0%|          | 0/1326 [00:00<?, ?it/s]"
            ],
            "application/vnd.jupyter.widget-view+json": {
              "version_major": 2,
              "version_minor": 0,
              "model_id": "8344b28b9052492da401e41f8140e4e2"
            }
          },
          "metadata": {}
        },
        {
          "output_type": "stream",
          "name": "stdout",
          "text": [
            "Epoch 90 \u279c train 97.79% | val 97.31% (loss 0.590) | lr 1.58e-05\n"
          ]
        },
        {
          "output_type": "display_data",
          "data": {
            "text/plain": [
              "Epoch 91:   0%|          | 0/1326 [00:00<?, ?it/s]"
            ],
            "application/vnd.jupyter.widget-view+json": {
              "version_major": 2,
              "version_minor": 0,
              "model_id": "52db48ac24444d1082df593b73e437af"
            }
          },
          "metadata": {}
        },
        {
          "output_type": "stream",
          "name": "stdout",
          "text": [
            "Epoch 91 \u279c train 97.80% | val 97.34% (loss 0.590) | lr 1.28e-05\n"
          ]
        },
        {
          "output_type": "display_data",
          "data": {
            "text/plain": [
              "Epoch 92:   0%|          | 0/1326 [00:00<?, ?it/s]"
            ],
            "application/vnd.jupyter.widget-view+json": {
              "version_major": 2,
              "version_minor": 0,
              "model_id": "afeb4cad566f4d16a6ee01d5cc0b74d6"
            }
          },
          "metadata": {}
        },
        {
          "output_type": "stream",
          "name": "stdout",
          "text": [
            "Epoch 92 \u279c train 97.86% | val 97.32% (loss 0.591) | lr 1.01e-05\n"
          ]
        },
        {
          "output_type": "display_data",
          "data": {
            "text/plain": [
              "Epoch 93:   0%|          | 0/1326 [00:00<?, ?it/s]"
            ],
            "application/vnd.jupyter.widget-view+json": {
              "version_major": 2,
              "version_minor": 0,
              "model_id": "b9053b01cfe2415f852816aedf9a8fd1"
            }
          },
          "metadata": {}
        },
        {
          "output_type": "stream",
          "name": "stdout",
          "text": [
            "Epoch 93 \u279c train 98.00% | val 97.42% (loss 0.590) | lr 7.77e-06\n",
            "** Saved new best model params ** @ 97.42%\n"
          ]
        },
        {
          "output_type": "display_data",
          "data": {
            "text/plain": [
              "Epoch 94:   0%|          | 0/1326 [00:00<?, ?it/s]"
            ],
            "application/vnd.jupyter.widget-view+json": {
              "version_major": 2,
              "version_minor": 0,
              "model_id": "a72e580318e449e28820503724caa703"
            }
          },
          "metadata": {}
        },
        {
          "output_type": "stream",
          "name": "stdout",
          "text": [
            "Epoch 94 \u279c train 97.91% | val 97.37% (loss 0.590) | lr 5.71e-06\n"
          ]
        },
        {
          "output_type": "display_data",
          "data": {
            "text/plain": [
              "Epoch 95:   0%|          | 0/1326 [00:00<?, ?it/s]"
            ],
            "application/vnd.jupyter.widget-view+json": {
              "version_major": 2,
              "version_minor": 0,
              "model_id": "31bf2e61fba644b59b867373b4951f82"
            }
          },
          "metadata": {}
        },
        {
          "output_type": "stream",
          "name": "stdout",
          "text": [
            "Epoch 95 \u279c train 97.87% | val 97.36% (loss 0.590) | lr 3.97e-06\n"
          ]
        },
        {
          "output_type": "display_data",
          "data": {
            "text/plain": [
              "Epoch 96:   0%|          | 0/1326 [00:00<?, ?it/s]"
            ],
            "application/vnd.jupyter.widget-view+json": {
              "version_major": 2,
              "version_minor": 0,
              "model_id": "3522b6d90756461d832649f99379644e"
            }
          },
          "metadata": {}
        },
        {
          "output_type": "stream",
          "name": "stdout",
          "text": [
            "Epoch 96 \u279c train 97.92% | val 97.38% (loss 0.590) | lr 2.54e-06\n"
          ]
        },
        {
          "output_type": "display_data",
          "data": {
            "text/plain": [
              "Epoch 97:   0%|          | 0/1326 [00:00<?, ?it/s]"
            ],
            "application/vnd.jupyter.widget-view+json": {
              "version_major": 2,
              "version_minor": 0,
              "model_id": "98e65d2836604320b1764f39594da020"
            }
          },
          "metadata": {}
        },
        {
          "output_type": "stream",
          "name": "stdout",
          "text": [
            "Epoch 97 \u279c train 97.85% | val 97.36% (loss 0.590) | lr 2.50e-06\n"
          ]
        },
        {
          "output_type": "display_data",
          "data": {
            "text/plain": [
              "Epoch 98:   0%|          | 0/1326 [00:00<?, ?it/s]"
            ],
            "application/vnd.jupyter.widget-view+json": {
              "version_major": 2,
              "version_minor": 0,
              "model_id": "0a7df34a17644e55b53beb38d6cb0d73"
            }
          },
          "metadata": {}
        },
        {
          "output_type": "stream",
          "name": "stdout",
          "text": [
            "Epoch 98 \u279c train 97.88% | val 97.34% (loss 0.590) | lr 2.50e-06\n"
          ]
        },
        {
          "output_type": "display_data",
          "data": {
            "text/plain": [
              "Epoch 99:   0%|          | 0/1326 [00:00<?, ?it/s]"
            ],
            "application/vnd.jupyter.widget-view+json": {
              "version_major": 2,
              "version_minor": 0,
              "model_id": "7952086f540e47b1bb4daf7a9be3a15e"
            }
          },
          "metadata": {}
        },
        {
          "output_type": "stream",
          "name": "stdout",
          "text": [
            "Epoch 99 \u279c train 97.93% | val 97.37% (loss 0.590) | lr 2.50e-06\n"
          ]
        },
        {
          "output_type": "display_data",
          "data": {
            "text/plain": [
              "Epoch 100:   0%|          | 0/1326 [00:00<?, ?it/s]"
            ],
            "application/vnd.jupyter.widget-view+json": {
              "version_major": 2,
              "version_minor": 0,
              "model_id": "7ebdd87e4b5d411db83c5802a7a3b743"
            }
          },
          "metadata": {}
        },
        {
          "output_type": "stream",
          "name": "stdout",
          "text": [
            "Epoch 100 \u279c train 97.92% | val 97.33% (loss 0.590) | lr 2.50e-06\n"
          ]
        }
      ]
    },
    {
      "cell_type": "code",
      "source": [
        "# --- Save LAST params locally + Drive ---\n",
        "torch.save(model.state_dict(), \"/content/last_kws_mamba_noAux.pt\")\n",
        "\n",
        "CKPT_DIR = \"/content/drive/MyDrive/kws_models_noAux_64_8\"\n",
        "os.makedirs(CKPT_DIR, exist_ok=True)\n",
        "torch.save(model.state_dict(), f\"{CKPT_DIR}/last_kws_mamba_noAux.pt\")\n",
        "print(\"Saved LAST model to Drive\")\n",
        "\n",
        "# --- Copy BEST (by val_acc) to Drive if it exists ---\n",
        "best_local = \"/content/best_kws.pt\"\n",
        "if os.path.exists(best_local):\n",
        "    import shutil\n",
        "    dst = f\"{CKPT_DIR}/best_kws.pt\"\n",
        "    shutil.copy2(best_local, dst)          # copies the already-saved BEST\n",
        "    print(f\"Copied BEST model (val_acc={best_val_acc:.2f}%) to Drive: {dst}\")\n",
        "else:\n",
        "    print(\"WARNING: no best checkpoint was found to copy.\")"
      ],
      "metadata": {
        "id": "FsvQTPuH9gQM",
        "colab": {
          "base_uri": "https://localhost:8080/"
        },
        "outputId": "2a5aea7d-86dd-47e1-cd54-ba51cd43e604"
      },
      "execution_count": null,
      "outputs": [
        {
          "output_type": "stream",
          "name": "stdout",
          "text": [
            "Saved LAST model to Drive\n",
            "Copied BEST model (val_acc=97.42%) to Drive: /content/drive/MyDrive/kws_models_noAux_64_8/best_kws.pt\n"
          ]
        }
      ]
    }
  ]
}