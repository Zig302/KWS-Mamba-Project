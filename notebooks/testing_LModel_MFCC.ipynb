{
  "nbformat": 4,
  "nbformat_minor": 0,
  "metadata": {
    "colab": {
      "provenance": [],
      "gpuType": "L4"
    },
    "kernelspec": {
      "name": "python3",
      "display_name": "Python 3"
    },
    "language_info": {
      "name": "python"
    },
    "accelerator": "GPU"
  },
  "cells": [
    {
      "cell_type": "code",
      "execution_count": null,
      "metadata": {
        "colab": {
          "base_uri": "https://localhost:8080/"
        },
        "collapsed": true,
        "id": "El4Y4HcjYsEi",
        "outputId": "96ab61b8-5e0d-4c53-9000-b69c9d056bf0"
      },
      "outputs": [
        {
          "output_type": "stream",
          "name": "stdout",
          "text": [
            "Collecting datasets==2.16.0\n",
            "  Downloading datasets-2.16.0-py3-none-any.whl.metadata (20 kB)\n",
            "Requirement already satisfied: filelock in /usr/local/lib/python3.12/dist-packages (from datasets==2.16.0) (3.19.1)\n",
            "Requirement already satisfied: numpy>=1.17 in /usr/local/lib/python3.12/dist-packages (from datasets==2.16.0) (2.0.2)\n",
            "Requirement already satisfied: pyarrow>=8.0.0 in /usr/local/lib/python3.12/dist-packages (from datasets==2.16.0) (18.1.0)\n",
            "Collecting pyarrow-hotfix (from datasets==2.16.0)\n",
            "  Downloading pyarrow_hotfix-0.7-py3-none-any.whl.metadata (3.6 kB)\n",
            "Collecting dill<0.3.8,>=0.3.0 (from datasets==2.16.0)\n",
            "  Downloading dill-0.3.7-py3-none-any.whl.metadata (9.9 kB)\n",
            "Requirement already satisfied: pandas in /usr/local/lib/python3.12/dist-packages (from datasets==2.16.0) (2.2.2)\n",
            "Requirement already satisfied: requests>=2.19.0 in /usr/local/lib/python3.12/dist-packages (from datasets==2.16.0) (2.32.4)\n",
            "Requirement already satisfied: tqdm>=4.62.1 in /usr/local/lib/python3.12/dist-packages (from datasets==2.16.0) (4.67.1)\n",
            "Requirement already satisfied: xxhash in /usr/local/lib/python3.12/dist-packages (from datasets==2.16.0) (3.5.0)\n",
            "Requirement already satisfied: multiprocess in /usr/local/lib/python3.12/dist-packages (from datasets==2.16.0) (0.70.16)\n",
            "Collecting fsspec<=2023.10.0,>=2023.1.0 (from fsspec[http]<=2023.10.0,>=2023.1.0->datasets==2.16.0)\n",
            "  Downloading fsspec-2023.10.0-py3-none-any.whl.metadata (6.8 kB)\n",
            "Requirement already satisfied: aiohttp in /usr/local/lib/python3.12/dist-packages (from datasets==2.16.0) (3.12.15)\n",
            "Requirement already satisfied: huggingface-hub>=0.19.4 in /usr/local/lib/python3.12/dist-packages (from datasets==2.16.0) (0.34.4)\n",
            "Requirement already satisfied: packaging in /usr/local/lib/python3.12/dist-packages (from datasets==2.16.0) (25.0)\n",
            "Requirement already satisfied: pyyaml>=5.1 in /usr/local/lib/python3.12/dist-packages (from datasets==2.16.0) (6.0.2)\n",
            "Requirement already satisfied: aiohappyeyeballs>=2.5.0 in /usr/local/lib/python3.12/dist-packages (from aiohttp->datasets==2.16.0) (2.6.1)\n",
            "Requirement already satisfied: aiosignal>=1.4.0 in /usr/local/lib/python3.12/dist-packages (from aiohttp->datasets==2.16.0) (1.4.0)\n",
            "Requirement already satisfied: attrs>=17.3.0 in /usr/local/lib/python3.12/dist-packages (from aiohttp->datasets==2.16.0) (25.3.0)\n",
            "Requirement already satisfied: frozenlist>=1.1.1 in /usr/local/lib/python3.12/dist-packages (from aiohttp->datasets==2.16.0) (1.7.0)\n",
            "Requirement already satisfied: multidict<7.0,>=4.5 in /usr/local/lib/python3.12/dist-packages (from aiohttp->datasets==2.16.0) (6.6.4)\n",
            "Requirement already satisfied: propcache>=0.2.0 in /usr/local/lib/python3.12/dist-packages (from aiohttp->datasets==2.16.0) (0.3.2)\n",
            "Requirement already satisfied: yarl<2.0,>=1.17.0 in /usr/local/lib/python3.12/dist-packages (from aiohttp->datasets==2.16.0) (1.20.1)\n",
            "Requirement already satisfied: typing-extensions>=3.7.4.3 in /usr/local/lib/python3.12/dist-packages (from huggingface-hub>=0.19.4->datasets==2.16.0) (4.15.0)\n",
            "Requirement already satisfied: hf-xet<2.0.0,>=1.1.3 in /usr/local/lib/python3.12/dist-packages (from huggingface-hub>=0.19.4->datasets==2.16.0) (1.1.9)\n",
            "Requirement already satisfied: charset_normalizer<4,>=2 in /usr/local/lib/python3.12/dist-packages (from requests>=2.19.0->datasets==2.16.0) (3.4.3)\n",
            "Requirement already satisfied: idna<4,>=2.5 in /usr/local/lib/python3.12/dist-packages (from requests>=2.19.0->datasets==2.16.0) (3.10)\n",
            "Requirement already satisfied: urllib3<3,>=1.21.1 in /usr/local/lib/python3.12/dist-packages (from requests>=2.19.0->datasets==2.16.0) (2.5.0)\n",
            "Requirement already satisfied: certifi>=2017.4.17 in /usr/local/lib/python3.12/dist-packages (from requests>=2.19.0->datasets==2.16.0) (2025.8.3)\n",
            "INFO: pip is looking at multiple versions of multiprocess to determine which version is compatible with other requirements. This could take a while.\n",
            "Collecting multiprocess (from datasets==2.16.0)\n",
            "  Downloading multiprocess-0.70.18-py312-none-any.whl.metadata (7.5 kB)\n",
            "  Downloading multiprocess-0.70.17-py312-none-any.whl.metadata (7.2 kB)\n",
            "  Downloading multiprocess-0.70.15-py311-none-any.whl.metadata (7.2 kB)\n",
            "Requirement already satisfied: python-dateutil>=2.8.2 in /usr/local/lib/python3.12/dist-packages (from pandas->datasets==2.16.0) (2.9.0.post0)\n",
            "Requirement already satisfied: pytz>=2020.1 in /usr/local/lib/python3.12/dist-packages (from pandas->datasets==2.16.0) (2025.2)\n",
            "Requirement already satisfied: tzdata>=2022.7 in /usr/local/lib/python3.12/dist-packages (from pandas->datasets==2.16.0) (2025.2)\n",
            "Requirement already satisfied: six>=1.5 in /usr/local/lib/python3.12/dist-packages (from python-dateutil>=2.8.2->pandas->datasets==2.16.0) (1.17.0)\n",
            "Downloading datasets-2.16.0-py3-none-any.whl (507 kB)\n",
            "\u001b[2K   \u001b[90m\u2501\u2501\u2501\u2501\u2501\u2501\u2501\u2501\u2501\u2501\u2501\u2501\u2501\u2501\u2501\u2501\u2501\u2501\u2501\u2501\u2501\u2501\u2501\u2501\u2501\u2501\u2501\u2501\u2501\u2501\u2501\u2501\u2501\u2501\u2501\u2501\u2501\u2501\u2501\u2501\u001b[0m \u001b[32m507.1/507.1 kB\u001b[0m \u001b[31m34.1 MB/s\u001b[0m eta \u001b[36m0:00:00\u001b[0m\n",
            "\u001b[?25hDownloading dill-0.3.7-py3-none-any.whl (115 kB)\n",
            "\u001b[2K   \u001b[90m\u2501\u2501\u2501\u2501\u2501\u2501\u2501\u2501\u2501\u2501\u2501\u2501\u2501\u2501\u2501\u2501\u2501\u2501\u2501\u2501\u2501\u2501\u2501\u2501\u2501\u2501\u2501\u2501\u2501\u2501\u2501\u2501\u2501\u2501\u2501\u2501\u2501\u2501\u2501\u2501\u001b[0m \u001b[32m115.3/115.3 kB\u001b[0m \u001b[31m13.3 MB/s\u001b[0m eta \u001b[36m0:00:00\u001b[0m\n",
            "\u001b[?25hDownloading fsspec-2023.10.0-py3-none-any.whl (166 kB)\n",
            "\u001b[2K   \u001b[90m\u2501\u2501\u2501\u2501\u2501\u2501\u2501\u2501\u2501\u2501\u2501\u2501\u2501\u2501\u2501\u2501\u2501\u2501\u2501\u2501\u2501\u2501\u2501\u2501\u2501\u2501\u2501\u2501\u2501\u2501\u2501\u2501\u2501\u2501\u2501\u2501\u2501\u2501\u2501\u2501\u001b[0m \u001b[32m166.4/166.4 kB\u001b[0m \u001b[31m19.0 MB/s\u001b[0m eta \u001b[36m0:00:00\u001b[0m\n",
            "\u001b[?25hDownloading multiprocess-0.70.15-py311-none-any.whl (135 kB)\n",
            "\u001b[2K   \u001b[90m\u2501\u2501\u2501\u2501\u2501\u2501\u2501\u2501\u2501\u2501\u2501\u2501\u2501\u2501\u2501\u2501\u2501\u2501\u2501\u2501\u2501\u2501\u2501\u2501\u2501\u2501\u2501\u2501\u2501\u2501\u2501\u2501\u2501\u2501\u2501\u2501\u2501\u2501\u2501\u2501\u001b[0m \u001b[32m135.4/135.4 kB\u001b[0m \u001b[31m14.7 MB/s\u001b[0m eta \u001b[36m0:00:00\u001b[0m\n",
            "\u001b[?25hDownloading pyarrow_hotfix-0.7-py3-none-any.whl (7.9 kB)\n",
            "Installing collected packages: pyarrow-hotfix, fsspec, dill, multiprocess, datasets\n",
            "  Attempting uninstall: fsspec\n",
            "    Found existing installation: fsspec 2025.3.0\n",
            "    Uninstalling fsspec-2025.3.0:\n",
            "      Successfully uninstalled fsspec-2025.3.0\n",
            "  Attempting uninstall: dill\n",
            "    Found existing installation: dill 0.3.8\n",
            "    Uninstalling dill-0.3.8:\n",
            "      Successfully uninstalled dill-0.3.8\n",
            "  Attempting uninstall: multiprocess\n",
            "    Found existing installation: multiprocess 0.70.16\n",
            "    Uninstalling multiprocess-0.70.16:\n",
            "      Successfully uninstalled multiprocess-0.70.16\n",
            "  Attempting uninstall: datasets\n",
            "    Found existing installation: datasets 4.0.0\n",
            "    Uninstalling datasets-4.0.0:\n",
            "      Successfully uninstalled datasets-4.0.0\n",
            "\u001b[31mERROR: pip's dependency resolver does not currently take into account all the packages that are installed. This behaviour is the source of the following dependency conflicts.\n",
            "gcsfs 2025.3.0 requires fsspec==2025.3.0, but you have fsspec 2023.10.0 which is incompatible.\u001b[0m\u001b[31m\n",
            "\u001b[0mSuccessfully installed datasets-2.16.0 dill-0.3.7 fsspec-2023.10.0 multiprocess-0.70.15 pyarrow-hotfix-0.7\n",
            "Collecting huggingface-hub==0.20.0\n",
            "  Downloading huggingface_hub-0.20.0-py3-none-any.whl.metadata (12 kB)\n",
            "Requirement already satisfied: filelock in /usr/local/lib/python3.12/dist-packages (from huggingface-hub==0.20.0) (3.19.1)\n",
            "Requirement already satisfied: fsspec>=2023.5.0 in /usr/local/lib/python3.12/dist-packages (from huggingface-hub==0.20.0) (2023.10.0)\n",
            "Requirement already satisfied: requests in /usr/local/lib/python3.12/dist-packages (from huggingface-hub==0.20.0) (2.32.4)\n",
            "Requirement already satisfied: tqdm>=4.42.1 in /usr/local/lib/python3.12/dist-packages (from huggingface-hub==0.20.0) (4.67.1)\n",
            "Requirement already satisfied: pyyaml>=5.1 in /usr/local/lib/python3.12/dist-packages (from huggingface-hub==0.20.0) (6.0.2)\n",
            "Requirement already satisfied: typing-extensions>=3.7.4.3 in /usr/local/lib/python3.12/dist-packages (from huggingface-hub==0.20.0) (4.15.0)\n",
            "Requirement already satisfied: packaging>=20.9 in /usr/local/lib/python3.12/dist-packages (from huggingface-hub==0.20.0) (25.0)\n",
            "Requirement already satisfied: charset_normalizer<4,>=2 in /usr/local/lib/python3.12/dist-packages (from requests->huggingface-hub==0.20.0) (3.4.3)\n",
            "Requirement already satisfied: idna<4,>=2.5 in /usr/local/lib/python3.12/dist-packages (from requests->huggingface-hub==0.20.0) (3.10)\n",
            "Requirement already satisfied: urllib3<3,>=1.21.1 in /usr/local/lib/python3.12/dist-packages (from requests->huggingface-hub==0.20.0) (2.5.0)\n",
            "Requirement already satisfied: certifi>=2017.4.17 in /usr/local/lib/python3.12/dist-packages (from requests->huggingface-hub==0.20.0) (2025.8.3)\n",
            "Downloading huggingface_hub-0.20.0-py3-none-any.whl (329 kB)\n",
            "\u001b[2K   \u001b[90m\u2501\u2501\u2501\u2501\u2501\u2501\u2501\u2501\u2501\u2501\u2501\u2501\u2501\u2501\u2501\u2501\u2501\u2501\u2501\u2501\u2501\u2501\u2501\u2501\u2501\u2501\u2501\u2501\u2501\u2501\u2501\u2501\u2501\u2501\u2501\u2501\u2501\u2501\u2501\u2501\u001b[0m \u001b[32m329.1/329.1 kB\u001b[0m \u001b[31m21.5 MB/s\u001b[0m eta \u001b[36m0:00:00\u001b[0m\n",
            "\u001b[?25hInstalling collected packages: huggingface-hub\n",
            "  Attempting uninstall: huggingface-hub\n",
            "    Found existing installation: huggingface-hub 0.34.4\n",
            "    Uninstalling huggingface-hub-0.34.4:\n",
            "      Successfully uninstalled huggingface-hub-0.34.4\n",
            "\u001b[31mERROR: pip's dependency resolver does not currently take into account all the packages that are installed. This behaviour is the source of the following dependency conflicts.\n",
            "peft 0.17.1 requires huggingface_hub>=0.25.0, but you have huggingface-hub 0.20.0 which is incompatible.\n",
            "transformers 4.56.1 requires huggingface-hub<1.0,>=0.34.0, but you have huggingface-hub 0.20.0 which is incompatible.\n",
            "accelerate 1.10.1 requires huggingface_hub>=0.21.0, but you have huggingface-hub 0.20.0 which is incompatible.\n",
            "gradio 5.44.1 requires huggingface-hub<1.0,>=0.33.5, but you have huggingface-hub 0.20.0 which is incompatible.\n",
            "diffusers 0.35.1 requires huggingface-hub>=0.34.0, but you have huggingface-hub 0.20.0 which is incompatible.\u001b[0m\u001b[31m\n",
            "\u001b[0mSuccessfully installed huggingface-hub-0.20.0\n",
            "Reading package lists... Done\n",
            "Building dependency tree... Done\n",
            "Reading state information... Done\n",
            "The following additional packages will be installed:\n",
            "  libao-common libao4 libid3tag0 libmad0 libopencore-amrnb0 libopencore-amrwb0\n",
            "  libsox-fmt-all libsox-fmt-alsa libsox-fmt-ao libsox-fmt-base libsox-fmt-mp3\n",
            "  libsox-fmt-oss libsox-fmt-pulse libsox3 libwavpack1\n",
            "Suggested packages:\n",
            "  libaudio2 libsndio6.1\n",
            "The following NEW packages will be installed:\n",
            "  libao-common libao4 libid3tag0 libmad0 libopencore-amrnb0 libopencore-amrwb0\n",
            "  libsox-dev libsox-fmt-all libsox-fmt-alsa libsox-fmt-ao libsox-fmt-base\n",
            "  libsox-fmt-mp3 libsox-fmt-oss libsox-fmt-pulse libsox3 libwavpack1\n",
            "0 upgraded, 16 newly installed, 0 to remove and 35 not upgraded.\n",
            "Need to get 1,053 kB of archives.\n",
            "After this operation, 4,061 kB of additional disk space will be used.\n",
            "Get:1 http://archive.ubuntu.com/ubuntu jammy/main amd64 libao-common all 1.2.2+20180113-1.1ubuntu3 [6,568 B]\n",
            "Get:2 http://archive.ubuntu.com/ubuntu jammy/main amd64 libao4 amd64 1.2.2+20180113-1.1ubuntu3 [35.2 kB]\n",
            "Get:3 http://archive.ubuntu.com/ubuntu jammy/universe amd64 libid3tag0 amd64 0.15.1b-14 [31.3 kB]\n",
            "Get:4 http://archive.ubuntu.com/ubuntu jammy/universe amd64 libmad0 amd64 0.15.1b-10ubuntu1 [63.1 kB]\n",
            "Get:5 http://archive.ubuntu.com/ubuntu jammy/universe amd64 libopencore-amrnb0 amd64 0.1.5-1 [94.8 kB]\n",
            "Get:6 http://archive.ubuntu.com/ubuntu jammy/universe amd64 libopencore-amrwb0 amd64 0.1.5-1 [49.1 kB]\n",
            "Get:7 http://archive.ubuntu.com/ubuntu jammy-updates/universe amd64 libsox3 amd64 14.4.2+git20190427-2+deb11u2ubuntu0.22.04.1 [240 kB]\n",
            "Get:8 http://archive.ubuntu.com/ubuntu jammy-updates/universe amd64 libsox-fmt-alsa amd64 14.4.2+git20190427-2+deb11u2ubuntu0.22.04.1 [11.2 kB]\n",
            "Get:9 http://archive.ubuntu.com/ubuntu jammy-updates/universe amd64 libsox-fmt-ao amd64 14.4.2+git20190427-2+deb11u2ubuntu0.22.04.1 [7,740 B]\n",
            "Get:10 http://archive.ubuntu.com/ubuntu jammy/main amd64 libwavpack1 amd64 5.4.0-1build2 [83.7 kB]\n",
            "Get:11 http://archive.ubuntu.com/ubuntu jammy-updates/universe amd64 libsox-fmt-base amd64 14.4.2+git20190427-2+deb11u2ubuntu0.22.04.1 [33.7 kB]\n",
            "Get:12 http://archive.ubuntu.com/ubuntu jammy-updates/universe amd64 libsox-fmt-mp3 amd64 14.4.2+git20190427-2+deb11u2ubuntu0.22.04.1 [17.3 kB]\n",
            "Get:13 http://archive.ubuntu.com/ubuntu jammy-updates/universe amd64 libsox-fmt-oss amd64 14.4.2+git20190427-2+deb11u2ubuntu0.22.04.1 [9,424 B]\n",
            "Get:14 http://archive.ubuntu.com/ubuntu jammy-updates/universe amd64 libsox-fmt-pulse amd64 14.4.2+git20190427-2+deb11u2ubuntu0.22.04.1 [7,732 B]\n",
            "Get:15 http://archive.ubuntu.com/ubuntu jammy-updates/universe amd64 libsox-fmt-all amd64 14.4.2+git20190427-2+deb11u2ubuntu0.22.04.1 [5,016 B]\n",
            "Get:16 http://archive.ubuntu.com/ubuntu jammy-updates/universe amd64 libsox-dev amd64 14.4.2+git20190427-2+deb11u2ubuntu0.22.04.1 [356 kB]\n",
            "Fetched 1,053 kB in 1s (712 kB/s)\n",
            "Selecting previously unselected package libao-common.\n",
            "(Reading database ... 126374 files and directories currently installed.)\n",
            "Preparing to unpack .../00-libao-common_1.2.2+20180113-1.1ubuntu3_all.deb ...\n",
            "Unpacking libao-common (1.2.2+20180113-1.1ubuntu3) ...\n",
            "Selecting previously unselected package libao4:amd64.\n",
            "Preparing to unpack .../01-libao4_1.2.2+20180113-1.1ubuntu3_amd64.deb ...\n",
            "Unpacking libao4:amd64 (1.2.2+20180113-1.1ubuntu3) ...\n",
            "Selecting previously unselected package libid3tag0:amd64.\n",
            "Preparing to unpack .../02-libid3tag0_0.15.1b-14_amd64.deb ...\n",
            "Unpacking libid3tag0:amd64 (0.15.1b-14) ...\n",
            "Selecting previously unselected package libmad0:amd64.\n",
            "Preparing to unpack .../03-libmad0_0.15.1b-10ubuntu1_amd64.deb ...\n",
            "Unpacking libmad0:amd64 (0.15.1b-10ubuntu1) ...\n",
            "Selecting previously unselected package libopencore-amrnb0:amd64.\n",
            "Preparing to unpack .../04-libopencore-amrnb0_0.1.5-1_amd64.deb ...\n",
            "Unpacking libopencore-amrnb0:amd64 (0.1.5-1) ...\n",
            "Selecting previously unselected package libopencore-amrwb0:amd64.\n",
            "Preparing to unpack .../05-libopencore-amrwb0_0.1.5-1_amd64.deb ...\n",
            "Unpacking libopencore-amrwb0:amd64 (0.1.5-1) ...\n",
            "Selecting previously unselected package libsox3:amd64.\n",
            "Preparing to unpack .../06-libsox3_14.4.2+git20190427-2+deb11u2ubuntu0.22.04.1_amd64.deb ...\n",
            "Unpacking libsox3:amd64 (14.4.2+git20190427-2+deb11u2ubuntu0.22.04.1) ...\n",
            "Selecting previously unselected package libsox-fmt-alsa:amd64.\n",
            "Preparing to unpack .../07-libsox-fmt-alsa_14.4.2+git20190427-2+deb11u2ubuntu0.22.04.1_amd64.deb ...\n",
            "Unpacking libsox-fmt-alsa:amd64 (14.4.2+git20190427-2+deb11u2ubuntu0.22.04.1) ...\n",
            "Selecting previously unselected package libsox-fmt-ao:amd64.\n",
            "Preparing to unpack .../08-libsox-fmt-ao_14.4.2+git20190427-2+deb11u2ubuntu0.22.04.1_amd64.deb ...\n",
            "Unpacking libsox-fmt-ao:amd64 (14.4.2+git20190427-2+deb11u2ubuntu0.22.04.1) ...\n",
            "Selecting previously unselected package libwavpack1:amd64.\n",
            "Preparing to unpack .../09-libwavpack1_5.4.0-1build2_amd64.deb ...\n",
            "Unpacking libwavpack1:amd64 (5.4.0-1build2) ...\n",
            "Selecting previously unselected package libsox-fmt-base:amd64.\n",
            "Preparing to unpack .../10-libsox-fmt-base_14.4.2+git20190427-2+deb11u2ubuntu0.22.04.1_amd64.deb ...\n",
            "Unpacking libsox-fmt-base:amd64 (14.4.2+git20190427-2+deb11u2ubuntu0.22.04.1) ...\n",
            "Selecting previously unselected package libsox-fmt-mp3:amd64.\n",
            "Preparing to unpack .../11-libsox-fmt-mp3_14.4.2+git20190427-2+deb11u2ubuntu0.22.04.1_amd64.deb ...\n",
            "Unpacking libsox-fmt-mp3:amd64 (14.4.2+git20190427-2+deb11u2ubuntu0.22.04.1) ...\n",
            "Selecting previously unselected package libsox-fmt-oss:amd64.\n",
            "Preparing to unpack .../12-libsox-fmt-oss_14.4.2+git20190427-2+deb11u2ubuntu0.22.04.1_amd64.deb ...\n",
            "Unpacking libsox-fmt-oss:amd64 (14.4.2+git20190427-2+deb11u2ubuntu0.22.04.1) ...\n",
            "Selecting previously unselected package libsox-fmt-pulse:amd64.\n",
            "Preparing to unpack .../13-libsox-fmt-pulse_14.4.2+git20190427-2+deb11u2ubuntu0.22.04.1_amd64.deb ...\n",
            "Unpacking libsox-fmt-pulse:amd64 (14.4.2+git20190427-2+deb11u2ubuntu0.22.04.1) ...\n",
            "Selecting previously unselected package libsox-fmt-all:amd64.\n",
            "Preparing to unpack .../14-libsox-fmt-all_14.4.2+git20190427-2+deb11u2ubuntu0.22.04.1_amd64.deb ...\n",
            "Unpacking libsox-fmt-all:amd64 (14.4.2+git20190427-2+deb11u2ubuntu0.22.04.1) ...\n",
            "Selecting previously unselected package libsox-dev:amd64.\n",
            "Preparing to unpack .../15-libsox-dev_14.4.2+git20190427-2+deb11u2ubuntu0.22.04.1_amd64.deb ...\n",
            "Unpacking libsox-dev:amd64 (14.4.2+git20190427-2+deb11u2ubuntu0.22.04.1) ...\n",
            "Setting up libsox3:amd64 (14.4.2+git20190427-2+deb11u2ubuntu0.22.04.1) ...\n",
            "Setting up libsox-fmt-oss:amd64 (14.4.2+git20190427-2+deb11u2ubuntu0.22.04.1) ...\n",
            "Setting up libao-common (1.2.2+20180113-1.1ubuntu3) ...\n",
            "Setting up libid3tag0:amd64 (0.15.1b-14) ...\n",
            "Setting up libopencore-amrwb0:amd64 (0.1.5-1) ...\n",
            "Setting up libsox-fmt-alsa:amd64 (14.4.2+git20190427-2+deb11u2ubuntu0.22.04.1) ...\n",
            "Setting up libao4:amd64 (1.2.2+20180113-1.1ubuntu3) ...\n",
            "Setting up libmad0:amd64 (0.15.1b-10ubuntu1) ...\n",
            "Setting up libwavpack1:amd64 (5.4.0-1build2) ...\n",
            "Setting up libopencore-amrnb0:amd64 (0.1.5-1) ...\n",
            "Setting up libsox-fmt-base:amd64 (14.4.2+git20190427-2+deb11u2ubuntu0.22.04.1) ...\n",
            "Setting up libsox-fmt-ao:amd64 (14.4.2+git20190427-2+deb11u2ubuntu0.22.04.1) ...\n",
            "Setting up libsox-fmt-mp3:amd64 (14.4.2+git20190427-2+deb11u2ubuntu0.22.04.1) ...\n",
            "Setting up libsox-fmt-pulse:amd64 (14.4.2+git20190427-2+deb11u2ubuntu0.22.04.1) ...\n",
            "Setting up libsox-fmt-all:amd64 (14.4.2+git20190427-2+deb11u2ubuntu0.22.04.1) ...\n",
            "Setting up libsox-dev:amd64 (14.4.2+git20190427-2+deb11u2ubuntu0.22.04.1) ...\n",
            "Processing triggers for man-db (2.10.2-1) ...\n",
            "Processing triggers for libc-bin (2.35-0ubuntu3.8) ...\n",
            "/sbin/ldconfig.real: /usr/local/lib/libtbb.so.12 is not a symbolic link\n",
            "\n",
            "/sbin/ldconfig.real: /usr/local/lib/libur_adapter_level_zero_v2.so.0 is not a symbolic link\n",
            "\n",
            "/sbin/ldconfig.real: /usr/local/lib/libtbbbind_2_5.so.3 is not a symbolic link\n",
            "\n",
            "/sbin/ldconfig.real: /usr/local/lib/libhwloc.so.15 is not a symbolic link\n",
            "\n",
            "/sbin/ldconfig.real: /usr/local/lib/libur_adapter_level_zero.so.0 is not a symbolic link\n",
            "\n",
            "/sbin/ldconfig.real: /usr/local/lib/libumf.so.0 is not a symbolic link\n",
            "\n",
            "/sbin/ldconfig.real: /usr/local/lib/libtbbmalloc.so.2 is not a symbolic link\n",
            "\n",
            "/sbin/ldconfig.real: /usr/local/lib/libtcm_debug.so.1 is not a symbolic link\n",
            "\n",
            "/sbin/ldconfig.real: /usr/local/lib/libtbbbind.so.3 is not a symbolic link\n",
            "\n",
            "/sbin/ldconfig.real: /usr/local/lib/libtbbbind_2_0.so.3 is not a symbolic link\n",
            "\n",
            "/sbin/ldconfig.real: /usr/local/lib/libtcm.so.1 is not a symbolic link\n",
            "\n",
            "/sbin/ldconfig.real: /usr/local/lib/libtbbmalloc_proxy.so.2 is not a symbolic link\n",
            "\n",
            "/sbin/ldconfig.real: /usr/local/lib/libur_loader.so.0 is not a symbolic link\n",
            "\n",
            "/sbin/ldconfig.real: /usr/local/lib/libur_adapter_opencl.so.0 is not a symbolic link\n",
            "\n",
            "Looking in indexes: https://download.pytorch.org/whl/cu121\n",
            "Collecting torch==2.4.0\n",
            "  Downloading https://download.pytorch.org/whl/cu121/torch-2.4.0%2Bcu121-cp312-cp312-linux_x86_64.whl (799.0 MB)\n",
            "\u001b[2K     \u001b[90m\u2501\u2501\u2501\u2501\u2501\u2501\u2501\u2501\u2501\u2501\u2501\u2501\u2501\u2501\u2501\u2501\u2501\u2501\u2501\u2501\u2501\u2501\u2501\u2501\u2501\u2501\u2501\u2501\u2501\u2501\u2501\u2501\u2501\u2501\u2501\u2501\u2501\u2501\u2501\u001b[0m \u001b[32m799.0/799.0 MB\u001b[0m \u001b[31m2.0 MB/s\u001b[0m eta \u001b[36m0:00:00\u001b[0m\n",
            "\u001b[?25hCollecting torchvision==0.19.0\n",
            "  Downloading https://download.pytorch.org/whl/cu121/torchvision-0.19.0%2Bcu121-cp312-cp312-linux_x86_64.whl (7.1 MB)\n",
            "\u001b[2K     \u001b[90m\u2501\u2501\u2501\u2501\u2501\u2501\u2501\u2501\u2501\u2501\u2501\u2501\u2501\u2501\u2501\u2501\u2501\u2501\u2501\u2501\u2501\u2501\u2501\u2501\u2501\u2501\u2501\u2501\u2501\u2501\u2501\u2501\u2501\u2501\u2501\u2501\u2501\u2501\u2501\u2501\u001b[0m \u001b[32m7.1/7.1 MB\u001b[0m \u001b[31m137.1 MB/s\u001b[0m eta \u001b[36m0:00:00\u001b[0m\n",
            "\u001b[?25hCollecting torchaudio==2.4.0\n",
            "  Downloading https://download.pytorch.org/whl/cu121/torchaudio-2.4.0%2Bcu121-cp312-cp312-linux_x86_64.whl (3.4 MB)\n",
            "\u001b[2K     \u001b[90m\u2501\u2501\u2501\u2501\u2501\u2501\u2501\u2501\u2501\u2501\u2501\u2501\u2501\u2501\u2501\u2501\u2501\u2501\u2501\u2501\u2501\u2501\u2501\u2501\u2501\u2501\u2501\u2501\u2501\u2501\u2501\u2501\u2501\u2501\u2501\u2501\u2501\u2501\u2501\u2501\u001b[0m \u001b[32m3.4/3.4 MB\u001b[0m \u001b[31m115.1 MB/s\u001b[0m eta \u001b[36m0:00:00\u001b[0m\n",
            "\u001b[?25hRequirement already satisfied: filelock in /usr/local/lib/python3.12/dist-packages (from torch==2.4.0) (3.19.1)\n",
            "Requirement already satisfied: typing-extensions>=4.8.0 in /usr/local/lib/python3.12/dist-packages (from torch==2.4.0) (4.15.0)\n",
            "Requirement already satisfied: sympy in /usr/local/lib/python3.12/dist-packages (from torch==2.4.0) (1.13.3)\n",
            "Requirement already satisfied: networkx in /usr/local/lib/python3.12/dist-packages (from torch==2.4.0) (3.5)\n",
            "Requirement already satisfied: jinja2 in /usr/local/lib/python3.12/dist-packages (from torch==2.4.0) (3.1.6)\n",
            "Requirement already satisfied: fsspec in /usr/local/lib/python3.12/dist-packages (from torch==2.4.0) (2023.10.0)\n",
            "Requirement already satisfied: setuptools in /usr/local/lib/python3.12/dist-packages (from torch==2.4.0) (75.2.0)\n",
            "Collecting nvidia-cuda-nvrtc-cu12==12.1.105 (from torch==2.4.0)\n",
            "  Downloading https://download.pytorch.org/whl/cu121/nvidia_cuda_nvrtc_cu12-12.1.105-py3-none-manylinux1_x86_64.whl (23.7 MB)\n",
            "\u001b[2K     \u001b[90m\u2501\u2501\u2501\u2501\u2501\u2501\u2501\u2501\u2501\u2501\u2501\u2501\u2501\u2501\u2501\u2501\u2501\u2501\u2501\u2501\u2501\u2501\u2501\u2501\u2501\u2501\u2501\u2501\u2501\u2501\u2501\u2501\u2501\u2501\u2501\u2501\u2501\u2501\u2501\u001b[0m \u001b[32m23.7/23.7 MB\u001b[0m \u001b[31m107.7 MB/s\u001b[0m eta \u001b[36m0:00:00\u001b[0m\n",
            "\u001b[?25hCollecting nvidia-cuda-runtime-cu12==12.1.105 (from torch==2.4.0)\n",
            "  Downloading https://download.pytorch.org/whl/cu121/nvidia_cuda_runtime_cu12-12.1.105-py3-none-manylinux1_x86_64.whl (823 kB)\n",
            "\u001b[2K     \u001b[90m\u2501\u2501\u2501\u2501\u2501\u2501\u2501\u2501\u2501\u2501\u2501\u2501\u2501\u2501\u2501\u2501\u2501\u2501\u2501\u2501\u2501\u2501\u2501\u2501\u2501\u2501\u2501\u2501\u2501\u2501\u2501\u2501\u2501\u2501\u2501\u2501\u2501\u2501\u001b[0m \u001b[32m823.6/823.6 kB\u001b[0m \u001b[31m59.0 MB/s\u001b[0m eta \u001b[36m0:00:00\u001b[0m\n",
            "\u001b[?25hCollecting nvidia-cuda-cupti-cu12==12.1.105 (from torch==2.4.0)\n",
            "  Downloading https://download.pytorch.org/whl/cu121/nvidia_cuda_cupti_cu12-12.1.105-py3-none-manylinux1_x86_64.whl (14.1 MB)\n",
            "\u001b[2K     \u001b[90m\u2501\u2501\u2501\u2501\u2501\u2501\u2501\u2501\u2501\u2501\u2501\u2501\u2501\u2501\u2501\u2501\u2501\u2501\u2501\u2501\u2501\u2501\u2501\u2501\u2501\u2501\u2501\u2501\u2501\u2501\u2501\u2501\u2501\u2501\u2501\u2501\u2501\u2501\u2501\u001b[0m \u001b[32m14.1/14.1 MB\u001b[0m \u001b[31m132.4 MB/s\u001b[0m eta \u001b[36m0:00:00\u001b[0m\n",
            "\u001b[?25hCollecting nvidia-cudnn-cu12==9.1.0.70 (from torch==2.4.0)\n",
            "  Downloading https://download.pytorch.org/whl/cu121/nvidia_cudnn_cu12-9.1.0.70-py3-none-manylinux2014_x86_64.whl (664.8 MB)\n",
            "\u001b[2K     \u001b[90m\u2501\u2501\u2501\u2501\u2501\u2501\u2501\u2501\u2501\u2501\u2501\u2501\u2501\u2501\u2501\u2501\u2501\u2501\u2501\u2501\u2501\u2501\u2501\u2501\u2501\u2501\u2501\u2501\u2501\u2501\u2501\u2501\u2501\u2501\u2501\u2501\u2501\u2501\u2501\u001b[0m \u001b[32m664.8/664.8 MB\u001b[0m \u001b[31m1.6 MB/s\u001b[0m eta \u001b[36m0:00:00\u001b[0m\n",
            "\u001b[?25hCollecting nvidia-cublas-cu12==12.1.3.1 (from torch==2.4.0)\n",
            "  Downloading https://download.pytorch.org/whl/cu121/nvidia_cublas_cu12-12.1.3.1-py3-none-manylinux1_x86_64.whl (410.6 MB)\n",
            "\u001b[2K     \u001b[90m\u2501\u2501\u2501\u2501\u2501\u2501\u2501\u2501\u2501\u2501\u2501\u2501\u2501\u2501\u2501\u2501\u2501\u2501\u2501\u2501\u2501\u2501\u2501\u2501\u2501\u2501\u2501\u2501\u2501\u2501\u2501\u2501\u2501\u2501\u2501\u2501\u2501\u2501\u2501\u001b[0m \u001b[32m410.6/410.6 MB\u001b[0m \u001b[31m2.2 MB/s\u001b[0m eta \u001b[36m0:00:00\u001b[0m\n",
            "\u001b[?25hCollecting nvidia-cufft-cu12==11.0.2.54 (from torch==2.4.0)\n",
            "  Downloading https://download.pytorch.org/whl/cu121/nvidia_cufft_cu12-11.0.2.54-py3-none-manylinux1_x86_64.whl (121.6 MB)\n",
            "\u001b[2K     \u001b[90m\u2501\u2501\u2501\u2501\u2501\u2501\u2501\u2501\u2501\u2501\u2501\u2501\u2501\u2501\u2501\u2501\u2501\u2501\u2501\u2501\u2501\u2501\u2501\u2501\u2501\u2501\u2501\u2501\u2501\u2501\u2501\u2501\u2501\u2501\u2501\u2501\u2501\u2501\u001b[0m \u001b[32m121.6/121.6 MB\u001b[0m \u001b[31m17.4 MB/s\u001b[0m eta \u001b[36m0:00:00\u001b[0m\n",
            "\u001b[?25hCollecting nvidia-curand-cu12==10.3.2.106 (from torch==2.4.0)\n",
            "  Downloading https://download.pytorch.org/whl/cu121/nvidia_curand_cu12-10.3.2.106-py3-none-manylinux1_x86_64.whl (56.5 MB)\n",
            "\u001b[2K     \u001b[90m\u2501\u2501\u2501\u2501\u2501\u2501\u2501\u2501\u2501\u2501\u2501\u2501\u2501\u2501\u2501\u2501\u2501\u2501\u2501\u2501\u2501\u2501\u2501\u2501\u2501\u2501\u2501\u2501\u2501\u2501\u2501\u2501\u2501\u2501\u2501\u2501\u2501\u2501\u2501\u2501\u001b[0m \u001b[32m56.5/56.5 MB\u001b[0m \u001b[31m38.9 MB/s\u001b[0m eta \u001b[36m0:00:00\u001b[0m\n",
            "\u001b[?25hCollecting nvidia-cusolver-cu12==11.4.5.107 (from torch==2.4.0)\n",
            "  Downloading https://download.pytorch.org/whl/cu121/nvidia_cusolver_cu12-11.4.5.107-py3-none-manylinux1_x86_64.whl (124.2 MB)\n",
            "\u001b[2K     \u001b[90m\u2501\u2501\u2501\u2501\u2501\u2501\u2501\u2501\u2501\u2501\u2501\u2501\u2501\u2501\u2501\u2501\u2501\u2501\u2501\u2501\u2501\u2501\u2501\u2501\u2501\u2501\u2501\u2501\u2501\u2501\u2501\u2501\u2501\u2501\u2501\u2501\u2501\u2501\u2501\u001b[0m \u001b[32m124.2/124.2 MB\u001b[0m \u001b[31m9.0 MB/s\u001b[0m eta \u001b[36m0:00:00\u001b[0m\n",
            "\u001b[?25hCollecting nvidia-cusparse-cu12==12.1.0.106 (from torch==2.4.0)\n",
            "  Downloading https://download.pytorch.org/whl/cu121/nvidia_cusparse_cu12-12.1.0.106-py3-none-manylinux1_x86_64.whl (196.0 MB)\n",
            "\u001b[2K     \u001b[90m\u2501\u2501\u2501\u2501\u2501\u2501\u2501\u2501\u2501\u2501\u2501\u2501\u2501\u2501\u2501\u2501\u2501\u2501\u2501\u2501\u2501\u2501\u2501\u2501\u2501\u2501\u2501\u2501\u2501\u2501\u2501\u2501\u2501\u2501\u2501\u2501\u2501\u2501\u2501\u001b[0m \u001b[32m196.0/196.0 MB\u001b[0m \u001b[31m4.3 MB/s\u001b[0m eta \u001b[36m0:00:00\u001b[0m\n",
            "\u001b[?25hCollecting nvidia-nccl-cu12==2.20.5 (from torch==2.4.0)\n",
            "  Downloading https://download.pytorch.org/whl/cu121/nvidia_nccl_cu12-2.20.5-py3-none-manylinux2014_x86_64.whl (176.2 MB)\n",
            "\u001b[2K     \u001b[90m\u2501\u2501\u2501\u2501\u2501\u2501\u2501\u2501\u2501\u2501\u2501\u2501\u2501\u2501\u2501\u2501\u2501\u2501\u2501\u2501\u2501\u2501\u2501\u2501\u2501\u2501\u2501\u2501\u2501\u2501\u2501\u2501\u2501\u2501\u2501\u2501\u2501\u2501\u2501\u001b[0m \u001b[32m176.2/176.2 MB\u001b[0m \u001b[31m6.6 MB/s\u001b[0m eta \u001b[36m0:00:00\u001b[0m\n",
            "\u001b[?25hCollecting nvidia-nvtx-cu12==12.1.105 (from torch==2.4.0)\n",
            "  Downloading https://download.pytorch.org/whl/cu121/nvidia_nvtx_cu12-12.1.105-py3-none-manylinux1_x86_64.whl (99 kB)\n",
            "\u001b[2K     \u001b[90m\u2501\u2501\u2501\u2501\u2501\u2501\u2501\u2501\u2501\u2501\u2501\u2501\u2501\u2501\u2501\u2501\u2501\u2501\u2501\u2501\u2501\u2501\u2501\u2501\u2501\u2501\u2501\u2501\u2501\u2501\u2501\u2501\u2501\u2501\u2501\u2501\u2501\u2501\u2501\u2501\u001b[0m \u001b[32m99.1/99.1 kB\u001b[0m \u001b[31m10.6 MB/s\u001b[0m eta \u001b[36m0:00:00\u001b[0m\n",
            "\u001b[?25hCollecting triton==3.0.0 (from torch==2.4.0)\n",
            "  Downloading https://download.pytorch.org/whl/triton-3.0.0-1-cp312-cp312-manylinux2014_x86_64.manylinux_2_17_x86_64.whl (209.5 MB)\n",
            "\u001b[2K     \u001b[90m\u2501\u2501\u2501\u2501\u2501\u2501\u2501\u2501\u2501\u2501\u2501\u2501\u2501\u2501\u2501\u2501\u2501\u2501\u2501\u2501\u2501\u2501\u2501\u2501\u2501\u2501\u2501\u2501\u2501\u2501\u2501\u2501\u2501\u2501\u2501\u2501\u2501\u2501\u2501\u001b[0m \u001b[32m209.5/209.5 MB\u001b[0m \u001b[31m4.2 MB/s\u001b[0m eta \u001b[36m0:00:00\u001b[0m\n",
            "\u001b[?25hRequirement already satisfied: numpy in /usr/local/lib/python3.12/dist-packages (from torchvision==0.19.0) (2.0.2)\n",
            "Requirement already satisfied: pillow!=8.3.*,>=5.3.0 in /usr/local/lib/python3.12/dist-packages (from torchvision==0.19.0) (11.3.0)\n",
            "Requirement already satisfied: nvidia-nvjitlink-cu12 in /usr/local/lib/python3.12/dist-packages (from nvidia-cusolver-cu12==11.4.5.107->torch==2.4.0) (12.6.85)\n",
            "Requirement already satisfied: MarkupSafe>=2.0 in /usr/local/lib/python3.12/dist-packages (from jinja2->torch==2.4.0) (3.0.2)\n",
            "Requirement already satisfied: mpmath<1.4,>=1.1.0 in /usr/local/lib/python3.12/dist-packages (from sympy->torch==2.4.0) (1.3.0)\n",
            "Installing collected packages: triton, nvidia-nvtx-cu12, nvidia-nccl-cu12, nvidia-cusparse-cu12, nvidia-curand-cu12, nvidia-cufft-cu12, nvidia-cuda-runtime-cu12, nvidia-cuda-nvrtc-cu12, nvidia-cuda-cupti-cu12, nvidia-cublas-cu12, nvidia-cusolver-cu12, nvidia-cudnn-cu12, torch, torchvision, torchaudio\n",
            "  Attempting uninstall: triton\n",
            "    Found existing installation: triton 3.4.0\n",
            "    Uninstalling triton-3.4.0:\n",
            "      Successfully uninstalled triton-3.4.0\n",
            "  Attempting uninstall: nvidia-nvtx-cu12\n",
            "    Found existing installation: nvidia-nvtx-cu12 12.6.77\n",
            "    Uninstalling nvidia-nvtx-cu12-12.6.77:\n",
            "      Successfully uninstalled nvidia-nvtx-cu12-12.6.77\n",
            "  Attempting uninstall: nvidia-nccl-cu12\n",
            "    Found existing installation: nvidia-nccl-cu12 2.27.3\n",
            "    Uninstalling nvidia-nccl-cu12-2.27.3:\n",
            "      Successfully uninstalled nvidia-nccl-cu12-2.27.3\n",
            "  Attempting uninstall: nvidia-cusparse-cu12\n",
            "    Found existing installation: nvidia-cusparse-cu12 12.5.4.2\n",
            "    Uninstalling nvidia-cusparse-cu12-12.5.4.2:\n",
            "      Successfully uninstalled nvidia-cusparse-cu12-12.5.4.2\n",
            "  Attempting uninstall: nvidia-curand-cu12\n",
            "    Found existing installation: nvidia-curand-cu12 10.3.7.77\n",
            "    Uninstalling nvidia-curand-cu12-10.3.7.77:\n",
            "      Successfully uninstalled nvidia-curand-cu12-10.3.7.77\n",
            "  Attempting uninstall: nvidia-cufft-cu12\n",
            "    Found existing installation: nvidia-cufft-cu12 11.3.0.4\n",
            "    Uninstalling nvidia-cufft-cu12-11.3.0.4:\n",
            "      Successfully uninstalled nvidia-cufft-cu12-11.3.0.4\n",
            "  Attempting uninstall: nvidia-cuda-runtime-cu12\n",
            "    Found existing installation: nvidia-cuda-runtime-cu12 12.6.77\n",
            "    Uninstalling nvidia-cuda-runtime-cu12-12.6.77:\n",
            "      Successfully uninstalled nvidia-cuda-runtime-cu12-12.6.77\n",
            "  Attempting uninstall: nvidia-cuda-nvrtc-cu12\n",
            "    Found existing installation: nvidia-cuda-nvrtc-cu12 12.6.77\n",
            "    Uninstalling nvidia-cuda-nvrtc-cu12-12.6.77:\n",
            "      Successfully uninstalled nvidia-cuda-nvrtc-cu12-12.6.77\n",
            "  Attempting uninstall: nvidia-cuda-cupti-cu12\n",
            "    Found existing installation: nvidia-cuda-cupti-cu12 12.6.80\n",
            "    Uninstalling nvidia-cuda-cupti-cu12-12.6.80:\n",
            "      Successfully uninstalled nvidia-cuda-cupti-cu12-12.6.80\n",
            "  Attempting uninstall: nvidia-cublas-cu12\n",
            "    Found existing installation: nvidia-cublas-cu12 12.6.4.1\n",
            "    Uninstalling nvidia-cublas-cu12-12.6.4.1:\n",
            "      Successfully uninstalled nvidia-cublas-cu12-12.6.4.1\n",
            "  Attempting uninstall: nvidia-cusolver-cu12\n",
            "    Found existing installation: nvidia-cusolver-cu12 11.7.1.2\n",
            "    Uninstalling nvidia-cusolver-cu12-11.7.1.2:\n",
            "      Successfully uninstalled nvidia-cusolver-cu12-11.7.1.2\n",
            "  Attempting uninstall: nvidia-cudnn-cu12\n",
            "    Found existing installation: nvidia-cudnn-cu12 9.10.2.21\n",
            "    Uninstalling nvidia-cudnn-cu12-9.10.2.21:\n",
            "      Successfully uninstalled nvidia-cudnn-cu12-9.10.2.21\n",
            "  Attempting uninstall: torch\n",
            "    Found existing installation: torch 2.8.0+cu126\n",
            "    Uninstalling torch-2.8.0+cu126:\n",
            "      Successfully uninstalled torch-2.8.0+cu126\n",
            "  Attempting uninstall: torchvision\n",
            "    Found existing installation: torchvision 0.23.0+cu126\n",
            "    Uninstalling torchvision-0.23.0+cu126:\n",
            "      Successfully uninstalled torchvision-0.23.0+cu126\n",
            "  Attempting uninstall: torchaudio\n",
            "    Found existing installation: torchaudio 2.8.0+cu126\n",
            "    Uninstalling torchaudio-2.8.0+cu126:\n",
            "      Successfully uninstalled torchaudio-2.8.0+cu126\n",
            "\u001b[31mERROR: pip's dependency resolver does not currently take into account all the packages that are installed. This behaviour is the source of the following dependency conflicts.\n",
            "peft 0.17.1 requires huggingface_hub>=0.25.0, but you have huggingface-hub 0.20.0 which is incompatible.\n",
            "accelerate 1.10.1 requires huggingface_hub>=0.21.0, but you have huggingface-hub 0.20.0 which is incompatible.\u001b[0m\u001b[31m\n",
            "\u001b[0mSuccessfully installed nvidia-cublas-cu12-12.1.3.1 nvidia-cuda-cupti-cu12-12.1.105 nvidia-cuda-nvrtc-cu12-12.1.105 nvidia-cuda-runtime-cu12-12.1.105 nvidia-cudnn-cu12-9.1.0.70 nvidia-cufft-cu12-11.0.2.54 nvidia-curand-cu12-10.3.2.106 nvidia-cusolver-cu12-11.4.5.107 nvidia-cusparse-cu12-12.1.0.106 nvidia-nccl-cu12-2.20.5 nvidia-nvtx-cu12-12.1.105 torch-2.4.0+cu121 torchaudio-2.4.0+cu121 torchvision-0.19.0+cu121 triton-3.0.0\n",
            "Collecting causal-conv1d==1.4.0\n",
            "  Downloading causal_conv1d-1.4.0.tar.gz (9.3 kB)\n",
            "  Preparing metadata (setup.py) ... \u001b[?25l\u001b[?25hdone\n",
            "Collecting mamba-ssm==2.2.2\n",
            "  Downloading mamba_ssm-2.2.2.tar.gz (85 kB)\n",
            "\u001b[2K     \u001b[90m\u2501\u2501\u2501\u2501\u2501\u2501\u2501\u2501\u2501\u2501\u2501\u2501\u2501\u2501\u2501\u2501\u2501\u2501\u2501\u2501\u2501\u2501\u2501\u2501\u2501\u2501\u2501\u2501\u2501\u2501\u2501\u2501\u2501\u2501\u2501\u2501\u2501\u2501\u2501\u2501\u001b[0m \u001b[32m85.4/85.4 kB\u001b[0m \u001b[31m9.9 MB/s\u001b[0m eta \u001b[36m0:00:00\u001b[0m\n",
            "\u001b[?25h  Preparing metadata (setup.py) ... \u001b[?25l\u001b[?25hdone\n",
            "Requirement already satisfied: scikit-learn in /usr/local/lib/python3.12/dist-packages (1.6.1)\n",
            "Requirement already satisfied: tensorboard in /usr/local/lib/python3.12/dist-packages (2.19.0)\n",
            "Requirement already satisfied: torch in /usr/local/lib/python3.12/dist-packages (from causal-conv1d==1.4.0) (2.4.0+cu121)\n",
            "Requirement already satisfied: packaging in /usr/local/lib/python3.12/dist-packages (from causal-conv1d==1.4.0) (25.0)\n",
            "Collecting ninja (from causal-conv1d==1.4.0)\n",
            "  Downloading ninja-1.13.0-py3-none-manylinux2014_x86_64.manylinux_2_17_x86_64.whl.metadata (5.1 kB)\n",
            "Requirement already satisfied: einops in /usr/local/lib/python3.12/dist-packages (from mamba-ssm==2.2.2) (0.8.1)\n",
            "Requirement already satisfied: triton in /usr/local/lib/python3.12/dist-packages (from mamba-ssm==2.2.2) (3.0.0)\n",
            "Requirement already satisfied: transformers in /usr/local/lib/python3.12/dist-packages (from mamba-ssm==2.2.2) (4.56.1)\n",
            "Requirement already satisfied: numpy>=1.19.5 in /usr/local/lib/python3.12/dist-packages (from scikit-learn) (2.0.2)\n",
            "Requirement already satisfied: scipy>=1.6.0 in /usr/local/lib/python3.12/dist-packages (from scikit-learn) (1.16.1)\n",
            "Requirement already satisfied: joblib>=1.2.0 in /usr/local/lib/python3.12/dist-packages (from scikit-learn) (1.5.2)\n",
            "Requirement already satisfied: threadpoolctl>=3.1.0 in /usr/local/lib/python3.12/dist-packages (from scikit-learn) (3.6.0)\n",
            "Requirement already satisfied: absl-py>=0.4 in /usr/local/lib/python3.12/dist-packages (from tensorboard) (1.4.0)\n",
            "Requirement already satisfied: grpcio>=1.48.2 in /usr/local/lib/python3.12/dist-packages (from tensorboard) (1.74.0)\n",
            "Requirement already satisfied: markdown>=2.6.8 in /usr/local/lib/python3.12/dist-packages (from tensorboard) (3.9)\n",
            "Requirement already satisfied: protobuf!=4.24.0,>=3.19.6 in /usr/local/lib/python3.12/dist-packages (from tensorboard) (5.29.5)\n",
            "Requirement already satisfied: setuptools>=41.0.0 in /usr/local/lib/python3.12/dist-packages (from tensorboard) (75.2.0)\n",
            "Requirement already satisfied: six>1.9 in /usr/local/lib/python3.12/dist-packages (from tensorboard) (1.17.0)\n",
            "Requirement already satisfied: tensorboard-data-server<0.8.0,>=0.7.0 in /usr/local/lib/python3.12/dist-packages (from tensorboard) (0.7.2)\n",
            "Requirement already satisfied: werkzeug>=1.0.1 in /usr/local/lib/python3.12/dist-packages (from tensorboard) (3.1.3)\n",
            "Requirement already satisfied: MarkupSafe>=2.1.1 in /usr/local/lib/python3.12/dist-packages (from werkzeug>=1.0.1->tensorboard) (3.0.2)\n",
            "Requirement already satisfied: filelock in /usr/local/lib/python3.12/dist-packages (from torch->causal-conv1d==1.4.0) (3.19.1)\n",
            "Requirement already satisfied: typing-extensions>=4.8.0 in /usr/local/lib/python3.12/dist-packages (from torch->causal-conv1d==1.4.0) (4.15.0)\n",
            "Requirement already satisfied: sympy in /usr/local/lib/python3.12/dist-packages (from torch->causal-conv1d==1.4.0) (1.13.3)\n",
            "Requirement already satisfied: networkx in /usr/local/lib/python3.12/dist-packages (from torch->causal-conv1d==1.4.0) (3.5)\n",
            "Requirement already satisfied: jinja2 in /usr/local/lib/python3.12/dist-packages (from torch->causal-conv1d==1.4.0) (3.1.6)\n",
            "Requirement already satisfied: fsspec in /usr/local/lib/python3.12/dist-packages (from torch->causal-conv1d==1.4.0) (2023.10.0)\n",
            "Requirement already satisfied: nvidia-cuda-nvrtc-cu12==12.1.105 in /usr/local/lib/python3.12/dist-packages (from torch->causal-conv1d==1.4.0) (12.1.105)\n",
            "Requirement already satisfied: nvidia-cuda-runtime-cu12==12.1.105 in /usr/local/lib/python3.12/dist-packages (from torch->causal-conv1d==1.4.0) (12.1.105)\n",
            "Requirement already satisfied: nvidia-cuda-cupti-cu12==12.1.105 in /usr/local/lib/python3.12/dist-packages (from torch->causal-conv1d==1.4.0) (12.1.105)\n",
            "Requirement already satisfied: nvidia-cudnn-cu12==9.1.0.70 in /usr/local/lib/python3.12/dist-packages (from torch->causal-conv1d==1.4.0) (9.1.0.70)\n",
            "Requirement already satisfied: nvidia-cublas-cu12==12.1.3.1 in /usr/local/lib/python3.12/dist-packages (from torch->causal-conv1d==1.4.0) (12.1.3.1)\n",
            "Requirement already satisfied: nvidia-cufft-cu12==11.0.2.54 in /usr/local/lib/python3.12/dist-packages (from torch->causal-conv1d==1.4.0) (11.0.2.54)\n",
            "Requirement already satisfied: nvidia-curand-cu12==10.3.2.106 in /usr/local/lib/python3.12/dist-packages (from torch->causal-conv1d==1.4.0) (10.3.2.106)\n",
            "Requirement already satisfied: nvidia-cusolver-cu12==11.4.5.107 in /usr/local/lib/python3.12/dist-packages (from torch->causal-conv1d==1.4.0) (11.4.5.107)\n",
            "Requirement already satisfied: nvidia-cusparse-cu12==12.1.0.106 in /usr/local/lib/python3.12/dist-packages (from torch->causal-conv1d==1.4.0) (12.1.0.106)\n",
            "Requirement already satisfied: nvidia-nccl-cu12==2.20.5 in /usr/local/lib/python3.12/dist-packages (from torch->causal-conv1d==1.4.0) (2.20.5)\n",
            "Requirement already satisfied: nvidia-nvtx-cu12==12.1.105 in /usr/local/lib/python3.12/dist-packages (from torch->causal-conv1d==1.4.0) (12.1.105)\n",
            "Requirement already satisfied: nvidia-nvjitlink-cu12 in /usr/local/lib/python3.12/dist-packages (from nvidia-cusolver-cu12==11.4.5.107->torch->causal-conv1d==1.4.0) (12.6.85)\n",
            "Collecting huggingface-hub<1.0,>=0.34.0 (from transformers->mamba-ssm==2.2.2)\n",
            "  Downloading huggingface_hub-0.34.4-py3-none-any.whl.metadata (14 kB)\n",
            "Requirement already satisfied: pyyaml>=5.1 in /usr/local/lib/python3.12/dist-packages (from transformers->mamba-ssm==2.2.2) (6.0.2)\n",
            "Requirement already satisfied: regex!=2019.12.17 in /usr/local/lib/python3.12/dist-packages (from transformers->mamba-ssm==2.2.2) (2024.11.6)\n",
            "Requirement already satisfied: requests in /usr/local/lib/python3.12/dist-packages (from transformers->mamba-ssm==2.2.2) (2.32.4)\n",
            "Requirement already satisfied: tokenizers<=0.23.0,>=0.22.0 in /usr/local/lib/python3.12/dist-packages (from transformers->mamba-ssm==2.2.2) (0.22.0)\n",
            "Requirement already satisfied: safetensors>=0.4.3 in /usr/local/lib/python3.12/dist-packages (from transformers->mamba-ssm==2.2.2) (0.6.2)\n",
            "Requirement already satisfied: tqdm>=4.27 in /usr/local/lib/python3.12/dist-packages (from transformers->mamba-ssm==2.2.2) (4.67.1)\n",
            "Requirement already satisfied: hf-xet<2.0.0,>=1.1.3 in /usr/local/lib/python3.12/dist-packages (from huggingface-hub<1.0,>=0.34.0->transformers->mamba-ssm==2.2.2) (1.1.9)\n",
            "Requirement already satisfied: charset_normalizer<4,>=2 in /usr/local/lib/python3.12/dist-packages (from requests->transformers->mamba-ssm==2.2.2) (3.4.3)\n",
            "Requirement already satisfied: idna<4,>=2.5 in /usr/local/lib/python3.12/dist-packages (from requests->transformers->mamba-ssm==2.2.2) (3.10)\n",
            "Requirement already satisfied: urllib3<3,>=1.21.1 in /usr/local/lib/python3.12/dist-packages (from requests->transformers->mamba-ssm==2.2.2) (2.5.0)\n",
            "Requirement already satisfied: certifi>=2017.4.17 in /usr/local/lib/python3.12/dist-packages (from requests->transformers->mamba-ssm==2.2.2) (2025.8.3)\n",
            "Requirement already satisfied: mpmath<1.4,>=1.1.0 in /usr/local/lib/python3.12/dist-packages (from sympy->torch->causal-conv1d==1.4.0) (1.3.0)\n",
            "Downloading ninja-1.13.0-py3-none-manylinux2014_x86_64.manylinux_2_17_x86_64.whl (180 kB)\n",
            "\u001b[2K   \u001b[90m\u2501\u2501\u2501\u2501\u2501\u2501\u2501\u2501\u2501\u2501\u2501\u2501\u2501\u2501\u2501\u2501\u2501\u2501\u2501\u2501\u2501\u2501\u2501\u2501\u2501\u2501\u2501\u2501\u2501\u2501\u2501\u2501\u2501\u2501\u2501\u2501\u2501\u2501\u2501\u2501\u001b[0m \u001b[32m180.7/180.7 kB\u001b[0m \u001b[31m18.8 MB/s\u001b[0m eta \u001b[36m0:00:00\u001b[0m\n",
            "\u001b[?25hDownloading huggingface_hub-0.34.4-py3-none-any.whl (561 kB)\n",
            "\u001b[2K   \u001b[90m\u2501\u2501\u2501\u2501\u2501\u2501\u2501\u2501\u2501\u2501\u2501\u2501\u2501\u2501\u2501\u2501\u2501\u2501\u2501\u2501\u2501\u2501\u2501\u2501\u2501\u2501\u2501\u2501\u2501\u2501\u2501\u2501\u2501\u2501\u2501\u2501\u2501\u2501\u2501\u2501\u001b[0m \u001b[32m561.5/561.5 kB\u001b[0m \u001b[31m48.2 MB/s\u001b[0m eta \u001b[36m0:00:00\u001b[0m\n",
            "\u001b[?25hBuilding wheels for collected packages: causal-conv1d, mamba-ssm\n",
            "  Building wheel for causal-conv1d (setup.py) ... \u001b[?25l\u001b[?25hdone\n",
            "  Created wheel for causal-conv1d: filename=causal_conv1d-1.4.0-cp312-cp312-linux_x86_64.whl size=104884589 sha256=70c6d91d00c625d750b83c9c4bdd0bd395c61aff9baa8c0d58e0a33dabbe3b4e\n",
            "  Stored in directory: /root/.cache/pip/wheels/3a/bd/04/a4893fd5ad69a02f55b49f04dc1dbbd7c439332db7895f62ff\n",
            "  Building wheel for mamba-ssm (setup.py) ... \u001b[?25l\u001b[?25hdone\n",
            "  Created wheel for mamba-ssm: filename=mamba_ssm-2.2.2-cp312-cp312-linux_x86_64.whl size=324005633 sha256=f4cf06585ac28c783dbe6fe357c64218415af3665c3c06106be8f86dab69b2a8\n",
            "  Stored in directory: /root/.cache/pip/wheels/5f/b8/99/4112d82fe2a9458dd194c3ff54c43a14a8594c8f90cf16046f\n",
            "Successfully built causal-conv1d mamba-ssm\n",
            "Installing collected packages: ninja, huggingface-hub, causal-conv1d, mamba-ssm\n",
            "  Attempting uninstall: huggingface-hub\n",
            "    Found existing installation: huggingface-hub 0.20.0\n",
            "    Uninstalling huggingface-hub-0.20.0:\n",
            "      Successfully uninstalled huggingface-hub-0.20.0\n",
            "Successfully installed causal-conv1d-1.4.0 huggingface-hub-0.34.4 mamba-ssm-2.2.2 ninja-1.13.0\n"
          ]
        }
      ],
      "source": [
        "# --- Environment & installs ---\n",
        "!pip install datasets==2.16.0\n",
        "!pip install huggingface-hub==0.20.0\n",
        "!apt-get install -y libsox-dev\n",
        "!pip install torch==2.4.0 torchvision==0.19.0 torchaudio==2.4.0 --index-url https://download.pytorch.org/whl/cu121\n",
        "!pip install causal-conv1d==1.4.0 mamba-ssm==2.2.2 scikit-learn tensorboard"
      ]
    },
    {
      "cell_type": "code",
      "source": [
        "# =========================================================\n",
        "# Keyword-Spotting (Google Speech Commands v0.02) with Mamba\n",
        "# Front-end: MFCC (F=40) -> Linear(40 -> d_model) -> Mamba * L -> Classifier\n",
        "# =========================================================\n",
        "\n",
        "from __future__ import annotations\n",
        "import json, os, random, math, time\n",
        "from pathlib import Path\n",
        "from typing import Tuple, Dict, List\n",
        "\n",
        "import torch, torchaudio\n",
        "import torch.nn as nn\n",
        "import torch.nn.functional as F\n",
        "import torchaudio.transforms as T\n",
        "from torch.utils.data import Dataset, DataLoader\n",
        "from torch.utils.tensorboard import SummaryWriter\n",
        "\n",
        "from datasets import load_dataset\n",
        "from tqdm.notebook import tqdm\n",
        "from sklearn.metrics import f1_score\n",
        "\n",
        "from mamba_ssm import Mamba\n",
        "\n",
        "# ---------------------------------------------------------\n",
        "# 0) Repro & device\n",
        "# ---------------------------------------------------------\n",
        "def set_seed(seed: int = 42):\n",
        "    random.seed(seed)\n",
        "    torch.manual_seed(seed)\n",
        "    torch.cuda.manual_seed_all(seed)\n",
        "    torch.backends.cudnn.deterministic = False\n",
        "    torch.backends.cudnn.benchmark = True\n",
        "\n",
        "device = torch.device(\"cuda\" if torch.cuda.is_available() else \"cpu\")\n",
        "use_amp = (device.type == \"cuda\")\n",
        "set_seed(42)\n",
        "\n",
        "from google.colab import drive\n",
        "drive.mount('/content/drive')"
      ],
      "metadata": {
        "colab": {
          "base_uri": "https://localhost:8080/"
        },
        "collapsed": true,
        "id": "2e2XEsxrbNBl",
        "outputId": "41b0ec60-2bee-4bfd-afa0-4c94cfd9c531"
      },
      "execution_count": null,
      "outputs": [
        {
          "output_type": "stream",
          "name": "stderr",
          "text": [
            "/usr/local/lib/python3.12/dist-packages/mamba_ssm/ops/selective_scan_interface.py:163: FutureWarning: `torch.cuda.amp.custom_fwd(args...)` is deprecated. Please use `torch.amp.custom_fwd(args..., device_type='cuda')` instead.\n",
            "  @custom_fwd\n",
            "/usr/local/lib/python3.12/dist-packages/mamba_ssm/ops/selective_scan_interface.py:239: FutureWarning: `torch.cuda.amp.custom_bwd(args...)` is deprecated. Please use `torch.amp.custom_bwd(args..., device_type='cuda')` instead.\n",
            "  @custom_bwd\n",
            "/usr/local/lib/python3.12/dist-packages/mamba_ssm/ops/triton/layer_norm.py:985: FutureWarning: `torch.cuda.amp.custom_fwd(args...)` is deprecated. Please use `torch.amp.custom_fwd(args..., device_type='cuda')` instead.\n",
            "  @custom_fwd\n",
            "/usr/local/lib/python3.12/dist-packages/mamba_ssm/ops/triton/layer_norm.py:1044: FutureWarning: `torch.cuda.amp.custom_bwd(args...)` is deprecated. Please use `torch.amp.custom_bwd(args..., device_type='cuda')` instead.\n",
            "  @custom_bwd\n",
            "/usr/local/lib/python3.12/dist-packages/mamba_ssm/distributed/tensor_parallel.py:25: FutureWarning: `torch.cuda.amp.custom_fwd(args...)` is deprecated. Please use `torch.amp.custom_fwd(args..., device_type='cuda')` instead.\n",
            "  @custom_fwd\n",
            "/usr/local/lib/python3.12/dist-packages/mamba_ssm/distributed/tensor_parallel.py:61: FutureWarning: `torch.cuda.amp.custom_bwd(args...)` is deprecated. Please use `torch.amp.custom_bwd(args..., device_type='cuda')` instead.\n",
            "  @custom_bwd\n",
            "/usr/local/lib/python3.12/dist-packages/mamba_ssm/ops/triton/ssd_combined.py:757: FutureWarning: `torch.cuda.amp.custom_fwd(args...)` is deprecated. Please use `torch.amp.custom_fwd(args..., device_type='cuda')` instead.\n",
            "  @custom_fwd\n",
            "/usr/local/lib/python3.12/dist-packages/mamba_ssm/ops/triton/ssd_combined.py:835: FutureWarning: `torch.cuda.amp.custom_bwd(args...)` is deprecated. Please use `torch.amp.custom_bwd(args..., device_type='cuda')` instead.\n",
            "  @custom_bwd\n"
          ]
        },
        {
          "output_type": "stream",
          "name": "stdout",
          "text": [
            "Mounted at /content/drive\n"
          ]
        }
      ]
    },
    {
      "cell_type": "code",
      "source": [
        "# ---------------------------------------------------------\n",
        "# 1) Waveform-level augmentation (shift + noise)\n",
        "# ---------------------------------------------------------\n",
        "class Augment:\n",
        "    def __init__(self,\n",
        "                 stretch: Tuple[float,float]=(1.0,1.0),\n",
        "                 shift_ms: int = 100,\n",
        "                 noise: Tuple[float,float]=(0.,0.05),\n",
        "                 sr: int = 16_000):\n",
        "        self.stretch = stretch\n",
        "        self.shift   = int(shift_ms * sr / 1000)\n",
        "        self.noise   = noise\n",
        "        self.sr      = sr\n",
        "\n",
        "    def _shift(self, x: torch.Tensor):\n",
        "        if self.shift == 0:\n",
        "            return x\n",
        "        s = int(torch.randint(-self.shift, self.shift + 1, ()).item())\n",
        "        if s == 0:\n",
        "            return x\n",
        "        return (F.pad(x, (s, 0))[:, :-s] if s > 0 else F.pad(x, (0, -s))[:, -s:])\n",
        "\n",
        "    def __call__(self, wav: torch.Tensor):\n",
        "        squeezed = False\n",
        "        if wav.dim() == 1:\n",
        "            wav = wav.unsqueeze(0)\n",
        "            squeezed = True\n",
        "        if self.stretch != (1.0, 1.0):\n",
        "            factor = float(torch.empty(()).uniform_(*self.stretch))\n",
        "            if abs(factor - 1.0) > 1e-3:\n",
        "                wav, _ = torchaudio.sox_effects.apply_effects_tensor(\n",
        "                    wav, self.sr, [[\"tempo\", f\"{factor}\"]]\n",
        "                )\n",
        "        wav = self._shift(wav)\n",
        "        if self.noise[1] > 0:\n",
        "            sigma = float(torch.empty(()).uniform_(*self.noise))\n",
        "            if sigma > 0:\n",
        "                wav = wav + sigma * torch.randn_like(wav)\n",
        "        return wav.squeeze(0) if squeezed else wav\n",
        "\n",
        "# ---------------------------------------------------------\n",
        "# 2) Front-end: MFCC or Mel with SpecAug AFTER log (if mel)\n",
        "#    For MFCC we mask on the MFCCs (computed from log-mel internally).\n",
        "# ---------------------------------------------------------\n",
        "class WaveToSpec:\n",
        "    def __init__(self,\n",
        "                 feature_type: str = \"mfcc\",     # \"mfcc\" or \"mel\"\n",
        "                 sample_rate: int = 16_000,\n",
        "                 n_fft: int = 2048,\n",
        "                 hop_length: int = 256,\n",
        "                 n_mels: int = 128,\n",
        "                 n_mfcc: int = 40,\n",
        "                 top_db: int | None = 80,\n",
        "                 apply_mask: bool = True,\n",
        "                 freq_mask_param: int = 3,\n",
        "                 time_mask_param: int = 12):\n",
        "        self.feature_type = feature_type.lower(); assert self.feature_type in {\"mel\",\"mfcc\"}\n",
        "        self.apply_mask = apply_mask\n",
        "\n",
        "        if self.feature_type == \"mel\":\n",
        "            self.spec = T.MelSpectrogram(sample_rate, n_fft=n_fft, hop_length=hop_length,\n",
        "                                         n_mels=n_mels, power=2.0)\n",
        "            self.to_db = T.AmplitudeToDB(stype=\"power\", top_db=top_db)\n",
        "            self.freq_mask = T.FrequencyMasking(freq_mask_param) if apply_mask else None\n",
        "            self.time_mask = T.TimeMasking(time_mask_param) if apply_mask else None\n",
        "            self.n_out = n_mels\n",
        "        else:\n",
        "            self.spec = T.MFCC(sample_rate, n_mfcc=n_mfcc,\n",
        "                                melkwargs=dict(n_fft=n_fft, hop_length=hop_length, n_mels=n_mels))\n",
        "            # MFCC branch does not use AmplitudeToDB directly; MFCC uses log-mel inside.\n",
        "            self.to_db = None\n",
        "            self.freq_mask = T.FrequencyMasking(freq_mask_param) if apply_mask else None\n",
        "            self.time_mask = T.TimeMasking(time_mask_param) if apply_mask else None\n",
        "            self.n_out = n_mfcc\n",
        "\n",
        "    def __call__(self, wav: torch.Tensor) -> torch.Tensor:\n",
        "        if wav.dim() == 1:\n",
        "            wav = wav.unsqueeze(0)            # [1, T]\n",
        "        feats = self.spec(wav)                # mel: [1, M, T], mfcc: [1, C, T]\n",
        "\n",
        "        if self.feature_type == \"mel\":\n",
        "            feats = self.to_db(feats.clamp(min=1e-10))  # --- LOG ---\n",
        "            if self.apply_mask:\n",
        "                feats = self.freq_mask(feats)\n",
        "                feats = self.time_mask(feats)\n",
        "        else:\n",
        "            # MFCC path: apply masks on MFCCs (post log-mel inside MFCC)\n",
        "            if self.apply_mask:\n",
        "                feats = self.freq_mask(feats)\n",
        "                feats = self.freq_mask(feats)\n",
        "                feats = self.time_mask(feats)\n",
        "                feats = self.time_mask(feats)\n",
        "\n",
        "        return feats                           # [1, F, T]"
      ],
      "metadata": {
        "id": "qZPmhsTvbPSR"
      },
      "execution_count": null,
      "outputs": []
    },
    {
      "cell_type": "code",
      "source": [
        "# ---------------------------------------------------------\n",
        "# 3) Dataset wrapper with dataset-level normalization\n",
        "# ---------------------------------------------------------\n",
        "class SpeechCommands(Dataset):\n",
        "    def __init__(self, hf_split, aug: Augment | None, frontend: WaveToSpec,\n",
        "                 wav_len: int = 16_000, mean: float = 0.0, std: float = 1.0):\n",
        "        self.ds, self.aug, self.front = hf_split, aug, frontend\n",
        "        self.wav_len = wav_len\n",
        "        self.mean = mean\n",
        "        self.std = std\n",
        "\n",
        "    def __len__(self):\n",
        "        return len(self.ds)\n",
        "\n",
        "    def __getitem__(self, idx):\n",
        "        sample = self.ds[idx]\n",
        "        wav = torch.from_numpy(sample[\"audio\"][\"array\"]).float()\n",
        "\n",
        "        if wav.numel() < self.wav_len:\n",
        "            wav = F.pad(wav, (0, self.wav_len - wav.numel()))\n",
        "        else:\n",
        "            wav = wav[: self.wav_len]\n",
        "\n",
        "        if self.aug:\n",
        "            wav = self.aug(wav)\n",
        "\n",
        "        feats = self.front(wav)                              # [1, F, T]\n",
        "        feats = (feats - self.mean) / (self.std + 1e-6)      # normalize\n",
        "        feats = feats.squeeze(0).transpose(0, 1)             # [T, F]\n",
        "        return feats, sample[\"label\"]"
      ],
      "metadata": {
        "id": "Ow_00c2lbQku"
      },
      "execution_count": null,
      "outputs": []
    },
    {
      "cell_type": "code",
      "source": [
        "# ---------------------------------------------------------\n",
        "# 4) Helper functions + stats\n",
        "# ---------------------------------------------------------\n",
        "from torch.nn.utils.rnn import pad_sequence\n",
        "\n",
        "def collate_fn(batch):\n",
        "    feats, lbls = zip(*batch)\n",
        "    lens = torch.tensor([f.size(0) for f in feats], dtype=torch.long)\n",
        "    feats_padded = pad_sequence(feats, batch_first=True, padding_value=0.0)  # [B, T_max, F]\n",
        "    return feats_padded, torch.tensor(lbls), lens\n",
        "\n",
        "@torch.no_grad()\n",
        "def compute_dataset_stats(ds, frontend, wav_len=16_000):\n",
        "    feats_all = []\n",
        "    for sample in ds:\n",
        "        wav = torch.from_numpy(sample[\"audio\"][\"array\"]).float()\n",
        "        if wav.numel() < wav_len:\n",
        "            wav = F.pad(wav, (0, wav_len - wav.numel()))\n",
        "        else:\n",
        "            wav = wav[: wav_len]\n",
        "        feats = frontend(wav).squeeze(0).transpose(0, 1)  # [T, F]\n",
        "        feats_all.append(feats)\n",
        "    feats_all = torch.cat(feats_all, dim=0)\n",
        "    return feats_all.mean().item(), feats_all.std().item()"
      ],
      "metadata": {
        "id": "ls4e9ERObSRx"
      },
      "execution_count": null,
      "outputs": []
    },
    {
      "cell_type": "code",
      "source": [
        "# ---------------------------------------------------------\n",
        "# 5) Model: Linear(40\u2192d_model) + Mamba\u00d7L + classifier\n",
        "# ---------------------------------------------------------\n",
        "class MambaKWS(nn.Module):\n",
        "    def __init__(self, num_classes: int,\n",
        "                 d_model=256, d_state=16, expand=2, n_layers=8, feature_dim=40, p_drop=0.1):\n",
        "        super().__init__()\n",
        "        self.proj = nn.Sequential(\n",
        "            nn.Linear(feature_dim, d_model),\n",
        "            nn.LayerNorm(d_model),\n",
        "            nn.SiLU(),\n",
        "            nn.Dropout(p_drop)\n",
        "        )\n",
        "        self.blocks = nn.ModuleList([\n",
        "            nn.ModuleDict({\n",
        "                \"norm\": nn.LayerNorm(d_model),\n",
        "                \"mamba\": Mamba(d_model=d_model, d_state=d_state, expand=expand),\n",
        "                \"dropout\": nn.Dropout(max(0.02, 0.05 - (i * 0.005)))\n",
        "            }) for i in range(n_layers)\n",
        "        ])\n",
        "        self.pre_classifier_norm = nn.LayerNorm(d_model)\n",
        "        self.classifier = nn.Sequential(\n",
        "            nn.Dropout(0.1),\n",
        "            nn.Linear(d_model, d_model // 2),\n",
        "            nn.SiLU(),\n",
        "            nn.Dropout(0.05),\n",
        "            nn.Linear(d_model // 2, num_classes)\n",
        "        )\n",
        "\n",
        "    def forward(self, x, lengths: torch.Tensor | None = None):  # x: [B, T, F]\n",
        "        x = self.proj(x)                                        # [B, T, d_model]\n",
        "        for blk in self.blocks:\n",
        "            residual = x\n",
        "            x = blk[\"norm\"](x)\n",
        "            x = blk[\"mamba\"](x)\n",
        "            x = blk[\"dropout\"](x)\n",
        "            x = residual + x\n",
        "\n",
        "        x = self.pre_classifier_norm(x)\n",
        "\n",
        "        # Mask-aware mean pooling over time (no time downsampling here)\n",
        "        if lengths is not None:\n",
        "            Tprime = x.size(1)\n",
        "            mask = (torch.arange(Tprime, device=x.device)[None, :] < lengths[:, None]).float()  # [B, T]\n",
        "            x_sum = (x * mask.unsqueeze(-1)).sum(dim=1)                                          # [B, d_model]\n",
        "            denom = mask.sum(dim=1).clamp(min=1.0).unsqueeze(-1)                                 # [B, 1]\n",
        "            pooled = x_sum / denom\n",
        "        else:\n",
        "            pooled = x.mean(dim=1)\n",
        "\n",
        "        return self.classifier(pooled)                        # [B, C]\n",
        "\n",
        "# ---------------------------------------------------------\n",
        "# 6) Evaluation helpers (loss, acc, macro-F1)\n",
        "# ---------------------------------------------------------\n",
        "@torch.no_grad()\n",
        "def evaluate(model, loader, device, criterion):\n",
        "    model.eval()\n",
        "    tot = correct = loss_sum = 0\n",
        "    all_pred, all_true = [], []\n",
        "    for xb, yb, lb in loader:\n",
        "        xb, yb, lb = xb.to(device), yb.to(device), lb.to(device)\n",
        "        logits = model(xb, lengths=lb)\n",
        "        loss = criterion(logits, yb)\n",
        "        loss_sum += loss.item() * xb.size(0)\n",
        "        preds = logits.argmax(1)\n",
        "        correct += (preds == yb).sum().item()\n",
        "        tot += xb.size(0)\n",
        "        all_pred.append(preds.detach().cpu())\n",
        "        all_true.append(yb.detach().cpu())\n",
        "    all_pred = torch.cat(all_pred).numpy()\n",
        "    all_true = torch.cat(all_true).numpy()\n",
        "    macro_f1 = f1_score(all_true, all_pred, average='macro')\n",
        "    return loss_sum / tot, 100 * correct / tot, macro_f1"
      ],
      "metadata": {
        "id": "9fcCqDeXbThA"
      },
      "execution_count": null,
      "outputs": []
    },
    {
      "cell_type": "code",
      "source": [
        "# ---------------------------------------------------------\n",
        "# 7) Warmup + Cosine scheduler factory (per-batch)\n",
        "# ---------------------------------------------------------\n",
        "def make_warmup_cosine(total_steps: int, warmup_steps: int):\n",
        "    def lr_lambda(step):\n",
        "        if step < warmup_steps:\n",
        "            return float(step) / float(max(1, warmup_steps))\n",
        "        progress = float(step - warmup_steps) / float(max(1, total_steps - warmup_steps))\n",
        "        return max(0.003, 0.5 * (1.0 + math.cos(math.pi * progress)))\n",
        "    return lr_lambda"
      ],
      "metadata": {
        "id": "Pl8YImMXbUkg"
      },
      "execution_count": null,
      "outputs": []
    },
    {
      "cell_type": "code",
      "source": [
        "# ---------------------------------------------------------\n",
        "# 8) Main training loop over the config grid + TensorBoard\n",
        "# ---------------------------------------------------------\n",
        "def run_experiment(cfg: Dict, ds_splits, global_outdir=\"checkpoints\"):\n",
        "    d_model   = cfg[\"d_model\"]\n",
        "    n_layers  = cfg[\"n_layers\"]\n",
        "    epochs    = cfg[\"epochs\"]\n",
        "    base_lr   = cfg.get(\"base_lr\", 6e-4)\n",
        "    weight_decay = cfg.get(\"weight_decay\", 1.0e-2)\n",
        "    label_smoothing = cfg.get(\"label_smoothing\", 0.05)\n",
        "    d_state   = cfg.get(\"d_state\", 16)\n",
        "    expand    = cfg.get(\"expand\", 2)\n",
        "\n",
        "    # Unpack datasets/loaders prepared outside\n",
        "    train_dl, train_eval_dl, val_dl, n_classes = ds_splits\n",
        "\n",
        "    # Model / optim / sched\n",
        "    model = MambaKWS(n_classes, d_model=d_model, d_state=d_state, expand=expand, n_layers=n_layers).to(device)\n",
        "    criterion = nn.CrossEntropyLoss(label_smoothing=label_smoothing)\n",
        "    opt = torch.optim.AdamW(model.parameters(), lr=base_lr, weight_decay=weight_decay, betas=(0.9, 0.999))\n",
        "\n",
        "    steps_per_epoch = len(train_dl)\n",
        "    total_steps   = steps_per_epoch * epochs\n",
        "    warmup_steps  = int(0.1 * total_steps)  # 10% warmup\n",
        "    sched = torch.optim.lr_scheduler.LambdaLR(opt, make_warmup_cosine(total_steps, warmup_steps))\n",
        "\n",
        "    # TensorBoard writer\n",
        "    run_name = f\"d{d_model}_L{n_layers}\"\n",
        "    writer = SummaryWriter(log_dir=f\"runs/mamba_kws/{run_name}\")\n",
        "    writer.add_text(\"hparams\", json.dumps(cfg, indent=2))\n",
        "\n",
        "    scaler = torch.cuda.amp.GradScaler(enabled=use_amp)\n",
        "    best_val_acc, best_path = 0.0, Path(f\"{global_outdir}/{run_name}_best.pt\")\n",
        "    best_path.parent.mkdir(parents=True, exist_ok=True)\n",
        "\n",
        "    global_step = 0\n",
        "    for epoch in range(1, epochs + 1):\n",
        "        model.train()\n",
        "        running_loss = correct = total = 0.0\n",
        "        pbar = tqdm(train_dl, desc=f\"[{run_name}] Epoch {epoch:02d}\")\n",
        "\n",
        "        for xb, yb, lb in pbar:\n",
        "            xb = xb.to(device, non_blocking=True)\n",
        "            yb = yb.to(device, non_blocking=True)\n",
        "            lb = lb.to(device, non_blocking=True)\n",
        "\n",
        "            with torch.amp.autocast(device_type=device.type,\n",
        "                                    dtype=torch.bfloat16 if (use_amp and torch.cuda.is_bf16_supported()) else torch.float16,\n",
        "                                    enabled=use_amp):\n",
        "                if torch.isnan(xb).any():\n",
        "                    xb = torch.nan_to_num(xb, nan=0.0)\n",
        "                logits = model(xb, lengths=lb)\n",
        "                loss = criterion(logits, yb)\n",
        "\n",
        "            opt.zero_grad(set_to_none=True)\n",
        "            scaler.scale(loss).backward()\n",
        "            scaler.unscale_(opt)\n",
        "            torch.nn.utils.clip_grad_norm_(model.parameters(), max_norm=0.3)\n",
        "            scaler.step(opt)\n",
        "            scaler.update()\n",
        "            sched.step()\n",
        "            global_step += 1\n",
        "\n",
        "            with torch.no_grad():\n",
        "                pred = logits.argmax(1)\n",
        "                correct += (pred == yb).sum().item()\n",
        "                total += yb.size(0)\n",
        "                running_loss += loss.item() * yb.size(0)\n",
        "\n",
        "            pbar.set_postfix(train_loss=f\"{running_loss/max(1,total):.3f}\",\n",
        "                             train_acc=f\"{100*correct/max(1,total):.1f}%\",\n",
        "                             lr=f\"{opt.param_groups[0]['lr']:.2e}\")\n",
        "\n",
        "        # --- Epoch end: log train metrics on NO-AUG train split, and val ---\n",
        "        tr_loss, tr_acc, tr_f1 = evaluate(model, train_eval_dl, device, criterion)\n",
        "        val_loss, val_acc, val_f1 = evaluate(model, val_dl, device, criterion)\n",
        "\n",
        "        writer.add_scalar(\"train/loss\", tr_loss, epoch)\n",
        "        writer.add_scalar(\"train/acc\",  tr_acc,  epoch)\n",
        "        writer.add_scalar(\"train/macro_f1\", tr_f1, epoch)\n",
        "        writer.add_scalar(\"val/loss\",   val_loss, epoch)\n",
        "        writer.add_scalar(\"val/acc\",    val_acc,  epoch)\n",
        "        writer.add_scalar(\"val/macro_f1\", val_f1, epoch)\n",
        "        writer.add_scalar(\"lr\", opt.param_groups[0]['lr'], epoch)\n",
        "\n",
        "        print(f\"[{run_name}] Epoch {epoch:02d} \u2014 \"\n",
        "              f\"Train {tr_acc:.2f}% (loss {tr_loss:.3f}, F1 {tr_f1:.4f}) | \"\n",
        "              f\"Val {val_acc:.2f}% (loss {val_loss:.3f}, F1 {val_f1:.4f})\")\n",
        "\n",
        "        # Save best-by-val-acc\n",
        "        if val_acc > best_val_acc:\n",
        "            best_val_acc = val_acc\n",
        "            torch.save(model.state_dict(), best_path)\n",
        "            print(f\"[{run_name}] ** Saved new BEST ** (val_acc={best_val_acc:.2f}%) \u2192 {best_path}\")\n",
        "\n",
        "    # Save last\n",
        "    last_path = Path(f\"{global_outdir}/{run_name}_last.pt\")\n",
        "    torch.save(model.state_dict(), last_path)\n",
        "    writer.add_text(\"checkpoints\", f\"best={str(best_path)} | last={str(last_path)}\")\n",
        "    writer.close()\n",
        "\n",
        "    return {\"run\": run_name, \"best_val_acc\": best_val_acc,\n",
        "            \"best_ckpt\": str(best_path), \"last_ckpt\": str(last_path)}"
      ],
      "metadata": {
        "id": "4AKB7EtibViJ"
      },
      "execution_count": null,
      "outputs": []
    },
    {
      "cell_type": "code",
      "source": [
        "# ---------------------------------------------------------\n",
        "# 9) Data prep (MFCC - Masks only on train)\n",
        "# ---------------------------------------------------------\n",
        "if __name__ == \"__main__\":\n",
        "    # Load HF dataset\n",
        "    ds = load_dataset(\"google/speech_commands\", \"v0.02\")\n",
        "\n",
        "    n_classes = len(ds[\"train\"].features[\"label\"].names)\n",
        "    sr = 16_000\n",
        "\n",
        "    # Front-ends\n",
        "    frontend_stats = WaveToSpec(feature_type=\"mfcc\", n_mfcc=40, n_mels=128,\n",
        "                                apply_mask=False)\n",
        "    frontend_train = WaveToSpec(feature_type=\"mfcc\", n_mfcc=40, n_mels=128,\n",
        "                                apply_mask=True, freq_mask_param=5, time_mask_param=18)\n",
        "    frontend_eval  = WaveToSpec(feature_type=\"mfcc\", n_mfcc=40, n_mels=128,\n",
        "                                apply_mask=False)\n",
        "\n",
        "    # Waveform augmentations (train only)\n",
        "    aug = Augment(shift_ms=100, noise=(0., 0.01), stretch=(0.9, 1.1))\n",
        "\n",
        "    # Dataset-level normalization stats (computed on train, no aug)\n",
        "    print(\"Computing dataset stats (MFCC, no masks)...\")\n",
        "    train_mean, train_std = compute_dataset_stats(ds[\"train\"], frontend_stats)\n",
        "    print(f\"Stats \u2014 mean={train_mean:.4f}, std={train_std:.4f}\")\n",
        "\n",
        "    # Datasets\n",
        "    train_ds       = SpeechCommands(ds[\"train\"], aug,  frontend_train, mean=train_mean, std=train_std)\n",
        "    train_eval_ds  = SpeechCommands(ds[\"train\"], None, frontend_eval,  mean=train_mean, std=train_std)  # no aug\n",
        "    val_ds         = SpeechCommands(ds[\"validation\"], None, frontend_eval, mean=train_mean, std=train_std)\n",
        "\n",
        "    # Loaders\n",
        "    dl_kwargs = dict(batch_size=128, num_workers=2, pin_memory=True,\n",
        "                     persistent_workers=True, collate_fn=collate_fn)\n",
        "    train_dl      = DataLoader(train_ds, shuffle=True,  **dl_kwargs)\n",
        "    train_eval_dl = DataLoader(train_eval_ds, shuffle=False, **dl_kwargs)\n",
        "    val_dl        = DataLoader(val_ds, shuffle=False, **dl_kwargs)\n",
        "\n",
        "    ds_splits = (train_dl, train_eval_dl, val_dl, n_classes)\n",
        "\n",
        "    # -----------------------------------------------------\n",
        "    # Grid: check configurations\n",
        "    # -----------------------------------------------------\n",
        "    outdir = \"checkpoints\"\n",
        "    os.makedirs(outdir, exist_ok=True)\n",
        "\n",
        "    configs = []\n",
        "    for d_model in [192]:\n",
        "        for n_layers in [12]:\n",
        "            configs.append({\n",
        "                \"d_model\": d_model,\n",
        "                \"n_layers\": n_layers,\n",
        "                \"epochs\": 100,\n",
        "                \"base_lr\": 6e-4,\n",
        "                \"weight_decay\": 1.0e-2,\n",
        "                \"label_smoothing\": 0.05,\n",
        "                \"d_state\": 16,\n",
        "                \"expand\": 2\n",
        "            })\n",
        "\n",
        "    results = []\n",
        "    for cfg in configs:\n",
        "        set_seed(42)  # keep runs comparable\n",
        "        res = run_experiment(cfg, ds_splits, global_outdir=outdir)\n",
        "        results.append(res)\n",
        "\n",
        "    print(\"\\n=== Summary ===\")\n",
        "    for r in results:\n",
        "        print(r)"
      ],
      "metadata": {
        "colab": {
          "base_uri": "https://localhost:8080/",
          "height": 1000,
          "referenced_widgets": [
            "a33551d7eefa4df7bd677be8850e7d82",
            "6f23872d56c0415aa2088b81253fccf2",
            "1b8466a9e8884fd2bab9ad2fea28fd62",
            "bab7620fb68345e28819e6298a5ded1a",
            "5901ebb0aab54cb6becd44af3809c919",
            "306697021e5e4d89af6f12e71dfd072e",
            "3ce1a2603dbd491bba2284ff866c11fa",
            "cd594fdde22343d9b43aa88121ffc0ac",
            "e15db344e3a5498ca62e7532723b97e8",
            "97012a7ee0ff438bb85195767a4884dd",
            "5b89bfb643f94b7ba1c569ef54cc0643",
            "c2cc2fdd33e74fac82a4e0b6a4ed411a",
            "30aff94c012742e7a520569bcf305109",
            "a0583f5876d44de99c2b12a5256ec570",
            "21f7daa376ad45568842b28c7697a264",
            "21cae26b43a0474a86c75dc68b34e5fd",
            "46ef26c21f46467c980fb7a3cf306768",
            "d45bb757a5014b1e9e0dd887101254c1",
            "7455d079f2ef41f28326dcc8fb1ac4cb",
            "23cecf4bfe3e42c2ba1fd848169841a2",
            "f007587693964b289efabf801f2038d5",
            "03eefe1542ac43c9a662b87666bc6abb",
            "2106580c1be146b991d0bfc57afa86fd",
            "580e06d7120649eea2d60b232c488f95",
            "b91e237deda24f9bb73a08def3d48617",
            "d36b9cdf249c47e683ec7257c38c5f15",
            "6b4fc32e0bf44b6f89d130a0d24ae07d",
            "aab89ec376c54548bfc6aa3a8c6dc9da",
            "36d1f5b6412d48fba0619716130f1079",
            "551952131cf245fb8a9d819854fd44ba",
            "11f2ce740bbd4b94a0a67ae4e3746cf3",
            "d6b018c9fbe14a74874131d009e82269",
            "e76c867ddb2e40f8ad1197223e742968",
            "877c65fc8df6421c90e92904dcb4f9d3",
            "37494df3b99e4311a612191087dec3a5",
            "7907b427d08d4e09b3c502b94bddbb0e",
            "da95e1a61f624882ab47344802c0fbd5",
            "f7a87d2e80cf40be9233fb6034fb1ccf",
            "d90703e97f2348878623ad82ad54052d",
            "62e48d1ef81041e8af2861297839ffd8",
            "c5ee5ee1f0c248248cfd2eb8b61125de",
            "9b1453dbd3d8447e8662a133aced05fb",
            "8fc1e1bc1f9e4477a25d6eed913d9e4b",
            "504cda44d0ef4091abd6e611fba968af",
            "fd8f7a3e1e1d478684fc987c247ca7dc",
            "69e6e3c05c30438bb06a1922b529fee1",
            "4ce2c57b7db74b5f810793bb1f8f5e9b",
            "5476d2cf3a29405d8d6cdc67be92b82f",
            "dcca80deb0464a5386436315ec67a6ff",
            "1962a68625fa4e9091c3e392d33a552f",
            "3623714a2caf423c82ca65a5859ac0da",
            "c8edfd5125e248b3a0863b67bd49618b",
            "ecaf347c1b7b49f6a4c4b595a35b03c4",
            "c1f51483607d43a7afe76e7a7ac14693",
            "aba4e5da63834991a0a5d86ffbdd7177",
            "ad03c55ebbf94a0db4399a8155c1a970",
            "1be119935e974e44a1bc72af7b8094c3",
            "30b0819a3b284e92aa9df3fa1cc76fe5",
            "9b1cbc8ec27f434087cded52c7b1545e",
            "167cc97b9d15419dae5d60392a74c52d",
            "c1134fa04c514be7a84f49eac82282f3",
            "25c5b41d991f42d2bb342b62ce8b0330",
            "49f11f47ef694299a583762b8f559757",
            "1b9de865bcf247f9974b2c7d6791ab74",
            "c3e44166a6d045a7961c9da1fe957065",
            "8ab363825530438a90e119a5335a5a63",
            "1cf3bbfdc6f74f1fb092c4285891aace",
            "8ebcc068c1f344878e7285737f2b6c51",
            "f66572b12051459781045e3c1ccba486",
            "c29ec607085f4f4cb1b545cd83c1f113",
            "68f0765521be446bb66c3f179df173a0",
            "30a8a792e0c1456dad017f2f705fb1ec",
            "97516273c19a46b69ac418136425cf4f",
            "ca02cbf4320d4d4691638e83948c6ced",
            "0ff142d8fe8c4592be83d51d026a23ba",
            "104bd6df1d6c4e67b24cc553dd7fbf3d",
            "36568cd554f747b382611c650130bddf",
            "3ecc56c3a65e4e6e9786a27211be3f9b",
            "99bb5e2f9a4a47bbb28118d05b471447",
            "748cd78bbb864d7eb7dfc0345600f25c",
            "2ed1d5490b2e4d72a3866caa546aeb58",
            "024edcd606ca4197968da64a9c9a4fd3",
            "c36b3c5764c0472e92595bf62cb68fb4",
            "80fc72e507154f7b8388e68370af9b15",
            "44ec1b8084d64343ba9d10a4c8b4b6c7",
            "60ca454aea71432090eaf64b0aa924c1",
            "c88bfd7db6964a99bd58ff7b4a5b40ee",
            "0668737167684fea87107f09ed7ccc65",
            "1ae792182928461a86929cf717d5bfce",
            "e093b448520b41da97b7254e10eeaac4",
            "43f6f507977f4091b0c286fa0e5d8a6d",
            "034aae6d746d4603a36aac9aa5c5f68a",
            "3f3132b2f7c54b0c9ecf04008cf9f822",
            "b1fca7a1895b4202a8508153790cc5e2",
            "c6237315602f44709f172a8c09c321f1",
            "edb3231f546e49a9ab4cf1851e991f46",
            "4111d029ead44f618224ed5c19b2a22e",
            "9e0531b72b2e49f787fab38beeb4dcf2",
            "4b39724cacb24b5cb7a07687414fc60d",
            "b1c5ed0bde224f3c9b6b5f70f327d1a0",
            "9926db2f6d08462c95322bdecbf6d054",
            "01e981d37263483689f26e1283b282db",
            "3705163433ef4e57ae774be74b1ed8fa",
            "ea130ddd1a0a4e9e8cc1686d9bee372f",
            "6e8928615637454f839a9b857f6ab775",
            "fb3c0ad1c61c475b81472891c7b33d28",
            "683ae8e302cc4034a898c2d9f3ce127a",
            "c2dc747113b24774a02b3d8e9289dd82",
            "ad4e932aca07438aa2fb83f3037c7832",
            "3c13871f63834811bb58673d501e7c53",
            "c8473334a0144ca891a8f614debe92d0",
            "bf2ba452a9324973b813cab1fb1a6af6",
            "a046cbe7f8bf47e1bf66ad2364d7977b",
            "2c0937c062bc428f90de572362cd52fb",
            "2bc6a7dcf14249f6bf131ecfcd851d3c",
            "4a838ed436b74bb8b0ac5121262bb37f",
            "83a0eb7b66a84e3ea83a006e659a8443",
            "49e13f2f97994d9a8d3de4b14c48c5e1",
            "ef7f8f66a1404acea5b9457ed6af68a9",
            "45cf4dc87e2544b8b8e956fce9a582f0",
            "07ef7683d4a8436c99e61f4e68104e76",
            "4d4362d3be5a4dc1a7d826b943083ae1",
            "7f66b3e138414e33ab9c003c051f5ce7",
            "a9f151bd5bc141549814f5f71fb98400",
            "b353d69303b74204b967a811701d0b74",
            "b04d62e5f9a946dfb61d4749ae303e08",
            "7ef63a4d1ca34ad2bf1fe825b898129d",
            "498d83c5ee84425c9ed4c6981e1362de",
            "f0ad3d16d620446da8c1e25e737b4405",
            "d7b0ffe7959745c9b53c33a9b529f281",
            "70d50b92ba33405ba441a69b0bd534eb",
            "a56734caf9644d8ca04cbacbc93f6399",
            "3f8ad663300f4b318bccd8acc643001e",
            "317d363e433d48a0bf991b9701d3c24d",
            "c96de1942fca422a9de37052bbe1749d",
            "ea16305b2fcc4a99893b50321e640843",
            "8dffd5bd5c104259a84592ee15e40f09",
            "53a69ec80a064bc8bab995fcb6cb821a",
            "a17b0adecd3140b49581cfe6a25d52c3",
            "97eabdfce7a14fa8853fb32a27ff9cae",
            "e7af882650334f68b1057dc780104ef0",
            "da6eb1e918b74ef89f8e80dc9b8a9420",
            "0f0945e90a6243ce852dd1456d3af3f3",
            "67393d640e9b4eb19dfa5735fc42b145",
            "cdb483be87c04b19af869756a1a67b64",
            "5525bcb487cf4bf19f36cc3c5174c096",
            "69be902dc1ae4be3babeb271ed6c6cf0",
            "421ce8ffeea04ab786fdb8b72521d2a7",
            "0d96120e57cf4cf4b297cad72f0708c7",
            "78766e54842e4237a676d96c42f58009",
            "26e27a227fff46538e2956e5174a8a9b",
            "85559a390b314f3ab5ba45f4b77d34d1",
            "4eff3af9ad0141708a10376f5e10fcc1",
            "2e1486eeea204fd09af5424432037082",
            "f1439e7794a8424ebba2c75f220b7bca",
            "cad3a243779a4852a3d698a58f57211f",
            "299a8d2916584cb5a45c25c630c3bc12",
            "7d4335fff79b4c2982c9ba2723a94efc",
            "bfe278b36d4d4970ac0da96f7af66a97",
            "8e0df2cd12d94f229aa2b6b719e7b461",
            "7e22e65cf3fc42c9bc1c4eac54a43a9b",
            "b2ff718687d84ac283ccf00d432d2da3",
            "f332b1765aa44c808cf17ac83a2eba62",
            "68459b1b5f5544d3b00cb928b2e2b072",
            "a91707dce8dc438cbad4d83fda82ca51",
            "399e2b0067b34c03bd744d966dc60de6",
            "74e87a63792d4de8b77babf10dc2314e",
            "2e3d7ef444da4f34a0725a1181fef222",
            "4d3a3c275e1c4b31a2cdc098cfc55dfc",
            "c29903c340ae4a4dab714f36d540daf5",
            "fc94d8278c0a4b5db97ea0fd10cccb22",
            "e13fe583f493460fb88f54d127af4c63",
            "104c7420713d428880b944d1b64b31c9",
            "da2d19a82d304c0caa7f2210ecb0fa5f",
            "c822aad0bf3f4b278129c5a51047b430",
            "fa9881e57d814960ac25ec088c4191cd",
            "d1ed8119f0a74828a7e070187a0aae53",
            "89611db7d41c4d8695bb394a46037139",
            "c4e95bf80d804fae8107832ec2eaad4d",
            "d89b621f158b4eb1bd04b283ff62879d",
            "c06e8022d467469ea3324ad76aa43cc1",
            "60b01b6d90a04aca8c915c97319b8419",
            "dd8ad315e28d4b1b9adee5173bcb3591",
            "0e7c21116d0e44189416b180be8a17e8",
            "89b2f5e2e0cf48a4bdea9f81901a45f7",
            "42252193abe44f6d8dac06d0b8ff2bab",
            "1ac527c4210e452591059f1c0016fa83",
            "603518a7ea3e4198a6d2486f709cfdd0",
            "01fef23c8fc744d59d6b690dbfa72ad7",
            "483b602bc0e242e7b9632a3dcdf89e78",
            "7b734a24f53849318efb063a22d35825",
            "9e5d6c7d9f6448be92645bca4b547a0a",
            "fa900464193344279a861c5a21b61eb0",
            "013e619a394f4c50be5f7b46b872b404",
            "3003be21ed8c44e096c18c47b11721c5",
            "f505252f75534fde87918f61e96047a3",
            "789f64b09eb549449ec65d65abdc3806",
            "7459de6a86f145569643ae1157790fe8",
            "ca7f38b6456d4c779438bb2f0efeece3",
            "15f4925874ba4ed18038b0c70fd8be39",
            "640dffdac6aa43ecb097f8867a56eacc",
            "97fbc0952f164e23a89b0a14aeff062a",
            "87ce59ea131c41de86bf6d6b4eec5269",
            "905af7cb7b704671a05115b989116511",
            "edfe7b2c804b428eb6b5750aef410cd2",
            "abef24adce8d4218b5f42b01112e9d10",
            "a1edb30815734d35b0eabdd879d3070f",
            "14c4c1babff34c52a70011253122d3e1",
            "a27e884978894ab7a8d07624fc523aa2",
            "90226e0f8c33469b90b3e281d7004318",
            "68e72137957945d98a3f73331775a0a6",
            "06bc744d4c1d4603a9cc9cb293f9ac9b",
            "f6daa9a973364fb49723bb41a2d6b106",
            "0d3aeee049774392b1cde40459c84289",
            "be75af77a02a434a91f3d4f47249db01",
            "56ae35e7449045bc81d8cadf9b333293",
            "3e1e3e5baf794811a2d4d0341c4c9da2",
            "1242e7780f4447be8ec6d86ea4067e3e",
            "de2f146efc0d41b183750a5fde48c8bf",
            "9654542b8a8746a08406e0b077f90b9c",
            "bac516e95474420fabd8b83e2fccbd2b",
            "37c84c595c9845d983e364ccc70ce3f6",
            "e774bb9d93134b0b97d915648022b73b",
            "370786f25b44454ea05c0e986974bced",
            "3a745f56053944b099bd9fb7dea0ea13",
            "d759273deac34f8baf3fe30f1d4f58ee",
            "fab4d97f50e14c54a8faa1ce5d4a1438",
            "85c524b15a684f01abc567deeaf71b2c",
            "96851e4103bf4199b8c14ad5579409aa",
            "e6374d650f70472e95dc1fa423d29f21",
            "c4454089e463450da295570fc2db96bf",
            "b35d461cb9fa4003a53251d307f9ccd9",
            "238f42a25131445e93ba131010c677ed",
            "d009db8ad797404da89aadfd7fe68782",
            "29e015cbaf32431188330b84e56eb86f",
            "8cf2ae1186fe42f69fd86b6fdb4f9791",
            "98e539a08fe5410ab60b01b248c2fd11",
            "52edf51b9ca64b80b98d3c0044509ee3",
            "5d33e7f6d7cf4ecebe6af8b8ac7c8d06",
            "91aa76798ac54fe09bfdf6d017ff47c2",
            "d2e14912689b45b6a6990f4ddd423c45",
            "6263c5ebb50245bd8a8b1623d6167fb9",
            "cf82bcd6e7364395a3f04745a9fbbf8d",
            "e6d12ad2c9314d2e9580c2ebd2811830",
            "9f2ff883a59844419e7b683d8664173c",
            "e5d4c1914b3b4d73a50e65831e3e68b0",
            "c3490f059eab445a93bf85eb8a49e5bf",
            "3d0ba6b8026940518509ddcdc43d8db0",
            "b49294ce33274f25a18e5219284cb476",
            "d416b15a3a204b46a2e3689790334c08",
            "06008e7c71544b0286d74f832cab2bf5",
            "9aa2421210734d74ae1bc5c0bb6b1288",
            "df2510d77831414e8200a09c992b992d",
            "41b0e14355bd4d2d985455d39c5ce5e9",
            "7b8bfcaa86ce40c494dc0baaf518cc9f",
            "f4366df873df4dfb8cbb2c4d8d7e4ebc",
            "f2a013b31cc14441a563d5b1febc36c9",
            "9c8562dbac8d4e43a9cc75a474eff0da",
            "396fd5cec5ba485faba42cb851e742e3",
            "7601c7c42e684435b359fd48bdd50537",
            "ddf374be1de2403884b4b21897bdfd14",
            "60b9d82b09264d80aad3782751da893f",
            "2ce2722db229461584eb54fdf48f5ee9",
            "8ed50aa116d043d18a1fe1d785bc5458",
            "2a7089e4c9144140b5459a53858f71ae",
            "0934bb415208431fb4314b90b530a711",
            "ef05c4893b82406e89f557b47ae5302b",
            "035285da01f4447b8d6f268e59fccccb",
            "7f9acb9bcf97407fb907674d9e975d82",
            "1d791fdb224a4f268e9533f36e8888ed",
            "31311e4f6f174050b3f974b394268175",
            "0f3e55ff3bda43b29c7e703f26727e6c",
            "5f2aa465ef824636b102fe56b3de9f9a",
            "bce0d76b7fc943a7bac8809d4546a231",
            "e62414f19a21438eafb68cf148807483",
            "bc0fac51be1f461facca594e50108f99",
            "ffc0fd881b3541e9ad5bb9662ba560c1",
            "6e1d67249a154cef998f8578dd3ef9e2",
            "aa338ad3a7f64864ae2cd078bb340e10",
            "ca1ef04815b74b908073ef609799fec4",
            "73a948e3937643c38f07bce212c5929f",
            "f0921f1d9691497abf9bad9d29943f39",
            "a940f6c10fb44317844986c5180e995f",
            "d0a9125740114f5f9b12a0eb816cc7f0",
            "18691ec9ee234455920cb14e92430294",
            "0eed0d3f393640459350fb6b0a39e1fa",
            "833fda3e75964669af14ebf9b887b8b6",
            "506f975e6a834a438646ecd6506b7c59",
            "9857f13a93154ea095a3faf2578f70dc",
            "b3af8a35e1c54aaab3a3f22fe422157c",
            "5ee3df19111848e6901c518d4e6861d4",
            "8bc851991de04c46b7aa283b62226bfa",
            "c98412a27b4146c6a65c61f4ee98cd64",
            "c854e1528c3f42f093a392e1c080d960",
            "e477cd3560d54527ace655c4ef731f29",
            "65082f618d034c0aa01a7723f87731f6",
            "e2f1d98bb22f41a7adf01e12dad728bd",
            "3bd0428b918d4a96be11aa2ee0c6c5d9",
            "c5865733833d41c5aee21b713ca20d68",
            "3eec192b495549a093a7af278f81abb6",
            "2bfb598cab734556965f6e0f40ac5a39",
            "b585250b904d4f3a8328cc9ddba052a7",
            "275e2f0f04704cdbacce615390ec1626",
            "99da3fea84284c71941122fd8fba14ab",
            "bb3b2b0a2bce479881e277c3c7bfb7a3",
            "1c1f7125266d44dc9d3b2035425311e4",
            "588e6605509545b4abedafedeb528b9c",
            "9fc427ea8a094ada8d7f176a587df2c1",
            "d96a823f1d3f487b8c238d21a5c49ef8",
            "aab1daadde03420f98f63ea5122063df",
            "67852d8d032f4e519aeb5182c33d9e96",
            "bdab8a81e76a4b1782ffceabd3138f02",
            "db68f459649d4b7aa76c6bb3f2e72794",
            "8500445833a948aa9805a079ae1ff43a",
            "f2199e74b2964e18bd29085e90f54af2",
            "19d89ff583d64eebacac645d3ba126f9",
            "1e88fad6ddfd4bfbad4b1c1fc9d56446",
            "cccb2444efc24db3be173728ad2a233e",
            "31d751f3882640d68b74e5b966919876",
            "2d02fee81ae448549490bed1bea6ac3c",
            "2b2a63c863f04de7bcd83a37820f1aa9",
            "e7d905ab485a43c3a2fa9f4bf2ee6c72",
            "6af1220072df408794c7978e5efc3efc",
            "0143df096e884e9db4fc57a40d0f6b3c",
            "333866d47b0542aea000257acf264950",
            "0502f7b38ef14852a5d9cc9b03667960",
            "8d3f8c0453ce41e5be614bab4650883b",
            "e19ca8e30998405183d0f42e6c5a9617",
            "b472a6b28e2d4888ab94591b45fb1bdb",
            "3a81cd3c9d5e43fc8d56d73ed2961d59",
            "66a028019a624f6fa5333167fbced878",
            "a8110393689643438465ab435bb0a1f0",
            "88c1580d07404731baae9e5739e07863",
            "541457e62bea4966832afb9006cf5c70",
            "9af3adef10374fd38be143fa730aec07",
            "764a342a477b4187b8917939a6f35072",
            "5a2bc63d120247c595c41bf02d209d7b",
            "df3a8f8cb38a4187a11a2d13e369cf30",
            "fe99a0388c9b4a6186787f3f5719b79d",
            "441e7cda39dd44cdadf6f1512bb96e71",
            "81b3c59078fb4bad909db864a8f97eb3",
            "67de7f24501a48cba6778a36db8d6fec",
            "78c9ac3b8e274d2998ff7f2b1563325c",
            "d24042188efe48829ab37cca1d32a0a9",
            "6425d468280f4c62984c7e0279829a3f",
            "f3c1e613c95847e0a669025b7c0b57de",
            "3b70c9e388f244e9865de66fc69bd1b3",
            "7d5483eac40a4c1b96cb489aa812f035",
            "e35e7cc96ab5474f8170f56178a5f5b4",
            "64861530db2144998a1e4a3cb73228ef",
            "0044da6851ce471384b0da012239ac00",
            "b76ea963db3e43958a8014c1174f8735",
            "8830762e0a234e2382c55c3142773157",
            "d7cbe1638e8d4d4a942d30845d6545bc",
            "1b588560d3204c4fb4d1ae0ace8f3236",
            "80322d54803744b3a356d3e81b038fc9",
            "66a898c877e34b658f0d8417453c7e75",
            "a42a0abea672469bb44e21b3eeb8066c",
            "adb78773162e439ca91b1c8f7edba395",
            "8d16ce58549d4fec87606d8e2d3f4dd4",
            "d10d972ff6e845edaf924491119d30d6",
            "28ded7520cbd4c9b885d17391bb43ea0",
            "6dab7e5c6ff54cbea0955c001eff2500",
            "208c5bce11044c2c877a2f7c25881b8a",
            "94a230bd20e74f1895403d90e6f45298",
            "9377b7ea73bd45089345a8ebd6762332",
            "badd2a428cc045bf80e7716788164f16",
            "fa10aee236e648e0bfc5ab4875f2f734",
            "2a55204a55464b1b82e1d785e57a7151",
            "38b438dcf8ce4b5498033b0b5a4eeb7b",
            "2fe15384586342a7a537ea2c605c88c6",
            "d1d60e72c1c94bfeb2f4a4ffca46ad0c",
            "e53c0208e1534eeabca955b94a4a584a",
            "7c3cc0d136824f49b97589a529cbf227",
            "a733eb90a87b4b04906baefea246bb97",
            "dc80b9e588c34a65a28f0c8334b946ea",
            "8678ac645a694e7f982abcbe0685df7c",
            "d64829f06634434fb8e2801d20dd08f6",
            "b35e25e64d11450688e5e0732291a1d1",
            "688c5d50c9b6462ebed84245b4004290",
            "700d4e245ed949b8b24209e3b1c84200",
            "83b68d3a809f44a3a522f07c18dceae4",
            "f379a3cea2c74b6c8cc2ede4702d4210",
            "757926490a0b4024aafe6ca905d28c9a",
            "fccfe5bea2914fc1bde3ad96f7140d35",
            "53588ad203044a179effc22eaea98fe1",
            "0f9828a55165491aa6b2994bb1446ce7",
            "50b9f15dccc5415386419ecfb1186812",
            "24743306ad2b4751a9ca5bec95707739",
            "e7b855abc1a74ae3b141f5ff53f94165",
            "be37085072244953bf0100d217024604",
            "8cb3e893b134456ab90817eb3159b938",
            "ac653032b880462f81dd91252e7f9651",
            "efd9b08a883a4f8db1039eec0784ecd7",
            "4d8f8db225a445868dd74a159be60f7d",
            "8eeeb70669864dd18c8743414463df33",
            "f027b6f108f448e8b916d463f3caafbc",
            "279109ee6d794d1eb1f1d1ed53fd19a6",
            "66d16076d5334947b99b184dfe12ce4d",
            "67ac3c2425a04447a5cc48f113bef058",
            "415c09c0cf0e4b23ab465cc77040116a",
            "17dd9b294b8f4ad58536105dc986898f",
            "9eff21edcd744c65b74deb2a695a0aa6",
            "5f6f8180e6a3461d8024af2e2385f0c9",
            "7fc51b09fb1847699b0fb2c7b2c75ba9",
            "e8472ab25b554183b1247a7d36bbd606",
            "ce9fc05cec4d4adc8e8646739e6a61c5",
            "d91e7fc985344edaa22096878e9d12a4",
            "7ea1856081e944458f2d51eb35cfbac1",
            "beb20e689bb549dda7fdd47604fb926c",
            "20fe0f29b5ca46a0a75593972b374d93",
            "1d0d05c5438740d99e0a1ea8299e8828",
            "253b323be1394b778cdef718925f4a23",
            "95c9c0fc28264e4ba87023c0089da521",
            "e5ba9f70f5a94dd19947bb59d0558275",
            "540921095718411c9cc47f9713b62a7d",
            "fbc4e7daee57461091f51bf9e3caa3c3",
            "844c911ffd67440cbf789a40e75a0907",
            "a94adf75ddea4794b5577acba5dbcadc",
            "f968a2972d074368a11ab6036e4eff2f",
            "261b0f2c24514ba8b48b4ea0e22ebd49",
            "31892223414a4224b12fc49e57c67435",
            "411e9c24e9574dc7aa0eebabe5ef7159",
            "a754fad12d234642b0c3ba0448e6ea10",
            "9459899b9d2a49dfb0f0569359634213",
            "e32b0d3d9bb64b719e82ca98dcf457b6",
            "7905349859e34d2d8c2b56ba6ce1f753",
            "15cd4d72924841d7991092d8dc65c45e",
            "9ac5544603784122819f2dd60ae28b18",
            "2354da56bc774c89b019f7844213fc02",
            "46c89e7ae14343a8a2e522892c6415d5",
            "4f3add5c68f54f448dd28c0dc304ad6e",
            "efb6a2eec540498883faf64eec317bc3",
            "dfc2b5a574b64fddb2d4f52449821f3b",
            "2b6d861e50c448bb9aca54821d39054c",
            "3418a10a3a794fc5b042fc7471d2bff7",
            "d21692320eb54e1aa848b740eae4944a",
            "234f925283044f518164d119dc2d3fa6",
            "53afec209cda482397e42fd9dde654a3",
            "1e3fd44cf2624aeba207e4ab30a1f607",
            "0a1ebc6825274dcb8ace8c325cfd5d87",
            "a44b67fe00f145078f2f14826800c1bf",
            "33e79af4fc204b45bc674fd5045665fd",
            "335ab48d41fa49408bae1acb42d5bff8",
            "1a1e8ed10c794ca4be79cc1ad8b4904b",
            "8ef24ad8d9764809ab573dd5c6cd4a1b",
            "2b24069295bb4de8887a4281438d99c5",
            "ef3c880fcf004acb9bdfba8ebd45ca73",
            "116ec23f3beb49f887e699e9b4016371",
            "7abc6159fb04466bb52e14470b57b18d",
            "4e8a8c46f4004808afb8261750cb44a0",
            "2a21e18a2ea44e94916f364aa8ec96f4",
            "a0df8d82abc64b489696b34836658eb3",
            "127aba0769d24b55a2d422885aa514b9",
            "a422f0dfb18f47c88e7b3ce02a74dae5",
            "b3b340c48aa14fe3acbef18d1f671f65",
            "c422b123a8834f10aa1fc08e25537489",
            "8c4491d3d2ca4fb7ac9cfb65f7ee2fe7",
            "72e86a3376c3427db7001e74d103e6a5",
            "b3a615bdb3a540d3a2f999342b6a9ac3",
            "c53fe808845645f898be9d50c1a924db",
            "1f351da5fad8489bac3aa2ac214ce178",
            "6a8ba6ccaf464b67a716af7fb673abb9",
            "c50cd493eec746e58c8b2c1b8b5e8e15",
            "7516262d100c46ceba7c0ea0e7b2c8d1",
            "09dfa4826fa84dfa9e6e3872fe0aa834",
            "21a401450f9a466383ddb0039c6e6afa",
            "419b6bf34ab94fd8a94b330bc06ef51d",
            "d5a64eb883c44eea92bc0e16271dae6f",
            "a08e96c857bc44c6beee7123398bccd4",
            "105d26b39db24941b63c131b97fa1d37",
            "bb6369280d4f484c8383e201cdc92d2f",
            "126cb4449a2945d68c0e886071f30458",
            "0e675f2beb5d47dab4a6ba5547737160",
            "2c609c68c21344759bf7b41ef88cde7a",
            "441ea609970b4aafbcacfdf1f1d363ad",
            "5f74df9005274d2ea3183b23b080054e",
            "da5a1078f38f46f5b19ae954beade7e8",
            "577fbb1f24db48b78039c24a36be7332",
            "6c5eb8586f554d86bbc3115130d9c350",
            "eb2cb33c75cf4ddc899edb38667a88f6",
            "49cb8b78d293432f8549f0ee962a6335",
            "fe205697639f460aa3cb902a6ace76a9",
            "6760112d440449fb964e2dd38f586059",
            "7c7217180aa340678b6481a20a8c016e",
            "5c4aa60b10a04a2e811e9554f1056359",
            "ea0c4cb63dc84ac984d8f12bdb0ea367",
            "b889f44fcf664aa4b04b83f3fcf238c5",
            "5ce33ca639334614bdb2096969ac2e22",
            "23e6da11775640958e209e017d1e3d85",
            "6806430b43454542b4bf03251a77f3b7",
            "a97017fd05344f8c9b7be564808aa804",
            "766234aa5ba7495aa9dac3cfee50d0b2",
            "d872d839fb3a4b4aa4b0db688c45e399",
            "0bb182a882244b75b461722aaf655990",
            "7693faf3a9da419f891781647397091f",
            "053c78ee19f24f3194c55b79953ede04",
            "6a4fc1f930884883bbcb155804c7bf3a",
            "3a60b3db01014bb1b5a49918de2ccc8c",
            "e0abe1e8a34d4a38a9d04240b2ef5076",
            "fa0e94b448ae4eb9a9240a98abdfb0aa",
            "69691acdc68147ecbeab1dd72aa2a684",
            "44cfc38779e14ee29738374d4f041f4c",
            "327b777a52064a5386aba8aa154deb3d",
            "ffa7995838fd448ca4c232bd47d2a5c3",
            "240540a727044d14961d8e8d7f1d97ae",
            "ecfcf8217f1c4eb4b1e360cb733fdddb",
            "cba94f5827a24ce3a782c94c6ae51e6d",
            "88830e5042164c49a12a787657561fc8",
            "8d160f1a855d48b683565ae9327e5e24",
            "8d4a5b6511214c22bcd883fc5610fb64",
            "c6643d5d2984484da102db0ea4be4c4c",
            "1d48791199cf4633b3980f2a8f03a22c",
            "051d7d137d3f44619e7011438f34b0a2",
            "b70e2458e5a54666a470451b6bd2fb23",
            "5a010583b1174f1ea03e90b0aa2b1cbc",
            "7ce84e70df014b889f437a9534e25817",
            "29d28b3a19034671abb7c2d8fc05e48f",
            "dc85427fb05c4e81b09fd2242893733a",
            "1e9ad07f9f8c4706b7f2de8214b95d96",
            "a27bc2e7a354484a852c334d14921480",
            "b2fd75d645c546b18e8334a71de193d1",
            "d7ed22ed4ab64ae086560141f4072338",
            "e29e93e1d66d4b3e96cd260ac653ba3a",
            "9b8fe35bfd5d4f4c8682242cb3476c3c",
            "dd7abf2341d84dd7bb09b5f700b91e36",
            "5880394ddc2443ceafe89117bd6d99b5",
            "b3c930e7d7d04025bc80a52186ade121",
            "1c45c4ffa22743c5b98d859ab52ff049",
            "be6a68a3d6604b41bee6aadfbb3b2aa5",
            "6feaf39c01814cb29aa3dcf77bfd9c0c",
            "0400610d1a1a427b9e17f99dbd1f64b0",
            "8f0baf13cc324e3c9ddd6a3ecf3e629b",
            "828799fb3ea749a9a422cdc14ff64102",
            "c456c6848e954e90bd7547bf0e4c06a2",
            "e6655b1f5e464b68ae4b33fa9edcb8da",
            "9be6bcf63b094cf3804cc7955bc7bef9",
            "4aacc7f7e99d4bae978d38f45bc836ed",
            "121172c9bb254bbda8e2c52a722be8c6",
            "3dda4920112545f890bbc19c4ce7ed79",
            "a259f8a813b74288b16da65b9c5272d0",
            "b0c8816e6df7446f904ccae2f6627be8",
            "8c0c1442f723415f81c9da2c74e0a208",
            "73c750d421ab4a5198fe85c306b484de",
            "696fad48e44b4ff38eec7788c2e595a3",
            "8d1d1e2f8d8f4e7fbc8f82d358da5abd",
            "38f00cb2c9814e44987b383399c9e500",
            "8fe5033a257b484792f4ff06c54309c2",
            "62c70ec085ef41c68d5297875b5606b8",
            "b2c15a142929461c90c69388bda406b8",
            "b91bddc19d314887af44ae5121b9264a",
            "53c3d5ae80b94e79a5da85ed41756b7f",
            "1f514ecf5548497abae798cb3fdd93d7",
            "70a05e51c86143d4849fed3048b80de8",
            "a94a9c261a534d428e748033446c70ab",
            "9a8fae38dcdd49b6aa59bfe236bcb9d5",
            "658627ee0cfd4dd9a996a82bca3d900b",
            "3173696451f24586b737619013996d61",
            "ca7f136e3dfb4863859a203a8adff215",
            "fa726b6cfae0432a92b4675f6f6f6d5c",
            "2a736b47eef44aca85dc7c113b74a852",
            "cb4b7c21f2a7410480b951ee167b844f",
            "c40b19bf7c254d8ba639e23f5c30a6f5",
            "98f403ed0056465394ae2b19c5fa7ca6",
            "ff20d24f166a430a9e32777a30aec885",
            "135f90ea24404ddf8ebf0be456957b19",
            "c6782cda68754da88e960d431ddc36ee",
            "ee63f2530b804cee9ef7bd3068fe6e6d",
            "53cdb8e2111e416ab8254fdeb9879f03",
            "729bd59b058c43a3b499849cbfdc11d8",
            "069f72bdf06343f5a66f84249f81a866",
            "6168c629c0054a4aaddfee878c38d56c",
            "4e8ba4f8e4714747945228d52d6cc772",
            "c0c1ea07df0049d59e4551d334c0a132",
            "fc8a7c0c059f432d9c1ce91c729046db",
            "968c1994ed3d457b8278349ff9223135",
            "e53d87a8791140ad8e7dd5db145c2ebb",
            "951e845e10e645e3b533daa0a8e2c4f5",
            "b7e60d26ae0d49a6a7d71383c577a3be",
            "7b5648eb86c8479691718a7110faca6f",
            "829dfd05a02b432caca468848a5d3e46",
            "3d744e5d60ff45fb9c1267f34344595a",
            "75fa65fec4394444932eb35467fc7ae7",
            "61cb8d93e957469081fa91c04f36e3fb",
            "67bf1b0b0e7f498fbab8b121f98a6ad9",
            "c0e194fe6bb940b08503bfde71988f6f",
            "0ae30d0baf8d4c86ac77c1aa86754861",
            "2c39f90fe91044c3bdcb3d2f27fbb53f",
            "0f6fcf78c5494a63ba476afebc2c5591",
            "36ad9dcac4cb481287048d9f02b9f387",
            "ba08b485296d407781a4ccd7ca1c90a5",
            "48a2a7359c42455191a9698d2639d8b1",
            "28b0d13b6f5445d6b7ce4792024025b9",
            "67cd9330a5b945d7b4af76667a7d10b9",
            "67d638d4ad1d415dbe73b2b8022470f3",
            "59fc048d4f9e43fbad1d0cc14e8d6f2b",
            "271c797c4c32493386216e145846cd8a",
            "6672de392de145a198ad8062860086de",
            "75f5cc4c19e24498ad41baa8eab8a98f",
            "8aaa517cfb7b4e89a0f0ad424ffde843",
            "22f59a72cce548c199ba812b2bf62c1a",
            "aa87fe8dee144501ba55ff6091faec3d",
            "fc926fae9e2d4e9daa19134b8e508844",
            "5957ba0bb19b4a249d7006762fd65c3e",
            "8bb5ad85043f4e3ebe5ef124d82c98f3",
            "6e68b51735114284bddc874c680714b0",
            "2301ea94f4d74cb4885399d85935dda9",
            "c5ffb01856dd48dfa0bfafb45c37a48d",
            "e2f3753a80734ece97c1a120a7b8723a",
            "dbfd6345504b471c842726297d95c397",
            "27a9632850db4eec8f4996c937e6e554",
            "233a5f94644243cb8610fae21562a0e0",
            "ed3a2271700b438ca9745e8936bd757b",
            "79a4fed1f5c54c8388d32ac08f524543",
            "1268f1a8f9a14c39b409356b7aeab452",
            "23b4318bdbd046358b6eae19c2423264",
            "7b43fa87250d4d37b34362a33ef77257",
            "c125c6fe27a6421db9a280078ef4cb01",
            "1d43194d752544f2a493be37aca70d0c",
            "d05f12cb81304508944861b47aa910a8",
            "81d624e1b15f465998e2391c152ad514",
            "0bebc48eae614cfca4168bf1a7ca00af",
            "17ec24d34baf4a83884286ac77e19460",
            "4744520ac3e74005b240311c0e3aa792",
            "bae83183b7a54dae8c2308dd9ada109f",
            "53a80d9b2bd44382a97e02571eb1d925",
            "95d8d96b64a04e5db3194dd97744938c",
            "92080871b2e3480bbe0614ce394be7d3",
            "f66b58c5b9914d89809662964914e8fa",
            "5c08fdbab8ad433d87437f952f1e00fc",
            "d2ae9e30eb824853b41ba0029776039e",
            "92b261c8cf1f4a7cb004f575acf41ce8",
            "9e4dd9153c8f41c6bf76392ccd3cd42f",
            "253a89c4b4d346ef982ce702feb68ce6",
            "eb928d6489e24f82a5ff0107550eaa7e",
            "2b6539a9192445d2a8eea9ee1352ca82",
            "46dc66bc1f7d4e0e8028115bcb738225",
            "a1f10de5e6984fef92660dfe07b43f2c",
            "bc64ed2d41284c04aca058a838f02f5b",
            "1bc45d0a00d84f60b9cc86129ec6b8c3",
            "a942ce38b58c4af88f765b1f10978c7d",
            "90ee057910844b6fa2eef91ea5b43d35",
            "cf7b1ba06d6f4c7d925d2af0d6021828",
            "51dc16f268e5464d8ec00ce03d9f7323",
            "d7a5ad7cfd4646bda07457fe89cf93ad",
            "246e1a11475e4f22a6a7f4762fcdb703",
            "3704574c9d294869914ca9f0c726dc41",
            "55e15ba1e39a402ea33bcee42dca1a3a",
            "f589b6ddb9f24fcf8459345d4cfd1529",
            "42b3d2b3beed4d9fb119c09d2d729646",
            "4cac17612a2646cda21ce48b6bfe2097",
            "5a22c3fab2fc44ffabdbd33996f86616",
            "82e484b074124668a7f20f7a4e13a8ff",
            "9191b820dbf447d788658d43ebccae96",
            "e703da16712841e18b19243b5eb303b3",
            "dbaa04b06ba448b9a46570db7415bc5d",
            "88126ff77f30451ba552a5409d86c65f",
            "38430995c17647b0b3d4e466716ccec8",
            "0536346c1e67434db05370118ce6875d",
            "b4ec35ad9bf4415e8a383e8d223e4290",
            "3a0a9dc41880441fa4e6035b175b7eac",
            "b64ee1c03e37447193c8949ae8348bcf",
            "3b403d3b317f492ea6c784e7d101ede2",
            "bcf7408d73c043bf839a798bfc164032",
            "df715b1eddd84339b058095024e9d65a",
            "ef0836708eb245b0a56b21686a43cdab",
            "c5e3d14561104100a812a3c8a1e1b745",
            "1151fcd12a85411eba8eecf477120a81",
            "1439b050c2454ad29c54ff9b0cd97bff",
            "4cff0309868249908727b4eb456ac7b9",
            "f2892cfc767f48329bdb559231f6311b",
            "1673c3ac53d141d39f5011878b233d41",
            "ba09bc2cd13946069c50b3f6d4d221dc",
            "af7194aa7198401baf0daee3d84a4f34",
            "ee5e1515c4bf482f80f40f7d7d06bda7",
            "2c09912583304a4b856e38abcf3d8c80",
            "2659c1bb88624d4b897f3e24cdc57e8c",
            "7482ef7c2bb941518c4307f9f97ae949",
            "a585a59bdb39480e9502bd77e26dbdb0",
            "ace35186c26c4eaf8ce50f4a31782a80",
            "d1f95b051b7c418f9fb411e149914374",
            "eaeca5911257480c886c0dfe54a0af75",
            "1bba5f6996b042a9b4fadeb39d6f5226",
            "4373628947eb4b1bad9148943a15807f",
            "920cb487c1664e9e990ddfdd578ee807",
            "58fc362566ca4795802e43b8e56a5897",
            "8a3bf7abe9ca40afb6d164f0e1b772dd",
            "40a280cd82bd498ab26c420cb7c5ca9d",
            "367ee9b93da044f78fce0978a31218a9",
            "4e092f2318314589a1bb04efadd4804d",
            "c69c05e801ca494aa4bcf5ee8dfae290",
            "23f3227b24c04e69bc47b42c87cde657",
            "60521a7d313a4ccd9ad097c264227602",
            "8ef5996d66ac4fa8b8f6b542de2151a7",
            "01c14934eb3944e5a3a73283d1014e4e",
            "98d6dab89d0a48cabf64063afbcac4c7",
            "fc9b3fc68eec400a990bfd3bee57f8e3",
            "2cea1880fcd94e02aeb6768f5a9ac1c8",
            "1740b31c156e46288abb7df4b0b19ca7",
            "b4b8779e84254768ad2e2f26c511135c",
            "37d6381499c6401cb0d55b84c0c010c8",
            "58017d6c563c437f86fcc673dc04d43e",
            "1c34a55b9d68415eb1cd739981c01cb0",
            "cbafbb3e704649df91641fee3091367b",
            "f675eb3f47284ed2810487cae583ccd2",
            "455da95948f148e5866a1c4593d71eb9",
            "b1bfc51e2c4f435b98222070e12d1e52",
            "a5ce5264103549cbb47de8046b122574",
            "15d66afc93bc49e2908cec52caa99e2c",
            "a3f7dc745e1d4a918369a27e52e34145",
            "6126a11369fe44da96962d744b8f5bc5",
            "a5878397d04b44db8ffcdd003b454fe5",
            "d6305d88318d46c093dae760285bcce4",
            "d033ebc0ecf34e9297eb1ac574d5291c",
            "6795a0b9b6f048dc8835da4ccf690638",
            "a7a92a463a49408a9ccf04f494a410e6",
            "2710bed9e1234430b236099769017891",
            "d480ea99603c4908846b5c81fc10dc22",
            "5e568deca0564e81b40ce8f1300cc5c1",
            "c5ef0a009bf04d45b260c703c67c9a80",
            "2c58bb1114684c5ba9d3d1db8c3017b3",
            "12faea6880b4479ea329499e86a9a68e",
            "91e8e1d0095140dca0883a4b40da3243",
            "dfc47cdffbe0488eb03d61f316548859",
            "dfabaab75bc5437cab6eda59d2dbf871",
            "b806c6a41aba43b299be4896e001dbfc",
            "1c00618d51a143c797c98b734aa2c4e5",
            "66064c2ee2b84ec5a78adadb9b63e0ab",
            "55053a8535e8426b9deff3ad76474d52",
            "1b2059ee7c25456e85b8a07afba2cd43",
            "0efd09a2b2bf4624828b8b31eeba138d",
            "9b77f874a4ec4678a1fab0c9db40e76f",
            "392e40401ad748c1be9c357345785e44",
            "9f56ae33b24a433f89d2dbec0d9839ae",
            "bcc0fc8a51344b83937e034a15fccc3f",
            "a5316cac8631429f9d044c4584d191ab",
            "2d4bbb7ba1ee441b83600621002038b1",
            "75aeb4479be045a892fda6ecf51da614",
            "0ab5e4ac93854a179fc3989e56de41f8",
            "72e985a15a934fe28991e94ff157a763",
            "cd926e79f9524a888b1c22783d36d8b1",
            "80e1998117074332a9240a6bae4132f6",
            "574f235c5d6445f8830a210250447df8",
            "5188da1ea38946bfbcaf9a01dfd626cd",
            "74b4fea36960421ba78f6b6247daeede",
            "16b20a77df224f0488ea7af377142df8",
            "e8e5d9051c5d40f2ad3f265f75403af5",
            "2443f5a229074939898b5bd12d0323b7",
            "2d95e99eddd44170a755adffcca537ef",
            "523369c2d3aa46f682a71c5923e5c844",
            "ef987b70b24a453da648f3cd9076eb17",
            "b6c13c00d6b84330ba64de7c5e7c56c5",
            "8e065b00a4ab4f9286c6a221073da319",
            "6be3ef999cf9418c85168c5e6f378834",
            "d096d6f85f724f60ac96d3c4a948d381",
            "7d39138588734f5bb4478876aa2a91d0",
            "e5ce3fa256f140f1a3eae0e187470c76",
            "ae5ab56d980445c4b241efa1176ffc37",
            "d94b202cab524e25b8184cda9dcbfdcd",
            "94edf5530db94cce85a7a80a8158a8fe",
            "7423d52930394548b2dcee9138dd8f5c",
            "9856260424e441148e6214d93ed4c7a0",
            "75f20652d0df4cf384efcf5b6ca6361e",
            "1d0954144b054768bba30d7d745e1722",
            "f3813757f0894a5ebdab91210ee2c4a5",
            "41515ab2fbb840e9aa7d32a7e80f709c",
            "0c4fd3fea345481b9a28570690dbe7a1",
            "68cad43aaaeb4e98acf360bbc151f246",
            "93901de0ac564242b3341dfcbd5af772",
            "015b3f6e2c984dac8aebbc1a60d37aef",
            "6b496ad80f68454d8c46fa81b89c25a4",
            "ce8f295947484ac58087698fbac4da93",
            "f5b45e6a56af495983368ba4afc3a5c9",
            "a974948a0fa5423080fae86998d86859",
            "7542e64a48f84238b24f0e0e346975ad",
            "5c23038753bb47358b7cd52cc4b2cd89",
            "10b5a681ecba4ff2b1c42e5db45bd4f0",
            "3739d3fc9a9b4c92ad0ed8bf69c8988e",
            "dce37eac506b4c779efadae790cef4bb",
            "0cdc63ee5a7d48d996d26ce67312d057",
            "b548698be6a0435ebfe614ec4e47d99f",
            "c06fe10356c8424eba38ae8682d62fc2",
            "3076379d07074929b129fea115d07082",
            "0c83e13ebaa745e38c2fdf49ecbc1553",
            "76e22b3420c644c39a68e9e24e043415",
            "5abe16d7d0c5489fbf99fd864aa268b2",
            "e94a433fc02c4d45af6f7ed06a93646c",
            "425c21dada264d7baae8181c87ef4c37",
            "13f13ef328d24067a33f8b14d0314c10",
            "27ea9958fc8a446f93a08a4904fd4812",
            "289b008a86524e6f96c0ee0b932ef88f",
            "7e53cbdbd9794f0584e0b28210df27f8",
            "ee3c3994fd5b4f92802a63d4afafa412",
            "6a8bcf3591934a58a7003d74ebf349bc",
            "f760711badee47318ba09b071395aef3",
            "642ce99494e542afb879fc71b2f6f36e",
            "932d1d639eac45fc824e8643f421a82f",
            "d65b18c6bd37434f8fdc838c597bd6ad",
            "4f4198e3c83a4ae399f29d162f270567",
            "d0be343d93ab416796bdecf3d296c5fe",
            "9bb61dfb01934ab696472fa9e38ffc1f",
            "f9c7da8fcdbf4004896b698b2320d61f",
            "f380ab697b0345a5abfe438b27146b6c",
            "256e4668c32c4124807e7e6a86fd9310",
            "ce275b15ab3741728e32cb8ad69986b0",
            "e3df203bbae846ac806952b4ddc6cb54",
            "c0a04e507b604d32899950ff328fc2c3",
            "0d1c6f7885464d508e2344d7d2ddc85d",
            "82abcbaa90364e4d8a123124ea1aa910",
            "a5a08b794d404409a1d421e2ffb21dd4",
            "bb11f35b525a4ebc805bf0d39a840086",
            "1a7e05f05dae4594b4d0c09bdbf47826",
            "d5c67c87081045b8ba1e4ede8575fa91",
            "e06f54a6b5974790ae00367f65fe6e96",
            "a67ccc30a05846c49688e53a7db106f7",
            "db7e10bd84454040a5d4d4c955b8f147",
            "2a62f04cd8d14d10a1789cd25f76663f",
            "f8dfe0c62a334467b016537f0e85b7f3",
            "dd1f1eefac74431a91070da77eada018",
            "b4fdda666bb54753bb60f5315dbff29e",
            "1c73c351227440898c6acabc58b6866a",
            "25ca6306f9094a05b08992e320dbbb88",
            "ab4eb0e09faa42458e7d11e6eac8a07f",
            "e6880b3825df498cae7233d7adf0bbad",
            "50ff353e291f47e38ab0fd46f71e7f8c",
            "ea8f1eddd1d74e85b5cc97b226d87063",
            "bdd56aae37c047e69e79aba8dfdb54b7",
            "e4251146dd844c429d0211d2ff269ac3",
            "68bfc33bac72435495efec23c2f69eb9",
            "0012d6a06f1042c1b94361093a930d34",
            "b61d351d4c0e4a7da62300504ab8d639",
            "30978fe06352441ba282fbba5fb762cd",
            "9ee178ced9f94987afec3907b48936db",
            "deefdf6a1f8f4227897d2919bb145aee",
            "ae7c023c6230487ca1c7b0b7128b7f9b",
            "db7839bb70674fe6ad6316534975863b",
            "e15e79f75b364830a8f79133b4c58af5",
            "582ce8401720496d8c22e9174a447408",
            "7455675020a74f30a4d6215a8ea937f4",
            "03d5980dd37c45749591b5b060e1db69",
            "0057d334b9dc4194a07c48aa2f5fb7dd",
            "ef9e3d913a7a41cd805db34df1d07ca8",
            "a86bd6a0dc854f04a026c842ef49cdaf",
            "24e20f25493c48bf8e888a00799418a3",
            "011bab59adf4479c9a0764da5ebab67b",
            "6a33c30da4ac44f0ba7e07f9e7bf4e57",
            "5af994a6fcd94092b7fb4d5e1e8bf16b",
            "48ce7a4f96e74b29be7c8713801d9d0f",
            "c1462d896eae46d09edf95b35fd85606",
            "7549a0197d3643f4b368d5a660438bc3",
            "0b60ab4e20d84f0582b22ce5bf24dd67",
            "243866da9b5044afbb7b1e5addb09a84",
            "a64530f1ae4b4021b2ee79a50344e917",
            "5ad3e1e812da46c690217b04ba377e23",
            "d6777aca5c1944ca8ac9a79a3fc9c936",
            "ff4f3e21d79a4934a515a4c5ce816267",
            "dfda1bee8b9b46a581079d34ae8d5d37",
            "a8164529e2cd4d199a7ba40d37f1da71",
            "a70d0232997741f58afc4ab3432d3155",
            "0ff54dba611743ed95697bb7c836cf1a",
            "89ab714a07084e0fa3d96f140a1a9ed9",
            "a38749116527496b9055cbc15b21d9fa",
            "b58ba06f85b548f2ad8596530dd61cbe",
            "ea33ec897f8449b6b1399b0a5dd5d0c5",
            "349650e6120440239949a8d43792ca4f",
            "bc27aa1d83b64b3289e60daf078c87cf",
            "be001e21e2d04b2694f9f2f0bffd0108",
            "5e4a6ebd5147407294c7ff0dc89b38d8",
            "05e429e58a3646d882e6ba737d84c7b5",
            "3ccf486f246f4a848b5f0dabf31ce1c6",
            "4f3127ac68cb43f5bf8e88df93ae7028",
            "f479b2e10d404374bbb4587ce2f63820",
            "c7c2308eaf8b4250a826d82f90e4b04a",
            "7d954275a2cf4d5a9139710361a56aee",
            "b42e2a840ce945c1b2c1ca8c5d37741e",
            "581ff52642e54a72acd4fb173bd412ff",
            "4232b26e810348f088f8d4fc51ef2556",
            "8e718ca9c60947a4b8e8b2ce6d58a2fd",
            "8e75792c900d484bbfb9e19d2a4e71d4",
            "5826c21d98944fe78615a3027a264721",
            "b9d5161076484984ad657db7a53d4a4d",
            "1a416c3cabc54fdcb98c85c1f798a224",
            "3c4895464a3c4913a617fc42b6dfae1a",
            "9c66a8111da04e0d920d0aa9683e3644",
            "5ec8c3ce3fa94db0b997cb7dafea54b3",
            "b93b5b4cfbc64bdabda94f6b96851eb0",
            "be5de1da24284905852da2d341966fa6",
            "e03d1b6f38124f2aba206fc5f0007c67",
            "9b5f1dcbb6514d4a84017bcef6cf62d9",
            "0aa8db0c4290498faef2d29b9eaf3e7a",
            "1234cfc4aad043398533775b9515062e",
            "27c5fd167f7843d08c253886af83a8ea",
            "964216eb2c374f38a63275066f1da08b",
            "b24de88f7c9a41309cf35d2c41182ba4",
            "46018e001b624957b8692d82f3dd572d",
            "9a0b773f5f1040c7809d17f15bfd68db",
            "c5e1f711ca9b41b886878a793baa1e1d",
            "94b25d562d1c431ea2913605e7656b8f",
            "a5e6b260acbe4d92bf032d1fc9d234d8",
            "82e21fcf6a52453fa0d930cb3368e171",
            "476c60e468cc442aa28a6c52000e98c1",
            "c90d506649c24a19a5aa9311ec5415a9",
            "2eaf2f87f977417f9ac2c44930ae9cdb",
            "9bad976ec23442e6b04d3a7f637042c5",
            "eb621b075f644be991c87e859b9f562f",
            "91b83cba07a34907936a3505f2576902",
            "2675552e50e74b348df532797fdc89be",
            "f6631823afcf44979e58f1d8d7164b90",
            "93edcc0dbf4d4c4784f019933db4a04e",
            "8f43b0c84dff44f8b94a9f505957ef2e",
            "7a9dc0e600734c1aa21e15118ba02e86",
            "68d2090332f340f6b2b53fd1072f460e",
            "a4c00dfc143943e8931b01cd99312a9c",
            "d27f22eb3bde47ec950a02df60a8c476",
            "72c83b2c4179494e8d91affdf66136af",
            "914c6da4baf74a1dbfc3a558ce7541e1",
            "34a5acff0b86488aa55ec9b97ec568f6",
            "cf669b88870b4375a84346de71efdcb2",
            "f666b293ec9e4a60a87612ca4f9b5011",
            "4d377e00440141968606e48320fd77e2",
            "e27d5bff00284202acb4755127458df2",
            "46ac80cf686d4dc6ae3b69132a4ed7c2",
            "e6b993f4f4644a0390d85cd583a8e9e4",
            "887b01e2426d414ba68a61cd44089df5",
            "83cdcd9973d746898d115dbe358547a9",
            "937c012f5f2747b4a8f7be1e5492eede",
            "d0c90bd506154633b9b0180c4e9ef0ff",
            "f0421407621a47bfb43d2b233a0e4b05",
            "f39fc8a0c8c743e8bd5cb294fc3778e9",
            "9e7c1e070044459b9925f89d02b16760",
            "77eb3916cdca46868769a7885b848733",
            "1475a392317443d587bfd74b80bc62b7",
            "61f0804a337a497c829589a0e5ff13b8",
            "e01d9edd6d9b40a5a8a5fb990196f7b1",
            "d122b601dea74fd6aacbfb111bd6856d",
            "69edef3fb6bf45f2b9cd5cb32fe815d8",
            "6fc833c126a2468ca67712efffc303f3",
            "7a7cb98b0442465783381dce235f3707",
            "701bc24725a44a6cb718275925a44279",
            "273df97201e7435a8278d274bddf323e",
            "e7cd633b4f2947e4b8afff40c116adfc",
            "cb068ff83bc6444ca4d2eeda32c42ee2",
            "9b2a0883e35548f1a1074b5141fe9e1e",
            "efc0012c71cc4314af264e68406d5190",
            "65345ad710954533ba20bc40c65b2d69",
            "891b070c59ad45fa9b8739acbb571239",
            "720459e8189b4b6db0d4071075436fb2",
            "8bdf1c2f8c1542e48f08f6eafb06c3e5",
            "c6c59f13d4504cd79597eb6b7b248ce6",
            "770ea1e219984f5bbf5a697ad167313d",
            "410af1b8238247e3a5ca23bd27a69772",
            "e756b5f157c5491a98a82336e0c49c6e",
            "96ed4b38a53b4cff8b61298358b26319",
            "431bab65ebfb4023bcb43b2171f92ab9",
            "21ee9bf116cd4b5399e70856059effe4",
            "5da0ea91e12b4145b1c62e35cb2af515",
            "2a32088b6f5b484a92214d0543866dbd",
            "03e60c9aeaaf4ec091f8359f3988b1d9",
            "16acd501e6b94051b9f9b9433f413bbb",
            "790ce434b66a4694b84c68c857856262",
            "d42fbae6343645cc8adad40697528eec",
            "8fe54b1b256c472a9af89f1d8bf76bb9",
            "216be8c41c534fe482e8e701b3bd944d",
            "18e2480304264eebaba6fcd148025c7a",
            "573f8af5430449a882bfca73336e5200",
            "ead5a08ddbad4b97a06772d8156b0306",
            "d9f7f53d8d4f4e48bd42534d3a5a98f1",
            "8b19956efa27492d8df3e5faa304c5e0",
            "6d899fd029414d54bb259e0b34c9e786",
            "7317f1870c444a9883820f8c0765e040",
            "e2bd7855ee004fd1b9d14ae5cd9d2aaf",
            "2387ce539b5a45a3be9bfd5072683e6a",
            "236a1d8ec00b47b3b8bb4cd4330922d9",
            "ac198f8df1024a52ac2924dc87ec8f95",
            "2d59120ed0c84a60b4fd10e54966cbfb",
            "727b67779f5a4eebb060c426094b09e5",
            "77ea0ace2a814534aecb102b56c5fe25",
            "2ca0db80d56147b2a5ed5faeebf12a43",
            "8cbf515fb20744cfb550eaa3c00411b3",
            "623c2fdad57b462bac11c678d5298af4",
            "b127837a13fe4cc7bca1f8a217735f35",
            "4ba147a84fd941efa51ff3dec1d38253",
            "04ca9e7a532d447b9f63d3088b5b8b59",
            "7378b22ed4b242a2ac1f603452ee74fc",
            "e58884a55ea9426c9e9b199c2fa0e794",
            "865773f1371246aca01207eac63fb845",
            "7a189bdedfa744879d08fc1978cb75e5",
            "4f5c75efa47a4dddab1886d570606f10",
            "af4c2df5dcec4b25ada9cdaf10373991",
            "b589f3fb5ff241879b5620772313a9b8",
            "3d9a7bacf9d14142bf632d528cd8a2ed",
            "af7822c0dc6e49d8b11d7ad30d961f41",
            "56adaaaf6057403fad5476f0059db7f3",
            "b61c19a5e4d447abb1297e406ad4002c",
            "274a8cb3792744a980403c90f15879e8",
            "291d7bb574434a048c66941563d605f1",
            "85599e29328f49b28931b838246a38d5",
            "0492ebe8158f43548a1738056770414c",
            "8e5ce1bcc09e458f841b51e76f3014ea",
            "2b6d81a2806d4fddb73e2a06d3936958",
            "318abe85f89a44929f47311fcb578d00",
            "8832aacf20cd401bb45168293f924752",
            "5a9029e780fa455287d6483c996931be",
            "f524e4873e3c4d5f8940519ff02eb34e",
            "c65d933132ea48a7b1fd379167aa0837",
            "7f00e38544d1463980751189feee6782",
            "8c522ef5469e4836ae8b83e13e676596",
            "54c67007bacd4f34b2750dce0e083cce",
            "491784f3b48a435684b23cac8ba656ba",
            "4ee24d68327a4d388052dd01cab4aa72",
            "4bbb37fe290248e5ba2a51cea7e3b84b",
            "02da3657706049c0ac41b10d1c6a673a",
            "94ae26eaf0cb4c38a3602573822ac12c",
            "57e7a229491f474aab7f9f08f379a69e",
            "09bf06d05edf4a4f998ee4cbda33533a",
            "6c5a66abca014f67b98a0bdf1f30ef20",
            "8e9ee7af1b4d4d039c3eb8e247f854ea",
            "7a2f71053fe5460d8e68948752860976",
            "de18bdb27e904a01b3b01def20987f5b",
            "156c52ace77f42b8b0a7b125dc8dbceb",
            "94966a60d3ce4d9197ade7315a2076c8",
            "381c61eb119d43e4bbe21b64b2ff4806",
            "6ef398e19b9043c4851f01eca30d3814",
            "9a51ff3850c245028084d72436722c37",
            "019bfac1e3dc4872a0e8f1c8f08393fe",
            "1a89b09d33394a83944dfc86eac46c43",
            "46490ec9d3fd4a0189fed8c5265f1e32",
            "c5347e64c249413590eb85a85bb89b28",
            "ac4a1a22784a4706987a2bad7f795659",
            "49d3c4dea25f46d19a8bccfba2081a70",
            "07062624e871447c922f946571565f89",
            "402437a371cc4123be225c2e3237510f",
            "a915c58f871f4b12a7e82ed3d95521fc",
            "d1a30e99a3b8441898c27ecb6ce1c906",
            "a12aa86fe08b46d5bb0405c61aea1664",
            "d1f0396ea45342cb8c0919738432d444",
            "2dea5cd2b2494f80989a7d4e3f5d04fa",
            "1d93001449244b80ad9efdc9342466fd",
            "1e3363e134224493b0a7654beb1f53fd",
            "bf0144d7f98e45a1a806187e9bb3b3a7",
            "3c7d476cbdfd46089e4ee0a7dbbba920",
            "bcb0aed7cab04df0aaecd0040920f590",
            "25d470b81b0d40099f21cb944a454d7f",
            "8c98e54097894310a136737d6515e01e",
            "3aa7a196c209483f9c5bd5dd255c18a5",
            "844d8472957547e285a61f90bc5dcd7c",
            "6e36caf95a1648e5a0a8a8e3614eedfd",
            "a78b41df15b442639f305e8feec83312",
            "4f8f4bfd5a224ebba16558a8b8715f79",
            "738d3bd31a5c424facc1c68dc0c1b10f",
            "d0fe2a6761964046844d398bde41a595",
            "9bccb108f1bf45128cfde18933a12728",
            "21497d715c204da5975641a1cb6f7e6a",
            "108247275d934a0a99bc5a2aec25c54c",
            "030d3fcaadd74604a1fd2ac0788ed505",
            "3f3621f1b0c243399c1ef7ca80d5c9a0",
            "da15c12925604c65ae22c0e31d9dd206",
            "18f2aa716d3a4246bb02e058be5f3787",
            "54d6adf3bb49448cbd54697f9ec9c884",
            "188b3fa1472042a586c8b09cf3f1dbd3",
            "ec21a03234a048e18c83e747033322fb",
            "715e82173f82464b92d3dbdf463616c3",
            "ab7404429c444569ae1e25f85abbc3c8",
            "a805f28b9a964a9fbf14de5a3d7fa9f8",
            "94f340f2b6954fd3b6dfe8df68ff7310",
            "0581fe75ed27495c94ebd149a9aad77f",
            "9a7603eaef0a45e1b8971d44c8741520",
            "9da842aa686c425bbae2466f6843061a",
            "a0d30444af95414f8f868b513cb0a443",
            "5cc7f00a8bbb41c19cf0a0ec312b9d9b",
            "9457af008d964c239848c8281a0a7a8c",
            "9d871b78f9a949eab4c8c373b03abfd3",
            "9d35bf8b1f8241dabd86fb5f9dc4fc91",
            "671f46a8a0584c46b2ab3ef1e40dba34",
            "78b99289a82c46a89558009f3c7231b9",
            "1420b896f7634548b4c663f0ee3a32a3",
            "dc2bf71f964a4089a41fb5447493fbc8",
            "24a5ee5ef695446388dfe8dbf6e256ae",
            "0b0eaf8983d340f48f4b96c367235db1",
            "eac4cb4c082042a2883dbb8877eb345e",
            "266764d0266a448c8d85bd33ba0554ef",
            "54b0633b115042cd81c8a4fb4026f39b",
            "6807bc3624dd46d2bea9a5c9ad018949",
            "9df3419bf2214dceaa7b38b587329409",
            "515ebbe0d1234dfc846088f3491231d2",
            "52cca4e927064704a35173fe2eaa1c55",
            "1f564669e155450cad73071a8dba44e6",
            "7aa4998cf3754fb8af0f8d2348a2aaeb",
            "c92ed29b853544938f1345592a612104",
            "ba3b4421e13649659d423af119f79f08",
            "ef4910ab50d841d7b3e420b344bb5448",
            "01f7eca5c17e4e9bb88bf09adf2e28dc",
            "ef0e9e565df24041a2644c39bf50f6f2",
            "c5e1f626b5334ecc952acc65860296fd",
            "2091b3ff9d484de391f5161f25a5a6f6",
            "5128fea13fd34e7c943f96f038390e48",
            "084feaa38add48b68485a098a1106c06",
            "f7e113f313fb46cd90b19b707fdb2c4a",
            "18c77d9a6b4f419c965edc28aec96ee5",
            "143d568601374b4f8b83f1c61414ef14",
            "f689586774494f8bae5cdb2022b7815f",
            "0c5d7e663b85420999999bcd5bf0b62d",
            "197e1a26c69143cc8848894fa00cee02",
            "1cc3bd29bc8a49abb4df64cf917cc4e2",
            "7cf973c09fa94c9bbe4504eb867ebf4b",
            "934fa3095d7442f2b11d316b1b530224",
            "28e0d334cc1b4d0898417f18860c4c2c",
            "ac96255e435e48c28e1c9b0e48742bc1",
            "0d86d6dccc0e45079c1c4b39928594a0",
            "14793b1c29894e6bb316608756411fd3",
            "7ebf814f32ae4ce390600c1303e8762a",
            "1bc3893a54364289b46f96ee4d118a78",
            "8b966630b72c4b59b47b6f16cee6121f",
            "971e276199024ed684df3ceee54e570a",
            "2ce08e5bb4584197859635a012f98e69",
            "fa1e7d8b4468426980ed79ace16d5a92",
            "bdceaf7ddee942db9c989fad271c85e4",
            "c0007cf8fd85479eb519931427334d3e",
            "3e8fce72b8ca4402994f613f77578681",
            "ea652d7505f543e8b8566204d5e7cb46",
            "bfdf65a1c2fc4898a59d161f1aca8ab6",
            "9ae334805d5441258493bfe111a74069",
            "fbac3a98aa0c403aa37debffcf16d8fb",
            "b413ccbc853e459591876a60d20cf031",
            "11f1c392ad464b0d9c990f68b8ee55f4",
            "43575669a93747c09804e9c4b5b58fb2",
            "845cf8450a874fbdb07f3e5acab298b0",
            "f55c005ce6e94c318ba2c8743ac0e751",
            "ee5e870d1e4146289b60695d5b4445f4",
            "b349ad643cae4cec9e8e8c6c0ec79d94",
            "c29b166fac0e43609d1e085fc2fea339",
            "aad936346e22427798fcb86238f6fca7",
            "d6cfe88130e843e1bdb5e13fe02fde30"
          ]
        },
        "collapsed": true,
        "id": "JzwLd5N6bYI7",
        "outputId": "f978a333-38cc-46d7-f991-261d4a3a9cc5"
      },
      "execution_count": null,
      "outputs": [
        {
          "output_type": "stream",
          "name": "stderr",
          "text": [
            "/usr/local/lib/python3.12/dist-packages/huggingface_hub/utils/_auth.py:94: UserWarning: \n",
            "The secret `HF_TOKEN` does not exist in your Colab secrets.\n",
            "To authenticate with the Hugging Face Hub, create a token in your settings tab (https://huggingface.co/settings/tokens), set it as secret in your Google Colab and restart your session.\n",
            "You will be able to reuse this secret in all of your notebooks.\n",
            "Please note that authentication is recommended but still optional to access public models or datasets.\n",
            "  warnings.warn(\n",
            "/usr/local/lib/python3.12/dist-packages/datasets/load.py:1429: FutureWarning: The repository for google/speech_commands contains custom code which must be executed to correctly load the dataset. You can inspect the repository content at https://hf.co/datasets/google/speech_commands\n",
            "You can avoid this message in future by passing the argument `trust_remote_code=True`.\n",
            "Passing `trust_remote_code=True` will be mandatory to load this dataset from the next major release of `datasets`.\n",
            "  warnings.warn(\n"
          ]
        },
        {
          "output_type": "display_data",
          "data": {
            "text/plain": [
              "Downloading builder script: 0.00B [00:00, ?B/s]"
            ],
            "application/vnd.jupyter.widget-view+json": {
              "version_major": 2,
              "version_minor": 0,
              "model_id": "a33551d7eefa4df7bd677be8850e7d82"
            }
          },
          "metadata": {}
        },
        {
          "output_type": "display_data",
          "data": {
            "text/plain": [
              "Downloading readme: 0.00B [00:00, ?B/s]"
            ],
            "application/vnd.jupyter.widget-view+json": {
              "version_major": 2,
              "version_minor": 0,
              "model_id": "c2cc2fdd33e74fac82a4e0b6a4ed411a"
            }
          },
          "metadata": {}
        },
        {
          "output_type": "display_data",
          "data": {
            "text/plain": [
              "Downloading data:   0%|          | 0.00/1.94G [00:00<?, ?B/s]"
            ],
            "application/vnd.jupyter.widget-view+json": {
              "version_major": 2,
              "version_minor": 0,
              "model_id": "2106580c1be146b991d0bfc57afa86fd"
            }
          },
          "metadata": {}
        },
        {
          "output_type": "display_data",
          "data": {
            "text/plain": [
              "Downloading data:   0%|          | 0.00/229M [00:00<?, ?B/s]"
            ],
            "application/vnd.jupyter.widget-view+json": {
              "version_major": 2,
              "version_minor": 0,
              "model_id": "877c65fc8df6421c90e92904dcb4f9d3"
            }
          },
          "metadata": {}
        },
        {
          "output_type": "display_data",
          "data": {
            "text/plain": [
              "Downloading data:   0%|          | 0.00/112M [00:00<?, ?B/s]"
            ],
            "application/vnd.jupyter.widget-view+json": {
              "version_major": 2,
              "version_minor": 0,
              "model_id": "fd8f7a3e1e1d478684fc987c247ca7dc"
            }
          },
          "metadata": {}
        },
        {
          "output_type": "display_data",
          "data": {
            "text/plain": [
              "Generating train split:   0%|          | 0/84848 [00:00<?, ? examples/s]"
            ],
            "application/vnd.jupyter.widget-view+json": {
              "version_major": 2,
              "version_minor": 0,
              "model_id": "ad03c55ebbf94a0db4399a8155c1a970"
            }
          },
          "metadata": {}
        },
        {
          "output_type": "display_data",
          "data": {
            "text/plain": [
              "Generating validation split:   0%|          | 0/9982 [00:00<?, ? examples/s]"
            ],
            "application/vnd.jupyter.widget-view+json": {
              "version_major": 2,
              "version_minor": 0,
              "model_id": "1cf3bbfdc6f74f1fb092c4285891aace"
            }
          },
          "metadata": {}
        },
        {
          "output_type": "display_data",
          "data": {
            "text/plain": [
              "Generating test split:   0%|          | 0/4890 [00:00<?, ? examples/s]"
            ],
            "application/vnd.jupyter.widget-view+json": {
              "version_major": 2,
              "version_minor": 0,
              "model_id": "3ecc56c3a65e4e6e9786a27211be3f9b"
            }
          },
          "metadata": {}
        },
        {
          "output_type": "stream",
          "name": "stdout",
          "text": [
            "Computing dataset stats (MFCC, no masks)...\n",
            "Stats \u2014 mean=-5.8153, std=47.6515\n"
          ]
        },
        {
          "output_type": "stream",
          "name": "stderr",
          "text": [
            "/tmp/ipython-input-3123524788.py:32: FutureWarning: `torch.cuda.amp.GradScaler(args...)` is deprecated. Please use `torch.amp.GradScaler('cuda', args...)` instead.\n",
            "  scaler = torch.cuda.amp.GradScaler(enabled=use_amp)\n"
          ]
        },
        {
          "output_type": "display_data",
          "data": {
            "text/plain": [
              "[d192_L12] Epoch 01:   0%|          | 0/663 [00:00<?, ?it/s]"
            ],
            "application/vnd.jupyter.widget-view+json": {
              "version_major": 2,
              "version_minor": 0,
              "model_id": "1ae792182928461a86929cf717d5bfce"
            }
          },
          "metadata": {}
        },
        {
          "output_type": "stream",
          "name": "stdout",
          "text": [
            "[d192_L12] Epoch 01 \u2014 Train 18.95% (loss 3.119, F1 0.1010) | Val 19.94% (loss 3.103, F1 0.1060)\n",
            "[d192_L12] ** Saved new BEST ** (val_acc=19.94%) \u2192 checkpoints/d192_L12_best.pt\n"
          ]
        },
        {
          "output_type": "display_data",
          "data": {
            "text/plain": [
              "[d192_L12] Epoch 02:   0%|          | 0/663 [00:00<?, ?it/s]"
            ],
            "application/vnd.jupyter.widget-view+json": {
              "version_major": 2,
              "version_minor": 0,
              "model_id": "b1c5ed0bde224f3c9b6b5f70f327d1a0"
            }
          },
          "metadata": {}
        },
        {
          "output_type": "stream",
          "name": "stdout",
          "text": [
            "[d192_L12] Epoch 02 \u2014 Train 61.80% (loss 1.754, F1 0.5084) | Val 64.03% (loss 1.711, F1 0.5273)\n",
            "[d192_L12] ** Saved new BEST ** (val_acc=64.03%) \u2192 checkpoints/d192_L12_best.pt\n"
          ]
        },
        {
          "output_type": "display_data",
          "data": {
            "text/plain": [
              "[d192_L12] Epoch 03:   0%|          | 0/663 [00:00<?, ?it/s]"
            ],
            "application/vnd.jupyter.widget-view+json": {
              "version_major": 2,
              "version_minor": 0,
              "model_id": "c8473334a0144ca891a8f614debe92d0"
            }
          },
          "metadata": {}
        },
        {
          "output_type": "stream",
          "name": "stdout",
          "text": [
            "[d192_L12] Epoch 03 \u2014 Train 79.96% (loss 1.065, F1 0.7542) | Val 81.28% (loss 1.031, F1 0.7646)\n",
            "[d192_L12] ** Saved new BEST ** (val_acc=81.28%) \u2192 checkpoints/d192_L12_best.pt\n"
          ]
        },
        {
          "output_type": "display_data",
          "data": {
            "text/plain": [
              "[d192_L12] Epoch 04:   0%|          | 0/663 [00:00<?, ?it/s]"
            ],
            "application/vnd.jupyter.widget-view+json": {
              "version_major": 2,
              "version_minor": 0,
              "model_id": "4d4362d3be5a4dc1a7d826b943083ae1"
            }
          },
          "metadata": {}
        },
        {
          "output_type": "stream",
          "name": "stdout",
          "text": [
            "[d192_L12] Epoch 04 \u2014 Train 85.35% (loss 0.860, F1 0.8193) | Val 85.89% (loss 0.838, F1 0.8242)\n",
            "[d192_L12] ** Saved new BEST ** (val_acc=85.89%) \u2192 checkpoints/d192_L12_best.pt\n"
          ]
        },
        {
          "output_type": "display_data",
          "data": {
            "text/plain": [
              "[d192_L12] Epoch 05:   0%|          | 0/663 [00:00<?, ?it/s]"
            ],
            "application/vnd.jupyter.widget-view+json": {
              "version_major": 2,
              "version_minor": 0,
              "model_id": "3f8ad663300f4b318bccd8acc643001e"
            }
          },
          "metadata": {}
        },
        {
          "output_type": "stream",
          "name": "stdout",
          "text": [
            "[d192_L12] Epoch 05 \u2014 Train 89.89% (loss 0.716, F1 0.8671) | Val 90.32% (loss 0.700, F1 0.8717)\n",
            "[d192_L12] ** Saved new BEST ** (val_acc=90.32%) \u2192 checkpoints/d192_L12_best.pt\n"
          ]
        },
        {
          "output_type": "display_data",
          "data": {
            "text/plain": [
              "[d192_L12] Epoch 06:   0%|          | 0/663 [00:00<?, ?it/s]"
            ],
            "application/vnd.jupyter.widget-view+json": {
              "version_major": 2,
              "version_minor": 0,
              "model_id": "67393d640e9b4eb19dfa5735fc42b145"
            }
          },
          "metadata": {}
        },
        {
          "output_type": "stream",
          "name": "stdout",
          "text": [
            "[d192_L12] Epoch 06 \u2014 Train 91.39% (loss 0.665, F1 0.8835) | Val 91.03% (loss 0.674, F1 0.8786)\n",
            "[d192_L12] ** Saved new BEST ** (val_acc=91.03%) \u2192 checkpoints/d192_L12_best.pt\n"
          ]
        },
        {
          "output_type": "display_data",
          "data": {
            "text/plain": [
              "[d192_L12] Epoch 07:   0%|          | 0/663 [00:00<?, ?it/s]"
            ],
            "application/vnd.jupyter.widget-view+json": {
              "version_major": 2,
              "version_minor": 0,
              "model_id": "f1439e7794a8424ebba2c75f220b7bca"
            }
          },
          "metadata": {}
        },
        {
          "output_type": "stream",
          "name": "stdout",
          "text": [
            "[d192_L12] Epoch 07 \u2014 Train 92.69% (loss 0.618, F1 0.8972) | Val 92.77% (loss 0.620, F1 0.8974)\n",
            "[d192_L12] ** Saved new BEST ** (val_acc=92.77%) \u2192 checkpoints/d192_L12_best.pt\n"
          ]
        },
        {
          "output_type": "display_data",
          "data": {
            "text/plain": [
              "[d192_L12] Epoch 08:   0%|          | 0/663 [00:00<?, ?it/s]"
            ],
            "application/vnd.jupyter.widget-view+json": {
              "version_major": 2,
              "version_minor": 0,
              "model_id": "399e2b0067b34c03bd744d966dc60de6"
            }
          },
          "metadata": {}
        },
        {
          "output_type": "stream",
          "name": "stdout",
          "text": [
            "[d192_L12] Epoch 08 \u2014 Train 93.03% (loss 0.604, F1 0.9005) | Val 92.98% (loss 0.605, F1 0.8988)\n",
            "[d192_L12] ** Saved new BEST ** (val_acc=92.98%) \u2192 checkpoints/d192_L12_best.pt\n"
          ]
        },
        {
          "output_type": "display_data",
          "data": {
            "text/plain": [
              "[d192_L12] Epoch 09:   0%|          | 0/663 [00:00<?, ?it/s]"
            ],
            "application/vnd.jupyter.widget-view+json": {
              "version_major": 2,
              "version_minor": 0,
              "model_id": "d1ed8119f0a74828a7e070187a0aae53"
            }
          },
          "metadata": {}
        },
        {
          "output_type": "stream",
          "name": "stdout",
          "text": [
            "[d192_L12] Epoch 09 \u2014 Train 93.50% (loss 0.589, F1 0.9047) | Val 93.18% (loss 0.600, F1 0.9019)\n",
            "[d192_L12] ** Saved new BEST ** (val_acc=93.18%) \u2192 checkpoints/d192_L12_best.pt\n"
          ]
        },
        {
          "output_type": "display_data",
          "data": {
            "text/plain": [
              "[d192_L12] Epoch 10:   0%|          | 0/663 [00:00<?, ?it/s]"
            ],
            "application/vnd.jupyter.widget-view+json": {
              "version_major": 2,
              "version_minor": 0,
              "model_id": "603518a7ea3e4198a6d2486f709cfdd0"
            }
          },
          "metadata": {}
        },
        {
          "output_type": "stream",
          "name": "stdout",
          "text": [
            "[d192_L12] Epoch 10 \u2014 Train 94.43% (loss 0.559, F1 0.9133) | Val 94.05% (loss 0.571, F1 0.9092)\n",
            "[d192_L12] ** Saved new BEST ** (val_acc=94.05%) \u2192 checkpoints/d192_L12_best.pt\n"
          ]
        },
        {
          "output_type": "display_data",
          "data": {
            "text/plain": [
              "[d192_L12] Epoch 11:   0%|          | 0/663 [00:00<?, ?it/s]"
            ],
            "application/vnd.jupyter.widget-view+json": {
              "version_major": 2,
              "version_minor": 0,
              "model_id": "ca7f38b6456d4c779438bb2f0efeece3"
            }
          },
          "metadata": {}
        },
        {
          "output_type": "stream",
          "name": "stdout",
          "text": [
            "[d192_L12] Epoch 11 \u2014 Train 94.59% (loss 0.551, F1 0.9160) | Val 94.09% (loss 0.567, F1 0.9101)\n",
            "[d192_L12] ** Saved new BEST ** (val_acc=94.09%) \u2192 checkpoints/d192_L12_best.pt\n"
          ]
        },
        {
          "output_type": "display_data",
          "data": {
            "text/plain": [
              "[d192_L12] Epoch 12:   0%|          | 0/663 [00:00<?, ?it/s]"
            ],
            "application/vnd.jupyter.widget-view+json": {
              "version_major": 2,
              "version_minor": 0,
              "model_id": "90226e0f8c33469b90b3e281d7004318"
            }
          },
          "metadata": {}
        },
        {
          "output_type": "stream",
          "name": "stdout",
          "text": [
            "[d192_L12] Epoch 12 \u2014 Train 94.95% (loss 0.535, F1 0.9189) | Val 94.07% (loss 0.558, F1 0.9104)\n"
          ]
        },
        {
          "output_type": "display_data",
          "data": {
            "text/plain": [
              "[d192_L12] Epoch 13:   0%|          | 0/663 [00:00<?, ?it/s]"
            ],
            "application/vnd.jupyter.widget-view+json": {
              "version_major": 2,
              "version_minor": 0,
              "model_id": "bac516e95474420fabd8b83e2fccbd2b"
            }
          },
          "metadata": {}
        },
        {
          "output_type": "stream",
          "name": "stdout",
          "text": [
            "[d192_L12] Epoch 13 \u2014 Train 95.60% (loss 0.516, F1 0.9257) | Val 94.81% (loss 0.533, F1 0.9182)\n",
            "[d192_L12] ** Saved new BEST ** (val_acc=94.81%) \u2192 checkpoints/d192_L12_best.pt\n"
          ]
        },
        {
          "output_type": "display_data",
          "data": {
            "text/plain": [
              "[d192_L12] Epoch 14:   0%|          | 0/663 [00:00<?, ?it/s]"
            ],
            "application/vnd.jupyter.widget-view+json": {
              "version_major": 2,
              "version_minor": 0,
              "model_id": "b35d461cb9fa4003a53251d307f9ccd9"
            }
          },
          "metadata": {}
        },
        {
          "output_type": "stream",
          "name": "stdout",
          "text": [
            "[d192_L12] Epoch 14 \u2014 Train 95.64% (loss 0.515, F1 0.9250) | Val 94.71% (loss 0.544, F1 0.9141)\n"
          ]
        },
        {
          "output_type": "display_data",
          "data": {
            "text/plain": [
              "[d192_L12] Epoch 15:   0%|          | 0/663 [00:00<?, ?it/s]"
            ],
            "application/vnd.jupyter.widget-view+json": {
              "version_major": 2,
              "version_minor": 0,
              "model_id": "cf82bcd6e7364395a3f04745a9fbbf8d"
            }
          },
          "metadata": {}
        },
        {
          "output_type": "stream",
          "name": "stdout",
          "text": [
            "[d192_L12] Epoch 15 \u2014 Train 95.80% (loss 0.511, F1 0.9281) | Val 94.72% (loss 0.540, F1 0.9168)\n"
          ]
        },
        {
          "output_type": "display_data",
          "data": {
            "text/plain": [
              "[d192_L12] Epoch 16:   0%|          | 0/663 [00:00<?, ?it/s]"
            ],
            "application/vnd.jupyter.widget-view+json": {
              "version_major": 2,
              "version_minor": 0,
              "model_id": "41b0e14355bd4d2d985455d39c5ce5e9"
            }
          },
          "metadata": {}
        },
        {
          "output_type": "stream",
          "name": "stdout",
          "text": [
            "[d192_L12] Epoch 16 \u2014 Train 96.28% (loss 0.492, F1 0.9334) | Val 95.24% (loss 0.523, F1 0.9213)\n",
            "[d192_L12] ** Saved new BEST ** (val_acc=95.24%) \u2192 checkpoints/d192_L12_best.pt\n"
          ]
        },
        {
          "output_type": "display_data",
          "data": {
            "text/plain": [
              "[d192_L12] Epoch 17:   0%|          | 0/663 [00:00<?, ?it/s]"
            ],
            "application/vnd.jupyter.widget-view+json": {
              "version_major": 2,
              "version_minor": 0,
              "model_id": "2a7089e4c9144140b5459a53858f71ae"
            }
          },
          "metadata": {}
        },
        {
          "output_type": "stream",
          "name": "stdout",
          "text": [
            "[d192_L12] Epoch 17 \u2014 Train 96.44% (loss 0.489, F1 0.9346) | Val 95.66% (loss 0.515, F1 0.9270)\n",
            "[d192_L12] ** Saved new BEST ** (val_acc=95.66%) \u2192 checkpoints/d192_L12_best.pt\n"
          ]
        },
        {
          "output_type": "display_data",
          "data": {
            "text/plain": [
              "[d192_L12] Epoch 18:   0%|          | 0/663 [00:00<?, ?it/s]"
            ],
            "application/vnd.jupyter.widget-view+json": {
              "version_major": 2,
              "version_minor": 0,
              "model_id": "bc0fac51be1f461facca594e50108f99"
            }
          },
          "metadata": {}
        },
        {
          "output_type": "stream",
          "name": "stdout",
          "text": [
            "[d192_L12] Epoch 18 \u2014 Train 96.36% (loss 0.488, F1 0.9354) | Val 95.28% (loss 0.527, F1 0.9238)\n"
          ]
        },
        {
          "output_type": "display_data",
          "data": {
            "text/plain": [
              "[d192_L12] Epoch 19:   0%|          | 0/663 [00:00<?, ?it/s]"
            ],
            "application/vnd.jupyter.widget-view+json": {
              "version_major": 2,
              "version_minor": 0,
              "model_id": "833fda3e75964669af14ebf9b887b8b6"
            }
          },
          "metadata": {}
        },
        {
          "output_type": "stream",
          "name": "stdout",
          "text": [
            "[d192_L12] Epoch 19 \u2014 Train 96.61% (loss 0.481, F1 0.9370) | Val 95.54% (loss 0.517, F1 0.9253)\n"
          ]
        },
        {
          "output_type": "display_data",
          "data": {
            "text/plain": [
              "[d192_L12] Epoch 20:   0%|          | 0/663 [00:00<?, ?it/s]"
            ],
            "application/vnd.jupyter.widget-view+json": {
              "version_major": 2,
              "version_minor": 0,
              "model_id": "3bd0428b918d4a96be11aa2ee0c6c5d9"
            }
          },
          "metadata": {}
        },
        {
          "output_type": "stream",
          "name": "stdout",
          "text": [
            "[d192_L12] Epoch 20 \u2014 Train 96.84% (loss 0.476, F1 0.9384) | Val 95.72% (loss 0.510, F1 0.9258)\n",
            "[d192_L12] ** Saved new BEST ** (val_acc=95.72%) \u2192 checkpoints/d192_L12_best.pt\n"
          ]
        },
        {
          "output_type": "display_data",
          "data": {
            "text/plain": [
              "[d192_L12] Epoch 21:   0%|          | 0/663 [00:00<?, ?it/s]"
            ],
            "application/vnd.jupyter.widget-view+json": {
              "version_major": 2,
              "version_minor": 0,
              "model_id": "d96a823f1d3f487b8c238d21a5c49ef8"
            }
          },
          "metadata": {}
        },
        {
          "output_type": "stream",
          "name": "stdout",
          "text": [
            "[d192_L12] Epoch 21 \u2014 Train 97.08% (loss 0.466, F1 0.9417) | Val 96.02% (loss 0.500, F1 0.9297)\n",
            "[d192_L12] ** Saved new BEST ** (val_acc=96.02%) \u2192 checkpoints/d192_L12_best.pt\n"
          ]
        },
        {
          "output_type": "display_data",
          "data": {
            "text/plain": [
              "[d192_L12] Epoch 22:   0%|          | 0/663 [00:00<?, ?it/s]"
            ],
            "application/vnd.jupyter.widget-view+json": {
              "version_major": 2,
              "version_minor": 0,
              "model_id": "2d02fee81ae448549490bed1bea6ac3c"
            }
          },
          "metadata": {}
        },
        {
          "output_type": "stream",
          "name": "stdout",
          "text": [
            "[d192_L12] Epoch 22 \u2014 Train 97.12% (loss 0.465, F1 0.9424) | Val 95.98% (loss 0.497, F1 0.9292)\n"
          ]
        },
        {
          "output_type": "display_data",
          "data": {
            "text/plain": [
              "[d192_L12] Epoch 23:   0%|          | 0/663 [00:00<?, ?it/s]"
            ],
            "application/vnd.jupyter.widget-view+json": {
              "version_major": 2,
              "version_minor": 0,
              "model_id": "66a028019a624f6fa5333167fbced878"
            }
          },
          "metadata": {}
        },
        {
          "output_type": "stream",
          "name": "stdout",
          "text": [
            "[d192_L12] Epoch 23 \u2014 Train 97.37% (loss 0.458, F1 0.9439) | Val 96.00% (loss 0.499, F1 0.9283)\n"
          ]
        },
        {
          "output_type": "display_data",
          "data": {
            "text/plain": [
              "[d192_L12] Epoch 24:   0%|          | 0/663 [00:00<?, ?it/s]"
            ],
            "application/vnd.jupyter.widget-view+json": {
              "version_major": 2,
              "version_minor": 0,
              "model_id": "67de7f24501a48cba6778a36db8d6fec"
            }
          },
          "metadata": {}
        },
        {
          "output_type": "stream",
          "name": "stdout",
          "text": [
            "[d192_L12] Epoch 24 \u2014 Train 97.31% (loss 0.459, F1 0.9445) | Val 95.93% (loss 0.499, F1 0.9296)\n"
          ]
        },
        {
          "output_type": "display_data",
          "data": {
            "text/plain": [
              "[d192_L12] Epoch 25:   0%|          | 0/663 [00:00<?, ?it/s]"
            ],
            "application/vnd.jupyter.widget-view+json": {
              "version_major": 2,
              "version_minor": 0,
              "model_id": "8830762e0a234e2382c55c3142773157"
            }
          },
          "metadata": {}
        },
        {
          "output_type": "stream",
          "name": "stdout",
          "text": [
            "[d192_L12] Epoch 25 \u2014 Train 97.42% (loss 0.456, F1 0.9448) | Val 96.05% (loss 0.494, F1 0.9301)\n",
            "[d192_L12] ** Saved new BEST ** (val_acc=96.05%) \u2192 checkpoints/d192_L12_best.pt\n"
          ]
        },
        {
          "output_type": "display_data",
          "data": {
            "text/plain": [
              "[d192_L12] Epoch 26:   0%|          | 0/663 [00:00<?, ?it/s]"
            ],
            "application/vnd.jupyter.widget-view+json": {
              "version_major": 2,
              "version_minor": 0,
              "model_id": "208c5bce11044c2c877a2f7c25881b8a"
            }
          },
          "metadata": {}
        },
        {
          "output_type": "stream",
          "name": "stdout",
          "text": [
            "[d192_L12] Epoch 26 \u2014 Train 97.58% (loss 0.450, F1 0.9471) | Val 95.92% (loss 0.498, F1 0.9292)\n"
          ]
        },
        {
          "output_type": "display_data",
          "data": {
            "text/plain": [
              "[d192_L12] Epoch 27:   0%|          | 0/663 [00:00<?, ?it/s]"
            ],
            "application/vnd.jupyter.widget-view+json": {
              "version_major": 2,
              "version_minor": 0,
              "model_id": "a733eb90a87b4b04906baefea246bb97"
            }
          },
          "metadata": {}
        },
        {
          "output_type": "stream",
          "name": "stdout",
          "text": [
            "[d192_L12] Epoch 27 \u2014 Train 97.71% (loss 0.446, F1 0.9483) | Val 96.43% (loss 0.489, F1 0.9344)\n",
            "[d192_L12] ** Saved new BEST ** (val_acc=96.43%) \u2192 checkpoints/d192_L12_best.pt\n"
          ]
        },
        {
          "output_type": "display_data",
          "data": {
            "text/plain": [
              "[d192_L12] Epoch 28:   0%|          | 0/663 [00:00<?, ?it/s]"
            ],
            "application/vnd.jupyter.widget-view+json": {
              "version_major": 2,
              "version_minor": 0,
              "model_id": "53588ad203044a179effc22eaea98fe1"
            }
          },
          "metadata": {}
        },
        {
          "output_type": "stream",
          "name": "stdout",
          "text": [
            "[d192_L12] Epoch 28 \u2014 Train 97.64% (loss 0.448, F1 0.9478) | Val 96.31% (loss 0.489, F1 0.9342)\n"
          ]
        },
        {
          "output_type": "display_data",
          "data": {
            "text/plain": [
              "[d192_L12] Epoch 29:   0%|          | 0/663 [00:00<?, ?it/s]"
            ],
            "application/vnd.jupyter.widget-view+json": {
              "version_major": 2,
              "version_minor": 0,
              "model_id": "f027b6f108f448e8b916d463f3caafbc"
            }
          },
          "metadata": {}
        },
        {
          "output_type": "stream",
          "name": "stdout",
          "text": [
            "[d192_L12] Epoch 29 \u2014 Train 97.58% (loss 0.449, F1 0.9470) | Val 95.78% (loss 0.501, F1 0.9268)\n"
          ]
        },
        {
          "output_type": "display_data",
          "data": {
            "text/plain": [
              "[d192_L12] Epoch 30:   0%|          | 0/663 [00:00<?, ?it/s]"
            ],
            "application/vnd.jupyter.widget-view+json": {
              "version_major": 2,
              "version_minor": 0,
              "model_id": "d91e7fc985344edaa22096878e9d12a4"
            }
          },
          "metadata": {}
        },
        {
          "output_type": "stream",
          "name": "stdout",
          "text": [
            "[d192_L12] Epoch 30 \u2014 Train 97.92% (loss 0.441, F1 0.9504) | Val 96.28% (loss 0.491, F1 0.9325)\n"
          ]
        },
        {
          "output_type": "display_data",
          "data": {
            "text/plain": [
              "[d192_L12] Epoch 31:   0%|          | 0/663 [00:00<?, ?it/s]"
            ],
            "application/vnd.jupyter.widget-view+json": {
              "version_major": 2,
              "version_minor": 0,
              "model_id": "a94adf75ddea4794b5577acba5dbcadc"
            }
          },
          "metadata": {}
        },
        {
          "output_type": "stream",
          "name": "stdout",
          "text": [
            "[d192_L12] Epoch 31 \u2014 Train 97.87% (loss 0.441, F1 0.9503) | Val 96.19% (loss 0.495, F1 0.9319)\n"
          ]
        },
        {
          "output_type": "display_data",
          "data": {
            "text/plain": [
              "[d192_L12] Epoch 32:   0%|          | 0/663 [00:00<?, ?it/s]"
            ],
            "application/vnd.jupyter.widget-view+json": {
              "version_major": 2,
              "version_minor": 0,
              "model_id": "2354da56bc774c89b019f7844213fc02"
            }
          },
          "metadata": {}
        },
        {
          "output_type": "stream",
          "name": "stdout",
          "text": [
            "[d192_L12] Epoch 32 \u2014 Train 98.04% (loss 0.435, F1 0.9519) | Val 96.20% (loss 0.491, F1 0.9319)\n"
          ]
        },
        {
          "output_type": "display_data",
          "data": {
            "text/plain": [
              "[d192_L12] Epoch 33:   0%|          | 0/663 [00:00<?, ?it/s]"
            ],
            "application/vnd.jupyter.widget-view+json": {
              "version_major": 2,
              "version_minor": 0,
              "model_id": "0a1ebc6825274dcb8ace8c325cfd5d87"
            }
          },
          "metadata": {}
        },
        {
          "output_type": "stream",
          "name": "stdout",
          "text": [
            "[d192_L12] Epoch 33 \u2014 Train 98.18% (loss 0.432, F1 0.9536) | Val 96.35% (loss 0.489, F1 0.9339)\n"
          ]
        },
        {
          "output_type": "display_data",
          "data": {
            "text/plain": [
              "[d192_L12] Epoch 34:   0%|          | 0/663 [00:00<?, ?it/s]"
            ],
            "application/vnd.jupyter.widget-view+json": {
              "version_major": 2,
              "version_minor": 0,
              "model_id": "2a21e18a2ea44e94916f364aa8ec96f4"
            }
          },
          "metadata": {}
        },
        {
          "output_type": "stream",
          "name": "stdout",
          "text": [
            "[d192_L12] Epoch 34 \u2014 Train 98.22% (loss 0.429, F1 0.9540) | Val 96.21% (loss 0.493, F1 0.9326)\n"
          ]
        },
        {
          "output_type": "display_data",
          "data": {
            "text/plain": [
              "[d192_L12] Epoch 35:   0%|          | 0/663 [00:00<?, ?it/s]"
            ],
            "application/vnd.jupyter.widget-view+json": {
              "version_major": 2,
              "version_minor": 0,
              "model_id": "6a8ba6ccaf464b67a716af7fb673abb9"
            }
          },
          "metadata": {}
        },
        {
          "output_type": "stream",
          "name": "stdout",
          "text": [
            "[d192_L12] Epoch 35 \u2014 Train 98.24% (loss 0.428, F1 0.9536) | Val 96.21% (loss 0.490, F1 0.9315)\n"
          ]
        },
        {
          "output_type": "display_data",
          "data": {
            "text/plain": [
              "[d192_L12] Epoch 36:   0%|          | 0/663 [00:00<?, ?it/s]"
            ],
            "application/vnd.jupyter.widget-view+json": {
              "version_major": 2,
              "version_minor": 0,
              "model_id": "0e675f2beb5d47dab4a6ba5547737160"
            }
          },
          "metadata": {}
        },
        {
          "output_type": "stream",
          "name": "stdout",
          "text": [
            "[d192_L12] Epoch 36 \u2014 Train 98.30% (loss 0.428, F1 0.9546) | Val 96.27% (loss 0.494, F1 0.9326)\n"
          ]
        },
        {
          "output_type": "display_data",
          "data": {
            "text/plain": [
              "[d192_L12] Epoch 37:   0%|          | 0/663 [00:00<?, ?it/s]"
            ],
            "application/vnd.jupyter.widget-view+json": {
              "version_major": 2,
              "version_minor": 0,
              "model_id": "7c7217180aa340678b6481a20a8c016e"
            }
          },
          "metadata": {}
        },
        {
          "output_type": "stream",
          "name": "stdout",
          "text": [
            "[d192_L12] Epoch 37 \u2014 Train 98.28% (loss 0.427, F1 0.9541) | Val 96.48% (loss 0.489, F1 0.9345)\n",
            "[d192_L12] ** Saved new BEST ** (val_acc=96.48%) \u2192 checkpoints/d192_L12_best.pt\n"
          ]
        },
        {
          "output_type": "display_data",
          "data": {
            "text/plain": [
              "[d192_L12] Epoch 38:   0%|          | 0/663 [00:00<?, ?it/s]"
            ],
            "application/vnd.jupyter.widget-view+json": {
              "version_major": 2,
              "version_minor": 0,
              "model_id": "7693faf3a9da419f891781647397091f"
            }
          },
          "metadata": {}
        },
        {
          "output_type": "stream",
          "name": "stdout",
          "text": [
            "[d192_L12] Epoch 38 \u2014 Train 98.35% (loss 0.424, F1 0.9545) | Val 96.28% (loss 0.493, F1 0.9326)\n"
          ]
        },
        {
          "output_type": "display_data",
          "data": {
            "text/plain": [
              "[d192_L12] Epoch 39:   0%|          | 0/663 [00:00<?, ?it/s]"
            ],
            "application/vnd.jupyter.widget-view+json": {
              "version_major": 2,
              "version_minor": 0,
              "model_id": "ecfcf8217f1c4eb4b1e360cb733fdddb"
            }
          },
          "metadata": {}
        },
        {
          "output_type": "stream",
          "name": "stdout",
          "text": [
            "[d192_L12] Epoch 39 \u2014 Train 98.48% (loss 0.421, F1 0.9567) | Val 96.27% (loss 0.495, F1 0.9329)\n"
          ]
        },
        {
          "output_type": "display_data",
          "data": {
            "text/plain": [
              "[d192_L12] Epoch 40:   0%|          | 0/663 [00:00<?, ?it/s]"
            ],
            "application/vnd.jupyter.widget-view+json": {
              "version_major": 2,
              "version_minor": 0,
              "model_id": "29d28b3a19034671abb7c2d8fc05e48f"
            }
          },
          "metadata": {}
        },
        {
          "output_type": "stream",
          "name": "stdout",
          "text": [
            "[d192_L12] Epoch 40 \u2014 Train 98.54% (loss 0.419, F1 0.9571) | Val 96.39% (loss 0.487, F1 0.9334)\n"
          ]
        },
        {
          "output_type": "display_data",
          "data": {
            "text/plain": [
              "[d192_L12] Epoch 41:   0%|          | 0/663 [00:00<?, ?it/s]"
            ],
            "application/vnd.jupyter.widget-view+json": {
              "version_major": 2,
              "version_minor": 0,
              "model_id": "1c45c4ffa22743c5b98d859ab52ff049"
            }
          },
          "metadata": {}
        },
        {
          "output_type": "stream",
          "name": "stdout",
          "text": [
            "[d192_L12] Epoch 41 \u2014 Train 98.49% (loss 0.420, F1 0.9563) | Val 96.25% (loss 0.489, F1 0.9326)\n"
          ]
        },
        {
          "output_type": "display_data",
          "data": {
            "text/plain": [
              "[d192_L12] Epoch 42:   0%|          | 0/663 [00:00<?, ?it/s]"
            ],
            "application/vnd.jupyter.widget-view+json": {
              "version_major": 2,
              "version_minor": 0,
              "model_id": "3dda4920112545f890bbc19c4ce7ed79"
            }
          },
          "metadata": {}
        },
        {
          "output_type": "stream",
          "name": "stdout",
          "text": [
            "[d192_L12] Epoch 42 \u2014 Train 98.60% (loss 0.417, F1 0.9573) | Val 96.22% (loss 0.492, F1 0.9310)\n"
          ]
        },
        {
          "output_type": "display_data",
          "data": {
            "text/plain": [
              "[d192_L12] Epoch 43:   0%|          | 0/663 [00:00<?, ?it/s]"
            ],
            "application/vnd.jupyter.widget-view+json": {
              "version_major": 2,
              "version_minor": 0,
              "model_id": "b91bddc19d314887af44ae5121b9264a"
            }
          },
          "metadata": {}
        },
        {
          "output_type": "stream",
          "name": "stdout",
          "text": [
            "[d192_L12] Epoch 43 \u2014 Train 98.74% (loss 0.413, F1 0.9681) | Val 96.34% (loss 0.488, F1 0.9330)\n"
          ]
        },
        {
          "output_type": "display_data",
          "data": {
            "text/plain": [
              "[d192_L12] Epoch 44:   0%|          | 0/663 [00:00<?, ?it/s]"
            ],
            "application/vnd.jupyter.widget-view+json": {
              "version_major": 2,
              "version_minor": 0,
              "model_id": "cb4b7c21f2a7410480b951ee167b844f"
            }
          },
          "metadata": {}
        },
        {
          "output_type": "stream",
          "name": "stdout",
          "text": [
            "[d192_L12] Epoch 44 \u2014 Train 98.74% (loss 0.412, F1 0.9590) | Val 96.52% (loss 0.489, F1 0.9348)\n",
            "[d192_L12] ** Saved new BEST ** (val_acc=96.52%) \u2192 checkpoints/d192_L12_best.pt\n"
          ]
        },
        {
          "output_type": "display_data",
          "data": {
            "text/plain": [
              "[d192_L12] Epoch 45:   0%|          | 0/663 [00:00<?, ?it/s]"
            ],
            "application/vnd.jupyter.widget-view+json": {
              "version_major": 2,
              "version_minor": 0,
              "model_id": "4e8ba4f8e4714747945228d52d6cc772"
            }
          },
          "metadata": {}
        },
        {
          "output_type": "stream",
          "name": "stdout",
          "text": [
            "[d192_L12] Epoch 45 \u2014 Train 98.84% (loss 0.410, F1 0.9696) | Val 96.63% (loss 0.486, F1 0.9355)\n",
            "[d192_L12] ** Saved new BEST ** (val_acc=96.63%) \u2192 checkpoints/d192_L12_best.pt\n"
          ]
        },
        {
          "output_type": "display_data",
          "data": {
            "text/plain": [
              "[d192_L12] Epoch 46:   0%|          | 0/663 [00:00<?, ?it/s]"
            ],
            "application/vnd.jupyter.widget-view+json": {
              "version_major": 2,
              "version_minor": 0,
              "model_id": "61cb8d93e957469081fa91c04f36e3fb"
            }
          },
          "metadata": {}
        },
        {
          "output_type": "stream",
          "name": "stdout",
          "text": [
            "[d192_L12] Epoch 46 \u2014 Train 98.84% (loss 0.409, F1 0.9762) | Val 96.47% (loss 0.487, F1 0.9346)\n"
          ]
        },
        {
          "output_type": "display_data",
          "data": {
            "text/plain": [
              "[d192_L12] Epoch 47:   0%|          | 0/663 [00:00<?, ?it/s]"
            ],
            "application/vnd.jupyter.widget-view+json": {
              "version_major": 2,
              "version_minor": 0,
              "model_id": "67d638d4ad1d415dbe73b2b8022470f3"
            }
          },
          "metadata": {}
        },
        {
          "output_type": "stream",
          "name": "stdout",
          "text": [
            "[d192_L12] Epoch 47 \u2014 Train 98.84% (loss 0.408, F1 0.9761) | Val 96.51% (loss 0.484, F1 0.9350)\n"
          ]
        },
        {
          "output_type": "display_data",
          "data": {
            "text/plain": [
              "[d192_L12] Epoch 48:   0%|          | 0/663 [00:00<?, ?it/s]"
            ],
            "application/vnd.jupyter.widget-view+json": {
              "version_major": 2,
              "version_minor": 0,
              "model_id": "6e68b51735114284bddc874c680714b0"
            }
          },
          "metadata": {}
        },
        {
          "output_type": "stream",
          "name": "stdout",
          "text": [
            "[d192_L12] Epoch 48 \u2014 Train 98.87% (loss 0.408, F1 0.9762) | Val 96.28% (loss 0.488, F1 0.9315)\n"
          ]
        },
        {
          "output_type": "display_data",
          "data": {
            "text/plain": [
              "[d192_L12] Epoch 49:   0%|          | 0/663 [00:00<?, ?it/s]"
            ],
            "application/vnd.jupyter.widget-view+json": {
              "version_major": 2,
              "version_minor": 0,
              "model_id": "7b43fa87250d4d37b34362a33ef77257"
            }
          },
          "metadata": {}
        },
        {
          "output_type": "stream",
          "name": "stdout",
          "text": [
            "[d192_L12] Epoch 49 \u2014 Train 98.96% (loss 0.406, F1 0.9775) | Val 96.64% (loss 0.482, F1 0.9362)\n",
            "[d192_L12] ** Saved new BEST ** (val_acc=96.64%) \u2192 checkpoints/d192_L12_best.pt\n"
          ]
        },
        {
          "output_type": "display_data",
          "data": {
            "text/plain": [
              "[d192_L12] Epoch 50:   0%|          | 0/663 [00:00<?, ?it/s]"
            ],
            "application/vnd.jupyter.widget-view+json": {
              "version_major": 2,
              "version_minor": 0,
              "model_id": "92080871b2e3480bbe0614ce394be7d3"
            }
          },
          "metadata": {}
        },
        {
          "output_type": "stream",
          "name": "stdout",
          "text": [
            "[d192_L12] Epoch 50 \u2014 Train 98.98% (loss 0.404, F1 0.9775) | Val 96.60% (loss 0.486, F1 0.9351)\n"
          ]
        },
        {
          "output_type": "display_data",
          "data": {
            "text/plain": [
              "[d192_L12] Epoch 51:   0%|          | 0/663 [00:00<?, ?it/s]"
            ],
            "application/vnd.jupyter.widget-view+json": {
              "version_major": 2,
              "version_minor": 0,
              "model_id": "bc64ed2d41284c04aca058a838f02f5b"
            }
          },
          "metadata": {}
        },
        {
          "output_type": "stream",
          "name": "stdout",
          "text": [
            "[d192_L12] Epoch 51 \u2014 Train 99.07% (loss 0.402, F1 0.9786) | Val 96.60% (loss 0.485, F1 0.9358)\n"
          ]
        },
        {
          "output_type": "display_data",
          "data": {
            "text/plain": [
              "[d192_L12] Epoch 52:   0%|          | 0/663 [00:00<?, ?it/s]"
            ],
            "application/vnd.jupyter.widget-view+json": {
              "version_major": 2,
              "version_minor": 0,
              "model_id": "42b3d2b3beed4d9fb119c09d2d729646"
            }
          },
          "metadata": {}
        },
        {
          "output_type": "stream",
          "name": "stdout",
          "text": [
            "[d192_L12] Epoch 52 \u2014 Train 99.03% (loss 0.403, F1 0.9781) | Val 96.66% (loss 0.488, F1 0.9359)\n",
            "[d192_L12] ** Saved new BEST ** (val_acc=96.66%) \u2192 checkpoints/d192_L12_best.pt\n"
          ]
        },
        {
          "output_type": "display_data",
          "data": {
            "text/plain": [
              "[d192_L12] Epoch 53:   0%|          | 0/663 [00:00<?, ?it/s]"
            ],
            "application/vnd.jupyter.widget-view+json": {
              "version_major": 2,
              "version_minor": 0,
              "model_id": "3a0a9dc41880441fa4e6035b175b7eac"
            }
          },
          "metadata": {}
        },
        {
          "output_type": "stream",
          "name": "stdout",
          "text": [
            "[d192_L12] Epoch 53 \u2014 Train 99.10% (loss 0.400, F1 0.9788) | Val 96.67% (loss 0.483, F1 0.9359)\n",
            "[d192_L12] ** Saved new BEST ** (val_acc=96.67%) \u2192 checkpoints/d192_L12_best.pt\n"
          ]
        },
        {
          "output_type": "display_data",
          "data": {
            "text/plain": [
              "[d192_L12] Epoch 54:   0%|          | 0/663 [00:00<?, ?it/s]"
            ],
            "application/vnd.jupyter.widget-view+json": {
              "version_major": 2,
              "version_minor": 0,
              "model_id": "1673c3ac53d141d39f5011878b233d41"
            }
          },
          "metadata": {}
        },
        {
          "output_type": "stream",
          "name": "stdout",
          "text": [
            "[d192_L12] Epoch 54 \u2014 Train 99.13% (loss 0.399, F1 0.9725) | Val 96.56% (loss 0.484, F1 0.9352)\n"
          ]
        },
        {
          "output_type": "display_data",
          "data": {
            "text/plain": [
              "[d192_L12] Epoch 55:   0%|          | 0/663 [00:00<?, ?it/s]"
            ],
            "application/vnd.jupyter.widget-view+json": {
              "version_major": 2,
              "version_minor": 0,
              "model_id": "1bba5f6996b042a9b4fadeb39d6f5226"
            }
          },
          "metadata": {}
        },
        {
          "output_type": "stream",
          "name": "stdout",
          "text": [
            "[d192_L12] Epoch 55 \u2014 Train 99.14% (loss 0.400, F1 0.9792) | Val 96.48% (loss 0.491, F1 0.9343)\n"
          ]
        },
        {
          "output_type": "display_data",
          "data": {
            "text/plain": [
              "[d192_L12] Epoch 56:   0%|          | 0/663 [00:00<?, ?it/s]"
            ],
            "application/vnd.jupyter.widget-view+json": {
              "version_major": 2,
              "version_minor": 0,
              "model_id": "8ef5996d66ac4fa8b8f6b542de2151a7"
            }
          },
          "metadata": {}
        },
        {
          "output_type": "stream",
          "name": "stdout",
          "text": [
            "[d192_L12] Epoch 56 \u2014 Train 99.17% (loss 0.399, F1 0.9794) | Val 96.60% (loss 0.482, F1 0.9357)\n"
          ]
        },
        {
          "output_type": "display_data",
          "data": {
            "text/plain": [
              "[d192_L12] Epoch 57:   0%|          | 0/663 [00:00<?, ?it/s]"
            ],
            "application/vnd.jupyter.widget-view+json": {
              "version_major": 2,
              "version_minor": 0,
              "model_id": "f675eb3f47284ed2810487cae583ccd2"
            }
          },
          "metadata": {}
        },
        {
          "output_type": "stream",
          "name": "stdout",
          "text": [
            "[d192_L12] Epoch 57 \u2014 Train 99.16% (loss 0.398, F1 0.9793) | Val 96.61% (loss 0.487, F1 0.9358)\n"
          ]
        },
        {
          "output_type": "display_data",
          "data": {
            "text/plain": [
              "[d192_L12] Epoch 58:   0%|          | 0/663 [00:00<?, ?it/s]"
            ],
            "application/vnd.jupyter.widget-view+json": {
              "version_major": 2,
              "version_minor": 0,
              "model_id": "a7a92a463a49408a9ccf04f494a410e6"
            }
          },
          "metadata": {}
        },
        {
          "output_type": "stream",
          "name": "stdout",
          "text": [
            "[d192_L12] Epoch 58 \u2014 Train 99.17% (loss 0.398, F1 0.9792) | Val 96.44% (loss 0.489, F1 0.9335)\n"
          ]
        },
        {
          "output_type": "display_data",
          "data": {
            "text/plain": [
              "[d192_L12] Epoch 59:   0%|          | 0/663 [00:00<?, ?it/s]"
            ],
            "application/vnd.jupyter.widget-view+json": {
              "version_major": 2,
              "version_minor": 0,
              "model_id": "1c00618d51a143c797c98b734aa2c4e5"
            }
          },
          "metadata": {}
        },
        {
          "output_type": "stream",
          "name": "stdout",
          "text": [
            "[d192_L12] Epoch 59 \u2014 Train 99.27% (loss 0.395, F1 0.9806) | Val 96.55% (loss 0.486, F1 0.9353)\n"
          ]
        },
        {
          "output_type": "display_data",
          "data": {
            "text/plain": [
              "[d192_L12] Epoch 60:   0%|          | 0/663 [00:00<?, ?it/s]"
            ],
            "application/vnd.jupyter.widget-view+json": {
              "version_major": 2,
              "version_minor": 0,
              "model_id": "75aeb4479be045a892fda6ecf51da614"
            }
          },
          "metadata": {}
        },
        {
          "output_type": "stream",
          "name": "stdout",
          "text": [
            "[d192_L12] Epoch 60 \u2014 Train 99.29% (loss 0.394, F1 0.9807) | Val 96.57% (loss 0.489, F1 0.9356)\n"
          ]
        },
        {
          "output_type": "display_data",
          "data": {
            "text/plain": [
              "[d192_L12] Epoch 61:   0%|          | 0/663 [00:00<?, ?it/s]"
            ],
            "application/vnd.jupyter.widget-view+json": {
              "version_major": 2,
              "version_minor": 0,
              "model_id": "2d95e99eddd44170a755adffcca537ef"
            }
          },
          "metadata": {}
        },
        {
          "output_type": "stream",
          "name": "stdout",
          "text": [
            "[d192_L12] Epoch 61 \u2014 Train 99.35% (loss 0.392, F1 0.9815) | Val 96.67% (loss 0.487, F1 0.9366)\n"
          ]
        },
        {
          "output_type": "display_data",
          "data": {
            "text/plain": [
              "[d192_L12] Epoch 62:   0%|          | 0/663 [00:00<?, ?it/s]"
            ],
            "application/vnd.jupyter.widget-view+json": {
              "version_major": 2,
              "version_minor": 0,
              "model_id": "94edf5530db94cce85a7a80a8158a8fe"
            }
          },
          "metadata": {}
        },
        {
          "output_type": "stream",
          "name": "stdout",
          "text": [
            "[d192_L12] Epoch 62 \u2014 Train 99.35% (loss 0.393, F1 0.9814) | Val 96.58% (loss 0.488, F1 0.9360)\n"
          ]
        },
        {
          "output_type": "display_data",
          "data": {
            "text/plain": [
              "[d192_L12] Epoch 63:   0%|          | 0/663 [00:00<?, ?it/s]"
            ],
            "application/vnd.jupyter.widget-view+json": {
              "version_major": 2,
              "version_minor": 0,
              "model_id": "6b496ad80f68454d8c46fa81b89c25a4"
            }
          },
          "metadata": {}
        },
        {
          "output_type": "stream",
          "name": "stdout",
          "text": [
            "[d192_L12] Epoch 63 \u2014 Train 99.37% (loss 0.392, F1 0.9815) | Val 96.50% (loss 0.489, F1 0.9349)\n"
          ]
        },
        {
          "output_type": "display_data",
          "data": {
            "text/plain": [
              "[d192_L12] Epoch 64:   0%|          | 0/663 [00:00<?, ?it/s]"
            ],
            "application/vnd.jupyter.widget-view+json": {
              "version_major": 2,
              "version_minor": 0,
              "model_id": "c06fe10356c8424eba38ae8682d62fc2"
            }
          },
          "metadata": {}
        },
        {
          "output_type": "stream",
          "name": "stdout",
          "text": [
            "[d192_L12] Epoch 64 \u2014 Train 99.39% (loss 0.391, F1 0.9816) | Val 96.47% (loss 0.488, F1 0.9346)\n"
          ]
        },
        {
          "output_type": "display_data",
          "data": {
            "text/plain": [
              "[d192_L12] Epoch 65:   0%|          | 0/663 [00:00<?, ?it/s]"
            ],
            "application/vnd.jupyter.widget-view+json": {
              "version_major": 2,
              "version_minor": 0,
              "model_id": "ee3c3994fd5b4f92802a63d4afafa412"
            }
          },
          "metadata": {}
        },
        {
          "output_type": "stream",
          "name": "stdout",
          "text": [
            "[d192_L12] Epoch 65 \u2014 Train 99.40% (loss 0.390, F1 0.9818) | Val 96.72% (loss 0.488, F1 0.9372)\n",
            "[d192_L12] ** Saved new BEST ** (val_acc=96.72%) \u2192 checkpoints/d192_L12_best.pt\n"
          ]
        },
        {
          "output_type": "display_data",
          "data": {
            "text/plain": [
              "[d192_L12] Epoch 66:   0%|          | 0/663 [00:00<?, ?it/s]"
            ],
            "application/vnd.jupyter.widget-view+json": {
              "version_major": 2,
              "version_minor": 0,
              "model_id": "256e4668c32c4124807e7e6a86fd9310"
            }
          },
          "metadata": {}
        },
        {
          "output_type": "stream",
          "name": "stdout",
          "text": [
            "[d192_L12] Epoch 66 \u2014 Train 99.43% (loss 0.389, F1 0.9822) | Val 96.58% (loss 0.488, F1 0.9364)\n"
          ]
        },
        {
          "output_type": "display_data",
          "data": {
            "text/plain": [
              "[d192_L12] Epoch 67:   0%|          | 0/663 [00:00<?, ?it/s]"
            ],
            "application/vnd.jupyter.widget-view+json": {
              "version_major": 2,
              "version_minor": 0,
              "model_id": "a67ccc30a05846c49688e53a7db106f7"
            }
          },
          "metadata": {}
        },
        {
          "output_type": "stream",
          "name": "stdout",
          "text": [
            "[d192_L12] Epoch 67 \u2014 Train 99.43% (loss 0.389, F1 0.9823) | Val 96.56% (loss 0.490, F1 0.9353)\n"
          ]
        },
        {
          "output_type": "display_data",
          "data": {
            "text/plain": [
              "[d192_L12] Epoch 68:   0%|          | 0/663 [00:00<?, ?it/s]"
            ],
            "application/vnd.jupyter.widget-view+json": {
              "version_major": 2,
              "version_minor": 0,
              "model_id": "ea8f1eddd1d74e85b5cc97b226d87063"
            }
          },
          "metadata": {}
        },
        {
          "output_type": "stream",
          "name": "stdout",
          "text": [
            "[d192_L12] Epoch 68 \u2014 Train 99.46% (loss 0.388, F1 0.9824) | Val 96.68% (loss 0.486, F1 0.9368)\n"
          ]
        },
        {
          "output_type": "display_data",
          "data": {
            "text/plain": [
              "[d192_L12] Epoch 69:   0%|          | 0/663 [00:00<?, ?it/s]"
            ],
            "application/vnd.jupyter.widget-view+json": {
              "version_major": 2,
              "version_minor": 0,
              "model_id": "e15e79f75b364830a8f79133b4c58af5"
            }
          },
          "metadata": {}
        },
        {
          "output_type": "stream",
          "name": "stdout",
          "text": [
            "[d192_L12] Epoch 69 \u2014 Train 99.50% (loss 0.388, F1 0.9829) | Val 96.48% (loss 0.488, F1 0.9345)\n"
          ]
        },
        {
          "output_type": "display_data",
          "data": {
            "text/plain": [
              "[d192_L12] Epoch 70:   0%|          | 0/663 [00:00<?, ?it/s]"
            ],
            "application/vnd.jupyter.widget-view+json": {
              "version_major": 2,
              "version_minor": 0,
              "model_id": "48ce7a4f96e74b29be7c8713801d9d0f"
            }
          },
          "metadata": {}
        },
        {
          "output_type": "stream",
          "name": "stdout",
          "text": [
            "[d192_L12] Epoch 70 \u2014 Train 99.50% (loss 0.387, F1 0.9831) | Val 96.67% (loss 0.488, F1 0.9367)\n"
          ]
        },
        {
          "output_type": "display_data",
          "data": {
            "text/plain": [
              "[d192_L12] Epoch 71:   0%|          | 0/663 [00:00<?, ?it/s]"
            ],
            "application/vnd.jupyter.widget-view+json": {
              "version_major": 2,
              "version_minor": 0,
              "model_id": "a70d0232997741f58afc4ab3432d3155"
            }
          },
          "metadata": {}
        },
        {
          "output_type": "stream",
          "name": "stdout",
          "text": [
            "[d192_L12] Epoch 71 \u2014 Train 99.53% (loss 0.386, F1 0.9832) | Val 96.67% (loss 0.487, F1 0.9367)\n"
          ]
        },
        {
          "output_type": "display_data",
          "data": {
            "text/plain": [
              "[d192_L12] Epoch 72:   0%|          | 0/663 [00:00<?, ?it/s]"
            ],
            "application/vnd.jupyter.widget-view+json": {
              "version_major": 2,
              "version_minor": 0,
              "model_id": "3ccf486f246f4a848b5f0dabf31ce1c6"
            }
          },
          "metadata": {}
        },
        {
          "output_type": "stream",
          "name": "stdout",
          "text": [
            "[d192_L12] Epoch 72 \u2014 Train 99.53% (loss 0.386, F1 0.9834) | Val 96.66% (loss 0.487, F1 0.9364)\n"
          ]
        },
        {
          "output_type": "display_data",
          "data": {
            "text/plain": [
              "[d192_L12] Epoch 73:   0%|          | 0/663 [00:00<?, ?it/s]"
            ],
            "application/vnd.jupyter.widget-view+json": {
              "version_major": 2,
              "version_minor": 0,
              "model_id": "b9d5161076484984ad657db7a53d4a4d"
            }
          },
          "metadata": {}
        },
        {
          "output_type": "stream",
          "name": "stdout",
          "text": [
            "[d192_L12] Epoch 73 \u2014 Train 99.56% (loss 0.385, F1 0.9836) | Val 96.74% (loss 0.487, F1 0.9372)\n",
            "[d192_L12] ** Saved new BEST ** (val_acc=96.74%) \u2192 checkpoints/d192_L12_best.pt\n"
          ]
        },
        {
          "output_type": "display_data",
          "data": {
            "text/plain": [
              "[d192_L12] Epoch 74:   0%|          | 0/663 [00:00<?, ?it/s]"
            ],
            "application/vnd.jupyter.widget-view+json": {
              "version_major": 2,
              "version_minor": 0,
              "model_id": "27c5fd167f7843d08c253886af83a8ea"
            }
          },
          "metadata": {}
        },
        {
          "output_type": "stream",
          "name": "stdout",
          "text": [
            "[d192_L12] Epoch 74 \u2014 Train 99.55% (loss 0.385, F1 0.9836) | Val 96.65% (loss 0.488, F1 0.9365)\n"
          ]
        },
        {
          "output_type": "display_data",
          "data": {
            "text/plain": [
              "[d192_L12] Epoch 75:   0%|          | 0/663 [00:00<?, ?it/s]"
            ],
            "application/vnd.jupyter.widget-view+json": {
              "version_major": 2,
              "version_minor": 0,
              "model_id": "2eaf2f87f977417f9ac2c44930ae9cdb"
            }
          },
          "metadata": {}
        },
        {
          "output_type": "stream",
          "name": "stdout",
          "text": [
            "[d192_L12] Epoch 75 \u2014 Train 99.58% (loss 0.384, F1 0.9839) | Val 96.72% (loss 0.489, F1 0.9371)\n"
          ]
        },
        {
          "output_type": "display_data",
          "data": {
            "text/plain": [
              "[d192_L12] Epoch 76:   0%|          | 0/663 [00:00<?, ?it/s]"
            ],
            "application/vnd.jupyter.widget-view+json": {
              "version_major": 2,
              "version_minor": 0,
              "model_id": "d27f22eb3bde47ec950a02df60a8c476"
            }
          },
          "metadata": {}
        },
        {
          "output_type": "stream",
          "name": "stdout",
          "text": [
            "[d192_L12] Epoch 76 \u2014 Train 99.58% (loss 0.384, F1 0.9839) | Val 96.69% (loss 0.486, F1 0.9368)\n"
          ]
        },
        {
          "output_type": "display_data",
          "data": {
            "text/plain": [
              "[d192_L12] Epoch 77:   0%|          | 0/663 [00:00<?, ?it/s]"
            ],
            "application/vnd.jupyter.widget-view+json": {
              "version_major": 2,
              "version_minor": 0,
              "model_id": "83cdcd9973d746898d115dbe358547a9"
            }
          },
          "metadata": {}
        },
        {
          "output_type": "stream",
          "name": "stdout",
          "text": [
            "[d192_L12] Epoch 77 \u2014 Train 99.58% (loss 0.384, F1 0.9837) | Val 96.68% (loss 0.489, F1 0.9364)\n"
          ]
        },
        {
          "output_type": "display_data",
          "data": {
            "text/plain": [
              "[d192_L12] Epoch 78:   0%|          | 0/663 [00:00<?, ?it/s]"
            ],
            "application/vnd.jupyter.widget-view+json": {
              "version_major": 2,
              "version_minor": 0,
              "model_id": "69edef3fb6bf45f2b9cd5cb32fe815d8"
            }
          },
          "metadata": {}
        },
        {
          "output_type": "stream",
          "name": "stdout",
          "text": [
            "[d192_L12] Epoch 78 \u2014 Train 99.61% (loss 0.383, F1 0.9840) | Val 96.65% (loss 0.491, F1 0.9360)\n"
          ]
        },
        {
          "output_type": "display_data",
          "data": {
            "text/plain": [
              "[d192_L12] Epoch 79:   0%|          | 0/663 [00:00<?, ?it/s]"
            ],
            "application/vnd.jupyter.widget-view+json": {
              "version_major": 2,
              "version_minor": 0,
              "model_id": "720459e8189b4b6db0d4071075436fb2"
            }
          },
          "metadata": {}
        },
        {
          "output_type": "stream",
          "name": "stdout",
          "text": [
            "[d192_L12] Epoch 79 \u2014 Train 99.61% (loss 0.383, F1 0.9840) | Val 96.61% (loss 0.489, F1 0.9359)\n"
          ]
        },
        {
          "output_type": "display_data",
          "data": {
            "text/plain": [
              "[d192_L12] Epoch 80:   0%|          | 0/663 [00:00<?, ?it/s]"
            ],
            "application/vnd.jupyter.widget-view+json": {
              "version_major": 2,
              "version_minor": 0,
              "model_id": "03e60c9aeaaf4ec091f8359f3988b1d9"
            }
          },
          "metadata": {}
        },
        {
          "output_type": "stream",
          "name": "stdout",
          "text": [
            "[d192_L12] Epoch 80 \u2014 Train 99.63% (loss 0.383, F1 0.9843) | Val 96.60% (loss 0.491, F1 0.9358)\n"
          ]
        },
        {
          "output_type": "display_data",
          "data": {
            "text/plain": [
              "[d192_L12] Epoch 81:   0%|          | 0/663 [00:00<?, ?it/s]"
            ],
            "application/vnd.jupyter.widget-view+json": {
              "version_major": 2,
              "version_minor": 0,
              "model_id": "6d899fd029414d54bb259e0b34c9e786"
            }
          },
          "metadata": {}
        },
        {
          "output_type": "stream",
          "name": "stdout",
          "text": [
            "[d192_L12] Epoch 81 \u2014 Train 99.62% (loss 0.382, F1 0.9842) | Val 96.67% (loss 0.490, F1 0.9366)\n"
          ]
        },
        {
          "output_type": "display_data",
          "data": {
            "text/plain": [
              "[d192_L12] Epoch 82:   0%|          | 0/663 [00:00<?, ?it/s]"
            ],
            "application/vnd.jupyter.widget-view+json": {
              "version_major": 2,
              "version_minor": 0,
              "model_id": "623c2fdad57b462bac11c678d5298af4"
            }
          },
          "metadata": {}
        },
        {
          "output_type": "stream",
          "name": "stdout",
          "text": [
            "[d192_L12] Epoch 82 \u2014 Train 99.64% (loss 0.382, F1 0.9845) | Val 96.71% (loss 0.488, F1 0.9371)\n"
          ]
        },
        {
          "output_type": "display_data",
          "data": {
            "text/plain": [
              "[d192_L12] Epoch 83:   0%|          | 0/663 [00:00<?, ?it/s]"
            ],
            "application/vnd.jupyter.widget-view+json": {
              "version_major": 2,
              "version_minor": 0,
              "model_id": "3d9a7bacf9d14142bf632d528cd8a2ed"
            }
          },
          "metadata": {}
        },
        {
          "output_type": "stream",
          "name": "stdout",
          "text": [
            "[d192_L12] Epoch 83 \u2014 Train 99.65% (loss 0.382, F1 0.9846) | Val 96.76% (loss 0.486, F1 0.9375)\n",
            "[d192_L12] ** Saved new BEST ** (val_acc=96.76%) \u2192 checkpoints/d192_L12_best.pt\n"
          ]
        },
        {
          "output_type": "display_data",
          "data": {
            "text/plain": [
              "[d192_L12] Epoch 84:   0%|          | 0/663 [00:00<?, ?it/s]"
            ],
            "application/vnd.jupyter.widget-view+json": {
              "version_major": 2,
              "version_minor": 0,
              "model_id": "8832aacf20cd401bb45168293f924752"
            }
          },
          "metadata": {}
        },
        {
          "output_type": "stream",
          "name": "stdout",
          "text": [
            "[d192_L12] Epoch 84 \u2014 Train 99.67% (loss 0.382, F1 0.9847) | Val 96.73% (loss 0.489, F1 0.9375)\n"
          ]
        },
        {
          "output_type": "display_data",
          "data": {
            "text/plain": [
              "[d192_L12] Epoch 85:   0%|          | 0/663 [00:00<?, ?it/s]"
            ],
            "application/vnd.jupyter.widget-view+json": {
              "version_major": 2,
              "version_minor": 0,
              "model_id": "94ae26eaf0cb4c38a3602573822ac12c"
            }
          },
          "metadata": {}
        },
        {
          "output_type": "stream",
          "name": "stdout",
          "text": [
            "[d192_L12] Epoch 85 \u2014 Train 99.66% (loss 0.381, F1 0.9846) | Val 96.67% (loss 0.489, F1 0.9363)\n"
          ]
        },
        {
          "output_type": "display_data",
          "data": {
            "text/plain": [
              "[d192_L12] Epoch 86:   0%|          | 0/663 [00:00<?, ?it/s]"
            ],
            "application/vnd.jupyter.widget-view+json": {
              "version_major": 2,
              "version_minor": 0,
              "model_id": "9a51ff3850c245028084d72436722c37"
            }
          },
          "metadata": {}
        },
        {
          "output_type": "stream",
          "name": "stdout",
          "text": [
            "[d192_L12] Epoch 86 \u2014 Train 99.67% (loss 0.381, F1 0.9847) | Val 96.68% (loss 0.489, F1 0.9366)\n"
          ]
        },
        {
          "output_type": "display_data",
          "data": {
            "text/plain": [
              "[d192_L12] Epoch 87:   0%|          | 0/663 [00:00<?, ?it/s]"
            ],
            "application/vnd.jupyter.widget-view+json": {
              "version_major": 2,
              "version_minor": 0,
              "model_id": "a12aa86fe08b46d5bb0405c61aea1664"
            }
          },
          "metadata": {}
        },
        {
          "output_type": "stream",
          "name": "stdout",
          "text": [
            "[d192_L12] Epoch 87 \u2014 Train 99.67% (loss 0.381, F1 0.9847) | Val 96.69% (loss 0.490, F1 0.9365)\n"
          ]
        },
        {
          "output_type": "display_data",
          "data": {
            "text/plain": [
              "[d192_L12] Epoch 88:   0%|          | 0/663 [00:00<?, ?it/s]"
            ],
            "application/vnd.jupyter.widget-view+json": {
              "version_major": 2,
              "version_minor": 0,
              "model_id": "844d8472957547e285a61f90bc5dcd7c"
            }
          },
          "metadata": {}
        },
        {
          "output_type": "stream",
          "name": "stdout",
          "text": [
            "[d192_L12] Epoch 88 \u2014 Train 99.66% (loss 0.381, F1 0.9846) | Val 96.70% (loss 0.490, F1 0.9365)\n"
          ]
        },
        {
          "output_type": "display_data",
          "data": {
            "text/plain": [
              "[d192_L12] Epoch 89:   0%|          | 0/663 [00:00<?, ?it/s]"
            ],
            "application/vnd.jupyter.widget-view+json": {
              "version_major": 2,
              "version_minor": 0,
              "model_id": "da15c12925604c65ae22c0e31d9dd206"
            }
          },
          "metadata": {}
        },
        {
          "output_type": "stream",
          "name": "stdout",
          "text": [
            "[d192_L12] Epoch 89 \u2014 Train 99.67% (loss 0.381, F1 0.9847) | Val 96.67% (loss 0.489, F1 0.9363)\n"
          ]
        },
        {
          "output_type": "display_data",
          "data": {
            "text/plain": [
              "[d192_L12] Epoch 90:   0%|          | 0/663 [00:00<?, ?it/s]"
            ],
            "application/vnd.jupyter.widget-view+json": {
              "version_major": 2,
              "version_minor": 0,
              "model_id": "9da842aa686c425bbae2466f6843061a"
            }
          },
          "metadata": {}
        },
        {
          "output_type": "stream",
          "name": "stdout",
          "text": [
            "[d192_L12] Epoch 90 \u2014 Train 99.68% (loss 0.380, F1 0.9847) | Val 96.69% (loss 0.490, F1 0.9365)\n"
          ]
        },
        {
          "output_type": "display_data",
          "data": {
            "text/plain": [
              "[d192_L12] Epoch 91:   0%|          | 0/663 [00:00<?, ?it/s]"
            ],
            "application/vnd.jupyter.widget-view+json": {
              "version_major": 2,
              "version_minor": 0,
              "model_id": "0b0eaf8983d340f48f4b96c367235db1"
            }
          },
          "metadata": {}
        },
        {
          "output_type": "stream",
          "name": "stdout",
          "text": [
            "[d192_L12] Epoch 91 \u2014 Train 99.69% (loss 0.380, F1 0.9849) | Val 96.70% (loss 0.490, F1 0.9368)\n"
          ]
        },
        {
          "output_type": "display_data",
          "data": {
            "text/plain": [
              "[d192_L12] Epoch 92:   0%|          | 0/663 [00:00<?, ?it/s]"
            ],
            "application/vnd.jupyter.widget-view+json": {
              "version_major": 2,
              "version_minor": 0,
              "model_id": "ba3b4421e13649659d423af119f79f08"
            }
          },
          "metadata": {}
        },
        {
          "output_type": "stream",
          "name": "stdout",
          "text": [
            "[d192_L12] Epoch 92 \u2014 Train 99.69% (loss 0.380, F1 0.9849) | Val 96.65% (loss 0.489, F1 0.9359)\n"
          ]
        },
        {
          "output_type": "display_data",
          "data": {
            "text/plain": [
              "[d192_L12] Epoch 93:   0%|          | 0/663 [00:00<?, ?it/s]"
            ],
            "application/vnd.jupyter.widget-view+json": {
              "version_major": 2,
              "version_minor": 0,
              "model_id": "f689586774494f8bae5cdb2022b7815f"
            }
          },
          "metadata": {}
        },
        {
          "output_type": "stream",
          "name": "stdout",
          "text": [
            "[d192_L12] Epoch 93 \u2014 Train 99.69% (loss 0.380, F1 0.9848) | Val 96.67% (loss 0.489, F1 0.9362)\n"
          ]
        },
        {
          "output_type": "display_data",
          "data": {
            "text/plain": [
              "[d192_L12] Epoch 94:   0%|          | 0/663 [00:00<?, ?it/s]"
            ],
            "application/vnd.jupyter.widget-view+json": {
              "version_major": 2,
              "version_minor": 0,
              "model_id": "1bc3893a54364289b46f96ee4d118a78"
            }
          },
          "metadata": {}
        },
        {
          "output_type": "stream",
          "name": "stdout",
          "text": [
            "[d192_L12] Epoch 94 \u2014 Train 99.70% (loss 0.380, F1 0.9850) | Val 96.66% (loss 0.489, F1 0.9363)\n"
          ]
        },
        {
          "output_type": "display_data",
          "data": {
            "text/plain": [
              "[d192_L12] Epoch 95:   0%|          | 0/663 [00:00<?, ?it/s]"
            ],
            "application/vnd.jupyter.widget-view+json": {
              "version_major": 2,
              "version_minor": 0,
              "model_id": "fbac3a98aa0c403aa37debffcf16d8fb"
            }
          },
          "metadata": {}
        }
      ]
    },
    {
      "cell_type": "code",
      "source": [
        "from tensorboard import notebook\n",
        "\n",
        "notebook.start(\"--logdir runs\")"
      ],
      "metadata": {
        "id": "nXbrW5n9bZMv"
      },
      "execution_count": null,
      "outputs": []
    },
    {
      "cell_type": "code",
      "source": [
        "SAVE_DIR = \"/content/drive/MyDrive/kws_exports_large\"\n",
        "!mkdir -p \"$SAVE_DIR\"\n",
        "\n",
        "# Zip folders straight to Drive paths\n",
        "!zip -qr \"$SAVE_DIR/checkpoints_expand.zip\" /content/checkpoints\n",
        "!zip -qr \"$SAVE_DIR/runs_expand.zip\"        /content/runs\n",
        "\n",
        "# Verify\n",
        "!ls -lh \"$SAVE_DIR\""
      ],
      "metadata": {
        "id": "h_qncKsC4kPM"
      },
      "execution_count": null,
      "outputs": []
    }
  ]
}