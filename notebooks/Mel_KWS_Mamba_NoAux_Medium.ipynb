{
  "nbformat": 4,
  "nbformat_minor": 0,
  "metadata": {
    "colab": {
      "provenance": [],
      "gpuType": "L4"
    },
    "kernelspec": {
      "name": "python3",
      "display_name": "Python 3"
    },
    "language_info": {
      "name": "python"
    },
    "accelerator": "GPU"
  },
  "cells": [
    {
      "cell_type": "code",
      "execution_count": null,
      "metadata": {
        "colab": {
          "base_uri": "https://localhost:8080/"
        },
        "collapsed": true,
        "id": "Qeo644JV9RwT",
        "outputId": "4dc17d9b-1249-4d8d-e43e-bc554b99a404"
      },
      "outputs": [
        {
          "output_type": "stream",
          "name": "stdout",
          "text": [
            "Collecting datasets==2.16.0\n",
            "  Downloading datasets-2.16.0-py3-none-any.whl.metadata (20 kB)\n",
            "Requirement already satisfied: filelock in /usr/local/lib/python3.12/dist-packages (from datasets==2.16.0) (3.19.1)\n",
            "Requirement already satisfied: numpy>=1.17 in /usr/local/lib/python3.12/dist-packages (from datasets==2.16.0) (2.0.2)\n",
            "Requirement already satisfied: pyarrow>=8.0.0 in /usr/local/lib/python3.12/dist-packages (from datasets==2.16.0) (18.1.0)\n",
            "Collecting pyarrow-hotfix (from datasets==2.16.0)\n",
            "  Downloading pyarrow_hotfix-0.7-py3-none-any.whl.metadata (3.6 kB)\n",
            "Collecting dill<0.3.8,>=0.3.0 (from datasets==2.16.0)\n",
            "  Downloading dill-0.3.7-py3-none-any.whl.metadata (9.9 kB)\n",
            "Requirement already satisfied: pandas in /usr/local/lib/python3.12/dist-packages (from datasets==2.16.0) (2.2.2)\n",
            "Requirement already satisfied: requests>=2.19.0 in /usr/local/lib/python3.12/dist-packages (from datasets==2.16.0) (2.32.4)\n",
            "Requirement already satisfied: tqdm>=4.62.1 in /usr/local/lib/python3.12/dist-packages (from datasets==2.16.0) (4.67.1)\n",
            "Requirement already satisfied: xxhash in /usr/local/lib/python3.12/dist-packages (from datasets==2.16.0) (3.5.0)\n",
            "Requirement already satisfied: multiprocess in /usr/local/lib/python3.12/dist-packages (from datasets==2.16.0) (0.70.16)\n",
            "Collecting fsspec<=2023.10.0,>=2023.1.0 (from fsspec[http]<=2023.10.0,>=2023.1.0->datasets==2.16.0)\n",
            "  Downloading fsspec-2023.10.0-py3-none-any.whl.metadata (6.8 kB)\n",
            "Requirement already satisfied: aiohttp in /usr/local/lib/python3.12/dist-packages (from datasets==2.16.0) (3.12.15)\n",
            "Requirement already satisfied: huggingface-hub>=0.19.4 in /usr/local/lib/python3.12/dist-packages (from datasets==2.16.0) (0.34.4)\n",
            "Requirement already satisfied: packaging in /usr/local/lib/python3.12/dist-packages (from datasets==2.16.0) (25.0)\n",
            "Requirement already satisfied: pyyaml>=5.1 in /usr/local/lib/python3.12/dist-packages (from datasets==2.16.0) (6.0.2)\n",
            "Requirement already satisfied: aiohappyeyeballs>=2.5.0 in /usr/local/lib/python3.12/dist-packages (from aiohttp->datasets==2.16.0) (2.6.1)\n",
            "Requirement already satisfied: aiosignal>=1.4.0 in /usr/local/lib/python3.12/dist-packages (from aiohttp->datasets==2.16.0) (1.4.0)\n",
            "Requirement already satisfied: attrs>=17.3.0 in /usr/local/lib/python3.12/dist-packages (from aiohttp->datasets==2.16.0) (25.3.0)\n",
            "Requirement already satisfied: frozenlist>=1.1.1 in /usr/local/lib/python3.12/dist-packages (from aiohttp->datasets==2.16.0) (1.7.0)\n",
            "Requirement already satisfied: multidict<7.0,>=4.5 in /usr/local/lib/python3.12/dist-packages (from aiohttp->datasets==2.16.0) (6.6.4)\n",
            "Requirement already satisfied: propcache>=0.2.0 in /usr/local/lib/python3.12/dist-packages (from aiohttp->datasets==2.16.0) (0.3.2)\n",
            "Requirement already satisfied: yarl<2.0,>=1.17.0 in /usr/local/lib/python3.12/dist-packages (from aiohttp->datasets==2.16.0) (1.20.1)\n",
            "Requirement already satisfied: typing-extensions>=3.7.4.3 in /usr/local/lib/python3.12/dist-packages (from huggingface-hub>=0.19.4->datasets==2.16.0) (4.15.0)\n",
            "Requirement already satisfied: hf-xet<2.0.0,>=1.1.3 in /usr/local/lib/python3.12/dist-packages (from huggingface-hub>=0.19.4->datasets==2.16.0) (1.1.9)\n",
            "Requirement already satisfied: charset_normalizer<4,>=2 in /usr/local/lib/python3.12/dist-packages (from requests>=2.19.0->datasets==2.16.0) (3.4.3)\n",
            "Requirement already satisfied: idna<4,>=2.5 in /usr/local/lib/python3.12/dist-packages (from requests>=2.19.0->datasets==2.16.0) (3.10)\n",
            "Requirement already satisfied: urllib3<3,>=1.21.1 in /usr/local/lib/python3.12/dist-packages (from requests>=2.19.0->datasets==2.16.0) (2.5.0)\n",
            "Requirement already satisfied: certifi>=2017.4.17 in /usr/local/lib/python3.12/dist-packages (from requests>=2.19.0->datasets==2.16.0) (2025.8.3)\n",
            "INFO: pip is looking at multiple versions of multiprocess to determine which version is compatible with other requirements. This could take a while.\n",
            "Collecting multiprocess (from datasets==2.16.0)\n",
            "  Downloading multiprocess-0.70.18-py312-none-any.whl.metadata (7.5 kB)\n",
            "  Downloading multiprocess-0.70.17-py312-none-any.whl.metadata (7.2 kB)\n",
            "  Downloading multiprocess-0.70.15-py311-none-any.whl.metadata (7.2 kB)\n",
            "Requirement already satisfied: python-dateutil>=2.8.2 in /usr/local/lib/python3.12/dist-packages (from pandas->datasets==2.16.0) (2.9.0.post0)\n",
            "Requirement already satisfied: pytz>=2020.1 in /usr/local/lib/python3.12/dist-packages (from pandas->datasets==2.16.0) (2025.2)\n",
            "Requirement already satisfied: tzdata>=2022.7 in /usr/local/lib/python3.12/dist-packages (from pandas->datasets==2.16.0) (2025.2)\n",
            "Requirement already satisfied: six>=1.5 in /usr/local/lib/python3.12/dist-packages (from python-dateutil>=2.8.2->pandas->datasets==2.16.0) (1.17.0)\n",
            "Downloading datasets-2.16.0-py3-none-any.whl (507 kB)\n",
            "\u001b[2K   \u001b[90m\u2501\u2501\u2501\u2501\u2501\u2501\u2501\u2501\u2501\u2501\u2501\u2501\u2501\u2501\u2501\u2501\u2501\u2501\u2501\u2501\u2501\u2501\u2501\u2501\u2501\u2501\u2501\u2501\u2501\u2501\u2501\u2501\u2501\u2501\u2501\u2501\u2501\u2501\u2501\u2501\u001b[0m \u001b[32m507.1/507.1 kB\u001b[0m \u001b[31m16.3 MB/s\u001b[0m eta \u001b[36m0:00:00\u001b[0m\n",
            "\u001b[?25hDownloading dill-0.3.7-py3-none-any.whl (115 kB)\n",
            "\u001b[2K   \u001b[90m\u2501\u2501\u2501\u2501\u2501\u2501\u2501\u2501\u2501\u2501\u2501\u2501\u2501\u2501\u2501\u2501\u2501\u2501\u2501\u2501\u2501\u2501\u2501\u2501\u2501\u2501\u2501\u2501\u2501\u2501\u2501\u2501\u2501\u2501\u2501\u2501\u2501\u2501\u2501\u2501\u001b[0m \u001b[32m115.3/115.3 kB\u001b[0m \u001b[31m12.1 MB/s\u001b[0m eta \u001b[36m0:00:00\u001b[0m\n",
            "\u001b[?25hDownloading fsspec-2023.10.0-py3-none-any.whl (166 kB)\n",
            "\u001b[2K   \u001b[90m\u2501\u2501\u2501\u2501\u2501\u2501\u2501\u2501\u2501\u2501\u2501\u2501\u2501\u2501\u2501\u2501\u2501\u2501\u2501\u2501\u2501\u2501\u2501\u2501\u2501\u2501\u2501\u2501\u2501\u2501\u2501\u2501\u2501\u2501\u2501\u2501\u2501\u2501\u2501\u2501\u001b[0m \u001b[32m166.4/166.4 kB\u001b[0m \u001b[31m17.4 MB/s\u001b[0m eta \u001b[36m0:00:00\u001b[0m\n",
            "\u001b[?25hDownloading multiprocess-0.70.15-py311-none-any.whl (135 kB)\n",
            "\u001b[2K   \u001b[90m\u2501\u2501\u2501\u2501\u2501\u2501\u2501\u2501\u2501\u2501\u2501\u2501\u2501\u2501\u2501\u2501\u2501\u2501\u2501\u2501\u2501\u2501\u2501\u2501\u2501\u2501\u2501\u2501\u2501\u2501\u2501\u2501\u2501\u2501\u2501\u2501\u2501\u2501\u2501\u2501\u001b[0m \u001b[32m135.4/135.4 kB\u001b[0m \u001b[31m13.5 MB/s\u001b[0m eta \u001b[36m0:00:00\u001b[0m\n",
            "\u001b[?25hDownloading pyarrow_hotfix-0.7-py3-none-any.whl (7.9 kB)\n",
            "Installing collected packages: pyarrow-hotfix, fsspec, dill, multiprocess, datasets\n",
            "  Attempting uninstall: fsspec\n",
            "    Found existing installation: fsspec 2025.3.0\n",
            "    Uninstalling fsspec-2025.3.0:\n",
            "      Successfully uninstalled fsspec-2025.3.0\n",
            "  Attempting uninstall: dill\n",
            "    Found existing installation: dill 0.3.8\n",
            "    Uninstalling dill-0.3.8:\n",
            "      Successfully uninstalled dill-0.3.8\n",
            "  Attempting uninstall: multiprocess\n",
            "    Found existing installation: multiprocess 0.70.16\n",
            "    Uninstalling multiprocess-0.70.16:\n",
            "      Successfully uninstalled multiprocess-0.70.16\n",
            "  Attempting uninstall: datasets\n",
            "    Found existing installation: datasets 4.0.0\n",
            "    Uninstalling datasets-4.0.0:\n",
            "      Successfully uninstalled datasets-4.0.0\n",
            "\u001b[31mERROR: pip's dependency resolver does not currently take into account all the packages that are installed. This behaviour is the source of the following dependency conflicts.\n",
            "gcsfs 2025.3.0 requires fsspec==2025.3.0, but you have fsspec 2023.10.0 which is incompatible.\u001b[0m\u001b[31m\n",
            "\u001b[0mSuccessfully installed datasets-2.16.0 dill-0.3.7 fsspec-2023.10.0 multiprocess-0.70.15 pyarrow-hotfix-0.7\n",
            "Collecting huggingface-hub==0.20.0\n",
            "  Downloading huggingface_hub-0.20.0-py3-none-any.whl.metadata (12 kB)\n",
            "Requirement already satisfied: filelock in /usr/local/lib/python3.12/dist-packages (from huggingface-hub==0.20.0) (3.19.1)\n",
            "Requirement already satisfied: fsspec>=2023.5.0 in /usr/local/lib/python3.12/dist-packages (from huggingface-hub==0.20.0) (2023.10.0)\n",
            "Requirement already satisfied: requests in /usr/local/lib/python3.12/dist-packages (from huggingface-hub==0.20.0) (2.32.4)\n",
            "Requirement already satisfied: tqdm>=4.42.1 in /usr/local/lib/python3.12/dist-packages (from huggingface-hub==0.20.0) (4.67.1)\n",
            "Requirement already satisfied: pyyaml>=5.1 in /usr/local/lib/python3.12/dist-packages (from huggingface-hub==0.20.0) (6.0.2)\n",
            "Requirement already satisfied: typing-extensions>=3.7.4.3 in /usr/local/lib/python3.12/dist-packages (from huggingface-hub==0.20.0) (4.15.0)\n",
            "Requirement already satisfied: packaging>=20.9 in /usr/local/lib/python3.12/dist-packages (from huggingface-hub==0.20.0) (25.0)\n",
            "Requirement already satisfied: charset_normalizer<4,>=2 in /usr/local/lib/python3.12/dist-packages (from requests->huggingface-hub==0.20.0) (3.4.3)\n",
            "Requirement already satisfied: idna<4,>=2.5 in /usr/local/lib/python3.12/dist-packages (from requests->huggingface-hub==0.20.0) (3.10)\n",
            "Requirement already satisfied: urllib3<3,>=1.21.1 in /usr/local/lib/python3.12/dist-packages (from requests->huggingface-hub==0.20.0) (2.5.0)\n",
            "Requirement already satisfied: certifi>=2017.4.17 in /usr/local/lib/python3.12/dist-packages (from requests->huggingface-hub==0.20.0) (2025.8.3)\n",
            "Downloading huggingface_hub-0.20.0-py3-none-any.whl (329 kB)\n",
            "\u001b[2K   \u001b[90m\u2501\u2501\u2501\u2501\u2501\u2501\u2501\u2501\u2501\u2501\u2501\u2501\u2501\u2501\u2501\u2501\u2501\u2501\u2501\u2501\u2501\u2501\u2501\u2501\u2501\u2501\u2501\u2501\u2501\u2501\u2501\u2501\u2501\u2501\u2501\u2501\u2501\u2501\u2501\u2501\u001b[0m \u001b[32m329.1/329.1 kB\u001b[0m \u001b[31m9.8 MB/s\u001b[0m eta \u001b[36m0:00:00\u001b[0m\n",
            "\u001b[?25hInstalling collected packages: huggingface-hub\n",
            "  Attempting uninstall: huggingface-hub\n",
            "    Found existing installation: huggingface-hub 0.34.4\n",
            "    Uninstalling huggingface-hub-0.34.4:\n",
            "      Successfully uninstalled huggingface-hub-0.34.4\n",
            "\u001b[31mERROR: pip's dependency resolver does not currently take into account all the packages that are installed. This behaviour is the source of the following dependency conflicts.\n",
            "peft 0.17.1 requires huggingface_hub>=0.25.0, but you have huggingface-hub 0.20.0 which is incompatible.\n",
            "transformers 4.56.1 requires huggingface-hub<1.0,>=0.34.0, but you have huggingface-hub 0.20.0 which is incompatible.\n",
            "accelerate 1.10.1 requires huggingface_hub>=0.21.0, but you have huggingface-hub 0.20.0 which is incompatible.\n",
            "gradio 5.44.1 requires huggingface-hub<1.0,>=0.33.5, but you have huggingface-hub 0.20.0 which is incompatible.\n",
            "diffusers 0.35.1 requires huggingface-hub>=0.34.0, but you have huggingface-hub 0.20.0 which is incompatible.\u001b[0m\u001b[31m\n",
            "\u001b[0mSuccessfully installed huggingface-hub-0.20.0\n",
            "Reading package lists... Done\n",
            "Building dependency tree... Done\n",
            "Reading state information... Done\n",
            "The following additional packages will be installed:\n",
            "  libao-common libao4 libid3tag0 libmad0 libopencore-amrnb0 libopencore-amrwb0\n",
            "  libsox-fmt-all libsox-fmt-alsa libsox-fmt-ao libsox-fmt-base libsox-fmt-mp3\n",
            "  libsox-fmt-oss libsox-fmt-pulse libsox3 libwavpack1\n",
            "Suggested packages:\n",
            "  libaudio2 libsndio6.1\n",
            "The following NEW packages will be installed:\n",
            "  libao-common libao4 libid3tag0 libmad0 libopencore-amrnb0 libopencore-amrwb0\n",
            "  libsox-dev libsox-fmt-all libsox-fmt-alsa libsox-fmt-ao libsox-fmt-base\n",
            "  libsox-fmt-mp3 libsox-fmt-oss libsox-fmt-pulse libsox3 libwavpack1\n",
            "0 upgraded, 16 newly installed, 0 to remove and 35 not upgraded.\n",
            "Need to get 1,053 kB of archives.\n",
            "After this operation, 4,061 kB of additional disk space will be used.\n",
            "Get:1 http://archive.ubuntu.com/ubuntu jammy/main amd64 libao-common all 1.2.2+20180113-1.1ubuntu3 [6,568 B]\n",
            "Get:2 http://archive.ubuntu.com/ubuntu jammy/main amd64 libao4 amd64 1.2.2+20180113-1.1ubuntu3 [35.2 kB]\n",
            "Get:3 http://archive.ubuntu.com/ubuntu jammy/universe amd64 libid3tag0 amd64 0.15.1b-14 [31.3 kB]\n",
            "Get:4 http://archive.ubuntu.com/ubuntu jammy/universe amd64 libmad0 amd64 0.15.1b-10ubuntu1 [63.1 kB]\n",
            "Get:5 http://archive.ubuntu.com/ubuntu jammy/universe amd64 libopencore-amrnb0 amd64 0.1.5-1 [94.8 kB]\n",
            "Get:6 http://archive.ubuntu.com/ubuntu jammy/universe amd64 libopencore-amrwb0 amd64 0.1.5-1 [49.1 kB]\n",
            "Get:7 http://archive.ubuntu.com/ubuntu jammy-updates/universe amd64 libsox3 amd64 14.4.2+git20190427-2+deb11u2ubuntu0.22.04.1 [240 kB]\n",
            "Get:8 http://archive.ubuntu.com/ubuntu jammy-updates/universe amd64 libsox-fmt-alsa amd64 14.4.2+git20190427-2+deb11u2ubuntu0.22.04.1 [11.2 kB]\n",
            "Get:9 http://archive.ubuntu.com/ubuntu jammy-updates/universe amd64 libsox-fmt-ao amd64 14.4.2+git20190427-2+deb11u2ubuntu0.22.04.1 [7,740 B]\n",
            "Get:10 http://archive.ubuntu.com/ubuntu jammy/main amd64 libwavpack1 amd64 5.4.0-1build2 [83.7 kB]\n",
            "Get:11 http://archive.ubuntu.com/ubuntu jammy-updates/universe amd64 libsox-fmt-base amd64 14.4.2+git20190427-2+deb11u2ubuntu0.22.04.1 [33.7 kB]\n",
            "Get:12 http://archive.ubuntu.com/ubuntu jammy-updates/universe amd64 libsox-fmt-mp3 amd64 14.4.2+git20190427-2+deb11u2ubuntu0.22.04.1 [17.3 kB]\n",
            "Get:13 http://archive.ubuntu.com/ubuntu jammy-updates/universe amd64 libsox-fmt-oss amd64 14.4.2+git20190427-2+deb11u2ubuntu0.22.04.1 [9,424 B]\n",
            "Get:14 http://archive.ubuntu.com/ubuntu jammy-updates/universe amd64 libsox-fmt-pulse amd64 14.4.2+git20190427-2+deb11u2ubuntu0.22.04.1 [7,732 B]\n",
            "Get:15 http://archive.ubuntu.com/ubuntu jammy-updates/universe amd64 libsox-fmt-all amd64 14.4.2+git20190427-2+deb11u2ubuntu0.22.04.1 [5,016 B]\n",
            "Get:16 http://archive.ubuntu.com/ubuntu jammy-updates/universe amd64 libsox-dev amd64 14.4.2+git20190427-2+deb11u2ubuntu0.22.04.1 [356 kB]\n",
            "Fetched 1,053 kB in 1s (767 kB/s)\n",
            "Selecting previously unselected package libao-common.\n",
            "(Reading database ... 126374 files and directories currently installed.)\n",
            "Preparing to unpack .../00-libao-common_1.2.2+20180113-1.1ubuntu3_all.deb ...\n",
            "Unpacking libao-common (1.2.2+20180113-1.1ubuntu3) ...\n",
            "Selecting previously unselected package libao4:amd64.\n",
            "Preparing to unpack .../01-libao4_1.2.2+20180113-1.1ubuntu3_amd64.deb ...\n",
            "Unpacking libao4:amd64 (1.2.2+20180113-1.1ubuntu3) ...\n",
            "Selecting previously unselected package libid3tag0:amd64.\n",
            "Preparing to unpack .../02-libid3tag0_0.15.1b-14_amd64.deb ...\n",
            "Unpacking libid3tag0:amd64 (0.15.1b-14) ...\n",
            "Selecting previously unselected package libmad0:amd64.\n",
            "Preparing to unpack .../03-libmad0_0.15.1b-10ubuntu1_amd64.deb ...\n",
            "Unpacking libmad0:amd64 (0.15.1b-10ubuntu1) ...\n",
            "Selecting previously unselected package libopencore-amrnb0:amd64.\n",
            "Preparing to unpack .../04-libopencore-amrnb0_0.1.5-1_amd64.deb ...\n",
            "Unpacking libopencore-amrnb0:amd64 (0.1.5-1) ...\n",
            "Selecting previously unselected package libopencore-amrwb0:amd64.\n",
            "Preparing to unpack .../05-libopencore-amrwb0_0.1.5-1_amd64.deb ...\n",
            "Unpacking libopencore-amrwb0:amd64 (0.1.5-1) ...\n",
            "Selecting previously unselected package libsox3:amd64.\n",
            "Preparing to unpack .../06-libsox3_14.4.2+git20190427-2+deb11u2ubuntu0.22.04.1_amd64.deb ...\n",
            "Unpacking libsox3:amd64 (14.4.2+git20190427-2+deb11u2ubuntu0.22.04.1) ...\n",
            "Selecting previously unselected package libsox-fmt-alsa:amd64.\n",
            "Preparing to unpack .../07-libsox-fmt-alsa_14.4.2+git20190427-2+deb11u2ubuntu0.22.04.1_amd64.deb ...\n",
            "Unpacking libsox-fmt-alsa:amd64 (14.4.2+git20190427-2+deb11u2ubuntu0.22.04.1) ...\n",
            "Selecting previously unselected package libsox-fmt-ao:amd64.\n",
            "Preparing to unpack .../08-libsox-fmt-ao_14.4.2+git20190427-2+deb11u2ubuntu0.22.04.1_amd64.deb ...\n",
            "Unpacking libsox-fmt-ao:amd64 (14.4.2+git20190427-2+deb11u2ubuntu0.22.04.1) ...\n",
            "Selecting previously unselected package libwavpack1:amd64.\n",
            "Preparing to unpack .../09-libwavpack1_5.4.0-1build2_amd64.deb ...\n",
            "Unpacking libwavpack1:amd64 (5.4.0-1build2) ...\n",
            "Selecting previously unselected package libsox-fmt-base:amd64.\n",
            "Preparing to unpack .../10-libsox-fmt-base_14.4.2+git20190427-2+deb11u2ubuntu0.22.04.1_amd64.deb ...\n",
            "Unpacking libsox-fmt-base:amd64 (14.4.2+git20190427-2+deb11u2ubuntu0.22.04.1) ...\n",
            "Selecting previously unselected package libsox-fmt-mp3:amd64.\n",
            "Preparing to unpack .../11-libsox-fmt-mp3_14.4.2+git20190427-2+deb11u2ubuntu0.22.04.1_amd64.deb ...\n",
            "Unpacking libsox-fmt-mp3:amd64 (14.4.2+git20190427-2+deb11u2ubuntu0.22.04.1) ...\n",
            "Selecting previously unselected package libsox-fmt-oss:amd64.\n",
            "Preparing to unpack .../12-libsox-fmt-oss_14.4.2+git20190427-2+deb11u2ubuntu0.22.04.1_amd64.deb ...\n",
            "Unpacking libsox-fmt-oss:amd64 (14.4.2+git20190427-2+deb11u2ubuntu0.22.04.1) ...\n",
            "Selecting previously unselected package libsox-fmt-pulse:amd64.\n",
            "Preparing to unpack .../13-libsox-fmt-pulse_14.4.2+git20190427-2+deb11u2ubuntu0.22.04.1_amd64.deb ...\n",
            "Unpacking libsox-fmt-pulse:amd64 (14.4.2+git20190427-2+deb11u2ubuntu0.22.04.1) ...\n",
            "Selecting previously unselected package libsox-fmt-all:amd64.\n",
            "Preparing to unpack .../14-libsox-fmt-all_14.4.2+git20190427-2+deb11u2ubuntu0.22.04.1_amd64.deb ...\n",
            "Unpacking libsox-fmt-all:amd64 (14.4.2+git20190427-2+deb11u2ubuntu0.22.04.1) ...\n",
            "Selecting previously unselected package libsox-dev:amd64.\n",
            "Preparing to unpack .../15-libsox-dev_14.4.2+git20190427-2+deb11u2ubuntu0.22.04.1_amd64.deb ...\n",
            "Unpacking libsox-dev:amd64 (14.4.2+git20190427-2+deb11u2ubuntu0.22.04.1) ...\n",
            "Setting up libsox3:amd64 (14.4.2+git20190427-2+deb11u2ubuntu0.22.04.1) ...\n",
            "Setting up libsox-fmt-oss:amd64 (14.4.2+git20190427-2+deb11u2ubuntu0.22.04.1) ...\n",
            "Setting up libao-common (1.2.2+20180113-1.1ubuntu3) ...\n",
            "Setting up libid3tag0:amd64 (0.15.1b-14) ...\n",
            "Setting up libopencore-amrwb0:amd64 (0.1.5-1) ...\n",
            "Setting up libsox-fmt-alsa:amd64 (14.4.2+git20190427-2+deb11u2ubuntu0.22.04.1) ...\n",
            "Setting up libao4:amd64 (1.2.2+20180113-1.1ubuntu3) ...\n",
            "Setting up libmad0:amd64 (0.15.1b-10ubuntu1) ...\n",
            "Setting up libwavpack1:amd64 (5.4.0-1build2) ...\n",
            "Setting up libopencore-amrnb0:amd64 (0.1.5-1) ...\n",
            "Setting up libsox-fmt-base:amd64 (14.4.2+git20190427-2+deb11u2ubuntu0.22.04.1) ...\n",
            "Setting up libsox-fmt-ao:amd64 (14.4.2+git20190427-2+deb11u2ubuntu0.22.04.1) ...\n",
            "Setting up libsox-fmt-mp3:amd64 (14.4.2+git20190427-2+deb11u2ubuntu0.22.04.1) ...\n",
            "Setting up libsox-fmt-pulse:amd64 (14.4.2+git20190427-2+deb11u2ubuntu0.22.04.1) ...\n",
            "Setting up libsox-fmt-all:amd64 (14.4.2+git20190427-2+deb11u2ubuntu0.22.04.1) ...\n",
            "Setting up libsox-dev:amd64 (14.4.2+git20190427-2+deb11u2ubuntu0.22.04.1) ...\n",
            "Processing triggers for man-db (2.10.2-1) ...\n",
            "Processing triggers for libc-bin (2.35-0ubuntu3.8) ...\n",
            "/sbin/ldconfig.real: /usr/local/lib/libtbb.so.12 is not a symbolic link\n",
            "\n",
            "/sbin/ldconfig.real: /usr/local/lib/libur_adapter_level_zero_v2.so.0 is not a symbolic link\n",
            "\n",
            "/sbin/ldconfig.real: /usr/local/lib/libtbbbind_2_5.so.3 is not a symbolic link\n",
            "\n",
            "/sbin/ldconfig.real: /usr/local/lib/libhwloc.so.15 is not a symbolic link\n",
            "\n",
            "/sbin/ldconfig.real: /usr/local/lib/libur_adapter_level_zero.so.0 is not a symbolic link\n",
            "\n",
            "/sbin/ldconfig.real: /usr/local/lib/libumf.so.0 is not a symbolic link\n",
            "\n",
            "/sbin/ldconfig.real: /usr/local/lib/libtbbmalloc.so.2 is not a symbolic link\n",
            "\n",
            "/sbin/ldconfig.real: /usr/local/lib/libtcm_debug.so.1 is not a symbolic link\n",
            "\n",
            "/sbin/ldconfig.real: /usr/local/lib/libtbbbind.so.3 is not a symbolic link\n",
            "\n",
            "/sbin/ldconfig.real: /usr/local/lib/libtbbbind_2_0.so.3 is not a symbolic link\n",
            "\n",
            "/sbin/ldconfig.real: /usr/local/lib/libtcm.so.1 is not a symbolic link\n",
            "\n",
            "/sbin/ldconfig.real: /usr/local/lib/libtbbmalloc_proxy.so.2 is not a symbolic link\n",
            "\n",
            "/sbin/ldconfig.real: /usr/local/lib/libur_loader.so.0 is not a symbolic link\n",
            "\n",
            "/sbin/ldconfig.real: /usr/local/lib/libur_adapter_opencl.so.0 is not a symbolic link\n",
            "\n",
            "Looking in indexes: https://download.pytorch.org/whl/cu121\n",
            "Collecting torch==2.4.0\n",
            "  Downloading https://download.pytorch.org/whl/cu121/torch-2.4.0%2Bcu121-cp312-cp312-linux_x86_64.whl (799.0 MB)\n",
            "\u001b[2K     \u001b[90m\u2501\u2501\u2501\u2501\u2501\u2501\u2501\u2501\u2501\u2501\u2501\u2501\u2501\u2501\u2501\u2501\u2501\u2501\u2501\u2501\u2501\u2501\u2501\u2501\u2501\u2501\u2501\u2501\u2501\u2501\u2501\u2501\u2501\u2501\u2501\u2501\u2501\u2501\u2501\u001b[0m \u001b[32m799.0/799.0 MB\u001b[0m \u001b[31m1.5 MB/s\u001b[0m eta \u001b[36m0:00:00\u001b[0m\n",
            "\u001b[?25hCollecting torchvision==0.19.0\n",
            "  Downloading https://download.pytorch.org/whl/cu121/torchvision-0.19.0%2Bcu121-cp312-cp312-linux_x86_64.whl (7.1 MB)\n",
            "\u001b[2K     \u001b[90m\u2501\u2501\u2501\u2501\u2501\u2501\u2501\u2501\u2501\u2501\u2501\u2501\u2501\u2501\u2501\u2501\u2501\u2501\u2501\u2501\u2501\u2501\u2501\u2501\u2501\u2501\u2501\u2501\u2501\u2501\u2501\u2501\u2501\u2501\u2501\u2501\u2501\u2501\u2501\u2501\u001b[0m \u001b[32m7.1/7.1 MB\u001b[0m \u001b[31m26.9 MB/s\u001b[0m eta \u001b[36m0:00:00\u001b[0m\n",
            "\u001b[?25hCollecting torchaudio==2.4.0\n",
            "  Downloading https://download.pytorch.org/whl/cu121/torchaudio-2.4.0%2Bcu121-cp312-cp312-linux_x86_64.whl (3.4 MB)\n",
            "\u001b[2K     \u001b[90m\u2501\u2501\u2501\u2501\u2501\u2501\u2501\u2501\u2501\u2501\u2501\u2501\u2501\u2501\u2501\u2501\u2501\u2501\u2501\u2501\u2501\u2501\u2501\u2501\u2501\u2501\u2501\u2501\u2501\u2501\u2501\u2501\u2501\u2501\u2501\u2501\u2501\u2501\u2501\u2501\u001b[0m \u001b[32m3.4/3.4 MB\u001b[0m \u001b[31m76.3 MB/s\u001b[0m eta \u001b[36m0:00:00\u001b[0m\n",
            "\u001b[?25hRequirement already satisfied: filelock in /usr/local/lib/python3.12/dist-packages (from torch==2.4.0) (3.19.1)\n",
            "Requirement already satisfied: typing-extensions>=4.8.0 in /usr/local/lib/python3.12/dist-packages (from torch==2.4.0) (4.15.0)\n",
            "Requirement already satisfied: sympy in /usr/local/lib/python3.12/dist-packages (from torch==2.4.0) (1.13.3)\n",
            "Requirement already satisfied: networkx in /usr/local/lib/python3.12/dist-packages (from torch==2.4.0) (3.5)\n",
            "Requirement already satisfied: jinja2 in /usr/local/lib/python3.12/dist-packages (from torch==2.4.0) (3.1.6)\n",
            "Requirement already satisfied: fsspec in /usr/local/lib/python3.12/dist-packages (from torch==2.4.0) (2023.10.0)\n",
            "Requirement already satisfied: setuptools in /usr/local/lib/python3.12/dist-packages (from torch==2.4.0) (75.2.0)\n",
            "Collecting nvidia-cuda-nvrtc-cu12==12.1.105 (from torch==2.4.0)\n",
            "  Downloading https://download.pytorch.org/whl/cu121/nvidia_cuda_nvrtc_cu12-12.1.105-py3-none-manylinux1_x86_64.whl (23.7 MB)\n",
            "\u001b[2K     \u001b[90m\u2501\u2501\u2501\u2501\u2501\u2501\u2501\u2501\u2501\u2501\u2501\u2501\u2501\u2501\u2501\u2501\u2501\u2501\u2501\u2501\u2501\u2501\u2501\u2501\u2501\u2501\u2501\u2501\u2501\u2501\u2501\u2501\u2501\u2501\u2501\u2501\u2501\u2501\u2501\u001b[0m \u001b[32m23.7/23.7 MB\u001b[0m \u001b[31m103.6 MB/s\u001b[0m eta \u001b[36m0:00:00\u001b[0m\n",
            "\u001b[?25hCollecting nvidia-cuda-runtime-cu12==12.1.105 (from torch==2.4.0)\n",
            "  Downloading https://download.pytorch.org/whl/cu121/nvidia_cuda_runtime_cu12-12.1.105-py3-none-manylinux1_x86_64.whl (823 kB)\n",
            "\u001b[2K     \u001b[90m\u2501\u2501\u2501\u2501\u2501\u2501\u2501\u2501\u2501\u2501\u2501\u2501\u2501\u2501\u2501\u2501\u2501\u2501\u2501\u2501\u2501\u2501\u2501\u2501\u2501\u2501\u2501\u2501\u2501\u2501\u2501\u2501\u2501\u2501\u2501\u2501\u2501\u2501\u001b[0m \u001b[32m823.6/823.6 kB\u001b[0m \u001b[31m56.0 MB/s\u001b[0m eta \u001b[36m0:00:00\u001b[0m\n",
            "\u001b[?25hCollecting nvidia-cuda-cupti-cu12==12.1.105 (from torch==2.4.0)\n",
            "  Downloading https://download.pytorch.org/whl/cu121/nvidia_cuda_cupti_cu12-12.1.105-py3-none-manylinux1_x86_64.whl (14.1 MB)\n",
            "\u001b[2K     \u001b[90m\u2501\u2501\u2501\u2501\u2501\u2501\u2501\u2501\u2501\u2501\u2501\u2501\u2501\u2501\u2501\u2501\u2501\u2501\u2501\u2501\u2501\u2501\u2501\u2501\u2501\u2501\u2501\u2501\u2501\u2501\u2501\u2501\u2501\u2501\u2501\u2501\u2501\u2501\u2501\u001b[0m \u001b[32m14.1/14.1 MB\u001b[0m \u001b[31m129.0 MB/s\u001b[0m eta \u001b[36m0:00:00\u001b[0m\n",
            "\u001b[?25hCollecting nvidia-cudnn-cu12==9.1.0.70 (from torch==2.4.0)\n",
            "  Downloading https://download.pytorch.org/whl/cu121/nvidia_cudnn_cu12-9.1.0.70-py3-none-manylinux2014_x86_64.whl (664.8 MB)\n",
            "\u001b[2K     \u001b[90m\u2501\u2501\u2501\u2501\u2501\u2501\u2501\u2501\u2501\u2501\u2501\u2501\u2501\u2501\u2501\u2501\u2501\u2501\u2501\u2501\u2501\u2501\u2501\u2501\u2501\u2501\u2501\u2501\u2501\u2501\u2501\u2501\u2501\u2501\u2501\u2501\u2501\u2501\u2501\u001b[0m \u001b[32m664.8/664.8 MB\u001b[0m \u001b[31m1.6 MB/s\u001b[0m eta \u001b[36m0:00:00\u001b[0m\n",
            "\u001b[?25hCollecting nvidia-cublas-cu12==12.1.3.1 (from torch==2.4.0)\n",
            "  Downloading https://download.pytorch.org/whl/cu121/nvidia_cublas_cu12-12.1.3.1-py3-none-manylinux1_x86_64.whl (410.6 MB)\n",
            "\u001b[2K     \u001b[90m\u2501\u2501\u2501\u2501\u2501\u2501\u2501\u2501\u2501\u2501\u2501\u2501\u2501\u2501\u2501\u2501\u2501\u2501\u2501\u2501\u2501\u2501\u2501\u2501\u2501\u2501\u2501\u2501\u2501\u2501\u2501\u2501\u2501\u2501\u2501\u2501\u2501\u2501\u2501\u001b[0m \u001b[32m410.6/410.6 MB\u001b[0m \u001b[31m2.2 MB/s\u001b[0m eta \u001b[36m0:00:00\u001b[0m\n",
            "\u001b[?25hCollecting nvidia-cufft-cu12==11.0.2.54 (from torch==2.4.0)\n",
            "  Downloading https://download.pytorch.org/whl/cu121/nvidia_cufft_cu12-11.0.2.54-py3-none-manylinux1_x86_64.whl (121.6 MB)\n",
            "\u001b[2K     \u001b[90m\u2501\u2501\u2501\u2501\u2501\u2501\u2501\u2501\u2501\u2501\u2501\u2501\u2501\u2501\u2501\u2501\u2501\u2501\u2501\u2501\u2501\u2501\u2501\u2501\u2501\u2501\u2501\u2501\u2501\u2501\u2501\u2501\u2501\u2501\u2501\u2501\u2501\u2501\u001b[0m \u001b[32m121.6/121.6 MB\u001b[0m \u001b[31m18.4 MB/s\u001b[0m eta \u001b[36m0:00:00\u001b[0m\n",
            "\u001b[?25hCollecting nvidia-curand-cu12==10.3.2.106 (from torch==2.4.0)\n",
            "  Downloading https://download.pytorch.org/whl/cu121/nvidia_curand_cu12-10.3.2.106-py3-none-manylinux1_x86_64.whl (56.5 MB)\n",
            "\u001b[2K     \u001b[90m\u2501\u2501\u2501\u2501\u2501\u2501\u2501\u2501\u2501\u2501\u2501\u2501\u2501\u2501\u2501\u2501\u2501\u2501\u2501\u2501\u2501\u2501\u2501\u2501\u2501\u2501\u2501\u2501\u2501\u2501\u2501\u2501\u2501\u2501\u2501\u2501\u2501\u2501\u2501\u2501\u001b[0m \u001b[32m56.5/56.5 MB\u001b[0m \u001b[31m38.5 MB/s\u001b[0m eta \u001b[36m0:00:00\u001b[0m\n",
            "\u001b[?25hCollecting nvidia-cusolver-cu12==11.4.5.107 (from torch==2.4.0)\n",
            "  Downloading https://download.pytorch.org/whl/cu121/nvidia_cusolver_cu12-11.4.5.107-py3-none-manylinux1_x86_64.whl (124.2 MB)\n",
            "\u001b[2K     \u001b[90m\u2501\u2501\u2501\u2501\u2501\u2501\u2501\u2501\u2501\u2501\u2501\u2501\u2501\u2501\u2501\u2501\u2501\u2501\u2501\u2501\u2501\u2501\u2501\u2501\u2501\u2501\u2501\u2501\u2501\u2501\u2501\u2501\u2501\u2501\u2501\u2501\u2501\u2501\u2501\u001b[0m \u001b[32m124.2/124.2 MB\u001b[0m \u001b[31m4.8 MB/s\u001b[0m eta \u001b[36m0:00:00\u001b[0m\n",
            "\u001b[?25hCollecting nvidia-cusparse-cu12==12.1.0.106 (from torch==2.4.0)\n",
            "  Downloading https://download.pytorch.org/whl/cu121/nvidia_cusparse_cu12-12.1.0.106-py3-none-manylinux1_x86_64.whl (196.0 MB)\n",
            "\u001b[2K     \u001b[90m\u2501\u2501\u2501\u2501\u2501\u2501\u2501\u2501\u2501\u2501\u2501\u2501\u2501\u2501\u2501\u2501\u2501\u2501\u2501\u2501\u2501\u2501\u2501\u2501\u2501\u2501\u2501\u2501\u2501\u2501\u2501\u2501\u2501\u2501\u2501\u2501\u2501\u2501\u2501\u001b[0m \u001b[32m196.0/196.0 MB\u001b[0m \u001b[31m4.2 MB/s\u001b[0m eta \u001b[36m0:00:00\u001b[0m\n",
            "\u001b[?25hCollecting nvidia-nccl-cu12==2.20.5 (from torch==2.4.0)\n",
            "  Downloading https://download.pytorch.org/whl/cu121/nvidia_nccl_cu12-2.20.5-py3-none-manylinux2014_x86_64.whl (176.2 MB)\n",
            "\u001b[2K     \u001b[90m\u2501\u2501\u2501\u2501\u2501\u2501\u2501\u2501\u2501\u2501\u2501\u2501\u2501\u2501\u2501\u2501\u2501\u2501\u2501\u2501\u2501\u2501\u2501\u2501\u2501\u2501\u2501\u2501\u2501\u2501\u2501\u2501\u2501\u2501\u2501\u2501\u2501\u2501\u001b[0m \u001b[32m176.2/176.2 MB\u001b[0m \u001b[31m12.1 MB/s\u001b[0m eta \u001b[36m0:00:00\u001b[0m\n",
            "\u001b[?25hCollecting nvidia-nvtx-cu12==12.1.105 (from torch==2.4.0)\n",
            "  Downloading https://download.pytorch.org/whl/cu121/nvidia_nvtx_cu12-12.1.105-py3-none-manylinux1_x86_64.whl (99 kB)\n",
            "\u001b[2K     \u001b[90m\u2501\u2501\u2501\u2501\u2501\u2501\u2501\u2501\u2501\u2501\u2501\u2501\u2501\u2501\u2501\u2501\u2501\u2501\u2501\u2501\u2501\u2501\u2501\u2501\u2501\u2501\u2501\u2501\u2501\u2501\u2501\u2501\u2501\u2501\u2501\u2501\u2501\u2501\u2501\u2501\u001b[0m \u001b[32m99.1/99.1 kB\u001b[0m \u001b[31m10.3 MB/s\u001b[0m eta \u001b[36m0:00:00\u001b[0m\n",
            "\u001b[?25hCollecting triton==3.0.0 (from torch==2.4.0)\n",
            "  Downloading https://download.pytorch.org/whl/triton-3.0.0-1-cp312-cp312-manylinux2014_x86_64.manylinux_2_17_x86_64.whl (209.5 MB)\n",
            "\u001b[2K     \u001b[90m\u2501\u2501\u2501\u2501\u2501\u2501\u2501\u2501\u2501\u2501\u2501\u2501\u2501\u2501\u2501\u2501\u2501\u2501\u2501\u2501\u2501\u2501\u2501\u2501\u2501\u2501\u2501\u2501\u2501\u2501\u2501\u2501\u2501\u2501\u2501\u2501\u2501\u2501\u2501\u001b[0m \u001b[32m209.5/209.5 MB\u001b[0m \u001b[31m5.4 MB/s\u001b[0m eta \u001b[36m0:00:00\u001b[0m\n",
            "\u001b[?25hRequirement already satisfied: numpy in /usr/local/lib/python3.12/dist-packages (from torchvision==0.19.0) (2.0.2)\n",
            "Requirement already satisfied: pillow!=8.3.*,>=5.3.0 in /usr/local/lib/python3.12/dist-packages (from torchvision==0.19.0) (11.3.0)\n",
            "Requirement already satisfied: nvidia-nvjitlink-cu12 in /usr/local/lib/python3.12/dist-packages (from nvidia-cusolver-cu12==11.4.5.107->torch==2.4.0) (12.6.85)\n",
            "Requirement already satisfied: MarkupSafe>=2.0 in /usr/local/lib/python3.12/dist-packages (from jinja2->torch==2.4.0) (3.0.2)\n",
            "Requirement already satisfied: mpmath<1.4,>=1.1.0 in /usr/local/lib/python3.12/dist-packages (from sympy->torch==2.4.0) (1.3.0)\n",
            "Installing collected packages: triton, nvidia-nvtx-cu12, nvidia-nccl-cu12, nvidia-cusparse-cu12, nvidia-curand-cu12, nvidia-cufft-cu12, nvidia-cuda-runtime-cu12, nvidia-cuda-nvrtc-cu12, nvidia-cuda-cupti-cu12, nvidia-cublas-cu12, nvidia-cusolver-cu12, nvidia-cudnn-cu12, torch, torchvision, torchaudio\n",
            "  Attempting uninstall: triton\n",
            "    Found existing installation: triton 3.4.0\n",
            "    Uninstalling triton-3.4.0:\n",
            "      Successfully uninstalled triton-3.4.0\n",
            "  Attempting uninstall: nvidia-nvtx-cu12\n",
            "    Found existing installation: nvidia-nvtx-cu12 12.6.77\n",
            "    Uninstalling nvidia-nvtx-cu12-12.6.77:\n",
            "      Successfully uninstalled nvidia-nvtx-cu12-12.6.77\n",
            "  Attempting uninstall: nvidia-nccl-cu12\n",
            "    Found existing installation: nvidia-nccl-cu12 2.27.3\n",
            "    Uninstalling nvidia-nccl-cu12-2.27.3:\n",
            "      Successfully uninstalled nvidia-nccl-cu12-2.27.3\n",
            "  Attempting uninstall: nvidia-cusparse-cu12\n",
            "    Found existing installation: nvidia-cusparse-cu12 12.5.4.2\n",
            "    Uninstalling nvidia-cusparse-cu12-12.5.4.2:\n",
            "      Successfully uninstalled nvidia-cusparse-cu12-12.5.4.2\n",
            "  Attempting uninstall: nvidia-curand-cu12\n",
            "    Found existing installation: nvidia-curand-cu12 10.3.7.77\n",
            "    Uninstalling nvidia-curand-cu12-10.3.7.77:\n",
            "      Successfully uninstalled nvidia-curand-cu12-10.3.7.77\n",
            "  Attempting uninstall: nvidia-cufft-cu12\n",
            "    Found existing installation: nvidia-cufft-cu12 11.3.0.4\n",
            "    Uninstalling nvidia-cufft-cu12-11.3.0.4:\n",
            "      Successfully uninstalled nvidia-cufft-cu12-11.3.0.4\n",
            "  Attempting uninstall: nvidia-cuda-runtime-cu12\n",
            "    Found existing installation: nvidia-cuda-runtime-cu12 12.6.77\n",
            "    Uninstalling nvidia-cuda-runtime-cu12-12.6.77:\n",
            "      Successfully uninstalled nvidia-cuda-runtime-cu12-12.6.77\n",
            "  Attempting uninstall: nvidia-cuda-nvrtc-cu12\n",
            "    Found existing installation: nvidia-cuda-nvrtc-cu12 12.6.77\n",
            "    Uninstalling nvidia-cuda-nvrtc-cu12-12.6.77:\n",
            "      Successfully uninstalled nvidia-cuda-nvrtc-cu12-12.6.77\n",
            "  Attempting uninstall: nvidia-cuda-cupti-cu12\n",
            "    Found existing installation: nvidia-cuda-cupti-cu12 12.6.80\n",
            "    Uninstalling nvidia-cuda-cupti-cu12-12.6.80:\n",
            "      Successfully uninstalled nvidia-cuda-cupti-cu12-12.6.80\n",
            "  Attempting uninstall: nvidia-cublas-cu12\n",
            "    Found existing installation: nvidia-cublas-cu12 12.6.4.1\n",
            "    Uninstalling nvidia-cublas-cu12-12.6.4.1:\n",
            "      Successfully uninstalled nvidia-cublas-cu12-12.6.4.1\n",
            "  Attempting uninstall: nvidia-cusolver-cu12\n",
            "    Found existing installation: nvidia-cusolver-cu12 11.7.1.2\n",
            "    Uninstalling nvidia-cusolver-cu12-11.7.1.2:\n",
            "      Successfully uninstalled nvidia-cusolver-cu12-11.7.1.2\n",
            "  Attempting uninstall: nvidia-cudnn-cu12\n",
            "    Found existing installation: nvidia-cudnn-cu12 9.10.2.21\n",
            "    Uninstalling nvidia-cudnn-cu12-9.10.2.21:\n",
            "      Successfully uninstalled nvidia-cudnn-cu12-9.10.2.21\n",
            "  Attempting uninstall: torch\n",
            "    Found existing installation: torch 2.8.0+cu126\n",
            "    Uninstalling torch-2.8.0+cu126:\n",
            "      Successfully uninstalled torch-2.8.0+cu126\n",
            "  Attempting uninstall: torchvision\n",
            "    Found existing installation: torchvision 0.23.0+cu126\n",
            "    Uninstalling torchvision-0.23.0+cu126:\n",
            "      Successfully uninstalled torchvision-0.23.0+cu126\n",
            "  Attempting uninstall: torchaudio\n",
            "    Found existing installation: torchaudio 2.8.0+cu126\n",
            "    Uninstalling torchaudio-2.8.0+cu126:\n",
            "      Successfully uninstalled torchaudio-2.8.0+cu126\n",
            "\u001b[31mERROR: pip's dependency resolver does not currently take into account all the packages that are installed. This behaviour is the source of the following dependency conflicts.\n",
            "peft 0.17.1 requires huggingface_hub>=0.25.0, but you have huggingface-hub 0.20.0 which is incompatible.\n",
            "accelerate 1.10.1 requires huggingface_hub>=0.21.0, but you have huggingface-hub 0.20.0 which is incompatible.\u001b[0m\u001b[31m\n",
            "\u001b[0mSuccessfully installed nvidia-cublas-cu12-12.1.3.1 nvidia-cuda-cupti-cu12-12.1.105 nvidia-cuda-nvrtc-cu12-12.1.105 nvidia-cuda-runtime-cu12-12.1.105 nvidia-cudnn-cu12-9.1.0.70 nvidia-cufft-cu12-11.0.2.54 nvidia-curand-cu12-10.3.2.106 nvidia-cusolver-cu12-11.4.5.107 nvidia-cusparse-cu12-12.1.0.106 nvidia-nccl-cu12-2.20.5 nvidia-nvtx-cu12-12.1.105 torch-2.4.0+cu121 torchaudio-2.4.0+cu121 torchvision-0.19.0+cu121 triton-3.0.0\n",
            "Collecting causal-conv1d==1.4.0\n",
            "  Downloading causal_conv1d-1.4.0.tar.gz (9.3 kB)\n",
            "  Preparing metadata (setup.py) ... \u001b[?25l\u001b[?25hdone\n",
            "Requirement already satisfied: torch in /usr/local/lib/python3.12/dist-packages (from causal-conv1d==1.4.0) (2.4.0+cu121)\n",
            "Requirement already satisfied: packaging in /usr/local/lib/python3.12/dist-packages (from causal-conv1d==1.4.0) (25.0)\n",
            "Collecting ninja (from causal-conv1d==1.4.0)\n",
            "  Downloading ninja-1.13.0-py3-none-manylinux2014_x86_64.manylinux_2_17_x86_64.whl.metadata (5.1 kB)\n",
            "Requirement already satisfied: filelock in /usr/local/lib/python3.12/dist-packages (from torch->causal-conv1d==1.4.0) (3.19.1)\n",
            "Requirement already satisfied: typing-extensions>=4.8.0 in /usr/local/lib/python3.12/dist-packages (from torch->causal-conv1d==1.4.0) (4.15.0)\n",
            "Requirement already satisfied: sympy in /usr/local/lib/python3.12/dist-packages (from torch->causal-conv1d==1.4.0) (1.13.3)\n",
            "Requirement already satisfied: networkx in /usr/local/lib/python3.12/dist-packages (from torch->causal-conv1d==1.4.0) (3.5)\n",
            "Requirement already satisfied: jinja2 in /usr/local/lib/python3.12/dist-packages (from torch->causal-conv1d==1.4.0) (3.1.6)\n",
            "Requirement already satisfied: fsspec in /usr/local/lib/python3.12/dist-packages (from torch->causal-conv1d==1.4.0) (2023.10.0)\n",
            "Requirement already satisfied: setuptools in /usr/local/lib/python3.12/dist-packages (from torch->causal-conv1d==1.4.0) (75.2.0)\n",
            "Requirement already satisfied: nvidia-cuda-nvrtc-cu12==12.1.105 in /usr/local/lib/python3.12/dist-packages (from torch->causal-conv1d==1.4.0) (12.1.105)\n",
            "Requirement already satisfied: nvidia-cuda-runtime-cu12==12.1.105 in /usr/local/lib/python3.12/dist-packages (from torch->causal-conv1d==1.4.0) (12.1.105)\n",
            "Requirement already satisfied: nvidia-cuda-cupti-cu12==12.1.105 in /usr/local/lib/python3.12/dist-packages (from torch->causal-conv1d==1.4.0) (12.1.105)\n",
            "Requirement already satisfied: nvidia-cudnn-cu12==9.1.0.70 in /usr/local/lib/python3.12/dist-packages (from torch->causal-conv1d==1.4.0) (9.1.0.70)\n",
            "Requirement already satisfied: nvidia-cublas-cu12==12.1.3.1 in /usr/local/lib/python3.12/dist-packages (from torch->causal-conv1d==1.4.0) (12.1.3.1)\n",
            "Requirement already satisfied: nvidia-cufft-cu12==11.0.2.54 in /usr/local/lib/python3.12/dist-packages (from torch->causal-conv1d==1.4.0) (11.0.2.54)\n",
            "Requirement already satisfied: nvidia-curand-cu12==10.3.2.106 in /usr/local/lib/python3.12/dist-packages (from torch->causal-conv1d==1.4.0) (10.3.2.106)\n",
            "Requirement already satisfied: nvidia-cusolver-cu12==11.4.5.107 in /usr/local/lib/python3.12/dist-packages (from torch->causal-conv1d==1.4.0) (11.4.5.107)\n",
            "Requirement already satisfied: nvidia-cusparse-cu12==12.1.0.106 in /usr/local/lib/python3.12/dist-packages (from torch->causal-conv1d==1.4.0) (12.1.0.106)\n",
            "Requirement already satisfied: nvidia-nccl-cu12==2.20.5 in /usr/local/lib/python3.12/dist-packages (from torch->causal-conv1d==1.4.0) (2.20.5)\n",
            "Requirement already satisfied: nvidia-nvtx-cu12==12.1.105 in /usr/local/lib/python3.12/dist-packages (from torch->causal-conv1d==1.4.0) (12.1.105)\n",
            "Requirement already satisfied: triton==3.0.0 in /usr/local/lib/python3.12/dist-packages (from torch->causal-conv1d==1.4.0) (3.0.0)\n",
            "Requirement already satisfied: nvidia-nvjitlink-cu12 in /usr/local/lib/python3.12/dist-packages (from nvidia-cusolver-cu12==11.4.5.107->torch->causal-conv1d==1.4.0) (12.6.85)\n",
            "Requirement already satisfied: MarkupSafe>=2.0 in /usr/local/lib/python3.12/dist-packages (from jinja2->torch->causal-conv1d==1.4.0) (3.0.2)\n",
            "Requirement already satisfied: mpmath<1.4,>=1.1.0 in /usr/local/lib/python3.12/dist-packages (from sympy->torch->causal-conv1d==1.4.0) (1.3.0)\n",
            "Downloading ninja-1.13.0-py3-none-manylinux2014_x86_64.manylinux_2_17_x86_64.whl (180 kB)\n",
            "\u001b[2K   \u001b[90m\u2501\u2501\u2501\u2501\u2501\u2501\u2501\u2501\u2501\u2501\u2501\u2501\u2501\u2501\u2501\u2501\u2501\u2501\u2501\u2501\u2501\u2501\u2501\u2501\u2501\u2501\u2501\u2501\u2501\u2501\u2501\u2501\u2501\u2501\u2501\u2501\u2501\u2501\u2501\u2501\u001b[0m \u001b[32m180.7/180.7 kB\u001b[0m \u001b[31m6.2 MB/s\u001b[0m eta \u001b[36m0:00:00\u001b[0m\n",
            "\u001b[?25hBuilding wheels for collected packages: causal-conv1d\n",
            "  Building wheel for causal-conv1d (setup.py) ... \u001b[?25l\u001b[?25hdone\n",
            "  Created wheel for causal-conv1d: filename=causal_conv1d-1.4.0-cp312-cp312-linux_x86_64.whl size=104884589 sha256=70c6d91d00c625d750b83c9c4bdd0bd395c61aff9baa8c0d58e0a33dabbe3b4e\n",
            "  Stored in directory: /root/.cache/pip/wheels/3a/bd/04/a4893fd5ad69a02f55b49f04dc1dbbd7c439332db7895f62ff\n",
            "Successfully built causal-conv1d\n",
            "Installing collected packages: ninja, causal-conv1d\n",
            "Successfully installed causal-conv1d-1.4.0 ninja-1.13.0\n",
            "Collecting mamba-ssm==2.2.2\n",
            "  Downloading mamba_ssm-2.2.2.tar.gz (85 kB)\n",
            "\u001b[2K     \u001b[90m\u2501\u2501\u2501\u2501\u2501\u2501\u2501\u2501\u2501\u2501\u2501\u2501\u2501\u2501\u2501\u2501\u2501\u2501\u2501\u2501\u2501\u2501\u2501\u2501\u2501\u2501\u2501\u2501\u2501\u2501\u2501\u2501\u2501\u2501\u2501\u2501\u2501\u2501\u2501\u2501\u001b[0m \u001b[32m85.4/85.4 kB\u001b[0m \u001b[31m4.0 MB/s\u001b[0m eta \u001b[36m0:00:00\u001b[0m\n",
            "\u001b[?25h  Preparing metadata (setup.py) ... \u001b[?25l\u001b[?25hdone\n",
            "Requirement already satisfied: torch in /usr/local/lib/python3.12/dist-packages (from mamba-ssm==2.2.2) (2.4.0+cu121)\n",
            "Requirement already satisfied: packaging in /usr/local/lib/python3.12/dist-packages (from mamba-ssm==2.2.2) (25.0)\n",
            "Requirement already satisfied: ninja in /usr/local/lib/python3.12/dist-packages (from mamba-ssm==2.2.2) (1.13.0)\n",
            "Requirement already satisfied: einops in /usr/local/lib/python3.12/dist-packages (from mamba-ssm==2.2.2) (0.8.1)\n",
            "Requirement already satisfied: triton in /usr/local/lib/python3.12/dist-packages (from mamba-ssm==2.2.2) (3.0.0)\n",
            "Requirement already satisfied: transformers in /usr/local/lib/python3.12/dist-packages (from mamba-ssm==2.2.2) (4.56.1)\n",
            "Requirement already satisfied: filelock in /usr/local/lib/python3.12/dist-packages (from torch->mamba-ssm==2.2.2) (3.19.1)\n",
            "Requirement already satisfied: typing-extensions>=4.8.0 in /usr/local/lib/python3.12/dist-packages (from torch->mamba-ssm==2.2.2) (4.15.0)\n",
            "Requirement already satisfied: sympy in /usr/local/lib/python3.12/dist-packages (from torch->mamba-ssm==2.2.2) (1.13.3)\n",
            "Requirement already satisfied: networkx in /usr/local/lib/python3.12/dist-packages (from torch->mamba-ssm==2.2.2) (3.5)\n",
            "Requirement already satisfied: jinja2 in /usr/local/lib/python3.12/dist-packages (from torch->mamba-ssm==2.2.2) (3.1.6)\n",
            "Requirement already satisfied: fsspec in /usr/local/lib/python3.12/dist-packages (from torch->mamba-ssm==2.2.2) (2023.10.0)\n",
            "Requirement already satisfied: setuptools in /usr/local/lib/python3.12/dist-packages (from torch->mamba-ssm==2.2.2) (75.2.0)\n",
            "Requirement already satisfied: nvidia-cuda-nvrtc-cu12==12.1.105 in /usr/local/lib/python3.12/dist-packages (from torch->mamba-ssm==2.2.2) (12.1.105)\n",
            "Requirement already satisfied: nvidia-cuda-runtime-cu12==12.1.105 in /usr/local/lib/python3.12/dist-packages (from torch->mamba-ssm==2.2.2) (12.1.105)\n",
            "Requirement already satisfied: nvidia-cuda-cupti-cu12==12.1.105 in /usr/local/lib/python3.12/dist-packages (from torch->mamba-ssm==2.2.2) (12.1.105)\n",
            "Requirement already satisfied: nvidia-cudnn-cu12==9.1.0.70 in /usr/local/lib/python3.12/dist-packages (from torch->mamba-ssm==2.2.2) (9.1.0.70)\n",
            "Requirement already satisfied: nvidia-cublas-cu12==12.1.3.1 in /usr/local/lib/python3.12/dist-packages (from torch->mamba-ssm==2.2.2) (12.1.3.1)\n",
            "Requirement already satisfied: nvidia-cufft-cu12==11.0.2.54 in /usr/local/lib/python3.12/dist-packages (from torch->mamba-ssm==2.2.2) (11.0.2.54)\n",
            "Requirement already satisfied: nvidia-curand-cu12==10.3.2.106 in /usr/local/lib/python3.12/dist-packages (from torch->mamba-ssm==2.2.2) (10.3.2.106)\n",
            "Requirement already satisfied: nvidia-cusolver-cu12==11.4.5.107 in /usr/local/lib/python3.12/dist-packages (from torch->mamba-ssm==2.2.2) (11.4.5.107)\n",
            "Requirement already satisfied: nvidia-cusparse-cu12==12.1.0.106 in /usr/local/lib/python3.12/dist-packages (from torch->mamba-ssm==2.2.2) (12.1.0.106)\n",
            "Requirement already satisfied: nvidia-nccl-cu12==2.20.5 in /usr/local/lib/python3.12/dist-packages (from torch->mamba-ssm==2.2.2) (2.20.5)\n",
            "Requirement already satisfied: nvidia-nvtx-cu12==12.1.105 in /usr/local/lib/python3.12/dist-packages (from torch->mamba-ssm==2.2.2) (12.1.105)\n",
            "Requirement already satisfied: nvidia-nvjitlink-cu12 in /usr/local/lib/python3.12/dist-packages (from nvidia-cusolver-cu12==11.4.5.107->torch->mamba-ssm==2.2.2) (12.6.85)\n",
            "Collecting huggingface-hub<1.0,>=0.34.0 (from transformers->mamba-ssm==2.2.2)\n",
            "  Downloading huggingface_hub-0.34.4-py3-none-any.whl.metadata (14 kB)\n",
            "Requirement already satisfied: numpy>=1.17 in /usr/local/lib/python3.12/dist-packages (from transformers->mamba-ssm==2.2.2) (2.0.2)\n",
            "Requirement already satisfied: pyyaml>=5.1 in /usr/local/lib/python3.12/dist-packages (from transformers->mamba-ssm==2.2.2) (6.0.2)\n",
            "Requirement already satisfied: regex!=2019.12.17 in /usr/local/lib/python3.12/dist-packages (from transformers->mamba-ssm==2.2.2) (2024.11.6)\n",
            "Requirement already satisfied: requests in /usr/local/lib/python3.12/dist-packages (from transformers->mamba-ssm==2.2.2) (2.32.4)\n",
            "Requirement already satisfied: tokenizers<=0.23.0,>=0.22.0 in /usr/local/lib/python3.12/dist-packages (from transformers->mamba-ssm==2.2.2) (0.22.0)\n",
            "Requirement already satisfied: safetensors>=0.4.3 in /usr/local/lib/python3.12/dist-packages (from transformers->mamba-ssm==2.2.2) (0.6.2)\n",
            "Requirement already satisfied: tqdm>=4.27 in /usr/local/lib/python3.12/dist-packages (from transformers->mamba-ssm==2.2.2) (4.67.1)\n",
            "Requirement already satisfied: hf-xet<2.0.0,>=1.1.3 in /usr/local/lib/python3.12/dist-packages (from huggingface-hub<1.0,>=0.34.0->transformers->mamba-ssm==2.2.2) (1.1.9)\n",
            "Requirement already satisfied: MarkupSafe>=2.0 in /usr/local/lib/python3.12/dist-packages (from jinja2->torch->mamba-ssm==2.2.2) (3.0.2)\n",
            "Requirement already satisfied: charset_normalizer<4,>=2 in /usr/local/lib/python3.12/dist-packages (from requests->transformers->mamba-ssm==2.2.2) (3.4.3)\n",
            "Requirement already satisfied: idna<4,>=2.5 in /usr/local/lib/python3.12/dist-packages (from requests->transformers->mamba-ssm==2.2.2) (3.10)\n",
            "Requirement already satisfied: urllib3<3,>=1.21.1 in /usr/local/lib/python3.12/dist-packages (from requests->transformers->mamba-ssm==2.2.2) (2.5.0)\n",
            "Requirement already satisfied: certifi>=2017.4.17 in /usr/local/lib/python3.12/dist-packages (from requests->transformers->mamba-ssm==2.2.2) (2025.8.3)\n",
            "Requirement already satisfied: mpmath<1.4,>=1.1.0 in /usr/local/lib/python3.12/dist-packages (from sympy->torch->mamba-ssm==2.2.2) (1.3.0)\n",
            "Downloading huggingface_hub-0.34.4-py3-none-any.whl (561 kB)\n",
            "\u001b[2K   \u001b[90m\u2501\u2501\u2501\u2501\u2501\u2501\u2501\u2501\u2501\u2501\u2501\u2501\u2501\u2501\u2501\u2501\u2501\u2501\u2501\u2501\u2501\u2501\u2501\u2501\u2501\u2501\u2501\u2501\u2501\u2501\u2501\u2501\u2501\u2501\u2501\u2501\u2501\u2501\u2501\u2501\u001b[0m \u001b[32m561.5/561.5 kB\u001b[0m \u001b[31m23.5 MB/s\u001b[0m eta \u001b[36m0:00:00\u001b[0m\n",
            "\u001b[?25hBuilding wheels for collected packages: mamba-ssm\n",
            "  Building wheel for mamba-ssm (setup.py) ... \u001b[?25l\u001b[?25hdone\n",
            "  Created wheel for mamba-ssm: filename=mamba_ssm-2.2.2-cp312-cp312-linux_x86_64.whl size=324005633 sha256=f4cf06585ac28c783dbe6fe357c64218415af3665c3c06106be8f86dab69b2a8\n",
            "  Stored in directory: /root/.cache/pip/wheels/5f/b8/99/4112d82fe2a9458dd194c3ff54c43a14a8594c8f90cf16046f\n",
            "Successfully built mamba-ssm\n",
            "Installing collected packages: huggingface-hub, mamba-ssm\n",
            "  Attempting uninstall: huggingface-hub\n",
            "    Found existing installation: huggingface-hub 0.20.0\n",
            "    Uninstalling huggingface-hub-0.20.0:\n",
            "      Successfully uninstalled huggingface-hub-0.20.0\n",
            "Successfully installed huggingface-hub-0.34.4 mamba-ssm-2.2.2\n"
          ]
        }
      ],
      "source": [
        "#!pip install -U datasets\n",
        "!pip install datasets==2.16.0\n",
        "!pip install huggingface-hub==0.20.0\n",
        "!apt-get install -y libsox-dev\n",
        "!pip install torch==2.4.0 torchvision==0.19.0 torchaudio==2.4.0 --index-url https://download.pytorch.org/whl/cu121\n",
        "!pip install causal-conv1d==1.4.0 && pip install mamba-ssm==2.2.2"
      ]
    },
    {
      "cell_type": "code",
      "source": [
        "# Keyword\u2011Spotting with Mamba SSM\n",
        "# ------------------------------------------------\n",
        "# 1. Uses Mamba state\u2011space blocks instead of a CNN.\n",
        "# 2. Maintains separate front\u2011ends for train vs. eval (no masks in eval).\n",
        "# 3. Handles variable\u2011length sequences with a custom `collate_fn` (pads \u201380\u202fdB).\n",
        "# 4. One\u2011Cycle LR scheduler stepped correctly each batch.\n",
        "# 5. Saves best + final checkpoints to Google\u00a0Drive.\n",
        "\n",
        "\n",
        "from __future__ import annotations\n",
        "import json, os, random\n",
        "from pathlib import Path\n",
        "from typing import Tuple, Dict\n",
        "import torch, torchaudio\n",
        "import torch.nn as nn\n",
        "import os\n",
        "import math\n",
        "import torch.nn.functional as F\n",
        "import torchvision.models as tvm\n",
        "import torchaudio.transforms as T\n",
        "from torch.utils.data import Dataset, DataLoader\n",
        "from datasets import load_dataset\n",
        "from tqdm.notebook import tqdm\n",
        "from mamba_ssm import Mamba\n",
        "\n",
        "from google.colab import drive\n",
        "drive.mount('/content/drive')"
      ],
      "metadata": {
        "colab": {
          "base_uri": "https://localhost:8080/"
        },
        "collapsed": true,
        "id": "vVGJGcPH9Xdt",
        "outputId": "0bd3e454-0d89-4410-ec2c-755801b4a8b4"
      },
      "execution_count": null,
      "outputs": [
        {
          "output_type": "stream",
          "name": "stderr",
          "text": [
            "/usr/local/lib/python3.12/dist-packages/mamba_ssm/ops/selective_scan_interface.py:163: FutureWarning: `torch.cuda.amp.custom_fwd(args...)` is deprecated. Please use `torch.amp.custom_fwd(args..., device_type='cuda')` instead.\n",
            "  @custom_fwd\n",
            "/usr/local/lib/python3.12/dist-packages/mamba_ssm/ops/selective_scan_interface.py:239: FutureWarning: `torch.cuda.amp.custom_bwd(args...)` is deprecated. Please use `torch.amp.custom_bwd(args..., device_type='cuda')` instead.\n",
            "  @custom_bwd\n",
            "/usr/local/lib/python3.12/dist-packages/mamba_ssm/ops/triton/layer_norm.py:985: FutureWarning: `torch.cuda.amp.custom_fwd(args...)` is deprecated. Please use `torch.amp.custom_fwd(args..., device_type='cuda')` instead.\n",
            "  @custom_fwd\n",
            "/usr/local/lib/python3.12/dist-packages/mamba_ssm/ops/triton/layer_norm.py:1044: FutureWarning: `torch.cuda.amp.custom_bwd(args...)` is deprecated. Please use `torch.amp.custom_bwd(args..., device_type='cuda')` instead.\n",
            "  @custom_bwd\n",
            "/usr/local/lib/python3.12/dist-packages/mamba_ssm/distributed/tensor_parallel.py:25: FutureWarning: `torch.cuda.amp.custom_fwd(args...)` is deprecated. Please use `torch.amp.custom_fwd(args..., device_type='cuda')` instead.\n",
            "  @custom_fwd\n",
            "/usr/local/lib/python3.12/dist-packages/mamba_ssm/distributed/tensor_parallel.py:61: FutureWarning: `torch.cuda.amp.custom_bwd(args...)` is deprecated. Please use `torch.amp.custom_bwd(args..., device_type='cuda')` instead.\n",
            "  @custom_bwd\n",
            "/usr/local/lib/python3.12/dist-packages/mamba_ssm/ops/triton/ssd_combined.py:757: FutureWarning: `torch.cuda.amp.custom_fwd(args...)` is deprecated. Please use `torch.amp.custom_fwd(args..., device_type='cuda')` instead.\n",
            "  @custom_fwd\n",
            "/usr/local/lib/python3.12/dist-packages/mamba_ssm/ops/triton/ssd_combined.py:835: FutureWarning: `torch.cuda.amp.custom_bwd(args...)` is deprecated. Please use `torch.amp.custom_bwd(args..., device_type='cuda')` instead.\n",
            "  @custom_bwd\n"
          ]
        },
        {
          "output_type": "stream",
          "name": "stdout",
          "text": [
            "Mounted at /content/drive\n"
          ]
        }
      ]
    },
    {
      "cell_type": "code",
      "source": [
        "# ---------------------------------------------------------------------\n",
        "# 2. Waveform-level augmentation (shift + noise)\n",
        "# ---------------------------------------------------------------------\n",
        "class WaveToSpec:\n",
        "    def __init__(self,\n",
        "                 feature_type: str = \"mel\",\n",
        "                 sample_rate: int = 16_000,\n",
        "                 n_fft: int = 2048,\n",
        "                 hop_length: int = 256,\n",
        "                 n_mels: int = 128,\n",
        "                 n_mfcc: int = 40,\n",
        "                 top_db: int | None = 80,\n",
        "                 apply_mask: bool = True,\n",
        "                 freq_mask_param: int = 15,\n",
        "                 time_mask_param: int = 10):\n",
        "        self.feature_type = feature_type.lower(); assert self.feature_type in {\"mel\",\"mfcc\"}\n",
        "        self.apply_mask = apply_mask and self.feature_type == \"mel\"\n",
        "\n",
        "        if self.feature_type == \"mel\":\n",
        "            self.spec = T.MelSpectrogram(sample_rate, n_fft, hop_length, n_mels, power=2)\n",
        "            self.to_db = T.AmplitudeToDB(stype=\"power\", top_db=top_db)\n",
        "            if self.apply_mask:\n",
        "                self.freq_mask = T.FrequencyMasking(freq_mask_param)\n",
        "                self.time_mask = T.TimeMasking(time_mask_param)\n",
        "        else:\n",
        "            self.spec = T.MFCC(sample_rate, n_mfcc,\n",
        "                                melkwargs=dict(n_fft=n_fft, hop_length=hop_length, n_mels=n_mels))\n",
        "            self.to_db = None\n",
        "            self.freq_mask = self.time_mask = None\n",
        "\n",
        "    def __call__(self, wav: torch.Tensor) -> torch.Tensor:\n",
        "        if wav.dim() == 1:\n",
        "            wav = wav.unsqueeze(0)\n",
        "        feats = self.spec(wav)\n",
        "        if self.to_db is not None:\n",
        "            feats = self.to_db(feats.clamp(min=1e-10))\n",
        "        if self.apply_mask:\n",
        "            # stronger SpecAugment \u2014 apply two freq & two time masks\n",
        "            feats = self.freq_mask(feats); feats = self.time_mask(feats)\n",
        "            feats = self.freq_mask(feats); feats = self.time_mask(feats)\n",
        "        return feats\n",
        "\n",
        "class Augment:\n",
        "    def __init__(self, stretch: Tuple[float,float]=(1.0,1.0),\n",
        "                 shift_ms: int = 100,\n",
        "                 noise: Tuple[float,float]=(0.,0.005),\n",
        "                 sr: int = 16_000):\n",
        "        self.stretch = stretch\n",
        "        self.shift   = int(shift_ms * sr / 1000)\n",
        "        self.noise   = noise\n",
        "        self.sr      = sr\n",
        "\n",
        "    def _shift(self, x: torch.Tensor):\n",
        "        if self.shift == 0:\n",
        "            return x\n",
        "        s = int(torch.randint(-self.shift, self.shift + 1, ()).item())\n",
        "        if s == 0:\n",
        "            return x\n",
        "        return (F.pad(x, (s, 0))[:, :-s] if s > 0 else F.pad(x, (0, -s))[:, -s:])\n",
        "\n",
        "    def __call__(self, wav: torch.Tensor):\n",
        "        squeezed = False\n",
        "        if wav.dim() == 1:\n",
        "            wav = wav.unsqueeze(0)\n",
        "            squeezed = True\n",
        "        if self.stretch != (1.0, 1.0):\n",
        "            factor = float(torch.empty(()).uniform_(*self.stretch))\n",
        "            if abs(factor - 1.0) > 1e-3:\n",
        "                wav, _ = torchaudio.sox_effects.apply_effects_tensor(\n",
        "                    wav, self.sr, [[\"tempo\", f\"{factor}\"]]\n",
        "                )\n",
        "        wav = self._shift(wav)\n",
        "        if self.noise[1] > 0:\n",
        "            sigma = float(torch.empty(()).uniform_(*self.noise))\n",
        "            if sigma > 0:\n",
        "                wav = wav + sigma * torch.randn_like(wav)\n",
        "        return wav.squeeze(0) if squeezed else wav"
      ],
      "metadata": {
        "id": "SNS1FZs59YFq"
      },
      "execution_count": null,
      "outputs": []
    },
    {
      "cell_type": "code",
      "source": [
        "# ---------------------------------------------------------------------\n",
        "# 3. Dataset wrapper with dataset-level normalization\n",
        "# ---------------------------------------------------------------------\n",
        "class SpeechCommands(Dataset):\n",
        "    def __init__(self, hf_split, aug: Augment | None, frontend: WaveToSpec,\n",
        "                 wav_len: int = 16_000, mean: float = 0.0, std: float = 1.0):\n",
        "        self.ds, self.aug, self.front = hf_split, aug, frontend\n",
        "        self.wav_len = wav_len\n",
        "        self.mean = mean\n",
        "        self.std = std\n",
        "\n",
        "    def __len__(self):\n",
        "        return len(self.ds)\n",
        "\n",
        "    def __getitem__(self, idx):\n",
        "        sample = self.ds[idx]\n",
        "        wav = torch.from_numpy(sample[\"audio\"][\"array\"]).float()\n",
        "\n",
        "        if wav.numel() < self.wav_len:\n",
        "            wav = F.pad(wav, (0, self.wav_len - wav.numel()))\n",
        "        else:\n",
        "            wav = wav[: self.wav_len]\n",
        "\n",
        "        if self.aug:\n",
        "            wav = self.aug(wav)\n",
        "        feats = self.front(wav)           # [C=1, 40, ~55] for MFCC\n",
        "        feats = (feats - self.mean) / (self.std + 1e-6)  # Normalize with precomputed stats\n",
        "        feats = feats.squeeze(0).transpose(0, 1)  # [T=55, 40]\n",
        "        return feats, sample[\"label\"]"
      ],
      "metadata": {
        "id": "zSD5VmAh9aH0"
      },
      "execution_count": null,
      "outputs": []
    },
    {
      "cell_type": "code",
      "source": [
        "# ---------------------------------------------------------------------\n",
        "# 4. Helper funcs = collate function + data mean/std + LR decay func\n",
        "# ---------------------------------------------------------------------\n",
        "from torch.nn.utils.rnn import pad_sequence\n",
        "\n",
        "# Add padding to spectrograms if needed\n",
        "def collate_fn(batch):\n",
        "    feats, lbls = zip(*batch)\n",
        "    # also return true lengths for mask-aware pooling\n",
        "    lens = torch.tensor([f.size(0) for f in feats], dtype=torch.long)\n",
        "    feats_padded = pad_sequence(feats, batch_first=True, padding_value=0.0)  # [B, T_max, F]\n",
        "    return feats_padded, torch.tensor(lbls), lens\n",
        "\n",
        "\n",
        "# Defines your learning rate schedule\n",
        "def lr_lambda(step):\n",
        "    ' ' 'Start with a very low learning rate and gradually increase it' ' '\n",
        "    if step < warmup_steps:\n",
        "        return float(step) / float(max(1, warmup_steps))\n",
        "    progress = float(step - warmup_steps) / float(max(1, total_steps - warmup_steps))\n",
        "    return max(0.005, 0.5 * (1.0 + math.cos(math.pi * progress)))\n",
        "\n",
        "\n",
        "# Precompute dataset-level mean and std for MFCCs\n",
        "def compute_dataset_stats(ds, frontend, wav_len=16_000):\n",
        "    feats_all = []\n",
        "    for sample in ds:\n",
        "        wav = torch.from_numpy(sample[\"audio\"][\"array\"]).float()\n",
        "        if wav.numel() < wav_len:\n",
        "            wav = F.pad(wav, (0, wav_len - wav.numel()))\n",
        "        else:\n",
        "            wav = wav[: wav_len]\n",
        "        feats = frontend(wav).squeeze(0).transpose(0, 1)  # [T, 40]\n",
        "        feats_all.append(feats)\n",
        "    feats_all = torch.cat(feats_all, dim=0)\n",
        "    return feats_all.mean().item(), feats_all.std().item()\n"
      ],
      "metadata": {
        "id": "ZGtWGIg-9cH6"
      },
      "execution_count": null,
      "outputs": []
    },
    {
      "cell_type": "code",
      "source": [
        "# ---------------------------------------------------------------------\n",
        "# 5. Mamba KWS model with normalization and residuals\n",
        "# ---------------------------------------------------------------------\n",
        "class MambaKWS(nn.Module):\n",
        "    def __init__(self, num_classes: int, d_model=256, d_state=32, expand=2, n_layers=8, in_ch=1, feature_dim=128):\n",
        "        super().__init__()\n",
        "\n",
        "        # Convolutional embedding layer for feature extraction\n",
        "        self.conv_embed = nn.Sequential(\n",
        "            nn.Conv2d(in_ch, 32, 3, padding=1),\n",
        "            nn.BatchNorm2d(32), nn.SiLU(),\n",
        "            nn.Conv2d(32, 32, 3, padding=1),\n",
        "            nn.BatchNorm2d(32), nn.SiLU(),\n",
        "            nn.MaxPool2d(2),\n",
        "\n",
        "            nn.Conv2d(32, 64, 3, padding=1),\n",
        "            nn.BatchNorm2d(64), nn.SiLU(),\n",
        "            nn.Conv2d(64, 64, 3, padding=1),\n",
        "            nn.BatchNorm2d(64), nn.SiLU(),\n",
        "            nn.MaxPool2d((2, 1)),\n",
        "        )\n",
        "\n",
        "        # Calculate the flattened dimension after convolutions to project to d_model\n",
        "        freq_dim_after_conv = feature_dim // 4\n",
        "        flattened_dim = 64 * freq_dim_after_conv\n",
        "\n",
        "        # Projection layer to map flattened conv features to Mamba's dimension\n",
        "        self.proj = nn.Sequential(\n",
        "            nn.Linear(flattened_dim, d_model),\n",
        "            nn.LayerNorm(d_model),\n",
        "            nn.SiLU(),\n",
        "            nn.Dropout(0.1)\n",
        "        )\n",
        "\n",
        "        # Add Mamba blocks with layer norm and residuals\n",
        "        self.blocks = nn.ModuleList([\n",
        "            nn.ModuleDict({\n",
        "                \"norm\": nn.LayerNorm(d_model),\n",
        "                \"mamba\": Mamba(d_model=d_model, d_state=d_state, expand=expand),\n",
        "                \"dropout\": nn.Dropout(max(0.02, 0.05 - (i * 0.005)))\n",
        "            }) for i in range(n_layers)\n",
        "        ])\n",
        "        self.pre_classifier_norm = nn.LayerNorm(d_model)\n",
        "\n",
        "        # Classifier head\n",
        "        self.classifier_dropout = nn.Dropout(0.1)\n",
        "        self.classifier = nn.Sequential(\n",
        "            nn.Linear(d_model, d_model // 2),\n",
        "            nn.SiLU(),\n",
        "            nn.Dropout(0.05),\n",
        "            nn.Linear(d_model // 2, num_classes)\n",
        "        )\n",
        "\n",
        "    # accept lengths for mask-aware pooling\n",
        "    def forward(self, x, lengths: torch.Tensor | None = None):  # x: [B, T, F]\n",
        "        # reshape for Conv2d: [B, T, F] -> [B, 1, F, T]\n",
        "        x = x.permute(0, 2, 1).unsqueeze(1)\n",
        "\n",
        "        # conv front-end\n",
        "        x = self.conv_embed(x)                  # [B, 64, F', T']\n",
        "\n",
        "        # flatten per time-step and project\n",
        "        x = x.permute(0, 3, 1, 2).contiguous().flatten(2)  # [B, T', 64*F']\n",
        "        x = self.proj(x)                                   # [B, T', d_model]\n",
        "\n",
        "        for i, blk in enumerate(self.blocks):\n",
        "            residual = x\n",
        "            x = blk[\"norm\"](x)\n",
        "            x = blk[\"mamba\"](x)\n",
        "            x = blk[\"dropout\"](x)\n",
        "            x = residual + x\n",
        "\n",
        "        x = self.pre_classifier_norm(x)\n",
        "\n",
        "        # mask-aware mean pooling over time\n",
        "        if lengths is not None:\n",
        "            t_lens = torch.div(lengths, 2, rounding_mode='floor').clamp(min=1).to(x.device)  # first pool halves time\n",
        "            Tprime = x.size(1)\n",
        "            mask = (torch.arange(Tprime, device=x.device)[None, :] < t_lens[:, None]).float()  # [B, T']\n",
        "            mask = mask.unsqueeze(-1)  # [B, T', 1]\n",
        "            x_sum = (x * mask).sum(dim=1)                            # [B, d_model]\n",
        "            denom = mask.sum(dim=1).clamp(min=1.0)                   # [B, 1]\n",
        "            pooled = x_sum / denom\n",
        "        else:\n",
        "            pooled = x.mean(dim=1)\n",
        "\n",
        "        main_output = self.classifier(self.classifier_dropout(pooled))\n",
        "        return main_output\n",
        "\n",
        "# ---------------------------------------------------------------------\n",
        "@torch.no_grad()\n",
        "def evaluate(model, loader, device, criterion):\n",
        "    model.eval()\n",
        "    tot = correct = loss_sum = 0\n",
        "    for batch in loader:\n",
        "        xb, yb, lb = batch  # unpack lengths from loader\n",
        "        xb, yb, lb = xb.to(device), yb.to(device), lb.to(device)\n",
        "        logits = model(xb, lengths=lb)\n",
        "        loss = criterion(logits, yb)\n",
        "        loss_sum += loss.item() * xb.size(0)\n",
        "        correct += (logits.argmax(1) == yb).sum().item()\n",
        "        tot += xb.size(0)\n",
        "    return loss_sum / tot, 100 * correct / tot"
      ],
      "metadata": {
        "id": "y6lH7nTk9dan"
      },
      "execution_count": null,
      "outputs": []
    },
    {
      "cell_type": "code",
      "source": [
        "# ---------------------------------------------------------------------\n",
        "# 6. Main script\n",
        "# ---------------------------------------------------------------------\n",
        "if __name__ == \"__main__\":\n",
        "    device = torch.device(\"cuda\" if torch.cuda.is_available() else \"cpu\")\n",
        "    use_amp = (device.type == \"cuda\")\n",
        "\n",
        "    # ---- dataset\n",
        "    ds = load_dataset(\"google/speech_commands\", \"v0.02\")\n",
        "    n_classes = len(ds[\"train\"].features[\"label\"].names)\n",
        "\n",
        "    # log-mel + SpecAugment (train only)\n",
        "    feature_type = \"mel\"        # \"mel\"/\"mfcc\"\n",
        "    Epochs = 100\n",
        "    base_lr = 5e-4 # A bit lower compared to with AUX\n",
        "    warmup_frac = 0.12          # % of epochs warmup\n",
        "\n",
        "    frontend_train = WaveToSpec(\n",
        "        feature_type=feature_type,\n",
        "        n_mfcc=40, n_mels=128,\n",
        "        apply_mask=True,         # SpecAugment on train\n",
        "        freq_mask_param=12,\n",
        "        time_mask_param=20\n",
        "    )\n",
        "    frontend_eval = WaveToSpec(\n",
        "        feature_type=feature_type,\n",
        "        n_mfcc=40, n_mels=128,\n",
        "        apply_mask=False\n",
        "    )\n",
        "\n",
        "    frontend_stats = WaveToSpec(feature_type=feature_type, n_mfcc=40, n_mels=128, apply_mask=False)\n",
        "\n",
        "    # Waveform augs shift + a bit of noise\n",
        "    aug = Augment(shift_ms=120, noise=(0., 0.005))\n",
        "\n",
        "    # Normalization stats\n",
        "    train_mean, train_std = compute_dataset_stats(ds[\"train\"], frontend_stats)\n",
        "\n",
        "    # Datasets\n",
        "    train_ds = SpeechCommands(ds[\"train\"], aug, frontend_train, mean=train_mean, std=train_std)\n",
        "    val_ds   = SpeechCommands(ds[\"validation\"], None, frontend_eval, mean=train_mean, std=train_std)\n",
        "    test_ds  = SpeechCommands(ds[\"test\"], None, frontend_eval, mean=train_mean, std=train_std)\n",
        "\n",
        "    # Loaders\n",
        "    dl_kwargs = dict(\n",
        "        batch_size=64,\n",
        "        num_workers=2,\n",
        "        pin_memory=True,\n",
        "        persistent_workers=True,\n",
        "        collate_fn=collate_fn\n",
        "    )\n",
        "    train_dl = DataLoader(train_ds, shuffle=True, **dl_kwargs)\n",
        "    val_dl   = DataLoader(val_ds, shuffle=False, **dl_kwargs)\n",
        "\n",
        "    # Model\n",
        "    model = MambaKWS(n_classes, d_model=128, d_state=16, n_layers=10).to(device)\n",
        "\n",
        "    # Loss/opt/sched (per-batch schedule; short warmup; cosine with floor)\n",
        "    criterion = nn.CrossEntropyLoss(label_smoothing=0.07)\n",
        "    opt = torch.optim.AdamW(model.parameters(), lr=base_lr, weight_decay=1.8e-4, betas=(0.9, 0.999))\n",
        "\n",
        "    # slightly longer cosine tail (decays past training horizon)\n",
        "    steps_per_epoch = len(train_dl)\n",
        "    total_steps     = steps_per_epoch * Epochs\n",
        "    warmup_steps    = int(total_steps * warmup_frac)\n",
        "    sched = torch.optim.lr_scheduler.LambdaLR(opt, lr_lambda)\n",
        "\n",
        "\n",
        "    # Training loop with AMP, clipping, collapse guard, and checkpoints\n",
        "    best_val_acc = 0.0\n",
        "    prev_val_acc = 0.0\n",
        "    BEST_PATH = Path(\"/content/best_kws.pt\")\n",
        "    BEST_PATH.parent.mkdir(parents=True, exist_ok=True)\n",
        "\n",
        "    scaler = torch.cuda.amp.GradScaler(enabled=use_amp)\n",
        "    global_step = 0  # track steps to know when warmup ends\n",
        "\n",
        "    for epoch in range(1, Epochs + 1):\n",
        "        model.train()\n",
        "        running_loss = correct = total = 0.0\n",
        "\n",
        "        pbar = tqdm(train_dl, desc=f\"Epoch {epoch:02d}\")\n",
        "        for batch in pbar:\n",
        "            xb, yb, lb = batch\n",
        "            xb = xb.to(device, non_blocking=True)\n",
        "            yb = yb.to(device, non_blocking=True)\n",
        "            lb = lb.to(device, non_blocking=True)\n",
        "\n",
        "            with torch.amp.autocast(device_type=device.type, dtype=torch.bfloat16,\n",
        "                                    enabled=use_amp and torch.cuda.is_bf16_supported()):\n",
        "                if torch.isnan(xb).any():\n",
        "                    xb = torch.nan_to_num(xb, nan=0.0)\n",
        "\n",
        "                logits = model(xb, lengths=lb)\n",
        "                loss = criterion(logits, yb)\n",
        "\n",
        "                if not torch.isfinite(loss):\n",
        "                    continue\n",
        "\n",
        "            opt.zero_grad(set_to_none=True)\n",
        "            scaler.scale(loss).backward()\n",
        "            scaler.unscale_(opt)\n",
        "            torch.nn.utils.clip_grad_norm_(model.parameters(), max_norm=0.3)\n",
        "            scaler.step(opt)\n",
        "            scaler.update()\n",
        "            sched.step()  # per-batch warmup + cosine\n",
        "            global_step += 1\n",
        "\n",
        "            pred = logits.argmax(1)\n",
        "            correct += (pred == yb).sum().item()\n",
        "            total += yb.size(0)\n",
        "            running_loss += loss.item() * yb.size(0)\n",
        "\n",
        "            pbar.set_postfix(\n",
        "                train_loss=f\"{running_loss / max(1,total):.3f}\",\n",
        "                train_acc=f\"{100 * correct / max(1,total):.2f}%\",\n",
        "                lr=f\"{opt.param_groups[0]['lr']:.2e}\"\n",
        "            )\n",
        "\n",
        "        tr_acc = 100.0 * correct / max(1, total)\n",
        "        val_loss, val_acc = evaluate(model, val_dl, device, criterion)\n",
        "        print(f\"Epoch {epoch:02d} \u279c train {tr_acc:.2f}% | val {val_acc:.2f}% (loss {val_loss:.3f}) | lr {opt.param_groups[0]['lr']:.2e}\")\n",
        "\n",
        "        # Collapse guard: big sudden drop -> reload best + shrink LR\n",
        "        if epoch > 1 and prev_val_acc > 50.0 and val_acc < 0.5 * prev_val_acc:\n",
        "            print(f\"WARNING: accuracy collapse ({prev_val_acc:.2f}% \u2192 {val_acc:.2f}%). Restoring best and reducing LR \u00d75.\")\n",
        "            if BEST_PATH.exists():\n",
        "                model.load_state_dict(torch.load(BEST_PATH, map_location=device))\n",
        "            for g in opt.param_groups:\n",
        "                g['lr'] = max(g['lr'] / 5.0, 1e-6)\n",
        "            print(f\"New LR: {opt.param_groups[0]['lr']:.2e}\")\n",
        "\n",
        "        # Best-by-accuracy checkpoint\n",
        "        if val_acc > best_val_acc:\n",
        "            best_val_acc = val_acc\n",
        "            torch.save(model.state_dict(), BEST_PATH)\n",
        "            print(f\"** Saved new best model params ** @ {best_val_acc:.2f}%\")\n",
        "\n",
        "        prev_val_acc = val_acc\n",
        "\n"
      ],
      "metadata": {
        "colab": {
          "base_uri": "https://localhost:8080/",
          "height": 1000,
          "referenced_widgets": [
            "e3b8347d8a3d4376a368ea8c8df8b29e",
            "d01546ea67b14ef29e0b06d9a8735519",
            "8994f434f0f54b8b9e5d8f1f0ba38270",
            "d223862983f94e0ba4f73cfacdaedd48",
            "20e11138d1d04947baea14f0d0fa0410",
            "c0d8be3b81fd4b2aacef37d66a760b68",
            "a7d8c82d14024dab9341104a64d7fca0",
            "fac7f9a97a404a559aa78603cf851145",
            "3322b5591429453fb2cc1e18c4fc4f16",
            "39bd284a569748db93ca9a5bd4075ebf",
            "7491127cb25f46da940f6e3633f0bea8",
            "25098eb848ff4e7d8959f5d27486b652",
            "ac4445ab2aaa4411ba66cd92daa654e9",
            "ea33f343b05640da919944a4823cb464",
            "447713b75cc645b2bc62458d5bfbef93",
            "99507e08c463465d9a31f5896467d1e6",
            "0c8b2f18d20c47d8a5976bf2e383055f",
            "2818899806074f258209eb7a159b70f4",
            "a7923b232fd145d7b76805a6163f9b5e",
            "65c4159086544aca9f731fd7e84b96b7",
            "f3879b20af37429a8eb9755538ff2b8e",
            "fbdd0b8deb8c44eb8599d003a3731584",
            "7216f6124bb9442590dc754e094d59ec",
            "a5b03b9d95ea4a12b1c11d24dcaa00c6",
            "279ff40186114ffb90ae69185fc364fd",
            "10aaf1290fdf44d494ebb59fe9df2a46",
            "bf4339f0bcfe4b4598ea67e9323feeb9",
            "540232e49ec24dc7baacddf4460a801a",
            "b7c526894a584443b624b7ef9fd49867",
            "3c4e57e04b474674a8c8b7ab71cdbd8f",
            "e28fe0d44ac54ae987ae10d54c227515",
            "45975738343a48c698a6077de52dd4ac",
            "4f7239b649cc4f8c98b7150c522d669a",
            "493f308d240e46dbac28a12a661b465d",
            "116500685b364748b3974bc74d5c32ab",
            "af55cfb354af47c5befb4dc9bf3d32d0",
            "22e4572a25db46a596f99557a7b1146a",
            "602281fe2a634abda21e8db84d1f953d",
            "a90d58a4dfbd44c5847267988288c34a",
            "ac7e1f3343524a69959020a5fb85809d",
            "fcc9e4f4d0a044f78b6a0eda6fbe8e00",
            "788378f31e3749f3a19e6706002a2fd0",
            "5640be8ea6104891b093559c145a5b76",
            "2bb5f0d840f54b91af45cb8f52c3b352",
            "d12629fc20c44394af06d215439676d6",
            "1d5ca97350e94d75a5f567a36d32b78d",
            "f63055cb1a8e444093562332e78d3285",
            "e1c3d0d79a854cce88dfe69d752a8151",
            "42362a096e9746d6a1a590956554686f",
            "d7ccc902c90448f3b58643cbd70792ba",
            "87d77f680528417dbd336e8e79a1d927",
            "75e9179f429c44e68e1d00a44e185490",
            "6aba3fad3387456496e80bb0b5102e48",
            "bbb73cdfa4a44afda32fd606487f6633",
            "859b9f209c78498c9ed9cb92a73403c8",
            "0b9d4530323e4b49a0768ed8885e2492",
            "8995cd9474184d39adebc86e1aa741d0",
            "fc99bb48664b4ae78c2a1b4bc22ca8ff",
            "dc64f3d9450a4f3f8ee8203ff4ab35d9",
            "8e45a1a14fba478c88f32aeef2f8aab5",
            "d4a3ba818249488aaf5e751b077e5aef",
            "b469c13b0f824f6a989edd5698dbc01d",
            "6ba78dada304450389d833f24762eee6",
            "53af2ab141f747519b0567e6e268bd01",
            "32fdd4e5cc2f4e9da9b34eddd66103e0",
            "52b52523737d4505ab0bae4c69ad025f",
            "633329f8b98042d8a2a9a0d8c3bbe9e2",
            "f2a415d38750425dae74e8ae474c4d51",
            "04f55376e59140b18bee84a7debf1eae",
            "bc53a46b8a734593b66632ebc6ec46e2",
            "02b235fec8d6459a9bb76c23560ddad7",
            "5363c40554c542afa51e661104ec692b",
            "cd57ed6e6f994b19aa6b3f4c03983a3b",
            "19f3d90a6e8b4844a471ec718d1e0289",
            "ebbc57c84ae3410c85b6d714d85cebdc",
            "6be6ccc5a4c74788a82baf7e243c970e",
            "8c727e2c54c24689bbdb18366e9dcd9e",
            "5bbfcbf123244a3fb53e8e1f4c7a2122",
            "6c6837d8c54b43d29447bc1f6687fc32",
            "eaa8f943dab94a3da4f4af0cf4a627ae",
            "0bb797ae90124bcea9486dc69b06f521",
            "1b1357e81bbf4b89a03823db1be017c5",
            "8f546b46f06940b1a2810bcbc17fab88",
            "f4fb68bfd1d24b34853baf235b4f5ed3",
            "82ceb6c7e9be448d9cb4b195a459dbd8",
            "d1ba3190acfd4ea785b0b672cfd9ce53",
            "5039b0611deb4660ab953107519a908a",
            "db2ee1037e984a06b20e12118d68ae42",
            "5c63d488841f4890a798fea8e9785bc7",
            "5d268bc948aa4d16ab4247e7e23ff78e",
            "f6043969b5bf4ec783a05490b2abd6e0",
            "98ac344f223643f48f96c2f04f1f5240",
            "b5a6a1b079dd4c6ba7ed037a52d82711",
            "2c5e4670239d422abcee5a064a68e8a4",
            "38d073f04c4048c3a7e758f5244a6776",
            "71891cb5d9a04edbadcff9e5ac665a84",
            "a039837ef8fe46d8a465bd6e3eb96661",
            "38f405f6f7c94067aaadb79b51ebffde",
            "d658bcb0a5b94064b63b24b857f7f8df",
            "7e5641a5b3174e32b601e8b0c1a11c72",
            "e49d2c8bfebf47cc91a01d73db094950",
            "77dbfdb8dc6c4f80a77c3b838f6152be",
            "1a058acf16f24f258b990137aa2196e5",
            "a037b21b3739401b8fd994f2af70d4fa",
            "f02279114ef040b6a2075ebad0026623",
            "34ea44d073b548e486b9296179650f1d",
            "597bd03db0a04cdc8f5f56da5d158d4a",
            "94b94c541afb4f30b9eea69ceafb7ae7",
            "dc0b3991994a4f60a041d6affcde28b8",
            "ee417c90872c4b70b90e27f11f443a69",
            "324b55f2441c40eebce2fa548cc811b3",
            "7a1b7dbbf5b744879afbda47a6095dc2",
            "cbbb76b4e31f448395dbf7df113465a8",
            "894b35e1dcd14957a822792b3910dab9",
            "a7038d601f994803bc056b4d33ed5658",
            "f8ee55c0ba1a4785833d25e1ac951788",
            "81d3d7de324d40948eb0035994d769a8",
            "c145ad0cca3c41f8a3eb3573273e3eed",
            "607bbb60987149caadead28480520531",
            "8b94b2cc03aa4c7ba5489faf8b8cf402",
            "abbb7ade6f504e69aead5b0b42148d44",
            "35718bef6005401d98c8197dd6609c61",
            "73ee39c5b70a463da997a008c41cc4e6",
            "e753396428814498addc5231d751d528",
            "fbf1606b72234a579a4b406b4362165c",
            "ed2643ae3ca149a6ba906ed8a19c6dc0",
            "a3f83c313ef643fe8a533e90356e8770",
            "e483480e7469483dad509a7b7e483456",
            "37d0092b36fc4d8bafe6e222bcde81dd",
            "ebe1b56d135244c08e379da5d3e5145e",
            "7d038848aa6c4c33a9a2a24f4bfabdcb",
            "f5e54e7af77d46e389729c0cf7d4492d",
            "25f3817f4f9544aca273419776ada091",
            "9a885512a2f0469783d1f77ca38abdd5",
            "05ae4e8ad6a64a798002d83be4c8dcd7",
            "4bcaecc9801f4fc09d634c9d63145e49",
            "748274a91c094988916a343c77cd4bf3",
            "ee95d94cb1a1457da6af2827703a1a8f",
            "c2f1f33a33a443738097e6dc92fdaf0e",
            "ca21f1afa5a94abc87cac343685652cf",
            "bead6d6840c846bd866bb1219c986fe6",
            "a7694a6c704b4e8886a81896bb0aba2b",
            "3ca6e31af71c4085b7681137ca34d7bc",
            "5810a3efb6144bedb84f1d20448e95b5",
            "bec680804da348edb650ddbe1df6ac67",
            "9150b08d069248b4810a885f2c881f45",
            "f793bef2f6464ca0b2b287690134293a",
            "5423d6445fec414dafc1a884cb6919f7",
            "1da32f6295be44468499e775e6b3f9d9",
            "edb1efa8c1b84b21ad81874507020897",
            "81dfe539f70345dbb92b42cb45128790",
            "06fe9139b24b45afaf18f0b0f0ceb1cb",
            "72e4d80943604ae287ef308c0867e9ae",
            "63e0424ab75b4e23bcafbc619977610d",
            "873155b6380443649e17af09abf551df",
            "b27c17c7008c405f9452ae09d7a1660b",
            "bd291fe3fabb49aa9047118d8b3dc187",
            "a6683449a936487bbfb65f29a979afd4",
            "1c7996263e10425082e758b2995f3231",
            "beb19b8c18144139aef00df3b18a5951",
            "e8115df239514734bdc943094116a305",
            "e9bc3fad0eee4574a62413b3393c0ba7",
            "9517e4d4806b44beaa004d86e7e7e1bf",
            "8bd5c33ba61549eeab86d230dad90661",
            "4932252e3e6746478e1ccc062be05bce",
            "2e673cff534d4516b8d0a73341af924d",
            "27086ca5f9ed4497833d2442b34bcbfb",
            "11848aa80d684216b455a9c4314dbe07",
            "cda4b388bb2a443a9f75b6daa3edb816",
            "7a570748d9944ce1b2746359c6b45847",
            "c500a55b66694a5b8fcb5699b9f888bb",
            "3d6f369772714021924b5ddd0b96d6ff",
            "041c1459ef374bce8847c1402bfb1557",
            "0772ba553cb942dfbc772e41e8a00cc5",
            "1920b158f58a499d8babbafed47550b0",
            "20bc9c12bd6341af87dbff5d689fefcd",
            "505f55c2d96147dfb1f84854c6c65ac9",
            "e64ced516a42470d9c6ab7bb3684fed3",
            "a019379459ad47ae9c7eb4d9433eae39",
            "988306741a8545fe974a631a57a639ba",
            "9d89b1ea4fc241b782248f64c39e4da2",
            "f911ce850bb6468885d54d19d159b371",
            "d9f9d02e31b1443da4c48cf77344f62a",
            "1f0d3012946f41c0bcf766296023af75",
            "f91d5110b3294b12b4399134479a1488",
            "40e5ceee88a14c72a9ce1e9c3203e782",
            "aa5c8bfadc014bb8ba5a3566e2dbf608",
            "5c700b89872244b7bab1c13ff57e6777",
            "e798930320c64cafb0a39e2442f8defd",
            "6e6e8c796c7f4bd3b5464a025745ed96",
            "b7d943ece3ae45ac9f3d83cb7295e2e7",
            "c24b717aab7a4393a5c22e631274c6e8",
            "722961892a3740669b53891b4ec7ebd4",
            "194692fa0e6c488fa4922996d8736212",
            "0bc29c4f790a41f78ec5f51736f29e5c",
            "7432e9bcf004410e9df5582ac0cd2721",
            "a2fe698d28794da68dfb82528c6f5b15",
            "f844ac13afa542e3b9bda4f499b536b9",
            "af71cd442bea457db49c1129b9f2478b",
            "ea670f0539bd4d999282d8bd6da02f4f",
            "28e439c21d2d4496b65d0ad1e56c8bc9",
            "77c1300a6dcc4511861b0b78fac0b3b1",
            "81b4fd95cb2c4e4abc55941f69fcc554",
            "a2e106467d864e45b6c72c2ad75f545e",
            "1c9977155c6145608a7395d293b94caf",
            "289edaffb93b451a9411f420b44e840f",
            "e42d049562d046f5a1fda2135322c320",
            "6a9d38f5802e4788ae403a16135a1ec7",
            "43a446377de6453dbb4b6241de97a2bf",
            "a57ae09a8e1d4ca7ad0f6cdaf76802ff",
            "2fdad082d57d4e91aaa7c948e504840e",
            "66073790ae204600af1a2670d28b2352",
            "a4d115319422451a9b30b999cd86eacd",
            "6264c0491142471b94ea3d131429b2e0",
            "c5704fd0bc134ee88e7b84c20dbc619b",
            "fa96e05f61544be78e8e4b1c26a91082",
            "320f96e80c71478cbd8d6e76a4a095e4",
            "881bd958c6b74fdaa68458781bde085e",
            "c67eb814c78a4da8971f49d33eec0be0",
            "bd3e1a1c277844e9a7c64e2484eb4c37",
            "dbfb80bdea75464180e87c97aabc4b4c",
            "7fab0ae90a754d75806b1d2d046b593a",
            "7daf4c8e06404d1f966f1cae6c796811",
            "7843280d40b84062845d7becd65937b6",
            "f356302a890e43f7915bf0affc4265dc",
            "67089099f0a94bde8814b4d6301db1b3",
            "ee96e410a8d94dff94e5ab7d294e6c21",
            "d3f0013d772847beaa64112c21f0dce6",
            "7073d5d6682b4cf58b6b81c6f4d7c69b",
            "99c87807ba8e4c35be61ea342bae6d65",
            "75a30a6fbe494a78a28a618ebb35ef44",
            "1402f6ae099a4552b126f3d7602aaa5d",
            "d0794aeeec0e4f41a91ea8cacea0b8ee",
            "dc458a6b886a45a5b3aee400cdacde8d",
            "61a052bca3504b958c23d92f7c47d264",
            "4e28c41be5db4f1aae88d1d648596166",
            "0d8c8e88bd0c4182bab165edc7112357",
            "bf6439dd04654efe8982dc4553f16f4d",
            "d47a820823c546b5a3626e31cc571ae8",
            "ee3abd23caed4efcba8af702e5a84208",
            "05998cb890b740419a1067c5b3f095ca",
            "337c6d58555c47d08a3c43f8bdcb5486",
            "7905c89219524616b92800135bf9d6ac",
            "ab1011dbf8674283a078d653c70c9182",
            "7c755f9d177b42ea815eafbaad529a01",
            "000309cbc55e4194a89baf646e9ac5cc",
            "348fe51adfc940658ff0f4ce45621480",
            "05a5888b64c54bd29d2fa38bede42ced",
            "704778cecacc410c93cda6e718e79a75",
            "c2a52ce24c8244808bfbb97e7c495ae1",
            "21cf96c189054d57b2445cea67be651e",
            "896e0d2ca5724994b49884f82cc97abc",
            "2c580602a7944c179ebff1febf544eda",
            "2b6760ed89284c6f82d18e76164907f7",
            "f4cc12e5c7f94fde82adf420d7eb5e11",
            "639e7ce6d40d4931a8a2d6e6367c535a",
            "e15fd46614644b2db2df5da54e19c22c",
            "36214c611ee0422b8149e0fbe4f630ed",
            "5e08c43106944998bd005fdd5d38735e",
            "1d96c0d919124ed08995a8198389f88b",
            "ebbf9814394645889a56646ba9b2d5b5",
            "a893b0a77469431b8a05160e9d7aa7ba",
            "d6cb5eb66793424796d99acb98023d44",
            "ded7bc1fed0f46fe80e1543aadc24afb",
            "2ea2bd3d3cac49e0907c9b704d4aaa7f",
            "24a0a50f2e1c40a19828f4f5785adf28",
            "d28469e1270d40c38e2529003e29218a",
            "c861fb51ac1f4d60a9071f3013f47c9b",
            "910301b679bd4c1b9e85fcbe485e3170",
            "c3a6535df6454f05b7f09be1256aae83",
            "1706c6819ac348d98c0b62788510f8b0",
            "e4f9526f29ab4cd7a7a919afe790281e",
            "72b510b7ba2d433d9693728183b3290c",
            "dca6ce2650a448cb972d2c034fb4e202",
            "1a7dff787b36425b8f64673bdc41a0d7",
            "5f584e791bd44439a9f3f993b182cdd6",
            "ee481d6205684a1897d17b9f4fd412c7",
            "f8c472a5d307458d87b8cb8df2a8b8ac",
            "3c4fb237bee047249739b6ac4847a2bb",
            "1d4dce1c694f453795c7d547157262df",
            "d2f9bc858f944e88a010a822d9b310f1",
            "b0fb9fe29675412884ddf0701e6647ee",
            "cd1b8bca380e4e3abdc25e3ac7e35e84",
            "5a5028e83ff54d69b843100fc999d8b4",
            "67e6b6ba25884f6ca6819f81548121ab",
            "ad548a1c0e67487fa79a81c8c6ae3502",
            "e1f0f3da14454f3780877592c4ba3110",
            "471bbcbf4f92480f992d2496213cf946",
            "5d0be82df3d04c32907682b4eb8ede61",
            "278316b59eea4768946660d555373a95",
            "a9a61a53fec84d7aaebd460f0a6d8945",
            "828df52c18904d9999a7437bf19bae77",
            "e5fca986917b4ec0a7a6398b72812b3a",
            "2fefab75cbab4cca8faa8ce62a31e01b",
            "ed82afbc08ad4bf98e641432dac0004d",
            "ce7f23178cd64f83913f56635a00712e",
            "aa522e29fa8646b4abfa6a0c5db9aaee",
            "af56a5afaaf94307ab9812dfffd707f8",
            "82b92b3a15544dde8066a0aa34e98b7d",
            "788410b9da8c4fd48fcf1d0a21d8ff65",
            "267d9b7be1db48b582d83be2b007553c",
            "4d761b13ff53420783cad294ea3f9288",
            "f4b19069ca454f59b8908dd35534e922",
            "8d078a9053c34f8389d4b74316a94a98",
            "0e596c365f464f7795554df4d325bc0e",
            "ebc44b2460a74f63a38e6c1ed95d013a",
            "e2bce2e353a34eed9cecb18f0f44e938",
            "ca663716950b46478b60cc7f03426ecb",
            "58a374ba8f94430ca26e90e9964f20a9",
            "ab99a8e7115445f6a52b033ea8b64144",
            "13feeee00cda4604a1403331f23f1d4c",
            "8b837c86a9044fbf99c1c7586152ebfb",
            "6477750337934306a33901981fd741fe",
            "36c32ac9169f4fd18b59abe58ac4a66d",
            "4c8b6b2cc5ab47afa59566b034b21065",
            "2b39500ef1fb4b5cb6ab9adf893ae7ca",
            "d0491934b0f04bbd83af0fe643015a98",
            "7cbfd6474f804ca7abdd231dab9396a6",
            "eae629760833414a90e3649b0ad52225",
            "b6a95f8deb584c85897e1bb07ad4278e",
            "9aece15f4c94403093f35b2d45e24040",
            "71f10e4a977344f4910dbbc92c5d7f61",
            "6cdf967671b348b883b20b3cbec34bbc",
            "4599809f86d54635babcaa7b2a034c6d",
            "fbf548fcb39140afa6e781e1d8182b78",
            "4b6553375476453cbce83e5400beaad9",
            "d785d61e041c4ffd99484473860bbf87",
            "f457a59c69964999b22e8535a4f768d2",
            "c23d74181c3647968ca7b739ba2fd82f",
            "38786c8516b34be98fdf4609d7d6cb28",
            "4f9575cddfef4b1ead3c1d27a0812ecc",
            "d00b592952884db4a0b11d3eeb855b03",
            "2fcabe1e54fb4aa1b76bbe968afaf12a",
            "19ed38283b4642bfaa9bf8d646f1aaa2",
            "3a7e3102f8e24d269b98a39875d3a1b5",
            "4d2b12025a1348c5bc180b8a4c627e07",
            "4d34be986cc84fc88f511886368d9ecc",
            "633102c5a5f84a0e8c18c47cb2bb3e1e",
            "0500ae0f0199430f96e2d621f18b3695",
            "5f0e91b838274f688f8c25f239556e55",
            "eda178cf787148808067733f8cc51840",
            "baada2b790334767b9bda44f75c5acde",
            "7a219fe7e9504be495ad66f6197885d6",
            "599d2eda9cc449f2a77e68a63b3c03f2",
            "eac8574f745a4e4ab1fc1831ff6f1882",
            "95e342d49cfc4971a07928ddcd2209a7",
            "5207bc52d8c14d0fb0b04c72a1180aa0",
            "2b7cc0fcf30a456eb1fc23729a04646c",
            "912386f9b3d64209a6119a0f72976cae",
            "d6f8fa99bb8b4379a41aacc75fdd9f2c",
            "87a02f3d0dea41599ec2959480173d98",
            "bdaa435306284120aafcb3f74319b2d4",
            "5b3fb60e92fe4065a2a0b30b147363b1",
            "18d1a4d07ccd4f039538dd01a0f24c09",
            "6db0b5880ade4c5a9c854188df1042bd",
            "604024e80cd144a49baeec089dc22898",
            "82ac5de626a24856aa987d2c1b1bb15c",
            "c66db74800db40a6b09ba58c9fe006c6",
            "6cb209dd6b8c4f29980102addbb00d6e",
            "98062d8a934c421a8a5557c3ef58136c",
            "96cb23ce6f5f42b68e8138fb5aeb8664",
            "13246ceb91844b22a87e33ce38f2b9ac",
            "7082505ea020421fbcb450946996c589",
            "0307b8c5d19041d39df88c0f8f79a627",
            "6b940d5634564ca092de8b6ac8b45ed0",
            "164b10d52b704af0bb6e30a6b494e048",
            "1609501119724ae5bb4652d14025ca32",
            "078b39427db844bc802be05262638d9b",
            "12414eb31d8c4236abab18df75981827",
            "d82f0829b37a484881ab7ca58b4d7738",
            "a3f3bf71b1ff4b0db90c3bbdbc72c049",
            "e46702a57124415a8e66f65f0d4e6f95",
            "f945cae834ff4bfaa6be4c93ed2c46ef",
            "12ef2357ebf048269cc1e0be5c960865",
            "c840fb6d1dbc41e5a72e3ee330ec8429",
            "ac5ec04735b442da8d03c869fe6eacc0",
            "7d91b4b3c7d1427c8ebaaa9f6011478d",
            "9c42634e30db41c3b5fe73102f7306ad",
            "087045cef01942179d177b5f0ee2e158",
            "f63177e61f9845b89fb63c9bb073f656",
            "a371787f3d6f4d95aa57954e12d0acdb",
            "539be9b773dc41f8a0ce167003f2c878",
            "9f6b156131e6468e927b00bcdaaba4dd",
            "ee9a0365187c46bda4890132bd143813",
            "d47904c876574c6a94205dd427b8f013",
            "7784139dbf9d4442a9a41d9f79ef678a",
            "2ce243c392cd4b79aea445c7a253da1b",
            "63e6fd393cde4e81a7685d5ec2928557",
            "02da644df56d4f459eafe8b22e5a343f",
            "9343edad1b074f619db58949e7bd696f",
            "dc90eff8ca7a4ea295ad02e52766d69f",
            "79b50860b74b4abfa9fed23b5697d66e",
            "6f0bb13d89b94f47a7c5a5e5c6c41a1b",
            "8e81c55e7dc74d85a37158ed2b78c587",
            "2993d8434bb54c91bc417338a39c7432",
            "6fa549633a684a6d82175787fc893b9e",
            "b717981f43d943638f192614c3a0990d",
            "a9393d98619344ac8c138708a9091a22",
            "7964828cfaf648cfaa26ae76d0000b33",
            "b345b9b1d796406fb1bff2f326ce5a9f",
            "6483a12641a74a24935b54c0f27571d7",
            "3e1504f0b8dd46b484e77b0f26fd056d",
            "a2f7f225579b45ccb5d6a132ad8a4f00",
            "73c6b9795856456f9e4aba4fc2b18124",
            "9b986fac0218495c89ec03de4ff1725d",
            "8263a235dcd44e7b9d95f3276cf88088",
            "ffd84017805c4087b833262a5c9fc92a",
            "85490adeeb6246528f892b065f8be917",
            "736c174cd7e24c0b83bbadc12158f01f",
            "026262b2cd9443f8aaae78294022a27e",
            "d6f1265b315649f6b9d395551e0e3285",
            "bb693fa54a52450d9ef45b2cf5a3bdf1",
            "f8ef7d24811f4787a77dc1fbd2fe4027",
            "9bd09ac982ef4ef1a45fb00bfbf49159",
            "952761a2d6834aec89e2100dd292b518",
            "2238a0850c554f65b934dd8d03e7fe88",
            "ac67d7628ac54a548d2ca32bb6e425a7",
            "c3b4e2347729404b90d92cd1b14e193c",
            "b6e7f1e1c4044eb2b88f06ff3ba5d091",
            "8186aa953e8b4785b53c55c77931d906",
            "664225dd7b6d479bb5cf9ac6ca8a90f5",
            "992e8f75442842cd9afae4e3be917779",
            "cdd1be17950b447f8d6ab0bc0f8f89b7",
            "0715397137c045a3aa0a10c68bcdf711",
            "049d73630ef945758d90e025135172b4",
            "7fda46a807974a4aa1f5cdbbf26e673a",
            "c5b105fd9ae14c41b127dfa3b3c1073b",
            "6f850e5699b84b58869d5ef11291b83e",
            "ebe757ae33ee4567ae919c51dcec76b7",
            "5730664e1d1b4e50aeec443e4c8ac6b0",
            "6043972fc35d4060b2ba2b8221fb5bfd",
            "17fbf1508eaa42309fe53118d3225377",
            "901c63f7bf614abab364b31d627453e3",
            "ce89f0b8615b404a81454aa668daae02",
            "fe4e5e3c0b5a4c52afe7edfca862337d",
            "d1e4d62c44104ad3aae2aa3a65eaf221",
            "a02a2f6be6984c2296325b145617207c",
            "552bae6b3d404cd483a6bf77ead48fef",
            "c628b68aeb6f4e0f897266c54917ad1b",
            "028a5fe0e1b44e2f82cae724f2cd06ad",
            "7104ffc9a8b34fd7acd54786a3af25d5",
            "cc9fde3fd0344684bf6d2f7b8d73da6d",
            "5c779108a2e8485ba77fbdc46f541ac8",
            "e256c2e90f0f45e0acbedb8ef9ab2931",
            "5cfb5be2d5074713b5b4762acd73f131",
            "125a65b693b7485198de8a07eb5d0fdb",
            "c913c612dac7457cb6611849c02ced10",
            "3cb2dc4bb2504499951637958f63d83e",
            "978b80d9534640ffbe39636f0f311aab",
            "043bd5a78d274ddd8e2ec10dba712899",
            "067719526e304c08a26525981f349626",
            "9a620cd52be0489fba408d9d7bbd961a",
            "de0da7fd5787472897f8b97a62744068",
            "0876edab33c04568b6428ec450baec11",
            "118148db7a6f4e398f12730aaa9e702f",
            "5a02d48c9dfe4b63814cbab86c0f0e3b",
            "2c7308eba96f4403ba304ce3b84bd012",
            "6ef70a6804ea4ff496065a8a32ab09de",
            "4fa5c9b5c9fd4b05b16e8e9cc94f3851",
            "86766f22dac347d3ac4f07672331873c",
            "d9b404c2c4fc4663b4ef48f068e2fa2d",
            "f0be2cb5b4e442a191a8b5165cbf6405",
            "b9d8c9eca57344b9b12dd589b05987a1",
            "d68f2630e6574f8ea3f76adbf6177b2b",
            "fe8995e62fc048d998a745bbe3ccdf31",
            "8e7a8019694743708c1fc37373a4b326",
            "78dd9d64a4fc4669aa560d8a17e561a7",
            "477a523a5ff241369de22f00aeeb4f0c",
            "87830dd178eb491a92127d7e35a54dc0",
            "b3cffdc1edfd4551a9fb9723475da5a9",
            "24d49f33421148dead22dba880a58cea",
            "2930d2c07b614fda84106d590e39aea2",
            "30f3c1a22dac4f0d8d75ac2df789e332",
            "8ba56a56898444faa6bf282ee7e90acf",
            "abc67f9540c04c26b4b93f0b6a682591",
            "3522a149af2047b5b69b1713664e5f2b",
            "e7c2bf29738d4140a7cbd8e0690b04f1",
            "80e0e6bd75ce4e05b6ce76aaca64ca95",
            "dd1248e1811a4e1ab76374fcc3948a8e",
            "b70654c425394de3aa79614dc6edc375",
            "b32f240892d3442bb01a82b37276b3e0",
            "701effe4e1604fdba04df97c64cb8ba4",
            "3bd1fba0303248c28198a816646d9914",
            "b78845ee5dcb4171a3d2c41d5826ec8c",
            "2451431fd72441b29420bd4525044117",
            "85aa7c1e26624ab29ca22cef16a50b12",
            "eefef310c20940318515abe00216f673",
            "240b6c3716ef4d60b156df620e617cb8",
            "f54c8e08cc884252af6b369147a1fc77",
            "e8917eee325b4a58b13ebb2f8d728fdc",
            "196e39fd1d5747a08a286a21a369b2c1",
            "cf4a1a011d344c20b58c21259ac812da",
            "547c489284b8471a936e85ade5572e27",
            "3236f1752b7b44d4be07d1a91babe362",
            "4eba0d359f3249db96ad61a308a790ce",
            "0a135ed49df24ca9a373b02bae87d52e",
            "c43d21d54f664030920a4c260ad91906",
            "faa63d5ad46e46c883f2cd6ed0d250bc",
            "9d6550c6f4664ec7aa32d572beabb4f2",
            "92fd9253da4b4b02b9e7958ac24eb7c8",
            "907699261f5c497b9d79b3cbf18d5037",
            "ac7f8e73f0c6455d95bf1697ef4c785f",
            "1f56b040a8b340ad9030ca8749d686fe",
            "4398fc8613064075b183d5ad525e07b6",
            "e2e986d0d23e499183891d53a3f75754",
            "5532d046ebd04329827dfa2f22f3cd8a",
            "a2581e10c8d642149f29e515f0733aa0",
            "d3ef47f19ab9475ea9dd1a9c4b448cea",
            "d737316818ee44cda6adb00573ebee8d",
            "a0b6268c6ebc405db28683cb8d42bd58",
            "3b18f792105a499b8243f689376c2a7f",
            "e0ce9f833fc14befa83263b21e87c2a3",
            "eccb7cb4ce3d47fa8d4fb0004e93e2b0",
            "9694a7fbbd474a97b3b8591ea3c945c2",
            "0d4b99e627e14c98b4e199ecfeffdae2",
            "114cef36da0b490493fd3bcbdb55100f",
            "747e6c3f3f71443b9163937d9a493f84",
            "c0908427bbec4db0b3f89fc55513511d",
            "51f9476f36ea43a0a57f5dca7f1151df",
            "2f18c2ae9d224404b2e643f4634d2f62",
            "18c54ed74f554068a7463145bb33881b",
            "69d7ea060eea47dabff6c18f88a4ec58",
            "97c317adf20f403f84d0e47f6cadb6ea",
            "77a50e1ebce14519a709d2c43a4cad88",
            "d15bad6bd08f4be0a62d89d965b6e4d6",
            "5af7cca4367645a1b08a52b92b664017",
            "6f916e34e8344746bdad8cd893f08e9c",
            "b59b2406c74c40f597919115abe911e2",
            "9740be20814f4aea9db52ee41dbf2d7f",
            "de15ca5f5ca2418cbce9df3cfef5bb8a",
            "827c6121c76448dbb42e297b3cd8c949",
            "c6d7e0c554f74697b9bc3f1bdb919830",
            "004931ae799a4b9db2f682222a7ddd08",
            "8974d139004843738bcfc35ba66969b2",
            "7a15cdff6c0945ccad1f3d22e2dbd52b",
            "836e9b8999d542809818cb2c88a1711e",
            "a12436ac39c847f7a48c422acdc288d1",
            "8106d0c6e18543f3989b5ca00c984ce7",
            "883ac52a06444e449b605cc94e11244b",
            "e4ce233d77e441fa894bf6949d457d1e",
            "c62627215c4142a5b9cf6157895fbf7e",
            "a317a2dd350a4172820e4ec563eeafa0",
            "76a3f1c98aee4574b1ecacd1fef6e78d",
            "0696d39137f84daa955e333385024ebb",
            "d14df091a2654cda87bf4d570e07f767",
            "ead1392f4e174795990d9ea095978569",
            "207c153388a349c68d62aaa5fb7a899d",
            "240643b825b54702a8e0adc46e6eb93c",
            "a6b97d4fc7454fca98c9f3a2bc6537ad",
            "b0f8612a94754316a58f8dbb7c8a52e8",
            "d3d972cb1b48485b99304eb2dae83d03",
            "fcc97f2aefac4b408f5882a31ef1b475",
            "7769d1cb8aa4416b875e3edfac393318",
            "5d0252b38f434b1ea4a7cdfc6fd2bcb4",
            "673828da627449d4aad20ef2becb55fb",
            "389959ff0b5242e08d3571082e1ff07c",
            "b1336cae17004061a41f880c0bb9e073",
            "c6f6d41b56834d30aeee54743585f6b0",
            "f6b35352a55c42c69548111128192a0a",
            "6f669f8cd67d419f83104d9b3f28e167",
            "20410d2689424940ad06c8093393c0af",
            "6c36d42770d54775a8a7d084e973c7dc",
            "f72a66a2d74a402081c4bb5df8463e38",
            "43d828ef4a60490ba64cbb9f07b73c5a",
            "5912c15098f346649da50efadf510423",
            "22f8b3d5b92b4daf8a1ac08cd7332023",
            "065a8ef100a144b3a58dc69a94c0d2be",
            "32d5f5d406aa46199c7da4249360e61b",
            "c2669fc7551b464094197f0ecbb92f8e",
            "e167cb19d5ba44e5a5c827a267a8869f",
            "b4e7bc2a75ed45eb8c5f85088f3a368c",
            "a06118f3727e4f67bb6bd2691e834487",
            "2667e9a408174a678c5497b4fa58fa0e",
            "85e1229380be4c95a41430a0019bc18e",
            "d9c64d89af4047909f821fe6328e4a42",
            "d826c67abdea49b78548e6cac35920e4",
            "163924cb9a814c98ad96f3c47c5bf17e",
            "eb387ec8e6c54b548106a9f24662a67b",
            "6dc40d2d68b843629cc1275eb13dfe9f",
            "251b0a3f80914e1d87e9389880d1345d",
            "ef148c081bef46d389181976df9564b0",
            "9e4f2d2efa2c4517b87e57a4463cfbc8",
            "dc871b48299748048d6d52b95d2f547e",
            "484c9f08d77146ee960ca5e50a9e6440",
            "1854ad47785f4fee910d8cb26a0074cb",
            "8fc8580cb03a43be80ae5a9311a45c08",
            "e8dc8f2483dc4893bfcee506469bf263",
            "cc2d52bcf2574144a018ca3a88b006d3",
            "fb56b424d439493db2f7cf6315b0664d",
            "c4a16b7a81b2454eaf3abbeac469637c",
            "2b1ad726a8cf4e4d81ce4c9d64b6df61",
            "be396f2ba1a04fbf818af0ae9a7de7f6",
            "c2db33b191eb42248fdad1a07c078e61",
            "5c3ada9ed9ff49a0aec681467e8e734d",
            "8834b163d0d343bf96da35c349c3afeb",
            "611efb95b1704d1e8c12538907d5b1ee",
            "85728631655f4791a0fd1a81ed5a69cb",
            "45f86427d25946aeae5ece08bfd04679",
            "cdefb4b4d4214541934ee5b9c88a717a",
            "f85f5e2e034d43468751e3f9e52a2cf8",
            "fcb8bdbf387f43269eeb266e5bb107c5",
            "9e48f29c013a488c88c8724a019fa676",
            "3f997d00c09240efad3f824cee890fa5",
            "8e9036f658e3493c873fc08961e8d877",
            "67fccf053918402eab4ea94d5186c8f7",
            "2b6fdcfe250f4aec94bff8241273d461",
            "1c8d60bda49743eca8666188f50ce926",
            "823eaae6f6be4faab87ee77849ceb47a",
            "fa609eb16a3a4d9296fe8ccafcde101c",
            "6a97f757946a4e80bc0d5a69ed6a06eb",
            "ef8728caa2754754b4cedab4b67958a4",
            "5b1f570019ea45bdaff53931a00955e6",
            "a7908a3eee4146dfa7939681a64ae0f9",
            "d0b450a3c1c34372aab524227e6cf6ca",
            "f93984dd2a414e3886d2c5084acc82c2",
            "f16413cf7baa4ec19b6e45f95d735f19",
            "769e9a26b70243eb9b72a46987580344",
            "5d0d5d7217544097a1131f5d2e1805e3",
            "a481990505e841fea66b84244907bde1",
            "eeedb222bd6b4fde8f40ef68b6d6bfc9",
            "4990b321bd4249b6a913dab6962e8283",
            "d6291b0b4ff147cfa2925c1fbd14d101",
            "0f81d910de8741b1ae9d0fd1a6fa8406",
            "fddfbdb8c6f34a3a939a1d257fbf8fda",
            "fcec9a399e56429faf6d7fe37a7434ff",
            "09e61a50392642b1afa882aad451ca54",
            "f7211ddbac084112b5a0dacd606a2f2f",
            "beae5906c4894ab2bf3d74b78524091a",
            "d3b58ad129fa435c868776e7a43355a3",
            "8548c3406430442a842a9507e043dfed",
            "dc10c480a30341718b81d6742681ed0f",
            "1b0a98c499a94327b7d299881452a3ef",
            "6307ddda89674bea8997c6b95b74c943",
            "9d2ec1e074124e7eb40401018301451d",
            "a8acca80cbee4955a1dd92db443ebb0a",
            "9fa7030b66df412d9348af3a02257e50",
            "226524283817433fa4273fe740138bf8",
            "e3539b066a0449d8b62b1769c8501efd",
            "bd86c97f80814c12b1fe8f38f02adcb4",
            "34a6cbe41be941b095db5eb1d2fc44c3",
            "dbbcdda3cba1458cb8ef239bbc7e45db",
            "f01c133b9f724bd2ba9c2aa2b2a3fad6",
            "d4c755477fac4701b2bd1abff6166c18",
            "3cdda30b501d43788574638e8d1b0a99",
            "a226155885af45de8d686a6652629457",
            "72d1b4cc4abc4e1a80c3690963625df7",
            "d262ff5834e54cc18d1ac2218d37b737",
            "7346c8743d104c7ea62729208851601e",
            "c40fe58f32064b5aa23ebe6903b56b99",
            "49b96333921b47c8bf23401b0d35698b",
            "9ea8204df41c4c41a60a911dc7878278",
            "94069622961843bc90056758987cbb0a",
            "ee1a8deecaa3473481ef5ba363f2ce42",
            "64f365c9b7bc45d58e00e3dd51545e35",
            "c1a8b7d6593c4d7d92b21114b68378f3",
            "a9beb7c9770c41079beecb8325949eba",
            "23d250933c55414593e7726bacc2e89f",
            "d8e15c008e9a405a8742e803b0bc7618",
            "96babceafe704924bf696e038ae07ffa",
            "95c8cd65494d4ccb88b6ec6f3fd98c37",
            "93cdf564725248ca99329e6bfc724681",
            "fa3371caf39c41678ae4bba2592fa23f",
            "42ca0c6df133466ea6c3fe4aec51d807",
            "1e31d0f091664f98adf49a3beb5221f9",
            "2a9f4baa967d4329ada843be07c3bf2c",
            "16acefa2d5b1414193af3de80d5b9319",
            "5b21148c2be4452a95e9c174c8a0596d",
            "73fc528eec494c17bbe3dda40acf0668",
            "a8400f7244534988b8d80a3da58920ce",
            "fc3f13e2bc9541c9b922436b3fe7d920",
            "7b2b4047b3e647348343130686a5ea76",
            "1ce23d1cc5a840458427d7a514bd7478",
            "ff4eb055d1834009bba98e1d2b40b6d6",
            "b41d82f9faa14e84a75850393e89c5ab",
            "ff5310405e314cc08d7cb3f3079085dd",
            "0eb58b7f777e4750948631c6be3f800c",
            "a2cd80970095491a88f5e4b80e338536",
            "f340b6ea58414274a9d850ae63fd4336",
            "a72747227d454a0babaf1098854e3c47",
            "50b59d9a646d484e98448d4018a830fd",
            "ddccffc58f3340b688a8a30854bbcf86",
            "88292e81e03840cbb2a450383eb01b9d",
            "c3a5e0d9d6924437ba84d25b48b11a8e",
            "eba4d8d376ad4ace84bcb0410db40d41",
            "c18240eb936847d48dbac4b0bfe88f7d",
            "699bbf7a732e487c8b006b1c37fe3068",
            "ed7ce664fe4c4b499aa445d44052c7bb",
            "25822c21ff924e4abc2a298756f19d66",
            "1bd198c8f8ae40db898d0270ecc576da",
            "cdc3916bf624485b9d47a841ab467bda",
            "3594df7237564b028ccbc031da72d396",
            "052b02dfb1d94ead9e27b39d479309bb",
            "bc6e147fa567453ca6edc9ed7be1b0d8",
            "fbc06b7054d14b5488287265d9fde70c",
            "3f5d5e5d1b96427790e1426b48c2dea1",
            "6511bd5a2bfb4bc68d0d1fc5f664c5d7",
            "6744993df03b41008efa25c100bec716",
            "e1120a8d108444f18619baeff52692f5",
            "1c64ff0a3b1a404287c574ae07b79ea4",
            "1a09c721855c4045bc4057afe6e19467",
            "cb13dad9926d48a5b619b76ce1962e2e",
            "508eaa57a0154abcb8cb55de939c433f",
            "9477afd69c17425186f8de3f3019270c",
            "9c1b1a09cba74044b9cd23523bb95f6a",
            "6dbe2ce8cfcc4fa9a3bc1062aebe7fc7",
            "591ac6f471ad4a589d1c199bcd29dec0",
            "d31623e90dc9438499da4db5b2016495",
            "261b076ab94e4bf4ac171194871c8f38",
            "a17ae721330545e4978ca5c88ec1996f",
            "8ed0004ea6514d258ee3b2bf03542ddf",
            "5ab67ae532c64139a472d8b2c7a5e59a",
            "704e50827ee549649a21a2d67e16e9a6",
            "62ca01e59b9c43799569c970aaa976c6",
            "8ffd3d0f0f3548c4a524505e1cd6de77",
            "0cc2717166d64703b0f941e89aa76ebf",
            "58aa529bc08846b997d2819ee2fa1791",
            "7f17381f3925462e893325d58ed702ef",
            "f589396abbdf44b89df69cb137d5a386",
            "978fff011c8640c4b26c6506772e3451",
            "3399461cae204505b5be2249dcf6ea9c",
            "e207556def1343ea8099b553c2f67381",
            "2b822e7f677d4f94989a778b53853b29",
            "09adb8c6935b4a7eb7ffdb761305de9d",
            "634f50ff53154ac6aa356e8acc084301",
            "f5cdf911819f46f8ba1d8d1cb7742d10",
            "4def51ef414346be9e9fb4faeb428c81",
            "4356623b7a834f2fa70fb398f5b1038e",
            "632fe21606364369836534e3ced5993d",
            "26d46a0e296149c98a71f2573d59daba",
            "6a5a3889c0c244feb17ff549a46792fa",
            "2221c442ff2c4ad9ad6cbae231e606da",
            "af0f13c025f3468eb60b148271fd62f9",
            "e0ba1daf0ca54c8da27d6a73137b94c9",
            "4ec929f59a554733a76cc77bfc86d772",
            "f0df38d79653478b92ceab41dffdcda1",
            "9c3e2122c1fd41918e68879d77bc02b1",
            "7ffd506f7f784afca8b94676625da838",
            "74a07b8717d84c20afe44df2a53f5d20",
            "6bebd8e33b4346fda729c9d98fb03c63",
            "d139c72a4d424992b2b4c14cdc685322",
            "205c15518fe94c689f53fee272d8321f",
            "f9f46299dfe64d43838fb1fb975a42b3",
            "6fd3261f0ed449e693913018db829a91",
            "83681788e5674646abcaf984423e31f4",
            "9152031b3e21440ba53b40eb8dcc1397",
            "f69d1e42baab48a29aee199a43efb2ad",
            "fdd0dfd893d740f684085057df6e33c5",
            "d224abf832e44bdb8ef257f45ea84dbd",
            "008c85cef6c041bc879f12e6b217b174",
            "72cb1abfc6754d4ab3027678c575758f",
            "a6a056779bbf4f7c92fc83d483610197",
            "f7acc0228e0741eeba79006d0f5382ea",
            "6298fd33cb0e47c8b46dc54a390a43be",
            "b64075fd1f0f478182a4ef6806f98fb6",
            "53b4179df403405a9e5257754cf7e85a",
            "37a87928e33240e08ec5615a8c917ff7",
            "3ce6d21f4da145a997aaa6cd174a24fb",
            "a718fc1036d74318b1b2f7d4a36ecb10",
            "ef5da29c8a3a4c9ea366f7a5dfa3e217",
            "0e19705f9da64aeb82c1ebff464ff4e6",
            "96697d0af6544c8aa895216091957676",
            "e16d9bec974a46a992ddb194c54ba673",
            "301d8fe6c68f45ffa28e4d8ff8e832ec",
            "17a9347d9ba7474593347a87b2a883ac",
            "d4ecda5b9d9647a39ced28ce9fd1c851",
            "972c177a92d6431f9cde0d99cc57269b",
            "351e540e172e42ab84f9439ccffe4769",
            "13d7e281a4fb46eaa01c1244f31c442f",
            "164b493404c54900a662598c2fe8188e",
            "bbcc5f91706a4aba9143593131fda32b",
            "1d683d0b72434d098a123d1c11fb7a9c",
            "a0a076f8431749a3a7e114975fc13296",
            "e2587b8296474da38c0515dbcb308c3a",
            "4168563822224b1cb08a25ec916f9994",
            "64b1e1e12e2f466392b782da5b1bd477",
            "cf1e32295a484fb8895bc4c2484d3cf9",
            "bbca6458a4164e468fdc874ad415aa01",
            "09ed1eb5179244f39f4fd848b5f17ec1",
            "798ab0658e574fe0b1a55ebaaf9e6ed6",
            "cf677a8cfc2944acb8645ab9ce285d72",
            "d2674739cf7146c7ad3d20cf07e7db5c",
            "ca586544adb7437fa3040f4d37560308",
            "ba261eda775d4e46864c4e8ff66ccab0",
            "40223517ec064b449ff804394c4e6c74",
            "884d68b280ec42449b2d3c757d61f3b3",
            "1a98ffe9537647ca9baf06c7bb0d7719",
            "72ab5eff7841476ebb11c4ad73cea79d",
            "c07bb089beec4f7db17cb2ec38da2120",
            "7952318ad3554a2a866ad883be289b53",
            "d29911a0270b4929b3ce3578b4f46315",
            "88f41aec7a0b47c7919a000dbe15749c",
            "490741451b5248d48de7e1aca3f43d36",
            "30cce0a149ad46d8bacbb0a90ae3a3a4",
            "114ae3bdbe5d44288dd44e3d1cd133fa",
            "06350d17f7314465abb1bc0729232324",
            "1be6b3d6ecf44e5292343b2771d33e91",
            "070405dc01564b8883dca5a64e2a011b",
            "e1a7d866a6fe4925bef1739174bc0f5a",
            "84d14b64f3b14d55a052712a3c0311f2",
            "f3adde81e3f044499af61bbd16f1ae45",
            "a2fc85c63a7b497facf00306b8306f0d",
            "7fe883723f5348ffbbb55009ccee5b75",
            "b1ec3bd1f24d4d3c85f68b48acc55dbb",
            "ce742ca0c2c84c0d9311e7b17f58226b",
            "5f4b5d8de6ea4ce19eb1037ba088cc97",
            "b79859c3f9204238b056ee40ab400927",
            "fc336b6dba7349f9aee9c5cac661ddaf",
            "f5676413a2a3404ba2632848e9c12842",
            "d21714587f1c43e192886dfd9c6f677d",
            "8c2457b3e22549539b487e56789374eb",
            "a54c9d4ef183470388c51bc2aa3ba743",
            "f5a3f03d206d420da2634453729a3373",
            "37407c00aafb49bda8851913b07abc33",
            "0b4d240151114546981ce02fbee147bb",
            "57afb8513f5a4e12817ecfef1e312528",
            "76c631260ad34446b380a0c5fe73c998",
            "47919728e0e444bfafa33bb7401551dc",
            "4c92f533791b4ae9b7e200d726f1c30d",
            "cf28d0f8816842e0abf03454f79f9c64",
            "8e5315e65aa54979932c199b797f6ac4",
            "c140883449da40468c044006dcf57679",
            "8b557ad3d10c42ab8d90446f076fe0b6",
            "c01a9254ee97423c9aba403f756a0c59",
            "3c34758873e548b28b427bdc7a4d7e9b",
            "ef4086a4045248f38fca81dbdb6d988a",
            "cdde00bada1b4c5b8c414671c66c157f",
            "c44ccfb893b646a280990bf9e1b0a7ba",
            "611871b3cd544040b71e85a53879ba39",
            "071e722f1dba44ffad0c9ef6c3e0cd49",
            "95efa2966cb94bed912b123aa046df69",
            "954e80fc4bd147ebb3a59262ba3bae99",
            "42c952f3401c41338f59ce4079d32bd4",
            "b7b347d4a57648f2bdd1fc93e80cc50b",
            "a071a4559dbc44c1b38b553104d7161d",
            "2cd9ee90ba22426197c27ab5b48d09fa",
            "d8dc2b3076094f4ba1676786f189590f",
            "6bd78f31661e4387bb44900320a4d60f",
            "6af20e67da1b433a833c806d01b8efcb",
            "4d13743fa46f4c60aacf2ccb2784e465",
            "44b9f8c5057a4136b01c91c7b5553068",
            "558925d1bcc84d429167bb9fb71d1090",
            "a87ba65502db4fafa5465fc645538b8d",
            "603e0068766e4b118e36ffa8293ca0a5",
            "f035d9babb634025b1b7ec72c275aaa7",
            "1a774467c03544ddad2f0fd7d3c176d7",
            "b3b55f96438748799a591e5e183b563a",
            "64d27b83c6d6493babacfe816221bfca",
            "174cebe1fac44a7f96a125bd6152acbc",
            "7f80cfa161a04be986a39315b1a562ac",
            "5fde1e9df70f44b5b1329bf68bc62338",
            "a334e47fed344a6392b176ca8658b976",
            "1b62debb25ba4058a75d809b47e12fc2",
            "2abbc785e72949da83222f104a09255e",
            "1ec5e39dd03a4096869edd7777e20b73",
            "0b7b4ebeebe14d3b9f9bfffc06c91ebd",
            "16cb3debf71f46a992b3b5004f463c2f",
            "d324c499be2e4fcc94289bf58a1d46c8",
            "d4614377a9b541789156ed122c62e6d6",
            "4de4c8be926542cf83e3f8e47671d35d",
            "82f14bf4e1ec4c3c93bd853da91d46fa",
            "43c2b48b87214c96ab797e48de3ed840",
            "82a982901c3e4bd089fed883c599e8d4",
            "ecea3f310d5e45ab9f63564154a58333",
            "4791d51578ab4b48ad6bde0f3050d3d9",
            "ee72e60ca2e94332ae60ed1c29111168",
            "5083b3a19087487a99b2df0851d2cd35",
            "13017b4d70ff4b8dafcbe4183362b064",
            "b6ff9c39d46447e4bee7f8adec252ffb",
            "e0285a75276d470f8adaf91fd997f5f0",
            "fcd88f76d4e6427080a137b321a7fca8",
            "1d654d3b3c274249b5055835e1c0c1d4",
            "ad543125c8d348c2b3b07ee276e77bf1",
            "2983ccb0885b4e0091e19148005912e2",
            "00ed39ea1a04431ebd9f960c75bdebfe",
            "f01cfb985f10454e9e9d0ac4ae1f6f62",
            "327724d902f04b0ca12486ef5452a505",
            "040c035e7c1349b09f944865311767fb",
            "75772e83865843f69f46ed68ee2b9a16",
            "870c28ab493f49da99cb6d560982d3c4",
            "84c0895e0439436198036d22caeaded7",
            "4cceb24236a44fe186a3091c2adc16fe",
            "aac585bb40c24580b39cec16ac17d403",
            "fe344e8dae784db79c7d6d7596fbc443",
            "53e2cba8331041e0a14edb8600854c75",
            "26180fe0ee944b6580421bb87f0dee4a",
            "016c84e8633045f1a4685e36907ef6e1",
            "2481ec162e2040baa0442939c24c5a65",
            "b4ec62b902b945efac2094725ef98265",
            "4a1db184856d455693140f48bd4a4db8",
            "6215e026dd7742e6b33a20e5e32c2937",
            "5a07d60403fa411a8d50ed9a7ab0af18",
            "4edddd9032a444aeb41a78a6c91ceca1",
            "3aa0ad315ebc403db141445f1feb4e18",
            "d23249251b3f4cc9b805723af6fabb20",
            "8604480135134240ae14a90cb23f7f35",
            "5b1bafd5655e4a7b9e8462fc13a0e996",
            "bc9317a71f03498daf6a203e910148ac",
            "8315e0d57fb742ceb381ddabc9e419cf",
            "c3a04b30422f466db1b20dc076e8316d",
            "f6ed29b421dc44a18272b82204d0c97a",
            "95420bf59a3f47c395fc21532a8767f7",
            "897b4e3f06a546a382749f64181cbd87",
            "eea73e5dd2e34670bcb8ef71ee1ca62a",
            "25fffa89755447b8bce9451e16979492",
            "b5051a8385064ad4b50f5f70c92e288c",
            "3a3ab5204fd843b69b29b19e72342f06",
            "35e3c597d057499b9752f97d9cf5784d",
            "51f0db66353b4d56a2b7c5855b66b6ec",
            "c8eb73523e6e491dbae8823cc016e492",
            "236d6907b3294d79a42ae26d6e628050",
            "568d34980f9f4e04aff34b5543aee013",
            "d9e51f07c1e74201849650870fde6ef5",
            "5ad9ee00d69b4f6e90bb5688f0ef3e49",
            "816400e0bb754f67bd85303ed7643719",
            "e2fe98d5e485480888908b541ea490f9",
            "c736299cc2f04705929244398cdc39fd",
            "6d74e0231f654c809426de456ad40321",
            "6d30329a57e74090b8cf51bcb83fdc63",
            "86b7a15e06e14ba2a6c39c8ff6129cb9",
            "5b4ec3ebec9e4694b7c9ac8dca7acae1",
            "cad90bee2c674688b7f0eed4cc95d319",
            "429e10be124945a1a6a91686c8b85fd8",
            "6b8bb28e8eb24a87af04012e48b9ed59",
            "2d8fafddd6ff4b05a79c1d8579374afb",
            "94a681c8e56f45d991da3e4253eb0b09",
            "3748976be9b84239845d10b4a9f07b51",
            "27ca40c3cf0c4ce88d9857a8c05ed7f6",
            "d52754aef9c44845a3ea0ee8b230701a",
            "435d730a5a0d40b4b4212e75c996247a",
            "613f5081c2624b8ab5b6a2229e8d8a72",
            "b8b13e35101f454894eae2c5bd8623f0",
            "ffaa3195c4294d7d9981b38862df0b20",
            "5365843b5f66417e9ce3057303cfa72f",
            "36f0c7c4c4c44a26abeccfffb80710a4",
            "37f4871ee7e448e48af542f5adc703f7",
            "3ae468a9a1b149e480406d5bf37d08f0",
            "1f2cde6e04bc4129b1209c7bdd34f53e",
            "4eb316e9730f409ca5f8001256d5f0a8",
            "22ac4a52143442888498d7c7252302d9",
            "30d1e52c8c104bee931e5fac2b87431e",
            "025334f6ab61437288c263bc689cbd9f",
            "d6b4480608e3465aaf513b5a2f9a2570",
            "688ae66d62494937a11779ad57d854d6",
            "6b846e7b22fd4d28bc67e4da32821e3b",
            "cf59db8650744f17a15cdc87dc6c00c2",
            "6cef9381d02e430f8590bb9a60e12f57",
            "6ad0ceb6b4ca4efd83a58c739569d41b",
            "a5577a918b5d404f9b50645d664bfad1",
            "9a8002ea084e457e93087807bae46cd0",
            "f4f715b8b74944458fd135588955953d",
            "083cbfd6179c4129a589b4b360494af5",
            "ab8c5b64b9e5447a941353454d673329",
            "c875c892348c49eabb99928d48cd66d8",
            "617a1151a91042e1b6e2ae26bb16d0db",
            "d0111771397741d0814e06634d07e4a1",
            "d3dab4943f954eb2b9deb52e246b37ac",
            "5547d91d0e8c43e5983d79e475c486e6",
            "39ef8c7c31474e81bb379da6bc78c6ed",
            "e829427f00a84defaf9ea088bff13035",
            "caec1da07393413192980e2bcb2f99d7",
            "7a3c9e664d664866826d778e62d7fd8f",
            "72d5a443d3a64cadb1027e4b88197bfc",
            "9812e7b72f4740b8b0ee86ae8090e1f3",
            "28e4c028470646078610424d2d4905a7",
            "6496eab6067d4195bdd10ba04b033a11",
            "fd53fc952d524d71bc31428367377a7d",
            "1a1fcbae7ece4914844cfcfb3d6553e7",
            "5ed6f148b7bf4bf0bd12de5d1b236d94",
            "b5de838a33104255b9e4d74970dbcbac",
            "144be609756d41ed8f33d8bb5d2d49d5",
            "b5a2160497be4cf682115ab5735a5ce5",
            "e03287fc3b8c4162a82d20537e1868e8",
            "7206d25d2f6449839b941b5b3770ea88",
            "44f84248ac8c41c2a98d0787aa078c1d",
            "22bf544164f24cc3a09df1fd22dda442",
            "c6e2a0b92bce4c86ba1e43f98ce8c481",
            "6e916178c1a5433ba2da45cabf636484",
            "081db28254124d12a4d92ff0ef3bcfbe",
            "0a05a89c46a049f9ae674922955e127a",
            "4bd993aa2bc24e3ca1b795de7d287b46",
            "431db4f1abac4ddd97a6dbeafd115e54",
            "63442e2087df4768a8773fee2d46079f",
            "e3b044ee0e4b404e928d1f5e71c2ffcc",
            "312ac78b9058427caedca065fa24a74e",
            "9384d91607624ac1853b2e531df0ee63",
            "dc445ed55e624751baad2509bec15c25",
            "111dde86e83d4a11bdfcc53b5d1987ef",
            "4b0db3863c3841d0b3caf222c88f4dd3",
            "53f1443176a74ea5b33aa459579ba993",
            "04e29ed27e3746c8be953bd85fec3638",
            "9ac8082350d74a43904cc5aa76cc610c",
            "795a1699b7e44416a5a661457371c9e6",
            "3f863e1bc625430a96f9adcdaa122db7",
            "3b5cf9a0420b4859ad7d5122ce5160c7",
            "0fc00ab8184d4dfd97bb65f059d8b6de",
            "e2f14843790d4534a5ebe78eb0289232",
            "f000891d99b94b5b8ace24ae2d8ce077",
            "5d9d090c2bcb4c35bc0d40db398fc849",
            "dfb470667b8d4b50ac9fd21d7a23f672",
            "c329d75c3d72419e9dde907a28b67564",
            "2ce4359bb35c425faa5b76147c663990",
            "0aeac74bbbc54535868c785d8bd1fa93",
            "50bc8257a3844301938909cf5fdd252a",
            "815701cbc8634cd9a483050db41b070e",
            "110243f9f6b245a0acef00a5243eb7e7",
            "3e960c4adc7048928288eb2877fef105",
            "6ab87ea1ebab433c8fd4ab1a6a774ca0",
            "36a63ce9c3d943b7a12da6bbba721ac2",
            "2c3923434ae34420bf62e3fdf53bb709",
            "43b708d2d49b4df2bc5007e07f1a0a2b",
            "e22b767745d146d0aafee789a7194519",
            "528edcefbaa743aeba6f8b170d4b155a",
            "171a5486fd224d9f82f5a16863e59f36",
            "2b860d0633504fd5a618033fbe572288",
            "3b5abd1cf9a347c5846649711fe9544b",
            "4fff90cecd314fd9a7227d3d720afd13",
            "6a054f2e3cfb46ad91659f75b731326b",
            "7015fc15460741698b5c8b8f25f3f21b",
            "baca996da8794219a89fb7f58bbd6b0c",
            "bf3b3d284ce84f5191dab8d24234f9f3",
            "9437c8998d6048e092058195b14ccfeb",
            "4caae712645b4498bc33e22c852a6dd6",
            "8b89630917b34c78b338048408dc5351",
            "eec074ff32f444f78a85ab156b23d937",
            "839e8bef64554bd790ed5b9c04082f48",
            "4da1412c8444439ab9ab6dadf98d3ba1",
            "512a1c81d7254f29ade6386fd11bb0a4",
            "63f239d8f7154b8384db8ae23ba0e161",
            "cf05600722444efba5fde538f73cb1f2",
            "bb50b2fa8b6d433daf4cbb75c13f9f72",
            "5cf84a1c43d6430b8cdaa9cbcc117f07",
            "e8d34b23158f48fe9b7c1114d5de375a",
            "7eab307254794bca9ecf450815587989",
            "a7085cb976184981b3f8e1f33f7bbb26",
            "c4f09424b8184b7cb778c1a77cc72eac",
            "381579f6b1244e87968916dfae55ea77",
            "5233158932644ffe96dd12b9180964fb",
            "0281751a46404105b2ccafe8439bbe6e",
            "c4486795eef94c7fb813156d4531b887",
            "ee85ce7f1170499daf50d5cc0deb5275",
            "49671019947845caa05f607c5be548c2",
            "6353e4906eae40f7909d2cd0c67ce0ee",
            "8b4c1c494be54833bb74166fcfcb257a",
            "2f9d4315ef774e5c8ed0719d0c3404fc",
            "8db19c1db0b547b3932939cda49f0814",
            "bac1e38363a64b70b7599755107634f8",
            "ee83bb0ae3084bdaaf979f499ce6f0c1",
            "34a2b3f0a708453ab77c49ed0ac95ff5",
            "40d85af11eb54a40ac64db0fa3329993",
            "761d2e1419ac4900bcedaead0c8ff6c8",
            "3a481f4fabd44c24a44a6dff8fe6c9ad",
            "361a6cff38aa47f3a13af63c58e96e64",
            "712bf9ee2e9d4ef9969e05536b806038",
            "54107445c9604b62a72b979b9969e703",
            "0838780de4c740b38ae10401622511fb",
            "1f757a770b3a4573a1292dca13f3a310",
            "00734e6ed205479cb7009235ee33a043",
            "247ed038e5154d3288b235b9d85b259b",
            "4ef27dac6c6e408ebb2ba6462e710771",
            "3e9c01f5dfb8409a82a5efe24cd5b3f1",
            "8b37ac99ec14491eaab39394c33c63dc",
            "0ab3f05a40b0465a848bb46b433235e2",
            "69275bc09ade40e78b71c36c42fa59da",
            "9c0bb8a60038471793be1d0cdb5044ff",
            "86f20249c4d748658dd8e185b0193740",
            "a35990f589bf4e61990c31d2ccce48f3",
            "d7c72fd8d23145f8979d03f420a53661",
            "609664c9c86945c8805673bf2be2a032",
            "b9617d5ab9384b73b09ddd2760b36731",
            "b5a8e7488b004e2687398d2060f63762",
            "3af79b113e0e4518a804ebdd755d7d68",
            "0ba4817830b84bcfa021cabe233bb56a",
            "abc73cc0ce374ffebdfd13d842e5fdc0",
            "2706f278509c48dea39d6549b3d4496c",
            "5595a1286c604d88b06f6541bc517e30",
            "7d776e159e4548439bd021caccfc1584",
            "3b0078e450d644c7a9421274118160c1",
            "df9524eecac04ab0a2a1267ed928c578",
            "e9ab37ed44454a3e85d82a951ab5c720",
            "f4c4c1006afa46bbae8e43a5e85a567e",
            "31cfe85e219d4f73a5b3cbde89b99b86",
            "6f5833a08f9d422d97ddf2399b949232",
            "d36e251e23814afd8bf7a30bee539541",
            "2235d74c42504178bbda7b29f76ba483",
            "06a2f749c73347afa8b95c0624d3c2fa",
            "4fe62f47c5d940ffbc3ba227bb828a58",
            "1e1783fdfd5c443ba953e8290326a77e",
            "ecec81944f174ba0bdd20bf5d2caeb7a",
            "a60bbaab871249559b31e9caa75b9214",
            "b46c9da764884295b2eee05b4798e0cf",
            "12abb2b0ddc1454799ccdfe1e4a73bfa",
            "67721871b99e45b6a99c1ee0fae15f60",
            "7ab100a6e6404ecea5522031eac4f497",
            "c16c51230f174583a5db5de45809aa0a",
            "d51b9796c0cb40e8b4dce20ef10cb210",
            "8285a297e66048ea9237cd9b9fc1d43e",
            "0337c82da02e46e981c3e9248a08c85a",
            "d0a8a72079e24ff3ba3b31ac928f183a",
            "3ee99e3e6b0d41d3b0d0e639cc6536f7",
            "5839681398e7408d8ad0bbb6670ec034",
            "c4379589aac64d26b169ff8c1a84b0bc",
            "21364620034d4256ac927c5401c5f6d5",
            "3d01317b14734713bd17d65a0eaec4e4",
            "e7e3e4a740594347b6ebf5495a2173b9",
            "2e8a0def9f69446c8542eecfd388c2a6",
            "ca6d24f6776c43d98f3261c90f6141dc",
            "e7307c43622c4ddc9f1d0a24da8344e2",
            "544e30e0820f46cd8090d70d2c5889c3",
            "ec026ee0efad4b4d84e711d28a0639ee",
            "241a054555854e869eb3e2341d58845e",
            "1c3da7ec26d24fd1a910498f7cdd80ad",
            "b54394823a9b4ef993ec288e54e4fb46",
            "3dbb4f54d2d5413ea751c492dcae8936",
            "e281788e6e2047d59ba1f388f2d55af5",
            "8a5e5b3d18674ba5a776847d97c9849f",
            "5af5222fbb3f40048f8a2d686b36cc13",
            "eb5bd67d215645d480218986d0255958",
            "6e6e7ad0852145a7924945cb03feecc1",
            "61e2f5c9e0a34622a94c9af8323895e1",
            "80349dbe5ea14cc89d0680932865d282",
            "72a4e26c32c7436d9bf137b107536e29",
            "490b8830c99e480bab416bf9a8426ad4",
            "48fd43a8e1844f05ace6251b1f233cdf",
            "2e6789a148a2485ea84ea399acc20a51",
            "163980e799404c6d96721ec6a2054c36",
            "08b88e9f509f44a387c96063a30419ce",
            "0fac5b7076354436960b71f63db019ff",
            "0661d9754a95415e8a5ec2bb07175cf4",
            "4d249722b5df4edeb7dba7a40049b760",
            "8135ce38245e410ab092401d559d1982",
            "a67f87ed2a674f7db896310bed8776a6",
            "3a9a791415da488e8fdd31d8f541cb9c",
            "131581ff59c24d849af3b682b3e9cd36",
            "95ddcb0a2fec403fa230714cdb9cea7d",
            "eea0603443fa4854b61025376080c416",
            "4d2d5bc6779e4558b9ff60bd638192f1",
            "8bb94071a6094b7baf1022ab50b68015",
            "e5fed857e89041e29991813ba59922a5",
            "7909e0baa5eb4c75bfcfc5ba9e4dc119",
            "956093a7ce824b51b90078e9fa95711a",
            "d8081d13dc2c4b0d83f4e0ff4bdd14c7",
            "694f26803ffd48e3b6e80a59c13fd8cf",
            "afedd5d1716e47deb4b2b34ff465acd0",
            "72a392dc51664021b78e987f727bbc65",
            "961919f235124df4847feafd7ea1ba7d",
            "705435e7c80449869a1946764d9c08bb",
            "1ded019f780c46b8b77aff37558f7caf",
            "efb30f08c1064e9ba8e7662c65d5a640",
            "6bc333a5f0064eafb296a184d99cfc61",
            "207cdc6d7fbc4c95aaf685bb24395862",
            "a900978777174e6ba684963dc0ce74ac",
            "e9a4f96f607b462595998754e9eb12a7",
            "b53873ce809d4d4fa2ecb995826d3f40",
            "29a54db49c86429f85302b9eeffc8153",
            "02533c4cdd444fd19f9dc9941e07a836",
            "f2c764ca74a14077b29e376d1c517e6c",
            "638f140e01f949799ce1a4e2bb0e7f15",
            "505071353b5149c687915a61333f5d15",
            "38787a30406a48d694c9d8d209c1afd2",
            "47dbfbf2572048358b75a33cfe2890b6",
            "f20180148d9e4239a3e34c9e8688da65",
            "90028d27ae6c492dad2eeaf50e3cd66d",
            "5da1eca5685646fb91e1bae2599032a5",
            "e7e1aa74475849f2a4e745cf13d48a30",
            "418d51a6f77a4695b78dd39001ba4282",
            "b8c9e150741c491fb258ec3d56669e2f",
            "296251edf9834b6c99a2e09cc8daa81a",
            "a2a87c67551c4a39b3562a4f23926aa0",
            "f04e68ba14d44a269206176a546ae35b",
            "6885c912ea64474d83f8684edbff73b5",
            "3fc72c8a34ba46ea89333a7218a4ab95",
            "cf6c758933a0443a8c1366e08d466853",
            "3d07974d6a6549a68cfb47a8699528ea",
            "15ccabea2577423d9f9b9d5508453542",
            "41cb9245ee344ff1bdf6e67b77f04690",
            "9bcda0754d01441085eeb5886d96941f",
            "eb2efa1e91f445a2a1b5c18e5c68bc8e",
            "9382d2e1415f4136ab984a72c7da7a11",
            "2658a87d49f6477f8b89c105bbeda88e",
            "8bd262ec34844ef39a6a80b6ac330507",
            "724d7311f7394936bd331f5fac02a79a",
            "aed2aa67a24047ada9bbdae2babde729",
            "254e32d1ce59421aa7fafc91c6747dfc",
            "70ced00948d14b1096eaaeab30f41682",
            "fcc56d2da7474a3bbfc568921d339cb0",
            "96d8751cb51b4734b344eda540bcb3ee",
            "0a4a9843e44349f48cf25fe4e283e972",
            "eee1cfe0fde7452e9e921c53c8d9ef3b"
          ]
        },
        "id": "NlGj4j7V9emw",
        "outputId": "34483552-d1f7-4791-c126-49a8aa2e9cf2",
        "collapsed": true
      },
      "execution_count": null,
      "outputs": [
        {
          "output_type": "stream",
          "name": "stderr",
          "text": [
            "/usr/local/lib/python3.12/dist-packages/huggingface_hub/utils/_auth.py:94: UserWarning: \n",
            "The secret `HF_TOKEN` does not exist in your Colab secrets.\n",
            "To authenticate with the Hugging Face Hub, create a token in your settings tab (https://huggingface.co/settings/tokens), set it as secret in your Google Colab and restart your session.\n",
            "You will be able to reuse this secret in all of your notebooks.\n",
            "Please note that authentication is recommended but still optional to access public models or datasets.\n",
            "  warnings.warn(\n",
            "/usr/local/lib/python3.12/dist-packages/datasets/load.py:1429: FutureWarning: The repository for google/speech_commands contains custom code which must be executed to correctly load the dataset. You can inspect the repository content at https://hf.co/datasets/google/speech_commands\n",
            "You can avoid this message in future by passing the argument `trust_remote_code=True`.\n",
            "Passing `trust_remote_code=True` will be mandatory to load this dataset from the next major release of `datasets`.\n",
            "  warnings.warn(\n"
          ]
        },
        {
          "output_type": "display_data",
          "data": {
            "text/plain": [
              "Downloading builder script: 0.00B [00:00, ?B/s]"
            ],
            "application/vnd.jupyter.widget-view+json": {
              "version_major": 2,
              "version_minor": 0,
              "model_id": "e3b8347d8a3d4376a368ea8c8df8b29e"
            }
          },
          "metadata": {}
        },
        {
          "output_type": "display_data",
          "data": {
            "text/plain": [
              "Downloading readme: 0.00B [00:00, ?B/s]"
            ],
            "application/vnd.jupyter.widget-view+json": {
              "version_major": 2,
              "version_minor": 0,
              "model_id": "25098eb848ff4e7d8959f5d27486b652"
            }
          },
          "metadata": {}
        },
        {
          "output_type": "display_data",
          "data": {
            "text/plain": [
              "Downloading data:   0%|          | 0.00/1.94G [00:00<?, ?B/s]"
            ],
            "application/vnd.jupyter.widget-view+json": {
              "version_major": 2,
              "version_minor": 0,
              "model_id": "7216f6124bb9442590dc754e094d59ec"
            }
          },
          "metadata": {}
        },
        {
          "output_type": "display_data",
          "data": {
            "text/plain": [
              "Downloading data:   0%|          | 0.00/229M [00:00<?, ?B/s]"
            ],
            "application/vnd.jupyter.widget-view+json": {
              "version_major": 2,
              "version_minor": 0,
              "model_id": "493f308d240e46dbac28a12a661b465d"
            }
          },
          "metadata": {}
        },
        {
          "output_type": "display_data",
          "data": {
            "text/plain": [
              "Downloading data:   0%|          | 0.00/112M [00:00<?, ?B/s]"
            ],
            "application/vnd.jupyter.widget-view+json": {
              "version_major": 2,
              "version_minor": 0,
              "model_id": "d12629fc20c44394af06d215439676d6"
            }
          },
          "metadata": {}
        },
        {
          "output_type": "display_data",
          "data": {
            "text/plain": [
              "Generating train split:   0%|          | 0/84848 [00:00<?, ? examples/s]"
            ],
            "application/vnd.jupyter.widget-view+json": {
              "version_major": 2,
              "version_minor": 0,
              "model_id": "0b9d4530323e4b49a0768ed8885e2492"
            }
          },
          "metadata": {}
        },
        {
          "output_type": "display_data",
          "data": {
            "text/plain": [
              "Generating validation split:   0%|          | 0/9982 [00:00<?, ? examples/s]"
            ],
            "application/vnd.jupyter.widget-view+json": {
              "version_major": 2,
              "version_minor": 0,
              "model_id": "633329f8b98042d8a2a9a0d8c3bbe9e2"
            }
          },
          "metadata": {}
        },
        {
          "output_type": "display_data",
          "data": {
            "text/plain": [
              "Generating test split:   0%|          | 0/4890 [00:00<?, ? examples/s]"
            ],
            "application/vnd.jupyter.widget-view+json": {
              "version_major": 2,
              "version_minor": 0,
              "model_id": "5bbfcbf123244a3fb53e8e1f4c7a2122"
            }
          },
          "metadata": {}
        },
        {
          "output_type": "stream",
          "name": "stderr",
          "text": [
            "/tmp/ipython-input-508842716.py:75: FutureWarning: `torch.cuda.amp.GradScaler(args...)` is deprecated. Please use `torch.amp.GradScaler('cuda', args...)` instead.\n",
            "  scaler = torch.cuda.amp.GradScaler(enabled=use_amp)\n"
          ]
        },
        {
          "output_type": "display_data",
          "data": {
            "text/plain": [
              "Epoch 01:   0%|          | 0/1326 [00:00<?, ?it/s]"
            ],
            "application/vnd.jupyter.widget-view+json": {
              "version_major": 2,
              "version_minor": 0,
              "model_id": "5c63d488841f4890a798fea8e9785bc7"
            }
          },
          "metadata": {}
        },
        {
          "output_type": "stream",
          "name": "stdout",
          "text": [
            "Epoch 01 \u279c train 8.3% | val 17.8% (loss 3.117) | lr 4.17e-05\n",
            "** Saved new best model params ** @ 17.8%\n"
          ]
        },
        {
          "output_type": "display_data",
          "data": {
            "text/plain": [
              "Epoch 02:   0%|          | 0/1326 [00:00<?, ?it/s]"
            ],
            "application/vnd.jupyter.widget-view+json": {
              "version_major": 2,
              "version_minor": 0,
              "model_id": "7e5641a5b3174e32b601e8b0c1a11c72"
            }
          },
          "metadata": {}
        },
        {
          "output_type": "stream",
          "name": "stdout",
          "text": [
            "Epoch 02 \u279c train 42.5% | val 71.1% (loss 1.534) | lr 8.33e-05\n",
            "** Saved new best model params ** @ 71.1%\n"
          ]
        },
        {
          "output_type": "display_data",
          "data": {
            "text/plain": [
              "Epoch 03:   0%|          | 0/1326 [00:00<?, ?it/s]"
            ],
            "application/vnd.jupyter.widget-view+json": {
              "version_major": 2,
              "version_minor": 0,
              "model_id": "324b55f2441c40eebce2fa548cc811b3"
            }
          },
          "metadata": {}
        },
        {
          "output_type": "stream",
          "name": "stdout",
          "text": [
            "Epoch 03 \u279c train 72.5% | val 87.6% (loss 0.932) | lr 1.25e-04\n",
            "** Saved new best model params ** @ 87.6%\n"
          ]
        },
        {
          "output_type": "display_data",
          "data": {
            "text/plain": [
              "Epoch 04:   0%|          | 0/1326 [00:00<?, ?it/s]"
            ],
            "application/vnd.jupyter.widget-view+json": {
              "version_major": 2,
              "version_minor": 0,
              "model_id": "35718bef6005401d98c8197dd6609c61"
            }
          },
          "metadata": {}
        },
        {
          "output_type": "stream",
          "name": "stdout",
          "text": [
            "Epoch 04 \u279c train 82.7% | val 91.9% (loss 0.784) | lr 1.67e-04\n",
            "** Saved new best model params ** @ 91.9%\n"
          ]
        },
        {
          "output_type": "display_data",
          "data": {
            "text/plain": [
              "Epoch 05:   0%|          | 0/1326 [00:00<?, ?it/s]"
            ],
            "application/vnd.jupyter.widget-view+json": {
              "version_major": 2,
              "version_minor": 0,
              "model_id": "25f3817f4f9544aca273419776ada091"
            }
          },
          "metadata": {}
        },
        {
          "output_type": "stream",
          "name": "stdout",
          "text": [
            "Epoch 05 \u279c train 86.6% | val 92.7% (loss 0.745) | lr 2.08e-04\n",
            "** Saved new best model params ** @ 92.7%\n"
          ]
        },
        {
          "output_type": "display_data",
          "data": {
            "text/plain": [
              "Epoch 06:   0%|          | 0/1326 [00:00<?, ?it/s]"
            ],
            "application/vnd.jupyter.widget-view+json": {
              "version_major": 2,
              "version_minor": 0,
              "model_id": "5810a3efb6144bedb84f1d20448e95b5"
            }
          },
          "metadata": {}
        },
        {
          "output_type": "stream",
          "name": "stdout",
          "text": [
            "Epoch 06 \u279c train 88.3% | val 94.3% (loss 0.687) | lr 2.50e-04\n",
            "** Saved new best model params ** @ 94.3%\n"
          ]
        },
        {
          "output_type": "display_data",
          "data": {
            "text/plain": [
              "Epoch 07:   0%|          | 0/1326 [00:00<?, ?it/s]"
            ],
            "application/vnd.jupyter.widget-view+json": {
              "version_major": 2,
              "version_minor": 0,
              "model_id": "873155b6380443649e17af09abf551df"
            }
          },
          "metadata": {}
        },
        {
          "output_type": "stream",
          "name": "stdout",
          "text": [
            "Epoch 07 \u279c train 89.4% | val 95.2% (loss 0.664) | lr 2.92e-04\n",
            "** Saved new best model params ** @ 95.2%\n"
          ]
        },
        {
          "output_type": "display_data",
          "data": {
            "text/plain": [
              "Epoch 08:   0%|          | 0/1326 [00:00<?, ?it/s]"
            ],
            "application/vnd.jupyter.widget-view+json": {
              "version_major": 2,
              "version_minor": 0,
              "model_id": "2e673cff534d4516b8d0a73341af924d"
            }
          },
          "metadata": {}
        },
        {
          "output_type": "stream",
          "name": "stdout",
          "text": [
            "Epoch 08 \u279c train 90.5% | val 95.6% (loss 0.646) | lr 3.33e-04\n",
            "** Saved new best model params ** @ 95.6%\n"
          ]
        },
        {
          "output_type": "display_data",
          "data": {
            "text/plain": [
              "Epoch 09:   0%|          | 0/1326 [00:00<?, ?it/s]"
            ],
            "application/vnd.jupyter.widget-view+json": {
              "version_major": 2,
              "version_minor": 0,
              "model_id": "505f55c2d96147dfb1f84854c6c65ac9"
            }
          },
          "metadata": {}
        },
        {
          "output_type": "stream",
          "name": "stdout",
          "text": [
            "Epoch 09 \u279c train 91.0% | val 95.0% (loss 0.663) | lr 3.75e-04\n"
          ]
        },
        {
          "output_type": "display_data",
          "data": {
            "text/plain": [
              "Epoch 10:   0%|          | 0/1326 [00:00<?, ?it/s]"
            ],
            "application/vnd.jupyter.widget-view+json": {
              "version_major": 2,
              "version_minor": 0,
              "model_id": "5c700b89872244b7bab1c13ff57e6777"
            }
          },
          "metadata": {}
        },
        {
          "output_type": "stream",
          "name": "stdout",
          "text": [
            "Epoch 10 \u279c train 91.4% | val 95.1% (loss 0.647) | lr 4.17e-04\n"
          ]
        },
        {
          "output_type": "display_data",
          "data": {
            "text/plain": [
              "Epoch 11:   0%|          | 0/1326 [00:00<?, ?it/s]"
            ],
            "application/vnd.jupyter.widget-view+json": {
              "version_major": 2,
              "version_minor": 0,
              "model_id": "af71cd442bea457db49c1129b9f2478b"
            }
          },
          "metadata": {}
        },
        {
          "output_type": "stream",
          "name": "stdout",
          "text": [
            "Epoch 11 \u279c train 91.8% | val 95.8% (loss 0.625) | lr 4.58e-04\n",
            "** Saved new best model params ** @ 95.8%\n"
          ]
        },
        {
          "output_type": "display_data",
          "data": {
            "text/plain": [
              "Epoch 12:   0%|          | 0/1326 [00:00<?, ?it/s]"
            ],
            "application/vnd.jupyter.widget-view+json": {
              "version_major": 2,
              "version_minor": 0,
              "model_id": "a57ae09a8e1d4ca7ad0f6cdaf76802ff"
            }
          },
          "metadata": {}
        },
        {
          "output_type": "stream",
          "name": "stdout",
          "text": [
            "Epoch 12 \u279c train 92.1% | val 95.7% (loss 0.628) | lr 5.00e-04\n"
          ]
        },
        {
          "output_type": "display_data",
          "data": {
            "text/plain": [
              "Epoch 13:   0%|          | 0/1326 [00:00<?, ?it/s]"
            ],
            "application/vnd.jupyter.widget-view+json": {
              "version_major": 2,
              "version_minor": 0,
              "model_id": "dbfb80bdea75464180e87c97aabc4b4c"
            }
          },
          "metadata": {}
        },
        {
          "output_type": "stream",
          "name": "stdout",
          "text": [
            "Epoch 13 \u279c train 92.6% | val 96.1% (loss 0.618) | lr 5.00e-04\n",
            "** Saved new best model params ** @ 96.1%\n"
          ]
        },
        {
          "output_type": "display_data",
          "data": {
            "text/plain": [
              "Epoch 14:   0%|          | 0/1326 [00:00<?, ?it/s]"
            ],
            "application/vnd.jupyter.widget-view+json": {
              "version_major": 2,
              "version_minor": 0,
              "model_id": "1402f6ae099a4552b126f3d7602aaa5d"
            }
          },
          "metadata": {}
        },
        {
          "output_type": "stream",
          "name": "stdout",
          "text": [
            "Epoch 14 \u279c train 92.9% | val 95.9% (loss 0.623) | lr 4.99e-04\n"
          ]
        },
        {
          "output_type": "display_data",
          "data": {
            "text/plain": [
              "Epoch 15:   0%|          | 0/1326 [00:00<?, ?it/s]"
            ],
            "application/vnd.jupyter.widget-view+json": {
              "version_major": 2,
              "version_minor": 0,
              "model_id": "7905c89219524616b92800135bf9d6ac"
            }
          },
          "metadata": {}
        },
        {
          "output_type": "stream",
          "name": "stdout",
          "text": [
            "Epoch 15 \u279c train 93.3% | val 96.4% (loss 0.607) | lr 4.99e-04\n",
            "** Saved new best model params ** @ 96.4%\n"
          ]
        },
        {
          "output_type": "display_data",
          "data": {
            "text/plain": [
              "Epoch 16:   0%|          | 0/1326 [00:00<?, ?it/s]"
            ],
            "application/vnd.jupyter.widget-view+json": {
              "version_major": 2,
              "version_minor": 0,
              "model_id": "2b6760ed89284c6f82d18e76164907f7"
            }
          },
          "metadata": {}
        },
        {
          "output_type": "stream",
          "name": "stdout",
          "text": [
            "Epoch 16 \u279c train 93.7% | val 96.4% (loss 0.606) | lr 4.97e-04\n",
            "** Saved new best model params ** @ 96.4%\n"
          ]
        },
        {
          "output_type": "display_data",
          "data": {
            "text/plain": [
              "Epoch 17:   0%|          | 0/1326 [00:00<?, ?it/s]"
            ],
            "application/vnd.jupyter.widget-view+json": {
              "version_major": 2,
              "version_minor": 0,
              "model_id": "2ea2bd3d3cac49e0907c9b704d4aaa7f"
            }
          },
          "metadata": {}
        },
        {
          "output_type": "stream",
          "name": "stdout",
          "text": [
            "Epoch 17 \u279c train 94.0% | val 96.5% (loss 0.607) | lr 4.96e-04\n",
            "** Saved new best model params ** @ 96.5%\n"
          ]
        },
        {
          "output_type": "display_data",
          "data": {
            "text/plain": [
              "Epoch 18:   0%|          | 0/1326 [00:00<?, ?it/s]"
            ],
            "application/vnd.jupyter.widget-view+json": {
              "version_major": 2,
              "version_minor": 0,
              "model_id": "5f584e791bd44439a9f3f993b182cdd6"
            }
          },
          "metadata": {}
        },
        {
          "output_type": "stream",
          "name": "stdout",
          "text": [
            "Epoch 18 \u279c train 94.0% | val 96.5% (loss 0.602) | lr 4.94e-04\n",
            "** Saved new best model params ** @ 96.5%\n"
          ]
        },
        {
          "output_type": "display_data",
          "data": {
            "text/plain": [
              "Epoch 19:   0%|          | 0/1326 [00:00<?, ?it/s]"
            ],
            "application/vnd.jupyter.widget-view+json": {
              "version_major": 2,
              "version_minor": 0,
              "model_id": "e1f0f3da14454f3780877592c4ba3110"
            }
          },
          "metadata": {}
        },
        {
          "output_type": "stream",
          "name": "stdout",
          "text": [
            "Epoch 19 \u279c train 94.3% | val 97.0% (loss 0.591) | lr 4.92e-04\n",
            "** Saved new best model params ** @ 97.0%\n"
          ]
        },
        {
          "output_type": "display_data",
          "data": {
            "text/plain": [
              "Epoch 20:   0%|          | 0/1326 [00:00<?, ?it/s]"
            ],
            "application/vnd.jupyter.widget-view+json": {
              "version_major": 2,
              "version_minor": 0,
              "model_id": "af56a5afaaf94307ab9812dfffd707f8"
            }
          },
          "metadata": {}
        },
        {
          "output_type": "stream",
          "name": "stdout",
          "text": [
            "Epoch 20 \u279c train 94.5% | val 96.6% (loss 0.598) | lr 4.90e-04\n"
          ]
        },
        {
          "output_type": "display_data",
          "data": {
            "text/plain": [
              "Epoch 21:   0%|          | 0/1326 [00:00<?, ?it/s]"
            ],
            "application/vnd.jupyter.widget-view+json": {
              "version_major": 2,
              "version_minor": 0,
              "model_id": "58a374ba8f94430ca26e90e9964f20a9"
            }
          },
          "metadata": {}
        },
        {
          "output_type": "stream",
          "name": "stdout",
          "text": [
            "Epoch 21 \u279c train 94.7% | val 96.7% (loss 0.597) | lr 4.87e-04\n"
          ]
        },
        {
          "output_type": "display_data",
          "data": {
            "text/plain": [
              "Epoch 22:   0%|          | 0/1326 [00:00<?, ?it/s]"
            ],
            "application/vnd.jupyter.widget-view+json": {
              "version_major": 2,
              "version_minor": 0,
              "model_id": "b6a95f8deb584c85897e1bb07ad4278e"
            }
          },
          "metadata": {}
        },
        {
          "output_type": "stream",
          "name": "stdout",
          "text": [
            "Epoch 22 \u279c train 95.0% | val 96.4% (loss 0.608) | lr 4.84e-04\n"
          ]
        },
        {
          "output_type": "display_data",
          "data": {
            "text/plain": [
              "Epoch 23:   0%|          | 0/1326 [00:00<?, ?it/s]"
            ],
            "application/vnd.jupyter.widget-view+json": {
              "version_major": 2,
              "version_minor": 0,
              "model_id": "4f9575cddfef4b1ead3c1d27a0812ecc"
            }
          },
          "metadata": {}
        },
        {
          "output_type": "stream",
          "name": "stdout",
          "text": [
            "Epoch 23 \u279c train 95.1% | val 96.9% (loss 0.600) | lr 4.81e-04\n"
          ]
        },
        {
          "output_type": "display_data",
          "data": {
            "text/plain": [
              "Epoch 24:   0%|          | 0/1326 [00:00<?, ?it/s]"
            ],
            "application/vnd.jupyter.widget-view+json": {
              "version_major": 2,
              "version_minor": 0,
              "model_id": "baada2b790334767b9bda44f75c5acde"
            }
          },
          "metadata": {}
        },
        {
          "output_type": "stream",
          "name": "stdout",
          "text": [
            "Epoch 24 \u279c train 95.1% | val 96.8% (loss 0.595) | lr 4.77e-04\n"
          ]
        },
        {
          "output_type": "display_data",
          "data": {
            "text/plain": [
              "Epoch 25:   0%|          | 0/1326 [00:00<?, ?it/s]"
            ],
            "application/vnd.jupyter.widget-view+json": {
              "version_major": 2,
              "version_minor": 0,
              "model_id": "5b3fb60e92fe4065a2a0b30b147363b1"
            }
          },
          "metadata": {}
        },
        {
          "output_type": "stream",
          "name": "stdout",
          "text": [
            "Epoch 25 \u279c train 95.3% | val 96.5% (loss 0.600) | lr 4.74e-04\n"
          ]
        },
        {
          "output_type": "display_data",
          "data": {
            "text/plain": [
              "Epoch 26:   0%|          | 0/1326 [00:00<?, ?it/s]"
            ],
            "application/vnd.jupyter.widget-view+json": {
              "version_major": 2,
              "version_minor": 0,
              "model_id": "0307b8c5d19041d39df88c0f8f79a627"
            }
          },
          "metadata": {}
        },
        {
          "output_type": "stream",
          "name": "stdout",
          "text": [
            "Epoch 26 \u279c train 95.5% | val 96.9% (loss 0.597) | lr 4.69e-04\n"
          ]
        },
        {
          "output_type": "display_data",
          "data": {
            "text/plain": [
              "Epoch 27:   0%|          | 0/1326 [00:00<?, ?it/s]"
            ],
            "application/vnd.jupyter.widget-view+json": {
              "version_major": 2,
              "version_minor": 0,
              "model_id": "c840fb6d1dbc41e5a72e3ee330ec8429"
            }
          },
          "metadata": {}
        },
        {
          "output_type": "stream",
          "name": "stdout",
          "text": [
            "Epoch 27 \u279c train 95.5% | val 96.6% (loss 0.599) | lr 4.65e-04\n"
          ]
        },
        {
          "output_type": "display_data",
          "data": {
            "text/plain": [
              "Epoch 28:   0%|          | 0/1326 [00:00<?, ?it/s]"
            ],
            "application/vnd.jupyter.widget-view+json": {
              "version_major": 2,
              "version_minor": 0,
              "model_id": "7784139dbf9d4442a9a41d9f79ef678a"
            }
          },
          "metadata": {}
        },
        {
          "output_type": "stream",
          "name": "stdout",
          "text": [
            "Epoch 28 \u279c train 95.5% | val 96.9% (loss 0.589) | lr 4.60e-04\n"
          ]
        },
        {
          "output_type": "display_data",
          "data": {
            "text/plain": [
              "Epoch 29:   0%|          | 0/1326 [00:00<?, ?it/s]"
            ],
            "application/vnd.jupyter.widget-view+json": {
              "version_major": 2,
              "version_minor": 0,
              "model_id": "b717981f43d943638f192614c3a0990d"
            }
          },
          "metadata": {}
        },
        {
          "output_type": "stream",
          "name": "stdout",
          "text": [
            "Epoch 29 \u279c train 95.8% | val 96.9% (loss 0.593) | lr 4.55e-04\n"
          ]
        },
        {
          "output_type": "display_data",
          "data": {
            "text/plain": [
              "Epoch 30:   0%|          | 0/1326 [00:00<?, ?it/s]"
            ],
            "application/vnd.jupyter.widget-view+json": {
              "version_major": 2,
              "version_minor": 0,
              "model_id": "85490adeeb6246528f892b065f8be917"
            }
          },
          "metadata": {}
        },
        {
          "output_type": "stream",
          "name": "stdout",
          "text": [
            "Epoch 30 \u279c train 95.9% | val 97.0% (loss 0.590) | lr 4.50e-04\n",
            "** Saved new best model params ** @ 97.0%\n"
          ]
        },
        {
          "output_type": "display_data",
          "data": {
            "text/plain": [
              "Epoch 31:   0%|          | 0/1326 [00:00<?, ?it/s]"
            ],
            "application/vnd.jupyter.widget-view+json": {
              "version_major": 2,
              "version_minor": 0,
              "model_id": "b6e7f1e1c4044eb2b88f06ff3ba5d091"
            }
          },
          "metadata": {}
        },
        {
          "output_type": "stream",
          "name": "stdout",
          "text": [
            "Epoch 31 \u279c train 96.0% | val 96.9% (loss 0.595) | lr 4.45e-04\n"
          ]
        },
        {
          "output_type": "display_data",
          "data": {
            "text/plain": [
              "Epoch 32:   0%|          | 0/1326 [00:00<?, ?it/s]"
            ],
            "application/vnd.jupyter.widget-view+json": {
              "version_major": 2,
              "version_minor": 0,
              "model_id": "5730664e1d1b4e50aeec443e4c8ac6b0"
            }
          },
          "metadata": {}
        },
        {
          "output_type": "stream",
          "name": "stdout",
          "text": [
            "Epoch 32 \u279c train 95.9% | val 97.0% (loss 0.593) | lr 4.39e-04\n"
          ]
        },
        {
          "output_type": "display_data",
          "data": {
            "text/plain": [
              "Epoch 33:   0%|          | 0/1326 [00:00<?, ?it/s]"
            ],
            "application/vnd.jupyter.widget-view+json": {
              "version_major": 2,
              "version_minor": 0,
              "model_id": "7104ffc9a8b34fd7acd54786a3af25d5"
            }
          },
          "metadata": {}
        },
        {
          "output_type": "stream",
          "name": "stdout",
          "text": [
            "Epoch 33 \u279c train 96.1% | val 96.8% (loss 0.597) | lr 4.33e-04\n"
          ]
        },
        {
          "output_type": "display_data",
          "data": {
            "text/plain": [
              "Epoch 34:   0%|          | 0/1326 [00:00<?, ?it/s]"
            ],
            "application/vnd.jupyter.widget-view+json": {
              "version_major": 2,
              "version_minor": 0,
              "model_id": "9a620cd52be0489fba408d9d7bbd961a"
            }
          },
          "metadata": {}
        },
        {
          "output_type": "stream",
          "name": "stdout",
          "text": [
            "Epoch 34 \u279c train 96.2% | val 97.1% (loss 0.590) | lr 4.27e-04\n",
            "** Saved new best model params ** @ 97.1%\n"
          ]
        },
        {
          "output_type": "display_data",
          "data": {
            "text/plain": [
              "Epoch 35:   0%|          | 0/1326 [00:00<?, ?it/s]"
            ],
            "application/vnd.jupyter.widget-view+json": {
              "version_major": 2,
              "version_minor": 0,
              "model_id": "b9d8c9eca57344b9b12dd589b05987a1"
            }
          },
          "metadata": {}
        },
        {
          "output_type": "stream",
          "name": "stdout",
          "text": [
            "Epoch 35 \u279c train 96.2% | val 97.1% (loss 0.591) | lr 4.20e-04\n"
          ]
        },
        {
          "output_type": "display_data",
          "data": {
            "text/plain": [
              "Epoch 36:   0%|          | 0/1326 [00:00<?, ?it/s]"
            ],
            "application/vnd.jupyter.widget-view+json": {
              "version_major": 2,
              "version_minor": 0,
              "model_id": "8ba56a56898444faa6bf282ee7e90acf"
            }
          },
          "metadata": {}
        },
        {
          "output_type": "stream",
          "name": "stdout",
          "text": [
            "Epoch 36 \u279c train 96.4% | val 96.6% (loss 0.603) | lr 4.14e-04\n"
          ]
        },
        {
          "output_type": "display_data",
          "data": {
            "text/plain": [
              "Epoch 37:   0%|          | 0/1326 [00:00<?, ?it/s]"
            ],
            "application/vnd.jupyter.widget-view+json": {
              "version_major": 2,
              "version_minor": 0,
              "model_id": "2451431fd72441b29420bd4525044117"
            }
          },
          "metadata": {}
        },
        {
          "output_type": "stream",
          "name": "stdout",
          "text": [
            "Epoch 37 \u279c train 96.4% | val 97.0% (loss 0.593) | lr 4.07e-04\n"
          ]
        },
        {
          "output_type": "display_data",
          "data": {
            "text/plain": [
              "Epoch 38:   0%|          | 0/1326 [00:00<?, ?it/s]"
            ],
            "application/vnd.jupyter.widget-view+json": {
              "version_major": 2,
              "version_minor": 0,
              "model_id": "0a135ed49df24ca9a373b02bae87d52e"
            }
          },
          "metadata": {}
        },
        {
          "output_type": "stream",
          "name": "stdout",
          "text": [
            "Epoch 38 \u279c train 96.5% | val 96.9% (loss 0.589) | lr 4.00e-04\n"
          ]
        },
        {
          "output_type": "display_data",
          "data": {
            "text/plain": [
              "Epoch 39:   0%|          | 0/1326 [00:00<?, ?it/s]"
            ],
            "application/vnd.jupyter.widget-view+json": {
              "version_major": 2,
              "version_minor": 0,
              "model_id": "a2581e10c8d642149f29e515f0733aa0"
            }
          },
          "metadata": {}
        },
        {
          "output_type": "stream",
          "name": "stdout",
          "text": [
            "Epoch 39 \u279c train 96.6% | val 97.2% (loss 0.590) | lr 3.93e-04\n",
            "** Saved new best model params ** @ 97.2%\n"
          ]
        },
        {
          "output_type": "display_data",
          "data": {
            "text/plain": [
              "Epoch 40:   0%|          | 0/1326 [00:00<?, ?it/s]"
            ],
            "application/vnd.jupyter.widget-view+json": {
              "version_major": 2,
              "version_minor": 0,
              "model_id": "c0908427bbec4db0b3f89fc55513511d"
            }
          },
          "metadata": {}
        },
        {
          "output_type": "stream",
          "name": "stdout",
          "text": [
            "Epoch 40 \u279c train 96.6% | val 97.1% (loss 0.588) | lr 3.85e-04\n"
          ]
        },
        {
          "output_type": "display_data",
          "data": {
            "text/plain": [
              "Epoch 41:   0%|          | 0/1326 [00:00<?, ?it/s]"
            ],
            "application/vnd.jupyter.widget-view+json": {
              "version_major": 2,
              "version_minor": 0,
              "model_id": "9740be20814f4aea9db52ee41dbf2d7f"
            }
          },
          "metadata": {}
        },
        {
          "output_type": "stream",
          "name": "stdout",
          "text": [
            "Epoch 41 \u279c train 96.7% | val 96.9% (loss 0.596) | lr 3.78e-04\n"
          ]
        },
        {
          "output_type": "display_data",
          "data": {
            "text/plain": [
              "Epoch 42:   0%|          | 0/1326 [00:00<?, ?it/s]"
            ],
            "application/vnd.jupyter.widget-view+json": {
              "version_major": 2,
              "version_minor": 0,
              "model_id": "e4ce233d77e441fa894bf6949d457d1e"
            }
          },
          "metadata": {}
        },
        {
          "output_type": "stream",
          "name": "stdout",
          "text": [
            "Epoch 42 \u279c train 96.8% | val 97.0% (loss 0.593) | lr 3.70e-04\n"
          ]
        },
        {
          "output_type": "display_data",
          "data": {
            "text/plain": [
              "Epoch 43:   0%|          | 0/1326 [00:00<?, ?it/s]"
            ],
            "application/vnd.jupyter.widget-view+json": {
              "version_major": 2,
              "version_minor": 0,
              "model_id": "d3d972cb1b48485b99304eb2dae83d03"
            }
          },
          "metadata": {}
        },
        {
          "output_type": "stream",
          "name": "stdout",
          "text": [
            "Epoch 43 \u279c train 96.9% | val 96.9% (loss 0.596) | lr 3.62e-04\n"
          ]
        },
        {
          "output_type": "display_data",
          "data": {
            "text/plain": [
              "Epoch 44:   0%|          | 0/1326 [00:00<?, ?it/s]"
            ],
            "application/vnd.jupyter.widget-view+json": {
              "version_major": 2,
              "version_minor": 0,
              "model_id": "6c36d42770d54775a8a7d084e973c7dc"
            }
          },
          "metadata": {}
        },
        {
          "output_type": "stream",
          "name": "stdout",
          "text": [
            "Epoch 44 \u279c train 97.1% | val 97.2% (loss 0.595) | lr 3.54e-04\n"
          ]
        },
        {
          "output_type": "display_data",
          "data": {
            "text/plain": [
              "Epoch 45:   0%|          | 0/1326 [00:00<?, ?it/s]"
            ],
            "application/vnd.jupyter.widget-view+json": {
              "version_major": 2,
              "version_minor": 0,
              "model_id": "2667e9a408174a678c5497b4fa58fa0e"
            }
          },
          "metadata": {}
        },
        {
          "output_type": "stream",
          "name": "stdout",
          "text": [
            "Epoch 45 \u279c train 97.1% | val 97.1% (loss 0.597) | lr 3.46e-04\n"
          ]
        },
        {
          "output_type": "display_data",
          "data": {
            "text/plain": [
              "Epoch 46:   0%|          | 0/1326 [00:00<?, ?it/s]"
            ],
            "application/vnd.jupyter.widget-view+json": {
              "version_major": 2,
              "version_minor": 0,
              "model_id": "484c9f08d77146ee960ca5e50a9e6440"
            }
          },
          "metadata": {}
        },
        {
          "output_type": "stream",
          "name": "stdout",
          "text": [
            "Epoch 46 \u279c train 97.1% | val 97.2% (loss 0.587) | lr 3.37e-04\n"
          ]
        },
        {
          "output_type": "display_data",
          "data": {
            "text/plain": [
              "Epoch 47:   0%|          | 0/1326 [00:00<?, ?it/s]"
            ],
            "application/vnd.jupyter.widget-view+json": {
              "version_major": 2,
              "version_minor": 0,
              "model_id": "8834b163d0d343bf96da35c349c3afeb"
            }
          },
          "metadata": {}
        },
        {
          "output_type": "stream",
          "name": "stdout",
          "text": [
            "Epoch 47 \u279c train 97.1% | val 97.1% (loss 0.587) | lr 3.29e-04\n"
          ]
        },
        {
          "output_type": "display_data",
          "data": {
            "text/plain": [
              "Epoch 48:   0%|          | 0/1326 [00:00<?, ?it/s]"
            ],
            "application/vnd.jupyter.widget-view+json": {
              "version_major": 2,
              "version_minor": 0,
              "model_id": "2b6fdcfe250f4aec94bff8241273d461"
            }
          },
          "metadata": {}
        },
        {
          "output_type": "stream",
          "name": "stdout",
          "text": [
            "Epoch 48 \u279c train 97.3% | val 97.2% (loss 0.593) | lr 3.20e-04\n",
            "** Saved new best model params ** @ 97.2%\n"
          ]
        },
        {
          "output_type": "display_data",
          "data": {
            "text/plain": [
              "Epoch 49:   0%|          | 0/1326 [00:00<?, ?it/s]"
            ],
            "application/vnd.jupyter.widget-view+json": {
              "version_major": 2,
              "version_minor": 0,
              "model_id": "769e9a26b70243eb9b72a46987580344"
            }
          },
          "metadata": {}
        },
        {
          "output_type": "stream",
          "name": "stdout",
          "text": [
            "Epoch 49 \u279c train 97.3% | val 97.2% (loss 0.593) | lr 3.12e-04\n"
          ]
        },
        {
          "output_type": "display_data",
          "data": {
            "text/plain": [
              "Epoch 50:   0%|          | 0/1326 [00:00<?, ?it/s]"
            ],
            "application/vnd.jupyter.widget-view+json": {
              "version_major": 2,
              "version_minor": 0,
              "model_id": "beae5906c4894ab2bf3d74b78524091a"
            }
          },
          "metadata": {}
        },
        {
          "output_type": "stream",
          "name": "stdout",
          "text": [
            "Epoch 50 \u279c train 97.3% | val 97.3% (loss 0.593) | lr 3.03e-04\n",
            "** Saved new best model params ** @ 97.3%\n"
          ]
        },
        {
          "output_type": "display_data",
          "data": {
            "text/plain": [
              "Epoch 51:   0%|          | 0/1326 [00:00<?, ?it/s]"
            ],
            "application/vnd.jupyter.widget-view+json": {
              "version_major": 2,
              "version_minor": 0,
              "model_id": "bd86c97f80814c12b1fe8f38f02adcb4"
            }
          },
          "metadata": {}
        },
        {
          "output_type": "stream",
          "name": "stdout",
          "text": [
            "Epoch 51 \u279c train 97.4% | val 97.2% (loss 0.594) | lr 2.94e-04\n"
          ]
        },
        {
          "output_type": "display_data",
          "data": {
            "text/plain": [
              "Epoch 52:   0%|          | 0/1326 [00:00<?, ?it/s]"
            ],
            "application/vnd.jupyter.widget-view+json": {
              "version_major": 2,
              "version_minor": 0,
              "model_id": "49b96333921b47c8bf23401b0d35698b"
            }
          },
          "metadata": {}
        },
        {
          "output_type": "stream",
          "name": "stdout",
          "text": [
            "Epoch 52 \u279c train 97.4% | val 97.2% (loss 0.591) | lr 2.86e-04\n"
          ]
        },
        {
          "output_type": "display_data",
          "data": {
            "text/plain": [
              "Epoch 53:   0%|          | 0/1326 [00:00<?, ?it/s]"
            ],
            "application/vnd.jupyter.widget-view+json": {
              "version_major": 2,
              "version_minor": 0,
              "model_id": "93cdf564725248ca99329e6bfc724681"
            }
          },
          "metadata": {}
        },
        {
          "output_type": "stream",
          "name": "stdout",
          "text": [
            "Epoch 53 \u279c train 97.5% | val 97.3% (loss 0.590) | lr 2.77e-04\n",
            "** Saved new best model params ** @ 97.3%\n"
          ]
        },
        {
          "output_type": "display_data",
          "data": {
            "text/plain": [
              "Epoch 54:   0%|          | 0/1326 [00:00<?, ?it/s]"
            ],
            "application/vnd.jupyter.widget-view+json": {
              "version_major": 2,
              "version_minor": 0,
              "model_id": "1ce23d1cc5a840458427d7a514bd7478"
            }
          },
          "metadata": {}
        },
        {
          "output_type": "stream",
          "name": "stdout",
          "text": [
            "Epoch 54 \u279c train 97.6% | val 97.3% (loss 0.591) | lr 2.68e-04\n"
          ]
        },
        {
          "output_type": "display_data",
          "data": {
            "text/plain": [
              "Epoch 55:   0%|          | 0/1326 [00:00<?, ?it/s]"
            ],
            "application/vnd.jupyter.widget-view+json": {
              "version_major": 2,
              "version_minor": 0,
              "model_id": "c3a5e0d9d6924437ba84d25b48b11a8e"
            }
          },
          "metadata": {}
        },
        {
          "output_type": "stream",
          "name": "stdout",
          "text": [
            "Epoch 55 \u279c train 97.7% | val 97.0% (loss 0.596) | lr 2.59e-04\n"
          ]
        },
        {
          "output_type": "display_data",
          "data": {
            "text/plain": [
              "Epoch 56:   0%|          | 0/1326 [00:00<?, ?it/s]"
            ],
            "application/vnd.jupyter.widget-view+json": {
              "version_major": 2,
              "version_minor": 0,
              "model_id": "fbc06b7054d14b5488287265d9fde70c"
            }
          },
          "metadata": {}
        },
        {
          "output_type": "stream",
          "name": "stdout",
          "text": [
            "Epoch 56 \u279c train 97.6% | val 97.2% (loss 0.591) | lr 2.50e-04\n"
          ]
        },
        {
          "output_type": "display_data",
          "data": {
            "text/plain": [
              "Epoch 57:   0%|          | 0/1326 [00:00<?, ?it/s]"
            ],
            "application/vnd.jupyter.widget-view+json": {
              "version_major": 2,
              "version_minor": 0,
              "model_id": "6dbe2ce8cfcc4fa9a3bc1062aebe7fc7"
            }
          },
          "metadata": {}
        },
        {
          "output_type": "stream",
          "name": "stdout",
          "text": [
            "Epoch 57 \u279c train 97.7% | val 97.2% (loss 0.594) | lr 2.41e-04\n"
          ]
        },
        {
          "output_type": "display_data",
          "data": {
            "text/plain": [
              "Epoch 58:   0%|          | 0/1326 [00:00<?, ?it/s]"
            ],
            "application/vnd.jupyter.widget-view+json": {
              "version_major": 2,
              "version_minor": 0,
              "model_id": "58aa529bc08846b997d2819ee2fa1791"
            }
          },
          "metadata": {}
        },
        {
          "output_type": "stream",
          "name": "stdout",
          "text": [
            "Epoch 58 \u279c train 97.8% | val 97.3% (loss 0.591) | lr 2.32e-04\n"
          ]
        },
        {
          "output_type": "display_data",
          "data": {
            "text/plain": [
              "Epoch 59:   0%|          | 0/1326 [00:00<?, ?it/s]"
            ],
            "application/vnd.jupyter.widget-view+json": {
              "version_major": 2,
              "version_minor": 0,
              "model_id": "4356623b7a834f2fa70fb398f5b1038e"
            }
          },
          "metadata": {}
        },
        {
          "output_type": "stream",
          "name": "stdout",
          "text": [
            "Epoch 59 \u279c train 97.8% | val 97.2% (loss 0.590) | lr 2.23e-04\n"
          ]
        },
        {
          "output_type": "display_data",
          "data": {
            "text/plain": [
              "Epoch 60:   0%|          | 0/1326 [00:00<?, ?it/s]"
            ],
            "application/vnd.jupyter.widget-view+json": {
              "version_major": 2,
              "version_minor": 0,
              "model_id": "74a07b8717d84c20afe44df2a53f5d20"
            }
          },
          "metadata": {}
        },
        {
          "output_type": "stream",
          "name": "stdout",
          "text": [
            "Epoch 60 \u279c train 97.9% | val 97.4% (loss 0.588) | lr 2.14e-04\n",
            "** Saved new best model params ** @ 97.4%\n"
          ]
        },
        {
          "output_type": "display_data",
          "data": {
            "text/plain": [
              "Epoch 61:   0%|          | 0/1326 [00:00<?, ?it/s]"
            ],
            "application/vnd.jupyter.widget-view+json": {
              "version_major": 2,
              "version_minor": 0,
              "model_id": "008c85cef6c041bc879f12e6b217b174"
            }
          },
          "metadata": {}
        },
        {
          "output_type": "stream",
          "name": "stdout",
          "text": [
            "Epoch 61 \u279c train 97.9% | val 97.3% (loss 0.592) | lr 2.06e-04\n"
          ]
        },
        {
          "output_type": "display_data",
          "data": {
            "text/plain": [
              "Epoch 62:   0%|          | 0/1326 [00:00<?, ?it/s]"
            ],
            "application/vnd.jupyter.widget-view+json": {
              "version_major": 2,
              "version_minor": 0,
              "model_id": "0e19705f9da64aeb82c1ebff464ff4e6"
            }
          },
          "metadata": {}
        },
        {
          "output_type": "stream",
          "name": "stdout",
          "text": [
            "Epoch 62 \u279c train 97.9% | val 97.3% (loss 0.593) | lr 1.97e-04\n"
          ]
        },
        {
          "output_type": "display_data",
          "data": {
            "text/plain": [
              "Epoch 63:   0%|          | 0/1326 [00:00<?, ?it/s]"
            ],
            "application/vnd.jupyter.widget-view+json": {
              "version_major": 2,
              "version_minor": 0,
              "model_id": "1d683d0b72434d098a123d1c11fb7a9c"
            }
          },
          "metadata": {}
        },
        {
          "output_type": "stream",
          "name": "stdout",
          "text": [
            "Epoch 63 \u279c train 98.0% | val 97.4% (loss 0.591) | lr 1.88e-04\n"
          ]
        },
        {
          "output_type": "display_data",
          "data": {
            "text/plain": [
              "Epoch 64:   0%|          | 0/1326 [00:00<?, ?it/s]"
            ],
            "application/vnd.jupyter.widget-view+json": {
              "version_major": 2,
              "version_minor": 0,
              "model_id": "ca586544adb7437fa3040f4d37560308"
            }
          },
          "metadata": {}
        },
        {
          "output_type": "stream",
          "name": "stdout",
          "text": [
            "Epoch 64 \u279c train 98.0% | val 97.2% (loss 0.596) | lr 1.80e-04\n"
          ]
        },
        {
          "output_type": "display_data",
          "data": {
            "text/plain": [
              "Epoch 65:   0%|          | 0/1326 [00:00<?, ?it/s]"
            ],
            "application/vnd.jupyter.widget-view+json": {
              "version_major": 2,
              "version_minor": 0,
              "model_id": "30cce0a149ad46d8bacbb0a90ae3a3a4"
            }
          },
          "metadata": {}
        },
        {
          "output_type": "stream",
          "name": "stdout",
          "text": [
            "Epoch 65 \u279c train 98.1% | val 97.4% (loss 0.589) | lr 1.71e-04\n",
            "** Saved new best model params ** @ 97.4%\n"
          ]
        },
        {
          "output_type": "display_data",
          "data": {
            "text/plain": [
              "Epoch 66:   0%|          | 0/1326 [00:00<?, ?it/s]"
            ],
            "application/vnd.jupyter.widget-view+json": {
              "version_major": 2,
              "version_minor": 0,
              "model_id": "ce742ca0c2c84c0d9311e7b17f58226b"
            }
          },
          "metadata": {}
        },
        {
          "output_type": "stream",
          "name": "stdout",
          "text": [
            "Epoch 66 \u279c train 98.2% | val 97.3% (loss 0.593) | lr 1.63e-04\n"
          ]
        },
        {
          "output_type": "display_data",
          "data": {
            "text/plain": [
              "Epoch 67:   0%|          | 0/1326 [00:00<?, ?it/s]"
            ],
            "application/vnd.jupyter.widget-view+json": {
              "version_major": 2,
              "version_minor": 0,
              "model_id": "57afb8513f5a4e12817ecfef1e312528"
            }
          },
          "metadata": {}
        },
        {
          "output_type": "stream",
          "name": "stdout",
          "text": [
            "Epoch 67 \u279c train 98.2% | val 97.2% (loss 0.599) | lr 1.54e-04\n"
          ]
        },
        {
          "output_type": "display_data",
          "data": {
            "text/plain": [
              "Epoch 68:   0%|          | 0/1326 [00:00<?, ?it/s]"
            ],
            "application/vnd.jupyter.widget-view+json": {
              "version_major": 2,
              "version_minor": 0,
              "model_id": "cdde00bada1b4c5b8c414671c66c157f"
            }
          },
          "metadata": {}
        },
        {
          "output_type": "stream",
          "name": "stdout",
          "text": [
            "Epoch 68 \u279c train 98.3% | val 97.6% (loss 0.588) | lr 1.46e-04\n",
            "** Saved new best model params ** @ 97.6%\n"
          ]
        },
        {
          "output_type": "display_data",
          "data": {
            "text/plain": [
              "Epoch 69:   0%|          | 0/1326 [00:00<?, ?it/s]"
            ],
            "application/vnd.jupyter.widget-view+json": {
              "version_major": 2,
              "version_minor": 0,
              "model_id": "6bd78f31661e4387bb44900320a4d60f"
            }
          },
          "metadata": {}
        },
        {
          "output_type": "stream",
          "name": "stdout",
          "text": [
            "Epoch 69 \u279c train 98.3% | val 97.3% (loss 0.595) | lr 1.38e-04\n"
          ]
        },
        {
          "output_type": "display_data",
          "data": {
            "text/plain": [
              "Epoch 70:   0%|          | 0/1326 [00:00<?, ?it/s]"
            ],
            "application/vnd.jupyter.widget-view+json": {
              "version_major": 2,
              "version_minor": 0,
              "model_id": "174cebe1fac44a7f96a125bd6152acbc"
            }
          },
          "metadata": {}
        },
        {
          "output_type": "stream",
          "name": "stdout",
          "text": [
            "Epoch 70 \u279c train 98.3% | val 97.3% (loss 0.591) | lr 1.30e-04\n"
          ]
        },
        {
          "output_type": "display_data",
          "data": {
            "text/plain": [
              "Epoch 71:   0%|          | 0/1326 [00:00<?, ?it/s]"
            ],
            "application/vnd.jupyter.widget-view+json": {
              "version_major": 2,
              "version_minor": 0,
              "model_id": "4de4c8be926542cf83e3f8e47671d35d"
            }
          },
          "metadata": {}
        },
        {
          "output_type": "stream",
          "name": "stdout",
          "text": [
            "Epoch 71 \u279c train 98.4% | val 97.4% (loss 0.592) | lr 1.22e-04\n"
          ]
        },
        {
          "output_type": "display_data",
          "data": {
            "text/plain": [
              "Epoch 72:   0%|          | 0/1326 [00:00<?, ?it/s]"
            ],
            "application/vnd.jupyter.widget-view+json": {
              "version_major": 2,
              "version_minor": 0,
              "model_id": "fcd88f76d4e6427080a137b321a7fca8"
            }
          },
          "metadata": {}
        },
        {
          "output_type": "stream",
          "name": "stdout",
          "text": [
            "Epoch 72 \u279c train 98.5% | val 97.3% (loss 0.596) | lr 1.15e-04\n"
          ]
        },
        {
          "output_type": "display_data",
          "data": {
            "text/plain": [
              "Epoch 73:   0%|          | 0/1326 [00:00<?, ?it/s]"
            ],
            "application/vnd.jupyter.widget-view+json": {
              "version_major": 2,
              "version_minor": 0,
              "model_id": "4cceb24236a44fe186a3091c2adc16fe"
            }
          },
          "metadata": {}
        },
        {
          "output_type": "stream",
          "name": "stdout",
          "text": [
            "Epoch 73 \u279c train 98.4% | val 97.4% (loss 0.592) | lr 1.07e-04\n"
          ]
        },
        {
          "output_type": "display_data",
          "data": {
            "text/plain": [
              "Epoch 74:   0%|          | 0/1326 [00:00<?, ?it/s]"
            ],
            "application/vnd.jupyter.widget-view+json": {
              "version_major": 2,
              "version_minor": 0,
              "model_id": "4edddd9032a444aeb41a78a6c91ceca1"
            }
          },
          "metadata": {}
        },
        {
          "output_type": "stream",
          "name": "stdout",
          "text": [
            "Epoch 74 \u279c train 98.5% | val 97.3% (loss 0.597) | lr 1.00e-04\n"
          ]
        },
        {
          "output_type": "display_data",
          "data": {
            "text/plain": [
              "Epoch 75:   0%|          | 0/1326 [00:00<?, ?it/s]"
            ],
            "application/vnd.jupyter.widget-view+json": {
              "version_major": 2,
              "version_minor": 0,
              "model_id": "eea73e5dd2e34670bcb8ef71ee1ca62a"
            }
          },
          "metadata": {}
        },
        {
          "output_type": "stream",
          "name": "stdout",
          "text": [
            "Epoch 75 \u279c train 98.5% | val 97.4% (loss 0.595) | lr 9.31e-05\n"
          ]
        },
        {
          "output_type": "display_data",
          "data": {
            "text/plain": [
              "Epoch 76:   0%|          | 0/1326 [00:00<?, ?it/s]"
            ],
            "application/vnd.jupyter.widget-view+json": {
              "version_major": 2,
              "version_minor": 0,
              "model_id": "816400e0bb754f67bd85303ed7643719"
            }
          },
          "metadata": {}
        },
        {
          "output_type": "stream",
          "name": "stdout",
          "text": [
            "Epoch 76 \u279c train 98.5% | val 97.4% (loss 0.597) | lr 8.63e-05\n"
          ]
        },
        {
          "output_type": "display_data",
          "data": {
            "text/plain": [
              "Epoch 77:   0%|          | 0/1326 [00:00<?, ?it/s]"
            ],
            "application/vnd.jupyter.widget-view+json": {
              "version_major": 2,
              "version_minor": 0,
              "model_id": "94a681c8e56f45d991da3e4253eb0b09"
            }
          },
          "metadata": {}
        },
        {
          "output_type": "stream",
          "name": "stdout",
          "text": [
            "Epoch 77 \u279c train 98.5% | val 97.5% (loss 0.593) | lr 7.96e-05\n"
          ]
        },
        {
          "output_type": "display_data",
          "data": {
            "text/plain": [
              "Epoch 78:   0%|          | 0/1326 [00:00<?, ?it/s]"
            ],
            "application/vnd.jupyter.widget-view+json": {
              "version_major": 2,
              "version_minor": 0,
              "model_id": "3ae468a9a1b149e480406d5bf37d08f0"
            }
          },
          "metadata": {}
        },
        {
          "output_type": "stream",
          "name": "stdout",
          "text": [
            "Epoch 78 \u279c train 98.5% | val 97.4% (loss 0.590) | lr 7.32e-05\n"
          ]
        },
        {
          "output_type": "display_data",
          "data": {
            "text/plain": [
              "Epoch 79:   0%|          | 0/1326 [00:00<?, ?it/s]"
            ],
            "application/vnd.jupyter.widget-view+json": {
              "version_major": 2,
              "version_minor": 0,
              "model_id": "6ad0ceb6b4ca4efd83a58c739569d41b"
            }
          },
          "metadata": {}
        },
        {
          "output_type": "stream",
          "name": "stdout",
          "text": [
            "Epoch 79 \u279c train 98.6% | val 97.4% (loss 0.592) | lr 6.70e-05\n"
          ]
        },
        {
          "output_type": "display_data",
          "data": {
            "text/plain": [
              "Epoch 80:   0%|          | 0/1326 [00:00<?, ?it/s]"
            ],
            "application/vnd.jupyter.widget-view+json": {
              "version_major": 2,
              "version_minor": 0,
              "model_id": "39ef8c7c31474e81bb379da6bc78c6ed"
            }
          },
          "metadata": {}
        },
        {
          "output_type": "stream",
          "name": "stdout",
          "text": [
            "Epoch 80 \u279c train 98.6% | val 97.5% (loss 0.593) | lr 6.11e-05\n"
          ]
        },
        {
          "output_type": "display_data",
          "data": {
            "text/plain": [
              "Epoch 81:   0%|          | 0/1326 [00:00<?, ?it/s]"
            ],
            "application/vnd.jupyter.widget-view+json": {
              "version_major": 2,
              "version_minor": 0,
              "model_id": "b5de838a33104255b9e4d74970dbcbac"
            }
          },
          "metadata": {}
        },
        {
          "output_type": "stream",
          "name": "stdout",
          "text": [
            "Epoch 81 \u279c train 98.6% | val 97.3% (loss 0.595) | lr 5.53e-05\n"
          ]
        },
        {
          "output_type": "display_data",
          "data": {
            "text/plain": [
              "Epoch 82:   0%|          | 0/1326 [00:00<?, ?it/s]"
            ],
            "application/vnd.jupyter.widget-view+json": {
              "version_major": 2,
              "version_minor": 0,
              "model_id": "4bd993aa2bc24e3ca1b795de7d287b46"
            }
          },
          "metadata": {}
        },
        {
          "output_type": "stream",
          "name": "stdout",
          "text": [
            "Epoch 82 \u279c train 98.7% | val 97.3% (loss 0.596) | lr 4.99e-05\n"
          ]
        },
        {
          "output_type": "display_data",
          "data": {
            "text/plain": [
              "Epoch 83:   0%|          | 0/1326 [00:00<?, ?it/s]"
            ],
            "application/vnd.jupyter.widget-view+json": {
              "version_major": 2,
              "version_minor": 0,
              "model_id": "9ac8082350d74a43904cc5aa76cc610c"
            }
          },
          "metadata": {}
        },
        {
          "output_type": "stream",
          "name": "stdout",
          "text": [
            "Epoch 83 \u279c train 98.6% | val 97.4% (loss 0.593) | lr 4.46e-05\n"
          ]
        },
        {
          "output_type": "display_data",
          "data": {
            "text/plain": [
              "Epoch 84:   0%|          | 0/1326 [00:00<?, ?it/s]"
            ],
            "application/vnd.jupyter.widget-view+json": {
              "version_major": 2,
              "version_minor": 0,
              "model_id": "0aeac74bbbc54535868c785d8bd1fa93"
            }
          },
          "metadata": {}
        },
        {
          "output_type": "stream",
          "name": "stdout",
          "text": [
            "Epoch 84 \u279c train 98.8% | val 97.3% (loss 0.595) | lr 3.97e-05\n"
          ]
        },
        {
          "output_type": "display_data",
          "data": {
            "text/plain": [
              "Epoch 85:   0%|          | 0/1326 [00:00<?, ?it/s]"
            ],
            "application/vnd.jupyter.widget-view+json": {
              "version_major": 2,
              "version_minor": 0,
              "model_id": "171a5486fd224d9f82f5a16863e59f36"
            }
          },
          "metadata": {}
        },
        {
          "output_type": "stream",
          "name": "stdout",
          "text": [
            "Epoch 85 \u279c train 98.7% | val 97.4% (loss 0.593) | lr 3.50e-05\n"
          ]
        },
        {
          "output_type": "display_data",
          "data": {
            "text/plain": [
              "Epoch 86:   0%|          | 0/1326 [00:00<?, ?it/s]"
            ],
            "application/vnd.jupyter.widget-view+json": {
              "version_major": 2,
              "version_minor": 0,
              "model_id": "eec074ff32f444f78a85ab156b23d937"
            }
          },
          "metadata": {}
        },
        {
          "output_type": "stream",
          "name": "stdout",
          "text": [
            "Epoch 86 \u279c train 98.8% | val 97.4% (loss 0.593) | lr 3.06e-05\n"
          ]
        },
        {
          "output_type": "display_data",
          "data": {
            "text/plain": [
              "Epoch 87:   0%|          | 0/1326 [00:00<?, ?it/s]"
            ],
            "application/vnd.jupyter.widget-view+json": {
              "version_major": 2,
              "version_minor": 0,
              "model_id": "c4f09424b8184b7cb778c1a77cc72eac"
            }
          },
          "metadata": {}
        },
        {
          "output_type": "stream",
          "name": "stdout",
          "text": [
            "Epoch 87 \u279c train 98.8% | val 97.3% (loss 0.592) | lr 2.64e-05\n"
          ]
        },
        {
          "output_type": "display_data",
          "data": {
            "text/plain": [
              "Epoch 88:   0%|          | 0/1326 [00:00<?, ?it/s]"
            ],
            "application/vnd.jupyter.widget-view+json": {
              "version_major": 2,
              "version_minor": 0,
              "model_id": "bac1e38363a64b70b7599755107634f8"
            }
          },
          "metadata": {}
        },
        {
          "output_type": "stream",
          "name": "stdout",
          "text": [
            "Epoch 88 \u279c train 98.8% | val 97.4% (loss 0.592) | lr 2.26e-05\n"
          ]
        },
        {
          "output_type": "display_data",
          "data": {
            "text/plain": [
              "Epoch 89:   0%|          | 0/1326 [00:00<?, ?it/s]"
            ],
            "application/vnd.jupyter.widget-view+json": {
              "version_major": 2,
              "version_minor": 0,
              "model_id": "00734e6ed205479cb7009235ee33a043"
            }
          },
          "metadata": {}
        },
        {
          "output_type": "stream",
          "name": "stdout",
          "text": [
            "Epoch 89 \u279c train 98.8% | val 97.4% (loss 0.593) | lr 1.90e-05\n"
          ]
        },
        {
          "output_type": "display_data",
          "data": {
            "text/plain": [
              "Epoch 90:   0%|          | 0/1326 [00:00<?, ?it/s]"
            ],
            "application/vnd.jupyter.widget-view+json": {
              "version_major": 2,
              "version_minor": 0,
              "model_id": "609664c9c86945c8805673bf2be2a032"
            }
          },
          "metadata": {}
        },
        {
          "output_type": "stream",
          "name": "stdout",
          "text": [
            "Epoch 90 \u279c train 98.8% | val 97.4% (loss 0.592) | lr 1.58e-05\n"
          ]
        },
        {
          "output_type": "display_data",
          "data": {
            "text/plain": [
              "Epoch 91:   0%|          | 0/1326 [00:00<?, ?it/s]"
            ],
            "application/vnd.jupyter.widget-view+json": {
              "version_major": 2,
              "version_minor": 0,
              "model_id": "e9ab37ed44454a3e85d82a951ab5c720"
            }
          },
          "metadata": {}
        },
        {
          "output_type": "stream",
          "name": "stdout",
          "text": [
            "Epoch 91 \u279c train 98.9% | val 97.4% (loss 0.594) | lr 1.28e-05\n"
          ]
        },
        {
          "output_type": "display_data",
          "data": {
            "text/plain": [
              "Epoch 92:   0%|          | 0/1326 [00:00<?, ?it/s]"
            ],
            "application/vnd.jupyter.widget-view+json": {
              "version_major": 2,
              "version_minor": 0,
              "model_id": "b46c9da764884295b2eee05b4798e0cf"
            }
          },
          "metadata": {}
        },
        {
          "output_type": "stream",
          "name": "stdout",
          "text": [
            "Epoch 92 \u279c train 98.8% | val 97.4% (loss 0.593) | lr 1.01e-05\n"
          ]
        },
        {
          "output_type": "display_data",
          "data": {
            "text/plain": [
              "Epoch 93:   0%|          | 0/1326 [00:00<?, ?it/s]"
            ],
            "application/vnd.jupyter.widget-view+json": {
              "version_major": 2,
              "version_minor": 0,
              "model_id": "c4379589aac64d26b169ff8c1a84b0bc"
            }
          },
          "metadata": {}
        },
        {
          "output_type": "stream",
          "name": "stdout",
          "text": [
            "Epoch 93 \u279c train 98.8% | val 97.4% (loss 0.592) | lr 7.77e-06\n"
          ]
        },
        {
          "output_type": "display_data",
          "data": {
            "text/plain": [
              "Epoch 94:   0%|          | 0/1326 [00:00<?, ?it/s]"
            ],
            "application/vnd.jupyter.widget-view+json": {
              "version_major": 2,
              "version_minor": 0,
              "model_id": "b54394823a9b4ef993ec288e54e4fb46"
            }
          },
          "metadata": {}
        },
        {
          "output_type": "stream",
          "name": "stdout",
          "text": [
            "Epoch 94 \u279c train 98.8% | val 97.4% (loss 0.593) | lr 5.71e-06\n"
          ]
        },
        {
          "output_type": "display_data",
          "data": {
            "text/plain": [
              "Epoch 95:   0%|          | 0/1326 [00:00<?, ?it/s]"
            ],
            "application/vnd.jupyter.widget-view+json": {
              "version_major": 2,
              "version_minor": 0,
              "model_id": "48fd43a8e1844f05ace6251b1f233cdf"
            }
          },
          "metadata": {}
        },
        {
          "output_type": "stream",
          "name": "stdout",
          "text": [
            "Epoch 95 \u279c train 98.9% | val 97.4% (loss 0.592) | lr 3.97e-06\n"
          ]
        },
        {
          "output_type": "display_data",
          "data": {
            "text/plain": [
              "Epoch 96:   0%|          | 0/1326 [00:00<?, ?it/s]"
            ],
            "application/vnd.jupyter.widget-view+json": {
              "version_major": 2,
              "version_minor": 0,
              "model_id": "95ddcb0a2fec403fa230714cdb9cea7d"
            }
          },
          "metadata": {}
        },
        {
          "output_type": "stream",
          "name": "stdout",
          "text": [
            "Epoch 96 \u279c train 98.9% | val 97.5% (loss 0.592) | lr 2.54e-06\n"
          ]
        },
        {
          "output_type": "display_data",
          "data": {
            "text/plain": [
              "Epoch 97:   0%|          | 0/1326 [00:00<?, ?it/s]"
            ],
            "application/vnd.jupyter.widget-view+json": {
              "version_major": 2,
              "version_minor": 0,
              "model_id": "961919f235124df4847feafd7ea1ba7d"
            }
          },
          "metadata": {}
        },
        {
          "output_type": "stream",
          "name": "stdout",
          "text": [
            "Epoch 97 \u279c train 98.8% | val 97.4% (loss 0.592) | lr 2.50e-06\n"
          ]
        },
        {
          "output_type": "display_data",
          "data": {
            "text/plain": [
              "Epoch 98:   0%|          | 0/1326 [00:00<?, ?it/s]"
            ],
            "application/vnd.jupyter.widget-view+json": {
              "version_major": 2,
              "version_minor": 0,
              "model_id": "f2c764ca74a14077b29e376d1c517e6c"
            }
          },
          "metadata": {}
        },
        {
          "output_type": "stream",
          "name": "stdout",
          "text": [
            "Epoch 98 \u279c train 98.9% | val 97.4% (loss 0.592) | lr 2.50e-06\n"
          ]
        },
        {
          "output_type": "display_data",
          "data": {
            "text/plain": [
              "Epoch 99:   0%|          | 0/1326 [00:00<?, ?it/s]"
            ],
            "application/vnd.jupyter.widget-view+json": {
              "version_major": 2,
              "version_minor": 0,
              "model_id": "296251edf9834b6c99a2e09cc8daa81a"
            }
          },
          "metadata": {}
        },
        {
          "output_type": "stream",
          "name": "stdout",
          "text": [
            "Epoch 99 \u279c train 98.8% | val 97.4% (loss 0.592) | lr 2.50e-06\n"
          ]
        },
        {
          "output_type": "display_data",
          "data": {
            "text/plain": [
              "Epoch 100:   0%|          | 0/1326 [00:00<?, ?it/s]"
            ],
            "application/vnd.jupyter.widget-view+json": {
              "version_major": 2,
              "version_minor": 0,
              "model_id": "9382d2e1415f4136ab984a72c7da7a11"
            }
          },
          "metadata": {}
        },
        {
          "output_type": "stream",
          "name": "stdout",
          "text": [
            "Epoch 100 \u279c train 98.8% | val 97.4% (loss 0.592) | lr 2.50e-06\n"
          ]
        }
      ]
    },
    {
      "cell_type": "code",
      "source": [
        "# --- Save LAST params locally + Drive ---\n",
        "torch.save(model.state_dict(), \"/content/last_kws_mamba_noAux.pt\")\n",
        "\n",
        "CKPT_DIR = \"/content/drive/MyDrive/kws_models_noAux_128_10\"\n",
        "os.makedirs(CKPT_DIR, exist_ok=True)\n",
        "torch.save(model.state_dict(), f\"{CKPT_DIR}/last_kws_mamba_noAux.pt\")\n",
        "print(\"Saved LAST model to Drive\")\n",
        "\n",
        "# --- Copy BEST (by val_acc) to Drive if it exists ---\n",
        "best_local = \"/content/best_kws.pt\"\n",
        "if os.path.exists(best_local):\n",
        "    import shutil\n",
        "    dst = f\"{CKPT_DIR}/best_kws.pt\"\n",
        "    shutil.copy2(best_local, dst)          # copies the already-saved BEST\n",
        "    print(f\"Copied BEST model (val_acc={best_val_acc:.2f}%) to Drive: {dst}\")\n",
        "else:\n",
        "    print(\"WARNING: no best checkpoint was found to copy.\")"
      ],
      "metadata": {
        "id": "FsvQTPuH9gQM",
        "colab": {
          "base_uri": "https://localhost:8080/"
        },
        "outputId": "47ee8a65-f541-45a6-f34e-4947e08f3e4b"
      },
      "execution_count": null,
      "outputs": [
        {
          "output_type": "stream",
          "name": "stdout",
          "text": [
            "Saved LAST model to Drive\n",
            "Copied BEST model (val_acc=97.59%) to Drive: /content/drive/MyDrive/kws_models_noAux_192_12/best_kws.pt\n"
          ]
        }
      ]
    }
  ]
}