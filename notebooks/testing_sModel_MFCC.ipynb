{
  "cells": [
    {
      "cell_type": "code",
      "execution_count": null,
      "metadata": {
        "colab": {
          "base_uri": "https://localhost:8080/"
        },
        "collapsed": true,
        "id": "El4Y4HcjYsEi",
        "outputId": "92212f18-b144-46e8-f437-ef4580213e68"
      },
      "outputs": [],
      "source": [
        "# --- Environment & installs ---\n",
        "!pip install datasets==2.16.0\n",
        "!pip install huggingface-hub==0.20.0\n",
        "!apt-get install -y libsox-dev\n",
        "!pip install torch==2.4.0 torchvision==0.19.0 torchaudio==2.4.0 --index-url https://download.pytorch.org/whl/cu121\n",
        "!pip install causal-conv1d==1.4.0 mamba-ssm==2.2.2 scikit-learn tensorboard"
      ]
    },
    {
      "cell_type": "code",
      "execution_count": null,
      "metadata": {
        "colab": {
          "base_uri": "https://localhost:8080/"
        },
        "collapsed": true,
        "id": "2e2XEsxrbNBl",
        "outputId": "423731a9-c973-4058-924a-c51874d0fa02"
      },
      "outputs": [
        {
          "name": "stdout",
          "output_type": "stream",
          "text": [
            "Mounted at /content/drive\n"
          ]
        }
      ],
      "source": [
        "# =========================================================\n",
        "# Keyword-Spotting (Google Speech Commands v0.02) with Mamba\n",
        "# Front-end: MFCC (F=40) -> Linear(40 -> d_model) -> Mamba * L -> Classifier\n",
        "# =========================================================\n",
        "\n",
        "from __future__ import annotations\n",
        "import json, os, random, math, time\n",
        "from pathlib import Path\n",
        "from typing import Tuple, Dict, List\n",
        "\n",
        "import torch, torchaudio\n",
        "import torch.nn as nn\n",
        "import torch.nn.functional as F\n",
        "import torchaudio.transforms as T\n",
        "from torch.utils.data import Dataset, DataLoader\n",
        "from torch.utils.tensorboard import SummaryWriter\n",
        "\n",
        "from datasets import load_dataset\n",
        "from tqdm.notebook import tqdm\n",
        "from sklearn.metrics import f1_score\n",
        "\n",
        "from mamba_ssm import Mamba\n",
        "\n",
        "# ---------------------------------------------------------\n",
        "# 0) Repro & device\n",
        "# ---------------------------------------------------------\n",
        "def set_seed(seed: int = 42):\n",
        "    random.seed(seed)\n",
        "    torch.manual_seed(seed)\n",
        "    torch.cuda.manual_seed_all(seed)\n",
        "    torch.backends.cudnn.deterministic = False\n",
        "    torch.backends.cudnn.benchmark = True\n",
        "\n",
        "device = torch.device(\"cuda\" if torch.cuda.is_available() else \"cpu\")\n",
        "use_amp = (device.type == \"cuda\")\n",
        "set_seed(42)\n",
        "\n",
        "from google.colab import drive\n",
        "drive.mount('/content/drive')"
      ]
    },
    {
      "cell_type": "code",
      "execution_count": null,
      "metadata": {
        "id": "qZPmhsTvbPSR"
      },
      "outputs": [],
      "source": [
        "# ---------------------------------------------------------\n",
        "# 1) Waveform-level augmentation (shift + noise)\n",
        "# ---------------------------------------------------------\n",
        "class Augment:\n",
        "    def __init__(self,\n",
        "                 stretch: Tuple[float,float]=(1.0,1.0),\n",
        "                 shift_ms: int = 100,\n",
        "                 noise: Tuple[float,float]=(0.,0.05),\n",
        "                 sr: int = 16_000):\n",
        "        self.stretch = stretch\n",
        "        self.shift   = int(shift_ms * sr / 1000)\n",
        "        self.noise   = noise\n",
        "        self.sr      = sr\n",
        "\n",
        "    def _shift(self, x: torch.Tensor):\n",
        "        if self.shift == 0:\n",
        "            return x\n",
        "        s = int(torch.randint(-self.shift, self.shift + 1, ()).item())\n",
        "        if s == 0:\n",
        "            return x\n",
        "        return (F.pad(x, (s, 0))[:, :-s] if s > 0 else F.pad(x, (0, -s))[:, -s:])\n",
        "\n",
        "    def __call__(self, wav: torch.Tensor):\n",
        "        squeezed = False\n",
        "        if wav.dim() == 1:\n",
        "            wav = wav.unsqueeze(0)\n",
        "            squeezed = True\n",
        "        if self.stretch != (1.0, 1.0):\n",
        "            factor = float(torch.empty(()).uniform_(*self.stretch))\n",
        "            if abs(factor - 1.0) > 1e-3:\n",
        "                wav, _ = torchaudio.sox_effects.apply_effects_tensor(\n",
        "                    wav, self.sr, [[\"tempo\", f\"{factor}\"]]\n",
        "                )\n",
        "        wav = self._shift(wav)\n",
        "        if self.noise[1] > 0:\n",
        "            sigma = float(torch.empty(()).uniform_(*self.noise))\n",
        "            if sigma > 0:\n",
        "                wav = wav + sigma * torch.randn_like(wav)\n",
        "        return wav.squeeze(0) if squeezed else wav\n",
        "\n",
        "# ---------------------------------------------------------\n",
        "# 2) Front-end: MFCC or Mel with SpecAug AFTER log (if mel)\n",
        "#    For MFCC we mask on the MFCCs (computed from log-mel internally).\n",
        "# ---------------------------------------------------------\n",
        "class WaveToSpec:\n",
        "    def __init__(self,\n",
        "                 feature_type: str = \"mfcc\",     # \"mfcc\" or \"mel\"\n",
        "                 sample_rate: int = 16_000,\n",
        "                 n_fft: int = 2048,\n",
        "                 hop_length: int = 256,\n",
        "                 n_mels: int = 128,\n",
        "                 n_mfcc: int = 40,\n",
        "                 top_db: int | None = 80,\n",
        "                 apply_mask: bool = True,\n",
        "                 freq_mask_param: int = 3,\n",
        "                 time_mask_param: int = 12):\n",
        "        self.feature_type = feature_type.lower(); assert self.feature_type in {\"mel\",\"mfcc\"}\n",
        "        self.apply_mask = apply_mask\n",
        "\n",
        "        if self.feature_type == \"mel\":\n",
        "            self.spec = T.MelSpectrogram(sample_rate, n_fft=n_fft, hop_length=hop_length,\n",
        "                                         n_mels=n_mels, power=2.0)\n",
        "            self.to_db = T.AmplitudeToDB(stype=\"power\", top_db=top_db)\n",
        "            self.freq_mask = T.FrequencyMasking(freq_mask_param) if apply_mask else None\n",
        "            self.time_mask = T.TimeMasking(time_mask_param) if apply_mask else None\n",
        "            self.n_out = n_mels\n",
        "        else:\n",
        "            self.spec = T.MFCC(sample_rate, n_mfcc=n_mfcc,\n",
        "                                melkwargs=dict(n_fft=n_fft, hop_length=hop_length, n_mels=n_mels))\n",
        "            # MFCC branch does not use AmplitudeToDB directly; MFCC uses log-mel inside.\n",
        "            self.to_db = None\n",
        "            self.freq_mask = T.FrequencyMasking(freq_mask_param) if apply_mask else None\n",
        "            self.time_mask = T.TimeMasking(time_mask_param) if apply_mask else None\n",
        "            self.n_out = n_mfcc\n",
        "\n",
        "    def __call__(self, wav: torch.Tensor) -> torch.Tensor:\n",
        "        if wav.dim() == 1:\n",
        "            wav = wav.unsqueeze(0)            # [1, T]\n",
        "        feats = self.spec(wav)                # mel: [1, M, T], mfcc: [1, C, T]\n",
        "\n",
        "        if self.feature_type == \"mel\":\n",
        "            feats = self.to_db(feats.clamp(min=1e-10))  # --- LOG ---\n",
        "            if self.apply_mask:\n",
        "                feats = self.freq_mask(feats)\n",
        "                feats = self.time_mask(feats)\n",
        "        else:\n",
        "            # MFCC path: apply masks on MFCCs (post log-mel inside MFCC)\n",
        "            if self.apply_mask:\n",
        "                feats = self.freq_mask(feats)\n",
        "                feats = self.freq_mask(feats)\n",
        "                feats = self.time_mask(feats)\n",
        "                feats = self.time_mask(feats)\n",
        "\n",
        "        return feats                           # [1, F, T]"
      ]
    },
    {
      "cell_type": "code",
      "execution_count": null,
      "metadata": {
        "id": "Ow_00c2lbQku"
      },
      "outputs": [],
      "source": [
        "# ---------------------------------------------------------\n",
        "# 3) Dataset wrapper with dataset-level normalization\n",
        "# ---------------------------------------------------------\n",
        "class SpeechCommands(Dataset):\n",
        "    def __init__(self, hf_split, aug: Augment | None, frontend: WaveToSpec,\n",
        "                 wav_len: int = 16_000, mean: float = 0.0, std: float = 1.0):\n",
        "        self.ds, self.aug, self.front = hf_split, aug, frontend\n",
        "        self.wav_len = wav_len\n",
        "        self.mean = mean\n",
        "        self.std = std\n",
        "\n",
        "    def __len__(self):\n",
        "        return len(self.ds)\n",
        "\n",
        "    def __getitem__(self, idx):\n",
        "        sample = self.ds[idx]\n",
        "        wav = torch.from_numpy(sample[\"audio\"][\"array\"]).float()\n",
        "\n",
        "        if wav.numel() < self.wav_len:\n",
        "            wav = F.pad(wav, (0, self.wav_len - wav.numel()))\n",
        "        else:\n",
        "            wav = wav[: self.wav_len]\n",
        "\n",
        "        if self.aug:\n",
        "            wav = self.aug(wav)\n",
        "\n",
        "        feats = self.front(wav)                              # [1, F, T]\n",
        "        feats = (feats - self.mean) / (self.std + 1e-6)      # normalize\n",
        "        feats = feats.squeeze(0).transpose(0, 1)             # [T, F]\n",
        "        return feats, sample[\"label\"]"
      ]
    },
    {
      "cell_type": "code",
      "execution_count": null,
      "metadata": {
        "id": "ls4e9ERObSRx"
      },
      "outputs": [],
      "source": [
        "# ---------------------------------------------------------\n",
        "# 4) Helper functions + stats\n",
        "# ---------------------------------------------------------\n",
        "from torch.nn.utils.rnn import pad_sequence\n",
        "\n",
        "def collate_fn(batch):\n",
        "    feats, lbls = zip(*batch)\n",
        "    lens = torch.tensor([f.size(0) for f in feats], dtype=torch.long)\n",
        "    feats_padded = pad_sequence(feats, batch_first=True, padding_value=0.0)  # [B, T_max, F]\n",
        "    return feats_padded, torch.tensor(lbls), lens\n",
        "\n",
        "@torch.no_grad()\n",
        "def compute_dataset_stats(ds, frontend, wav_len=16_000):\n",
        "    feats_all = []\n",
        "    for sample in ds:\n",
        "        wav = torch.from_numpy(sample[\"audio\"][\"array\"]).float()\n",
        "        if wav.numel() < wav_len:\n",
        "            wav = F.pad(wav, (0, wav_len - wav.numel()))\n",
        "        else:\n",
        "            wav = wav[: wav_len]\n",
        "        feats = frontend(wav).squeeze(0).transpose(0, 1)  # [T, F]\n",
        "        feats_all.append(feats)\n",
        "    feats_all = torch.cat(feats_all, dim=0)\n",
        "    return feats_all.mean().item(), feats_all.std().item()"
      ]
    },
    {
      "cell_type": "code",
      "execution_count": null,
      "metadata": {
        "id": "9fcCqDeXbThA"
      },
      "outputs": [],
      "source": [
        "# ---------------------------------------------------------\n",
        "# 5) Model: Linear(40->d_model) + Mamba\u00d7L + classifier\n",
        "# ---------------------------------------------------------\n",
        "class MambaKWS(nn.Module):\n",
        "    def __init__(self, num_classes: int,\n",
        "                 d_model=256, d_state=16, expand=2, n_layers=8, feature_dim=40, p_drop=0.1):\n",
        "        super().__init__()\n",
        "        self.proj = nn.Sequential(\n",
        "            nn.Linear(feature_dim, d_model),\n",
        "            nn.LayerNorm(d_model),\n",
        "            nn.SiLU(),\n",
        "            nn.Dropout(p_drop)\n",
        "        )\n",
        "        self.blocks = nn.ModuleList([\n",
        "            nn.ModuleDict({\n",
        "                \"norm\": nn.LayerNorm(d_model),\n",
        "                \"mamba\": Mamba(d_model=d_model, d_state=d_state, expand=expand),\n",
        "                \"dropout\": nn.Dropout(max(0.02, 0.05 - (i * 0.005)))\n",
        "            }) for i in range(n_layers)\n",
        "        ])\n",
        "        self.pre_classifier_norm = nn.LayerNorm(d_model)\n",
        "        self.classifier = nn.Sequential(\n",
        "            nn.Dropout(0.1),\n",
        "            nn.Linear(d_model, d_model // 2),\n",
        "            nn.SiLU(),\n",
        "            nn.Dropout(0.05),\n",
        "            nn.Linear(d_model // 2, num_classes)\n",
        "        )\n",
        "\n",
        "    def forward(self, x, lengths: torch.Tensor | None = None):  # x: [B, T, F]\n",
        "        x = self.proj(x)                                        # [B, T, d_model]\n",
        "        for blk in self.blocks:\n",
        "            residual = x\n",
        "            x = blk[\"norm\"](x)\n",
        "            x = blk[\"mamba\"](x)\n",
        "            x = blk[\"dropout\"](x)\n",
        "            x = residual + x\n",
        "\n",
        "        x = self.pre_classifier_norm(x)\n",
        "\n",
        "        # Mask-aware mean pooling over time (no time downsampling here)\n",
        "        if lengths is not None:\n",
        "            Tprime = x.size(1)\n",
        "            mask = (torch.arange(Tprime, device=x.device)[None, :] < lengths[:, None]).float()  # [B, T]\n",
        "            x_sum = (x * mask.unsqueeze(-1)).sum(dim=1)                                          # [B, d_model]\n",
        "            denom = mask.sum(dim=1).clamp(min=1.0).unsqueeze(-1)                                 # [B, 1]\n",
        "            pooled = x_sum / denom\n",
        "        else:\n",
        "            pooled = x.mean(dim=1)\n",
        "\n",
        "        return self.classifier(pooled)                        # [B, C]\n",
        "\n",
        "# ---------------------------------------------------------\n",
        "# 6) Evaluation helpers (loss, acc, macro-F1)\n",
        "# ---------------------------------------------------------\n",
        "@torch.no_grad()\n",
        "def evaluate(model, loader, device, criterion):\n",
        "    model.eval()\n",
        "    tot = correct = loss_sum = 0\n",
        "    all_pred, all_true = [], []\n",
        "    for xb, yb, lb in loader:\n",
        "        xb, yb, lb = xb.to(device), yb.to(device), lb.to(device)\n",
        "        logits = model(xb, lengths=lb)\n",
        "        loss = criterion(logits, yb)\n",
        "        loss_sum += loss.item() * xb.size(0)\n",
        "        preds = logits.argmax(1)\n",
        "        correct += (preds == yb).sum().item()\n",
        "        tot += xb.size(0)\n",
        "        all_pred.append(preds.detach().cpu())\n",
        "        all_true.append(yb.detach().cpu())\n",
        "    all_pred = torch.cat(all_pred).numpy()\n",
        "    all_true = torch.cat(all_true).numpy()\n",
        "    macro_f1 = f1_score(all_true, all_pred, average='macro')\n",
        "    return loss_sum / tot, 100 * correct / tot, macro_f1"
      ]
    },
    {
      "cell_type": "code",
      "execution_count": null,
      "metadata": {
        "id": "Pl8YImMXbUkg"
      },
      "outputs": [],
      "source": [
        "# ---------------------------------------------------------\n",
        "# 7) Warmup + Cosine scheduler factory (per-batch)\n",
        "# ---------------------------------------------------------\n",
        "def make_warmup_cosine(total_steps: int, warmup_steps: int):\n",
        "    def lr_lambda(step):\n",
        "        if step < warmup_steps:\n",
        "            return float(step) / float(max(1, warmup_steps))\n",
        "        progress = float(step - warmup_steps) / float(max(1, total_steps - warmup_steps))\n",
        "        return max(0.003, 0.5 * (1.0 + math.cos(math.pi * progress)))\n",
        "    return lr_lambda"
      ]
    },
    {
      "cell_type": "code",
      "execution_count": null,
      "metadata": {
        "id": "4AKB7EtibViJ"
      },
      "outputs": [],
      "source": [
        "# ---------------------------------------------------------\n",
        "# 8) Main training loop over the config grid + TensorBoard\n",
        "# ---------------------------------------------------------\n",
        "def run_experiment(cfg: Dict, ds_splits, global_outdir=\"checkpoints\"):\n",
        "    d_model   = cfg[\"d_model\"]\n",
        "    n_layers  = cfg[\"n_layers\"]\n",
        "    epochs    = cfg[\"epochs\"]\n",
        "    base_lr   = cfg.get(\"base_lr\", 5e-4)\n",
        "    weight_decay = cfg.get(\"weight_decay\", 1.8e-4)\n",
        "    label_smoothing = cfg.get(\"label_smoothing\", 0.07)\n",
        "    d_state   = cfg.get(\"d_state\", 16)\n",
        "    expand    = cfg.get(\"expand\", 2)\n",
        "\n",
        "    # Unpack datasets/loaders prepared outside\n",
        "    train_dl, train_eval_dl, val_dl, n_classes = ds_splits\n",
        "\n",
        "    # Model / optim / sched\n",
        "    model = MambaKWS(n_classes, d_model=d_model, d_state=d_state, expand=expand, n_layers=n_layers).to(device)\n",
        "    criterion = nn.CrossEntropyLoss(label_smoothing=label_smoothing)\n",
        "    opt = torch.optim.AdamW(model.parameters(), lr=base_lr, weight_decay=weight_decay, betas=(0.9, 0.999))\n",
        "\n",
        "    steps_per_epoch = len(train_dl)\n",
        "    total_steps   = steps_per_epoch * epochs\n",
        "    warmup_steps  = int(0.1 * total_steps)  # 10% warmup\n",
        "    sched = torch.optim.lr_scheduler.LambdaLR(opt, make_warmup_cosine(total_steps, warmup_steps))\n",
        "\n",
        "    # TensorBoard writer\n",
        "    run_name = f\"d{d_model}_L{n_layers}\"\n",
        "    writer = SummaryWriter(log_dir=f\"runs/mamba_kws/{run_name}\")\n",
        "    writer.add_text(\"hparams\", json.dumps(cfg, indent=2))\n",
        "\n",
        "    scaler = torch.cuda.amp.GradScaler(enabled=use_amp)\n",
        "    best_val_acc, best_path = 0.0, Path(f\"{global_outdir}/{run_name}_best.pt\")\n",
        "    best_path.parent.mkdir(parents=True, exist_ok=True)\n",
        "\n",
        "    global_step = 0\n",
        "    for epoch in range(1, epochs + 1):\n",
        "        model.train()\n",
        "        running_loss = correct = total = 0.0\n",
        "        pbar = tqdm(train_dl, desc=f\"[{run_name}] Epoch {epoch:02d}\")\n",
        "\n",
        "        for xb, yb, lb in pbar:\n",
        "            xb = xb.to(device, non_blocking=True)\n",
        "            yb = yb.to(device, non_blocking=True)\n",
        "            lb = lb.to(device, non_blocking=True)\n",
        "\n",
        "            with torch.amp.autocast(device_type=device.type,\n",
        "                                    dtype=torch.bfloat16 if (use_amp and torch.cuda.is_bf16_supported()) else torch.float16,\n",
        "                                    enabled=use_amp):\n",
        "                if torch.isnan(xb).any():\n",
        "                    xb = torch.nan_to_num(xb, nan=0.0)\n",
        "                logits = model(xb, lengths=lb)\n",
        "                loss = criterion(logits, yb)\n",
        "\n",
        "            opt.zero_grad(set_to_none=True)\n",
        "            scaler.scale(loss).backward()\n",
        "            scaler.unscale_(opt)\n",
        "            torch.nn.utils.clip_grad_norm_(model.parameters(), max_norm=0.8)\n",
        "            scaler.step(opt)\n",
        "            scaler.update()\n",
        "            sched.step()\n",
        "            global_step += 1\n",
        "\n",
        "            with torch.no_grad():\n",
        "                pred = logits.argmax(1)\n",
        "                correct += (pred == yb).sum().item()\n",
        "                total += yb.size(0)\n",
        "                running_loss += loss.item() * yb.size(0)\n",
        "\n",
        "            pbar.set_postfix(train_loss=f\"{running_loss/max(1,total):.3f}\",\n",
        "                             train_acc=f\"{100*correct/max(1,total):.1f}%\",\n",
        "                             lr=f\"{opt.param_groups[0]['lr']:.2e}\")\n",
        "\n",
        "        tr_loss, tr_acc, tr_f1 = evaluate(model, train_eval_dl, device, criterion)\n",
        "        val_loss, val_acc, val_f1 = evaluate(model, val_dl, device, criterion)\n",
        "\n",
        "        writer.add_scalar(\"train/loss\", tr_loss, epoch)\n",
        "        writer.add_scalar(\"train/acc\",  tr_acc,  epoch)\n",
        "        writer.add_scalar(\"train/macro_f1\", tr_f1, epoch)\n",
        "        writer.add_scalar(\"val/loss\",   val_loss, epoch)\n",
        "        writer.add_scalar(\"val/acc\",    val_acc,  epoch)\n",
        "        writer.add_scalar(\"val/macro_f1\", val_f1, epoch)\n",
        "        writer.add_scalar(\"lr\", opt.param_groups[0]['lr'], epoch)\n",
        "\n",
        "        print(f\"[{run_name}] Epoch {epoch:02d} \u2014 \"\n",
        "              f\"Train {tr_acc:.2f}% (loss {tr_loss:.3f}, F1 {tr_f1:.4f}) | \"\n",
        "              f\"Val {val_acc:.2f}% (loss {val_loss:.3f}, F1 {val_f1:.4f})\")\n",
        "\n",
        "        # Save best-by-val-acc\n",
        "        if val_acc > best_val_acc:\n",
        "            best_val_acc = val_acc\n",
        "            torch.save(model.state_dict(), best_path)\n",
        "            print(f\"[{run_name}] ** Saved new BEST ** (val_acc={best_val_acc:.2f}%) \u2192 {best_path}\")\n",
        "\n",
        "    # Save last\n",
        "    last_path = Path(f\"{global_outdir}/{run_name}_last.pt\")\n",
        "    torch.save(model.state_dict(), last_path)\n",
        "    writer.add_text(\"checkpoints\", f\"best={str(best_path)} | last={str(last_path)}\")\n",
        "    writer.close()\n",
        "\n",
        "    return {\"run\": run_name, \"best_val_acc\": best_val_acc,\n",
        "            \"best_ckpt\": str(best_path), \"last_ckpt\": str(last_path)}"
      ]
    },
    {
      "cell_type": "code",
      "execution_count": null,
      "metadata": {
        "colab": {
          "base_uri": "https://localhost:8080/",
          "height": 1000,
          "referenced_widgets": [
            "be725e3c97bf40c1962632f4adf8869d",
            "518be57fad004d999e8be6818d9d468a",
            "22acc74238974a298ebb95a4fa573396",
            "1d1f5ef2ab124947a9bbb085dea670eb",
            "72f1d6b811034d75902c58481508cdbf",
            "840b9aa064574ce4bee3beff29f63e3f",
            "46129bb7be784d86b9385eb7f3ff597c",
            "a617faeaeb724127a7d3db7cd65c9372",
            "53b6289a9c6747298668fb87313692c3",
            "aacdaf2cc41a41e1a12a5c35371352be",
            "557b77cbc1e44530aee0528cf76e03f2",
            "aa673695fb974d26a43a4ae10fc9c66f",
            "1584f668fba84dc19a4c6f0ab2fc6dd0",
            "e31a3b831bb54d8ba3cc4461311d80ab",
            "582d17f7e49c4f02b4b8884160317ff7",
            "e33d03717a7a438ca63116e43d171dae",
            "f0631b5617d34a8caf3d2160514f62d8",
            "cf224fb459234722bdca385fd35078f7",
            "7d3bb95bbe0345d0b73af13c71980255",
            "5979548194434adfb524ab2ef386b21e",
            "8bdbc872d8a34a1ca2efa851a9df86a4",
            "55ca2f1c204f404aaccb7ecb5075b935",
            "d9233dae397348d890e84c6ef03065ef",
            "84d178d1691e49f988c8bedeb359d2d0",
            "938090f21e5742e895d4d1e0c8c89b97",
            "ef2712baea334edea0abb6faff33fe60",
            "cdfc3e86958f4b05899aae03721a980d",
            "95eb521854044ef49c6564d756becf04",
            "03576ec687fe43c8ac1065a841325680",
            "e696ce7673164b2aa98ebb767fa1d678",
            "03f6c8a7d215470cbeb4fc325c504b96",
            "ab6240b5d6e5401eb61b3f86a8195d5e",
            "2949ab9efdc14fe48218121f385d6a0f",
            "f549cf8c751c4d1a9931c56eef0d8793",
            "77932eb4ab2f4e389e1703f2c37759de",
            "5f06563f92e24a74857c1b9dba62142c",
            "e2164ee99e1d4172b151f68e0f7a7398",
            "0eef2110d395479bb65458b1330aeb80",
            "c4b26682087340dda220c06fac203dd1",
            "53c35b0ed665459f88847b94802e490b",
            "19b8b3e8ab6b42e7824191ef3436ebf2",
            "68a39c1443bc47368162dd214e972ac5",
            "3e5ff505e635469787ed0167e50c64e8",
            "2f2ca6cae0ce4e8d916014576343bfef",
            "2e3c62e456be4299bbd794f33e5917a1",
            "1599f1ba1b484416897ca7e8a48a7391",
            "d92722ff40834c8cbe6fdc0fbd43d0bb",
            "b34403da92804c4996fcca7b9b8f7860",
            "b7a30fd022d44eb19d3d84da70a53271",
            "ac5274e64e624bf9ad2ea8d69120466a",
            "c86827665dbd41dd928b6e5297db56e1",
            "8062413ce54c4c08850c3763b35973f1",
            "4618218c05e943d5981dd347c7b1491d",
            "b7edaa66466f4fa29a75b97f080e8521",
            "a5a4830d6b5e4b1da50656a3a831d04b",
            "df8aa008e93243eb82492b68c4b7e6aa",
            "c6b3736de5144bbb8d90cc4f56ab47b5",
            "5fc08ebb26874110ab49064e3643b87c",
            "d35b4bf9cae54d059ab087981168595c",
            "f0524873c9b74cb6bc559601e6b54a69",
            "cd2844965c6f45c29f060e1df2f21809",
            "60ce7e0a185e49e2ac285acc38a4ea13",
            "612dc01b3fd447568329a55a22af4994",
            "12ca39ba058a4f0cb8333d06981ec093",
            "0b586ae2c23d4488b26d419ad63e9f91",
            "5d680f8390c94481b388f3c877dfa778",
            "ae0b5988cc1f4a6fb69ad5da6c5edb66",
            "ba555809e4b54d27b2b8b03e47a11e85",
            "5ead3b6e597f4ac994dbd1e2b195d4ff",
            "703668df8a554c859c5bcc57d16d127e",
            "3d36acf7164848a6b594d2b35a4f3338",
            "63c5543342004567b01af82a0151365b",
            "13bfe1067f824a7091a7b076b20ed284",
            "ed74eaba315e425a96ae37b7126c4fd4",
            "f473ec69d866469489f1c31b59422d7a",
            "cdadcb47addc4010b9113b6ac4d4bba7",
            "96123b21559b4afbaa6e3ab4c3e6f4c7",
            "584fc7420ecc4ee2a09882498935b86a",
            "8fa0bbf079584156afa97cadd082fb61",
            "30d5014b6f6a4f31abdc89577f01f481",
            "886702a4ea554b0cad6351f50fb82795",
            "8182d7db5d804679b3193ee530fad784",
            "aa33a291da6949379670d7c931c31433",
            "e6736e7b7f7d446f971712991a49bd5c",
            "5932cf2a429042a1a19e37b0fdbd0ffa",
            "a34b8847fd42439aaedf5a7e4914a226",
            "f33898a64918451baa162c7f22a19440",
            "8fba1c3b83d74f4f9ae2bc54471c4350",
            "b29a1233dc174e4e93cd0efd55fc5109",
            "bd1efa8d4b084a36acb44e92fdf5bf25",
            "02321dca460b4a388c09542b803f2a4f",
            "9df409c9b5914ad49245b1eae11064cb",
            "fc2fad8ceb974eb799a1ae07d15f9ec5",
            "997a5f4c0feb4e2095b63f598f657c47",
            "01fdb306a7a14d5bad1b73e3dfd840b0",
            "e4908dd45d05423ea66c35f11c471d43",
            "7410a044e81b4c4488df5d31f3d55517",
            "803940d593e44540a4e130ddd91c6d94",
            "2d44438c7756463caa0f1a05ca052f47",
            "0930a89a07654ad8aedf3775a187cbd8",
            "13729112f4604ae99054039d3a5e0ffd",
            "efe8b4689aec4927b8c5877453017975",
            "f4da4813fa254d4998589e47b3ec6a32",
            "73f27a656f0c4292a4f0d8bd86641779",
            "b02c6638f8ac4e6797669ebc0f93195b",
            "0879603db8024b8a9889a341aed63a23",
            "2fbdafcceb214c439bd9f3b445840bcc",
            "5094779124994fd5bc27b2cfae3a85e3",
            "7a5e1773d94a43c7ac0a325a29f1eece",
            "25b85083e4ab4d0c9a4af04399044044",
            "149149666fc4433f9c0238a26dc57684",
            "5fe375499e5747f399fdb8516e0cfafa",
            "dddfcbb1a7a7435a94403e8d93bc1222",
            "99f32e8197484ac5bd028dd74d8691f0",
            "f0e86d9e3a894170b9e5b560bdd57b33",
            "d201a3476e6242df893378eef6c8fdbc",
            "ddf7b595bf61437b8fc437604380ea77",
            "c9b0869d29d546f6ab552c9339b6b900",
            "4e69b062ab744ff68ac068dbf9cecfc4",
            "029187264b9b422a96458a3ea962e30c",
            "dcc2421ccf994d69b941b3988a8c7ac3",
            "112cb11ad9564bef8ef049d94632e794",
            "0aa7f5094a184880b9360f767ffd4270",
            "01a6f1b067e74a818fddee11a50341cd",
            "13a27af981674c0c98e8a8a3470fad0b",
            "ce157152391840d491acd5632574e8cb",
            "58dd78456e744ef890e46190f1e587be",
            "6eff0b6619844c87a010f8af6d97ed46",
            "52b92d9df44045839302210ccca0a03a",
            "880c8044d38540b1b4599151647c431d",
            "280cbd9b07524ec28c382694e507e7fe",
            "098df63ce3db4e69b03a3708cfde8add",
            "49525ad94e0648668d1b300fc57d5379",
            "2555aee19ed7420aa590d777ddb4e58c",
            "a95b3b5d4e8c49e18f40943e8ad32ed6",
            "c5d5603992b847b1bf38082a3b803b1f",
            "41fb90bf11594e16a8d255d78b5fc056",
            "e2b7eade2f2f4fb38d2fd2b720c36d95",
            "9f77e50a2ad44d1e8bf389477ebd7fd8",
            "da437f52b08944658d3988de16e82200",
            "d423508d24494780bb2cccef923cf393",
            "303d55c1add7466aaf90cffb25e99097",
            "6b22a07dac7840de87fbaa9370806aef",
            "3ca060e384a44a3d8cc576478cf069f5",
            "3eb4abfcaf084ae885b7190531275b2b",
            "fb2371d39a674d54bfd4f55ec0458d79",
            "3c2ac8e313394176924d4ea511217bea",
            "2d7ea1a389d94256a5e1296c68ea5eb2",
            "0b69eb9efaac4acaa480485b31c88e54",
            "4f5c0a063a6543b1ab95698f33436436",
            "ead7ff8424ca43aa8af09e368a912f85",
            "565dad31423f4d29a4a1c9f1694c5aba",
            "3cf1840ae28c44f1b13c0232a705d605",
            "d65da1f94f3943d6b1af74041e37c553",
            "67c7dad290184332aeaf8485a44955c8",
            "f008c060058745c2b0dbdfc6f3a95656",
            "09e6d57df61e4dda9bbc5dae8766a561",
            "d7094f934f5c4cd589a0f8d30bb9dce3",
            "b92d477cb96c431fb331b748f8715123",
            "39d0c2b9df824cffb55edb79d9319583",
            "817ce96f5e644d1c8d09961ae364cf7f",
            "89dac8f19d29460f95c9f9a1d8d3c6d2",
            "af25fef2e88a4a7882b1961f28111068",
            "0530171b07644be582a2c5ff38d339d6",
            "ddb0e81cd0c442c3841b5f7ff31ed8fc",
            "759ced2fa2ea441f904bc4b179762d94",
            "3c5d9ea887214d4d926a1f4690df9a4e",
            "d9bb05900f0c45589fead181005fbf39",
            "3095f2ca493041069e131a01fa8c6714",
            "a251ca8ee8c348f098a90bde503c4748",
            "f3cf1ab3995b4a998733ab225a4d3761",
            "c4eab96208104e4e91446e5787385f55",
            "04c92436596b40d0bf214d28f718acbb",
            "7cc813bc1547436db7ff98beed1a2a62",
            "1f1bdb29b44a4ae4a462d1ae1e8d9c0b",
            "124f1677f7074baba9516112968078da",
            "52cf7d316dd8420ba6553659070640bd",
            "d52ba29bfc70405595804f733507bf89",
            "b206717d67ba4568960874c7fdd343f4",
            "392ed39ffd8e43a1b63805be99f3de2a",
            "dc301b3962254f8f8932093e1d25a687",
            "c822a0e053ab4b36b5aad3a2dc4b79f4",
            "488b23c011894d3589131e6258bb356b",
            "324ea5d6a35c45c0b61b07d21bb13d75",
            "11604ea4837b40dfa08fada3fb7ba710",
            "60127bd5e9fa43599a1deadf8350f4e6",
            "be17be49eb67469fb80c03db4e3459b5",
            "799346ae86a342f88c83639d9594b545",
            "442e8dcde0d5444ea444a095903085dd",
            "d154e62468e247909740392fb190cb42",
            "444ec4c5d653442bbc585f4489f153dd",
            "fd980194fa20446fa796c556456cba0d",
            "ba79c5f49dd94f1980dcad022e9b1cfd",
            "38badac5e64c44a99edc9872164ac2c6",
            "4ce9e75fb05043b3b60bb906a0b2167d",
            "d9399d59f4d344c8b68db31331bde12a",
            "0c21364b25dd460086f011e3325f405f",
            "4d7cd35005db4dcf81b6ef4eb81739b4",
            "5d9097c586bc4c43b57d19090a3eaf43",
            "e0943adea51d4f31bb30fce76f61793d",
            "de1eabc6496f4b2ca8b68afc6b1ac506",
            "cfcef4014f0248f189c39885e472b5cf",
            "e5958e3d859e424d88ed1f29fe0dc0b0",
            "485155728cee4723a71d90f488b1f49f",
            "07c85ded3df7494c8b39ed589d07a59b",
            "8335674348c64dc9b30ace3e716a4196",
            "a3301b272b9b4b91b6d836c1fdc332d7",
            "6da91e8f2a6f4d5a8ca0de7b993de9cc",
            "8c55c90720c4493ebd98453f009c6098",
            "75fb71ae3af64d9fbab8c01566a57856",
            "09aa077e63584c4c9a031f72f97fd886",
            "a6cb8c93f14943869fb932dabf2c8a5e",
            "ccbd6282da5d499498cd164a1a31715a",
            "41e4dced4d0d48939c3b78da991b5401",
            "0a611ccd3194405997c2f92cb06c2364",
            "f89d85dce87a4c7b9a95685fb229453f",
            "04dc919aabad47bbac2db931cf3155a7",
            "312fb988a83049a58f3fc46b24818aed",
            "e5c56ba3a06e4eaeb6c31a1e3f11ebbf",
            "96d06c3763d4425e9653d2c972b64e0b",
            "35c05d2d74544dd69b836d75810f10ac",
            "9e5fb2f3593e4633b69996f36402383f",
            "006613d0ecaf4137a2666b98ab24b96b",
            "6fa17349acf244b3b36953ba25e32c32",
            "45d1027b875c433ba927f09bc62952a3",
            "da28198634114b669f13075a393c5ef4",
            "8081f71a201142dd9b621def1e0b91b7",
            "c828364b011b4a869d15cc93b191ad06",
            "b1d3789a1db04077af2817cb33296176",
            "3198b1c83d6e473aa888d88c00356500",
            "4012c5b8bf064de9ab2badb745563406",
            "01cda5aa38954a3e82196e958b4e63f7",
            "abc43888a08f4222a5a10f3db7dbbb41",
            "8c3dbc1469304d52a4511cb4538856f9",
            "52fbb27c5f9b42669375e0a2992ea7ea",
            "5b137eaa0e7148b0b704031010fe2a3f",
            "8df46ff79f3d46a7b38fa52a97e9de6c",
            "726b6c14dd3d4b32800433dc4eb85508",
            "f9fa617a398448cbac5747ce3dc85772",
            "fc5b829eec2a410ba7b9bb4c2c05b142",
            "af78c913356e4e67aa6610ef152e056d",
            "6404504a208349769b81da6f59f863aa",
            "bbc0fd42f7d74ffda18ea91ae7b49c14",
            "08b3b08ed37b4fafb27af3d42de483d4",
            "991c107873284d3facd323ee4343712c",
            "ffb4383596f349e79e415264fbb4ba68",
            "83a834be185448d5a382c5e4a7f8309a",
            "6d795f65cd3247a9b17aa3a594543fa5",
            "4f72f93c99674b0db94ff1d5099f9fa8",
            "b0a13441d37c40409a8410ea66c40d71",
            "2def69864c2c4f698c112aebb9476917",
            "7441b0cde4b843b395eda30ed35f8312",
            "1a776c196b4441c79463cdad7b077c1f",
            "b07c9f958bae40b282b46f1341bda1d0",
            "29897c1903084eb9b15ea0d8de589bac",
            "238b025bf15c4d02b58f0d3d6f66dfe9",
            "39fb3bdfd425473bab7e71b4ad9b9f21",
            "2dc556eca7f14edcb9622ac3decbf0db",
            "f565abd5fd214b9c96a40f43c675820d",
            "429df14bbaf54e94b44232eeacb2550f",
            "157fc7ccc3e5484991dac16257136d67",
            "ebb94afe5b78499fbd6e7569acc65a20",
            "fd6b23ac1aff45d39aa0da38a0a4c577",
            "8db03341cc924a1f87ebd349eb388b2a",
            "5ea3f7dc337c4ea2970b3315f1a928cb",
            "543d59c76fc34234af8643643e74fe00",
            "c0cf8d27855043dbb2c4cd7e59b88535",
            "b2f3b4d3a27b4c2fa0146e85770c686c",
            "b8baf8d39bfd46d08f38cd26a4e517e2",
            "a1a1b4b8764143adbd42e469509dfde2",
            "a155b70465e04e2f82868e5175e789f0",
            "a3d32dc0185b4869a2321f063c73eda8",
            "0320d4f3f68b4321a19eee1f4d87542e",
            "a7abb632e0e24f1ea5e871a3b2e7aa24",
            "5a9877c640eb41eab95ed433eabecb61",
            "fbc2a30946d04ca7b547e3831e7df704",
            "237fcff8320e40ffa6b1271b24c90b61",
            "3dc36000f92a42388f4736e3a42b65bb",
            "06eca45c20d049348e3c141284f4168b",
            "77fde805d4cf435b94440f3416c87da8",
            "3ee9a3f8466946beaf85f99fe09a3807",
            "9ff668043c944d8a8002ec25e1d83159",
            "9ffd7fcb4dde4706a21434d9e51219d3",
            "3080d3be18524f5aacd603fcfb8e9c62",
            "432e4af66990413eb85bb73ebfe99dbc",
            "74c983c294f04a65a70057aa3e0d1e02",
            "c6c1cd863a914c228f5ba370e52ac2af",
            "c8a9a78ea29949c1a77bb8f0d3093476",
            "65f62ef19c684ce699e27c4b5c4efeeb",
            "c6bcae87625e49f28f9889a3d9f4e0a8",
            "36ae8c01c0b34fa7a6c2339bf677ffc5",
            "9a08d8b202464ef7aa40c875771f2534",
            "09839036235b4d4db415642315c3bb0a",
            "3d85c04bae1a426abbf478dc73e647c1",
            "f420946aa7fe4234a10790093227a7af",
            "6f96198646c3454a845fd6558508db46",
            "89a4ac95f2d345f69f472b665e9c149c",
            "6157006bf6b44587b619d163d554ab58",
            "e494fe0fcc0b4f9f9c24c91a07edb61c",
            "c903cc8b308843979f6c6f7cdea33ce6",
            "a6ae5339bd1e4f23aebfd198ba01c98b",
            "6c9e013cf7994913a2ad66955ad5d8b0",
            "bfa0e441fe4c4fe29603374d2cde81e5",
            "8a4a2d61af534fa6ac2cf147baf4ddbd",
            "b909f1463b6d444db5d359e888859b2e",
            "6c204b1e6fdf4ddfbf39795b6ac80c22",
            "3e167699101d4183ad72f5ed4ebdf69d",
            "540471a5935640148ce128311c3278d4",
            "b12c9834558b47e2998618cf8a7f92f7",
            "433e9da0c6924ae5bd42363069dec5d2",
            "0c41dcad83454189996b65d61a68c223",
            "33c03a638ad5443bb271542cd6daae38",
            "037ba91985f9440c87dc352cc77575fc",
            "7a0de1cf37034ee88c0c12af470e520a",
            "15a883ca9f7a40019d31f0a202ad191d",
            "e73e1a72e2fd4471ba647d27034ec03f",
            "b0e287e6ce8c4b2da642221c5021801d",
            "0f045487cd6a4567bb3e80fd56620479",
            "b8d0167ca3804b07a7161e75f6373636",
            "e766966f59024b01b6abaa2077c419a8",
            "6e2e9bb1a22148438eec30e793d8ecda",
            "f895e20c3d51448eb5022143f5ca8e4b",
            "443ef54edfee465e837dca472ad170e2",
            "81b16196d4724784ba136af46b4aa6ce",
            "1b849a6fd0d14dc4a12a4afcdbe2dcfe",
            "e710019b72024478a805fd7f78f1df50",
            "a17fe0f81c9a40afbc7dd078e6310fc6",
            "4289fd29e5c4417bb923260fc3a27979",
            "691ec7448ac54eb6a88bc0c09863cbb6",
            "eb3bf7d56af74d2d8ac55888cf4e014e",
            "ad720d9833174368bba984ae2c18a105",
            "15e8e0c1c18148e68fffe36ed884e658",
            "24f6883ded62433abba21086c691077f",
            "27406e7f7c5d4dfa910864a6a23f960a",
            "4740ed0181f449ac8513b57a05bfc4b6",
            "bb202ebdffe547f795bec2e7290dd94e",
            "bd04aa09c429460b95d5d957edf59522",
            "5b074c86836d4959b19e12d413542184",
            "bdafbc9f7f9148fcab905a5dd74b772f",
            "20ee5dd50fc948149638ae04ff5947a3",
            "b5fcfa75acb144988958f22f43c9a294",
            "229fccc90fa54474b2d81c75b86df861",
            "bc5e669504c24ac4813e5816a9c1ca8c",
            "59168923b29a4b1ab1400042e65657e7",
            "1d31ae6fabed48aebf2a73a41c6326dc",
            "f808afa22c7d4f6996f9c8ccf2761fe3",
            "e30f10c1d68d4049b121e47c37894e86",
            "87a80cb44f274cad829160157c4dc166",
            "40ca22cca1a244a2854ed1c6587c2a4a",
            "ed5e6518ba7a4ba29cf8641a3fab6fd8",
            "dde03544c71b4419b725de0872b4c5ad",
            "b2ed7d83b2564c89b6898f903b67f52d",
            "1d2a27412937444ab05ce492f89d118e",
            "ff804034de244b1a918105323aad160d",
            "0e974ab593034eac872b1daa2e535139",
            "a855a475ff5c4f5fa5159a10f8b7b1f3",
            "4523d8018e1044c9841520ff8062d85e",
            "8c7429a500284037a70b925af122ddb5",
            "7bb778f42e0b49d9898e1e87b79e7682",
            "657e45fd23244518ade2b9f158e87762",
            "cdc21c45fd9247bab6d35372f1c9b25b",
            "964419a77bde4c7f894414336e08cdc6",
            "469601c652f84569843271af82a6abe3",
            "f8c77b05dccc482fa770800539c5ab4b",
            "baf5ad68ce3445fba95b7514b451c3a2",
            "8b268b00e61440599f5aa16773816d3b",
            "441bd948d2b44034a17d1e9273f512d2",
            "41841bc7504a4e18ab699f7823c56024",
            "13ae816849c44db096998d7206cb4c2a",
            "707b945a142341eb859b172545d61803",
            "ea7dbe97f8b6486b96cac8bdb0cd9f53",
            "b99b0abef4484bf7bddde786a23ffd1d",
            "7a19cd27ae1c4c36a87fd19f243bc6e2",
            "3d46a8a5a2374e5d99babc00654c158d",
            "5b52b9aee85e4df6bc51568a7eef0736",
            "693adfb408544f8a81f954fe9324e41a",
            "4feda59d97dd429c95bc43afe4c83669",
            "422c66dd81ec4b1382a506a3a8d49ed6",
            "be0f9692d8cc48a7ada02582119b7272",
            "1e547494f9ea47ccae4d8629c482652f",
            "a78782d8de2642c49599ae3bcd6fbb3c",
            "c6b1ff5af6ec430499bbaeb6abef6ccf",
            "42cccea2f0a44405814ade227c06a895",
            "420738bc13b24302af60a20f121f48f4",
            "094dd35a3c004da2b41539e296cb3fdf",
            "a228cbbdbf894351a6e447b108a754cf",
            "12e74ffbee874ec6b9916717eb2e4e46",
            "f61bf9a30289409da3453cc259362a3b",
            "04c4c14003b34b749a46e14dc2dbbbd4",
            "0a4447d7eebc412a92f652f8a6e710dc",
            "4fd19c37f80c48c4ace64c54dad42a8e",
            "bae8b6f6820d478794e8c84561537fb8",
            "fd51844b0c6d49faa76d33906c1dbef9",
            "513a7c4079be47b29aa8c68179b1de7d",
            "ffb9d9b4ceaa4c36afddfa031bdfee63",
            "854c4755efbf42b485a4a8043e336308",
            "e34427113cb441b5a25a44baa381e757",
            "09f7c7250342427db4e205e2beae5879",
            "847bb69c7d0e4792ae09495b0e5bb9d4",
            "5d68e49889c94389818b73d3258720b4",
            "a10d7b7df0e9428d9916ded34c76f47f",
            "9febc15fcbf34f4e95939f462302ca9c",
            "c31ab1d68c634cc28184f666c6c9afec",
            "81f2872ce7e6497a9f9d0403b7ca7c4d",
            "81edf78a93174fd0af63561795e79826",
            "524affc1753e4bda96671da8dc56e5ba",
            "d56c53b383d444bab956af6eb9e38352",
            "a09cd4a2fc4f42fd8b8bff26e0203b4e",
            "a3218bd562a643c6a94afb9b85f2c80f",
            "830ba2c355a04c0c917c61d018dcb5d7",
            "262ff08d35424d058324eda5e6d978ca",
            "8b77d804642a40e89ac45cde0e3c64e8",
            "b7c47bdd5eb544b1aaf1dbb055780f3f",
            "f2f001f136ab49b7a2aeb06844c3af56",
            "08482364de7b4e3583430b4096073d61",
            "c71f7f1d836347dd8bb6a52359576cd8",
            "bf6b42755d3a4bc487aff484532feb39",
            "a83471b39ac7459b9b7337560f52bd35",
            "08f0bca2c6084f11bc13166df93c1eb1",
            "dcffeba92f8e4790a36a28c1b6c70a77",
            "7c3738786c984c6999e379136d0b7eb8",
            "3df9342be872418e9a89cdd79da0b6b0",
            "5f36fc31191b4aa3935dd2cb5ebfa586",
            "9bb4c956ca86486daec8b48414b41ed2",
            "e25fd5c05a334467a9a2e3d564f2b17c",
            "0f5df07eae2b4caea7687bca77b22b70",
            "22c4a0e591b04c3d8727fc2089119b4d",
            "020f880237f448d285163bafd7b4882e",
            "bb5e991fbe554e6a80bbe7304109ba37",
            "cae63fd29e82475aa1dffaa3278e0781",
            "e878352b5c344aa7b65b5fa7a9904af5",
            "4d5f5f83bb2a4ec69635f8dea5731529",
            "7a13390cb18d45c0b58e31c28c30b630",
            "3d5aef1cdbf74279a395599afacfda73",
            "a74bffae97774cf39f83153f8a412fb6",
            "77445f540b174484b503db48dbbac919",
            "dd241993f2054ecea057da4c647f508f",
            "e3b6e652cf274f0d8f3e5b5c20230ca5",
            "df0484fa27f84238ba2dfe3bf8f6e5be",
            "1c3c0fe792544c519d4a769813a3933e",
            "4bc77c9a842b49389db8ab5259a60335",
            "987383f18ecf48009534d3c2e3ffa834",
            "95a012574b8648d188bcf64f8e95abda",
            "6771b9b51ea84102a06254efac5e2e91",
            "45a395792e7c4a2ba9fc7b3ef38462a0",
            "63529c47dbdf4811b3299c79038203dc",
            "be717eaa12e34920a418cf6c88bcacc0",
            "eb74de75a55949bb98807aed37ea6fb8",
            "a097411058e2452fa82dda8da8cc4bfe",
            "78ec969462f14e73a9550902130b9e4e",
            "4828829e22224eb5bce96388f876711f",
            "ebcde1bdfe3449f48abad344e3d3e7af",
            "68bda21dde13459f89f12cd95e3cfb7a",
            "c84de804142243b6a863aa5b1f7e8c92",
            "41c9a17acaf14202ad6dcc7e1a7cd78c",
            "51601452218d4bbca9f625a54fb91eec",
            "a534642499d147bbb48bf94d6594e495",
            "8b2c7076ad324b3987d474a9d8d134e1",
            "0e53a9b5e03c4ff38702fd03200b98f4",
            "517fd54aba7a4c2ca7541579242b188f",
            "9916fd5f55d949b59a260af2148659b9",
            "0dcd82b19ee740e48543aaf9708130d2",
            "f2af4748f76f4ffea56f8bf09f487211",
            "945d53b7e2ed437995c45b8b279195e3",
            "2999eeca92614ec295a96b85392b845e",
            "3182f951ff0f4f7e93137110e3e05a6b",
            "4705f3289cf045109a96f9083ca97141",
            "4ab6b277eb364c7dbfbdc5b825dcef1f",
            "7a831a40f140437bafba2ee6ed2a80ac",
            "cc29c184f9614025bb451c8d24523d32",
            "f8216bc3faa8491194103ff19960fd4c",
            "f55f6d50cfd9489fac8de3214a596d97",
            "a15d7c2ed5cd4cc09a113d6cf8dd024e",
            "ba3440609de44ab3886ff296748e7418",
            "b2342de6cf0a4a1494e6fcf751a134d7",
            "b0e82c3a85a441709e7a709a2b997c46",
            "630a02094db14f6ebb4b39bc189bf7c7",
            "785b55453acc45ef9fd89927e3ab2248",
            "c29f50016d9c4c8088db7e80493563fc",
            "e3cda74ebe414d1b9ff3791488ea15c1",
            "f10e705d05594f78957186e5f1ed3118",
            "69121df55cda4b71ad8dc7fc79e56f11",
            "6a6418fc3d184b76b55d07f91a244c65",
            "58c10baefc17440fbc76f4163008844d",
            "da3f2e82be434c47aeca43cbd9bd0c7b",
            "79d0f8d07af44b86926e13197ee328ee",
            "ec2779fa7ca149a2be5e1ec82b2c10a8",
            "ffa18fd17a81428880f098b52279924c",
            "65fdf9146d0042a58f56bdd22fad985a",
            "7cd2fc31adbb45c6b91ce2f5a9ee48c2",
            "a3caafcc6cd8498aa03ce30b9e10f2f2",
            "9c8e5b43e3e94a2cbca52427b9d783e9",
            "538afd8b6887417a9d731e60123e1d17",
            "85fa7a53a6aa4f88b9b2c64e472c8307",
            "7f4bf4941b74482ea7a84b5f07a911e1",
            "d9deccde5cc14a59bbecf50560ff27f8",
            "3d2f1d6bc5ea48088b4f0d35e9503a7a",
            "980568b21dbc4a09a55fdd0f854812f7",
            "6dc230b4069b450ebc7e36af5132eb84",
            "591bc3948e30477890b9c3e164a60265",
            "88a30438fe2b49428bd885423a6bc6cc",
            "f3c79c997ae845af922c0b90898b4fd6",
            "c1554505607544768dac7cc29ddfccb1",
            "a110a6b9ff5046b9b2791a8ada0ce029",
            "db3519f6ea8f4b2da13641f954d76ac3",
            "bae38e4f0fc24bf58de7378da01cccd9",
            "70465e62b67d4375853c60cad9d50029",
            "f0d87479182245a59b45f54e720a2f00",
            "388d1b6aaf6b4e9690a1f3cd7cad2dfa",
            "f90d558bd0cd4aa684f520df7b57ab72",
            "fd5c8b5c63434cb4b9e9897b4ff93396",
            "8352f0ba496446ada8f00efd5a851b8a",
            "47c3e32766e4482386529c89029c7579",
            "f69f15c1e96e42b89b1d12c1424c561d",
            "afddfaa37b8e4b268e145f80a0053ced",
            "c847ea4b5983475fb64f0aad540d7750",
            "a4f03abf61884db4b13ab77782a0d133",
            "38cdcd7468884de684e4f5e1ea412ee8",
            "8268f5fd92744ee590755cc93a8f279d",
            "c64f449e05a4492ea2d3aac35e6e0eff",
            "7b4ac0db94f44285a2e7256fda00bd6e",
            "944e1c2382ca41c18b55325ddc6d9a45",
            "4ca301d08019498e94d7b4af899413e3",
            "46b7365fcd7f4fe8be9005cb63455daa",
            "c0f9bfdc8a7c46298b5714014627d280",
            "d41f49fc9ad24ce2abed40494d555e11",
            "fb6b2d3c6ee44cbc8b663a2b038105bf",
            "a9f83c5bdfd14a9dba052fcf98d3043a",
            "7feb351213ec466a8e1159d573e55954",
            "3151f77c0f25416b88d73f11ac20056a",
            "d1660f777eca4ed0a1f8882c2e28234c",
            "30b63922cd8d485ab559605364547cf3",
            "f296d980dc404c70a1017403087f0b3f",
            "3ee16d558a4e4e3c8920673064a7f4e7",
            "3ee7d8fbe75f468c9307fd3234477ebc",
            "10ba1521b9294a90b75280467aa9df43",
            "30a8f5dcc8724dd3b4eaef2124065f84",
            "c6432c29f70448088b6e5f6193d97536",
            "b500ab90e5414fd8ab90ae59b2132e82",
            "664ee3aa621b4f49965a50371363173b",
            "01c33d97d92847b2a47c3959f53586e1",
            "c96d0b011c004ffb9fd178da9e60f3f1",
            "8c311e16c422419b919eba0886cae4cb",
            "05c17bad763f44a28263560ebfc7e1df",
            "87c3dd87002f4f11aa3c4d2027d67476",
            "214b6b90b06d4a4e9e4928fc60ed32fc",
            "75c0c00ebfd4447ca8dc3b92f917db7e",
            "65d234b9407d4784a8b268be360f3e9e",
            "ce732d9ce3e546538b150aadbc3838be",
            "e0dd58949943424883720189765ddf44",
            "2e40908232a7483d93c1fd249e38e145",
            "4f4afced04774b7e9bb93b3f9886133a",
            "730e7bda161d434aac36595f642af6b9",
            "77b7fd8853a44e9caa3ef6b86e10e26f",
            "b4105a5cd3d44cfd83ae379e8976a63a",
            "8aebd972687e416db6e6ef50cf5d8d36",
            "d3c057590b5b4d7c8d51ff552a7b0796",
            "74e74f8de6b9466089500a1811cc3b56",
            "57eb728e4b6c4b509481adbb0744b982",
            "fb92d2f35e0c4e9e9fd92dd561e5c827",
            "2ffe5401fa9648d293ae1dc5c934794c",
            "3202be7b19b24598a3074263ebe94c86",
            "4323d3873cf94a8c81ff29e143be3efe",
            "c0a456708ac14873867c5734c0270e70",
            "27f2e21832d24b228e4740f3f934e4e6",
            "b2ae938827c34c37a3810a44f42137e0",
            "80af9c94b5244ec1923c4c4969f1751c",
            "e9bcb821bd6d461290a4a03416922d29",
            "8f2d04bff6b04e4da6b7c9f67a468144",
            "753b323d6ef6415ea9b085a08c4ffc71",
            "1a7cef60516345dab0ab84797c3c8e97",
            "ca5e28b3ea204072a78c80559f60f5d9",
            "52e0aea06a814de98f1dea8230bebf9f",
            "90b5ca36f9aa4cbc870e5d92d81e2147",
            "c0ae63c60d2a4aefa161090b9db299cf",
            "6352e54a119941c68d0a539089473b9b",
            "92ef6b5550a043d1966aaf94350b50b1",
            "d8e5e7f1635545a39f6e2b953b5c4bd0",
            "0acd3182b40a4ebf9cc0df116facb2a2",
            "997f1709a3da4d68b917cf5f4f84b2f9",
            "98cc25e37da3470d98114a28632cda27",
            "a766f5ba856e4055a56b974b62d9b943",
            "82ee2f74bbf74967a910f89f40f471d0",
            "12551c3f57ec44f6a627a158244aae52",
            "3f5a9937b58445a1900dfa1f71296c5f",
            "13e3a599aa164b02b8fde6b00517bb3f",
            "e987e78afde54ec1bc6d4252eb4e1906",
            "02cf3dd94bb54e0d853bc4256b088a82",
            "1efb164b6b084259820224946ce31005",
            "6ca7802bc5ba4f90bab3bd334694c08f",
            "42f2b39875174e6d8093340290877f53",
            "627ea98c36ee4165bbccfa3887cb6127",
            "a4e55e4b671d470f8c2413ca6f037a4c",
            "85acb1e6fc034397a2a1dfac7d045f58",
            "8a45862382954178ab3500181d143c09",
            "faa7a1e9b18145c5ab55b368bd98b241",
            "4ed59cb9b05a4786bb110ca5ff27d2ee",
            "09c43c69081b4496bf2629ede5b46707",
            "1510cc9c1615401bad20d56a4cfa763c",
            "e0bb264b17a04307adafbaae14f335ba",
            "ccabdb1fcaa747578dfd62681c64f516",
            "14ce24852c964fbab5381f530e7f01be",
            "d56f9f2d2b0e43d2924f87c5b96d820a",
            "80db5ffc68b140f98a505db848166790",
            "b24f1ff9fac840a5a06389bcda080f0c",
            "59f7e69e2fc8468585a0e6da0107d699",
            "06b7dea7ed6a4b2696cd894eb669835d",
            "e9d1c365d68b4313a1503385638b1c1f",
            "2fefe026fa9049ee8cd30018ba0fdf8d",
            "2a7f4ea3089b40d386eaf90f54280dd9",
            "ad0555dada144aa6bc3e03d9443749ef",
            "d98f8c34ce1a4b7f9456ded9f2e36fe4",
            "0879c9e4166049ea995ad753b9a70d87",
            "a324489294d24a6abc960da44edc8b56",
            "c2232f07e9e145adb6b5b445da740b39",
            "951ffabf69bf4f06a3a2b29114d0875e",
            "81b048e1d084468296a7ff990704a0a0",
            "d5edd423b1124ad8a920baa78dfe9994",
            "ca680fde0e224715ab2a450bd9673cf5",
            "3cadb05e363946f9abb0ea9776a3295e",
            "713df3aa8ecd4f118353ce6731c0b1a8",
            "3e1658b7ffa9465097ed826f0f84d250",
            "af0e1dcbb9f7465583bfe8792ddd714f",
            "6ec38cd2cc5a4dc49ae60b7fd1c0db80",
            "29cd740d131f4e9091f2efccee8115b3",
            "7e3400ed8ec94f36b2e67f49a90526fd",
            "5304feb6722b486680312fcd61159083",
            "3bde4b2bbc924c42ae57157abe48f236",
            "7215254bf7f441efa65a07e7ed5eeda5",
            "1385cd226d04402995f70264c3adf980",
            "8ad50479db0e4b9dbb01b5a24efa77a3",
            "d0e312d0b5c242159fb60a77ad41c9ec",
            "d4921b3b6908483589559ab514948bdd",
            "2b3438df80bc456c97795f6473dfd94a",
            "352d73b137a84061abf154eb8f57fc19",
            "1070030eb4f248af9cd3bf1bbb587649",
            "8a691adbddc34c0b89c34439e1b9c484",
            "73c90ad5eb91476a87c7349155b6b838",
            "bfd143aa4a6a474e8b54547c775ba149",
            "731882623cf849f8a34c5f245189d500",
            "caf0b187ab4144079c4ba8d0d6ae9ced",
            "6a77ff23405b48eab458188697ae0a35",
            "4abd148ac8ac46a3be01461f514f2a10",
            "a53a700798c44403ac573bcfdfb751de",
            "cb2fc3e33a5a409f91d4da76043d54a8",
            "fd3d968e1b8948c5bd8582d7603e1866",
            "8e8e13a0ae0a499d8c0adee4bc957fff",
            "f5fd144fb8ac451299605dd3310f81ca",
            "c2bbcc1b9bac47ddbcabc9c32ae40f9c",
            "59c737456bf747e3a1ef21a3ae478992",
            "1b9c11d0716e48b193b13ba0282c993c",
            "344db8e693014aca8708d9ff17e2d8de",
            "3f05ad05f3c24bf4a32003a25d3f4aa2",
            "8a63c20644a3465bb8c16038bd07370e",
            "08a4a522566e4006b90acdde0915485b",
            "810e0c8fb36849cf8c8c5a3c5437d360",
            "5ddb5a7d390e4e33b8d9edeb6621abb6",
            "fe42d3d5da1c438f84a7daa8770bb774",
            "4626848a1d8544d2b2592bd983821c64",
            "7ae8f7f6af7c44ab89bcdf3d2da5987e",
            "fab1d46913f24bb296fa9576895bdd41",
            "010bd490fcdf4349956c058851ba64dd",
            "f39baca4341a4fa18b9b486afd52bc0b",
            "b22bcc6e473b4796b08ad39b26777d69",
            "10cbedc89a0f41d8bc925642c9644809",
            "9cf4ccac3bfd475da78cb8d3012e0353",
            "8a48eaf22b6e44018b940b4e132e0b34",
            "a2017b5625d845dd8cfbcd0a8abb373b",
            "93fc6080358e4f578aecf573de186a86",
            "c3f564b13b394060943960ba09f18a78",
            "1bedc922114d434f9a8775e4e74bf28f",
            "4407b0725bb849958e35c678c4fa57de",
            "8d6d4d15ea384b03b20cf30daf497432",
            "b061f6fdecf84693b95c2de8fe5ed9ee",
            "ca8c8f7ce618439cb1e40314251fb7f8",
            "fa136cd65d4d4a4882d5b644b38e4ccd",
            "3fc8bab46e9b476fbca5e9295823560e",
            "d56cd1a4175d451aa99fe1610a395db4",
            "7112ee9c9fe0493f809f24fa6e9920b1",
            "8056c71d5ca34c5497b3e7e0cc9c2bcf",
            "5f3414c9e2514de69be968d0542be2b8",
            "4b9134cb3cd646d5add14b04522b7d74",
            "83f52f4fd7fa4349b18b711877e627b0",
            "9a710758f1e74de98f150f1713703e33",
            "8d01b5db8d9941d8aa574a6f7a9f4b12",
            "a6c0a96d42e74a04a2b6df69c8b1b5b8",
            "ed0e448ddacb4030b5f4adb07d16062f",
            "b6d58b0913ba4a8397ea335a06be160c",
            "53a453ee6d904170b9c3e5bd5aa8c7c7",
            "21227096f12f4356bb8d75daafac558f",
            "b8dcaa32fa9e485e898380e04291a8cf",
            "3c493ab7bea64109ab55d973cbd32ee7",
            "5e263bc67cca4e6289cc18bc86aa8bdb",
            "52e4b379161047ca81e17de0b28bf7d8",
            "3fee389deb9e49a886b98b6f060c86e8",
            "e2cf73121b7947089b8ca34d84fac826",
            "45abd5cbbac246f4b4bad582497403ee",
            "8946f522c19f4b5b801bbfe2960777bf",
            "f7838642086f49d78e450678b1de01ea",
            "9867f73e82e14706b7ad9fc2a76a9020",
            "afdc19cb0e72471ebe448575defa852e",
            "15dab28241e844d9837ff51c5f6eba19",
            "35b9e8c193104dd2bdfb60df111422ee",
            "36c84ee489d942a997b207f8e2767997",
            "f4bccd0bbef543d1959d2af8c45f615b",
            "b07dbbdcd7ef40c689fc0e1598be7b9c",
            "37b4223318e64b85a9c46355b539d591",
            "97ce3d95207f4cecbc05c5275f0f506c",
            "84640c07291642fe80b9eaef2129747d",
            "ce106a0e27e5497db7be8bfd20a74268",
            "ce67ce4574164d6e8e45139270b57967",
            "d093fb13eec448fe806917eb84c869ca",
            "7eb10d9530df480cae251247709eb08e",
            "4895adbc9e69499a989ade55fd868fa0",
            "46508ea49e2e48d394fc21eae245e8ab",
            "df497bb4357642e4b7c50542aa57354f",
            "9b4c18f375624187a47d7ecf97192d70",
            "e8cc39bee58a4602b31c7bb872af93aa",
            "11516e3003d04e93bd6af94075d33ba6",
            "7624119f4f7b482fab88eee5e100fe3e",
            "05beb5f0b5534e46b3f853123f5b0ac7",
            "8b82c0af57034c99829a34e8e6d1ed78",
            "4b511331c6ff40ecbec39a9bedb4818c",
            "b31bbbd566a84523851a7b7c77418f36",
            "e3b7819324294a15a8794fff6f180a50",
            "a9db5aa3cacf48c8a15435d5a049bf4a",
            "cdeef5726e9d4c04a03b2fd99d558370",
            "01e7d0b30dc641f8bae2ecd4689832f3",
            "d858dc0aad9f4564b398854d00e3a5cf",
            "e126e676115647a880c1d6b227af6fb8",
            "4ee453dc73664216a186bd1302c4ee7d",
            "07dcf125920d48f78a3a308cb070fb43",
            "f914c7f732794235b5faa84f76fdd78c",
            "bf8efcbb3d02470db42c55755ea59f74",
            "4e4ff0ae4cc54ff28e6e6829a7fb7ec1",
            "2c1bde43df4844109b1dd1216e0dcf24",
            "125c28450523447e8999ebb7b1c6831d",
            "1297eba3f5a3413189fdcd7f0e9e951f",
            "570b3277216e458083df21b8da5a52c5",
            "32a3f3ca48344712b3934ebc19b2a641",
            "08c183152c0a481a8344c5e3c8747b96",
            "4b9d31998c404ed88029d7c8f524d437",
            "1f987af5f6d54dbe84ddf8691dd141e2",
            "55702a562c2d474fb271ae1af229653d",
            "2c17fa55713d4f059b8857474e3d6eb0",
            "f45bbb8c98b84f6684b16ea6d9d4638c",
            "7e7b65901cce4ed1bef2e3a2e60fb9ab",
            "d8d32092c50a4040a2a0d3b862253393",
            "8a42ddf406fe4135b2d51c5d22324591",
            "d28bd0a2bb31442d8baa58321d365e1a",
            "ef9461d4114544d1bdf1808d6cce308e",
            "b41a33f5198b4690931d6933eae256ca",
            "121e2b4fd8504c88ac0e939e03c9b41c",
            "316ff855c2244947a4a78004eb1e242b",
            "82a214bcd63b47edb0151e95f0af65d7",
            "394ebcab04b148aab82f773a72b70a86",
            "f7873f4e6797478aa7bf6fdc9c7a02ad",
            "b1439b5c3b7e4ca39c3362aae051c43f",
            "3efe7799ffaa4ac4bdfab38847fec80b",
            "00b2e50703514521b0013f584c9be3ea",
            "8701ea88caef4df69f2e4176e0a063b0",
            "007cd7a94f3646fcbf73de57d89a0d68",
            "1d98423aa4c74ffb868799b0498ad328",
            "e402e6fc25a847669d5a958ac3d0fd9b",
            "dcadbb550fb84c4ca48b2513d8443e2c",
            "c7a8fba96b304b8abe556ffa9de20818",
            "972cc9f8755344e780b715055991658c",
            "09d40e6dea094e179e7e418d3aa3384d",
            "aaaad958e9f24caa83c157970a80b382",
            "0d3bef8ec2d949768866146449788065",
            "0fd595c4b6694d35851ac627a6c62124",
            "4295a4461f9145fba7b142eeaa024ad2",
            "81a99c0c03364810bd4e1d8f2e9fb4fe",
            "a496eb758e5f443a95b9db07dfc29015",
            "fa4416fe2bad430cae19d70eb2df7abf",
            "88f08e57def945bc994cbc1343258457",
            "2858cb1e32d547ae88284e95a432a036",
            "a579dd8ea857410bbe914cd86a464610",
            "d13f0feb3fd446699046b32eb2cc459f",
            "e580d787f49d483a9319cd739f50fa51",
            "0f11ee7997f1446f83a64ac074f5c8f9",
            "531f91d00207438f8d17cca3d7378624",
            "cd63b6d3255643689c3e2bd3d925f7cb",
            "b1db95c7ff7f400b8acbaa2e1ed7bb50",
            "243068b3793f407d9f6d456b55e1a633",
            "fb54e4953bc44e97a5f10b5ad9eeff8d",
            "ca99e0554ba94c6d9ad90e42bd490c32",
            "06bc6cb93fdf43a1856671e2cacdd6e7",
            "4b0ca210552a4de4bba42bb703b8b611",
            "cacf1886b32242c483eb472d91fc7b9b",
            "8eb2b1eaf59f431ca422d52fe76bebc4",
            "e4fd9f9e27ea4b3aa19aa8eb29727fac",
            "97e2582263644774ad5c34d2c7263ecd",
            "4dd21cf7d9a2436f818c90faa4c3f670",
            "a42391974d1b4a8aba233d692e7f541a",
            "1695fd69279b448d97c5786bffe9b949",
            "649aaa93abcd433896fc1c38d58efe32",
            "b48d45361458426785cfaf8d2d4865a6",
            "73f2582089ff4dc284cafd7aeb54c07e",
            "9bc9c27a98114aa7a0523835fcc70e3b",
            "b7b63e2162de4c6798294ca7a052dd38",
            "0f748bbde9eb4c4ead7437db20331dcb",
            "23af3a2a6f5642c5a596db8ad103023f",
            "bc49a0c0ef4a475780cd396cc5470831",
            "6b8040df2888480c93a4332fb6e04e74",
            "e3f55d37addf46baae76b4d8328a7555",
            "d4772b5bbd1244f2a31906480834e4d4",
            "d99ee14e839b41b794d79e2358751bcb",
            "3993f871db4147ac8f3c73eda76bc70d",
            "43d81c38b94c43319768f632919705fe",
            "6f2a574c521447a49664b8861bc97696",
            "3a7a5c25333e4c3b8aa742777d6e78c4",
            "00f69a8429704c3e810ff8319ab1481e",
            "48154b16a5124b7eba052b493e050ca5",
            "2c13e1895e5c495daed4148a019679dc",
            "531314462fa14b48be069761292a1629",
            "abb56de2f7314008bde988b454149657",
            "e1e6c40b3bc646ed84a74b4ae1fb9268",
            "dc7bc9f5aab842f4925225e08daa752b",
            "8c55584fcb324895a056645f9587fd0f",
            "f2bd78fa9ac8495488f58c5c8bfc197f",
            "4495c3768f084e9fba09a024d01e61ec",
            "eaeb69b4951f44dfab5e128086bc91bd",
            "af0323ff18a441fca5d67316722eb861",
            "b49fa7d423d74880b0e659bd17c87fe5",
            "38bb724520c24634b444dfc87476b48e",
            "74569857cd8f479d8d7e4dc4d6d9c776",
            "16a4fffce38c49ce856f506f14e2ad16",
            "4dd7f432b97c4b14a00811909cda5983",
            "ec05c21376214f079248ffd306bdbe1d",
            "9edc920b420f41daba3ced29f5e62c09",
            "27613530da60454088035a5e68380bc7",
            "60a1895fad7d41579a0eb30455edc91f",
            "8d6328a14f07444face09814ca534822",
            "d81bb23ef7ae4d1ba2d6044b00e6010b",
            "5424d4cf9da94a0e868a9a86e36b3b96",
            "f4a29207618240938f72f5c63429c102",
            "ab59509461c64b81bf11483faa682667",
            "1d6849390a614f1b9bd04882d8703562",
            "17376cf22fa742b1af3742ee48f45b1d",
            "395854248f15409aa31b9a0429190807",
            "25a1152465cb45dea699491c81719d4c",
            "f4b7374dba164a2388641da7736318b9",
            "67a78652d93a4333a91d76c6d162f5f4",
            "a7f480a34f734474b4d0ba3b262137be",
            "8cbe644a41b74418aff91522e4519af8",
            "276d876afdde4d61bd4adb7d1863c220",
            "5d1f01d772334bd292b9b2ac0128504e",
            "354062fd319c41de81ee872d41b256dd",
            "964c4d4bcc7943b89ebe77b8916df652",
            "afd9ece2c5e54cfbb2937edf64bfad8f",
            "0e0e3ee75e73425687000d8a77c6489a",
            "f5ce78081412407fb924b8120f5a2f6a",
            "af5eccf9a70f457eb2d84ed67e27cfa2",
            "52fb5dab3c8243c1a68906e5231d6c5c",
            "bfda2607ce724c39aceb9f33dafb764f",
            "8c93735e896f47308cb6b11f89731ba6",
            "d4e3279d8e0f482f93c488ec35f53ab7",
            "455793cc57be46ecb99b946710962db4",
            "edf3f64426e84610af6e693b76d19c26",
            "0370c09c88e24c218dc7a420fc41cdc4",
            "515ffda468f64e3e8939d14d4b5cc8a4",
            "e7087f44fcff4733aa891f6e2af50108",
            "247ac2767dd645b39a25d9373f763049",
            "d3c7fb07c36d4c45ab3e2ade49ba0990",
            "dfc6c562d7ba4b74b889c18d1c4d0d98",
            "def5e6ce6c814037a806dba8bc3d2040",
            "8777e97dbb6746569c6c85daa51d73fc",
            "98c07f1c53324bc79f79d507dd6f9d11",
            "b2a4c5b704824d188a18ecb3472380fa",
            "6187e598ee0547899857afe5d1ba4ea5",
            "2b8ae157d1a84363956f140554f84cee",
            "3befbb7efec74018b9eabb6b3180d4ef",
            "386d49073a724052ac6a1f0ffa694c10",
            "9e4966450f0a468db627333018d26be0",
            "f3566bc9aaee4ff28c86dc7ff0be1f35",
            "804b25a60b9444b29d105fcf8ae1310a",
            "c1892da82d0348b1b35449123050125f",
            "5080aaf079c44f20b0ed69ab5f3a5422",
            "782ceea6eaa74a96b7c576bad91bbf97",
            "7d9772617ce041caafc9c87c4e5b7a8c",
            "07fd3a2b0800408bb7a645387f85d676",
            "af389f2159b04200b2198b5b842a5f23",
            "fd790ca4dc3c4e9099a3f2fdf8a1a642",
            "c415d05ef77c40d49c98fa7f5aca1d10",
            "b1ae485aecf044b38f1ab3384d8d5477",
            "3638548b3b7441e48068c04268c36d6d",
            "6c3738f9c40f404581c1fd8bf7e6bb5d",
            "6896f3a4a3a14722a4daf2fe004d893b",
            "adaf29c296394813a6820f2ce2f0f9ae",
            "6ab3d0068fee4ba3b4f90b25cb330f79",
            "ecd7db15c30f4d67ab9dfaac7fbb913f",
            "9017dd97529244e59721351c02d18e10",
            "0f9ea20ff92b4a3e9dcd5677fed6ceed",
            "419b8ffe28624eae900b6ad6ea7c4a55",
            "bab35d136cbe494b899557c4d8e48450",
            "5f0d225cb0884512841cd9c3fbea157b",
            "1aae96b5b4b74fcdaadd8386241e9340",
            "21df43f0b09e4fd8bea74d6abc3d0050",
            "f256e12a6b88482087cd97764bd194d3",
            "042b2b4fa0714ced9ef94c4dddfc0d9f",
            "f5813c34011d462491079ac53a68f72f",
            "a77460c53249467281f4202c1a8e2993",
            "80cef84631e4414693d26fea0e8f264f",
            "670e46762c32410baae53cbc636ad97f",
            "75d74b29c5c74a7aa9ba66dc46301687",
            "259a769507a64af3b43dc134a8986bbb",
            "aa946fa1f3fd478fa77394879a390620",
            "f13a3c97ba524db3b1b1c4985f3ab162",
            "ec08ce5a8bf44d2692d2b4430a959c13",
            "40a3f607fd514cdf92cbbcc2a78e7106",
            "01e89f22577f49b79fadf8529ba2cae3",
            "3d0bff6262004ccd8d04519f5f409d3d"
          ]
        },
        "collapsed": true,
        "id": "JzwLd5N6bYI7",
        "outputId": "025afc1c-a6a8-43fe-a28d-bd511c86e78a"
      },
      "outputs": [
        {
          "name": "stderr",
          "output_type": "stream",
          "text": [
            "/usr/local/lib/python3.12/dist-packages/huggingface_hub/utils/_auth.py:94: UserWarning: \n",
            "The secret `HF_TOKEN` does not exist in your Colab secrets.\n",
            "To authenticate with the Hugging Face Hub, create a token in your settings tab (https://huggingface.co/settings/tokens), set it as secret in your Google Colab and restart your session.\n",
            "You will be able to reuse this secret in all of your notebooks.\n",
            "Please note that authentication is recommended but still optional to access public models or datasets.\n",
            "  warnings.warn(\n",
            "/usr/local/lib/python3.12/dist-packages/datasets/load.py:1429: FutureWarning: The repository for google/speech_commands contains custom code which must be executed to correctly load the dataset. You can inspect the repository content at https://hf.co/datasets/google/speech_commands\n",
            "You can avoid this message in future by passing the argument `trust_remote_code=True`.\n",
            "Passing `trust_remote_code=True` will be mandatory to load this dataset from the next major release of `datasets`.\n",
            "  warnings.warn(\n"
          ]
        },
        {
          "data": {
            "application/vnd.jupyter.widget-view+json": {
              "model_id": "be725e3c97bf40c1962632f4adf8869d",
              "version_major": 2,
              "version_minor": 0
            },
            "text/plain": [
              "Downloading builder script: 0.00B [00:00, ?B/s]"
            ]
          },
          "metadata": {},
          "output_type": "display_data"
        },
        {
          "data": {
            "application/vnd.jupyter.widget-view+json": {
              "model_id": "aa673695fb974d26a43a4ae10fc9c66f",
              "version_major": 2,
              "version_minor": 0
            },
            "text/plain": [
              "Downloading readme: 0.00B [00:00, ?B/s]"
            ]
          },
          "metadata": {},
          "output_type": "display_data"
        },
        {
          "data": {
            "application/vnd.jupyter.widget-view+json": {
              "model_id": "d9233dae397348d890e84c6ef03065ef",
              "version_major": 2,
              "version_minor": 0
            },
            "text/plain": [
              "Downloading data:   0%|          | 0.00/1.94G [00:00<?, ?B/s]"
            ]
          },
          "metadata": {},
          "output_type": "display_data"
        },
        {
          "data": {
            "application/vnd.jupyter.widget-view+json": {
              "model_id": "f549cf8c751c4d1a9931c56eef0d8793",
              "version_major": 2,
              "version_minor": 0
            },
            "text/plain": [
              "Downloading data:   0%|          | 0.00/229M [00:00<?, ?B/s]"
            ]
          },
          "metadata": {},
          "output_type": "display_data"
        },
        {
          "data": {
            "application/vnd.jupyter.widget-view+json": {
              "model_id": "2e3c62e456be4299bbd794f33e5917a1",
              "version_major": 2,
              "version_minor": 0
            },
            "text/plain": [
              "Downloading data:   0%|          | 0.00/112M [00:00<?, ?B/s]"
            ]
          },
          "metadata": {},
          "output_type": "display_data"
        },
        {
          "data": {
            "application/vnd.jupyter.widget-view+json": {
              "model_id": "df8aa008e93243eb82492b68c4b7e6aa",
              "version_major": 2,
              "version_minor": 0
            },
            "text/plain": [
              "Generating train split:   0%|          | 0/84848 [00:00<?, ? examples/s]"
            ]
          },
          "metadata": {},
          "output_type": "display_data"
        },
        {
          "data": {
            "application/vnd.jupyter.widget-view+json": {
              "model_id": "ae0b5988cc1f4a6fb69ad5da6c5edb66",
              "version_major": 2,
              "version_minor": 0
            },
            "text/plain": [
              "Generating validation split:   0%|          | 0/9982 [00:00<?, ? examples/s]"
            ]
          },
          "metadata": {},
          "output_type": "display_data"
        },
        {
          "data": {
            "application/vnd.jupyter.widget-view+json": {
              "model_id": "584fc7420ecc4ee2a09882498935b86a",
              "version_major": 2,
              "version_minor": 0
            },
            "text/plain": [
              "Generating test split:   0%|          | 0/4890 [00:00<?, ? examples/s]"
            ]
          },
          "metadata": {},
          "output_type": "display_data"
        },
        {
          "name": "stdout",
          "output_type": "stream",
          "text": [
            "Computing dataset stats (MFCC, no masks)...\n",
            "Stats \u2014 mean=-5.8153, std=47.6515\n"
          ]
        },
        {
          "name": "stderr",
          "output_type": "stream",
          "text": [
            "/tmp/ipython-input-3173560514.py:32: FutureWarning: `torch.cuda.amp.GradScaler(args...)` is deprecated. Please use `torch.amp.GradScaler('cuda', args...)` instead.\n",
            "  scaler = torch.cuda.amp.GradScaler(enabled=use_amp)\n"
          ]
        },
        {
          "data": {
            "application/vnd.jupyter.widget-view+json": {
              "model_id": "b29a1233dc174e4e93cd0efd55fc5109",
              "version_major": 2,
              "version_minor": 0
            },
            "text/plain": [
              "[d64_L8] Epoch 01:   0%|          | 0/663 [00:00<?, ?it/s]"
            ]
          },
          "metadata": {},
          "output_type": "display_data"
        },
        {
          "name": "stdout",
          "output_type": "stream",
          "text": [
            "[d64_L8] Epoch 01 \u2014 Train 3.96% (loss 3.501, F1 0.0099) | Val 3.67% (loss 3.502, F1 0.0091)\n",
            "[d64_L8] ** Saved new BEST ** (val_acc=3.67%) \u2192 checkpoints/d64_L8_best.pt\n"
          ]
        },
        {
          "data": {
            "application/vnd.jupyter.widget-view+json": {
              "model_id": "0930a89a07654ad8aedf3775a187cbd8",
              "version_major": 2,
              "version_minor": 0
            },
            "text/plain": [
              "[d64_L8] Epoch 02:   0%|          | 0/663 [00:00<?, ?it/s]"
            ]
          },
          "metadata": {},
          "output_type": "display_data"
        },
        {
          "name": "stdout",
          "output_type": "stream",
          "text": [
            "[d64_L8] Epoch 02 \u2014 Train 17.28% (loss 3.069, F1 0.0852) | Val 17.72% (loss 3.057, F1 0.0883)\n",
            "[d64_L8] ** Saved new BEST ** (val_acc=17.72%) \u2192 checkpoints/d64_L8_best.pt\n"
          ]
        },
        {
          "data": {
            "application/vnd.jupyter.widget-view+json": {
              "model_id": "149149666fc4433f9c0238a26dc57684",
              "version_major": 2,
              "version_minor": 0
            },
            "text/plain": [
              "[d64_L8] Epoch 03:   0%|          | 0/663 [00:00<?, ?it/s]"
            ]
          },
          "metadata": {},
          "output_type": "display_data"
        },
        {
          "name": "stdout",
          "output_type": "stream",
          "text": [
            "[d64_L8] Epoch 03 \u2014 Train 36.50% (loss 2.510, F1 0.2465) | Val 37.91% (loss 2.478, F1 0.2564)\n",
            "[d64_L8] ** Saved new BEST ** (val_acc=37.91%) \u2192 checkpoints/d64_L8_best.pt\n"
          ]
        },
        {
          "data": {
            "application/vnd.jupyter.widget-view+json": {
              "model_id": "112cb11ad9564bef8ef049d94632e794",
              "version_major": 2,
              "version_minor": 0
            },
            "text/plain": [
              "[d64_L8] Epoch 04:   0%|          | 0/663 [00:00<?, ?it/s]"
            ]
          },
          "metadata": {},
          "output_type": "display_data"
        },
        {
          "name": "stdout",
          "output_type": "stream",
          "text": [
            "[d64_L8] Epoch 04 \u2014 Train 52.91% (loss 1.994, F1 0.4221) | Val 54.37% (loss 1.965, F1 0.4290)\n",
            "[d64_L8] ** Saved new BEST ** (val_acc=54.37%) \u2192 checkpoints/d64_L8_best.pt\n"
          ]
        },
        {
          "data": {
            "application/vnd.jupyter.widget-view+json": {
              "model_id": "49525ad94e0648668d1b300fc57d5379",
              "version_major": 2,
              "version_minor": 0
            },
            "text/plain": [
              "[d64_L8] Epoch 05:   0%|          | 0/663 [00:00<?, ?it/s]"
            ]
          },
          "metadata": {},
          "output_type": "display_data"
        },
        {
          "name": "stdout",
          "output_type": "stream",
          "text": [
            "[d64_L8] Epoch 05 \u2014 Train 63.86% (loss 1.645, F1 0.5560) | Val 65.18% (loss 1.617, F1 0.5693)\n",
            "[d64_L8] ** Saved new BEST ** (val_acc=65.18%) \u2192 checkpoints/d64_L8_best.pt\n"
          ]
        },
        {
          "data": {
            "application/vnd.jupyter.widget-view+json": {
              "model_id": "3ca060e384a44a3d8cc576478cf069f5",
              "version_major": 2,
              "version_minor": 0
            },
            "text/plain": [
              "[d64_L8] Epoch 06:   0%|          | 0/663 [00:00<?, ?it/s]"
            ]
          },
          "metadata": {},
          "output_type": "display_data"
        },
        {
          "name": "stdout",
          "output_type": "stream",
          "text": [
            "[d64_L8] Epoch 06 \u2014 Train 73.88% (loss 1.359, F1 0.6841) | Val 75.79% (loss 1.329, F1 0.7026)\n",
            "[d64_L8] ** Saved new BEST ** (val_acc=75.79%) \u2192 checkpoints/d64_L8_best.pt\n"
          ]
        },
        {
          "data": {
            "application/vnd.jupyter.widget-view+json": {
              "model_id": "67c7dad290184332aeaf8485a44955c8",
              "version_major": 2,
              "version_minor": 0
            },
            "text/plain": [
              "[d64_L8] Epoch 07:   0%|          | 0/663 [00:00<?, ?it/s]"
            ]
          },
          "metadata": {},
          "output_type": "display_data"
        },
        {
          "name": "stdout",
          "output_type": "stream",
          "text": [
            "[d64_L8] Epoch 07 \u2014 Train 78.99% (loss 1.184, F1 0.7451) | Val 79.83% (loss 1.157, F1 0.7539)\n",
            "[d64_L8] ** Saved new BEST ** (val_acc=79.83%) \u2192 checkpoints/d64_L8_best.pt\n"
          ]
        },
        {
          "data": {
            "application/vnd.jupyter.widget-view+json": {
              "model_id": "759ced2fa2ea441f904bc4b179762d94",
              "version_major": 2,
              "version_minor": 0
            },
            "text/plain": [
              "[d64_L8] Epoch 08:   0%|          | 0/663 [00:00<?, ?it/s]"
            ]
          },
          "metadata": {},
          "output_type": "display_data"
        },
        {
          "name": "stdout",
          "output_type": "stream",
          "text": [
            "[d64_L8] Epoch 08 \u2014 Train 81.97% (loss 1.091, F1 0.7783) | Val 83.57% (loss 1.060, F1 0.7947)\n",
            "[d64_L8] ** Saved new BEST ** (val_acc=83.57%) \u2192 checkpoints/d64_L8_best.pt\n"
          ]
        },
        {
          "data": {
            "application/vnd.jupyter.widget-view+json": {
              "model_id": "52cf7d316dd8420ba6553659070640bd",
              "version_major": 2,
              "version_minor": 0
            },
            "text/plain": [
              "[d64_L8] Epoch 09:   0%|          | 0/663 [00:00<?, ?it/s]"
            ]
          },
          "metadata": {},
          "output_type": "display_data"
        },
        {
          "name": "stdout",
          "output_type": "stream",
          "text": [
            "[d64_L8] Epoch 09 \u2014 Train 85.37% (loss 0.991, F1 0.8187) | Val 86.19% (loss 0.973, F1 0.8271)\n",
            "[d64_L8] ** Saved new BEST ** (val_acc=86.19%) \u2192 checkpoints/d64_L8_best.pt\n"
          ]
        },
        {
          "data": {
            "application/vnd.jupyter.widget-view+json": {
              "model_id": "799346ae86a342f88c83639d9594b545",
              "version_major": 2,
              "version_minor": 0
            },
            "text/plain": [
              "[d64_L8] Epoch 10:   0%|          | 0/663 [00:00<?, ?it/s]"
            ]
          },
          "metadata": {},
          "output_type": "display_data"
        },
        {
          "name": "stdout",
          "output_type": "stream",
          "text": [
            "[d64_L8] Epoch 10 \u2014 Train 86.42% (loss 0.963, F1 0.8291) | Val 87.24% (loss 0.942, F1 0.8347)\n",
            "[d64_L8] ** Saved new BEST ** (val_acc=87.24%) \u2192 checkpoints/d64_L8_best.pt\n"
          ]
        },
        {
          "data": {
            "application/vnd.jupyter.widget-view+json": {
              "model_id": "5d9097c586bc4c43b57d19090a3eaf43",
              "version_major": 2,
              "version_minor": 0
            },
            "text/plain": [
              "[d64_L8] Epoch 11:   0%|          | 0/663 [00:00<?, ?it/s]"
            ]
          },
          "metadata": {},
          "output_type": "display_data"
        },
        {
          "name": "stdout",
          "output_type": "stream",
          "text": [
            "[d64_L8] Epoch 11 \u2014 Train 87.64% (loss 0.917, F1 0.8436) | Val 88.52% (loss 0.895, F1 0.8510)\n",
            "[d64_L8] ** Saved new BEST ** (val_acc=88.52%) \u2192 checkpoints/d64_L8_best.pt\n"
          ]
        },
        {
          "data": {
            "application/vnd.jupyter.widget-view+json": {
              "model_id": "75fb71ae3af64d9fbab8c01566a57856",
              "version_major": 2,
              "version_minor": 0
            },
            "text/plain": [
              "[d64_L8] Epoch 12:   0%|          | 0/663 [00:00<?, ?it/s]"
            ]
          },
          "metadata": {},
          "output_type": "display_data"
        },
        {
          "name": "stdout",
          "output_type": "stream",
          "text": [
            "[d64_L8] Epoch 12 \u2014 Train 89.79% (loss 0.854, F1 0.8654) | Val 90.04% (loss 0.851, F1 0.8670)\n",
            "[d64_L8] ** Saved new BEST ** (val_acc=90.04%) \u2192 checkpoints/d64_L8_best.pt\n"
          ]
        },
        {
          "data": {
            "application/vnd.jupyter.widget-view+json": {
              "model_id": "35c05d2d74544dd69b836d75810f10ac",
              "version_major": 2,
              "version_minor": 0
            },
            "text/plain": [
              "[d64_L8] Epoch 13:   0%|          | 0/663 [00:00<?, ?it/s]"
            ]
          },
          "metadata": {},
          "output_type": "display_data"
        },
        {
          "name": "stdout",
          "output_type": "stream",
          "text": [
            "[d64_L8] Epoch 13 \u2014 Train 90.46% (loss 0.830, F1 0.8727) | Val 90.98% (loss 0.814, F1 0.8753)\n",
            "[d64_L8] ** Saved new BEST ** (val_acc=90.98%) \u2192 checkpoints/d64_L8_best.pt\n"
          ]
        },
        {
          "data": {
            "application/vnd.jupyter.widget-view+json": {
              "model_id": "01cda5aa38954a3e82196e958b4e63f7",
              "version_major": 2,
              "version_minor": 0
            },
            "text/plain": [
              "[d64_L8] Epoch 14:   0%|          | 0/663 [00:00<?, ?it/s]"
            ]
          },
          "metadata": {},
          "output_type": "display_data"
        },
        {
          "name": "stdout",
          "output_type": "stream",
          "text": [
            "[d64_L8] Epoch 14 \u2014 Train 91.28% (loss 0.806, F1 0.8820) | Val 91.45% (loss 0.803, F1 0.8804)\n",
            "[d64_L8] ** Saved new BEST ** (val_acc=91.45%) \u2192 checkpoints/d64_L8_best.pt\n"
          ]
        },
        {
          "data": {
            "application/vnd.jupyter.widget-view+json": {
              "model_id": "bbc0fd42f7d74ffda18ea91ae7b49c14",
              "version_major": 2,
              "version_minor": 0
            },
            "text/plain": [
              "[d64_L8] Epoch 15:   0%|          | 0/663 [00:00<?, ?it/s]"
            ]
          },
          "metadata": {},
          "output_type": "display_data"
        },
        {
          "name": "stdout",
          "output_type": "stream",
          "text": [
            "[d64_L8] Epoch 15 \u2014 Train 92.01% (loss 0.785, F1 0.8891) | Val 92.20% (loss 0.781, F1 0.8885)\n",
            "[d64_L8] ** Saved new BEST ** (val_acc=92.20%) \u2192 checkpoints/d64_L8_best.pt\n"
          ]
        },
        {
          "data": {
            "application/vnd.jupyter.widget-view+json": {
              "model_id": "b07c9f958bae40b282b46f1341bda1d0",
              "version_major": 2,
              "version_minor": 0
            },
            "text/plain": [
              "[d64_L8] Epoch 16:   0%|          | 0/663 [00:00<?, ?it/s]"
            ]
          },
          "metadata": {},
          "output_type": "display_data"
        },
        {
          "name": "stdout",
          "output_type": "stream",
          "text": [
            "[d64_L8] Epoch 16 \u2014 Train 92.29% (loss 0.770, F1 0.8917) | Val 92.64% (loss 0.765, F1 0.8928)\n",
            "[d64_L8] ** Saved new BEST ** (val_acc=92.64%) \u2192 checkpoints/d64_L8_best.pt\n"
          ]
        },
        {
          "data": {
            "application/vnd.jupyter.widget-view+json": {
              "model_id": "5ea3f7dc337c4ea2970b3315f1a928cb",
              "version_major": 2,
              "version_minor": 0
            },
            "text/plain": [
              "[d64_L8] Epoch 17:   0%|          | 0/663 [00:00<?, ?it/s]"
            ]
          },
          "metadata": {},
          "output_type": "display_data"
        },
        {
          "name": "stdout",
          "output_type": "stream",
          "text": [
            "[d64_L8] Epoch 17 \u2014 Train 92.86% (loss 0.751, F1 0.8987) | Val 92.87% (loss 0.749, F1 0.8970)\n",
            "[d64_L8] ** Saved new BEST ** (val_acc=92.87%) \u2192 checkpoints/d64_L8_best.pt\n"
          ]
        },
        {
          "data": {
            "application/vnd.jupyter.widget-view+json": {
              "model_id": "fbc2a30946d04ca7b547e3831e7df704",
              "version_major": 2,
              "version_minor": 0
            },
            "text/plain": [
              "[d64_L8] Epoch 18:   0%|          | 0/663 [00:00<?, ?it/s]"
            ]
          },
          "metadata": {},
          "output_type": "display_data"
        },
        {
          "name": "stdout",
          "output_type": "stream",
          "text": [
            "[d64_L8] Epoch 18 \u2014 Train 92.88% (loss 0.747, F1 0.8990) | Val 92.87% (loss 0.748, F1 0.8982)\n"
          ]
        },
        {
          "data": {
            "application/vnd.jupyter.widget-view+json": {
              "model_id": "c6c1cd863a914c228f5ba370e52ac2af",
              "version_major": 2,
              "version_minor": 0
            },
            "text/plain": [
              "[d64_L8] Epoch 19:   0%|          | 0/663 [00:00<?, ?it/s]"
            ]
          },
          "metadata": {},
          "output_type": "display_data"
        },
        {
          "name": "stdout",
          "output_type": "stream",
          "text": [
            "[d64_L8] Epoch 19 \u2014 Train 93.36% (loss 0.731, F1 0.9022) | Val 93.21% (loss 0.730, F1 0.8982)\n",
            "[d64_L8] ** Saved new BEST ** (val_acc=93.21%) \u2192 checkpoints/d64_L8_best.pt\n"
          ]
        },
        {
          "data": {
            "application/vnd.jupyter.widget-view+json": {
              "model_id": "6157006bf6b44587b619d163d554ab58",
              "version_major": 2,
              "version_minor": 0
            },
            "text/plain": [
              "[d64_L8] Epoch 20:   0%|          | 0/663 [00:00<?, ?it/s]"
            ]
          },
          "metadata": {},
          "output_type": "display_data"
        },
        {
          "name": "stdout",
          "output_type": "stream",
          "text": [
            "[d64_L8] Epoch 20 \u2014 Train 93.44% (loss 0.729, F1 0.9036) | Val 93.43% (loss 0.730, F1 0.9029)\n",
            "[d64_L8] ** Saved new BEST ** (val_acc=93.43%) \u2192 checkpoints/d64_L8_best.pt\n"
          ]
        },
        {
          "data": {
            "application/vnd.jupyter.widget-view+json": {
              "model_id": "b12c9834558b47e2998618cf8a7f92f7",
              "version_major": 2,
              "version_minor": 0
            },
            "text/plain": [
              "[d64_L8] Epoch 21:   0%|          | 0/663 [00:00<?, ?it/s]"
            ]
          },
          "metadata": {},
          "output_type": "display_data"
        },
        {
          "name": "stdout",
          "output_type": "stream",
          "text": [
            "[d64_L8] Epoch 21 \u2014 Train 93.99% (loss 0.712, F1 0.9099) | Val 93.45% (loss 0.722, F1 0.9051)\n",
            "[d64_L8] ** Saved new BEST ** (val_acc=93.45%) \u2192 checkpoints/d64_L8_best.pt\n"
          ]
        },
        {
          "data": {
            "application/vnd.jupyter.widget-view+json": {
              "model_id": "e766966f59024b01b6abaa2077c419a8",
              "version_major": 2,
              "version_minor": 0
            },
            "text/plain": [
              "[d64_L8] Epoch 22:   0%|          | 0/663 [00:00<?, ?it/s]"
            ]
          },
          "metadata": {},
          "output_type": "display_data"
        },
        {
          "name": "stdout",
          "output_type": "stream",
          "text": [
            "[d64_L8] Epoch 22 \u2014 Train 94.22% (loss 0.704, F1 0.9122) | Val 94.04% (loss 0.708, F1 0.9097)\n",
            "[d64_L8] ** Saved new BEST ** (val_acc=94.04%) \u2192 checkpoints/d64_L8_best.pt\n"
          ]
        },
        {
          "data": {
            "application/vnd.jupyter.widget-view+json": {
              "model_id": "ad720d9833174368bba984ae2c18a105",
              "version_major": 2,
              "version_minor": 0
            },
            "text/plain": [
              "[d64_L8] Epoch 23:   0%|          | 0/663 [00:00<?, ?it/s]"
            ]
          },
          "metadata": {},
          "output_type": "display_data"
        },
        {
          "name": "stdout",
          "output_type": "stream",
          "text": [
            "[d64_L8] Epoch 23 \u2014 Train 94.03% (loss 0.707, F1 0.9112) | Val 94.03% (loss 0.711, F1 0.9105)\n"
          ]
        },
        {
          "data": {
            "application/vnd.jupyter.widget-view+json": {
              "model_id": "229fccc90fa54474b2d81c75b86df861",
              "version_major": 2,
              "version_minor": 0
            },
            "text/plain": [
              "[d64_L8] Epoch 24:   0%|          | 0/663 [00:00<?, ?it/s]"
            ]
          },
          "metadata": {},
          "output_type": "display_data"
        },
        {
          "name": "stdout",
          "output_type": "stream",
          "text": [
            "[d64_L8] Epoch 24 \u2014 Train 94.55% (loss 0.689, F1 0.9162) | Val 94.63% (loss 0.688, F1 0.9164)\n",
            "[d64_L8] ** Saved new BEST ** (val_acc=94.63%) \u2192 checkpoints/d64_L8_best.pt\n"
          ]
        },
        {
          "data": {
            "application/vnd.jupyter.widget-view+json": {
              "model_id": "1d2a27412937444ab05ce492f89d118e",
              "version_major": 2,
              "version_minor": 0
            },
            "text/plain": [
              "[d64_L8] Epoch 25:   0%|          | 0/663 [00:00<?, ?it/s]"
            ]
          },
          "metadata": {},
          "output_type": "display_data"
        },
        {
          "name": "stdout",
          "output_type": "stream",
          "text": [
            "[d64_L8] Epoch 25 \u2014 Train 94.54% (loss 0.687, F1 0.9148) | Val 94.39% (loss 0.693, F1 0.9145)\n"
          ]
        },
        {
          "data": {
            "application/vnd.jupyter.widget-view+json": {
              "model_id": "f8c77b05dccc482fa770800539c5ab4b",
              "version_major": 2,
              "version_minor": 0
            },
            "text/plain": [
              "[d64_L8] Epoch 26:   0%|          | 0/663 [00:00<?, ?it/s]"
            ]
          },
          "metadata": {},
          "output_type": "display_data"
        },
        {
          "name": "stdout",
          "output_type": "stream",
          "text": [
            "[d64_L8] Epoch 26 \u2014 Train 94.85% (loss 0.679, F1 0.9181) | Val 94.65% (loss 0.686, F1 0.9170)\n",
            "[d64_L8] ** Saved new BEST ** (val_acc=94.65%) \u2192 checkpoints/d64_L8_best.pt\n"
          ]
        },
        {
          "data": {
            "application/vnd.jupyter.widget-view+json": {
              "model_id": "5b52b9aee85e4df6bc51568a7eef0736",
              "version_major": 2,
              "version_minor": 0
            },
            "text/plain": [
              "[d64_L8] Epoch 27:   0%|          | 0/663 [00:00<?, ?it/s]"
            ]
          },
          "metadata": {},
          "output_type": "display_data"
        },
        {
          "name": "stdout",
          "output_type": "stream",
          "text": [
            "[d64_L8] Epoch 27 \u2014 Train 95.09% (loss 0.671, F1 0.9219) | Val 94.83% (loss 0.680, F1 0.9187)\n",
            "[d64_L8] ** Saved new BEST ** (val_acc=94.83%) \u2192 checkpoints/d64_L8_best.pt\n"
          ]
        },
        {
          "data": {
            "application/vnd.jupyter.widget-view+json": {
              "model_id": "a228cbbdbf894351a6e447b108a754cf",
              "version_major": 2,
              "version_minor": 0
            },
            "text/plain": [
              "[d64_L8] Epoch 28:   0%|          | 0/663 [00:00<?, ?it/s]"
            ]
          },
          "metadata": {},
          "output_type": "display_data"
        },
        {
          "name": "stdout",
          "output_type": "stream",
          "text": [
            "[d64_L8] Epoch 28 \u2014 Train 95.05% (loss 0.672, F1 0.9209) | Val 94.64% (loss 0.681, F1 0.9156)\n"
          ]
        },
        {
          "data": {
            "application/vnd.jupyter.widget-view+json": {
              "model_id": "e34427113cb441b5a25a44baa381e757",
              "version_major": 2,
              "version_minor": 0
            },
            "text/plain": [
              "[d64_L8] Epoch 29:   0%|          | 0/663 [00:00<?, ?it/s]"
            ]
          },
          "metadata": {},
          "output_type": "display_data"
        },
        {
          "name": "stdout",
          "output_type": "stream",
          "text": [
            "[d64_L8] Epoch 29 \u2014 Train 95.18% (loss 0.668, F1 0.9219) | Val 94.81% (loss 0.680, F1 0.9171)\n"
          ]
        },
        {
          "data": {
            "application/vnd.jupyter.widget-view+json": {
              "model_id": "a09cd4a2fc4f42fd8b8bff26e0203b4e",
              "version_major": 2,
              "version_minor": 0
            },
            "text/plain": [
              "[d64_L8] Epoch 30:   0%|          | 0/663 [00:00<?, ?it/s]"
            ]
          },
          "metadata": {},
          "output_type": "display_data"
        },
        {
          "name": "stdout",
          "output_type": "stream",
          "text": [
            "[d64_L8] Epoch 30 \u2014 Train 95.20% (loss 0.665, F1 0.9228) | Val 94.77% (loss 0.679, F1 0.9191)\n"
          ]
        },
        {
          "data": {
            "application/vnd.jupyter.widget-view+json": {
              "model_id": "08f0bca2c6084f11bc13166df93c1eb1",
              "version_major": 2,
              "version_minor": 0
            },
            "text/plain": [
              "[d64_L8] Epoch 31:   0%|          | 0/663 [00:00<?, ?it/s]"
            ]
          },
          "metadata": {},
          "output_type": "display_data"
        },
        {
          "name": "stdout",
          "output_type": "stream",
          "text": [
            "[d64_L8] Epoch 31 \u2014 Train 95.43% (loss 0.657, F1 0.9245) | Val 95.01% (loss 0.672, F1 0.9199)\n",
            "[d64_L8] ** Saved new BEST ** (val_acc=95.01%) \u2192 checkpoints/d64_L8_best.pt\n"
          ]
        },
        {
          "data": {
            "application/vnd.jupyter.widget-view+json": {
              "model_id": "cae63fd29e82475aa1dffaa3278e0781",
              "version_major": 2,
              "version_minor": 0
            },
            "text/plain": [
              "[d64_L8] Epoch 32:   0%|          | 0/663 [00:00<?, ?it/s]"
            ]
          },
          "metadata": {},
          "output_type": "display_data"
        },
        {
          "name": "stdout",
          "output_type": "stream",
          "text": [
            "[d64_L8] Epoch 32 \u2014 Train 95.41% (loss 0.656, F1 0.9238) | Val 94.98% (loss 0.669, F1 0.9198)\n"
          ]
        },
        {
          "data": {
            "application/vnd.jupyter.widget-view+json": {
              "model_id": "4bc77c9a842b49389db8ab5259a60335",
              "version_major": 2,
              "version_minor": 0
            },
            "text/plain": [
              "[d64_L8] Epoch 33:   0%|          | 0/663 [00:00<?, ?it/s]"
            ]
          },
          "metadata": {},
          "output_type": "display_data"
        },
        {
          "name": "stdout",
          "output_type": "stream",
          "text": [
            "[d64_L8] Epoch 33 \u2014 Train 95.67% (loss 0.652, F1 0.9267) | Val 95.13% (loss 0.672, F1 0.9219)\n",
            "[d64_L8] ** Saved new BEST ** (val_acc=95.13%) \u2192 checkpoints/d64_L8_best.pt\n"
          ]
        },
        {
          "data": {
            "application/vnd.jupyter.widget-view+json": {
              "model_id": "ebcde1bdfe3449f48abad344e3d3e7af",
              "version_major": 2,
              "version_minor": 0
            },
            "text/plain": [
              "[d64_L8] Epoch 34:   0%|          | 0/663 [00:00<?, ?it/s]"
            ]
          },
          "metadata": {},
          "output_type": "display_data"
        },
        {
          "name": "stdout",
          "output_type": "stream",
          "text": [
            "[d64_L8] Epoch 34 \u2014 Train 95.70% (loss 0.648, F1 0.9266) | Val 94.92% (loss 0.669, F1 0.9192)\n"
          ]
        },
        {
          "data": {
            "application/vnd.jupyter.widget-view+json": {
              "model_id": "f2af4748f76f4ffea56f8bf09f487211",
              "version_major": 2,
              "version_minor": 0
            },
            "text/plain": [
              "[d64_L8] Epoch 35:   0%|          | 0/663 [00:00<?, ?it/s]"
            ]
          },
          "metadata": {},
          "output_type": "display_data"
        },
        {
          "name": "stdout",
          "output_type": "stream",
          "text": [
            "[d64_L8] Epoch 35 \u2014 Train 95.72% (loss 0.646, F1 0.9272) | Val 94.78% (loss 0.671, F1 0.9174)\n"
          ]
        },
        {
          "data": {
            "application/vnd.jupyter.widget-view+json": {
              "model_id": "ba3440609de44ab3886ff296748e7418",
              "version_major": 2,
              "version_minor": 0
            },
            "text/plain": [
              "[d64_L8] Epoch 36:   0%|          | 0/663 [00:00<?, ?it/s]"
            ]
          },
          "metadata": {},
          "output_type": "display_data"
        },
        {
          "name": "stdout",
          "output_type": "stream",
          "text": [
            "[d64_L8] Epoch 36 \u2014 Train 95.49% (loss 0.651, F1 0.9253) | Val 94.85% (loss 0.671, F1 0.9188)\n"
          ]
        },
        {
          "data": {
            "application/vnd.jupyter.widget-view+json": {
              "model_id": "da3f2e82be434c47aeca43cbd9bd0c7b",
              "version_major": 2,
              "version_minor": 0
            },
            "text/plain": [
              "[d64_L8] Epoch 37:   0%|          | 0/663 [00:00<?, ?it/s]"
            ]
          },
          "metadata": {},
          "output_type": "display_data"
        },
        {
          "name": "stdout",
          "output_type": "stream",
          "text": [
            "[d64_L8] Epoch 37 \u2014 Train 95.82% (loss 0.643, F1 0.9282) | Val 94.77% (loss 0.670, F1 0.9178)\n"
          ]
        },
        {
          "data": {
            "application/vnd.jupyter.widget-view+json": {
              "model_id": "d9deccde5cc14a59bbecf50560ff27f8",
              "version_major": 2,
              "version_minor": 0
            },
            "text/plain": [
              "[d64_L8] Epoch 38:   0%|          | 0/663 [00:00<?, ?it/s]"
            ]
          },
          "metadata": {},
          "output_type": "display_data"
        },
        {
          "name": "stdout",
          "output_type": "stream",
          "text": [
            "[d64_L8] Epoch 38 \u2014 Train 96.00% (loss 0.636, F1 0.9300) | Val 95.30% (loss 0.656, F1 0.9219)\n",
            "[d64_L8] ** Saved new BEST ** (val_acc=95.30%) \u2192 checkpoints/d64_L8_best.pt\n"
          ]
        },
        {
          "data": {
            "application/vnd.jupyter.widget-view+json": {
              "model_id": "70465e62b67d4375853c60cad9d50029",
              "version_major": 2,
              "version_minor": 0
            },
            "text/plain": [
              "[d64_L8] Epoch 39:   0%|          | 0/663 [00:00<?, ?it/s]"
            ]
          },
          "metadata": {},
          "output_type": "display_data"
        },
        {
          "name": "stdout",
          "output_type": "stream",
          "text": [
            "[d64_L8] Epoch 39 \u2014 Train 96.00% (loss 0.637, F1 0.9306) | Val 95.40% (loss 0.660, F1 0.9239)\n",
            "[d64_L8] ** Saved new BEST ** (val_acc=95.40%) \u2192 checkpoints/d64_L8_best.pt\n"
          ]
        },
        {
          "data": {
            "application/vnd.jupyter.widget-view+json": {
              "model_id": "38cdcd7468884de684e4f5e1ea412ee8",
              "version_major": 2,
              "version_minor": 0
            },
            "text/plain": [
              "[d64_L8] Epoch 40:   0%|          | 0/663 [00:00<?, ?it/s]"
            ]
          },
          "metadata": {},
          "output_type": "display_data"
        },
        {
          "name": "stdout",
          "output_type": "stream",
          "text": [
            "[d64_L8] Epoch 40 \u2014 Train 96.24% (loss 0.631, F1 0.9332) | Val 95.17% (loss 0.659, F1 0.9216)\n"
          ]
        },
        {
          "data": {
            "application/vnd.jupyter.widget-view+json": {
              "model_id": "7feb351213ec466a8e1159d573e55954",
              "version_major": 2,
              "version_minor": 0
            },
            "text/plain": [
              "[d64_L8] Epoch 41:   0%|          | 0/663 [00:00<?, ?it/s]"
            ]
          },
          "metadata": {},
          "output_type": "display_data"
        },
        {
          "name": "stdout",
          "output_type": "stream",
          "text": [
            "[d64_L8] Epoch 41 \u2014 Train 96.12% (loss 0.634, F1 0.9317) | Val 95.18% (loss 0.660, F1 0.9226)\n"
          ]
        },
        {
          "data": {
            "application/vnd.jupyter.widget-view+json": {
              "model_id": "664ee3aa621b4f49965a50371363173b",
              "version_major": 2,
              "version_minor": 0
            },
            "text/plain": [
              "[d64_L8] Epoch 42:   0%|          | 0/663 [00:00<?, ?it/s]"
            ]
          },
          "metadata": {},
          "output_type": "display_data"
        },
        {
          "name": "stdout",
          "output_type": "stream",
          "text": [
            "[d64_L8] Epoch 42 \u2014 Train 96.27% (loss 0.628, F1 0.9332) | Val 95.32% (loss 0.654, F1 0.9240)\n"
          ]
        },
        {
          "data": {
            "application/vnd.jupyter.widget-view+json": {
              "model_id": "2e40908232a7483d93c1fd249e38e145",
              "version_major": 2,
              "version_minor": 0
            },
            "text/plain": [
              "[d64_L8] Epoch 43:   0%|          | 0/663 [00:00<?, ?it/s]"
            ]
          },
          "metadata": {},
          "output_type": "display_data"
        },
        {
          "name": "stdout",
          "output_type": "stream",
          "text": [
            "[d64_L8] Epoch 43 \u2014 Train 96.28% (loss 0.627, F1 0.9335) | Val 95.27% (loss 0.656, F1 0.9228)\n"
          ]
        },
        {
          "data": {
            "application/vnd.jupyter.widget-view+json": {
              "model_id": "3202be7b19b24598a3074263ebe94c86",
              "version_major": 2,
              "version_minor": 0
            },
            "text/plain": [
              "[d64_L8] Epoch 44:   0%|          | 0/663 [00:00<?, ?it/s]"
            ]
          },
          "metadata": {},
          "output_type": "display_data"
        },
        {
          "name": "stdout",
          "output_type": "stream",
          "text": [
            "[d64_L8] Epoch 44 \u2014 Train 96.39% (loss 0.624, F1 0.9348) | Val 95.49% (loss 0.649, F1 0.9254)\n",
            "[d64_L8] ** Saved new BEST ** (val_acc=95.49%) \u2192 checkpoints/d64_L8_best.pt\n"
          ]
        },
        {
          "data": {
            "application/vnd.jupyter.widget-view+json": {
              "model_id": "52e0aea06a814de98f1dea8230bebf9f",
              "version_major": 2,
              "version_minor": 0
            },
            "text/plain": [
              "[d64_L8] Epoch 45:   0%|          | 0/663 [00:00<?, ?it/s]"
            ]
          },
          "metadata": {},
          "output_type": "display_data"
        },
        {
          "name": "stdout",
          "output_type": "stream",
          "text": [
            "[d64_L8] Epoch 45 \u2014 Train 96.26% (loss 0.627, F1 0.9327) | Val 95.46% (loss 0.654, F1 0.9245)\n"
          ]
        },
        {
          "data": {
            "application/vnd.jupyter.widget-view+json": {
              "model_id": "12551c3f57ec44f6a627a158244aae52",
              "version_major": 2,
              "version_minor": 0
            },
            "text/plain": [
              "[d64_L8] Epoch 46:   0%|          | 0/663 [00:00<?, ?it/s]"
            ]
          },
          "metadata": {},
          "output_type": "display_data"
        },
        {
          "name": "stdout",
          "output_type": "stream",
          "text": [
            "[d64_L8] Epoch 46 \u2014 Train 96.53% (loss 0.619, F1 0.9358) | Val 95.51% (loss 0.648, F1 0.9249)\n",
            "[d64_L8] ** Saved new BEST ** (val_acc=95.51%) \u2192 checkpoints/d64_L8_best.pt\n"
          ]
        },
        {
          "data": {
            "application/vnd.jupyter.widget-view+json": {
              "model_id": "8a45862382954178ab3500181d143c09",
              "version_major": 2,
              "version_minor": 0
            },
            "text/plain": [
              "[d64_L8] Epoch 47:   0%|          | 0/663 [00:00<?, ?it/s]"
            ]
          },
          "metadata": {},
          "output_type": "display_data"
        },
        {
          "name": "stdout",
          "output_type": "stream",
          "text": [
            "[d64_L8] Epoch 47 \u2014 Train 96.50% (loss 0.619, F1 0.9356) | Val 95.54% (loss 0.646, F1 0.9260)\n",
            "[d64_L8] ** Saved new BEST ** (val_acc=95.54%) \u2192 checkpoints/d64_L8_best.pt\n"
          ]
        },
        {
          "data": {
            "application/vnd.jupyter.widget-view+json": {
              "model_id": "59f7e69e2fc8468585a0e6da0107d699",
              "version_major": 2,
              "version_minor": 0
            },
            "text/plain": [
              "[d64_L8] Epoch 48:   0%|          | 0/663 [00:00<?, ?it/s]"
            ]
          },
          "metadata": {},
          "output_type": "display_data"
        },
        {
          "name": "stdout",
          "output_type": "stream",
          "text": [
            "[d64_L8] Epoch 48 \u2014 Train 96.46% (loss 0.620, F1 0.9357) | Val 95.22% (loss 0.652, F1 0.9231)\n"
          ]
        },
        {
          "data": {
            "application/vnd.jupyter.widget-view+json": {
              "model_id": "81b048e1d084468296a7ff990704a0a0",
              "version_major": 2,
              "version_minor": 0
            },
            "text/plain": [
              "[d64_L8] Epoch 49:   0%|          | 0/663 [00:00<?, ?it/s]"
            ]
          },
          "metadata": {},
          "output_type": "display_data"
        },
        {
          "name": "stdout",
          "output_type": "stream",
          "text": [
            "[d64_L8] Epoch 49 \u2014 Train 96.72% (loss 0.612, F1 0.9376) | Val 95.67% (loss 0.642, F1 0.9266)\n",
            "[d64_L8] ** Saved new BEST ** (val_acc=95.67%) \u2192 checkpoints/d64_L8_best.pt\n"
          ]
        },
        {
          "data": {
            "application/vnd.jupyter.widget-view+json": {
              "model_id": "3bde4b2bbc924c42ae57157abe48f236",
              "version_major": 2,
              "version_minor": 0
            },
            "text/plain": [
              "[d64_L8] Epoch 50:   0%|          | 0/663 [00:00<?, ?it/s]"
            ]
          },
          "metadata": {},
          "output_type": "display_data"
        },
        {
          "name": "stdout",
          "output_type": "stream",
          "text": [
            "[d64_L8] Epoch 50 \u2014 Train 96.61% (loss 0.616, F1 0.9366) | Val 95.38% (loss 0.649, F1 0.9238)\n"
          ]
        },
        {
          "data": {
            "application/vnd.jupyter.widget-view+json": {
              "model_id": "bfd143aa4a6a474e8b54547c775ba149",
              "version_major": 2,
              "version_minor": 0
            },
            "text/plain": [
              "[d64_L8] Epoch 51:   0%|          | 0/663 [00:00<?, ?it/s]"
            ]
          },
          "metadata": {},
          "output_type": "display_data"
        },
        {
          "name": "stdout",
          "output_type": "stream",
          "text": [
            "[d64_L8] Epoch 51 \u2014 Train 96.67% (loss 0.611, F1 0.9372) | Val 95.45% (loss 0.645, F1 0.9238)\n"
          ]
        },
        {
          "data": {
            "application/vnd.jupyter.widget-view+json": {
              "model_id": "59c737456bf747e3a1ef21a3ae478992",
              "version_major": 2,
              "version_minor": 0
            },
            "text/plain": [
              "[d64_L8] Epoch 52:   0%|          | 0/663 [00:00<?, ?it/s]"
            ]
          },
          "metadata": {},
          "output_type": "display_data"
        },
        {
          "name": "stdout",
          "output_type": "stream",
          "text": [
            "[d64_L8] Epoch 52 \u2014 Train 96.72% (loss 0.613, F1 0.9378) | Val 95.52% (loss 0.645, F1 0.9246)\n"
          ]
        },
        {
          "data": {
            "application/vnd.jupyter.widget-view+json": {
              "model_id": "fab1d46913f24bb296fa9576895bdd41",
              "version_major": 2,
              "version_minor": 0
            },
            "text/plain": [
              "[d64_L8] Epoch 53:   0%|          | 0/663 [00:00<?, ?it/s]"
            ]
          },
          "metadata": {},
          "output_type": "display_data"
        },
        {
          "name": "stdout",
          "output_type": "stream",
          "text": [
            "[d64_L8] Epoch 53 \u2014 Train 96.82% (loss 0.609, F1 0.9388) | Val 95.33% (loss 0.650, F1 0.9223)\n"
          ]
        },
        {
          "data": {
            "application/vnd.jupyter.widget-view+json": {
              "model_id": "4407b0725bb849958e35c678c4fa57de",
              "version_major": 2,
              "version_minor": 0
            },
            "text/plain": [
              "[d64_L8] Epoch 54:   0%|          | 0/663 [00:00<?, ?it/s]"
            ]
          },
          "metadata": {},
          "output_type": "display_data"
        },
        {
          "name": "stdout",
          "output_type": "stream",
          "text": [
            "[d64_L8] Epoch 54 \u2014 Train 96.79% (loss 0.607, F1 0.9387) | Val 95.47% (loss 0.646, F1 0.9240)\n"
          ]
        },
        {
          "data": {
            "application/vnd.jupyter.widget-view+json": {
              "model_id": "83f52f4fd7fa4349b18b711877e627b0",
              "version_major": 2,
              "version_minor": 0
            },
            "text/plain": [
              "[d64_L8] Epoch 55:   0%|          | 0/663 [00:00<?, ?it/s]"
            ]
          },
          "metadata": {},
          "output_type": "display_data"
        },
        {
          "name": "stdout",
          "output_type": "stream",
          "text": [
            "[d64_L8] Epoch 55 \u2014 Train 96.93% (loss 0.605, F1 0.9400) | Val 95.66% (loss 0.643, F1 0.9271)\n"
          ]
        },
        {
          "data": {
            "application/vnd.jupyter.widget-view+json": {
              "model_id": "52e4b379161047ca81e17de0b28bf7d8",
              "version_major": 2,
              "version_minor": 0
            },
            "text/plain": [
              "[d64_L8] Epoch 56:   0%|          | 0/663 [00:00<?, ?it/s]"
            ]
          },
          "metadata": {},
          "output_type": "display_data"
        },
        {
          "name": "stdout",
          "output_type": "stream",
          "text": [
            "[d64_L8] Epoch 56 \u2014 Train 96.98% (loss 0.602, F1 0.9407) | Val 95.67% (loss 0.640, F1 0.9270)\n"
          ]
        },
        {
          "data": {
            "application/vnd.jupyter.widget-view+json": {
              "model_id": "f4bccd0bbef543d1959d2af8c45f615b",
              "version_major": 2,
              "version_minor": 0
            },
            "text/plain": [
              "[d64_L8] Epoch 57:   0%|          | 0/663 [00:00<?, ?it/s]"
            ]
          },
          "metadata": {},
          "output_type": "display_data"
        },
        {
          "name": "stdout",
          "output_type": "stream",
          "text": [
            "[d64_L8] Epoch 57 \u2014 Train 96.99% (loss 0.603, F1 0.9403) | Val 95.62% (loss 0.640, F1 0.9261)\n"
          ]
        },
        {
          "data": {
            "application/vnd.jupyter.widget-view+json": {
              "model_id": "df497bb4357642e4b7c50542aa57354f",
              "version_major": 2,
              "version_minor": 0
            },
            "text/plain": [
              "[d64_L8] Epoch 58:   0%|          | 0/663 [00:00<?, ?it/s]"
            ]
          },
          "metadata": {},
          "output_type": "display_data"
        },
        {
          "name": "stdout",
          "output_type": "stream",
          "text": [
            "[d64_L8] Epoch 58 \u2014 Train 96.99% (loss 0.602, F1 0.9407) | Val 95.60% (loss 0.643, F1 0.9261)\n"
          ]
        },
        {
          "data": {
            "application/vnd.jupyter.widget-view+json": {
              "model_id": "cdeef5726e9d4c04a03b2fd99d558370",
              "version_major": 2,
              "version_minor": 0
            },
            "text/plain": [
              "[d64_L8] Epoch 59:   0%|          | 0/663 [00:00<?, ?it/s]"
            ]
          },
          "metadata": {},
          "output_type": "display_data"
        },
        {
          "name": "stdout",
          "output_type": "stream",
          "text": [
            "[d64_L8] Epoch 59 \u2014 Train 97.09% (loss 0.599, F1 0.9418) | Val 95.72% (loss 0.635, F1 0.9274)\n",
            "[d64_L8] ** Saved new BEST ** (val_acc=95.72%) \u2192 checkpoints/d64_L8_best.pt\n"
          ]
        },
        {
          "data": {
            "application/vnd.jupyter.widget-view+json": {
              "model_id": "1297eba3f5a3413189fdcd7f0e9e951f",
              "version_major": 2,
              "version_minor": 0
            },
            "text/plain": [
              "[d64_L8] Epoch 60:   0%|          | 0/663 [00:00<?, ?it/s]"
            ]
          },
          "metadata": {},
          "output_type": "display_data"
        },
        {
          "name": "stdout",
          "output_type": "stream",
          "text": [
            "[d64_L8] Epoch 60 \u2014 Train 97.09% (loss 0.599, F1 0.9419) | Val 95.77% (loss 0.641, F1 0.9283)\n",
            "[d64_L8] ** Saved new BEST ** (val_acc=95.77%) \u2192 checkpoints/d64_L8_best.pt\n"
          ]
        },
        {
          "data": {
            "application/vnd.jupyter.widget-view+json": {
              "model_id": "8a42ddf406fe4135b2d51c5d22324591",
              "version_major": 2,
              "version_minor": 0
            },
            "text/plain": [
              "[d64_L8] Epoch 61:   0%|          | 0/663 [00:00<?, ?it/s]"
            ]
          },
          "metadata": {},
          "output_type": "display_data"
        },
        {
          "name": "stdout",
          "output_type": "stream",
          "text": [
            "[d64_L8] Epoch 61 \u2014 Train 97.16% (loss 0.596, F1 0.9425) | Val 95.85% (loss 0.636, F1 0.9283)\n",
            "[d64_L8] ** Saved new BEST ** (val_acc=95.85%) \u2192 checkpoints/d64_L8_best.pt\n"
          ]
        },
        {
          "data": {
            "application/vnd.jupyter.widget-view+json": {
              "model_id": "00b2e50703514521b0013f584c9be3ea",
              "version_major": 2,
              "version_minor": 0
            },
            "text/plain": [
              "[d64_L8] Epoch 62:   0%|          | 0/663 [00:00<?, ?it/s]"
            ]
          },
          "metadata": {},
          "output_type": "display_data"
        },
        {
          "name": "stdout",
          "output_type": "stream",
          "text": [
            "[d64_L8] Epoch 62 \u2014 Train 97.07% (loss 0.598, F1 0.9414) | Val 95.70% (loss 0.637, F1 0.9273)\n"
          ]
        },
        {
          "data": {
            "application/vnd.jupyter.widget-view+json": {
              "model_id": "0fd595c4b6694d35851ac627a6c62124",
              "version_major": 2,
              "version_minor": 0
            },
            "text/plain": [
              "[d64_L8] Epoch 63:   0%|          | 0/663 [00:00<?, ?it/s]"
            ]
          },
          "metadata": {},
          "output_type": "display_data"
        },
        {
          "name": "stdout",
          "output_type": "stream",
          "text": [
            "[d64_L8] Epoch 63 \u2014 Train 97.27% (loss 0.594, F1 0.9433) | Val 95.95% (loss 0.634, F1 0.9297)\n",
            "[d64_L8] ** Saved new BEST ** (val_acc=95.95%) \u2192 checkpoints/d64_L8_best.pt\n"
          ]
        },
        {
          "data": {
            "application/vnd.jupyter.widget-view+json": {
              "model_id": "531f91d00207438f8d17cca3d7378624",
              "version_major": 2,
              "version_minor": 0
            },
            "text/plain": [
              "[d64_L8] Epoch 64:   0%|          | 0/663 [00:00<?, ?it/s]"
            ]
          },
          "metadata": {},
          "output_type": "display_data"
        },
        {
          "name": "stdout",
          "output_type": "stream",
          "text": [
            "[d64_L8] Epoch 64 \u2014 Train 97.24% (loss 0.594, F1 0.9437) | Val 95.67% (loss 0.638, F1 0.9269)\n"
          ]
        },
        {
          "data": {
            "application/vnd.jupyter.widget-view+json": {
              "model_id": "97e2582263644774ad5c34d2c7263ecd",
              "version_major": 2,
              "version_minor": 0
            },
            "text/plain": [
              "[d64_L8] Epoch 65:   0%|          | 0/663 [00:00<?, ?it/s]"
            ]
          },
          "metadata": {},
          "output_type": "display_data"
        },
        {
          "name": "stdout",
          "output_type": "stream",
          "text": [
            "[d64_L8] Epoch 65 \u2014 Train 97.30% (loss 0.592, F1 0.9438) | Val 95.90% (loss 0.633, F1 0.9291)\n"
          ]
        },
        {
          "data": {
            "application/vnd.jupyter.widget-view+json": {
              "model_id": "bc49a0c0ef4a475780cd396cc5470831",
              "version_major": 2,
              "version_minor": 0
            },
            "text/plain": [
              "[d64_L8] Epoch 66:   0%|          | 0/663 [00:00<?, ?it/s]"
            ]
          },
          "metadata": {},
          "output_type": "display_data"
        },
        {
          "name": "stdout",
          "output_type": "stream",
          "text": [
            "[d64_L8] Epoch 66 \u2014 Train 97.22% (loss 0.593, F1 0.9428) | Val 95.83% (loss 0.636, F1 0.9277)\n"
          ]
        },
        {
          "data": {
            "application/vnd.jupyter.widget-view+json": {
              "model_id": "2c13e1895e5c495daed4148a019679dc",
              "version_major": 2,
              "version_minor": 0
            },
            "text/plain": [
              "[d64_L8] Epoch 67:   0%|          | 0/663 [00:00<?, ?it/s]"
            ]
          },
          "metadata": {},
          "output_type": "display_data"
        },
        {
          "name": "stdout",
          "output_type": "stream",
          "text": [
            "[d64_L8] Epoch 67 \u2014 Train 97.29% (loss 0.592, F1 0.9440) | Val 96.01% (loss 0.633, F1 0.9311)\n",
            "[d64_L8] ** Saved new BEST ** (val_acc=96.01%) \u2192 checkpoints/d64_L8_best.pt\n"
          ]
        },
        {
          "data": {
            "application/vnd.jupyter.widget-view+json": {
              "model_id": "38bb724520c24634b444dfc87476b48e",
              "version_major": 2,
              "version_minor": 0
            },
            "text/plain": [
              "[d64_L8] Epoch 68:   0%|          | 0/663 [00:00<?, ?it/s]"
            ]
          },
          "metadata": {},
          "output_type": "display_data"
        },
        {
          "name": "stdout",
          "output_type": "stream",
          "text": [
            "[d64_L8] Epoch 68 \u2014 Train 97.35% (loss 0.591, F1 0.9445) | Val 95.82% (loss 0.634, F1 0.9287)\n"
          ]
        },
        {
          "data": {
            "application/vnd.jupyter.widget-view+json": {
              "model_id": "f4a29207618240938f72f5c63429c102",
              "version_major": 2,
              "version_minor": 0
            },
            "text/plain": [
              "[d64_L8] Epoch 69:   0%|          | 0/663 [00:00<?, ?it/s]"
            ]
          },
          "metadata": {},
          "output_type": "display_data"
        },
        {
          "name": "stdout",
          "output_type": "stream",
          "text": [
            "[d64_L8] Epoch 69 \u2014 Train 97.39% (loss 0.589, F1 0.9448) | Val 95.92% (loss 0.634, F1 0.9294)\n"
          ]
        },
        {
          "data": {
            "application/vnd.jupyter.widget-view+json": {
              "model_id": "5d1f01d772334bd292b9b2ac0128504e",
              "version_major": 2,
              "version_minor": 0
            },
            "text/plain": [
              "[d64_L8] Epoch 70:   0%|          | 0/663 [00:00<?, ?it/s]"
            ]
          },
          "metadata": {},
          "output_type": "display_data"
        },
        {
          "name": "stdout",
          "output_type": "stream",
          "text": [
            "[d64_L8] Epoch 70 \u2014 Train 97.39% (loss 0.589, F1 0.9448) | Val 95.97% (loss 0.635, F1 0.9294)\n"
          ]
        },
        {
          "data": {
            "application/vnd.jupyter.widget-view+json": {
              "model_id": "455793cc57be46ecb99b946710962db4",
              "version_major": 2,
              "version_minor": 0
            },
            "text/plain": [
              "[d64_L8] Epoch 71:   0%|          | 0/663 [00:00<?, ?it/s]"
            ]
          },
          "metadata": {},
          "output_type": "display_data"
        },
        {
          "name": "stdout",
          "output_type": "stream",
          "text": [
            "[d64_L8] Epoch 71 \u2014 Train 97.41% (loss 0.588, F1 0.9448) | Val 95.88% (loss 0.632, F1 0.9283)\n"
          ]
        },
        {
          "data": {
            "application/vnd.jupyter.widget-view+json": {
              "model_id": "b2a4c5b704824d188a18ecb3472380fa",
              "version_major": 2,
              "version_minor": 0
            },
            "text/plain": [
              "[d64_L8] Epoch 72:   0%|          | 0/663 [00:00<?, ?it/s]"
            ]
          },
          "metadata": {},
          "output_type": "display_data"
        },
        {
          "name": "stdout",
          "output_type": "stream",
          "text": [
            "[d64_L8] Epoch 72 \u2014 Train 97.47% (loss 0.586, F1 0.9457) | Val 95.93% (loss 0.631, F1 0.9294)\n"
          ]
        },
        {
          "data": {
            "application/vnd.jupyter.widget-view+json": {
              "model_id": "7d9772617ce041caafc9c87c4e5b7a8c",
              "version_major": 2,
              "version_minor": 0
            },
            "text/plain": [
              "[d64_L8] Epoch 73:   0%|          | 0/663 [00:00<?, ?it/s]"
            ]
          },
          "metadata": {},
          "output_type": "display_data"
        },
        {
          "name": "stdout",
          "output_type": "stream",
          "text": [
            "[d64_L8] Epoch 73 \u2014 Train 97.45% (loss 0.587, F1 0.9458) | Val 95.94% (loss 0.631, F1 0.9291)\n"
          ]
        },
        {
          "data": {
            "application/vnd.jupyter.widget-view+json": {
              "model_id": "ecd7db15c30f4d67ab9dfaac7fbb913f",
              "version_major": 2,
              "version_minor": 0
            },
            "text/plain": [
              "[d64_L8] Epoch 74:   0%|          | 0/663 [00:00<?, ?it/s]"
            ]
          },
          "metadata": {},
          "output_type": "display_data"
        },
        {
          "name": "stdout",
          "output_type": "stream",
          "text": [
            "[d64_L8] Epoch 74 \u2014 Train 97.51% (loss 0.585, F1 0.9460) | Val 95.86% (loss 0.632, F1 0.9287)\n"
          ]
        },
        {
          "data": {
            "application/vnd.jupyter.widget-view+json": {
              "model_id": "a77460c53249467281f4202c1a8e2993",
              "version_major": 2,
              "version_minor": 0
            },
            "text/plain": [
              "[d64_L8] Epoch 75:   0%|          | 0/663 [00:00<?, ?it/s]"
            ]
          },
          "metadata": {},
          "output_type": "display_data"
        }
      ],
      "source": [
        "# ---------------------------------------------------------\n",
        "# 9) Data prep (MFCC - Masks only on train)\n",
        "# ---------------------------------------------------------\n",
        "if __name__ == \"__main__\":\n",
        "    # Load HF dataset\n",
        "    ds = load_dataset(\"google/speech_commands\", \"v0.02\")\n",
        "\n",
        "    n_classes = len(ds[\"train\"].features[\"label\"].names)\n",
        "    sr = 16_000\n",
        "\n",
        "    # Front-ends\n",
        "    frontend_stats = WaveToSpec(feature_type=\"mfcc\", n_mfcc=40, n_mels=128,\n",
        "                                apply_mask=False)\n",
        "    frontend_train = WaveToSpec(feature_type=\"mfcc\", n_mfcc=40, n_mels=128,\n",
        "                                apply_mask=True, freq_mask_param=5, time_mask_param=18)\n",
        "    frontend_eval  = WaveToSpec(feature_type=\"mfcc\", n_mfcc=40, n_mels=128,\n",
        "                                apply_mask=False)\n",
        "\n",
        "    # Waveform augmentations (train only)\n",
        "    aug = Augment(shift_ms=120, noise=(0., 0.01))\n",
        "\n",
        "    # Dataset-level normalization stats (computed on train, no aug)\n",
        "    print(\"Computing dataset stats (MFCC, no masks)...\")\n",
        "    train_mean, train_std = compute_dataset_stats(ds[\"train\"], frontend_stats)\n",
        "    print(f\"Stats \u2014 mean={train_mean:.4f}, std={train_std:.4f}\")\n",
        "\n",
        "    # Datasets\n",
        "    train_ds       = SpeechCommands(ds[\"train\"], aug,  frontend_train, mean=train_mean, std=train_std)\n",
        "    train_eval_ds  = SpeechCommands(ds[\"train\"], None, frontend_eval,  mean=train_mean, std=train_std)  # no aug\n",
        "    val_ds         = SpeechCommands(ds[\"validation\"], None, frontend_eval, mean=train_mean, std=train_std)\n",
        "\n",
        "    # Loaders\n",
        "    dl_kwargs = dict(batch_size=128, num_workers=2, pin_memory=True,\n",
        "                     persistent_workers=True, collate_fn=collate_fn)\n",
        "    train_dl      = DataLoader(train_ds, shuffle=True,  **dl_kwargs)\n",
        "    train_eval_dl = DataLoader(train_eval_ds, shuffle=False, **dl_kwargs)\n",
        "    val_dl        = DataLoader(val_ds, shuffle=False, **dl_kwargs)\n",
        "\n",
        "    ds_splits = (train_dl, train_eval_dl, val_dl, n_classes)\n",
        "\n",
        "    # -----------------------------------------------------\n",
        "    # Grid: check configurations\n",
        "    # -----------------------------------------------------\n",
        "    outdir = \"checkpoints\"\n",
        "    os.makedirs(outdir, exist_ok=True)\n",
        "\n",
        "    configs = []\n",
        "    for d_model in [64]:\n",
        "        for n_layers in [8]:\n",
        "            configs.append({\n",
        "                \"d_model\": d_model,\n",
        "                \"n_layers\": n_layers,\n",
        "                \"epochs\": 100,\n",
        "                \"base_lr\": 5e-4,\n",
        "                \"weight_decay\": 1.8e-4,\n",
        "                \"label_smoothing\": 0.07,\n",
        "                \"d_state\": 16,\n",
        "                \"expand\": 2\n",
        "            })\n",
        "\n",
        "    results = []\n",
        "    for cfg in configs:\n",
        "        set_seed(42)  # keep runs comparable\n",
        "        res = run_experiment(cfg, ds_splits, global_outdir=outdir)\n",
        "        results.append(res)\n",
        "\n",
        "    print(\"\\n=== Summary ===\")\n",
        "    for r in results:\n",
        "        print(r)"
      ]
    },
    {
      "cell_type": "code",
      "execution_count": null,
      "metadata": {
        "collapsed": true,
        "id": "nXbrW5n9bZMv"
      },
      "outputs": [],
      "source": [
        "from tensorboard import notebook\n",
        "\n",
        "notebook.start(\"--logdir runs\")"
      ]
    },
    {
      "cell_type": "code",
      "execution_count": null,
      "metadata": {
        "id": "M3nJDe4L46kC"
      },
      "outputs": [],
      "source": [
        "SAVE_DIR = \"/content/drive/MyDrive/kws_exports_small\"\n",
        "!mkdir -p \"$SAVE_DIR\"\n",
        "\n",
        "# Zip folders straight to Drive paths\n",
        "!zip -qr \"$SAVE_DIR/checkpoints_expand.zip\" /content/checkpoints\n",
        "!zip -qr \"$SAVE_DIR/runs_expand.zip\"        /content/runs\n",
        "\n",
        "# Verify\n",
        "!ls -lh \"$SAVE_DIR\""
      ]
    }
  ],
  "metadata": {
    "accelerator": "GPU",
    "colab": {
      "gpuType": "L4",
      "provenance": []
    },
    "kernelspec": {
      "display_name": "Python 3",
      "name": "python3"
    },
    "language_info": {
      "name": "python"
    }
  },
  "nbformat": 4,
  "nbformat_minor": 0
}