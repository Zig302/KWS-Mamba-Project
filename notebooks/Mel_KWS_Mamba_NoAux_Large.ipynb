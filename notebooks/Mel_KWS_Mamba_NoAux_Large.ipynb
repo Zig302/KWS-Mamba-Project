{
  "nbformat": 4,
  "nbformat_minor": 0,
  "metadata": {
    "colab": {
      "provenance": [],
      "gpuType": "L4"
    },
    "kernelspec": {
      "name": "python3",
      "display_name": "Python 3"
    },
    "language_info": {
      "name": "python"
    },
    "accelerator": "GPU"
  },
  "cells": [
    {
      "cell_type": "code",
      "execution_count": null,
      "metadata": {
        "colab": {
          "base_uri": "https://localhost:8080/"
        },
        "collapsed": true,
        "id": "Qeo644JV9RwT",
        "outputId": "f48e43ea-3c08-4c1d-a040-4023afadac5a"
      },
      "outputs": [
        {
          "output_type": "stream",
          "name": "stdout",
          "text": [
            "Collecting datasets==2.16.0\n",
            "  Downloading datasets-2.16.0-py3-none-any.whl.metadata (20 kB)\n",
            "Requirement already satisfied: filelock in /usr/local/lib/python3.12/dist-packages (from datasets==2.16.0) (3.19.1)\n",
            "Requirement already satisfied: numpy>=1.17 in /usr/local/lib/python3.12/dist-packages (from datasets==2.16.0) (2.0.2)\n",
            "Requirement already satisfied: pyarrow>=8.0.0 in /usr/local/lib/python3.12/dist-packages (from datasets==2.16.0) (18.1.0)\n",
            "Collecting pyarrow-hotfix (from datasets==2.16.0)\n",
            "  Downloading pyarrow_hotfix-0.7-py3-none-any.whl.metadata (3.6 kB)\n",
            "Collecting dill<0.3.8,>=0.3.0 (from datasets==2.16.0)\n",
            "  Downloading dill-0.3.7-py3-none-any.whl.metadata (9.9 kB)\n",
            "Requirement already satisfied: pandas in /usr/local/lib/python3.12/dist-packages (from datasets==2.16.0) (2.2.2)\n",
            "Requirement already satisfied: requests>=2.19.0 in /usr/local/lib/python3.12/dist-packages (from datasets==2.16.0) (2.32.4)\n",
            "Requirement already satisfied: tqdm>=4.62.1 in /usr/local/lib/python3.12/dist-packages (from datasets==2.16.0) (4.67.1)\n",
            "Requirement already satisfied: xxhash in /usr/local/lib/python3.12/dist-packages (from datasets==2.16.0) (3.5.0)\n",
            "Requirement already satisfied: multiprocess in /usr/local/lib/python3.12/dist-packages (from datasets==2.16.0) (0.70.16)\n",
            "Collecting fsspec<=2023.10.0,>=2023.1.0 (from fsspec[http]<=2023.10.0,>=2023.1.0->datasets==2.16.0)\n",
            "  Downloading fsspec-2023.10.0-py3-none-any.whl.metadata (6.8 kB)\n",
            "Requirement already satisfied: aiohttp in /usr/local/lib/python3.12/dist-packages (from datasets==2.16.0) (3.12.15)\n",
            "Requirement already satisfied: huggingface-hub>=0.19.4 in /usr/local/lib/python3.12/dist-packages (from datasets==2.16.0) (0.34.4)\n",
            "Requirement already satisfied: packaging in /usr/local/lib/python3.12/dist-packages (from datasets==2.16.0) (25.0)\n",
            "Requirement already satisfied: pyyaml>=5.1 in /usr/local/lib/python3.12/dist-packages (from datasets==2.16.0) (6.0.2)\n",
            "Requirement already satisfied: aiohappyeyeballs>=2.5.0 in /usr/local/lib/python3.12/dist-packages (from aiohttp->datasets==2.16.0) (2.6.1)\n",
            "Requirement already satisfied: aiosignal>=1.4.0 in /usr/local/lib/python3.12/dist-packages (from aiohttp->datasets==2.16.0) (1.4.0)\n",
            "Requirement already satisfied: attrs>=17.3.0 in /usr/local/lib/python3.12/dist-packages (from aiohttp->datasets==2.16.0) (25.3.0)\n",
            "Requirement already satisfied: frozenlist>=1.1.1 in /usr/local/lib/python3.12/dist-packages (from aiohttp->datasets==2.16.0) (1.7.0)\n",
            "Requirement already satisfied: multidict<7.0,>=4.5 in /usr/local/lib/python3.12/dist-packages (from aiohttp->datasets==2.16.0) (6.6.4)\n",
            "Requirement already satisfied: propcache>=0.2.0 in /usr/local/lib/python3.12/dist-packages (from aiohttp->datasets==2.16.0) (0.3.2)\n",
            "Requirement already satisfied: yarl<2.0,>=1.17.0 in /usr/local/lib/python3.12/dist-packages (from aiohttp->datasets==2.16.0) (1.20.1)\n",
            "Requirement already satisfied: typing-extensions>=3.7.4.3 in /usr/local/lib/python3.12/dist-packages (from huggingface-hub>=0.19.4->datasets==2.16.0) (4.15.0)\n",
            "Requirement already satisfied: hf-xet<2.0.0,>=1.1.3 in /usr/local/lib/python3.12/dist-packages (from huggingface-hub>=0.19.4->datasets==2.16.0) (1.1.9)\n",
            "Requirement already satisfied: charset_normalizer<4,>=2 in /usr/local/lib/python3.12/dist-packages (from requests>=2.19.0->datasets==2.16.0) (3.4.3)\n",
            "Requirement already satisfied: idna<4,>=2.5 in /usr/local/lib/python3.12/dist-packages (from requests>=2.19.0->datasets==2.16.0) (3.10)\n",
            "Requirement already satisfied: urllib3<3,>=1.21.1 in /usr/local/lib/python3.12/dist-packages (from requests>=2.19.0->datasets==2.16.0) (2.5.0)\n",
            "Requirement already satisfied: certifi>=2017.4.17 in /usr/local/lib/python3.12/dist-packages (from requests>=2.19.0->datasets==2.16.0) (2025.8.3)\n",
            "INFO: pip is looking at multiple versions of multiprocess to determine which version is compatible with other requirements. This could take a while.\n",
            "Collecting multiprocess (from datasets==2.16.0)\n",
            "  Downloading multiprocess-0.70.18-py312-none-any.whl.metadata (7.5 kB)\n",
            "  Downloading multiprocess-0.70.17-py312-none-any.whl.metadata (7.2 kB)\n",
            "  Downloading multiprocess-0.70.15-py311-none-any.whl.metadata (7.2 kB)\n",
            "Requirement already satisfied: python-dateutil>=2.8.2 in /usr/local/lib/python3.12/dist-packages (from pandas->datasets==2.16.0) (2.9.0.post0)\n",
            "Requirement already satisfied: pytz>=2020.1 in /usr/local/lib/python3.12/dist-packages (from pandas->datasets==2.16.0) (2025.2)\n",
            "Requirement already satisfied: tzdata>=2022.7 in /usr/local/lib/python3.12/dist-packages (from pandas->datasets==2.16.0) (2025.2)\n",
            "Requirement already satisfied: six>=1.5 in /usr/local/lib/python3.12/dist-packages (from python-dateutil>=2.8.2->pandas->datasets==2.16.0) (1.17.0)\n",
            "Downloading datasets-2.16.0-py3-none-any.whl (507 kB)\n",
            "\u001b[2K   \u001b[90m\u2501\u2501\u2501\u2501\u2501\u2501\u2501\u2501\u2501\u2501\u2501\u2501\u2501\u2501\u2501\u2501\u2501\u2501\u2501\u2501\u2501\u2501\u2501\u2501\u2501\u2501\u2501\u2501\u2501\u2501\u2501\u2501\u2501\u2501\u2501\u2501\u2501\u2501\u2501\u2501\u001b[0m \u001b[32m507.1/507.1 kB\u001b[0m \u001b[31m10.0 MB/s\u001b[0m eta \u001b[36m0:00:00\u001b[0m\n",
            "\u001b[?25hDownloading dill-0.3.7-py3-none-any.whl (115 kB)\n",
            "\u001b[2K   \u001b[90m\u2501\u2501\u2501\u2501\u2501\u2501\u2501\u2501\u2501\u2501\u2501\u2501\u2501\u2501\u2501\u2501\u2501\u2501\u2501\u2501\u2501\u2501\u2501\u2501\u2501\u2501\u2501\u2501\u2501\u2501\u2501\u2501\u2501\u2501\u2501\u2501\u2501\u2501\u2501\u2501\u001b[0m \u001b[32m115.3/115.3 kB\u001b[0m \u001b[31m12.8 MB/s\u001b[0m eta \u001b[36m0:00:00\u001b[0m\n",
            "\u001b[?25hDownloading fsspec-2023.10.0-py3-none-any.whl (166 kB)\n",
            "\u001b[2K   \u001b[90m\u2501\u2501\u2501\u2501\u2501\u2501\u2501\u2501\u2501\u2501\u2501\u2501\u2501\u2501\u2501\u2501\u2501\u2501\u2501\u2501\u2501\u2501\u2501\u2501\u2501\u2501\u2501\u2501\u2501\u2501\u2501\u2501\u2501\u2501\u2501\u2501\u2501\u2501\u2501\u2501\u001b[0m \u001b[32m166.4/166.4 kB\u001b[0m \u001b[31m18.0 MB/s\u001b[0m eta \u001b[36m0:00:00\u001b[0m\n",
            "\u001b[?25hDownloading multiprocess-0.70.15-py311-none-any.whl (135 kB)\n",
            "\u001b[2K   \u001b[90m\u2501\u2501\u2501\u2501\u2501\u2501\u2501\u2501\u2501\u2501\u2501\u2501\u2501\u2501\u2501\u2501\u2501\u2501\u2501\u2501\u2501\u2501\u2501\u2501\u2501\u2501\u2501\u2501\u2501\u2501\u2501\u2501\u2501\u2501\u2501\u2501\u2501\u2501\u2501\u2501\u001b[0m \u001b[32m135.4/135.4 kB\u001b[0m \u001b[31m16.2 MB/s\u001b[0m eta \u001b[36m0:00:00\u001b[0m\n",
            "\u001b[?25hDownloading pyarrow_hotfix-0.7-py3-none-any.whl (7.9 kB)\n",
            "Installing collected packages: pyarrow-hotfix, fsspec, dill, multiprocess, datasets\n",
            "  Attempting uninstall: fsspec\n",
            "    Found existing installation: fsspec 2025.3.0\n",
            "    Uninstalling fsspec-2025.3.0:\n",
            "      Successfully uninstalled fsspec-2025.3.0\n",
            "  Attempting uninstall: dill\n",
            "    Found existing installation: dill 0.3.8\n",
            "    Uninstalling dill-0.3.8:\n",
            "      Successfully uninstalled dill-0.3.8\n",
            "  Attempting uninstall: multiprocess\n",
            "    Found existing installation: multiprocess 0.70.16\n",
            "    Uninstalling multiprocess-0.70.16:\n",
            "      Successfully uninstalled multiprocess-0.70.16\n",
            "  Attempting uninstall: datasets\n",
            "    Found existing installation: datasets 4.0.0\n",
            "    Uninstalling datasets-4.0.0:\n",
            "      Successfully uninstalled datasets-4.0.0\n",
            "\u001b[31mERROR: pip's dependency resolver does not currently take into account all the packages that are installed. This behaviour is the source of the following dependency conflicts.\n",
            "gcsfs 2025.3.0 requires fsspec==2025.3.0, but you have fsspec 2023.10.0 which is incompatible.\u001b[0m\u001b[31m\n",
            "\u001b[0mSuccessfully installed datasets-2.16.0 dill-0.3.7 fsspec-2023.10.0 multiprocess-0.70.15 pyarrow-hotfix-0.7\n",
            "Collecting huggingface-hub==0.20.0\n",
            "  Downloading huggingface_hub-0.20.0-py3-none-any.whl.metadata (12 kB)\n",
            "Requirement already satisfied: filelock in /usr/local/lib/python3.12/dist-packages (from huggingface-hub==0.20.0) (3.19.1)\n",
            "Requirement already satisfied: fsspec>=2023.5.0 in /usr/local/lib/python3.12/dist-packages (from huggingface-hub==0.20.0) (2023.10.0)\n",
            "Requirement already satisfied: requests in /usr/local/lib/python3.12/dist-packages (from huggingface-hub==0.20.0) (2.32.4)\n",
            "Requirement already satisfied: tqdm>=4.42.1 in /usr/local/lib/python3.12/dist-packages (from huggingface-hub==0.20.0) (4.67.1)\n",
            "Requirement already satisfied: pyyaml>=5.1 in /usr/local/lib/python3.12/dist-packages (from huggingface-hub==0.20.0) (6.0.2)\n",
            "Requirement already satisfied: typing-extensions>=3.7.4.3 in /usr/local/lib/python3.12/dist-packages (from huggingface-hub==0.20.0) (4.15.0)\n",
            "Requirement already satisfied: packaging>=20.9 in /usr/local/lib/python3.12/dist-packages (from huggingface-hub==0.20.0) (25.0)\n",
            "Requirement already satisfied: charset_normalizer<4,>=2 in /usr/local/lib/python3.12/dist-packages (from requests->huggingface-hub==0.20.0) (3.4.3)\n",
            "Requirement already satisfied: idna<4,>=2.5 in /usr/local/lib/python3.12/dist-packages (from requests->huggingface-hub==0.20.0) (3.10)\n",
            "Requirement already satisfied: urllib3<3,>=1.21.1 in /usr/local/lib/python3.12/dist-packages (from requests->huggingface-hub==0.20.0) (2.5.0)\n",
            "Requirement already satisfied: certifi>=2017.4.17 in /usr/local/lib/python3.12/dist-packages (from requests->huggingface-hub==0.20.0) (2025.8.3)\n",
            "Downloading huggingface_hub-0.20.0-py3-none-any.whl (329 kB)\n",
            "\u001b[2K   \u001b[90m\u2501\u2501\u2501\u2501\u2501\u2501\u2501\u2501\u2501\u2501\u2501\u2501\u2501\u2501\u2501\u2501\u2501\u2501\u2501\u2501\u2501\u2501\u2501\u2501\u2501\u2501\u2501\u2501\u2501\u2501\u2501\u2501\u2501\u2501\u2501\u2501\u2501\u2501\u2501\u2501\u001b[0m \u001b[32m329.1/329.1 kB\u001b[0m \u001b[31m25.3 MB/s\u001b[0m eta \u001b[36m0:00:00\u001b[0m\n",
            "\u001b[?25hInstalling collected packages: huggingface-hub\n",
            "  Attempting uninstall: huggingface-hub\n",
            "    Found existing installation: huggingface-hub 0.34.4\n",
            "    Uninstalling huggingface-hub-0.34.4:\n",
            "      Successfully uninstalled huggingface-hub-0.34.4\n",
            "\u001b[31mERROR: pip's dependency resolver does not currently take into account all the packages that are installed. This behaviour is the source of the following dependency conflicts.\n",
            "peft 0.17.1 requires huggingface_hub>=0.25.0, but you have huggingface-hub 0.20.0 which is incompatible.\n",
            "transformers 4.56.1 requires huggingface-hub<1.0,>=0.34.0, but you have huggingface-hub 0.20.0 which is incompatible.\n",
            "accelerate 1.10.1 requires huggingface_hub>=0.21.0, but you have huggingface-hub 0.20.0 which is incompatible.\n",
            "gradio 5.44.1 requires huggingface-hub<1.0,>=0.33.5, but you have huggingface-hub 0.20.0 which is incompatible.\n",
            "diffusers 0.35.1 requires huggingface-hub>=0.34.0, but you have huggingface-hub 0.20.0 which is incompatible.\u001b[0m\u001b[31m\n",
            "\u001b[0mSuccessfully installed huggingface-hub-0.20.0\n",
            "Reading package lists... Done\n",
            "Building dependency tree... Done\n",
            "Reading state information... Done\n",
            "The following additional packages will be installed:\n",
            "  libao-common libao4 libid3tag0 libmad0 libopencore-amrnb0 libopencore-amrwb0\n",
            "  libsox-fmt-all libsox-fmt-alsa libsox-fmt-ao libsox-fmt-base libsox-fmt-mp3\n",
            "  libsox-fmt-oss libsox-fmt-pulse libsox3 libwavpack1\n",
            "Suggested packages:\n",
            "  libaudio2 libsndio6.1\n",
            "The following NEW packages will be installed:\n",
            "  libao-common libao4 libid3tag0 libmad0 libopencore-amrnb0 libopencore-amrwb0\n",
            "  libsox-dev libsox-fmt-all libsox-fmt-alsa libsox-fmt-ao libsox-fmt-base\n",
            "  libsox-fmt-mp3 libsox-fmt-oss libsox-fmt-pulse libsox3 libwavpack1\n",
            "0 upgraded, 16 newly installed, 0 to remove and 35 not upgraded.\n",
            "Need to get 1,053 kB of archives.\n",
            "After this operation, 4,061 kB of additional disk space will be used.\n",
            "Get:1 http://archive.ubuntu.com/ubuntu jammy/main amd64 libao-common all 1.2.2+20180113-1.1ubuntu3 [6,568 B]\n",
            "Get:2 http://archive.ubuntu.com/ubuntu jammy/main amd64 libao4 amd64 1.2.2+20180113-1.1ubuntu3 [35.2 kB]\n",
            "Get:3 http://archive.ubuntu.com/ubuntu jammy/universe amd64 libid3tag0 amd64 0.15.1b-14 [31.3 kB]\n",
            "Get:4 http://archive.ubuntu.com/ubuntu jammy/universe amd64 libmad0 amd64 0.15.1b-10ubuntu1 [63.1 kB]\n",
            "Get:5 http://archive.ubuntu.com/ubuntu jammy/universe amd64 libopencore-amrnb0 amd64 0.1.5-1 [94.8 kB]\n",
            "Get:6 http://archive.ubuntu.com/ubuntu jammy/universe amd64 libopencore-amrwb0 amd64 0.1.5-1 [49.1 kB]\n",
            "Get:7 http://archive.ubuntu.com/ubuntu jammy-updates/universe amd64 libsox3 amd64 14.4.2+git20190427-2+deb11u2ubuntu0.22.04.1 [240 kB]\n",
            "Get:8 http://archive.ubuntu.com/ubuntu jammy-updates/universe amd64 libsox-fmt-alsa amd64 14.4.2+git20190427-2+deb11u2ubuntu0.22.04.1 [11.2 kB]\n",
            "Get:9 http://archive.ubuntu.com/ubuntu jammy-updates/universe amd64 libsox-fmt-ao amd64 14.4.2+git20190427-2+deb11u2ubuntu0.22.04.1 [7,740 B]\n",
            "Get:10 http://archive.ubuntu.com/ubuntu jammy/main amd64 libwavpack1 amd64 5.4.0-1build2 [83.7 kB]\n",
            "Get:11 http://archive.ubuntu.com/ubuntu jammy-updates/universe amd64 libsox-fmt-base amd64 14.4.2+git20190427-2+deb11u2ubuntu0.22.04.1 [33.7 kB]\n",
            "Get:12 http://archive.ubuntu.com/ubuntu jammy-updates/universe amd64 libsox-fmt-mp3 amd64 14.4.2+git20190427-2+deb11u2ubuntu0.22.04.1 [17.3 kB]\n",
            "Get:13 http://archive.ubuntu.com/ubuntu jammy-updates/universe amd64 libsox-fmt-oss amd64 14.4.2+git20190427-2+deb11u2ubuntu0.22.04.1 [9,424 B]\n",
            "Get:14 http://archive.ubuntu.com/ubuntu jammy-updates/universe amd64 libsox-fmt-pulse amd64 14.4.2+git20190427-2+deb11u2ubuntu0.22.04.1 [7,732 B]\n",
            "Get:15 http://archive.ubuntu.com/ubuntu jammy-updates/universe amd64 libsox-fmt-all amd64 14.4.2+git20190427-2+deb11u2ubuntu0.22.04.1 [5,016 B]\n",
            "Get:16 http://archive.ubuntu.com/ubuntu jammy-updates/universe amd64 libsox-dev amd64 14.4.2+git20190427-2+deb11u2ubuntu0.22.04.1 [356 kB]\n",
            "Fetched 1,053 kB in 2s (620 kB/s)\n",
            "Selecting previously unselected package libao-common.\n",
            "(Reading database ... 126374 files and directories currently installed.)\n",
            "Preparing to unpack .../00-libao-common_1.2.2+20180113-1.1ubuntu3_all.deb ...\n",
            "Unpacking libao-common (1.2.2+20180113-1.1ubuntu3) ...\n",
            "Selecting previously unselected package libao4:amd64.\n",
            "Preparing to unpack .../01-libao4_1.2.2+20180113-1.1ubuntu3_amd64.deb ...\n",
            "Unpacking libao4:amd64 (1.2.2+20180113-1.1ubuntu3) ...\n",
            "Selecting previously unselected package libid3tag0:amd64.\n",
            "Preparing to unpack .../02-libid3tag0_0.15.1b-14_amd64.deb ...\n",
            "Unpacking libid3tag0:amd64 (0.15.1b-14) ...\n",
            "Selecting previously unselected package libmad0:amd64.\n",
            "Preparing to unpack .../03-libmad0_0.15.1b-10ubuntu1_amd64.deb ...\n",
            "Unpacking libmad0:amd64 (0.15.1b-10ubuntu1) ...\n",
            "Selecting previously unselected package libopencore-amrnb0:amd64.\n",
            "Preparing to unpack .../04-libopencore-amrnb0_0.1.5-1_amd64.deb ...\n",
            "Unpacking libopencore-amrnb0:amd64 (0.1.5-1) ...\n",
            "Selecting previously unselected package libopencore-amrwb0:amd64.\n",
            "Preparing to unpack .../05-libopencore-amrwb0_0.1.5-1_amd64.deb ...\n",
            "Unpacking libopencore-amrwb0:amd64 (0.1.5-1) ...\n",
            "Selecting previously unselected package libsox3:amd64.\n",
            "Preparing to unpack .../06-libsox3_14.4.2+git20190427-2+deb11u2ubuntu0.22.04.1_amd64.deb ...\n",
            "Unpacking libsox3:amd64 (14.4.2+git20190427-2+deb11u2ubuntu0.22.04.1) ...\n",
            "Selecting previously unselected package libsox-fmt-alsa:amd64.\n",
            "Preparing to unpack .../07-libsox-fmt-alsa_14.4.2+git20190427-2+deb11u2ubuntu0.22.04.1_amd64.deb ...\n",
            "Unpacking libsox-fmt-alsa:amd64 (14.4.2+git20190427-2+deb11u2ubuntu0.22.04.1) ...\n",
            "Selecting previously unselected package libsox-fmt-ao:amd64.\n",
            "Preparing to unpack .../08-libsox-fmt-ao_14.4.2+git20190427-2+deb11u2ubuntu0.22.04.1_amd64.deb ...\n",
            "Unpacking libsox-fmt-ao:amd64 (14.4.2+git20190427-2+deb11u2ubuntu0.22.04.1) ...\n",
            "Selecting previously unselected package libwavpack1:amd64.\n",
            "Preparing to unpack .../09-libwavpack1_5.4.0-1build2_amd64.deb ...\n",
            "Unpacking libwavpack1:amd64 (5.4.0-1build2) ...\n",
            "Selecting previously unselected package libsox-fmt-base:amd64.\n",
            "Preparing to unpack .../10-libsox-fmt-base_14.4.2+git20190427-2+deb11u2ubuntu0.22.04.1_amd64.deb ...\n",
            "Unpacking libsox-fmt-base:amd64 (14.4.2+git20190427-2+deb11u2ubuntu0.22.04.1) ...\n",
            "Selecting previously unselected package libsox-fmt-mp3:amd64.\n",
            "Preparing to unpack .../11-libsox-fmt-mp3_14.4.2+git20190427-2+deb11u2ubuntu0.22.04.1_amd64.deb ...\n",
            "Unpacking libsox-fmt-mp3:amd64 (14.4.2+git20190427-2+deb11u2ubuntu0.22.04.1) ...\n",
            "Selecting previously unselected package libsox-fmt-oss:amd64.\n",
            "Preparing to unpack .../12-libsox-fmt-oss_14.4.2+git20190427-2+deb11u2ubuntu0.22.04.1_amd64.deb ...\n",
            "Unpacking libsox-fmt-oss:amd64 (14.4.2+git20190427-2+deb11u2ubuntu0.22.04.1) ...\n",
            "Selecting previously unselected package libsox-fmt-pulse:amd64.\n",
            "Preparing to unpack .../13-libsox-fmt-pulse_14.4.2+git20190427-2+deb11u2ubuntu0.22.04.1_amd64.deb ...\n",
            "Unpacking libsox-fmt-pulse:amd64 (14.4.2+git20190427-2+deb11u2ubuntu0.22.04.1) ...\n",
            "Selecting previously unselected package libsox-fmt-all:amd64.\n",
            "Preparing to unpack .../14-libsox-fmt-all_14.4.2+git20190427-2+deb11u2ubuntu0.22.04.1_amd64.deb ...\n",
            "Unpacking libsox-fmt-all:amd64 (14.4.2+git20190427-2+deb11u2ubuntu0.22.04.1) ...\n",
            "Selecting previously unselected package libsox-dev:amd64.\n",
            "Preparing to unpack .../15-libsox-dev_14.4.2+git20190427-2+deb11u2ubuntu0.22.04.1_amd64.deb ...\n",
            "Unpacking libsox-dev:amd64 (14.4.2+git20190427-2+deb11u2ubuntu0.22.04.1) ...\n",
            "Setting up libsox3:amd64 (14.4.2+git20190427-2+deb11u2ubuntu0.22.04.1) ...\n",
            "Setting up libsox-fmt-oss:amd64 (14.4.2+git20190427-2+deb11u2ubuntu0.22.04.1) ...\n",
            "Setting up libao-common (1.2.2+20180113-1.1ubuntu3) ...\n",
            "Setting up libid3tag0:amd64 (0.15.1b-14) ...\n",
            "Setting up libopencore-amrwb0:amd64 (0.1.5-1) ...\n",
            "Setting up libsox-fmt-alsa:amd64 (14.4.2+git20190427-2+deb11u2ubuntu0.22.04.1) ...\n",
            "Setting up libao4:amd64 (1.2.2+20180113-1.1ubuntu3) ...\n",
            "Setting up libmad0:amd64 (0.15.1b-10ubuntu1) ...\n",
            "Setting up libwavpack1:amd64 (5.4.0-1build2) ...\n",
            "Setting up libopencore-amrnb0:amd64 (0.1.5-1) ...\n",
            "Setting up libsox-fmt-base:amd64 (14.4.2+git20190427-2+deb11u2ubuntu0.22.04.1) ...\n",
            "Setting up libsox-fmt-ao:amd64 (14.4.2+git20190427-2+deb11u2ubuntu0.22.04.1) ...\n",
            "Setting up libsox-fmt-mp3:amd64 (14.4.2+git20190427-2+deb11u2ubuntu0.22.04.1) ...\n",
            "Setting up libsox-fmt-pulse:amd64 (14.4.2+git20190427-2+deb11u2ubuntu0.22.04.1) ...\n",
            "Setting up libsox-fmt-all:amd64 (14.4.2+git20190427-2+deb11u2ubuntu0.22.04.1) ...\n",
            "Setting up libsox-dev:amd64 (14.4.2+git20190427-2+deb11u2ubuntu0.22.04.1) ...\n",
            "Processing triggers for man-db (2.10.2-1) ...\n",
            "Processing triggers for libc-bin (2.35-0ubuntu3.8) ...\n",
            "/sbin/ldconfig.real: /usr/local/lib/libtbb.so.12 is not a symbolic link\n",
            "\n",
            "/sbin/ldconfig.real: /usr/local/lib/libur_adapter_level_zero_v2.so.0 is not a symbolic link\n",
            "\n",
            "/sbin/ldconfig.real: /usr/local/lib/libtbbbind_2_5.so.3 is not a symbolic link\n",
            "\n",
            "/sbin/ldconfig.real: /usr/local/lib/libhwloc.so.15 is not a symbolic link\n",
            "\n",
            "/sbin/ldconfig.real: /usr/local/lib/libur_adapter_level_zero.so.0 is not a symbolic link\n",
            "\n",
            "/sbin/ldconfig.real: /usr/local/lib/libumf.so.0 is not a symbolic link\n",
            "\n",
            "/sbin/ldconfig.real: /usr/local/lib/libtbbmalloc.so.2 is not a symbolic link\n",
            "\n",
            "/sbin/ldconfig.real: /usr/local/lib/libtcm_debug.so.1 is not a symbolic link\n",
            "\n",
            "/sbin/ldconfig.real: /usr/local/lib/libtbbbind.so.3 is not a symbolic link\n",
            "\n",
            "/sbin/ldconfig.real: /usr/local/lib/libtbbbind_2_0.so.3 is not a symbolic link\n",
            "\n",
            "/sbin/ldconfig.real: /usr/local/lib/libtcm.so.1 is not a symbolic link\n",
            "\n",
            "/sbin/ldconfig.real: /usr/local/lib/libtbbmalloc_proxy.so.2 is not a symbolic link\n",
            "\n",
            "/sbin/ldconfig.real: /usr/local/lib/libur_loader.so.0 is not a symbolic link\n",
            "\n",
            "/sbin/ldconfig.real: /usr/local/lib/libur_adapter_opencl.so.0 is not a symbolic link\n",
            "\n",
            "Looking in indexes: https://download.pytorch.org/whl/cu121\n",
            "Collecting torch==2.4.0\n",
            "  Downloading https://download.pytorch.org/whl/cu121/torch-2.4.0%2Bcu121-cp312-cp312-linux_x86_64.whl (799.0 MB)\n",
            "\u001b[2K     \u001b[90m\u2501\u2501\u2501\u2501\u2501\u2501\u2501\u2501\u2501\u2501\u2501\u2501\u2501\u2501\u2501\u2501\u2501\u2501\u2501\u2501\u2501\u2501\u2501\u2501\u2501\u2501\u2501\u2501\u2501\u2501\u2501\u2501\u2501\u2501\u2501\u2501\u2501\u2501\u2501\u001b[0m \u001b[32m799.0/799.0 MB\u001b[0m \u001b[31m1.5 MB/s\u001b[0m eta \u001b[36m0:00:00\u001b[0m\n",
            "\u001b[?25hCollecting torchvision==0.19.0\n",
            "  Downloading https://download.pytorch.org/whl/cu121/torchvision-0.19.0%2Bcu121-cp312-cp312-linux_x86_64.whl (7.1 MB)\n",
            "\u001b[2K     \u001b[90m\u2501\u2501\u2501\u2501\u2501\u2501\u2501\u2501\u2501\u2501\u2501\u2501\u2501\u2501\u2501\u2501\u2501\u2501\u2501\u2501\u2501\u2501\u2501\u2501\u2501\u2501\u2501\u2501\u2501\u2501\u2501\u2501\u2501\u2501\u2501\u2501\u2501\u2501\u2501\u2501\u001b[0m \u001b[32m7.1/7.1 MB\u001b[0m \u001b[31m134.7 MB/s\u001b[0m eta \u001b[36m0:00:00\u001b[0m\n",
            "\u001b[?25hCollecting torchaudio==2.4.0\n",
            "  Downloading https://download.pytorch.org/whl/cu121/torchaudio-2.4.0%2Bcu121-cp312-cp312-linux_x86_64.whl (3.4 MB)\n",
            "\u001b[2K     \u001b[90m\u2501\u2501\u2501\u2501\u2501\u2501\u2501\u2501\u2501\u2501\u2501\u2501\u2501\u2501\u2501\u2501\u2501\u2501\u2501\u2501\u2501\u2501\u2501\u2501\u2501\u2501\u2501\u2501\u2501\u2501\u2501\u2501\u2501\u2501\u2501\u2501\u2501\u2501\u2501\u2501\u001b[0m \u001b[32m3.4/3.4 MB\u001b[0m \u001b[31m103.1 MB/s\u001b[0m eta \u001b[36m0:00:00\u001b[0m\n",
            "\u001b[?25hRequirement already satisfied: filelock in /usr/local/lib/python3.12/dist-packages (from torch==2.4.0) (3.19.1)\n",
            "Requirement already satisfied: typing-extensions>=4.8.0 in /usr/local/lib/python3.12/dist-packages (from torch==2.4.0) (4.15.0)\n",
            "Requirement already satisfied: sympy in /usr/local/lib/python3.12/dist-packages (from torch==2.4.0) (1.13.3)\n",
            "Requirement already satisfied: networkx in /usr/local/lib/python3.12/dist-packages (from torch==2.4.0) (3.5)\n",
            "Requirement already satisfied: jinja2 in /usr/local/lib/python3.12/dist-packages (from torch==2.4.0) (3.1.6)\n",
            "Requirement already satisfied: fsspec in /usr/local/lib/python3.12/dist-packages (from torch==2.4.0) (2023.10.0)\n",
            "Requirement already satisfied: setuptools in /usr/local/lib/python3.12/dist-packages (from torch==2.4.0) (75.2.0)\n",
            "Collecting nvidia-cuda-nvrtc-cu12==12.1.105 (from torch==2.4.0)\n",
            "  Downloading https://download.pytorch.org/whl/cu121/nvidia_cuda_nvrtc_cu12-12.1.105-py3-none-manylinux1_x86_64.whl (23.7 MB)\n",
            "\u001b[2K     \u001b[90m\u2501\u2501\u2501\u2501\u2501\u2501\u2501\u2501\u2501\u2501\u2501\u2501\u2501\u2501\u2501\u2501\u2501\u2501\u2501\u2501\u2501\u2501\u2501\u2501\u2501\u2501\u2501\u2501\u2501\u2501\u2501\u2501\u2501\u2501\u2501\u2501\u2501\u2501\u2501\u001b[0m \u001b[32m23.7/23.7 MB\u001b[0m \u001b[31m104.6 MB/s\u001b[0m eta \u001b[36m0:00:00\u001b[0m\n",
            "\u001b[?25hCollecting nvidia-cuda-runtime-cu12==12.1.105 (from torch==2.4.0)\n",
            "  Downloading https://download.pytorch.org/whl/cu121/nvidia_cuda_runtime_cu12-12.1.105-py3-none-manylinux1_x86_64.whl (823 kB)\n",
            "\u001b[2K     \u001b[90m\u2501\u2501\u2501\u2501\u2501\u2501\u2501\u2501\u2501\u2501\u2501\u2501\u2501\u2501\u2501\u2501\u2501\u2501\u2501\u2501\u2501\u2501\u2501\u2501\u2501\u2501\u2501\u2501\u2501\u2501\u2501\u2501\u2501\u2501\u2501\u2501\u2501\u2501\u001b[0m \u001b[32m823.6/823.6 kB\u001b[0m \u001b[31m57.8 MB/s\u001b[0m eta \u001b[36m0:00:00\u001b[0m\n",
            "\u001b[?25hCollecting nvidia-cuda-cupti-cu12==12.1.105 (from torch==2.4.0)\n",
            "  Downloading https://download.pytorch.org/whl/cu121/nvidia_cuda_cupti_cu12-12.1.105-py3-none-manylinux1_x86_64.whl (14.1 MB)\n",
            "\u001b[2K     \u001b[90m\u2501\u2501\u2501\u2501\u2501\u2501\u2501\u2501\u2501\u2501\u2501\u2501\u2501\u2501\u2501\u2501\u2501\u2501\u2501\u2501\u2501\u2501\u2501\u2501\u2501\u2501\u2501\u2501\u2501\u2501\u2501\u2501\u2501\u2501\u2501\u2501\u2501\u2501\u2501\u001b[0m \u001b[32m14.1/14.1 MB\u001b[0m \u001b[31m131.4 MB/s\u001b[0m eta \u001b[36m0:00:00\u001b[0m\n",
            "\u001b[?25hCollecting nvidia-cudnn-cu12==9.1.0.70 (from torch==2.4.0)\n",
            "  Downloading https://download.pytorch.org/whl/cu121/nvidia_cudnn_cu12-9.1.0.70-py3-none-manylinux2014_x86_64.whl (664.8 MB)\n",
            "\u001b[2K     \u001b[90m\u2501\u2501\u2501\u2501\u2501\u2501\u2501\u2501\u2501\u2501\u2501\u2501\u2501\u2501\u2501\u2501\u2501\u2501\u2501\u2501\u2501\u2501\u2501\u2501\u2501\u2501\u2501\u2501\u2501\u2501\u2501\u2501\u2501\u2501\u2501\u2501\u2501\u2501\u2501\u001b[0m \u001b[32m664.8/664.8 MB\u001b[0m \u001b[31m1.6 MB/s\u001b[0m eta \u001b[36m0:00:00\u001b[0m\n",
            "\u001b[?25hCollecting nvidia-cublas-cu12==12.1.3.1 (from torch==2.4.0)\n",
            "  Downloading https://download.pytorch.org/whl/cu121/nvidia_cublas_cu12-12.1.3.1-py3-none-manylinux1_x86_64.whl (410.6 MB)\n",
            "\u001b[2K     \u001b[90m\u2501\u2501\u2501\u2501\u2501\u2501\u2501\u2501\u2501\u2501\u2501\u2501\u2501\u2501\u2501\u2501\u2501\u2501\u2501\u2501\u2501\u2501\u2501\u2501\u2501\u2501\u2501\u2501\u2501\u2501\u2501\u2501\u2501\u2501\u2501\u2501\u2501\u2501\u2501\u001b[0m \u001b[32m410.6/410.6 MB\u001b[0m \u001b[31m2.2 MB/s\u001b[0m eta \u001b[36m0:00:00\u001b[0m\n",
            "\u001b[?25hCollecting nvidia-cufft-cu12==11.0.2.54 (from torch==2.4.0)\n",
            "  Downloading https://download.pytorch.org/whl/cu121/nvidia_cufft_cu12-11.0.2.54-py3-none-manylinux1_x86_64.whl (121.6 MB)\n",
            "\u001b[2K     \u001b[90m\u2501\u2501\u2501\u2501\u2501\u2501\u2501\u2501\u2501\u2501\u2501\u2501\u2501\u2501\u2501\u2501\u2501\u2501\u2501\u2501\u2501\u2501\u2501\u2501\u2501\u2501\u2501\u2501\u2501\u2501\u2501\u2501\u2501\u2501\u2501\u2501\u2501\u2501\u001b[0m \u001b[32m121.6/121.6 MB\u001b[0m \u001b[31m17.4 MB/s\u001b[0m eta \u001b[36m0:00:00\u001b[0m\n",
            "\u001b[?25hCollecting nvidia-curand-cu12==10.3.2.106 (from torch==2.4.0)\n",
            "  Downloading https://download.pytorch.org/whl/cu121/nvidia_curand_cu12-10.3.2.106-py3-none-manylinux1_x86_64.whl (56.5 MB)\n",
            "\u001b[2K     \u001b[90m\u2501\u2501\u2501\u2501\u2501\u2501\u2501\u2501\u2501\u2501\u2501\u2501\u2501\u2501\u2501\u2501\u2501\u2501\u2501\u2501\u2501\u2501\u2501\u2501\u2501\u2501\u2501\u2501\u2501\u2501\u2501\u2501\u2501\u2501\u2501\u2501\u2501\u2501\u2501\u2501\u001b[0m \u001b[32m56.5/56.5 MB\u001b[0m \u001b[31m39.0 MB/s\u001b[0m eta \u001b[36m0:00:00\u001b[0m\n",
            "\u001b[?25hCollecting nvidia-cusolver-cu12==11.4.5.107 (from torch==2.4.0)\n",
            "  Downloading https://download.pytorch.org/whl/cu121/nvidia_cusolver_cu12-11.4.5.107-py3-none-manylinux1_x86_64.whl (124.2 MB)\n",
            "\u001b[2K     \u001b[90m\u2501\u2501\u2501\u2501\u2501\u2501\u2501\u2501\u2501\u2501\u2501\u2501\u2501\u2501\u2501\u2501\u2501\u2501\u2501\u2501\u2501\u2501\u2501\u2501\u2501\u2501\u2501\u2501\u2501\u2501\u2501\u2501\u2501\u2501\u2501\u2501\u2501\u2501\u2501\u001b[0m \u001b[32m124.2/124.2 MB\u001b[0m \u001b[31m6.0 MB/s\u001b[0m eta \u001b[36m0:00:00\u001b[0m\n",
            "\u001b[?25hCollecting nvidia-cusparse-cu12==12.1.0.106 (from torch==2.4.0)\n",
            "  Downloading https://download.pytorch.org/whl/cu121/nvidia_cusparse_cu12-12.1.0.106-py3-none-manylinux1_x86_64.whl (196.0 MB)\n",
            "\u001b[2K     \u001b[90m\u2501\u2501\u2501\u2501\u2501\u2501\u2501\u2501\u2501\u2501\u2501\u2501\u2501\u2501\u2501\u2501\u2501\u2501\u2501\u2501\u2501\u2501\u2501\u2501\u2501\u2501\u2501\u2501\u2501\u2501\u2501\u2501\u2501\u2501\u2501\u2501\u2501\u2501\u2501\u001b[0m \u001b[32m196.0/196.0 MB\u001b[0m \u001b[31m3.8 MB/s\u001b[0m eta \u001b[36m0:00:00\u001b[0m\n",
            "\u001b[?25hCollecting nvidia-nccl-cu12==2.20.5 (from torch==2.4.0)\n",
            "  Downloading https://download.pytorch.org/whl/cu121/nvidia_nccl_cu12-2.20.5-py3-none-manylinux2014_x86_64.whl (176.2 MB)\n",
            "\u001b[2K     \u001b[90m\u2501\u2501\u2501\u2501\u2501\u2501\u2501\u2501\u2501\u2501\u2501\u2501\u2501\u2501\u2501\u2501\u2501\u2501\u2501\u2501\u2501\u2501\u2501\u2501\u2501\u2501\u2501\u2501\u2501\u2501\u2501\u2501\u2501\u2501\u2501\u2501\u2501\u2501\u2501\u001b[0m \u001b[32m176.2/176.2 MB\u001b[0m \u001b[31m7.5 MB/s\u001b[0m eta \u001b[36m0:00:00\u001b[0m\n",
            "\u001b[?25hCollecting nvidia-nvtx-cu12==12.1.105 (from torch==2.4.0)\n",
            "  Downloading https://download.pytorch.org/whl/cu121/nvidia_nvtx_cu12-12.1.105-py3-none-manylinux1_x86_64.whl (99 kB)\n",
            "\u001b[2K     \u001b[90m\u2501\u2501\u2501\u2501\u2501\u2501\u2501\u2501\u2501\u2501\u2501\u2501\u2501\u2501\u2501\u2501\u2501\u2501\u2501\u2501\u2501\u2501\u2501\u2501\u2501\u2501\u2501\u2501\u2501\u2501\u2501\u2501\u2501\u2501\u2501\u2501\u2501\u2501\u2501\u2501\u001b[0m \u001b[32m99.1/99.1 kB\u001b[0m \u001b[31m10.3 MB/s\u001b[0m eta \u001b[36m0:00:00\u001b[0m\n",
            "\u001b[?25hCollecting triton==3.0.0 (from torch==2.4.0)\n",
            "  Downloading https://download.pytorch.org/whl/triton-3.0.0-1-cp312-cp312-manylinux2014_x86_64.manylinux_2_17_x86_64.whl (209.5 MB)\n",
            "\u001b[2K     \u001b[90m\u2501\u2501\u2501\u2501\u2501\u2501\u2501\u2501\u2501\u2501\u2501\u2501\u2501\u2501\u2501\u2501\u2501\u2501\u2501\u2501\u2501\u2501\u2501\u2501\u2501\u2501\u2501\u2501\u2501\u2501\u2501\u2501\u2501\u2501\u2501\u2501\u2501\u2501\u2501\u001b[0m \u001b[32m209.5/209.5 MB\u001b[0m \u001b[31m4.1 MB/s\u001b[0m eta \u001b[36m0:00:00\u001b[0m\n",
            "\u001b[?25hRequirement already satisfied: numpy in /usr/local/lib/python3.12/dist-packages (from torchvision==0.19.0) (2.0.2)\n",
            "Requirement already satisfied: pillow!=8.3.*,>=5.3.0 in /usr/local/lib/python3.12/dist-packages (from torchvision==0.19.0) (11.3.0)\n",
            "Requirement already satisfied: nvidia-nvjitlink-cu12 in /usr/local/lib/python3.12/dist-packages (from nvidia-cusolver-cu12==11.4.5.107->torch==2.4.0) (12.6.85)\n",
            "Requirement already satisfied: MarkupSafe>=2.0 in /usr/local/lib/python3.12/dist-packages (from jinja2->torch==2.4.0) (3.0.2)\n",
            "Requirement already satisfied: mpmath<1.4,>=1.1.0 in /usr/local/lib/python3.12/dist-packages (from sympy->torch==2.4.0) (1.3.0)\n",
            "Installing collected packages: triton, nvidia-nvtx-cu12, nvidia-nccl-cu12, nvidia-cusparse-cu12, nvidia-curand-cu12, nvidia-cufft-cu12, nvidia-cuda-runtime-cu12, nvidia-cuda-nvrtc-cu12, nvidia-cuda-cupti-cu12, nvidia-cublas-cu12, nvidia-cusolver-cu12, nvidia-cudnn-cu12, torch, torchvision, torchaudio\n",
            "  Attempting uninstall: triton\n",
            "    Found existing installation: triton 3.4.0\n",
            "    Uninstalling triton-3.4.0:\n",
            "      Successfully uninstalled triton-3.4.0\n",
            "  Attempting uninstall: nvidia-nvtx-cu12\n",
            "    Found existing installation: nvidia-nvtx-cu12 12.6.77\n",
            "    Uninstalling nvidia-nvtx-cu12-12.6.77:\n",
            "      Successfully uninstalled nvidia-nvtx-cu12-12.6.77\n",
            "  Attempting uninstall: nvidia-nccl-cu12\n",
            "    Found existing installation: nvidia-nccl-cu12 2.27.3\n",
            "    Uninstalling nvidia-nccl-cu12-2.27.3:\n",
            "      Successfully uninstalled nvidia-nccl-cu12-2.27.3\n",
            "  Attempting uninstall: nvidia-cusparse-cu12\n",
            "    Found existing installation: nvidia-cusparse-cu12 12.5.4.2\n",
            "    Uninstalling nvidia-cusparse-cu12-12.5.4.2:\n",
            "      Successfully uninstalled nvidia-cusparse-cu12-12.5.4.2\n",
            "  Attempting uninstall: nvidia-curand-cu12\n",
            "    Found existing installation: nvidia-curand-cu12 10.3.7.77\n",
            "    Uninstalling nvidia-curand-cu12-10.3.7.77:\n",
            "      Successfully uninstalled nvidia-curand-cu12-10.3.7.77\n",
            "  Attempting uninstall: nvidia-cufft-cu12\n",
            "    Found existing installation: nvidia-cufft-cu12 11.3.0.4\n",
            "    Uninstalling nvidia-cufft-cu12-11.3.0.4:\n",
            "      Successfully uninstalled nvidia-cufft-cu12-11.3.0.4\n",
            "  Attempting uninstall: nvidia-cuda-runtime-cu12\n",
            "    Found existing installation: nvidia-cuda-runtime-cu12 12.6.77\n",
            "    Uninstalling nvidia-cuda-runtime-cu12-12.6.77:\n",
            "      Successfully uninstalled nvidia-cuda-runtime-cu12-12.6.77\n",
            "  Attempting uninstall: nvidia-cuda-nvrtc-cu12\n",
            "    Found existing installation: nvidia-cuda-nvrtc-cu12 12.6.77\n",
            "    Uninstalling nvidia-cuda-nvrtc-cu12-12.6.77:\n",
            "      Successfully uninstalled nvidia-cuda-nvrtc-cu12-12.6.77\n",
            "  Attempting uninstall: nvidia-cuda-cupti-cu12\n",
            "    Found existing installation: nvidia-cuda-cupti-cu12 12.6.80\n",
            "    Uninstalling nvidia-cuda-cupti-cu12-12.6.80:\n",
            "      Successfully uninstalled nvidia-cuda-cupti-cu12-12.6.80\n",
            "  Attempting uninstall: nvidia-cublas-cu12\n",
            "    Found existing installation: nvidia-cublas-cu12 12.6.4.1\n",
            "    Uninstalling nvidia-cublas-cu12-12.6.4.1:\n",
            "      Successfully uninstalled nvidia-cublas-cu12-12.6.4.1\n",
            "  Attempting uninstall: nvidia-cusolver-cu12\n",
            "    Found existing installation: nvidia-cusolver-cu12 11.7.1.2\n",
            "    Uninstalling nvidia-cusolver-cu12-11.7.1.2:\n",
            "      Successfully uninstalled nvidia-cusolver-cu12-11.7.1.2\n",
            "  Attempting uninstall: nvidia-cudnn-cu12\n",
            "    Found existing installation: nvidia-cudnn-cu12 9.10.2.21\n",
            "    Uninstalling nvidia-cudnn-cu12-9.10.2.21:\n",
            "      Successfully uninstalled nvidia-cudnn-cu12-9.10.2.21\n",
            "  Attempting uninstall: torch\n",
            "    Found existing installation: torch 2.8.0+cu126\n",
            "    Uninstalling torch-2.8.0+cu126:\n",
            "      Successfully uninstalled torch-2.8.0+cu126\n",
            "  Attempting uninstall: torchvision\n",
            "    Found existing installation: torchvision 0.23.0+cu126\n",
            "    Uninstalling torchvision-0.23.0+cu126:\n",
            "      Successfully uninstalled torchvision-0.23.0+cu126\n",
            "  Attempting uninstall: torchaudio\n",
            "    Found existing installation: torchaudio 2.8.0+cu126\n",
            "    Uninstalling torchaudio-2.8.0+cu126:\n",
            "      Successfully uninstalled torchaudio-2.8.0+cu126\n",
            "\u001b[31mERROR: pip's dependency resolver does not currently take into account all the packages that are installed. This behaviour is the source of the following dependency conflicts.\n",
            "peft 0.17.1 requires huggingface_hub>=0.25.0, but you have huggingface-hub 0.20.0 which is incompatible.\n",
            "accelerate 1.10.1 requires huggingface_hub>=0.21.0, but you have huggingface-hub 0.20.0 which is incompatible.\u001b[0m\u001b[31m\n",
            "\u001b[0mSuccessfully installed nvidia-cublas-cu12-12.1.3.1 nvidia-cuda-cupti-cu12-12.1.105 nvidia-cuda-nvrtc-cu12-12.1.105 nvidia-cuda-runtime-cu12-12.1.105 nvidia-cudnn-cu12-9.1.0.70 nvidia-cufft-cu12-11.0.2.54 nvidia-curand-cu12-10.3.2.106 nvidia-cusolver-cu12-11.4.5.107 nvidia-cusparse-cu12-12.1.0.106 nvidia-nccl-cu12-2.20.5 nvidia-nvtx-cu12-12.1.105 torch-2.4.0+cu121 torchaudio-2.4.0+cu121 torchvision-0.19.0+cu121 triton-3.0.0\n",
            "Collecting causal-conv1d==1.4.0\n",
            "  Downloading causal_conv1d-1.4.0.tar.gz (9.3 kB)\n",
            "  Preparing metadata (setup.py) ... \u001b[?25l\u001b[?25hdone\n",
            "Requirement already satisfied: torch in /usr/local/lib/python3.12/dist-packages (from causal-conv1d==1.4.0) (2.4.0+cu121)\n",
            "Requirement already satisfied: packaging in /usr/local/lib/python3.12/dist-packages (from causal-conv1d==1.4.0) (25.0)\n",
            "Collecting ninja (from causal-conv1d==1.4.0)\n",
            "  Downloading ninja-1.13.0-py3-none-manylinux2014_x86_64.manylinux_2_17_x86_64.whl.metadata (5.1 kB)\n",
            "Requirement already satisfied: filelock in /usr/local/lib/python3.12/dist-packages (from torch->causal-conv1d==1.4.0) (3.19.1)\n",
            "Requirement already satisfied: typing-extensions>=4.8.0 in /usr/local/lib/python3.12/dist-packages (from torch->causal-conv1d==1.4.0) (4.15.0)\n",
            "Requirement already satisfied: sympy in /usr/local/lib/python3.12/dist-packages (from torch->causal-conv1d==1.4.0) (1.13.3)\n",
            "Requirement already satisfied: networkx in /usr/local/lib/python3.12/dist-packages (from torch->causal-conv1d==1.4.0) (3.5)\n",
            "Requirement already satisfied: jinja2 in /usr/local/lib/python3.12/dist-packages (from torch->causal-conv1d==1.4.0) (3.1.6)\n",
            "Requirement already satisfied: fsspec in /usr/local/lib/python3.12/dist-packages (from torch->causal-conv1d==1.4.0) (2023.10.0)\n",
            "Requirement already satisfied: setuptools in /usr/local/lib/python3.12/dist-packages (from torch->causal-conv1d==1.4.0) (75.2.0)\n",
            "Requirement already satisfied: nvidia-cuda-nvrtc-cu12==12.1.105 in /usr/local/lib/python3.12/dist-packages (from torch->causal-conv1d==1.4.0) (12.1.105)\n",
            "Requirement already satisfied: nvidia-cuda-runtime-cu12==12.1.105 in /usr/local/lib/python3.12/dist-packages (from torch->causal-conv1d==1.4.0) (12.1.105)\n",
            "Requirement already satisfied: nvidia-cuda-cupti-cu12==12.1.105 in /usr/local/lib/python3.12/dist-packages (from torch->causal-conv1d==1.4.0) (12.1.105)\n",
            "Requirement already satisfied: nvidia-cudnn-cu12==9.1.0.70 in /usr/local/lib/python3.12/dist-packages (from torch->causal-conv1d==1.4.0) (9.1.0.70)\n",
            "Requirement already satisfied: nvidia-cublas-cu12==12.1.3.1 in /usr/local/lib/python3.12/dist-packages (from torch->causal-conv1d==1.4.0) (12.1.3.1)\n",
            "Requirement already satisfied: nvidia-cufft-cu12==11.0.2.54 in /usr/local/lib/python3.12/dist-packages (from torch->causal-conv1d==1.4.0) (11.0.2.54)\n",
            "Requirement already satisfied: nvidia-curand-cu12==10.3.2.106 in /usr/local/lib/python3.12/dist-packages (from torch->causal-conv1d==1.4.0) (10.3.2.106)\n",
            "Requirement already satisfied: nvidia-cusolver-cu12==11.4.5.107 in /usr/local/lib/python3.12/dist-packages (from torch->causal-conv1d==1.4.0) (11.4.5.107)\n",
            "Requirement already satisfied: nvidia-cusparse-cu12==12.1.0.106 in /usr/local/lib/python3.12/dist-packages (from torch->causal-conv1d==1.4.0) (12.1.0.106)\n",
            "Requirement already satisfied: nvidia-nccl-cu12==2.20.5 in /usr/local/lib/python3.12/dist-packages (from torch->causal-conv1d==1.4.0) (2.20.5)\n",
            "Requirement already satisfied: nvidia-nvtx-cu12==12.1.105 in /usr/local/lib/python3.12/dist-packages (from torch->causal-conv1d==1.4.0) (12.1.105)\n",
            "Requirement already satisfied: triton==3.0.0 in /usr/local/lib/python3.12/dist-packages (from torch->causal-conv1d==1.4.0) (3.0.0)\n",
            "Requirement already satisfied: nvidia-nvjitlink-cu12 in /usr/local/lib/python3.12/dist-packages (from nvidia-cusolver-cu12==11.4.5.107->torch->causal-conv1d==1.4.0) (12.6.85)\n",
            "Requirement already satisfied: MarkupSafe>=2.0 in /usr/local/lib/python3.12/dist-packages (from jinja2->torch->causal-conv1d==1.4.0) (3.0.2)\n",
            "Requirement already satisfied: mpmath<1.4,>=1.1.0 in /usr/local/lib/python3.12/dist-packages (from sympy->torch->causal-conv1d==1.4.0) (1.3.0)\n",
            "Downloading ninja-1.13.0-py3-none-manylinux2014_x86_64.manylinux_2_17_x86_64.whl (180 kB)\n",
            "\u001b[2K   \u001b[90m\u2501\u2501\u2501\u2501\u2501\u2501\u2501\u2501\u2501\u2501\u2501\u2501\u2501\u2501\u2501\u2501\u2501\u2501\u2501\u2501\u2501\u2501\u2501\u2501\u2501\u2501\u2501\u2501\u2501\u2501\u2501\u2501\u2501\u2501\u2501\u2501\u2501\u2501\u2501\u2501\u001b[0m \u001b[32m180.7/180.7 kB\u001b[0m \u001b[31m16.4 MB/s\u001b[0m eta \u001b[36m0:00:00\u001b[0m\n",
            "\u001b[?25hBuilding wheels for collected packages: causal-conv1d\n",
            "  Building wheel for causal-conv1d (setup.py) ... \u001b[?25l\u001b[?25hdone\n",
            "  Created wheel for causal-conv1d: filename=causal_conv1d-1.4.0-cp312-cp312-linux_x86_64.whl size=104884589 sha256=70c6d91d00c625d750b83c9c4bdd0bd395c61aff9baa8c0d58e0a33dabbe3b4e\n",
            "  Stored in directory: /root/.cache/pip/wheels/3a/bd/04/a4893fd5ad69a02f55b49f04dc1dbbd7c439332db7895f62ff\n",
            "Successfully built causal-conv1d\n",
            "Installing collected packages: ninja, causal-conv1d\n",
            "Successfully installed causal-conv1d-1.4.0 ninja-1.13.0\n",
            "Collecting mamba-ssm==2.2.2\n",
            "  Downloading mamba_ssm-2.2.2.tar.gz (85 kB)\n",
            "\u001b[2K     \u001b[90m\u2501\u2501\u2501\u2501\u2501\u2501\u2501\u2501\u2501\u2501\u2501\u2501\u2501\u2501\u2501\u2501\u2501\u2501\u2501\u2501\u2501\u2501\u2501\u2501\u2501\u2501\u2501\u2501\u2501\u2501\u2501\u2501\u2501\u2501\u2501\u2501\u2501\u2501\u2501\u2501\u001b[0m \u001b[32m85.4/85.4 kB\u001b[0m \u001b[31m8.9 MB/s\u001b[0m eta \u001b[36m0:00:00\u001b[0m\n",
            "\u001b[?25h  Preparing metadata (setup.py) ... \u001b[?25l\u001b[?25hdone\n",
            "Requirement already satisfied: torch in /usr/local/lib/python3.12/dist-packages (from mamba-ssm==2.2.2) (2.4.0+cu121)\n",
            "Requirement already satisfied: packaging in /usr/local/lib/python3.12/dist-packages (from mamba-ssm==2.2.2) (25.0)\n",
            "Requirement already satisfied: ninja in /usr/local/lib/python3.12/dist-packages (from mamba-ssm==2.2.2) (1.13.0)\n",
            "Requirement already satisfied: einops in /usr/local/lib/python3.12/dist-packages (from mamba-ssm==2.2.2) (0.8.1)\n",
            "Requirement already satisfied: triton in /usr/local/lib/python3.12/dist-packages (from mamba-ssm==2.2.2) (3.0.0)\n",
            "Requirement already satisfied: transformers in /usr/local/lib/python3.12/dist-packages (from mamba-ssm==2.2.2) (4.56.1)\n",
            "Requirement already satisfied: filelock in /usr/local/lib/python3.12/dist-packages (from torch->mamba-ssm==2.2.2) (3.19.1)\n",
            "Requirement already satisfied: typing-extensions>=4.8.0 in /usr/local/lib/python3.12/dist-packages (from torch->mamba-ssm==2.2.2) (4.15.0)\n",
            "Requirement already satisfied: sympy in /usr/local/lib/python3.12/dist-packages (from torch->mamba-ssm==2.2.2) (1.13.3)\n",
            "Requirement already satisfied: networkx in /usr/local/lib/python3.12/dist-packages (from torch->mamba-ssm==2.2.2) (3.5)\n",
            "Requirement already satisfied: jinja2 in /usr/local/lib/python3.12/dist-packages (from torch->mamba-ssm==2.2.2) (3.1.6)\n",
            "Requirement already satisfied: fsspec in /usr/local/lib/python3.12/dist-packages (from torch->mamba-ssm==2.2.2) (2023.10.0)\n",
            "Requirement already satisfied: setuptools in /usr/local/lib/python3.12/dist-packages (from torch->mamba-ssm==2.2.2) (75.2.0)\n",
            "Requirement already satisfied: nvidia-cuda-nvrtc-cu12==12.1.105 in /usr/local/lib/python3.12/dist-packages (from torch->mamba-ssm==2.2.2) (12.1.105)\n",
            "Requirement already satisfied: nvidia-cuda-runtime-cu12==12.1.105 in /usr/local/lib/python3.12/dist-packages (from torch->mamba-ssm==2.2.2) (12.1.105)\n",
            "Requirement already satisfied: nvidia-cuda-cupti-cu12==12.1.105 in /usr/local/lib/python3.12/dist-packages (from torch->mamba-ssm==2.2.2) (12.1.105)\n",
            "Requirement already satisfied: nvidia-cudnn-cu12==9.1.0.70 in /usr/local/lib/python3.12/dist-packages (from torch->mamba-ssm==2.2.2) (9.1.0.70)\n",
            "Requirement already satisfied: nvidia-cublas-cu12==12.1.3.1 in /usr/local/lib/python3.12/dist-packages (from torch->mamba-ssm==2.2.2) (12.1.3.1)\n",
            "Requirement already satisfied: nvidia-cufft-cu12==11.0.2.54 in /usr/local/lib/python3.12/dist-packages (from torch->mamba-ssm==2.2.2) (11.0.2.54)\n",
            "Requirement already satisfied: nvidia-curand-cu12==10.3.2.106 in /usr/local/lib/python3.12/dist-packages (from torch->mamba-ssm==2.2.2) (10.3.2.106)\n",
            "Requirement already satisfied: nvidia-cusolver-cu12==11.4.5.107 in /usr/local/lib/python3.12/dist-packages (from torch->mamba-ssm==2.2.2) (11.4.5.107)\n",
            "Requirement already satisfied: nvidia-cusparse-cu12==12.1.0.106 in /usr/local/lib/python3.12/dist-packages (from torch->mamba-ssm==2.2.2) (12.1.0.106)\n",
            "Requirement already satisfied: nvidia-nccl-cu12==2.20.5 in /usr/local/lib/python3.12/dist-packages (from torch->mamba-ssm==2.2.2) (2.20.5)\n",
            "Requirement already satisfied: nvidia-nvtx-cu12==12.1.105 in /usr/local/lib/python3.12/dist-packages (from torch->mamba-ssm==2.2.2) (12.1.105)\n",
            "Requirement already satisfied: nvidia-nvjitlink-cu12 in /usr/local/lib/python3.12/dist-packages (from nvidia-cusolver-cu12==11.4.5.107->torch->mamba-ssm==2.2.2) (12.6.85)\n",
            "Collecting huggingface-hub<1.0,>=0.34.0 (from transformers->mamba-ssm==2.2.2)\n",
            "  Downloading huggingface_hub-0.34.4-py3-none-any.whl.metadata (14 kB)\n",
            "Requirement already satisfied: numpy>=1.17 in /usr/local/lib/python3.12/dist-packages (from transformers->mamba-ssm==2.2.2) (2.0.2)\n",
            "Requirement already satisfied: pyyaml>=5.1 in /usr/local/lib/python3.12/dist-packages (from transformers->mamba-ssm==2.2.2) (6.0.2)\n",
            "Requirement already satisfied: regex!=2019.12.17 in /usr/local/lib/python3.12/dist-packages (from transformers->mamba-ssm==2.2.2) (2024.11.6)\n",
            "Requirement already satisfied: requests in /usr/local/lib/python3.12/dist-packages (from transformers->mamba-ssm==2.2.2) (2.32.4)\n",
            "Requirement already satisfied: tokenizers<=0.23.0,>=0.22.0 in /usr/local/lib/python3.12/dist-packages (from transformers->mamba-ssm==2.2.2) (0.22.0)\n",
            "Requirement already satisfied: safetensors>=0.4.3 in /usr/local/lib/python3.12/dist-packages (from transformers->mamba-ssm==2.2.2) (0.6.2)\n",
            "Requirement already satisfied: tqdm>=4.27 in /usr/local/lib/python3.12/dist-packages (from transformers->mamba-ssm==2.2.2) (4.67.1)\n",
            "Requirement already satisfied: hf-xet<2.0.0,>=1.1.3 in /usr/local/lib/python3.12/dist-packages (from huggingface-hub<1.0,>=0.34.0->transformers->mamba-ssm==2.2.2) (1.1.9)\n",
            "Requirement already satisfied: MarkupSafe>=2.0 in /usr/local/lib/python3.12/dist-packages (from jinja2->torch->mamba-ssm==2.2.2) (3.0.2)\n",
            "Requirement already satisfied: charset_normalizer<4,>=2 in /usr/local/lib/python3.12/dist-packages (from requests->transformers->mamba-ssm==2.2.2) (3.4.3)\n",
            "Requirement already satisfied: idna<4,>=2.5 in /usr/local/lib/python3.12/dist-packages (from requests->transformers->mamba-ssm==2.2.2) (3.10)\n",
            "Requirement already satisfied: urllib3<3,>=1.21.1 in /usr/local/lib/python3.12/dist-packages (from requests->transformers->mamba-ssm==2.2.2) (2.5.0)\n",
            "Requirement already satisfied: certifi>=2017.4.17 in /usr/local/lib/python3.12/dist-packages (from requests->transformers->mamba-ssm==2.2.2) (2025.8.3)\n",
            "Requirement already satisfied: mpmath<1.4,>=1.1.0 in /usr/local/lib/python3.12/dist-packages (from sympy->torch->mamba-ssm==2.2.2) (1.3.0)\n",
            "Downloading huggingface_hub-0.34.4-py3-none-any.whl (561 kB)\n",
            "\u001b[2K   \u001b[90m\u2501\u2501\u2501\u2501\u2501\u2501\u2501\u2501\u2501\u2501\u2501\u2501\u2501\u2501\u2501\u2501\u2501\u2501\u2501\u2501\u2501\u2501\u2501\u2501\u2501\u2501\u2501\u2501\u2501\u2501\u2501\u2501\u2501\u2501\u2501\u2501\u2501\u2501\u2501\u2501\u001b[0m \u001b[32m561.5/561.5 kB\u001b[0m \u001b[31m45.5 MB/s\u001b[0m eta \u001b[36m0:00:00\u001b[0m\n",
            "\u001b[?25hBuilding wheels for collected packages: mamba-ssm\n",
            "  Building wheel for mamba-ssm (setup.py) ... \u001b[?25l\u001b[?25hdone\n",
            "  Created wheel for mamba-ssm: filename=mamba_ssm-2.2.2-cp312-cp312-linux_x86_64.whl size=324005633 sha256=f4cf06585ac28c783dbe6fe357c64218415af3665c3c06106be8f86dab69b2a8\n",
            "  Stored in directory: /root/.cache/pip/wheels/5f/b8/99/4112d82fe2a9458dd194c3ff54c43a14a8594c8f90cf16046f\n",
            "Successfully built mamba-ssm\n",
            "Installing collected packages: huggingface-hub, mamba-ssm\n",
            "  Attempting uninstall: huggingface-hub\n",
            "    Found existing installation: huggingface-hub 0.20.0\n",
            "    Uninstalling huggingface-hub-0.20.0:\n",
            "      Successfully uninstalled huggingface-hub-0.20.0\n",
            "Successfully installed huggingface-hub-0.34.4 mamba-ssm-2.2.2\n"
          ]
        }
      ],
      "source": [
        "!pip install datasets==2.16.0\n",
        "!pip install huggingface-hub==0.20.0\n",
        "!apt-get install -y libsox-dev\n",
        "!pip install torch==2.4.0 torchvision==0.19.0 torchaudio==2.4.0 --index-url https://download.pytorch.org/whl/cu121\n",
        "!pip install causal-conv1d==1.4.0 && pip install mamba-ssm==2.2.2"
      ]
    },
    {
      "cell_type": "code",
      "source": [
        "# Keyword\u2011Spotting with Mamba SSM\n",
        "# =========================================================\n",
        "# Key differences vs. the previous MobileNet script\n",
        "# ------------------------------------------------\n",
        "# 1. Uses Mamba state\u2011space blocks instead of a CNN.\n",
        "# 2. Maintains separate front\u2011ends for train vs. eval (no masks in eval).\n",
        "# 3. Handles variable\u2011length sequences with a custom `collate_fn` (pads \u201380\u202fdB).\n",
        "# 4. One\u2011Cycle LR scheduler stepped correctly each batch.\n",
        "# 5. Saves best + final checkpoints to Google\u00a0Drive.\n",
        "\n",
        "\n",
        "from __future__ import annotations\n",
        "import json, os, random\n",
        "from pathlib import Path\n",
        "from typing import Tuple, Dict\n",
        "import torch, torchaudio\n",
        "import torch.nn as nn\n",
        "import os\n",
        "import math\n",
        "import torch.nn.functional as F\n",
        "import torchvision.models as tvm\n",
        "import torchaudio.transforms as T\n",
        "from torch.utils.data import Dataset, DataLoader\n",
        "from datasets import load_dataset\n",
        "from tqdm.notebook import tqdm\n",
        "from mamba_ssm import Mamba\n",
        "\n",
        "from google.colab import drive\n",
        "drive.mount('/content/drive')"
      ],
      "metadata": {
        "colab": {
          "base_uri": "https://localhost:8080/"
        },
        "collapsed": true,
        "id": "vVGJGcPH9Xdt",
        "outputId": "8fb669a0-21f7-4d13-b851-bc1a61cea4ae"
      },
      "execution_count": null,
      "outputs": [
        {
          "output_type": "stream",
          "name": "stderr",
          "text": [
            "/usr/local/lib/python3.12/dist-packages/mamba_ssm/ops/selective_scan_interface.py:163: FutureWarning: `torch.cuda.amp.custom_fwd(args...)` is deprecated. Please use `torch.amp.custom_fwd(args..., device_type='cuda')` instead.\n",
            "  @custom_fwd\n",
            "/usr/local/lib/python3.12/dist-packages/mamba_ssm/ops/selective_scan_interface.py:239: FutureWarning: `torch.cuda.amp.custom_bwd(args...)` is deprecated. Please use `torch.amp.custom_bwd(args..., device_type='cuda')` instead.\n",
            "  @custom_bwd\n",
            "/usr/local/lib/python3.12/dist-packages/mamba_ssm/ops/triton/layer_norm.py:985: FutureWarning: `torch.cuda.amp.custom_fwd(args...)` is deprecated. Please use `torch.amp.custom_fwd(args..., device_type='cuda')` instead.\n",
            "  @custom_fwd\n",
            "/usr/local/lib/python3.12/dist-packages/mamba_ssm/ops/triton/layer_norm.py:1044: FutureWarning: `torch.cuda.amp.custom_bwd(args...)` is deprecated. Please use `torch.amp.custom_bwd(args..., device_type='cuda')` instead.\n",
            "  @custom_bwd\n",
            "/usr/local/lib/python3.12/dist-packages/mamba_ssm/distributed/tensor_parallel.py:25: FutureWarning: `torch.cuda.amp.custom_fwd(args...)` is deprecated. Please use `torch.amp.custom_fwd(args..., device_type='cuda')` instead.\n",
            "  @custom_fwd\n",
            "/usr/local/lib/python3.12/dist-packages/mamba_ssm/distributed/tensor_parallel.py:61: FutureWarning: `torch.cuda.amp.custom_bwd(args...)` is deprecated. Please use `torch.amp.custom_bwd(args..., device_type='cuda')` instead.\n",
            "  @custom_bwd\n",
            "/usr/local/lib/python3.12/dist-packages/mamba_ssm/ops/triton/ssd_combined.py:757: FutureWarning: `torch.cuda.amp.custom_fwd(args...)` is deprecated. Please use `torch.amp.custom_fwd(args..., device_type='cuda')` instead.\n",
            "  @custom_fwd\n",
            "/usr/local/lib/python3.12/dist-packages/mamba_ssm/ops/triton/ssd_combined.py:835: FutureWarning: `torch.cuda.amp.custom_bwd(args...)` is deprecated. Please use `torch.amp.custom_bwd(args..., device_type='cuda')` instead.\n",
            "  @custom_bwd\n"
          ]
        },
        {
          "output_type": "stream",
          "name": "stdout",
          "text": [
            "Mounted at /content/drive\n"
          ]
        }
      ]
    },
    {
      "cell_type": "code",
      "source": [
        "# ---------------------------------------------------------------------\n",
        "# 2. Waveform-level augmentation (shift + noise)\n",
        "# ---------------------------------------------------------------------\n",
        "class WaveToSpec:\n",
        "    def __init__(self,\n",
        "                 feature_type: str = \"mel\",\n",
        "                 sample_rate: int = 16_000,\n",
        "                 n_fft: int = 2048,\n",
        "                 hop_length: int = 256,\n",
        "                 n_mels: int = 128,\n",
        "                 n_mfcc: int = 40,\n",
        "                 top_db: int | None = 80,\n",
        "                 apply_mask: bool = True,\n",
        "                 freq_mask_param: int = 15,\n",
        "                 time_mask_param: int = 10):\n",
        "        self.feature_type = feature_type.lower(); assert self.feature_type in {\"mel\",\"mfcc\"}\n",
        "        self.apply_mask = apply_mask and self.feature_type == \"mel\"\n",
        "\n",
        "        if self.feature_type == \"mel\":\n",
        "            self.spec = T.MelSpectrogram(sample_rate, n_fft, hop_length, n_mels, power=2)\n",
        "            self.to_db = T.AmplitudeToDB(stype=\"power\", top_db=top_db)\n",
        "            if self.apply_mask:\n",
        "                self.freq_mask = T.FrequencyMasking(freq_mask_param)\n",
        "                self.time_mask = T.TimeMasking(time_mask_param)\n",
        "        else:\n",
        "            self.spec = T.MFCC(sample_rate, n_mfcc,\n",
        "                                melkwargs=dict(n_fft=n_fft, hop_length=hop_length, n_mels=n_mels))\n",
        "            self.to_db = None\n",
        "            self.freq_mask = self.time_mask = None\n",
        "\n",
        "    def __call__(self, wav: torch.Tensor) -> torch.Tensor:\n",
        "        if wav.dim() == 1:\n",
        "            wav = wav.unsqueeze(0)\n",
        "        feats = self.spec(wav)\n",
        "        if self.to_db is not None:\n",
        "            feats = self.to_db(feats.clamp(min=1e-10))\n",
        "        if self.apply_mask:\n",
        "            # stronger SpecAugment \u2014 apply two freq & two time masks\n",
        "            feats = self.freq_mask(feats); feats = self.time_mask(feats)\n",
        "            feats = self.freq_mask(feats); feats = self.time_mask(feats)\n",
        "        return feats\n",
        "\n",
        "class Augment:\n",
        "    def __init__(self, stretch: Tuple[float,float]=(1.0,1.0),\n",
        "                 shift_ms: int = 100,\n",
        "                 noise: Tuple[float,float]=(0.,0.005),\n",
        "                 sr: int = 16_000):\n",
        "        self.stretch = stretch\n",
        "        self.shift   = int(shift_ms * sr / 1000)\n",
        "        self.noise   = noise\n",
        "        self.sr      = sr\n",
        "\n",
        "    def _shift(self, x: torch.Tensor):\n",
        "        if self.shift == 0:\n",
        "            return x\n",
        "        s = int(torch.randint(-self.shift, self.shift + 1, ()).item())\n",
        "        if s == 0:\n",
        "            return x\n",
        "        return (F.pad(x, (s, 0))[:, :-s] if s > 0 else F.pad(x, (0, -s))[:, -s:])\n",
        "\n",
        "    def __call__(self, wav: torch.Tensor):\n",
        "        squeezed = False\n",
        "        if wav.dim() == 1:\n",
        "            wav = wav.unsqueeze(0)\n",
        "            squeezed = True\n",
        "        if self.stretch != (1.0, 1.0):\n",
        "            factor = float(torch.empty(()).uniform_(*self.stretch))\n",
        "            if abs(factor - 1.0) > 1e-3:\n",
        "                wav, _ = torchaudio.sox_effects.apply_effects_tensor(\n",
        "                    wav, self.sr, [[\"tempo\", f\"{factor}\"]]\n",
        "                )\n",
        "        wav = self._shift(wav)\n",
        "        if self.noise[1] > 0:\n",
        "            sigma = float(torch.empty(()).uniform_(*self.noise))\n",
        "            if sigma > 0:\n",
        "                wav = wav + sigma * torch.randn_like(wav)\n",
        "        return wav.squeeze(0) if squeezed else wav"
      ],
      "metadata": {
        "id": "SNS1FZs59YFq"
      },
      "execution_count": null,
      "outputs": []
    },
    {
      "cell_type": "code",
      "source": [
        "# ---------------------------------------------------------------------\n",
        "# 3. Dataset wrapper with dataset-level normalization\n",
        "# ---------------------------------------------------------------------\n",
        "class SpeechCommands(Dataset):\n",
        "    def __init__(self, hf_split, aug: Augment | None, frontend: WaveToSpec,\n",
        "                 wav_len: int = 16_000, mean: float = 0.0, std: float = 1.0):\n",
        "        self.ds, self.aug, self.front = hf_split, aug, frontend\n",
        "        self.wav_len = wav_len\n",
        "        self.mean = mean\n",
        "        self.std = std\n",
        "\n",
        "    def __len__(self):\n",
        "        return len(self.ds)\n",
        "\n",
        "    def __getitem__(self, idx):\n",
        "        sample = self.ds[idx]\n",
        "        wav = torch.from_numpy(sample[\"audio\"][\"array\"]).float()\n",
        "\n",
        "        if wav.numel() < self.wav_len:\n",
        "            wav = F.pad(wav, (0, self.wav_len - wav.numel()))\n",
        "        else:\n",
        "            wav = wav[: self.wav_len]\n",
        "\n",
        "        if self.aug:\n",
        "            wav = self.aug(wav)\n",
        "        feats = self.front(wav)           # [C=1, 40, ~55] for MFCC\n",
        "        feats = (feats - self.mean) / (self.std + 1e-6)  # Normalize with precomputed stats\n",
        "        feats = feats.squeeze(0).transpose(0, 1)  # [T=55, 40]\n",
        "        return feats, sample[\"label\"]"
      ],
      "metadata": {
        "id": "zSD5VmAh9aH0"
      },
      "execution_count": null,
      "outputs": []
    },
    {
      "cell_type": "code",
      "source": [
        "# ---------------------------------------------------------------------\n",
        "# 4. Helper funcs = collate function + data mean/std + LR decay func\n",
        "# ---------------------------------------------------------------------\n",
        "from torch.nn.utils.rnn import pad_sequence\n",
        "\n",
        "# Add padding to spectrograms if needed\n",
        "def collate_fn(batch):\n",
        "    feats, lbls = zip(*batch)\n",
        "    # also return true lengths for mask-aware pooling\n",
        "    lens = torch.tensor([f.size(0) for f in feats], dtype=torch.long)\n",
        "    feats_padded = pad_sequence(feats, batch_first=True, padding_value=0.0)  # [B, T_max, F]\n",
        "    return feats_padded, torch.tensor(lbls), lens\n",
        "\n",
        "\n",
        "# Defines your learning rate schedule\n",
        "def lr_lambda(step):\n",
        "    ' ' 'Start with a very low learning rate and gradually increase it' ' '\n",
        "    if step < warmup_steps:\n",
        "        return float(step) / float(max(1, warmup_steps))\n",
        "    progress = float(step - warmup_steps) / float(max(1, total_steps - warmup_steps))\n",
        "    return max(0.003, 0.5 * (1.0 + math.cos(math.pi * progress)))\n",
        "\n",
        "\n",
        "# Precompute dataset-level mean and std for MFCCs\n",
        "def compute_dataset_stats(ds, frontend, wav_len=16_000):\n",
        "    feats_all = []\n",
        "    for sample in ds:\n",
        "        wav = torch.from_numpy(sample[\"audio\"][\"array\"]).float()\n",
        "        if wav.numel() < wav_len:\n",
        "            wav = F.pad(wav, (0, wav_len - wav.numel()))\n",
        "        else:\n",
        "            wav = wav[: wav_len]\n",
        "        feats = frontend(wav).squeeze(0).transpose(0, 1)  # [T, 40]\n",
        "        feats_all.append(feats)\n",
        "    feats_all = torch.cat(feats_all, dim=0)\n",
        "    return feats_all.mean().item(), feats_all.std().item()\n"
      ],
      "metadata": {
        "id": "ZGtWGIg-9cH6"
      },
      "execution_count": null,
      "outputs": []
    },
    {
      "cell_type": "code",
      "source": [
        "# ---------------------------------------------------------------------\n",
        "# 5. Mamba KWS model with normalization and residuals\n",
        "# ---------------------------------------------------------------------\n",
        "class MambaKWS(nn.Module):\n",
        "    def __init__(self, num_classes: int, d_model=256, d_state=32, expand=2, n_layers=8, in_ch=1, feature_dim=128):\n",
        "        super().__init__()\n",
        "\n",
        "        # Convolutional embedding layer for feature extraction\n",
        "        self.conv_embed = nn.Sequential(\n",
        "            nn.Conv2d(in_ch, 32, 3, padding=1),\n",
        "            nn.BatchNorm2d(32), nn.SiLU(),\n",
        "            nn.Conv2d(32, 32, 3, padding=1),\n",
        "            nn.BatchNorm2d(32), nn.SiLU(),\n",
        "            nn.MaxPool2d(2),\n",
        "\n",
        "            nn.Conv2d(32, 64, 3, padding=1),\n",
        "            nn.BatchNorm2d(64), nn.SiLU(),\n",
        "            nn.Conv2d(64, 64, 3, padding=1),\n",
        "            nn.BatchNorm2d(64), nn.SiLU(),\n",
        "            nn.MaxPool2d((2, 1)),\n",
        "        )\n",
        "\n",
        "        # Calculate the flattened dimension after convolutions to project to d_model\n",
        "        freq_dim_after_conv = feature_dim // 4\n",
        "        flattened_dim = 64 * freq_dim_after_conv\n",
        "\n",
        "        # Projection layer to map flattened conv features to Mamba's dimension\n",
        "        self.proj = nn.Sequential(\n",
        "            nn.Linear(flattened_dim, d_model),\n",
        "            nn.LayerNorm(d_model),\n",
        "            nn.SiLU(),\n",
        "            nn.Dropout(0.1)\n",
        "        )\n",
        "\n",
        "        # Add Mamba blocks with layer norm and residuals\n",
        "        self.blocks = nn.ModuleList([\n",
        "            nn.ModuleDict({\n",
        "                \"norm\": nn.LayerNorm(d_model),\n",
        "                \"mamba\": Mamba(d_model=d_model, d_state=d_state, expand=expand),\n",
        "                \"dropout\": nn.Dropout(max(0.02, 0.05 - (i * 0.005)))\n",
        "            }) for i in range(n_layers)\n",
        "        ])\n",
        "        self.pre_classifier_norm = nn.LayerNorm(d_model)\n",
        "\n",
        "        # Classifier head\n",
        "        self.classifier_dropout = nn.Dropout(0.1)\n",
        "        self.classifier = nn.Sequential(\n",
        "            nn.Linear(d_model, d_model // 2),\n",
        "            nn.SiLU(),\n",
        "            nn.Dropout(0.05),\n",
        "            nn.Linear(d_model // 2, num_classes)\n",
        "        )\n",
        "\n",
        "    # accept lengths for mask-aware pooling\n",
        "    def forward(self, x, lengths: torch.Tensor | None = None):  # x: [B, T, F]\n",
        "        # reshape for Conv2d: [B, T, F] -> [B, 1, F, T]\n",
        "        x = x.permute(0, 2, 1).unsqueeze(1)\n",
        "\n",
        "        # conv front-end\n",
        "        x = self.conv_embed(x)                  # [B, 64, F', T']\n",
        "\n",
        "        # flatten per time-step and project\n",
        "        x = x.permute(0, 3, 1, 2).contiguous().flatten(2)  # [B, T', 64*F']\n",
        "        x = self.proj(x)                                   # [B, T', d_model]\n",
        "\n",
        "        for i, blk in enumerate(self.blocks):\n",
        "            residual = x\n",
        "            x = blk[\"norm\"](x)\n",
        "            x = blk[\"mamba\"](x)\n",
        "            x = blk[\"dropout\"](x)\n",
        "            x = residual + x\n",
        "\n",
        "        x = self.pre_classifier_norm(x)\n",
        "\n",
        "        # mask-aware mean pooling over time\n",
        "        if lengths is not None:\n",
        "            t_lens = torch.div(lengths, 2, rounding_mode='floor').clamp(min=1).to(x.device)  # first pool halves time\n",
        "            Tprime = x.size(1)\n",
        "            mask = (torch.arange(Tprime, device=x.device)[None, :] < t_lens[:, None]).float()  # [B, T']\n",
        "            mask = mask.unsqueeze(-1)  # [B, T', 1]\n",
        "            x_sum = (x * mask).sum(dim=1)                            # [B, d_model]\n",
        "            denom = mask.sum(dim=1).clamp(min=1.0)                   # [B, 1]\n",
        "            pooled = x_sum / denom\n",
        "        else:\n",
        "            pooled = x.mean(dim=1)\n",
        "\n",
        "        main_output = self.classifier(self.classifier_dropout(pooled))\n",
        "        return main_output\n",
        "\n",
        "# ---------------------------------------------------------------------\n",
        "@torch.no_grad()\n",
        "def evaluate(model, loader, device, criterion):\n",
        "    model.eval()\n",
        "    tot = correct = loss_sum = 0\n",
        "    for batch in loader:\n",
        "        xb, yb, lb = batch  # unpack lengths from loader\n",
        "        xb, yb, lb = xb.to(device), yb.to(device), lb.to(device)\n",
        "        logits = model(xb, lengths=lb)\n",
        "        loss = criterion(logits, yb)\n",
        "        loss_sum += loss.item() * xb.size(0)\n",
        "        correct += (logits.argmax(1) == yb).sum().item()\n",
        "        tot += xb.size(0)\n",
        "    return loss_sum / tot, 100 * correct / tot"
      ],
      "metadata": {
        "id": "y6lH7nTk9dan"
      },
      "execution_count": null,
      "outputs": []
    },
    {
      "cell_type": "code",
      "source": [
        "# ---------------------------------------------------------------------\n",
        "# 6. Main script\n",
        "# ---------------------------------------------------------------------\n",
        "if __name__ == \"__main__\":\n",
        "    device = torch.device(\"cuda\" if torch.cuda.is_available() else \"cpu\")\n",
        "    use_amp = (device.type == \"cuda\")\n",
        "\n",
        "    # ---- dataset\n",
        "    ds = load_dataset(\"google/speech_commands\", \"v0.02\")\n",
        "    n_classes = len(ds[\"train\"].features[\"label\"].names)\n",
        "\n",
        "    # log-mel + SpecAugment (train only)\n",
        "    feature_type = \"mel\"        # \"mel\"/\"mfcc\"\n",
        "    Epochs = 100\n",
        "    base_lr = 5e-4\n",
        "    warmup_frac = 0.12          # % of epochs warmup\n",
        "\n",
        "    frontend_train = WaveToSpec(\n",
        "        feature_type=feature_type,\n",
        "        n_mfcc=40, n_mels=128,\n",
        "        apply_mask=True,         # SpecAugment on train\n",
        "        freq_mask_param=15,\n",
        "        time_mask_param=25\n",
        "    )\n",
        "    frontend_eval = WaveToSpec(\n",
        "        feature_type=feature_type,\n",
        "        n_mfcc=40, n_mels=128,\n",
        "        apply_mask=False\n",
        "    )\n",
        "\n",
        "    frontend_stats = WaveToSpec(feature_type=feature_type, n_mfcc=40, n_mels=128, apply_mask=False)\n",
        "\n",
        "    # Waveform augs shift + a bit of noise\n",
        "    aug = Augment(shift_ms=100, noise=(0., 0.01))\n",
        "\n",
        "    # Normalization stats\n",
        "    train_mean, train_std = compute_dataset_stats(ds[\"train\"], frontend_stats)\n",
        "\n",
        "    # Datasets\n",
        "    train_ds = SpeechCommands(ds[\"train\"], aug, frontend_train, mean=train_mean, std=train_std)\n",
        "    val_ds   = SpeechCommands(ds[\"validation\"], None, frontend_eval, mean=train_mean, std=train_std)\n",
        "    test_ds  = SpeechCommands(ds[\"test\"], None, frontend_eval, mean=train_mean, std=train_std)\n",
        "\n",
        "    # Loaders\n",
        "    dl_kwargs = dict(\n",
        "        batch_size=64,\n",
        "        num_workers=2,\n",
        "        pin_memory=True,\n",
        "        persistent_workers=True,\n",
        "        collate_fn=collate_fn\n",
        "    )\n",
        "    train_dl = DataLoader(train_ds, shuffle=True, **dl_kwargs)\n",
        "    val_dl   = DataLoader(val_ds, shuffle=False, **dl_kwargs)\n",
        "\n",
        "    # Model\n",
        "    model = MambaKWS(n_classes, d_model=192, d_state=16, n_layers=12).to(device)\n",
        "\n",
        "    # Loss/opt/sched (per-batch schedule; short warmup; cosine with floor)\n",
        "    criterion = nn.CrossEntropyLoss(label_smoothing=0.07)\n",
        "    opt = torch.optim.AdamW(model.parameters(), lr=base_lr, weight_decay=5e-4, betas=(0.9, 0.999))\n",
        "\n",
        "    steps_per_epoch = len(train_dl)\n",
        "    total_steps     = steps_per_epoch * Epochs\n",
        "    warmup_steps    = int(total_steps * warmup_frac)\n",
        "    sched = torch.optim.lr_scheduler.LambdaLR(opt, lr_lambda)\n",
        "\n",
        "\n",
        "    # Training loop with AMP, clipping, collapse guard, and checkpoints\n",
        "    best_val_acc = 0.0\n",
        "    prev_val_acc = 0.0\n",
        "    BEST_PATH = Path(\"/content/best_kws.pt\")\n",
        "    BEST_PATH.parent.mkdir(parents=True, exist_ok=True)\n",
        "\n",
        "    scaler = torch.cuda.amp.GradScaler(enabled=use_amp)\n",
        "    global_step = 0  # track steps to know when warmup ends\n",
        "\n",
        "    for epoch in range(1, Epochs + 1):\n",
        "        model.train()\n",
        "        running_loss = correct = total = 0.0\n",
        "\n",
        "        pbar = tqdm(train_dl, desc=f\"Epoch {epoch:02d}\")\n",
        "        for batch in pbar:\n",
        "            # unpack lengths and pass to model\n",
        "            xb, yb, lb = batch\n",
        "            xb = xb.to(device, non_blocking=True)\n",
        "            yb = yb.to(device, non_blocking=True)\n",
        "            lb = lb.to(device, non_blocking=True)\n",
        "\n",
        "            with torch.amp.autocast(device_type=device.type, dtype=torch.bfloat16,\n",
        "                                    enabled=use_amp and torch.cuda.is_bf16_supported()):\n",
        "                if torch.isnan(xb).any():\n",
        "                    xb = torch.nan_to_num(xb, nan=0.0)\n",
        "\n",
        "                logits = model(xb, lengths=lb)\n",
        "                loss = criterion(logits, yb)\n",
        "\n",
        "                if not torch.isfinite(loss):\n",
        "                    continue\n",
        "\n",
        "            opt.zero_grad(set_to_none=True)\n",
        "            scaler.scale(loss).backward()\n",
        "            scaler.unscale_(opt)\n",
        "            torch.nn.utils.clip_grad_norm_(model.parameters(), max_norm=0.3)\n",
        "            scaler.step(opt)\n",
        "            scaler.update()\n",
        "            sched.step()  # per-batch warmup + cosine\n",
        "            global_step += 1\n",
        "\n",
        "            pred = logits.argmax(1)\n",
        "            correct += (pred == yb).sum().item()\n",
        "            total += yb.size(0)\n",
        "            running_loss += loss.item() * yb.size(0)\n",
        "\n",
        "            pbar.set_postfix(\n",
        "                train_loss=f\"{running_loss / max(1,total):.3f}\",\n",
        "                train_acc=f\"{100 * correct / max(1,total):.1f}%\",\n",
        "                lr=f\"{opt.param_groups[0]['lr']:.2e}\"\n",
        "            )\n",
        "\n",
        "        tr_acc = 100.0 * correct / max(1, total)\n",
        "        val_loss, val_acc = evaluate(model, val_dl, device, criterion)\n",
        "        print(f\"Epoch {epoch:02d} \u279c train {tr_acc:.1f}% | val {val_acc:.1f}% (loss {val_loss:.3f}) | lr {opt.param_groups[0]['lr']:.2e}\")\n",
        "\n",
        "        # Collapse guard: big sudden drop -> reload best + shrink LR\n",
        "        if epoch > 1 and prev_val_acc > 50.0 and val_acc < 0.5 * prev_val_acc:\n",
        "            print(f\"WARNING: accuracy collapse ({prev_val_acc:.2f}% \u2192 {val_acc:.2f}%). Restoring best and reducing LR \u00d75.\")\n",
        "            if BEST_PATH.exists():\n",
        "                model.load_state_dict(torch.load(BEST_PATH, map_location=device))\n",
        "            for g in opt.param_groups:\n",
        "                g['lr'] = max(g['lr'] / 5.0, 1e-6)\n",
        "            print(f\"New LR: {opt.param_groups[0]['lr']:.2e}\")\n",
        "\n",
        "        # Best-by-accuracy checkpoint\n",
        "        if val_acc > best_val_acc:\n",
        "            best_val_acc = val_acc\n",
        "            torch.save(model.state_dict(), BEST_PATH)\n",
        "            print(f\"** Saved new best model params ** @ {best_val_acc:.1f}%\")\n",
        "\n",
        "        prev_val_acc = val_acc\n",
        "\n"
      ],
      "metadata": {
        "colab": {
          "base_uri": "https://localhost:8080/",
          "height": 1000,
          "referenced_widgets": [
            "022b552bf2a34a4a808047b7b6650dac",
            "fe0353e6669a4baeae864958ea6b7f91",
            "aea206d7226f48a4b1d699c2fdddda68",
            "4c4ed7d60e474e69afd18452b6e74de2",
            "38b303a79a6e4a7cb493419de0f344e8",
            "80e05f0bcf464997b18691c66c5a0106",
            "b57852067f29498a8585b75a1e666fda",
            "5f78497d58d84b3cbb3d007580d182af",
            "bf06be8733b8481b874b36cecb34e43a",
            "a016d35e8d844ac5a9a8c081741904a3",
            "a0f39bd20156482e9e1ba2e20d28bbda",
            "3a86d6faca864e7487221ec3f1c581dc",
            "c98ad943cae8498085962dbc42272689",
            "7fcb82eddfdc40ff88cc2d2101ea05b9",
            "4e8db49aec8f4e96b5fa28f68998b266",
            "336f5b76604346b59535c6ba3d445ddc",
            "c77acd1f66714e0b84bc1bd7b9544c56",
            "3b19e3b59f1845258656619d2548e511",
            "38662e90a7f546babfaac2ede68b256a",
            "fa3196e35df24d9ab8a5a65adadae5cb",
            "182c0dc6360746d199e60d82b9610e6d",
            "f3d8727b6e5a4eb8a433b767f61f00dd",
            "2a91eabc374748f1b4ff0f785564e441",
            "f278b40553464cc98f4ac2ab07bf4682",
            "901a99895610451a9eeb9fb9a2f1ae72",
            "56019bf7e24a4d8dbb7ea478a6da06bf",
            "102d7308e6c845ba9d9c90e7274be778",
            "502c0b38eb09416d99c689eb5e23d7eb",
            "5b63c760feee40a094901a4bed456015",
            "6b62918e30bb4eb2b831024b26267058",
            "15a6fe06559f4f3d8ca1961ce1b763ad",
            "d76fd833119743d09bf4e934af64d8fd",
            "49acbaa772b74a2e82dbf3fb611b74b2",
            "725aa330ff844b2ca54dc48f92976f2c",
            "7957abea774d4785a30360fe267575ec",
            "7e639e75da1649fa8d0c8ee0d9e78ec1",
            "e0d70868aef8480a8491d0fe1b6b51ee",
            "de0012419e3e4a2ab77b1537ed9c810d",
            "a0238fa42070418480f8801285741dfd",
            "e878da3c636549ebaafccebb195e69ca",
            "51b39114bcef4a348764eb7f27b27f3d",
            "cc1abcb66e704446b27bc38e585885c9",
            "93316a3ec74d4726af9217089cce1fda",
            "e67bd73fc71f42e281a95e5cf0a6cdc6",
            "3ef3cfdd7ec241b89f672abbe0ebccf5",
            "a587cfce9fdd41f6ab8d800d6db14727",
            "ef51c61f2ed14f7698206596f614eb31",
            "708379ba4100493cb907db770807752d",
            "6a0c76070a15423185a6435ff90fe93c",
            "dc918da19fb44bd3b44e3f17f9ef615d",
            "0db72ad3b8dd447fac01a0b2a80f91eb",
            "b60f0f7bf2ce470fb718c4b662e9370f",
            "5ec901ca9ed948c9b1132d022620a6b5",
            "47e378163a104aaa9cec63f4cb0d0caa",
            "192a3510b79f43a8a26eae292e9db319",
            "631d3d53499145de8ee10c37c8b81e3c",
            "fd6210e7040b4b8795d9bb6e561a29a8",
            "5916f60e2312486da340fc82c3634df4",
            "e14cdc3df0804938b54f444b64fdfa88",
            "5ccf47c2aa564b2aa4ea3763ec0141f5",
            "12f99db8caa94c0590b7d192350ae644",
            "5f39049afc484ed7a249a8b626a96227",
            "7e1c8037e91d4e63ac62aba9b7d5611b",
            "ac169d245a724e4fa79b0b61af59dcac",
            "a043291f83a4432ca4a6f403ed45684f",
            "5dc06c7b284b43139fbff44a12d8491e",
            "0de4a59879af478d86f13367a563ae76",
            "305f285a40ef46279e576aa8111806a2",
            "bb7d9e98258c4efa80b9fd9b7ecd0844",
            "ebe78e5d976245688a256e9e961cbcf4",
            "bd643b718bc7439582f014ff353cdf87",
            "828610e05cbf4acfb13a8cbd6d88860d",
            "ff17e8ae0e0f4a8283bca6de219b622f",
            "dc52ea67c9504620916665ef0d55cfdb",
            "6326829927aa4db9a16ffaea738fce6b",
            "c82aef35af774600b742ff487e604f77",
            "ab26f820a39d4f3ea3b695ba0ad1c0b8",
            "44ac7912a3984b2d98f51040aa3ca1ae",
            "8a24b0b70a7c47b8b38d09f28cd01abe",
            "293fd0a5d2d746ddad4f79a3e0ba3b78",
            "735b40b323a54fdfb282b014f3210a90",
            "f93ab839c38b45dab131682bcb803efe",
            "f6c9001f1d5846009be9bc4562e62928",
            "186da0fada75430884639163182ffcfd",
            "7548b40dd4d345c8a87da4e22b847b1c",
            "beaad41b1198407aa9ff7558398cf6d9",
            "38361a97e2a8473485317ebe641ff87f",
            "f8e2e6fb1c494eaaafa95e30c3f3dc16",
            "700879a9ce7c453a9951ce38ea4f59ff",
            "1d3ea2892b0e495fb7226eba7ea18e38",
            "fce00f335bb341868f6d9ad23349001b",
            "5444b1e56b3e4b648e87c1f478b168c0",
            "ccfb1b3c52ca4842b3c85db4df3285b8",
            "796f0b44db0a49f69ef6f7b82937cbdb",
            "d37d678b766941c79709476eab21516d",
            "d1f962e0960b42dea0dc4f8a6b5673f3",
            "222bcfd6d63b42e8b47eaea5253503a6",
            "1f1dd18846a848dda789fd8db2638915",
            "5f076c28882d45a9aff732ca4d8d1949",
            "8c8970cfa6c44897bb92c8ed0ebe2f15",
            "97c5f1b09b22494e96695a55f8a85543",
            "9d84f5fb2a9c4571b592a212154ff384",
            "f1a8549fdfc44434af32a0f04a58a4bd",
            "44f441ade3a54e7e9f4ca4afd1721137",
            "d52c4e0680134238aa4fa7cda241110d",
            "9c94891f447947b3ae7fd6e3a0267835",
            "554056ae0d4d437ab70968fcd34df80b",
            "737272e8a80149d3b07f000105345899",
            "c182ea1356ae4363aeab7ded146be682",
            "5af744e15a794ca49aab5d4853d65c53",
            "f0709e04ab2141d287383ecb88f082ea",
            "fd6ed25021fc44bea8751d6a5a6463ed",
            "95e2691ad4b1426799cfbeb62a8facf8",
            "92361172568a49cfa75c7d3e38d9f331",
            "cd45d2b42e96402eaa5a262b16cf979a",
            "0c73fcb4af06427f91be9a6957aca5b4",
            "6291c153c970475ab961741a2bb5085a",
            "4c62665e15554a228c93894eb1a11ab5",
            "a532a2054da24d02b5cd671adb057c22",
            "4f6c0d8b8e7f4b60b941a20afa0990d5",
            "df43d1967af34e0591e282f327ec55fb",
            "ab3d70dcb4724bdbab0872c99fd0c410",
            "cef89396f00e4bf0aff52e9546d035ad",
            "7914be8c3f714971b57d324e7bf10599",
            "7eed55d765744774a7b2a8c54518caf2",
            "e34ba0bb50b943308a7a019dca0ec706",
            "bb8d7c33ece540cab414818a8d7f4a15",
            "528cd0bed18b48f1b0848a55a7e34bb2",
            "5fc841115aa546fbacc998af01bbe2a2",
            "9600cdb0df844221b203e069eccac62d",
            "b74bb007b50f4a66bb170efd46e0f385",
            "a7c8a7c26d944851913635724299147f",
            "72c42715da4948e48da01824021cb70d",
            "56229bd23fb84164a71ad68a1e5f7a19",
            "9a4bc56c307145b7849fc0306d1d60bc",
            "2f71d27d97694d05a6c9c47b413f44fa",
            "5ff82798b06643628433ace6b0637ec8",
            "428a344732094eeebf01b5ede1c27998",
            "56fc6cdae6194f97bd8bc3d38f62d82a",
            "8e919da6ce8645c0a41e53a7637080b6",
            "da102118c861438c988e74976518f64e",
            "8acd33f0e88b42e981524554dc4c18b2",
            "5b06746d9e1a482190a825adc9b20e11",
            "04928b7877164309bfddf96ccec23dda",
            "e09a90f8f3394e90aea4c0fab85e392f",
            "eb60642d5e6f46dfbe60e5813c5426a5",
            "172fa10cdd454241a6c6f26cf9be59fe",
            "89e06eba56a74708a5c0e5896565ea80",
            "02ee65a5b0484ba79ef55cbd7bba7ad3",
            "ddaba846353748cba4e4306a802ac385",
            "a9df025296284210a3482ce4141f0a1b",
            "1f7cecd87242401f9158d673d38dc793",
            "03e4ab12795849a984b24d3dfa6c38f1",
            "64aa7107c92b480e999eb20e91b54501",
            "f6d0111af3214947bae3360b9ecc8303",
            "36cfd7f26b594711b8bf95c7c9031c4c",
            "3bc2743c75744e168fe286acb9779a18",
            "b8a64b3b621c4966a88a0da393aacb5a",
            "44dcbd7873e14f6281fad2f6fced727a",
            "952e2e8fa1b94abda41a23b9c1d9772a",
            "94bc6a5dab774200a4c3857adaf3aa6d",
            "93c91f03d76c490c8a34bc643d4579d7",
            "9be94d9183a64dcbbcd2dfbf17f7cba3",
            "aa0c687d3d2f41c3bd441b4ba93bbf99",
            "83b947cff92448cd855d4a4b8b4ad8e5",
            "80a7bd5a20db4c53b355709256286f9d",
            "76b67bf4032948ba861e27abdedb1506",
            "c41060a9b4bd4816a063640b1f33995f",
            "6d7bcaf1f9864638847a7b7748e59f45",
            "d1aed9e48f574e4796e89fc3e4c61ab2",
            "72d7af665ffc4ed8b53b70058d44bfaa",
            "aee02739784c4cd38910835c737d10b9",
            "3eb6d07c392f4289acbb7d1d62f646a7",
            "4848bd6bddd84b6a8ae1d543912995bf",
            "c509993ab5994937b2ea849e3d89fff3",
            "236f39fc91314d3ba281dc9e013536ce",
            "f166d4ee78094711912ac56dd1a6a335",
            "84e7a75f6b1442ee82f6102c1549f264",
            "a36570662f32490f90de487fe48c1562",
            "ce60b38f38dc4c579bf4596d85bdd5f1",
            "6a060fb4214f469590c496f50ff56595",
            "6e38a70984064d8d9cc236ca9d369d63",
            "1d8795ede0804476abca034d48dafd9e",
            "c00400a650f145aa82ef354635340c21",
            "1a52d0544322423b987895895dab97ea",
            "6917c6d60b2543feb5da611e2aca527d",
            "e8f696af025c47d5878b79390a0fc7b0",
            "07cfe6ddba7342c98bad1b3f309dc60a",
            "ae53b080e49840fc928c2c0c981602b7",
            "fabb256ffa024554b673cc49b26d03b6",
            "e2619cd825df47fb9838c55d717e04cf",
            "3e15ed7d34b34f8f83c94f5acf93ecf1",
            "cad2fb7a1b334089a1402c4d3c20beb4",
            "10202212ca2e419ead251b5325f5a193",
            "33dd3422bb8842d6991cdbea4e485b62",
            "0e789183ca0a459b9076fe04b3018e18",
            "51d8e42c8943463ba49aabd98bb4539f",
            "9fd72a4214254ec7aeb5f512b9d82c04",
            "4f35c31b3fe34b6ab24cbd0aa65eeb3b",
            "ef150fac649f485e920d52c496083639",
            "ac20c55d1e9147288f9c401e55cbb433",
            "ff76920641ed456f8519609436001589",
            "54d3b9cb03844e179683193936df790c",
            "8ae4349b92844f56a8f370d52496643b",
            "d0d72e70e5394765afdfc659bccef88f",
            "27f735d03e2b4083a818e9b4e9dc2bf0",
            "445495e3de564cd783a62606ea154911",
            "fb8725a8d16042e6b9a9a3f111490531",
            "ce98fd2c613d413a849931a71fb96399",
            "14d6a9103d684d2fbce2bcfbd5ddfe37",
            "cb2e134975f24efba35c1fdb24f8265a",
            "1129e98cb0c9432f9f02e31152cb3d69",
            "a327f42f321945bd8fa7331399b50cb6",
            "87b93674f8984dbc8487765192deecf6",
            "6cbaa409ef03403782e4cac12ba547ff",
            "58b9d6d49ad84941954e2db86676fe5e",
            "2be7ba18e7734670951dd9d1a3b720e2",
            "e81644e26717480e9512084162962d62",
            "4c70496122c74b3991c3a57ff79f4c9d",
            "5f024fd5327b44439a5741f0be9360f4",
            "cf656b7b258b46109f4bed3d1139d05a",
            "d18f1127557a4a14a12f723e0a4a333b",
            "8429c0a4901c4e7ca1dd277b51012469",
            "08d38b865a5646cc8dbca8f9d800ad67",
            "da853c38afba477ba2b1fa758373330a",
            "ff4d791fbea44ea49f188c6b073dc726",
            "57ba9e669c504af9a6421989362a6f21",
            "132dec481f2349bbaa8fff05ed7994ad",
            "2f219bc213d2429e8bf246d4768a1a42",
            "1f4886b557134594abf9621668922437",
            "5deca541ae664b238ae8a3de9c2be659",
            "e2eda8f33ce84e37b9366e1bae58fbc9",
            "1b53a1d3f3534f81a3ae138a41ff98c9",
            "480ac3d277544c2f9225782abdff15fc",
            "5bd42fd12fe04c62906361bb073f21de",
            "2066c72e39ae4ed2860a4cf9269ebcbb",
            "0c50f724052b4f85bf734df702571d3b",
            "df3f0154dcdc4dd982979c1ab8f4a96c",
            "6d145e5b38984962a7dc360a39604905",
            "582b4c10cbbf45e7883747a21d0cbea2",
            "65d5b9f11a7446f496ce16ea9deec668",
            "4390c3fbee19481688980ef61aee1b44",
            "aa7b10ac6550416eab10e235886b3a13",
            "1a28f5b7a76f4023981e17d2586fc244",
            "22e2cf743ad04553a7e9c59c64906255",
            "687b6c995e3b4af7a4912899b37f3a1d",
            "3b49989fe3df425cb1192055e04e12f7",
            "c2e1f46727744e8193b8c181a8710477",
            "278cea4e09f2424082d735cfcc9c24e3",
            "da8ed95580b14f8eb23670632ab119fc",
            "440ffe69a8034b32b56204c00934b632",
            "4e6f224798ac4b4f90d541ded365a521",
            "5d357234db6949b295f5a4b9b5056e25",
            "8f872f40fce04bde80f5fff82681b241",
            "97d71343301141548fb03c302111e6d6",
            "daa1c9082137422bad43c8b74fb3b3b4",
            "9eb6259eb57d4b518cf5e28d9ab512cb",
            "7512e6a3d2934020aae61057466716b5",
            "5c0e85bc444d497b86af580e073223c1",
            "b8327e56c0eb44c8a7aa996298af8e7c",
            "719664ce01024e169899fc9067fdb2ee",
            "14ae9640747e448985905c3cd7e84e2b",
            "296c1f814a7b49a0953c5fb34e072dd6",
            "3926cc1c14a04cc5a19ae0fa26922f8f",
            "410af8c304f444fab5db389823996900",
            "be2e958bd3364b78aecde13e232d23a6",
            "fef10ef2c53d49ac8588caee52f94239",
            "69132464926546bb9380676883786473",
            "169fceece37642db9f29de7a310eba8e",
            "12f3915a48d14d2899d60ac88f738dd7",
            "5c8175ae682c4f0d86cfc8b11a2c2d17",
            "e86b2300b841493a802d904bb1cf58b0",
            "f068a17b474a474aa1b6f108c546440c",
            "52ab4594489f4954b7d657abd9b72d80",
            "013d32d6aa1d413988debd5c8d3b0200",
            "ca73c4b483d7414999ff8147e46ffbcd",
            "b4a0f4626e9649f3af97272b54c0b686",
            "8e6d7ecf6a674d80b6547a9940d66987",
            "8c721beeb3a44aa9ab3304aeaea750ff",
            "580ff766cf7644b4a441f0564264c86d",
            "7d5e4027067c482a8117226aa6e431e9",
            "3e3ddb872669483cbfad67a490d22da1",
            "a6361e1028f047779ce910182f8df63e",
            "64691b439b9841398313cf28ebd89eaf",
            "6e91853d3b44468aa52e81bc3f01ec77",
            "4f49e763675d4f17bfdbc5563038c322",
            "c882c4e432d24ecca7e72841285f6583",
            "bbd80693bb434bfeb321cea8e995d166",
            "468013b9571a4c4393dd93e9fd8bc863",
            "c6038f6983fe4132ac83f75be9aac9aa",
            "24163953b4394c0cb1eca811ab2d9f26",
            "94de53d840374ad9b619af8fd9ac5f8e",
            "2562890bb0b245e098967d4ffd717125",
            "aced11dc6388482182567f53b43aa301",
            "667b0dab16774dc08e24c5a9820d85de",
            "fdde1db73b0441a1960a575ed93607d4",
            "730ed039d68548aea4b3edf4318bffe8",
            "36fb79113b164401944d104be5b2f6fe",
            "7d6c21e4fec349f0b4d51858f9b5802f",
            "309a98857aea4c76a2214117ed64ac07",
            "e25d83c06d7b42eeb8e2efadb985e33a",
            "31db57a0fb564cabab95463d9d9c0323",
            "4d18d2bf39bd4974b5f21b3087b4eedb",
            "1fbe057afb6147fe9e47eb6c29e4a3a9",
            "064e0741e855487ebb1c70351147a87e",
            "1b0e0a73a5bd47f19540bfc4a81bd7fb",
            "992b387f208645eeb1b5b1dd32d863ec",
            "312f1df8ced14914ab3823b4db60359d",
            "4573f6706b4a4d9c99727f8fab3cbe87",
            "b9b09183dcf04bb39d21a9cb26d5aa5e",
            "4935f985d1f94074bf8c578048e929f9",
            "83b14adf8aab4289a99c61c537e589f8",
            "a290ec79db344604b5ee6b526de1e27d",
            "add5cd80b03b497aaf98a593f717059b",
            "c3e2f8814259498b96040b7c4f546b12",
            "fc57b072762f4337ab0c43a6f2646b0a",
            "4bd17b27553a4d39a861b0571669595e",
            "bc389ac619274ad9b06e2e587ab26542",
            "5bd7ed0233bc4bcdba42c09344bb8ba6",
            "df5873cf48054055b26651f77d8ed7b3",
            "ba4759be94094524bca5572e1c0129d2",
            "806fd67d8197423ab46525f990e213b6",
            "1058142145f347a6b4d6fd02d145a47c",
            "a35be831b7e5425983403281221468e3",
            "19f23560ff5341d59aba9cf72f9d6386",
            "02e3b237dddf454fba0597cfad4d9c1e",
            "73f47d7b94ca4b0282f20f869888347a",
            "e4a7f6cf059e472282e91e10426fcb09",
            "0d2bfb8e4cb84f178493ba610c9752d5",
            "bd92beaf0f3d482aa448a23c5e769143",
            "9663216d89f24b65893a9e0d32ca2077",
            "7c6c48cf45f44faea15d289fd85e216f",
            "5b6da938abcb4ae1b0379c0eebe855c8",
            "df5e7e9db29a46fa9dbd52de20a9795a",
            "6435df4ce69849318df3a08b14a149b3",
            "20062ad3b9c3468bb2b9e1af8771c833",
            "4599fb8649e84e88b365a1c61bc9a323",
            "62848173a2884f74912d86c2a4b11d70",
            "7d7c8e1920a8463e85ce876db0b71d3f",
            "66b4fe38a0de43e496c636bac725210d",
            "1a04f8af252b49119e7152cc3f1a788d",
            "618cbf4a087243b899a463c0d2e4605e",
            "334f857e484b496bbe1ad10abe6afb9e",
            "39556dd4d6924bca9cd21cde31dcb88b",
            "714fbdd73423400a9fb7c6fff991da46",
            "2c4117bcd4534e87a8d9eb64e4ee71b2",
            "bdf6c21a4d664939b36e381221d2d99b",
            "a953dd3e92ab40d0a9c26f2f3f7d7c35",
            "69bc9229be4545cdab90a58b85713213",
            "0309ce19f2e14771865eada1bfbc4e36",
            "7eba4ac60747429aa01110d9e4b8d44a",
            "6fcd5965d653405bb44e8ab9f33b5134",
            "3329e40e5784458985a5a51870519484",
            "7977597165b14c659862482e12a5cbc1",
            "27828e8c2f8042bc9ec0fd612ff459dd",
            "6c270e01f1f2417e85829a58afffcfe7",
            "2ab49589982542abbc0956001b81f77f",
            "7812430dc20945f59e0080a623fc6190",
            "4b6a451eb5254495bb5abae1542650c0",
            "6cfe933ed3f14a77abe08ec1580e7898",
            "783af21a746940c897df99060952e360",
            "e96c4900745a4f7595834c2ad62b3ae0",
            "749fba26da3546d3a1db7e7c203c0aaf",
            "2c686be843c04f84b427594574bf59b5",
            "eef4204ca87d46059c2043af180fa1ca",
            "374b8fdb58684d6eb3f67308847797b2",
            "452f7d2899714bd1b6a86b2dce0132e5",
            "7f7c11d8ad3e47f6876b977682c99306",
            "ca08764546f64ea98d4205f0a043b24b",
            "c0249b2d75e54025a232ff8e48fc5696",
            "aab2ae5a6a594f6d85649c4ff40f7d24",
            "20dea029d3994a719deb6548f5fe706b",
            "5e56b0e359e44cf682cb7fe51d570ec0",
            "7c1b857d1b9443cf88333785a4a6e6d7",
            "825d460053a74b7098b24276fa6a5225",
            "42de3015d85949df9a6a8f65f701f8d2",
            "6c96ebbcb8564de591a5a09c09b0da40",
            "262e6982760a4e3a9332487172152c70",
            "9c2d1c8521cc4ea99daa9abf550d0e9b",
            "df0b1e9717e2441297da37c7296d1ace",
            "77dfe25a51524c82992e677b021fb00c",
            "392fd7da083e434aa3cf8bd2b88b9aa4",
            "6477e2ac7a4a411a955533ddd887fff5",
            "882e80fe83e94474b5d522ce718cf7ba",
            "09d41281af1448f7bcb55600047f76d0",
            "2327e874084d49b9b66651ec4e2035aa",
            "2dd77defa4e74942a556ec30823632fa",
            "66f57a528276489d8b66f4d720b03e23",
            "60860226a55e427bb89f47cbb175f87e",
            "04656f2e7c7344d1b97c0a9ca029f3f6",
            "18fae892cf9448c0a1d91a230397baa0",
            "d8bc253a296248d597c4ce0953d93231",
            "828792729a3f4e89947cc975d002efab",
            "e24a04d52a6a470f9165487795a638e7",
            "e1c73538f2e8429a9fea3c70f5bf77f4",
            "9346741fd52743ed93dce1390298e43f",
            "33ef9966041a453b96cda4478e6b2d46",
            "7b72bfbf104243a8afe3171489d35811",
            "28a25ba1a23741aeae3ef2fb27fd891b",
            "f5e61aa406ca45feb481ac8034f1b901",
            "15225d94be4b485f9064261c9434b526",
            "6988f45e33704b6faddc5c8f4f764e70",
            "c033c5412c0b488296708913a7319ff7",
            "9273cd8e9a8d452aa95c5000c25a97e1",
            "6991329a0d9b47858404a1459ddc0781",
            "8336f1eb8751461495bfc7583b758f1f",
            "62fa82b30b964f6ba0dc0c04debac283",
            "ca1bfda2c630421598f99a7442ee6394",
            "1a955be12f96428081454bc20b33fc74",
            "9a57cd12da9c42048476f73273727055",
            "a63b132cc0f94ddf9c32ec1f8ffac2a8",
            "b258bb4b945f466993076f293623b9ee",
            "e3265931909a44dc86e87abb6813ed44",
            "d2161ee2cced451abd6d17f05bd698da",
            "6c7ce629ccd54a7b92d341782c7a1ea1",
            "ff597b8ab70149b888125c5627e42b87",
            "fe6bfec7e211437dbdd484cd94f2a9df",
            "cbeaf1192d074e5fabcb8255e37c6bc7",
            "ed9b63fd4087485e9104ef237dec2b11",
            "9fda5d79c0a14c0d9ac6cbb747c833c3",
            "0e4120263a88437caf9087ec55f50de0",
            "c468698fbb5e47bab8ef4c540236d9eb",
            "30793de0bd2d43e493c027fdbd065684",
            "a98b52e091bf48739b0d728296c64cce",
            "ef0390278c644767b561311f627d9d7d",
            "c0775f7d7fd2442ea35a373d9a117014",
            "05645c7ceede4557a3dec53928d57da2",
            "cd21778fbc674b53a901782684c58d34",
            "a8926a90810d432a9d8f6157199f8208",
            "76bf7cf32da844eebbb58f4e36a2af64",
            "1501f03f1066420ba6885003718f2a20",
            "356ef6b461be4fd69cd61990958efc18",
            "30dc6fe56377433b97a6d45dacb5b69f",
            "6757548758eb40799c4ad901c5dbc59e",
            "63d318a71c9f4aef96050e50190aa66a",
            "78569d22d525493d805c77166f7f5556",
            "b3823c9bc6b44bfe8b978b7c97aacbef",
            "b82fb32ebef44e01bd1b7018105076d3",
            "52dec4021f7b4e55a62ac1383d135495",
            "45ca3836ef404bd1b91a025d02383777",
            "af7aa923f79d401bab257c631bca56de",
            "47b0a93d68b44cbb89ea257e55ef8a7f",
            "81a60aa9af114ee4a1bac5446fd483b9",
            "768547d7076242deaef27c932ef3891a",
            "d581690f22d74dddaba97b882a77e46d",
            "e4fae1f7449a4e0fb0458ba7f4ac0252",
            "dba7d72aa6464e7ca4b42ecc675b52e6",
            "2e4756d7e6234cca8db078f7a29a464d",
            "fb81be7dbb104e6da1f521615dac3045",
            "86d04c93fd70445fbca8cfb2c5c6a38d",
            "d893e838d4784a5bb754b9ece91b9feb",
            "29b6c910c0db4471a7999e2374c9c879",
            "bb761b5cf7c045208e6490d5b01c5400",
            "5cfa6ce64006480a86e17438d792f008",
            "c807faca58664e3798e921e1642b5735",
            "58c9616df09d4aa0afd8965ec018306d",
            "cd05d87deb814774b372b1c63d8c0c6e",
            "17428604655948bf8af4939b93b41ca3",
            "e5649d970c984cbf976c33fe60e50f97",
            "a3f73a43fdd64094ae41a5444fc04829",
            "114252747d5542aeab915df23692b5be",
            "bc50beb3b0544c18a79a414145808171",
            "fe81c51a1a1d40849d819e08e240ff65",
            "1f35c87397fc420d9f4daf6a5a717c4b",
            "2ad0cfba874c4801b8ed5d85aab5dfeb",
            "528614e799b44b6c9b79dfd199442f55",
            "d54d8776166d4958b6c043d0257a63ea",
            "668dd526fba043819e7158655a6e5e6f",
            "b46058efb9af4578a43499f717b3b74f",
            "f6d5915698ee412388ae2611f984ed4b",
            "b7bc0a13b37e4ec48227a00fc54dfefc",
            "a36b9ac064e54384996134a7567f7ff0",
            "06b6a5c8eee74ffbb8fba416214135f6",
            "d46b5bee146e4616ac1efd2db3fa24e3",
            "6fc57801b9d64cd0a140f3a2a137dc4c",
            "70843b42c2c74041bd231f3436f0f10f",
            "9a223a461fcb4ee1ba81a3ee12214736",
            "351b2b06e36d4ecf8e9c3c839f312b5a",
            "0dda5316cac949a8bc64c589b9a3faf4",
            "20c6c1cd85cf4ea6b8924c635fe493b7",
            "71f5f0dfac714b3298cd5728e28a5e46",
            "90919d5511d54fc1adde02051949eec4",
            "bd262852f2c541319fcfd5c8110e39e1",
            "f6f2562ba94a411a955b0f96dede25b0",
            "4fd8743a7d384e3eae8af40c1aff7fd6",
            "03ca9b5dd63f40ba8c3a23d2d6c63a45",
            "6d73a721d0444b10bbb777e3c2102d9c",
            "90efdbc934aa430ba94862ae01973190",
            "3d56127b656146c39121e67f3f5b5bb3",
            "9618346d724f48d4885585c3a94351f8",
            "e5deae1eb9944f13aac46b6a17320b04",
            "ca497c944270482eb163e7cc15a68e59",
            "2b4f91d77f7348a093dfc6d54084d627",
            "349b7956987c4624952c18e1ff0e1d3c",
            "e17b2e1921554414ac99bc30f7ef8f59",
            "da955c1cfc4c4e76b67fffdf264e2346",
            "4caf9cfc34ce4e4db8cb025a2f7cd418",
            "6f50c7f2381c40a895c1996175828915",
            "e8495c1a78544a6cbbb9a51aae4a7159",
            "dc161640f0f44d80a71fba6f7a2b9129",
            "2dcf5d9075f645bfa67c64e7fa703ac4",
            "c75a17ff7e5a4c48a129f4c8645182a9",
            "11a5a73f34c3484291d690cc5df21b21",
            "516b3960405e47cb956e752b766807a3",
            "62af98ce5dee4c2292f208631ac9df93",
            "d5a9b804e6cc40048f2e32e42b6f46a1",
            "16cf1b3a94b141179c4fd13729fac30f",
            "2d48a7311de64f58ba48e127a19ffd7c",
            "30d1ce44b9314ba19b4e55aaf8918f35",
            "c125ced65d5b4c9e89f316367e8e20c3",
            "fb9437ac72c249e98b659647ba57ad54",
            "1bed85e4abbc46bd9dbc513be4833cd6",
            "0c9bcafc8efb41b7a0b3df66627869f1",
            "3279eac25fee4342ad856d4777029973",
            "b69e5413a63b4a0bb878802ac1fe0ecf",
            "7c1a8b260bca4da29847943a9b7aff08",
            "9c7d44c8451c4093843d09485735c9e8",
            "7026fecb170a48faa9d8917837c68e3f",
            "827becf5e0414dc98ba2d3deecb9a5d6",
            "ae5638068eb5472cbd10314317f22a08",
            "7b0c1c00631945ed8503baa353cdba81",
            "f20018861bc84c35a786e67025750229",
            "fbec6bda83ba44038cb239a259d12f9d",
            "c35b7ac2082c4ca89aba9f11f063ef5b",
            "fb4102744c074fc2a586ceb25f2b74e6",
            "e4ac031a35eb4a0e80c532f359ec5839",
            "10b81c7fc8924ab480182100b002de6f",
            "f9f4f3b1e9c64b1cb44ce79411644f06",
            "90e0beb691fe450e85a200b4b8df223e",
            "ae38c5ad57a0425a90d2624df1f558f3",
            "fc998fcfbf094258aad71da95150884e",
            "a29fa3a1a9064c73a3675eefff257b4d",
            "afbdb7840a9a46829ea8e460b9006fc1",
            "a580d59b110b4f45ad4b947da9785b6f",
            "4be5652b2cf94ede91fb942a9ccbbc22",
            "17ffaee7c4994b5cb75f56fbad272a74",
            "3bf2da40472e45f687dbcd873cc8c403",
            "e7c55e381671474a88804a6c61d4b89b",
            "b63c86a7b0b44f22bd89dfd9b26dac19",
            "6cac3c086cd94d97bf1b31067db015fa",
            "865cc4a23a34483b8d0b90bcaa6f6a1f",
            "fc05ef19cd2e432e8da7cca22475a9d5",
            "99f5b3c8e37b4d658567ff1b98c2c1bb",
            "6c94fcab6869492a98f439308c55a337",
            "d744bbdad3e54aaf89275289c7c17da6",
            "59cbb56b5edb433f9af8ed41fe95b4c1",
            "2d17c51276b645d780d6c4da58ae6667",
            "fdbcd2c35ed54ae1ac639c43e156b28f",
            "4ea897d10601485794670295d8775095",
            "aba52e560ead4745a54b6ca6c23c493e",
            "67b471bfcec5467598343fe739f298b4",
            "525c680d5a95491b99c18382abf07fc4",
            "009aea024bd6450f8c6da427dcde264c",
            "a24b7c7ab8dd4ac9a03de7a1065c01ab",
            "442c6f2aaf514c248ad329f4546d3330",
            "1299c51eccbf401d90f74900a811f6f4",
            "ebac1266d80a4d98bf6cfd31ac92a906",
            "ccf71dff0c94490da70d43705bb60168",
            "a5417f352a81405d9084deb3992e01e3",
            "d96cfb4546ef4425bcb092a86cb3321a",
            "b43424a48b7840a2b13e80764d742ee9",
            "02d6f0eed57940bfbc1633ad3e3441f7",
            "01c7982116b94090b310e32aac6b236d",
            "ac010f6373a14db4b84bac09b900dc32",
            "1e8d80764d644c7a92cc7eb7cbe5a6e1",
            "6f03758fa09c46daa64228c9bc2f98f7",
            "146badc6001e4a379c67a550ad67222c",
            "caea7da353b04d50aa92ae673e165307",
            "8425d13d653f4113bce2066704848838",
            "b0b6c6a4660243b797b3a2af7291d748",
            "ae40b40c0c1f4f8486b0ea4fa8bac784",
            "316c646d14484b7384bea7323aa496dc",
            "81c28279352341d0bf11357b9345f1a9",
            "32d999c5d5f54554902788841b5b9c6e",
            "f2ef2f0743824ea6b7857fd23ce575c5",
            "ed1362e9ca084167a0950b141da1f426",
            "77baee86a94a42f382550bf47f647880",
            "c1745e6b3fc84f6fafbcbefcee5d1e2b",
            "8508696a93c94420882936881931f618",
            "d7aa29c67deb4a97bb4931eb7599bce8",
            "0f56e93466c740a59734a1ff4184a6da",
            "dab4fb9c280642bcb85b343b05871595",
            "3b83a185a3f14000bb142f85682dd3d1",
            "eafb7cae02c34ba48fb78ad956aa2bfa",
            "6d5f78c637db4a5eaca08259ff9a38b3",
            "33a0f0b55e9540de9f7b2e5054938d18",
            "d2bcb1f06cdf49a39f25b2921e16b995",
            "0641314060784360b301d85778e531d9",
            "c296227dd3bc412a9597e77ce90918c2",
            "c2dd6d52781d45f1add53261dc142d3b",
            "79c32879e44a4244b4c1704b32556ba5",
            "40b09bcb6d3d45f2af4a299b50846782",
            "c1a2af4685584f05af8fdc58ac337bf6",
            "b36ef65efe1f46869b2dee68a9b2e621",
            "eface5c6559f46589fddb12f730ae2b6",
            "20ce7a624cdb4b1fabc918152ae954ec",
            "5bd04c2f11f3466b8e9845a1da2c4f7b",
            "f65bc7a11efe497a96dac05fa81846d6",
            "8f2aca7444da4df08bf7fa441dc45da8",
            "da1c06a59acf46519f3421cdbe312f1c",
            "cbadfbf4b46b45bba1c79a8e2830ef08",
            "15eaed157e8e406cafdea5fe962451a9",
            "34d83bcf7edf4b3c9a02944f67fb01e3",
            "56cb19b6a975485b90815d994f90cffe",
            "659d07ce59ce4840bcf374c561f84a59",
            "6a5f353aa8394f3c879fa044f2cb11f7",
            "c4d2d5e173b14c9085f8f5d710820533",
            "068ef45d5a92430298d7ed309b476bb1",
            "1dee64e01b65474787827da57774afab",
            "65f9ef0b0fcf4f1a8c42744eef4fc768",
            "4cf4fa1d0ac2461f9cff219214e8cb21",
            "8b59b29609bf448bbcd99d37d9ffd90e",
            "5bc5bce6f2064c2b9abb786d33a9deed",
            "16556101ff0f4159a072618a35038fd8",
            "8e45c511a6d64cababc982c01b7aa881",
            "c5b73679e92e4d768081875644502457",
            "fa9f9b5d9040483594fde95a3b59de73",
            "0f5af63a136145d3a56f62c20fd9006f",
            "e053c76310914d33b562afff433347e2",
            "3b77c24c509d40cba1265ce978e1b97c",
            "c19be27d69b744ba831acbfb520074e1",
            "4bc048f5bbc74320a6f9a7b2112ea868",
            "acde4fe5e1ae4a78bfa4aa935aa975a9",
            "fde85dec00f64d17b110a25e7fb154b6",
            "3b10bc479ef0443d8d89aca1dd1540a1",
            "a0735ae1de68449b92f02ca5d095ebb5",
            "dee31057d78842f3b0183564537d4bc8",
            "1352b94ae1374891acac66b19011b39e",
            "89f4d059dc2640598127005ac840ca09",
            "934902bd29024e54ae52abec7e9fce84",
            "1590fa3aa1384d27b1e3c3fab7c5ae92",
            "deaa48802b6b40fea3aa0684172518d4",
            "d6e34b009daf436380f3d1ac0f7a74a4",
            "5a300c00fd6846e7a2069f90980aa3c3",
            "1213733c938e4c938ff5ef2d3aedc3f3",
            "8e3e93ea683a412a86de978a03f91e15",
            "eb907bdaa4a645e086f91643fd28a713",
            "a840b2cc140f47849d2ec305b1f545f4",
            "e9bf62e9e9be4fd383de5784c239b7cb",
            "e41720eb926742fb8d0a92ad0ccec16e",
            "eac94877c8d644eaba7f3b95ab5e71c8",
            "4f4319a78caa4a349efe811aedc52f18",
            "b878ecfb45944f2a94d368e3cb7c4b7b",
            "b04b32390fc4402b87416fe8dc5a4df8",
            "26c1388dfb5644878f8d008f2846c8ab",
            "9ea39b7d85684ea193cb8101d37b05cd",
            "daca2ff9011f4f9bb1d562aed4897a3a",
            "10e98fde65974ecdb025b5a52d526ab2",
            "d828024a5f4f4bde8428462d14bf0464",
            "e5c39b5534c24fd38bc53dd878c7b2c2",
            "c642f1a4681e4682a25fa414d579603d",
            "4130453d24d64617b36d8daff963af3a",
            "79c9ea68ab44483e9c3a0b636b924fe5",
            "f0282034bacd412ebba0de7b60fafa8a",
            "21f778c230344591b1dfcae2e80c6431",
            "b005664818af4e2aba4682c4d0b54018",
            "e7197303449747429fe1c00420cf5c64",
            "ddbd83af5c3c47d9967f38713dcef602",
            "c704bed4cc0c49e6baa705fe8e264b61",
            "f392557ca2854a63952d652804e3bc67",
            "d25d8fdaf412444486e4af3d91cb631e",
            "4046d371c6e24f79b2b953ab8d7fdb2a",
            "e6d3b7f9814c4a109b5fe065e52c0bba",
            "da76aecc6d874c92a68fcc5728387b03",
            "4be07be1646746f0ba9424e816a10fd2",
            "63d501ba00ca4aa987807b0254dfc874",
            "5bdbe9d291e14f92a2acc331ba00d6c0",
            "46146d32fcae49c39716694b2020cd10",
            "82cb13fb6cb544b788fad640a6777fdb",
            "0443636e845d498e99af33dda46fdb57",
            "b86d5c1a36544ec884c61caee5144dd5",
            "8c395b1994bb44a8b18366cd45f9e419",
            "e5f7e977aaae4124ba1f28f940704352",
            "d534006e54c94ecd8414372043259e26",
            "00ca98d4114c47f49f9f20e079d57f51",
            "7102b8a66a294a2d8960535d3ad44402",
            "2286d46ebc394156849b67a9717f07a8",
            "b1cba25abacc4a01903794ca77dbf1f4",
            "2a0a97dbf1fe401c9bd704ea4a141677",
            "039f4415400541fcb74e581e79c7080d",
            "8b4fa75be5d9485daf7e8c03b34a8152",
            "2823e952fa274395bcc81023be785a64",
            "2440838bb136487bbf300b945e30712b",
            "77ec11ba1a944964985bdf9b2fc3bded",
            "203d73dad7a54342b20b7298f78a538d",
            "3bd9a675cef8417ab518183f943db946",
            "9b7f6dfb58194e8c80146d1be369e66a",
            "5245ebd57d6d48ff9bb210764af2c6e2",
            "5f4941fe98cd41ce81a6b0b7f8a010e9",
            "3a06d7ed58334f28b0d30f29c78adf06",
            "1e6928ded3f74b0e92bc3bd79fe74b94",
            "379a4b19c1654782ba151ff8d275bb63",
            "5342eceac6c54c5b8304b4fc454fa9af",
            "5ce06bf83a7641519ca4c8bbc9d2fd3a",
            "8dc42a68dc8a46f5b1937543c8915af7",
            "3ef0c67614084a7c8ef313941ba2f174",
            "54bc969a417543f08ab00feaf85b0e2b",
            "81072fde41e948ffb42090f31cf631ac",
            "6f7c9f5b769e45e3ace8068da76c769a",
            "40350f9164a94c4ba2b706db62aeac6d",
            "518ccc828c04444a83163c0ba28a3c22",
            "c41ba2ff5a0c456eae09293c3c4fda9a",
            "73a124418cf24fa8bd3e90f1d8aaa543",
            "d37d4d0239cd4275bb9cf0ea58400154",
            "22d88290bd874c6aa3ce1d7cfdd2023f",
            "1023e5d3910c405d9dcef7b4ff079a6a",
            "76dddd4c989c490c920ee6a53f6f2ae2",
            "3bb92cd69e77432e9bcfd09b458ee098",
            "03003e97efbc44d0b40aee1a4d121989",
            "16b050d4afce48e7a5b2fb9f2d5a6b78",
            "00fef5e9f72f4a399f3e886f1b6ecde3",
            "2155dfe20c434e5c90072c6849580ad0",
            "4642d04f0b2e483eac0166e341bb143d",
            "46ce24e5e368410bb57b563182bb24ce",
            "899e92ee9ce1471c90a7bb75b85fb5e8",
            "acd15e5fa55843a78481e53fa1332ad3",
            "df3c5b5eb69a44b59c0c8327169251a7",
            "2d963719135644089b1d1da8b64b8b50",
            "75ce0e08bcd74ce1ad942db18efcd2a4",
            "177ab0395c66495b914e246f480f5c38",
            "e13a473964c94aeb8fb8bb265cd14b4d",
            "3a1774a4a12b453bb0732df86c3b8490",
            "d525d3d5a90241eb8ce29ad650a076c2",
            "1c698926d7f948aab5fed0e403827879",
            "562d1e0ccfa24137a209731f10a826e5",
            "300492725a474923ab5a4645486018a8",
            "98c59a75d68b40dabcfdcb5e274a9245",
            "6c2d427123284f5bb628c1b6dbb5def2",
            "a2e90ab3e4c34cf0b95ea85da03c32f9",
            "e93d44261d054714a5db318eb0ae1ee7",
            "4dbfe12197b444709be16dd3fa2a51d5",
            "3ecd03a0329a449cb99da22958d4ea08",
            "f05be12ec0784e51bcbb7035e1da64a3",
            "5c7f6c7fb24745a5b486194c576d0c5b",
            "0aca1b6b62f94508be652eb7d79a57cb",
            "dadbcbeca90c4df89852f1920c514226",
            "8807087c8252467b88eae6df754a305b",
            "534102754f4b494ca603d6cd693ca82e",
            "22927d9149e34a3584cb2214778845d3",
            "b7ce95fdc6ca4e44b7c3e2d79d3086cc",
            "39f7e18d26a94eda9085706b7f849795",
            "48fac08fbfb2434ba9abd0a5412631ff",
            "ce44d254c5d94d9bacee33d0a21f25ae",
            "404c5fb6cf3e45b3a97a5c91dd81b69a",
            "561f26e4ec2b48e69c4ec90d09a1a31c",
            "81e1b549452a426a9d69a30520fa2a0b",
            "a1be1a76e9324d35af64042ec29c9c2c",
            "197a83434c7b4d83859dbe558415042b",
            "1d11b066e63742f297527077c2d72252",
            "48e2091bf5584a6899929bc11f8f13c8",
            "0b86c8d7fe944fae821fe667165eedfe",
            "598246c1b0224c43a08ac4795263431f",
            "c8eb8faa50344ea2a8908d29d83cb8c7",
            "789505e324e749e8a3a2e46668bea337",
            "2777b7ba7d3344bda99d06f34878f02c",
            "fe61f2f0747f46ba90f0d0fc9c71b3fc",
            "cf8a406faeb740728163a12df419c324",
            "5b53250366e840e4b010fccabf9c702e",
            "7569b04826f34186925389254b3da38e",
            "0622cf56e40f4fa1b2c32cd6f2512980",
            "bbff11032eec44e1a88f642767c01169",
            "633e5c81add04f78be4d5108562f7585",
            "11cf8c2c1cb24860a3b6e583256286f0",
            "c8fabb39079544e78f2e7c1ec7d20cbc",
            "b2b9017e600f420f9b70b6ba0286cc1d",
            "d5bfa7c176c444538ed54dcdbba3a255",
            "441291f6fd144aa8bb49f8b5fbfdd3aa",
            "e3cfe29e167d4942b0c4601da3aaea8f",
            "ace425948c6641c2b371871d018b56b5",
            "fc1d834727274457a494976e69851641",
            "6b741987fbdf43bd9c972cc17149f12a",
            "c049f12df53a41c69e31fdf60a173958",
            "bfe8efc61a9646eaae2b285efe18380a",
            "9e637618e23f47b98c94f651fd6bd8aa",
            "2a7b344ec99d4924831149fbcf7f479e",
            "f8688053bfd34e32bd3786641aa5703d",
            "8a99a1969ce74e51b8c1c08b7a620797",
            "ab46124ae78d48a8bbf554fe41d09b31",
            "1489f1c373354e4f91b2c609de899246",
            "bdcbff8885294aa490c34cb1dd90b757",
            "f687f18f3adb4e1fa8b0ae6b6d3ff047",
            "f854380cac2c4c959344861101a7288b",
            "25ed2ab0cd4e45b897bdb09781e84b3a",
            "79967945d4a848a4ae7e1b4705ab998c",
            "3a8bcf563e21424c8f4df0ca1d00d5dc",
            "75f899f1697e43bd9e82a57dc99fe963",
            "621b0883b20e4ff1bbdee7e5eb4fb812",
            "25eb47c3bbaf452daf940ea77301ca75",
            "07a662c2cd574f5f8f357b32b56edf51",
            "c0945d1771b34ccb8982a12eb5864250",
            "4b21acc7d24f4db1a0f3daf3feca384f",
            "cce2a5245d6a4fc1a5fc65b8abe770ea",
            "6b95415304b5427dbd9576d75f2ee380",
            "9dc18e4725c244418ddac3f8940640ce",
            "14610b50e89d46999ee80bacffa13a0b",
            "3957f3ac960e4b0eb628180746bc769a",
            "a0e48f1607e4404aa6e999f0ac07f473",
            "e04e8c62a5af4e3e814fc109cef9b916",
            "d676fc90251d46e7a78380511e69efaf",
            "0d17b89462954865bc3b4e53a59d8958",
            "baccf3df2df54add9081ffbe08299c1d",
            "e572a00dffe549aea29d7d704b031aa6",
            "9c044bba78044be98e07ebb07915d57b",
            "e27c8c74794e42d1a59ba66e3922619a",
            "15cfba3bebb847e9800973d21d099fe2",
            "b0b7de79841f45d7adfb24543b5c91b9",
            "25f108f5dafc4cd99c32f68bbddc43f1",
            "00b1164068ae4521b7e8a3b3120c5e87",
            "5b3416e5780f49f390e3c53d9e99b841",
            "c6281f229b874513bad04c7c39496bdd",
            "e795241959db4e92ac1e6695afbff84b",
            "6d50ac2bd0d947cead4f3b5a9d886704",
            "9bec8c2ea0e84508930ebcb1a6a6c49c",
            "b3b09aebc903492fa6ec3f0926463f51",
            "4fd130156e444f85a6e6478bb7d19939",
            "7ddc99eabdda4bfba8d1c6d39cfe7a1f",
            "175695ce287e42ca9ffb6df83ddc905b",
            "b9d5b86a4ab442a3917d9542920a5bc1",
            "851dad9f91714b83ab95b8d3f4daed98",
            "6c03a41ca357482ab4bf3ac53f6481a4",
            "f4f0fb10d4224c4ba5855ae77601a92e",
            "aaae085f56c846f59bd6fc8432202453",
            "8876ed261d87483aae12cd9e59a84de1",
            "c4a16efe3ec348fda601d10a4b41f332",
            "39b4d17d810a4ecf8b7974cbf99343e8",
            "0350100788c4467fa60fc9979c976089",
            "7ef539504d6149e6870dc61b536a8019",
            "65e06db1746141f187a387f31fe32eca",
            "ed202357993b4fe7b14151023a70d003",
            "de831305a9284541bc69c50969a1d0f2",
            "ac0d2c6c70f24665bf5c7e99ee80ede0",
            "92d56f4bcc3442a59dbbf70ce77dcb00",
            "12d6c61e8c60453cbfefe4b17d6c7377",
            "e01a32fe13bc446f805d8606e8551b58",
            "0f1ce5f64877491685e96fcc9882255e",
            "5098df19dd9a4703bfc642e7eb4921a5",
            "fe80369cd4bf48618c31d915b8c85041",
            "7fef5dda6fb24099a49fa386ec377670",
            "2cf40d58f28647dfa9b4f17ef9c74bbb",
            "4be4a57ff8a34780b653aa59ec512720",
            "2b72c8af5cc74c1a9c2bf37a74d96573",
            "1c6622ee7a424c15ae50c217619459a3",
            "53a5436fa1a34368af2ae60c9609afe8",
            "365afb53537946c6a074c32bd67c41ce",
            "0426485586764efb976d3710e3981396",
            "2324b69010054681816a1fc79963f3f4",
            "35143678c64142629f94d205e1c7b249",
            "26b2ef3c59fa4d57878628ad7cd338ab",
            "00004cb010f44340bca4806c6f00c13d",
            "40b995e61dec4ebe9501d7dc38867db7",
            "2cd58cbf7b194072ad56883a865ce4f2",
            "8c080064c877422fb234fa5461f1cf5c",
            "048df128d112474d9d7853c890637022",
            "fecf96889f1d45f395e9bf61ed7e4775",
            "374071a5c08d441d9d14af78da5ef6de",
            "877022db9e19438e9b2e1e40b400fb57",
            "43ff3a00359b49ab8968f3d26b15141d",
            "4532d024be03473c9b1a8612d89c9a70",
            "49560d5403c14cc7a6f3ab3484371c7f",
            "21107fe4d72f427a9a91e14ffe821620",
            "2332251233284cd59d5b1a2004cad49f",
            "c912fe7308804f388a29cb74ae381b14",
            "23e20fc31c4a4aa6993a5d115951857c",
            "822b8c2638f6416fb45279d04332038d",
            "a1513e8909674299aeaecea409467808",
            "7eb3232512a44146a8bca52163d47ea5",
            "ad6bd14385a94c73b04abcd01dfe5c7b",
            "78a05a9391634f6ca7ec889653fe945b",
            "b04b563cc92348fc87a8717b0bf23351",
            "03582e543e664ae2962745d6c1e2ffec",
            "57ede68da92345b08a46e9e869cfcea8",
            "3de880967a2e47ea85f58025fb647289",
            "f1097c6d604e429b94eda7f53ea82fc8",
            "381c28798e2a4b9cb61f5df10f16eacc",
            "5639e8d68f4b4c0c8427e032434ad38b",
            "46ba0eef8aa8405bbac49bf59343bc50",
            "94a18761e0694ac7b279eb99aa19909a",
            "8a9f1ae46d4d479d8c7eddc508788df0",
            "b486abfbb8494944aa430c56ff86b27f",
            "88c185caf9494093811fb36fa217dc06",
            "6f5f086e9f914177b2af7bb4d27dd8d2",
            "410aac340df248518dbbc628ecb0721d",
            "3f98ba2f57534112aff35d5cc8981d5d",
            "5beab745ec8d4e3aa2420eb6396a40d2",
            "202d9b6ea02b4b2382c49e10f0c28edf",
            "5ad65cd55b114040a678b28904a00b25",
            "a1a30170d1f14a998ca1274e28e0250c",
            "c520595b7b774f40b3af20f83b192192",
            "8107390387754134bbd2e3c22580567f",
            "8bf6f9ce976a49669e0c4b1e9432f37a",
            "ae0a1e53ac3148e5bdf5a89888625ae8",
            "7912138e7ac5472d8d498d9df808db1b",
            "aa8c3102259345bc8c98016d16a3bf0c",
            "36002c3ff0e740109bd7c47bd6398be2",
            "d0bf1eacce824e4ca4d9eeaa764cbede",
            "76e3d4a8e24447f28f2a24e859482653",
            "f2501e6519b640f58c7e8d278cba0bd6",
            "0aabb692433e4a5aa0ab618b56a20a83",
            "1ad8c9d439014d7d8f89887beebab4bc",
            "d4107b7202604b64a30b9ee2c457e9a9",
            "5618800f85d141048d2886f55faa2659",
            "edcba50f6be847b6ba77d7a13a8b7b9d",
            "2057c29442cd444d997ff42e0a98cf79",
            "56a0724c92a24634b9d6ec6e83dedc6b",
            "bb86fd39e82846328ec32fce71dde981",
            "e0b20bda0cd14169887028ee69c5ca8b",
            "83bf2a62e2294c4a90fdf4bf087cc8c2",
            "f1a705acf3d64c279ac30163a87277bf",
            "5a51afc8a78d41f69de91e2f5475ed2a",
            "3906bc8c8e0748d9ba070dc0c9b52005",
            "344c3937c9a94ce08848505610170633",
            "cbe9d001f04f4ce2b878f89fe27086fd",
            "7fe262ef092647e6a1d56006f6fae8e0",
            "14dd6eab3e2441b38fff9bb144b5c226",
            "4d7f8f790f8443ce9b271405d6261f30",
            "17a43def88e54c7c9d3ebce3e66f9870",
            "f54fd128a3ac4da68eaa04d11db7a665",
            "3a93de98499244938925a9cab9f14659",
            "d0722be5b606416f90f6814604ffcf57",
            "325c9ef152e74ccbbe600133448ed367",
            "f420c022ca574b98962bbc1d1523c807",
            "a609e76a6e4c486eab9ee1dd55db58b4",
            "5727cb00035c43d08de83aaeb3a12614",
            "47b682f070ea48cfae47a6f9baa312d3",
            "9a0732642d9c48dbb7353914a2c06472",
            "94b1610aac574298937aaf944e3bf363",
            "a3f668acb7de4c86a3bf673552cf066d",
            "f011221ad4554639b21d67a79b8a76ba",
            "ca7ee69fb467485084cb5d36c94884aa",
            "7c8a7185986c4c3c9826b6c84d3301a6",
            "082407f6e2b64bba8c7db2dcda4b13c1",
            "10808dfc376e413ca73d96f3ffbd7dd8",
            "7e654173d98c413cbad930c084eab886",
            "9c1990f245cc4a6ab3a3f22a72395b25",
            "8d14b803efa04c5faeb9e3c965bd014a",
            "ca30b94626394191a3abc6f1dc74ef36",
            "7d0e85dbad844ef2bb26c03fecc6ac41",
            "fb52374125f2425aafc1ba0ea260e16e",
            "b55b2aded24e4775974bdfcee72c546c",
            "ae129ef68e254f93bc2276bec3ea4d30",
            "fd6cf169c7d34664b39de30d79d5dd85",
            "ec420ba57aed4c6fa764783024bb35f5",
            "5d7b558790c94eaab6ad9bb947efb59c",
            "abbdc85031394a27b7c4d47dc42448a8",
            "7ebeb9fdac9b4d8299b8cf6c5c0d9099",
            "0043fe7919d141be9a0a77e4f1fa3d06",
            "bf2d782cad83480faf8d002ebb252288",
            "d647caceecf845a5b31b7d4d793cee37",
            "9f72ae4861a8498a9e083b11883b5647",
            "6ce5cd342b074a398c7b9ac73c34f6f7",
            "9f00c5d665a749c9b27a88b178a25c43",
            "c12f45fc62e14c2da2ec4a3d9aabee1f",
            "e1550cff21da4ffbba4098985406d945",
            "8d4b091b1527444eb15c55ff4974b650",
            "d71110f1526e41d8a72f8641663d96a6",
            "4daa6fc6332a4b389fc69932f0bbb223",
            "380cccd188d843c8adff5988d65fa463",
            "03787ebd18a446048da9cd807cbfb741",
            "a4e842d9f07c4fccbcb2fec7a87483a1",
            "72071fcac3e6432c9764246ba62a346c",
            "8fa5aa24cf1845adaa5e6fd1b63e36e2",
            "9bf63c33567a4758880d4680807ab5bf",
            "d2d98c781c194d29a12ff5ac468d596d",
            "41af07b8a5954661addd521d0b4853da",
            "c2cdd43217974b609f6e0ffb71c678af",
            "f55cdd7b2ddf41bba6df651169ee5491",
            "580c808dd6b44cb69e242b63cf2a4c45",
            "d3584b563ec841ef992205d29a9de92b",
            "7cd90102b4994aeebf4bc4cbf80d70d2",
            "3a3169cb5e034775b6f991a852a3230e",
            "833d401c9ed1481683bc89fdb2331873",
            "d23b595856574ebd9cd3989ab474fe63",
            "2a81b204fc6f4400891fda7d98a18294",
            "aa32f03a4d90447990a8c60e34d36e50",
            "b65bbf12b4c54046a3447ed25108fc29",
            "cbeda08de327439ea2fb6241691629d9",
            "6bcf3a0465b34130a377401b65edf76d",
            "f300fc5bfe5c4170a9d354bc4ff6c6d0",
            "89fe96d2b66c413485fec4d29d1b7334",
            "df9774f04c49478ea579c053b5276ee3",
            "ed2d0b8aed0e44be9897644dbc391c59",
            "6a1a5dd33cf6478dbbfb28ee357e6891",
            "f7a5d00342db4e36a599117cd295993b",
            "039ddee01e6c4ccdaa9bf4c04e1cd4e7",
            "49864cb47987447390dc7d193fad6c7a",
            "1d68d9a6f585475eb2da3aaa0f15be25",
            "636c424aa8d349eb822a8f7c041777d3",
            "eb9d1d71023643e8856097ac6b8118f2",
            "58cb29459cbe40d1b15446207ecab7ba",
            "68c4cae8fe114ea4a6d7dc77fb02fe07",
            "a1184f34044141ab85fd775a5514081c",
            "1277329cdc634dbb837fbafc20a22bdd",
            "083aa1b8c113402599735cddda21f535",
            "2e4bfdfb3fad449183df3489813d8822",
            "c269ede9b2f04be18a2e321c692a25fc",
            "6db3e2cec1304f2aa55a17dd96f28196",
            "256c071ffc0642af90fec0cd2bbaf414",
            "9c656b2e2df8451596177f6e47640b99",
            "893d8f6226b2484a821c209856280737",
            "174891e367584eccbcd0061dff0f317f",
            "626d6e0d12a34fbe9007a2f5a9dec1c2",
            "e057c43bc9e34ce5ad5228ce843ef62e",
            "21fd12c9f6e44d9498543011d16fe410",
            "bcb909578cf54558b90fc397467e9ec3",
            "d458ecd8234f4018b9a188a8199c3284",
            "13a340fc0f6c4aacb4f4a312a0f621e1",
            "2f59f17b79044f589ae00e7bf514c1e6",
            "2c3c0cf8a82b4b52aab8eb10dcb104b9",
            "f78f167ca9864f5e94484f7b79ce67db",
            "85721fa711f642e9b7a290fff46ef0f2",
            "a212f6091b3e4f8eb0f368a76b0567db",
            "9bd5083628054550bebc7d7cda42ac09",
            "746d10b4473f418fba9245180dc896d1",
            "be773ed594e740d7a7076537d3cbeb2f",
            "6e0f24527aa345deb35b31ba9062058e",
            "0b76a98bf783425cb22c0ed10d484399",
            "fcf03ceaa84d48dab970946544da0959",
            "c97c5b785e5d43c2927558ac7ac4b5c3",
            "2b5fc1bb8e534cdfb0801da5382e233c",
            "94c0d63ef7a54cbcb3217a922a6e6d06",
            "0e5dd02547d543db8a2dc807deaa7011",
            "6e922f03b3204107bbc89d221b90193f",
            "c135646f49f646e6b9019951a6d754ea",
            "40434b1edbe84e95b7deac4fa3be722d",
            "332181b17d6f40b3b425bf7793b88c0c",
            "54700d3e7ae649aba14f2f472465b4a0",
            "23d0836d2f4d4dc5a01095bb2087c22d",
            "958ba69e669348fead47df285e0441a7",
            "16d4245f1f3040aa956ebada12da4bdf",
            "e7b15740a6b14a02a5738d1cd8af8f93",
            "1c3f0f03140646e1896d30ba88133b08",
            "a248779683f9411981fd096a4b403abe",
            "515b1102a8a045129625399905814a89",
            "61efafcfd6c44294b0742713f4d9fed0",
            "041e6314a9894e918e12a93ff66834d6",
            "a9ad9485fde442daa68d8293ecae825b",
            "085e88fb1a924e5f88c8eb62a6758a11",
            "8eda1594f1694ff8bf2179a06d77570d",
            "e315a2da256e43e2904d20168710cd6b",
            "80f156ba3ac54e6da6bd267db583cfe7",
            "698e5de8492a407f94e0daa8515220c3",
            "89bda503868c4b00b6333fdbb92211be",
            "e28e163abc5f4f96b08814fd8bf38774",
            "f99f501a37f7455bad115254fe271f44",
            "81fda651ed7f472ebe1ca5e04d198590",
            "67454ca574e140e2bdcc748d1009bb53",
            "ee243dbde7374360946fb136c57c0b69",
            "0dffee9ee4e74515bf62d7ffbaad5a93",
            "ca816a5fbd9a4b6eafc9dba1424021f9",
            "d30be831b0ea4a18b75bccc8e71478f0",
            "207ed60ec2fc4c40b9303d92156e85c2",
            "db29a296b4754b5fbaf0057a65fb2231",
            "e03e8df152e84c6da5e2fa904b6d1b8d",
            "29d0261791b649e383f1f19c8120b672",
            "ab1fcd32b5cb475f920c46498180f6ae",
            "0ccec249cc5d4866b517ffcab66852b8",
            "e53fea67571340588a604d3fde065f22",
            "3b0767aaf55542f4b11c396761c12033",
            "65e225e6d79d4a42980fb703481cb4ea",
            "e3cfa83323f04ccab6db500042a5c1ec",
            "20a9e5cbc30748fa850440cfb264358c",
            "d01c6580b1e14e95a4ab80a1345c0927",
            "eae3e0447dd649d9ad78a2960af34921",
            "726aa1b966df464abac416e8e71001ed",
            "c984f558cb3e4c16b015ea047ee944e4",
            "daa42e02489f446c8509fed5b9b1ed38",
            "a57a0bfc38314b69a38ca1054261acdd",
            "ae29019070c24aaebf22506022534293",
            "66818f765f3b47208dc2f197fd681cd0",
            "4661802c5359444eaf1e743e23215cee",
            "e820a8bfa4e14116921967eadb1be5f1",
            "dccceb15eb5e4667b3d30ccf9cf0db2b",
            "b9cac370a095485390e9ec4cad0f4379",
            "315aa1a27f384dbd908d1f5c24607708",
            "ac8daf2677254fe1ba3b2bcac4cddc46",
            "36c8b72bd60e4791b9d2b295c9004c1b",
            "b02248c2295d4d30b90458d0dc2eab3c",
            "6bd0c5bd3815474486fe226bba4f0806",
            "2c488c2acc134687823e9794daf15dab",
            "d6419dde6da440d9ae7a55e78d86b9f5",
            "e660a16f1216451e84d8b95ad67d0996",
            "6ad11571ac4345cda8b5db37245e2096",
            "d228ce4679eb429f8145d2b4b497ca0a",
            "89064bd949f34b73a35874d432f7ac3a",
            "8cb109e9d72441579522531895fb85e6",
            "9d098497539d408388fa67ea7491f981",
            "94000e8c4bd0462ca18f3e4cc29aa1b4",
            "ed0dc53800ac4b0daf71631e34c2ee99",
            "64070ae5707a434580c74f5b4b2aed09",
            "ae7fbd9feafb43b1be67b947e085a10b",
            "c35709f4bd4b4850870aea2b969a8d5c",
            "c68f038337904fefb29c97c7f107f529",
            "b78ef6d128364c57864ebe6d4938d10d",
            "bdc40040943c4969b906b5242e6413f7",
            "2b582488b8044d069a1fd58eeb8ae5ef",
            "0fd62cd7acb04fad919973b4c255fe84",
            "d153a2af907d4c0780a78a8a81b36a50",
            "e8abefceae5844ad8b4689910cd2ec8f",
            "8cf0da32ad9241d1ba6082aa64494949",
            "98c184d3055a48d285ccef24bf7f51ce",
            "9e635d63a08d4b97ad84567c2729ec3d",
            "e6875902173a4f76bfe2c2e2dd73c838",
            "85b1a93f16ea4aee869e271eebf35acf",
            "1ca9d039e0a64a29956699244c08d3b1",
            "039464480dc747f9a29e41a9712a3b0b",
            "4ded8c06a452483f940b8ac6f307aedc",
            "73ad569477f54fb5acbeb45cf7c1670f",
            "34bd5da296ae41549335a150ccf8258d",
            "85e6c82fd321408aa1630371c431652f",
            "e0a02a893d994c71a617299545939c02",
            "6a56ff9883df4436b91741b5f53958b7",
            "33bb6985003a4958947294c6ef0f3477",
            "99a4e815e8f145009728ebb04315f639",
            "6318939b57e14ec487ab5d984c834d13",
            "83fe8f559e9c4b11a2458743a7aa4ac5",
            "3a2942adcc91429eb09f54ce51a24a88",
            "3b4e21787fcb4a0f91c8dc8cc3dc02c1",
            "2e6722010b6e4c92ba797195300861d0",
            "ee50d9bb79ba4565b65d022ca5ec921a",
            "5b21ca4496dc4b27912548cfc8ecb937",
            "e0c3bf7793504068b3689bfb19d4dc34",
            "3d41b433201c4cdaa34527f92ef88e51",
            "fbba332becc949cca04904a5f55fd9eb",
            "a13f10189ca04f2db84c95d5812ff536",
            "4239a984f4b045d8a8e297d0f072a5d3",
            "888576b13701493a8ebf76d1a013343e",
            "3c902f9f78344c9abc3db6872c182577",
            "2d887c5962024c8487b40c81513f64fd",
            "f5bba94c36b743acaec32c2292739191",
            "a1d3d83e207b48439808301ec81c8e76",
            "4cc3f2ae678c4353b9f8f969f72ce463",
            "65a7be9e6a3b42cc9065ce8eed7f6b69",
            "62e2d6da8ae64882829816ad0139995d",
            "7b1a5f62f408490b8acc56676f937ded",
            "78a4ba32db7047008b6d083eab2d9b54",
            "3f44ef7bc2cc47a6896dd43fa4f8e517",
            "a2f433ec4f0b4786ad784be9a008884e",
            "02077e32b6304616a0b93b99f726d285",
            "d3da307ec2424108a679223e572026f9",
            "1d49642bbea74f69b50ebb58fc0b16ba",
            "19a6581a5cfd49f68ec4c12ca32f9047",
            "0b8893c5e7c94fcea2bda28a17e6b66b",
            "bec95a6568474ad7bb28b59633c5aa0f",
            "db6f7472a5c94b75b0a9704c8821b348",
            "e502e2f7a1e045ee8c42b5281167c323",
            "3f3f23639e1044ec8eafd9ce7378d66f",
            "cfc11f35075f4c24a43c77442b015276",
            "c5d34f8a53934cf4885087fb2a84a642",
            "2744f3ce472946b7b9a94e28f518f5ac",
            "80f35b12a9284787a0b1eba6532546e1",
            "c8e3f363ebb64f92be7973ec6e88b80b",
            "f990cf75691f4619801d612ab4ca7cdc",
            "dc6c0986d84042ca92dd10e264c2a59f",
            "46f2b29c02c3408bb147ba2cf9eaebb9",
            "327b80172bad4178ab65a5f92ea67207",
            "854964a5214e40fd9d577b033ad4bff2",
            "8d9599ff0fec4414a4c3ba202df24396",
            "49d0f4e176d44b3d8f016e468eabcc88",
            "a28897d313cb4e6b8b853ab4cb5f52be",
            "93f1738629864c9189dd19628f5a92ad",
            "e1cfbf866894496296c1245e0ff41f8f",
            "0ea2d4ea4baf49c394bad4e023acf8c9",
            "1bc36c107c16454795597e697c1b7365",
            "10687885c32e4e90af9a62c936599eda",
            "a64730daa5a044729081f399978d8eae",
            "2b7200f334a04df5af1dfd19d7dce5e2",
            "979a5ba5ad284c77b4ed448a472daac0",
            "c217f5f1d7a34ca0acbf8ee25a9eb549",
            "e42e07b615ed49738316e4dd5b7ae41a",
            "821ae7f9963c486c8656bf8b1ad85a75",
            "baa1c0d4cb13414dbe1a4a06639ab444",
            "0731f22924d344ffb44c4408ec3d759e",
            "73f5396058ea4063a537eab800567991",
            "119a8377c5164b9bbd7ec431a42d7492",
            "8908f0e4ffe04288afbf2647cd71e5e5",
            "5c93cbc6cd3c4def8a7862fd325902af",
            "00eaa89020b64db9b9412704f85ef300",
            "3a37ea88a99841678b5ef3bd78015022",
            "4667d725938c4125b5c270bfbfd7e5f3",
            "47e3b7c48fb24f1ea140c1b5b045031b",
            "848b467911e8463ea51816eca8a15c44",
            "c83ee1b4a50b4d25a9f805c7dd0eb392",
            "e3130780319a444c9c4bc1d2f531ed91",
            "153c4ef285a64e8f927c9f8281144850",
            "776996a52ca04ad1ad4b8182211f8baf",
            "c918bbf6c4984a5c9a03bf0ca5ac0123",
            "c1247d58487b4704ad7816b7387b9f23",
            "bd7ffa8afda94b8c898913edd060b15d"
          ]
        },
        "id": "NlGj4j7V9emw",
        "outputId": "ab9600a7-3b0b-47f5-be7a-f22204294a2d",
        "collapsed": true
      },
      "execution_count": null,
      "outputs": [
        {
          "output_type": "stream",
          "name": "stderr",
          "text": [
            "/usr/local/lib/python3.12/dist-packages/huggingface_hub/utils/_auth.py:94: UserWarning: \n",
            "The secret `HF_TOKEN` does not exist in your Colab secrets.\n",
            "To authenticate with the Hugging Face Hub, create a token in your settings tab (https://huggingface.co/settings/tokens), set it as secret in your Google Colab and restart your session.\n",
            "You will be able to reuse this secret in all of your notebooks.\n",
            "Please note that authentication is recommended but still optional to access public models or datasets.\n",
            "  warnings.warn(\n",
            "/usr/local/lib/python3.12/dist-packages/datasets/load.py:1429: FutureWarning: The repository for google/speech_commands contains custom code which must be executed to correctly load the dataset. You can inspect the repository content at https://hf.co/datasets/google/speech_commands\n",
            "You can avoid this message in future by passing the argument `trust_remote_code=True`.\n",
            "Passing `trust_remote_code=True` will be mandatory to load this dataset from the next major release of `datasets`.\n",
            "  warnings.warn(\n"
          ]
        },
        {
          "output_type": "display_data",
          "data": {
            "text/plain": [
              "Downloading builder script: 0.00B [00:00, ?B/s]"
            ],
            "application/vnd.jupyter.widget-view+json": {
              "version_major": 2,
              "version_minor": 0,
              "model_id": "022b552bf2a34a4a808047b7b6650dac"
            }
          },
          "metadata": {}
        },
        {
          "output_type": "display_data",
          "data": {
            "text/plain": [
              "Downloading readme: 0.00B [00:00, ?B/s]"
            ],
            "application/vnd.jupyter.widget-view+json": {
              "version_major": 2,
              "version_minor": 0,
              "model_id": "3a86d6faca864e7487221ec3f1c581dc"
            }
          },
          "metadata": {}
        },
        {
          "output_type": "display_data",
          "data": {
            "text/plain": [
              "Downloading data:   0%|          | 0.00/1.94G [00:00<?, ?B/s]"
            ],
            "application/vnd.jupyter.widget-view+json": {
              "version_major": 2,
              "version_minor": 0,
              "model_id": "2a91eabc374748f1b4ff0f785564e441"
            }
          },
          "metadata": {}
        },
        {
          "output_type": "display_data",
          "data": {
            "text/plain": [
              "Downloading data:   0%|          | 0.00/229M [00:00<?, ?B/s]"
            ],
            "application/vnd.jupyter.widget-view+json": {
              "version_major": 2,
              "version_minor": 0,
              "model_id": "725aa330ff844b2ca54dc48f92976f2c"
            }
          },
          "metadata": {}
        },
        {
          "output_type": "display_data",
          "data": {
            "text/plain": [
              "Downloading data:   0%|          | 0.00/112M [00:00<?, ?B/s]"
            ],
            "application/vnd.jupyter.widget-view+json": {
              "version_major": 2,
              "version_minor": 0,
              "model_id": "3ef3cfdd7ec241b89f672abbe0ebccf5"
            }
          },
          "metadata": {}
        },
        {
          "output_type": "display_data",
          "data": {
            "text/plain": [
              "Generating train split:   0%|          | 0/84848 [00:00<?, ? examples/s]"
            ],
            "application/vnd.jupyter.widget-view+json": {
              "version_major": 2,
              "version_minor": 0,
              "model_id": "631d3d53499145de8ee10c37c8b81e3c"
            }
          },
          "metadata": {}
        },
        {
          "output_type": "display_data",
          "data": {
            "text/plain": [
              "Generating validation split:   0%|          | 0/9982 [00:00<?, ? examples/s]"
            ],
            "application/vnd.jupyter.widget-view+json": {
              "version_major": 2,
              "version_minor": 0,
              "model_id": "0de4a59879af478d86f13367a563ae76"
            }
          },
          "metadata": {}
        },
        {
          "output_type": "display_data",
          "data": {
            "text/plain": [
              "Generating test split:   0%|          | 0/4890 [00:00<?, ? examples/s]"
            ],
            "application/vnd.jupyter.widget-view+json": {
              "version_major": 2,
              "version_minor": 0,
              "model_id": "44ac7912a3984b2d98f51040aa3ca1ae"
            }
          },
          "metadata": {}
        },
        {
          "output_type": "stream",
          "name": "stderr",
          "text": [
            "/tmp/ipython-input-3678060891.py:75: FutureWarning: `torch.cuda.amp.GradScaler(args...)` is deprecated. Please use `torch.amp.GradScaler('cuda', args...)` instead.\n",
            "  scaler = torch.cuda.amp.GradScaler(enabled=use_amp)\n"
          ]
        },
        {
          "output_type": "display_data",
          "data": {
            "text/plain": [
              "Epoch 01:   0%|          | 0/1326 [00:00<?, ?it/s]"
            ],
            "application/vnd.jupyter.widget-view+json": {
              "version_major": 2,
              "version_minor": 0,
              "model_id": "700879a9ce7c453a9951ce38ea4f59ff"
            }
          },
          "metadata": {}
        },
        {
          "output_type": "stream",
          "name": "stdout",
          "text": [
            "Epoch 01 \u279c train 11.1% | val 31.2% (loss 2.795) | lr 4.17e-05\n",
            "** Saved new best model params ** @ 31.2%\n"
          ]
        },
        {
          "output_type": "display_data",
          "data": {
            "text/plain": [
              "Epoch 02:   0%|          | 0/1326 [00:00<?, ?it/s]"
            ],
            "application/vnd.jupyter.widget-view+json": {
              "version_major": 2,
              "version_minor": 0,
              "model_id": "8c8970cfa6c44897bb92c8ed0ebe2f15"
            }
          },
          "metadata": {}
        },
        {
          "output_type": "stream",
          "name": "stdout",
          "text": [
            "Epoch 02 \u279c train 50.3% | val 80.9% (loss 1.212) | lr 8.33e-05\n",
            "** Saved new best model params ** @ 80.9%\n"
          ]
        },
        {
          "output_type": "display_data",
          "data": {
            "text/plain": [
              "Epoch 03:   0%|          | 0/1326 [00:00<?, ?it/s]"
            ],
            "application/vnd.jupyter.widget-view+json": {
              "version_major": 2,
              "version_minor": 0,
              "model_id": "f0709e04ab2141d287383ecb88f082ea"
            }
          },
          "metadata": {}
        },
        {
          "output_type": "stream",
          "name": "stdout",
          "text": [
            "Epoch 03 \u279c train 75.2% | val 91.2% (loss 0.818) | lr 1.25e-04\n",
            "** Saved new best model params ** @ 91.2%\n"
          ]
        },
        {
          "output_type": "display_data",
          "data": {
            "text/plain": [
              "Epoch 04:   0%|          | 0/1326 [00:00<?, ?it/s]"
            ],
            "application/vnd.jupyter.widget-view+json": {
              "version_major": 2,
              "version_minor": 0,
              "model_id": "ab3d70dcb4724bdbab0872c99fd0c410"
            }
          },
          "metadata": {}
        },
        {
          "output_type": "stream",
          "name": "stdout",
          "text": [
            "Epoch 04 \u279c train 82.4% | val 93.6% (loss 0.725) | lr 1.67e-04\n",
            "** Saved new best model params ** @ 93.6%\n"
          ]
        },
        {
          "output_type": "display_data",
          "data": {
            "text/plain": [
              "Epoch 05:   0%|          | 0/1326 [00:00<?, ?it/s]"
            ],
            "application/vnd.jupyter.widget-view+json": {
              "version_major": 2,
              "version_minor": 0,
              "model_id": "72c42715da4948e48da01824021cb70d"
            }
          },
          "metadata": {}
        },
        {
          "output_type": "stream",
          "name": "stdout",
          "text": [
            "Epoch 05 \u279c train 85.1% | val 93.7% (loss 0.708) | lr 2.08e-04\n",
            "** Saved new best model params ** @ 93.7%\n"
          ]
        },
        {
          "output_type": "display_data",
          "data": {
            "text/plain": [
              "Epoch 06:   0%|          | 0/1326 [00:00<?, ?it/s]"
            ],
            "application/vnd.jupyter.widget-view+json": {
              "version_major": 2,
              "version_minor": 0,
              "model_id": "04928b7877164309bfddf96ccec23dda"
            }
          },
          "metadata": {}
        },
        {
          "output_type": "stream",
          "name": "stdout",
          "text": [
            "Epoch 06 \u279c train 86.6% | val 94.6% (loss 0.674) | lr 2.50e-04\n",
            "** Saved new best model params ** @ 94.6%\n"
          ]
        },
        {
          "output_type": "display_data",
          "data": {
            "text/plain": [
              "Epoch 07:   0%|          | 0/1326 [00:00<?, ?it/s]"
            ],
            "application/vnd.jupyter.widget-view+json": {
              "version_major": 2,
              "version_minor": 0,
              "model_id": "f6d0111af3214947bae3360b9ecc8303"
            }
          },
          "metadata": {}
        },
        {
          "output_type": "stream",
          "name": "stdout",
          "text": [
            "Epoch 07 \u279c train 87.8% | val 94.6% (loss 0.668) | lr 2.92e-04\n",
            "** Saved new best model params ** @ 94.6%\n"
          ]
        },
        {
          "output_type": "display_data",
          "data": {
            "text/plain": [
              "Epoch 08:   0%|          | 0/1326 [00:00<?, ?it/s]"
            ],
            "application/vnd.jupyter.widget-view+json": {
              "version_major": 2,
              "version_minor": 0,
              "model_id": "80a7bd5a20db4c53b355709256286f9d"
            }
          },
          "metadata": {}
        },
        {
          "output_type": "stream",
          "name": "stdout",
          "text": [
            "Epoch 08 \u279c train 88.3% | val 95.1% (loss 0.651) | lr 3.33e-04\n",
            "** Saved new best model params ** @ 95.1%\n"
          ]
        },
        {
          "output_type": "display_data",
          "data": {
            "text/plain": [
              "Epoch 09:   0%|          | 0/1326 [00:00<?, ?it/s]"
            ],
            "application/vnd.jupyter.widget-view+json": {
              "version_major": 2,
              "version_minor": 0,
              "model_id": "f166d4ee78094711912ac56dd1a6a335"
            }
          },
          "metadata": {}
        },
        {
          "output_type": "stream",
          "name": "stdout",
          "text": [
            "Epoch 09 \u279c train 89.1% | val 95.9% (loss 0.628) | lr 3.75e-04\n",
            "** Saved new best model params ** @ 95.9%\n"
          ]
        },
        {
          "output_type": "display_data",
          "data": {
            "text/plain": [
              "Epoch 10:   0%|          | 0/1326 [00:00<?, ?it/s]"
            ],
            "application/vnd.jupyter.widget-view+json": {
              "version_major": 2,
              "version_minor": 0,
              "model_id": "07cfe6ddba7342c98bad1b3f309dc60a"
            }
          },
          "metadata": {}
        },
        {
          "output_type": "stream",
          "name": "stdout",
          "text": [
            "Epoch 10 \u279c train 89.5% | val 95.8% (loss 0.631) | lr 4.17e-04\n"
          ]
        },
        {
          "output_type": "display_data",
          "data": {
            "text/plain": [
              "Epoch 11:   0%|          | 0/1326 [00:00<?, ?it/s]"
            ],
            "application/vnd.jupyter.widget-view+json": {
              "version_major": 2,
              "version_minor": 0,
              "model_id": "4f35c31b3fe34b6ab24cbd0aa65eeb3b"
            }
          },
          "metadata": {}
        },
        {
          "output_type": "stream",
          "name": "stdout",
          "text": [
            "Epoch 11 \u279c train 89.9% | val 96.0% (loss 0.621) | lr 4.58e-04\n",
            "** Saved new best model params ** @ 96.0%\n"
          ]
        },
        {
          "output_type": "display_data",
          "data": {
            "text/plain": [
              "Epoch 12:   0%|          | 0/1326 [00:00<?, ?it/s]"
            ],
            "application/vnd.jupyter.widget-view+json": {
              "version_major": 2,
              "version_minor": 0,
              "model_id": "14d6a9103d684d2fbce2bcfbd5ddfe37"
            }
          },
          "metadata": {}
        },
        {
          "output_type": "stream",
          "name": "stdout",
          "text": [
            "Epoch 12 \u279c train 89.9% | val 95.5% (loss 0.634) | lr 5.00e-04\n"
          ]
        },
        {
          "output_type": "display_data",
          "data": {
            "text/plain": [
              "Epoch 13:   0%|          | 0/1326 [00:00<?, ?it/s]"
            ],
            "application/vnd.jupyter.widget-view+json": {
              "version_major": 2,
              "version_minor": 0,
              "model_id": "cf656b7b258b46109f4bed3d1139d05a"
            }
          },
          "metadata": {}
        },
        {
          "output_type": "stream",
          "name": "stdout",
          "text": [
            "Epoch 13 \u279c train 90.7% | val 95.8% (loss 0.623) | lr 5.00e-04\n"
          ]
        },
        {
          "output_type": "display_data",
          "data": {
            "text/plain": [
              "Epoch 14:   0%|          | 0/1326 [00:00<?, ?it/s]"
            ],
            "application/vnd.jupyter.widget-view+json": {
              "version_major": 2,
              "version_minor": 0,
              "model_id": "e2eda8f33ce84e37b9366e1bae58fbc9"
            }
          },
          "metadata": {}
        },
        {
          "output_type": "stream",
          "name": "stdout",
          "text": [
            "Epoch 14 \u279c train 91.1% | val 96.2% (loss 0.610) | lr 4.99e-04\n",
            "** Saved new best model params ** @ 96.2%\n"
          ]
        },
        {
          "output_type": "display_data",
          "data": {
            "text/plain": [
              "Epoch 15:   0%|          | 0/1326 [00:00<?, ?it/s]"
            ],
            "application/vnd.jupyter.widget-view+json": {
              "version_major": 2,
              "version_minor": 0,
              "model_id": "aa7b10ac6550416eab10e235886b3a13"
            }
          },
          "metadata": {}
        },
        {
          "output_type": "stream",
          "name": "stdout",
          "text": [
            "Epoch 15 \u279c train 91.3% | val 96.6% (loss 0.603) | lr 4.99e-04\n",
            "** Saved new best model params ** @ 96.6%\n"
          ]
        },
        {
          "output_type": "display_data",
          "data": {
            "text/plain": [
              "Epoch 16:   0%|          | 0/1326 [00:00<?, ?it/s]"
            ],
            "application/vnd.jupyter.widget-view+json": {
              "version_major": 2,
              "version_minor": 0,
              "model_id": "8f872f40fce04bde80f5fff82681b241"
            }
          },
          "metadata": {}
        },
        {
          "output_type": "stream",
          "name": "stdout",
          "text": [
            "Epoch 16 \u279c train 91.7% | val 96.4% (loss 0.607) | lr 4.97e-04\n"
          ]
        },
        {
          "output_type": "display_data",
          "data": {
            "text/plain": [
              "Epoch 17:   0%|          | 0/1326 [00:00<?, ?it/s]"
            ],
            "application/vnd.jupyter.widget-view+json": {
              "version_major": 2,
              "version_minor": 0,
              "model_id": "410af8c304f444fab5db389823996900"
            }
          },
          "metadata": {}
        },
        {
          "output_type": "stream",
          "name": "stdout",
          "text": [
            "Epoch 17 \u279c train 92.1% | val 96.5% (loss 0.602) | lr 4.96e-04\n"
          ]
        },
        {
          "output_type": "display_data",
          "data": {
            "text/plain": [
              "Epoch 18:   0%|          | 0/1326 [00:00<?, ?it/s]"
            ],
            "application/vnd.jupyter.widget-view+json": {
              "version_major": 2,
              "version_minor": 0,
              "model_id": "ca73c4b483d7414999ff8147e46ffbcd"
            }
          },
          "metadata": {}
        },
        {
          "output_type": "stream",
          "name": "stdout",
          "text": [
            "Epoch 18 \u279c train 92.4% | val 96.9% (loss 0.590) | lr 4.94e-04\n",
            "** Saved new best model params ** @ 96.9%\n"
          ]
        },
        {
          "output_type": "display_data",
          "data": {
            "text/plain": [
              "Epoch 19:   0%|          | 0/1326 [00:00<?, ?it/s]"
            ],
            "application/vnd.jupyter.widget-view+json": {
              "version_major": 2,
              "version_minor": 0,
              "model_id": "c882c4e432d24ecca7e72841285f6583"
            }
          },
          "metadata": {}
        },
        {
          "output_type": "stream",
          "name": "stdout",
          "text": [
            "Epoch 19 \u279c train 92.7% | val 96.8% (loss 0.592) | lr 4.92e-04\n"
          ]
        },
        {
          "output_type": "display_data",
          "data": {
            "text/plain": [
              "Epoch 20:   0%|          | 0/1326 [00:00<?, ?it/s]"
            ],
            "application/vnd.jupyter.widget-view+json": {
              "version_major": 2,
              "version_minor": 0,
              "model_id": "36fb79113b164401944d104be5b2f6fe"
            }
          },
          "metadata": {}
        },
        {
          "output_type": "stream",
          "name": "stdout",
          "text": [
            "Epoch 20 \u279c train 92.9% | val 96.7% (loss 0.596) | lr 4.90e-04\n"
          ]
        },
        {
          "output_type": "display_data",
          "data": {
            "text/plain": [
              "Epoch 21:   0%|          | 0/1326 [00:00<?, ?it/s]"
            ],
            "application/vnd.jupyter.widget-view+json": {
              "version_major": 2,
              "version_minor": 0,
              "model_id": "4573f6706b4a4d9c99727f8fab3cbe87"
            }
          },
          "metadata": {}
        },
        {
          "output_type": "stream",
          "name": "stdout",
          "text": [
            "Epoch 21 \u279c train 93.0% | val 96.7% (loss 0.593) | lr 4.87e-04\n"
          ]
        },
        {
          "output_type": "display_data",
          "data": {
            "text/plain": [
              "Epoch 22:   0%|          | 0/1326 [00:00<?, ?it/s]"
            ],
            "application/vnd.jupyter.widget-view+json": {
              "version_major": 2,
              "version_minor": 0,
              "model_id": "df5873cf48054055b26651f77d8ed7b3"
            }
          },
          "metadata": {}
        },
        {
          "output_type": "stream",
          "name": "stdout",
          "text": [
            "Epoch 22 \u279c train 93.2% | val 97.0% (loss 0.586) | lr 4.84e-04\n",
            "** Saved new best model params ** @ 97.0%\n"
          ]
        },
        {
          "output_type": "display_data",
          "data": {
            "text/plain": [
              "Epoch 23:   0%|          | 0/1326 [00:00<?, ?it/s]"
            ],
            "application/vnd.jupyter.widget-view+json": {
              "version_major": 2,
              "version_minor": 0,
              "model_id": "9663216d89f24b65893a9e0d32ca2077"
            }
          },
          "metadata": {}
        },
        {
          "output_type": "stream",
          "name": "stdout",
          "text": [
            "Epoch 23 \u279c train 93.3% | val 96.9% (loss 0.589) | lr 4.81e-04\n"
          ]
        },
        {
          "output_type": "display_data",
          "data": {
            "text/plain": [
              "Epoch 24:   0%|          | 0/1326 [00:00<?, ?it/s]"
            ],
            "application/vnd.jupyter.widget-view+json": {
              "version_major": 2,
              "version_minor": 0,
              "model_id": "618cbf4a087243b899a463c0d2e4605e"
            }
          },
          "metadata": {}
        },
        {
          "output_type": "stream",
          "name": "stdout",
          "text": [
            "Epoch 24 \u279c train 93.4% | val 96.7% (loss 0.598) | lr 4.77e-04\n"
          ]
        },
        {
          "output_type": "display_data",
          "data": {
            "text/plain": [
              "Epoch 25:   0%|          | 0/1326 [00:00<?, ?it/s]"
            ],
            "application/vnd.jupyter.widget-view+json": {
              "version_major": 2,
              "version_minor": 0,
              "model_id": "3329e40e5784458985a5a51870519484"
            }
          },
          "metadata": {}
        },
        {
          "output_type": "stream",
          "name": "stdout",
          "text": [
            "Epoch 25 \u279c train 93.6% | val 96.8% (loss 0.593) | lr 4.74e-04\n"
          ]
        },
        {
          "output_type": "display_data",
          "data": {
            "text/plain": [
              "Epoch 26:   0%|          | 0/1326 [00:00<?, ?it/s]"
            ],
            "application/vnd.jupyter.widget-view+json": {
              "version_major": 2,
              "version_minor": 0,
              "model_id": "2c686be843c04f84b427594574bf59b5"
            }
          },
          "metadata": {}
        },
        {
          "output_type": "stream",
          "name": "stdout",
          "text": [
            "Epoch 26 \u279c train 93.8% | val 96.8% (loss 0.592) | lr 4.69e-04\n"
          ]
        },
        {
          "output_type": "display_data",
          "data": {
            "text/plain": [
              "Epoch 27:   0%|          | 0/1326 [00:00<?, ?it/s]"
            ],
            "application/vnd.jupyter.widget-view+json": {
              "version_major": 2,
              "version_minor": 0,
              "model_id": "825d460053a74b7098b24276fa6a5225"
            }
          },
          "metadata": {}
        },
        {
          "output_type": "stream",
          "name": "stdout",
          "text": [
            "Epoch 27 \u279c train 93.9% | val 96.8% (loss 0.592) | lr 4.65e-04\n"
          ]
        },
        {
          "output_type": "display_data",
          "data": {
            "text/plain": [
              "Epoch 28:   0%|          | 0/1326 [00:00<?, ?it/s]"
            ],
            "application/vnd.jupyter.widget-view+json": {
              "version_major": 2,
              "version_minor": 0,
              "model_id": "2327e874084d49b9b66651ec4e2035aa"
            }
          },
          "metadata": {}
        },
        {
          "output_type": "stream",
          "name": "stdout",
          "text": [
            "Epoch 28 \u279c train 94.1% | val 96.7% (loss 0.597) | lr 4.60e-04\n"
          ]
        },
        {
          "output_type": "display_data",
          "data": {
            "text/plain": [
              "Epoch 29:   0%|          | 0/1326 [00:00<?, ?it/s]"
            ],
            "application/vnd.jupyter.widget-view+json": {
              "version_major": 2,
              "version_minor": 0,
              "model_id": "33ef9966041a453b96cda4478e6b2d46"
            }
          },
          "metadata": {}
        },
        {
          "output_type": "stream",
          "name": "stdout",
          "text": [
            "Epoch 29 \u279c train 94.2% | val 97.2% (loss 0.581) | lr 4.55e-04\n",
            "** Saved new best model params ** @ 97.2%\n"
          ]
        },
        {
          "output_type": "display_data",
          "data": {
            "text/plain": [
              "Epoch 30:   0%|          | 0/1326 [00:00<?, ?it/s]"
            ],
            "application/vnd.jupyter.widget-view+json": {
              "version_major": 2,
              "version_minor": 0,
              "model_id": "ca1bfda2c630421598f99a7442ee6394"
            }
          },
          "metadata": {}
        },
        {
          "output_type": "stream",
          "name": "stdout",
          "text": [
            "Epoch 30 \u279c train 94.3% | val 97.1% (loss 0.585) | lr 4.50e-04\n"
          ]
        },
        {
          "output_type": "display_data",
          "data": {
            "text/plain": [
              "Epoch 31:   0%|          | 0/1326 [00:00<?, ?it/s]"
            ],
            "application/vnd.jupyter.widget-view+json": {
              "version_major": 2,
              "version_minor": 0,
              "model_id": "ed9b63fd4087485e9104ef237dec2b11"
            }
          },
          "metadata": {}
        },
        {
          "output_type": "stream",
          "name": "stdout",
          "text": [
            "Epoch 31 \u279c train 94.6% | val 97.0% (loss 0.589) | lr 4.45e-04\n"
          ]
        },
        {
          "output_type": "display_data",
          "data": {
            "text/plain": [
              "Epoch 32:   0%|          | 0/1326 [00:00<?, ?it/s]"
            ],
            "application/vnd.jupyter.widget-view+json": {
              "version_major": 2,
              "version_minor": 0,
              "model_id": "76bf7cf32da844eebbb58f4e36a2af64"
            }
          },
          "metadata": {}
        },
        {
          "output_type": "stream",
          "name": "stdout",
          "text": [
            "Epoch 32 \u279c train 94.6% | val 97.2% (loss 0.584) | lr 4.39e-04\n"
          ]
        },
        {
          "output_type": "display_data",
          "data": {
            "text/plain": [
              "Epoch 33:   0%|          | 0/1326 [00:00<?, ?it/s]"
            ],
            "application/vnd.jupyter.widget-view+json": {
              "version_major": 2,
              "version_minor": 0,
              "model_id": "af7aa923f79d401bab257c631bca56de"
            }
          },
          "metadata": {}
        },
        {
          "output_type": "stream",
          "name": "stdout",
          "text": [
            "Epoch 33 \u279c train 94.7% | val 97.1% (loss 0.585) | lr 4.33e-04\n"
          ]
        },
        {
          "output_type": "display_data",
          "data": {
            "text/plain": [
              "Epoch 34:   0%|          | 0/1326 [00:00<?, ?it/s]"
            ],
            "application/vnd.jupyter.widget-view+json": {
              "version_major": 2,
              "version_minor": 0,
              "model_id": "29b6c910c0db4471a7999e2374c9c879"
            }
          },
          "metadata": {}
        },
        {
          "output_type": "stream",
          "name": "stdout",
          "text": [
            "Epoch 34 \u279c train 94.7% | val 97.2% (loss 0.584) | lr 4.27e-04\n"
          ]
        },
        {
          "output_type": "display_data",
          "data": {
            "text/plain": [
              "Epoch 35:   0%|          | 0/1326 [00:00<?, ?it/s]"
            ],
            "application/vnd.jupyter.widget-view+json": {
              "version_major": 2,
              "version_minor": 0,
              "model_id": "fe81c51a1a1d40849d819e08e240ff65"
            }
          },
          "metadata": {}
        },
        {
          "output_type": "stream",
          "name": "stdout",
          "text": [
            "Epoch 35 \u279c train 95.0% | val 97.2% (loss 0.580) | lr 4.20e-04\n",
            "** Saved new best model params ** @ 97.2%\n"
          ]
        },
        {
          "output_type": "display_data",
          "data": {
            "text/plain": [
              "Epoch 36:   0%|          | 0/1326 [00:00<?, ?it/s]"
            ],
            "application/vnd.jupyter.widget-view+json": {
              "version_major": 2,
              "version_minor": 0,
              "model_id": "d46b5bee146e4616ac1efd2db3fa24e3"
            }
          },
          "metadata": {}
        },
        {
          "output_type": "stream",
          "name": "stdout",
          "text": [
            "Epoch 36 \u279c train 94.9% | val 97.1% (loss 0.585) | lr 4.14e-04\n"
          ]
        },
        {
          "output_type": "display_data",
          "data": {
            "text/plain": [
              "Epoch 37:   0%|          | 0/1326 [00:00<?, ?it/s]"
            ],
            "application/vnd.jupyter.widget-view+json": {
              "version_major": 2,
              "version_minor": 0,
              "model_id": "4fd8743a7d384e3eae8af40c1aff7fd6"
            }
          },
          "metadata": {}
        },
        {
          "output_type": "stream",
          "name": "stdout",
          "text": [
            "Epoch 37 \u279c train 95.1% | val 97.2% (loss 0.583) | lr 4.07e-04\n"
          ]
        },
        {
          "output_type": "display_data",
          "data": {
            "text/plain": [
              "Epoch 38:   0%|          | 0/1326 [00:00<?, ?it/s]"
            ],
            "application/vnd.jupyter.widget-view+json": {
              "version_major": 2,
              "version_minor": 0,
              "model_id": "da955c1cfc4c4e76b67fffdf264e2346"
            }
          },
          "metadata": {}
        },
        {
          "output_type": "stream",
          "name": "stdout",
          "text": [
            "Epoch 38 \u279c train 95.0% | val 97.2% (loss 0.585) | lr 4.00e-04\n"
          ]
        },
        {
          "output_type": "display_data",
          "data": {
            "text/plain": [
              "Epoch 39:   0%|          | 0/1326 [00:00<?, ?it/s]"
            ],
            "application/vnd.jupyter.widget-view+json": {
              "version_major": 2,
              "version_minor": 0,
              "model_id": "16cf1b3a94b141179c4fd13729fac30f"
            }
          },
          "metadata": {}
        },
        {
          "output_type": "stream",
          "name": "stdout",
          "text": [
            "Epoch 39 \u279c train 95.2% | val 97.4% (loss 0.579) | lr 3.93e-04\n",
            "** Saved new best model params ** @ 97.4%\n"
          ]
        },
        {
          "output_type": "display_data",
          "data": {
            "text/plain": [
              "Epoch 40:   0%|          | 0/1326 [00:00<?, ?it/s]"
            ],
            "application/vnd.jupyter.widget-view+json": {
              "version_major": 2,
              "version_minor": 0,
              "model_id": "7026fecb170a48faa9d8917837c68e3f"
            }
          },
          "metadata": {}
        },
        {
          "output_type": "stream",
          "name": "stdout",
          "text": [
            "Epoch 40 \u279c train 95.4% | val 97.1% (loss 0.589) | lr 3.85e-04\n"
          ]
        },
        {
          "output_type": "display_data",
          "data": {
            "text/plain": [
              "Epoch 41:   0%|          | 0/1326 [00:00<?, ?it/s]"
            ],
            "application/vnd.jupyter.widget-view+json": {
              "version_major": 2,
              "version_minor": 0,
              "model_id": "90e0beb691fe450e85a200b4b8df223e"
            }
          },
          "metadata": {}
        },
        {
          "output_type": "stream",
          "name": "stdout",
          "text": [
            "Epoch 41 \u279c train 95.4% | val 97.4% (loss 0.582) | lr 3.78e-04\n",
            "** Saved new best model params ** @ 97.4%\n"
          ]
        },
        {
          "output_type": "display_data",
          "data": {
            "text/plain": [
              "Epoch 42:   0%|          | 0/1326 [00:00<?, ?it/s]"
            ],
            "application/vnd.jupyter.widget-view+json": {
              "version_major": 2,
              "version_minor": 0,
              "model_id": "6cac3c086cd94d97bf1b31067db015fa"
            }
          },
          "metadata": {}
        },
        {
          "output_type": "stream",
          "name": "stdout",
          "text": [
            "Epoch 42 \u279c train 95.6% | val 97.2% (loss 0.580) | lr 3.70e-04\n"
          ]
        },
        {
          "output_type": "display_data",
          "data": {
            "text/plain": [
              "Epoch 43:   0%|          | 0/1326 [00:00<?, ?it/s]"
            ],
            "application/vnd.jupyter.widget-view+json": {
              "version_major": 2,
              "version_minor": 0,
              "model_id": "67b471bfcec5467598343fe739f298b4"
            }
          },
          "metadata": {}
        },
        {
          "output_type": "stream",
          "name": "stdout",
          "text": [
            "Epoch 43 \u279c train 95.5% | val 97.3% (loss 0.586) | lr 3.62e-04\n"
          ]
        },
        {
          "output_type": "display_data",
          "data": {
            "text/plain": [
              "Epoch 44:   0%|          | 0/1326 [00:00<?, ?it/s]"
            ],
            "application/vnd.jupyter.widget-view+json": {
              "version_major": 2,
              "version_minor": 0,
              "model_id": "02d6f0eed57940bfbc1633ad3e3441f7"
            }
          },
          "metadata": {}
        },
        {
          "output_type": "stream",
          "name": "stdout",
          "text": [
            "Epoch 44 \u279c train 95.6% | val 97.5% (loss 0.579) | lr 3.54e-04\n",
            "** Saved new best model params ** @ 97.5%\n"
          ]
        },
        {
          "output_type": "display_data",
          "data": {
            "text/plain": [
              "Epoch 45:   0%|          | 0/1326 [00:00<?, ?it/s]"
            ],
            "application/vnd.jupyter.widget-view+json": {
              "version_major": 2,
              "version_minor": 0,
              "model_id": "81c28279352341d0bf11357b9345f1a9"
            }
          },
          "metadata": {}
        },
        {
          "output_type": "stream",
          "name": "stdout",
          "text": [
            "Epoch 45 \u279c train 95.9% | val 97.6% (loss 0.577) | lr 3.46e-04\n",
            "** Saved new best model params ** @ 97.6%\n"
          ]
        },
        {
          "output_type": "display_data",
          "data": {
            "text/plain": [
              "Epoch 46:   0%|          | 0/1326 [00:00<?, ?it/s]"
            ],
            "application/vnd.jupyter.widget-view+json": {
              "version_major": 2,
              "version_minor": 0,
              "model_id": "eafb7cae02c34ba48fb78ad956aa2bfa"
            }
          },
          "metadata": {}
        },
        {
          "output_type": "stream",
          "name": "stdout",
          "text": [
            "Epoch 46 \u279c train 95.9% | val 97.4% (loss 0.579) | lr 3.37e-04\n"
          ]
        },
        {
          "output_type": "display_data",
          "data": {
            "text/plain": [
              "Epoch 47:   0%|          | 0/1326 [00:00<?, ?it/s]"
            ],
            "application/vnd.jupyter.widget-view+json": {
              "version_major": 2,
              "version_minor": 0,
              "model_id": "eface5c6559f46589fddb12f730ae2b6"
            }
          },
          "metadata": {}
        },
        {
          "output_type": "stream",
          "name": "stdout",
          "text": [
            "Epoch 47 \u279c train 95.9% | val 97.1% (loss 0.589) | lr 3.29e-04\n"
          ]
        },
        {
          "output_type": "display_data",
          "data": {
            "text/plain": [
              "Epoch 48:   0%|          | 0/1326 [00:00<?, ?it/s]"
            ],
            "application/vnd.jupyter.widget-view+json": {
              "version_major": 2,
              "version_minor": 0,
              "model_id": "6a5f353aa8394f3c879fa044f2cb11f7"
            }
          },
          "metadata": {}
        },
        {
          "output_type": "stream",
          "name": "stdout",
          "text": [
            "Epoch 48 \u279c train 96.0% | val 97.4% (loss 0.582) | lr 3.20e-04\n"
          ]
        },
        {
          "output_type": "display_data",
          "data": {
            "text/plain": [
              "Epoch 49:   0%|          | 0/1326 [00:00<?, ?it/s]"
            ],
            "application/vnd.jupyter.widget-view+json": {
              "version_major": 2,
              "version_minor": 0,
              "model_id": "fa9f9b5d9040483594fde95a3b59de73"
            }
          },
          "metadata": {}
        },
        {
          "output_type": "stream",
          "name": "stdout",
          "text": [
            "Epoch 49 \u279c train 96.1% | val 97.4% (loss 0.582) | lr 3.12e-04\n"
          ]
        },
        {
          "output_type": "display_data",
          "data": {
            "text/plain": [
              "Epoch 50:   0%|          | 0/1326 [00:00<?, ?it/s]"
            ],
            "application/vnd.jupyter.widget-view+json": {
              "version_major": 2,
              "version_minor": 0,
              "model_id": "1352b94ae1374891acac66b19011b39e"
            }
          },
          "metadata": {}
        },
        {
          "output_type": "stream",
          "name": "stdout",
          "text": [
            "Epoch 50 \u279c train 96.0% | val 97.3% (loss 0.585) | lr 3.03e-04\n"
          ]
        },
        {
          "output_type": "display_data",
          "data": {
            "text/plain": [
              "Epoch 51:   0%|          | 0/1326 [00:00<?, ?it/s]"
            ],
            "application/vnd.jupyter.widget-view+json": {
              "version_major": 2,
              "version_minor": 0,
              "model_id": "e9bf62e9e9be4fd383de5784c239b7cb"
            }
          },
          "metadata": {}
        },
        {
          "output_type": "stream",
          "name": "stdout",
          "text": [
            "Epoch 51 \u279c train 96.2% | val 97.5% (loss 0.576) | lr 2.94e-04\n"
          ]
        },
        {
          "output_type": "display_data",
          "data": {
            "text/plain": [
              "Epoch 52:   0%|          | 0/1326 [00:00<?, ?it/s]"
            ],
            "application/vnd.jupyter.widget-view+json": {
              "version_major": 2,
              "version_minor": 0,
              "model_id": "e5c39b5534c24fd38bc53dd878c7b2c2"
            }
          },
          "metadata": {}
        },
        {
          "output_type": "stream",
          "name": "stdout",
          "text": [
            "Epoch 52 \u279c train 96.3% | val 97.6% (loss 0.578) | lr 2.86e-04\n"
          ]
        },
        {
          "output_type": "display_data",
          "data": {
            "text/plain": [
              "Epoch 53:   0%|          | 0/1326 [00:00<?, ?it/s]"
            ],
            "application/vnd.jupyter.widget-view+json": {
              "version_major": 2,
              "version_minor": 0,
              "model_id": "d25d8fdaf412444486e4af3d91cb631e"
            }
          },
          "metadata": {}
        },
        {
          "output_type": "stream",
          "name": "stdout",
          "text": [
            "Epoch 53 \u279c train 96.3% | val 97.5% (loss 0.579) | lr 2.77e-04\n"
          ]
        },
        {
          "output_type": "display_data",
          "data": {
            "text/plain": [
              "Epoch 54:   0%|          | 0/1326 [00:00<?, ?it/s]"
            ],
            "application/vnd.jupyter.widget-view+json": {
              "version_major": 2,
              "version_minor": 0,
              "model_id": "8c395b1994bb44a8b18366cd45f9e419"
            }
          },
          "metadata": {}
        },
        {
          "output_type": "stream",
          "name": "stdout",
          "text": [
            "Epoch 54 \u279c train 96.5% | val 97.5% (loss 0.584) | lr 2.68e-04\n"
          ]
        },
        {
          "output_type": "display_data",
          "data": {
            "text/plain": [
              "Epoch 55:   0%|          | 0/1326 [00:00<?, ?it/s]"
            ],
            "application/vnd.jupyter.widget-view+json": {
              "version_major": 2,
              "version_minor": 0,
              "model_id": "2440838bb136487bbf300b945e30712b"
            }
          },
          "metadata": {}
        },
        {
          "output_type": "stream",
          "name": "stdout",
          "text": [
            "Epoch 55 \u279c train 96.5% | val 97.3% (loss 0.589) | lr 2.59e-04\n"
          ]
        },
        {
          "output_type": "display_data",
          "data": {
            "text/plain": [
              "Epoch 56:   0%|          | 0/1326 [00:00<?, ?it/s]"
            ],
            "application/vnd.jupyter.widget-view+json": {
              "version_major": 2,
              "version_minor": 0,
              "model_id": "5ce06bf83a7641519ca4c8bbc9d2fd3a"
            }
          },
          "metadata": {}
        },
        {
          "output_type": "stream",
          "name": "stdout",
          "text": [
            "Epoch 56 \u279c train 96.5% | val 97.4% (loss 0.589) | lr 2.50e-04\n"
          ]
        },
        {
          "output_type": "display_data",
          "data": {
            "text/plain": [
              "Epoch 57:   0%|          | 0/1326 [00:00<?, ?it/s]"
            ],
            "application/vnd.jupyter.widget-view+json": {
              "version_major": 2,
              "version_minor": 0,
              "model_id": "22d88290bd874c6aa3ce1d7cfdd2023f"
            }
          },
          "metadata": {}
        },
        {
          "output_type": "stream",
          "name": "stdout",
          "text": [
            "Epoch 57 \u279c train 96.6% | val 97.4% (loss 0.581) | lr 2.41e-04\n"
          ]
        },
        {
          "output_type": "display_data",
          "data": {
            "text/plain": [
              "Epoch 58:   0%|          | 0/1326 [00:00<?, ?it/s]"
            ],
            "application/vnd.jupyter.widget-view+json": {
              "version_major": 2,
              "version_minor": 0,
              "model_id": "acd15e5fa55843a78481e53fa1332ad3"
            }
          },
          "metadata": {}
        },
        {
          "output_type": "stream",
          "name": "stdout",
          "text": [
            "Epoch 58 \u279c train 96.6% | val 97.5% (loss 0.581) | lr 2.32e-04\n"
          ]
        },
        {
          "output_type": "display_data",
          "data": {
            "text/plain": [
              "Epoch 59:   0%|          | 0/1326 [00:00<?, ?it/s]"
            ],
            "application/vnd.jupyter.widget-view+json": {
              "version_major": 2,
              "version_minor": 0,
              "model_id": "98c59a75d68b40dabcfdcb5e274a9245"
            }
          },
          "metadata": {}
        },
        {
          "output_type": "stream",
          "name": "stdout",
          "text": [
            "Epoch 59 \u279c train 96.8% | val 97.4% (loss 0.587) | lr 2.23e-04\n"
          ]
        },
        {
          "output_type": "display_data",
          "data": {
            "text/plain": [
              "Epoch 60:   0%|          | 0/1326 [00:00<?, ?it/s]"
            ],
            "application/vnd.jupyter.widget-view+json": {
              "version_major": 2,
              "version_minor": 0,
              "model_id": "534102754f4b494ca603d6cd693ca82e"
            }
          },
          "metadata": {}
        },
        {
          "output_type": "stream",
          "name": "stdout",
          "text": [
            "Epoch 60 \u279c train 96.7% | val 97.4% (loss 0.585) | lr 2.14e-04\n"
          ]
        },
        {
          "output_type": "display_data",
          "data": {
            "text/plain": [
              "Epoch 61:   0%|          | 0/1326 [00:00<?, ?it/s]"
            ],
            "application/vnd.jupyter.widget-view+json": {
              "version_major": 2,
              "version_minor": 0,
              "model_id": "1d11b066e63742f297527077c2d72252"
            }
          },
          "metadata": {}
        },
        {
          "output_type": "stream",
          "name": "stdout",
          "text": [
            "Epoch 61 \u279c train 96.9% | val 97.4% (loss 0.583) | lr 2.06e-04\n"
          ]
        },
        {
          "output_type": "display_data",
          "data": {
            "text/plain": [
              "Epoch 62:   0%|          | 0/1326 [00:00<?, ?it/s]"
            ],
            "application/vnd.jupyter.widget-view+json": {
              "version_major": 2,
              "version_minor": 0,
              "model_id": "0622cf56e40f4fa1b2c32cd6f2512980"
            }
          },
          "metadata": {}
        },
        {
          "output_type": "stream",
          "name": "stdout",
          "text": [
            "Epoch 62 \u279c train 96.9% | val 97.5% (loss 0.585) | lr 1.97e-04\n"
          ]
        },
        {
          "output_type": "display_data",
          "data": {
            "text/plain": [
              "Epoch 63:   0%|          | 0/1326 [00:00<?, ?it/s]"
            ],
            "application/vnd.jupyter.widget-view+json": {
              "version_major": 2,
              "version_minor": 0,
              "model_id": "6b741987fbdf43bd9c972cc17149f12a"
            }
          },
          "metadata": {}
        },
        {
          "output_type": "stream",
          "name": "stdout",
          "text": [
            "Epoch 63 \u279c train 96.9% | val 97.5% (loss 0.584) | lr 1.88e-04\n"
          ]
        },
        {
          "output_type": "display_data",
          "data": {
            "text/plain": [
              "Epoch 64:   0%|          | 0/1326 [00:00<?, ?it/s]"
            ],
            "application/vnd.jupyter.widget-view+json": {
              "version_major": 2,
              "version_minor": 0,
              "model_id": "f854380cac2c4c959344861101a7288b"
            }
          },
          "metadata": {}
        },
        {
          "output_type": "stream",
          "name": "stdout",
          "text": [
            "Epoch 64 \u279c train 97.0% | val 97.5% (loss 0.581) | lr 1.80e-04\n"
          ]
        },
        {
          "output_type": "display_data",
          "data": {
            "text/plain": [
              "Epoch 65:   0%|          | 0/1326 [00:00<?, ?it/s]"
            ],
            "application/vnd.jupyter.widget-view+json": {
              "version_major": 2,
              "version_minor": 0,
              "model_id": "6b95415304b5427dbd9576d75f2ee380"
            }
          },
          "metadata": {}
        },
        {
          "output_type": "stream",
          "name": "stdout",
          "text": [
            "Epoch 65 \u279c train 97.0% | val 97.5% (loss 0.585) | lr 1.71e-04\n"
          ]
        },
        {
          "output_type": "display_data",
          "data": {
            "text/plain": [
              "Epoch 66:   0%|          | 0/1326 [00:00<?, ?it/s]"
            ],
            "application/vnd.jupyter.widget-view+json": {
              "version_major": 2,
              "version_minor": 0,
              "model_id": "e27c8c74794e42d1a59ba66e3922619a"
            }
          },
          "metadata": {}
        },
        {
          "output_type": "stream",
          "name": "stdout",
          "text": [
            "Epoch 66 \u279c train 97.1% | val 97.4% (loss 0.585) | lr 1.63e-04\n"
          ]
        },
        {
          "output_type": "display_data",
          "data": {
            "text/plain": [
              "Epoch 67:   0%|          | 0/1326 [00:00<?, ?it/s]"
            ],
            "application/vnd.jupyter.widget-view+json": {
              "version_major": 2,
              "version_minor": 0,
              "model_id": "4fd130156e444f85a6e6478bb7d19939"
            }
          },
          "metadata": {}
        },
        {
          "output_type": "stream",
          "name": "stdout",
          "text": [
            "Epoch 67 \u279c train 97.0% | val 97.4% (loss 0.586) | lr 1.54e-04\n"
          ]
        },
        {
          "output_type": "display_data",
          "data": {
            "text/plain": [
              "Epoch 68:   0%|          | 0/1326 [00:00<?, ?it/s]"
            ],
            "application/vnd.jupyter.widget-view+json": {
              "version_major": 2,
              "version_minor": 0,
              "model_id": "0350100788c4467fa60fc9979c976089"
            }
          },
          "metadata": {}
        },
        {
          "output_type": "stream",
          "name": "stdout",
          "text": [
            "Epoch 68 \u279c train 97.2% | val 97.6% (loss 0.582) | lr 1.46e-04\n"
          ]
        },
        {
          "output_type": "display_data",
          "data": {
            "text/plain": [
              "Epoch 69:   0%|          | 0/1326 [00:00<?, ?it/s]"
            ],
            "application/vnd.jupyter.widget-view+json": {
              "version_major": 2,
              "version_minor": 0,
              "model_id": "fe80369cd4bf48618c31d915b8c85041"
            }
          },
          "metadata": {}
        },
        {
          "output_type": "stream",
          "name": "stdout",
          "text": [
            "Epoch 69 \u279c train 97.3% | val 97.6% (loss 0.583) | lr 1.38e-04\n",
            "** Saved new best model params ** @ 97.6%\n"
          ]
        },
        {
          "output_type": "display_data",
          "data": {
            "text/plain": [
              "Epoch 70:   0%|          | 0/1326 [00:00<?, ?it/s]"
            ],
            "application/vnd.jupyter.widget-view+json": {
              "version_major": 2,
              "version_minor": 0,
              "model_id": "26b2ef3c59fa4d57878628ad7cd338ab"
            }
          },
          "metadata": {}
        },
        {
          "output_type": "stream",
          "name": "stdout",
          "text": [
            "Epoch 70 \u279c train 97.4% | val 97.6% (loss 0.584) | lr 1.30e-04\n"
          ]
        },
        {
          "output_type": "display_data",
          "data": {
            "text/plain": [
              "Epoch 71:   0%|          | 0/1326 [00:00<?, ?it/s]"
            ],
            "application/vnd.jupyter.widget-view+json": {
              "version_major": 2,
              "version_minor": 0,
              "model_id": "49560d5403c14cc7a6f3ab3484371c7f"
            }
          },
          "metadata": {}
        },
        {
          "output_type": "stream",
          "name": "stdout",
          "text": [
            "Epoch 71 \u279c train 97.4% | val 97.5% (loss 0.588) | lr 1.22e-04\n"
          ]
        },
        {
          "output_type": "display_data",
          "data": {
            "text/plain": [
              "Epoch 72:   0%|          | 0/1326 [00:00<?, ?it/s]"
            ],
            "application/vnd.jupyter.widget-view+json": {
              "version_major": 2,
              "version_minor": 0,
              "model_id": "03582e543e664ae2962745d6c1e2ffec"
            }
          },
          "metadata": {}
        },
        {
          "output_type": "stream",
          "name": "stdout",
          "text": [
            "Epoch 72 \u279c train 97.4% | val 97.6% (loss 0.583) | lr 1.15e-04\n"
          ]
        },
        {
          "output_type": "display_data",
          "data": {
            "text/plain": [
              "Epoch 73:   0%|          | 0/1326 [00:00<?, ?it/s]"
            ],
            "application/vnd.jupyter.widget-view+json": {
              "version_major": 2,
              "version_minor": 0,
              "model_id": "6f5f086e9f914177b2af7bb4d27dd8d2"
            }
          },
          "metadata": {}
        },
        {
          "output_type": "stream",
          "name": "stdout",
          "text": [
            "Epoch 73 \u279c train 97.5% | val 97.7% (loss 0.580) | lr 1.07e-04\n",
            "** Saved new best model params ** @ 97.7%\n"
          ]
        },
        {
          "output_type": "display_data",
          "data": {
            "text/plain": [
              "Epoch 74:   0%|          | 0/1326 [00:00<?, ?it/s]"
            ],
            "application/vnd.jupyter.widget-view+json": {
              "version_major": 2,
              "version_minor": 0,
              "model_id": "7912138e7ac5472d8d498d9df808db1b"
            }
          },
          "metadata": {}
        },
        {
          "output_type": "stream",
          "name": "stdout",
          "text": [
            "Epoch 74 \u279c train 97.5% | val 97.6% (loss 0.583) | lr 1.00e-04\n"
          ]
        },
        {
          "output_type": "display_data",
          "data": {
            "text/plain": [
              "Epoch 75:   0%|          | 0/1326 [00:00<?, ?it/s]"
            ],
            "application/vnd.jupyter.widget-view+json": {
              "version_major": 2,
              "version_minor": 0,
              "model_id": "2057c29442cd444d997ff42e0a98cf79"
            }
          },
          "metadata": {}
        },
        {
          "output_type": "stream",
          "name": "stdout",
          "text": [
            "Epoch 75 \u279c train 97.4% | val 97.7% (loss 0.582) | lr 9.31e-05\n"
          ]
        },
        {
          "output_type": "display_data",
          "data": {
            "text/plain": [
              "Epoch 76:   0%|          | 0/1326 [00:00<?, ?it/s]"
            ],
            "application/vnd.jupyter.widget-view+json": {
              "version_major": 2,
              "version_minor": 0,
              "model_id": "14dd6eab3e2441b38fff9bb144b5c226"
            }
          },
          "metadata": {}
        },
        {
          "output_type": "stream",
          "name": "stdout",
          "text": [
            "Epoch 76 \u279c train 97.6% | val 97.7% (loss 0.579) | lr 8.63e-05\n",
            "** Saved new best model params ** @ 97.7%\n"
          ]
        },
        {
          "output_type": "display_data",
          "data": {
            "text/plain": [
              "Epoch 77:   0%|          | 0/1326 [00:00<?, ?it/s]"
            ],
            "application/vnd.jupyter.widget-view+json": {
              "version_major": 2,
              "version_minor": 0,
              "model_id": "9a0732642d9c48dbb7353914a2c06472"
            }
          },
          "metadata": {}
        },
        {
          "output_type": "stream",
          "name": "stdout",
          "text": [
            "Epoch 77 \u279c train 97.6% | val 97.6% (loss 0.582) | lr 7.96e-05\n"
          ]
        },
        {
          "output_type": "display_data",
          "data": {
            "text/plain": [
              "Epoch 78:   0%|          | 0/1326 [00:00<?, ?it/s]"
            ],
            "application/vnd.jupyter.widget-view+json": {
              "version_major": 2,
              "version_minor": 0,
              "model_id": "ca30b94626394191a3abc6f1dc74ef36"
            }
          },
          "metadata": {}
        },
        {
          "output_type": "stream",
          "name": "stdout",
          "text": [
            "Epoch 78 \u279c train 97.6% | val 97.6% (loss 0.585) | lr 7.32e-05\n"
          ]
        },
        {
          "output_type": "display_data",
          "data": {
            "text/plain": [
              "Epoch 79:   0%|          | 0/1326 [00:00<?, ?it/s]"
            ],
            "application/vnd.jupyter.widget-view+json": {
              "version_major": 2,
              "version_minor": 0,
              "model_id": "bf2d782cad83480faf8d002ebb252288"
            }
          },
          "metadata": {}
        },
        {
          "output_type": "stream",
          "name": "stdout",
          "text": [
            "Epoch 79 \u279c train 97.6% | val 97.6% (loss 0.584) | lr 6.70e-05\n"
          ]
        },
        {
          "output_type": "display_data",
          "data": {
            "text/plain": [
              "Epoch 80:   0%|          | 0/1326 [00:00<?, ?it/s]"
            ],
            "application/vnd.jupyter.widget-view+json": {
              "version_major": 2,
              "version_minor": 0,
              "model_id": "03787ebd18a446048da9cd807cbfb741"
            }
          },
          "metadata": {}
        },
        {
          "output_type": "stream",
          "name": "stdout",
          "text": [
            "Epoch 80 \u279c train 97.7% | val 97.6% (loss 0.582) | lr 6.11e-05\n"
          ]
        },
        {
          "output_type": "display_data",
          "data": {
            "text/plain": [
              "Epoch 81:   0%|          | 0/1326 [00:00<?, ?it/s]"
            ],
            "application/vnd.jupyter.widget-view+json": {
              "version_major": 2,
              "version_minor": 0,
              "model_id": "7cd90102b4994aeebf4bc4cbf80d70d2"
            }
          },
          "metadata": {}
        },
        {
          "output_type": "stream",
          "name": "stdout",
          "text": [
            "Epoch 81 \u279c train 97.7% | val 97.7% (loss 0.585) | lr 5.53e-05\n"
          ]
        },
        {
          "output_type": "display_data",
          "data": {
            "text/plain": [
              "Epoch 82:   0%|          | 0/1326 [00:00<?, ?it/s]"
            ],
            "application/vnd.jupyter.widget-view+json": {
              "version_major": 2,
              "version_minor": 0,
              "model_id": "df9774f04c49478ea579c053b5276ee3"
            }
          },
          "metadata": {}
        },
        {
          "output_type": "stream",
          "name": "stdout",
          "text": [
            "Epoch 82 \u279c train 97.8% | val 97.7% (loss 0.584) | lr 4.99e-05\n"
          ]
        },
        {
          "output_type": "display_data",
          "data": {
            "text/plain": [
              "Epoch 83:   0%|          | 0/1326 [00:00<?, ?it/s]"
            ],
            "application/vnd.jupyter.widget-view+json": {
              "version_major": 2,
              "version_minor": 0,
              "model_id": "a1184f34044141ab85fd775a5514081c"
            }
          },
          "metadata": {}
        },
        {
          "output_type": "stream",
          "name": "stdout",
          "text": [
            "Epoch 83 \u279c train 97.8% | val 97.7% (loss 0.584) | lr 4.46e-05\n"
          ]
        },
        {
          "output_type": "display_data",
          "data": {
            "text/plain": [
              "Epoch 84:   0%|          | 0/1326 [00:00<?, ?it/s]"
            ],
            "application/vnd.jupyter.widget-view+json": {
              "version_major": 2,
              "version_minor": 0,
              "model_id": "e057c43bc9e34ce5ad5228ce843ef62e"
            }
          },
          "metadata": {}
        },
        {
          "output_type": "stream",
          "name": "stdout",
          "text": [
            "Epoch 84 \u279c train 97.8% | val 97.6% (loss 0.583) | lr 3.97e-05\n"
          ]
        },
        {
          "output_type": "display_data",
          "data": {
            "text/plain": [
              "Epoch 85:   0%|          | 0/1326 [00:00<?, ?it/s]"
            ],
            "application/vnd.jupyter.widget-view+json": {
              "version_major": 2,
              "version_minor": 0,
              "model_id": "746d10b4473f418fba9245180dc896d1"
            }
          },
          "metadata": {}
        },
        {
          "output_type": "stream",
          "name": "stdout",
          "text": [
            "Epoch 85 \u279c train 97.9% | val 97.7% (loss 0.585) | lr 3.50e-05\n"
          ]
        },
        {
          "output_type": "display_data",
          "data": {
            "text/plain": [
              "Epoch 86:   0%|          | 0/1326 [00:00<?, ?it/s]"
            ],
            "application/vnd.jupyter.widget-view+json": {
              "version_major": 2,
              "version_minor": 0,
              "model_id": "40434b1edbe84e95b7deac4fa3be722d"
            }
          },
          "metadata": {}
        },
        {
          "output_type": "stream",
          "name": "stdout",
          "text": [
            "Epoch 86 \u279c train 97.8% | val 97.6% (loss 0.585) | lr 3.06e-05\n"
          ]
        },
        {
          "output_type": "display_data",
          "data": {
            "text/plain": [
              "Epoch 87:   0%|          | 0/1326 [00:00<?, ?it/s]"
            ],
            "application/vnd.jupyter.widget-view+json": {
              "version_major": 2,
              "version_minor": 0,
              "model_id": "041e6314a9894e918e12a93ff66834d6"
            }
          },
          "metadata": {}
        },
        {
          "output_type": "stream",
          "name": "stdout",
          "text": [
            "Epoch 87 \u279c train 97.8% | val 97.7% (loss 0.585) | lr 2.64e-05\n"
          ]
        },
        {
          "output_type": "display_data",
          "data": {
            "text/plain": [
              "Epoch 88:   0%|          | 0/1326 [00:00<?, ?it/s]"
            ],
            "application/vnd.jupyter.widget-view+json": {
              "version_major": 2,
              "version_minor": 0,
              "model_id": "67454ca574e140e2bdcc748d1009bb53"
            }
          },
          "metadata": {}
        },
        {
          "output_type": "stream",
          "name": "stdout",
          "text": [
            "Epoch 88 \u279c train 97.9% | val 97.7% (loss 0.586) | lr 2.26e-05\n"
          ]
        },
        {
          "output_type": "display_data",
          "data": {
            "text/plain": [
              "Epoch 89:   0%|          | 0/1326 [00:00<?, ?it/s]"
            ],
            "application/vnd.jupyter.widget-view+json": {
              "version_major": 2,
              "version_minor": 0,
              "model_id": "e53fea67571340588a604d3fde065f22"
            }
          },
          "metadata": {}
        },
        {
          "output_type": "stream",
          "name": "stdout",
          "text": [
            "Epoch 89 \u279c train 97.9% | val 97.7% (loss 0.586) | lr 1.90e-05\n"
          ]
        },
        {
          "output_type": "display_data",
          "data": {
            "text/plain": [
              "Epoch 90:   0%|          | 0/1326 [00:00<?, ?it/s]"
            ],
            "application/vnd.jupyter.widget-view+json": {
              "version_major": 2,
              "version_minor": 0,
              "model_id": "ae29019070c24aaebf22506022534293"
            }
          },
          "metadata": {}
        },
        {
          "output_type": "stream",
          "name": "stdout",
          "text": [
            "Epoch 90 \u279c train 98.0% | val 97.6% (loss 0.586) | lr 1.58e-05\n"
          ]
        },
        {
          "output_type": "display_data",
          "data": {
            "text/plain": [
              "Epoch 91:   0%|          | 0/1326 [00:00<?, ?it/s]"
            ],
            "application/vnd.jupyter.widget-view+json": {
              "version_major": 2,
              "version_minor": 0,
              "model_id": "2c488c2acc134687823e9794daf15dab"
            }
          },
          "metadata": {}
        },
        {
          "output_type": "stream",
          "name": "stdout",
          "text": [
            "Epoch 91 \u279c train 98.0% | val 97.7% (loss 0.586) | lr 1.28e-05\n"
          ]
        },
        {
          "output_type": "display_data",
          "data": {
            "text/plain": [
              "Epoch 92:   0%|          | 0/1326 [00:00<?, ?it/s]"
            ],
            "application/vnd.jupyter.widget-view+json": {
              "version_major": 2,
              "version_minor": 0,
              "model_id": "ae7fbd9feafb43b1be67b947e085a10b"
            }
          },
          "metadata": {}
        },
        {
          "output_type": "stream",
          "name": "stdout",
          "text": [
            "Epoch 92 \u279c train 98.0% | val 97.7% (loss 0.586) | lr 1.01e-05\n"
          ]
        },
        {
          "output_type": "display_data",
          "data": {
            "text/plain": [
              "Epoch 93:   0%|          | 0/1326 [00:00<?, ?it/s]"
            ],
            "application/vnd.jupyter.widget-view+json": {
              "version_major": 2,
              "version_minor": 0,
              "model_id": "9e635d63a08d4b97ad84567c2729ec3d"
            }
          },
          "metadata": {}
        },
        {
          "output_type": "stream",
          "name": "stdout",
          "text": [
            "Epoch 93 \u279c train 97.9% | val 97.7% (loss 0.586) | lr 7.77e-06\n"
          ]
        },
        {
          "output_type": "display_data",
          "data": {
            "text/plain": [
              "Epoch 94:   0%|          | 0/1326 [00:00<?, ?it/s]"
            ],
            "application/vnd.jupyter.widget-view+json": {
              "version_major": 2,
              "version_minor": 0,
              "model_id": "33bb6985003a4958947294c6ef0f3477"
            }
          },
          "metadata": {}
        },
        {
          "output_type": "stream",
          "name": "stdout",
          "text": [
            "Epoch 94 \u279c train 97.9% | val 97.7% (loss 0.585) | lr 5.71e-06\n"
          ]
        },
        {
          "output_type": "display_data",
          "data": {
            "text/plain": [
              "Epoch 95:   0%|          | 0/1326 [00:00<?, ?it/s]"
            ],
            "application/vnd.jupyter.widget-view+json": {
              "version_major": 2,
              "version_minor": 0,
              "model_id": "fbba332becc949cca04904a5f55fd9eb"
            }
          },
          "metadata": {}
        },
        {
          "output_type": "stream",
          "name": "stdout",
          "text": [
            "Epoch 95 \u279c train 98.0% | val 97.7% (loss 0.586) | lr 3.97e-06\n"
          ]
        },
        {
          "output_type": "display_data",
          "data": {
            "text/plain": [
              "Epoch 96:   0%|          | 0/1326 [00:00<?, ?it/s]"
            ],
            "application/vnd.jupyter.widget-view+json": {
              "version_major": 2,
              "version_minor": 0,
              "model_id": "7b1a5f62f408490b8acc56676f937ded"
            }
          },
          "metadata": {}
        },
        {
          "output_type": "stream",
          "name": "stdout",
          "text": [
            "Epoch 96 \u279c train 98.0% | val 97.6% (loss 0.586) | lr 2.54e-06\n"
          ]
        },
        {
          "output_type": "display_data",
          "data": {
            "text/plain": [
              "Epoch 97:   0%|          | 0/1326 [00:00<?, ?it/s]"
            ],
            "application/vnd.jupyter.widget-view+json": {
              "version_major": 2,
              "version_minor": 0,
              "model_id": "e502e2f7a1e045ee8c42b5281167c323"
            }
          },
          "metadata": {}
        },
        {
          "output_type": "stream",
          "name": "stdout",
          "text": [
            "Epoch 97 \u279c train 98.0% | val 97.7% (loss 0.586) | lr 1.50e-06\n"
          ]
        },
        {
          "output_type": "display_data",
          "data": {
            "text/plain": [
              "Epoch 98:   0%|          | 0/1326 [00:00<?, ?it/s]"
            ],
            "application/vnd.jupyter.widget-view+json": {
              "version_major": 2,
              "version_minor": 0,
              "model_id": "854964a5214e40fd9d577b033ad4bff2"
            }
          },
          "metadata": {}
        },
        {
          "output_type": "stream",
          "name": "stdout",
          "text": [
            "Epoch 98 \u279c train 97.9% | val 97.7% (loss 0.586) | lr 1.50e-06\n"
          ]
        },
        {
          "output_type": "display_data",
          "data": {
            "text/plain": [
              "Epoch 99:   0%|          | 0/1326 [00:00<?, ?it/s]"
            ],
            "application/vnd.jupyter.widget-view+json": {
              "version_major": 2,
              "version_minor": 0,
              "model_id": "979a5ba5ad284c77b4ed448a472daac0"
            }
          },
          "metadata": {}
        },
        {
          "output_type": "stream",
          "name": "stdout",
          "text": [
            "Epoch 99 \u279c train 97.9% | val 97.7% (loss 0.586) | lr 1.50e-06\n"
          ]
        },
        {
          "output_type": "display_data",
          "data": {
            "text/plain": [
              "Epoch 100:   0%|          | 0/1326 [00:00<?, ?it/s]"
            ],
            "application/vnd.jupyter.widget-view+json": {
              "version_major": 2,
              "version_minor": 0,
              "model_id": "3a37ea88a99841678b5ef3bd78015022"
            }
          },
          "metadata": {}
        },
        {
          "output_type": "stream",
          "name": "stdout",
          "text": [
            "Epoch 100 \u279c train 97.9% | val 97.6% (loss 0.585) | lr 1.50e-06\n"
          ]
        }
      ]
    },
    {
      "cell_type": "code",
      "source": [
        "# --- Save LAST params locally + Drive ---\n",
        "torch.save(model.state_dict(), \"/content/last_kws_mamba_noAux.pt\")\n",
        "\n",
        "CKPT_DIR = \"/content/drive/MyDrive/kws_models_noAux_192_12\"\n",
        "os.makedirs(CKPT_DIR, exist_ok=True)\n",
        "torch.save(model.state_dict(), f\"{CKPT_DIR}/last_kws_mamba_noAux.pt\")\n",
        "print(\"Saved LAST model to Drive\")\n",
        "\n",
        "# --- Copy BEST (by val_acc) to Drive if it exists ---\n",
        "best_local = \"/content/best_kws.pt\"\n",
        "if os.path.exists(best_local):\n",
        "    import shutil\n",
        "    dst = f\"{CKPT_DIR}/best_kws.pt\"\n",
        "    shutil.copy2(best_local, dst)          # copies the already-saved BEST\n",
        "    print(f\"Copied BEST model (val_acc={best_val_acc:.2f}%) to Drive: {dst}\")\n",
        "else:\n",
        "    print(\"WARNING: no best checkpoint was found to copy.\")"
      ],
      "metadata": {
        "id": "FsvQTPuH9gQM",
        "colab": {
          "base_uri": "https://localhost:8080/"
        },
        "outputId": "cd8772ec-3625-4d6f-c89d-6bf8dc35fcd2"
      },
      "execution_count": null,
      "outputs": [
        {
          "output_type": "stream",
          "name": "stdout",
          "text": [
            "Saved LAST model to Drive\n",
            "Copied BEST model (val_acc=97.75%) to Drive: /content/drive/MyDrive/kws_models_noAux_192_12/best_kws.pt\n"
          ]
        }
      ]
    }
  ]
}