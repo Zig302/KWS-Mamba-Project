{
  "cells": [
    {
      "cell_type": "code",
      "execution_count": null,
      "metadata": {
        "colab": {
          "base_uri": "https://localhost:8080/"
        },
        "collapsed": true,
        "id": "W1ktF8ByscNE",
        "outputId": "a92ef80b-4a64-42a4-cba4-b711db3e2173"
      },
      "outputs": [],
      "source": [
        "!pip install datasets==2.16.0\n",
        "!pip install huggingface-hub==0.20.0\n",
        "!apt-get install -y libsox-dev\n",
        "!pip install torch==2.4.0 torchvision==0.19.0 torchaudio==2.4.0 --index-url https://download.pytorch.org/whl/cu121\n",
        "!pip install yet-another-retnet==0.5.1"
      ]
    },
    {
      "cell_type": "code",
      "execution_count": null,
      "metadata": {
        "colab": {
          "base_uri": "https://localhost:8080/"
        },
        "id": "hxe8rIcCsjr_",
        "outputId": "2a06f39e-7e9e-4976-8c58-97a52781195e"
      },
      "outputs": [
        {
          "name": "stdout",
          "output_type": "stream",
          "text": [
            "Mounted at /content/drive\n"
          ]
        }
      ],
      "source": [
        "# Keyword‑Spotting with RetNet\n",
        "# =========================================================\n",
        "\n",
        "from __future__ import annotations\n",
        "import json, os, random\n",
        "from pathlib import Path\n",
        "from typing import Tuple, Dict\n",
        "import torch, torchaudio\n",
        "import torch.nn as nn\n",
        "import os\n",
        "import math\n",
        "import torch.nn.functional as F\n",
        "import torchvision.models as tvm\n",
        "import torchaudio.transforms as T\n",
        "from torch.utils.data import Dataset, DataLoader\n",
        "from datasets import load_dataset\n",
        "from tqdm.notebook import tqdm\n",
        "from yet_another_retnet.retention import MultiScaleRetention\n",
        "torch.backends.cuda.matmul.allow_tf32 = True\n",
        "torch.backends.cudnn.allow_tf32 = True\n",
        "\n",
        "from google.colab import drive\n",
        "drive.mount('/content/drive')"
      ]
    },
    {
      "cell_type": "code",
      "execution_count": null,
      "metadata": {
        "id": "7VffWN9TtiZE"
      },
      "outputs": [],
      "source": [
        "# ---------------------------------------------------------------------\n",
        "# 2. Waveform-level augmentation (shift + noise)\n",
        "# ---------------------------------------------------------------------\n",
        "class WaveToSpec:\n",
        "    def __init__(self,\n",
        "                 feature_type: str = \"mel\",\n",
        "                 sample_rate: int = 16_000,\n",
        "                 n_fft: int = 2048,\n",
        "                 hop_length: int = 256,\n",
        "                 n_mels: int = 128,\n",
        "                 n_mfcc: int = 40,\n",
        "                 top_db: int | None = 80,\n",
        "                 apply_mask: bool = True,\n",
        "                 freq_mask_param: int = 15,\n",
        "                 time_mask_param: int = 10):\n",
        "        self.feature_type = feature_type.lower(); assert self.feature_type in {\"mel\",\"mfcc\"}\n",
        "        self.apply_mask = apply_mask and self.feature_type == \"mel\"\n",
        "\n",
        "        if self.feature_type == \"mel\":\n",
        "            self.spec = T.MelSpectrogram(sample_rate, n_fft, hop_length, n_mels, power=2)\n",
        "            self.to_db = T.AmplitudeToDB(stype=\"power\", top_db=top_db)\n",
        "            if self.apply_mask:\n",
        "                self.freq_mask = T.FrequencyMasking(freq_mask_param)\n",
        "                self.time_mask = T.TimeMasking(time_mask_param)\n",
        "        else:\n",
        "            self.spec = T.MFCC(sample_rate, n_mfcc,\n",
        "                                melkwargs=dict(n_fft=n_fft, hop_length=hop_length, n_mels=n_mels))\n",
        "            self.to_db = None\n",
        "            self.freq_mask = self.time_mask = None\n",
        "\n",
        "    def __call__(self, wav: torch.Tensor) -> torch.Tensor:\n",
        "        if wav.dim() == 1:\n",
        "            wav = wav.unsqueeze(0)\n",
        "        feats = self.spec(wav)\n",
        "        if self.apply_mask:\n",
        "            # Stronger SpecAugment — apply two freq & two time masks\n",
        "            feats = self.freq_mask(feats); feats = self.time_mask(feats)\n",
        "            feats = self.freq_mask(feats); feats = self.time_mask(feats)\n",
        "        if self.to_db is not None:\n",
        "            feats = self.to_db(feats.clamp(min=1e-10))\n",
        "        return feats\n",
        "\n",
        "class Augment:\n",
        "    def __init__(self, stretch: Tuple[float,float]=(1.0,1.0),\n",
        "                 shift_ms: int = 100,\n",
        "                 noise: Tuple[float,float]=(0.,0.005),\n",
        "                 sr: int = 16_000):\n",
        "        self.stretch = stretch\n",
        "        self.shift   = int(shift_ms * sr / 1000)\n",
        "        self.noise   = noise\n",
        "        self.sr      = sr\n",
        "\n",
        "    def _shift(self, x: torch.Tensor):\n",
        "        if self.shift == 0:\n",
        "            return x\n",
        "        s = int(torch.randint(-self.shift, self.shift + 1, ()).item())\n",
        "        if s == 0:\n",
        "            return x\n",
        "        return (F.pad(x, (s, 0))[:, :-s] if s > 0 else F.pad(x, (0, -s))[:, -s:])\n",
        "\n",
        "    def __call__(self, wav: torch.Tensor):\n",
        "        squeezed = False\n",
        "        if wav.dim() == 1:\n",
        "            wav = wav.unsqueeze(0)\n",
        "            squeezed = True\n",
        "        if self.stretch != (1.0, 1.0):\n",
        "            factor = float(torch.empty(()).uniform_(*self.stretch))\n",
        "            if abs(factor - 1.0) > 1e-3:\n",
        "                wav, _ = torchaudio.sox_effects.apply_effects_tensor(\n",
        "                    wav, self.sr, [[\"tempo\", f\"{factor}\"]]\n",
        "                )\n",
        "        wav = self._shift(wav)\n",
        "        if self.noise[1] > 0:\n",
        "            sigma = float(torch.empty(()).uniform_(*self.noise))\n",
        "            if sigma > 0:\n",
        "                wav = wav + sigma * torch.randn_like(wav)\n",
        "        return wav.squeeze(0) if squeezed else wav"
      ]
    },
    {
      "cell_type": "code",
      "execution_count": null,
      "metadata": {
        "id": "6OyOMNUltjAT"
      },
      "outputs": [],
      "source": [
        "# ---------------------------------------------------------------------\n",
        "# 3. Dataset wrapper with dataset-level normalization\n",
        "# ---------------------------------------------------------------------\n",
        "class SpeechCommands(Dataset):\n",
        "    def __init__(self, hf_split, aug: Augment | None, frontend: WaveToSpec,\n",
        "                 wav_len: int = 16_000, mean: float = 0.0, std: float = 1.0):\n",
        "        self.ds, self.aug, self.front = hf_split, aug, frontend\n",
        "        self.wav_len = wav_len\n",
        "        self.mean = mean\n",
        "        self.std = std\n",
        "\n",
        "    def __len__(self):\n",
        "        return len(self.ds)\n",
        "\n",
        "    def __getitem__(self, idx):\n",
        "        sample = self.ds[idx]\n",
        "        wav = torch.from_numpy(sample[\"audio\"][\"array\"]).float()\n",
        "\n",
        "        if wav.numel() < self.wav_len:\n",
        "            wav = F.pad(wav, (0, self.wav_len - wav.numel()))\n",
        "        else:\n",
        "            wav = wav[: self.wav_len]\n",
        "\n",
        "        if self.aug:\n",
        "            wav = self.aug(wav)\n",
        "        feats = self.front(wav)           # [C=1, 40, ~55] for MFCC\n",
        "        feats = (feats - self.mean) / (self.std + 1e-6)  # Normalize with precomputed stats\n",
        "        feats = feats.squeeze(0).transpose(0, 1)  # [T≈55, 40]\n",
        "        return feats, sample[\"label\"]"
      ]
    },
    {
      "cell_type": "code",
      "execution_count": null,
      "metadata": {
        "id": "RECqgNJrtkjK"
      },
      "outputs": [],
      "source": [
        "# ---------------------------------------------------------------------\n",
        "# 4. Helper funcs = collate function + data mean/std + LR decay func\n",
        "# ---------------------------------------------------------------------\n",
        "from torch.nn.utils.rnn import pad_sequence\n",
        "\n",
        "# Add padding to spectrograms if needed\n",
        "def collate_fn(batch):\n",
        "    feats, lbls = zip(*batch)\n",
        "    # Also return true lengths for mask-aware pooling\n",
        "    lens = torch.tensor([f.size(0) for f in feats], dtype=torch.long)\n",
        "    feats_padded = pad_sequence(feats, batch_first=True, padding_value=0.0)  # [B, T_max, F]\n",
        "    return feats_padded, torch.tensor(lbls), lens\n",
        "\n",
        "\n",
        "# Defines your learning rate schedule\n",
        "def lr_lambda(step):\n",
        "    ' ' 'Start with a very low learning rate and gradually increase it' ' '\n",
        "    if step < warmup_steps:\n",
        "        return float(step) / float(max(1, warmup_steps))\n",
        "    progress = float(step - warmup_steps) / float(max(1, total_steps - warmup_steps))\n",
        "    return max(0.005, 0.5 * (1.0 + math.cos(math.pi * progress)))\n",
        "\n",
        "\n",
        "# Precompute dataset-level mean and std for MFCCs\n",
        "def compute_dataset_stats(ds, frontend, wav_len=16_000):\n",
        "    feats_all = []\n",
        "    for sample in ds:\n",
        "        wav = torch.from_numpy(sample[\"audio\"][\"array\"]).float()\n",
        "        if wav.numel() < wav_len:\n",
        "            wav = F.pad(wav, (0, wav_len - wav.numel()))\n",
        "        else:\n",
        "            wav = wav[: wav_len]\n",
        "        feats = frontend(wav).squeeze(0).transpose(0, 1)  # [T, 40]\n",
        "        feats_all.append(feats)\n",
        "    feats_all = torch.cat(feats_all, dim=0)\n",
        "    return feats_all.mean().item(), feats_all.std().item()\n",
        "\n",
        "\n",
        "# NEW: channel GroupNorm that works on [B, T, d]\n",
        "class ChannelGroupNorm(nn.Module):\n",
        "    def __init__(self, num_groups: int, num_channels: int, eps: float = 1e-5, affine: bool = True):\n",
        "        super().__init__()\n",
        "        self.gn = nn.GroupNorm(num_groups=num_groups, num_channels=num_channels, eps=eps, affine=affine)\n",
        "    def forward(self, x):  # x: [B, T, D]\n",
        "        return self.gn(x.transpose(1, 2)).transpose(1, 2)\n"
      ]
    },
    {
      "cell_type": "code",
      "execution_count": null,
      "metadata": {
        "id": "0NJ_BEvxtn6l"
      },
      "outputs": [],
      "source": [
        "# ---------------------------------------------------------------------\n",
        "# RetNet KWS model (Conv embed -> Retention blocks -> mask-aware pooling)\n",
        "# ---------------------------------------------------------------------\n",
        "class RetNetBlock(nn.Module):\n",
        "    \"\"\"Pre-norm residual block with MultiScaleRetention (parallel form).\"\"\"\n",
        "    def __init__(self, d_model: int, n_heads: int, drop: float):\n",
        "        super().__init__()\n",
        "        self.norm = ChannelGroupNorm(num_groups=n_heads, num_channels=d_model)\n",
        "        self.q_proj = nn.Linear(d_model, d_model, bias=False)\n",
        "        self.k_proj = nn.Linear(d_model, d_model, bias=False)\n",
        "        self.v_proj = nn.Linear(d_model, d_model, bias=False)\n",
        "\n",
        "        self.retention = MultiScaleRetention(\n",
        "            embed_dim=d_model, num_heads=n_heads,\n",
        "            relative_position=False\n",
        "        )\n",
        "        self.out_proj = nn.Linear(d_model, d_model)\n",
        "        self.dropout = nn.Dropout(drop)\n",
        "        self.ffn_norm = ChannelGroupNorm(num_groups=n_heads, num_channels=d_model)\n",
        "        self.ffn = nn.Sequential(\n",
        "            nn.Linear(d_model, 2*d_model),\n",
        "            nn.SiLU(),\n",
        "            nn.Dropout(drop),\n",
        "            nn.Linear(2*d_model, d_model),\n",
        "            nn.Dropout(drop),\n",
        "        )\n",
        "\n",
        "    def forward(self, x):                    # x: [B, T, d]\n",
        "        # Retention sublayer\n",
        "        residual = x\n",
        "        x = self.norm(x)\n",
        "        q = F.normalize(self.q_proj(x), dim=-1)\n",
        "        k = F.normalize(self.k_proj(x), dim=-1)\n",
        "        v = self.v_proj(x)\n",
        "        y, _ = self.retention.forward_parallel(q, k, v)\n",
        "        y = self.out_proj(y)\n",
        "        x = residual + self.dropout(y)\n",
        "\n",
        "        # FFN sublayer\n",
        "        residual = x\n",
        "        x = self.ffn_norm(x)\n",
        "        x = residual + self.ffn(x)\n",
        "        return x\n",
        "\n",
        "class RetNetKWS(nn.Module):\n",
        "    def __init__(self, num_classes: int, d_model=256, n_layers=8, n_heads=8, in_ch=1, feature_dim=128):\n",
        "        super().__init__()\n",
        "        # Convolutional embedding\n",
        "        self.conv_embed = nn.Sequential(\n",
        "            nn.Conv2d(in_ch, 32, 3, padding=1),\n",
        "            nn.BatchNorm2d(32), nn.SiLU(),\n",
        "            nn.Conv2d(32, 32, 3, padding=1),\n",
        "            nn.BatchNorm2d(32), nn.SiLU(),\n",
        "            nn.MaxPool2d(2),\n",
        "\n",
        "            nn.Conv2d(32, 64, 3, padding=1),\n",
        "            nn.BatchNorm2d(64), nn.SiLU(),\n",
        "            nn.Conv2d(64, 64, 3, padding=1),\n",
        "            nn.BatchNorm2d(64), nn.SiLU(),\n",
        "            nn.MaxPool2d((2, 1)),\n",
        "        )\n",
        "        # projection to model width\n",
        "        freq_dim_after_conv = feature_dim // 4\n",
        "        flattened_dim = 64 * freq_dim_after_conv\n",
        "        self.proj = nn.Sequential(\n",
        "            nn.Linear(flattened_dim, d_model),\n",
        "            nn.LayerNorm(d_model),\n",
        "            nn.SiLU(),\n",
        "            nn.Dropout(0.1)\n",
        "        )\n",
        "        # RetNet blocks\n",
        "        self.blocks = nn.ModuleList([\n",
        "            RetNetBlock(d_model=d_model, n_heads=n_heads,\n",
        "                        drop=max(0.02, 0.03 - (i * 0.003)))\n",
        "            for i in range(n_layers)\n",
        "        ])\n",
        "        self.pre_classifier_norm = nn.LayerNorm(d_model)\n",
        "        self.classifier_dropout = nn.Dropout(0.1)\n",
        "        self.classifier = nn.Sequential(\n",
        "            nn.Linear(d_model, d_model // 2),\n",
        "            nn.SiLU(),\n",
        "            nn.Dropout(0.05),\n",
        "            nn.Linear(d_model // 2, num_classes)\n",
        "        )\n",
        "\n",
        "    def forward(self, x, lengths: torch.Tensor | None = None):   # x: [B, T, F]\n",
        "        # reshape for Conv2d: [B, T, F] -> [B, 1, F, T]\n",
        "        x = x.permute(0, 2, 1).unsqueeze(1)\n",
        "        x = self.conv_embed(x)                                  # [B, 64, F', T']\n",
        "        x = x.permute(0, 3, 1, 2).contiguous().flatten(2)       # [B, T', 64*F']\n",
        "        x = self.proj(x)                                        # [B, T', d_model]\n",
        "\n",
        "        for blk in self.blocks:\n",
        "            x = blk(x)\n",
        "\n",
        "        x = self.pre_classifier_norm(x)\n",
        "\n",
        "        # mask-aware mean pooling across time\n",
        "        if lengths is not None:\n",
        "            t_lens = torch.div(lengths, 2, rounding_mode='floor').clamp(min=1).to(x.device)\n",
        "            Tprime = x.size(1)\n",
        "            mask = (torch.arange(Tprime, device=x.device)[None, :] < t_lens[:, None]).float().unsqueeze(-1)\n",
        "            x_sum = (x * mask).sum(dim=1)\n",
        "            denom = mask.sum(dim=1).clamp(min=1.0)\n",
        "            pooled = x_sum / denom\n",
        "        else:\n",
        "            pooled = x.mean(dim=1)\n",
        "\n",
        "        logits = self.classifier(self.classifier_dropout(pooled))\n",
        "        return logits\n",
        "\n",
        "# ---------------------------------------------------------------------\n",
        "@torch.no_grad()\n",
        "def evaluate(model, loader, device, criterion):\n",
        "    model.eval()\n",
        "    tot = correct = loss_sum = 0\n",
        "    for xb, yb, lb in loader:\n",
        "        xb, yb, lb = xb.to(device), yb.to(device), lb.to(device)\n",
        "        logits = model(xb, lengths=lb)\n",
        "        loss = criterion(logits, yb)\n",
        "        loss_sum += loss.item() * xb.size(0)\n",
        "        correct += (logits.argmax(1) == yb).sum().item()\n",
        "        tot += xb.size(0)\n",
        "    return loss_sum / tot, 100.0 * correct / tot"
      ]
    },
    {
      "cell_type": "code",
      "execution_count": null,
      "metadata": {
        "colab": {
          "base_uri": "https://localhost:8080/",
          "height": 1000,
          "referenced_widgets": [
            "16eece5608c6462387b8376d70c41398",
            "d123db8857c94007b8a7a449e64e6ad7",
            "d7b00393c8fa4c0586888373e23a2da8",
            "f0707ef8666c497dbd22a06b7a1c39a2",
            "44e035c1b46e4fe1a80d2035e5e30e84",
            "aecf960f85a64d98bf529c616cad772e",
            "fede595a7105457dae60e2f8447c6f99",
            "70dca058c38c447b91da401b12af3d02",
            "64ce2d207b3449f89b357b93ec63cff3",
            "39a62f2886d3424c9da22c62aa687cda",
            "423c88d1bc514499a7e0396bc7c1727e",
            "5aa155b2c3c048c2a7270d0fc11f2fb4",
            "44e062bb8006408da8406c338dcf2ced",
            "38914cb8438a42f18ae2ee614b8987c0",
            "eddf9a467f95434fb1e0c438529a6b0b",
            "6d4b26725ea64e3cbca99d85ddcd9d09",
            "286f91f4588d4c24ab6541f39c0417c2",
            "98a46350df6840dda0bd6206b848af1c",
            "034f4363e8a54ab08479a151c8a5425d",
            "b90bf79852d74e0eb80d35dba76d2cb9",
            "8cfdf355d15443299e4c30f4f106dfba",
            "ce635fee0d1d4ab4bd7db81cd29cf431",
            "341b762595c64479b850c8c65725b926",
            "9a8c5477e945476bb2cf5a81e73a577a",
            "a5139bf232ce49c79a0de69e2f321cbe",
            "130399ce1e6e4a6088ad327b2537e32e",
            "da1de46b456d4e0f9ab194db84462618",
            "d7a21d567e714f97bf25def85340b52c",
            "50c18729133747dfa7455d8dc2011f93",
            "67d4d42638074280946ffe063bfdcf0c",
            "f71a4b631cd746f8bbfa136a0dab637f",
            "e9bf0525899c43deb59e9e9c984a3121",
            "d2b053cb207e48fbba6fb8fba40eac35",
            "9f39d0d8a36a491eae4edbd0635e6e7d",
            "43c26cefa49f43c899c697d265c9a962",
            "f4b3321af52442c9aabd6e38709b8327",
            "d65f9effef744f01920a0f8da5629b28",
            "def160e1e24a47bdbeac295550fd80c8",
            "717bec7c92bd4f57b8f49b3677d5a57e",
            "8f9c22204b2541378422b1048c8a14c5",
            "aaad0f8759fd4661ad98c7918272dd8a",
            "505f2056aaeb4a66bdfeefa79a75a52e",
            "8fb5661b7e20405e90b0a31af4b8764a",
            "4a14e26688414c7b9e10439dcdc0ab3d",
            "a4dcb6b058864e5fa1d80f4e6659e78c",
            "87eeecc32cbf43278302af340b1a5ecf",
            "13ee9441e3e64e6e9950ebdaee5d9ad0",
            "7fdebfc073314d30a8e6988ce74376ba",
            "1ab80ba73fc34b0d966e8eab40788935",
            "015c54906d244f8aa2d704f672d25186",
            "da4dda54ef2449fc8a3d7812d1908a1c",
            "eeb7f4424bb64493a17b55cd498b906e",
            "9af0b26f41aa4e11af6504bf83178fd8",
            "12c2dcac5af9430fb7ec132dc5ba4fa3",
            "7f8ae3b5f23f43609a499e3842021e79",
            "9874f9c9ffca4e49899980dc0dc36495",
            "2d4117407e1a43e8a39df4e897dcbd3e",
            "36a82597f48845369506a11b1855e18a",
            "fe3c4efe77a84779ac51938749a9e54c",
            "51b8bcd333564af2832dff097227c6c6",
            "7329fc10011f46539d9c6c9c32aee73b",
            "552f717df60c488897369e7672f8a0cb",
            "6cc261bbd647420ead8046f65b31687a",
            "627ada311c644358ab8a54132e6dbad0",
            "07744b2abf55415696aa737742327665",
            "1297e48480964a2abf7491f909761771",
            "21b28a6116ec45f6b3c2b8771041fe78",
            "87169a5367e4431f8d0e0abf4e4313cb",
            "c1e3b22f85014dfcb7ba57133367e40d",
            "4278b98c066c42aaa388bf09d34b375e",
            "78200afc1f7b4ebebcb16092566ab278",
            "83eb798a3fdb42fdbe18c543762ea2da",
            "bd3a0768bc9b4b039deb3e464892f16c",
            "6e80c9748beb4729a8e6e528baef9636",
            "c2caeec6d3bc480aa8a5d080c136c8e1",
            "03f84670bb1f437bbe6f3fb7a689f40e",
            "59e8e2361a7e40619e8045d3a870182a",
            "f820458e2a1544b08a6c8c74fcabeb92",
            "a7018a6dae9b4fb0aec98307178bd199",
            "c84ea452b53e41c8973c0192dfae8c52",
            "3d54b64707ad4dd8845bc11df6ae566a",
            "4ebebf9a37c04ee9a382eb3cb392a3c3",
            "e2039694445b4a3aa6f23b5b5db3c768",
            "db947c6c69c348eabdb8e5209d223e6e",
            "b500b28307fc4176b1bab3d9628c0041",
            "989aa862e92947eb85bbc7d68cd74b0f",
            "f2d3a527a6c54723ba063249e4aaa385",
            "9f9756fbe9c44da3b6117b01e736e97b",
            "3411b98951bd4984a7fbb13f1eb2fafb",
            "3c76646e28e74e73bdc6e003e2f617c9",
            "568d41174ab54bb1bc3fa7a8544d78e9",
            "d1d2c00adaeb4f579ce5d230b57cfed5",
            "85a647d4c1044932999fbdfd996b001f",
            "e15cb56dc61343e8b5d5c8af032acbde",
            "afadc816749a474a83c6464c9fbb9878",
            "137aa800d0844da187dd4e3facd68f5c",
            "de6866e1b9b94e87a67ead6345da0cb4",
            "ecc048742d334d2f902cd884a93e1550",
            "59040f1d2b844bb88334fa52dc8ad688",
            "ee3d42ac05e745c0b334f64bcbf11319",
            "ee6947e7dfea4fcfbca96a759844b632",
            "39fc8ddc81e745f982426c98241cdc54",
            "da6d54dd4ae04052b8a1ed75dbdd93e7",
            "f425f4dc157e426eacd8a478d2335582",
            "14b9b2587dc04b1ea859efc715776b9a",
            "3ed340d809c846cfb315a5244b5aa85d",
            "5b8a43b64a5f4c6ab78a396bc30f247e",
            "047d7f22c93345fa9bbbc9ea07ff285b",
            "539022faaa444b3c835bb4c330013c34",
            "9fe3a697bcfa4eec908e97d91033263b",
            "9ecd397ad6d3424eb3a9a0a18202d135",
            "de6bab8de96c4ff1969087d9c2bff94b",
            "76488e9fe585436a9b787e96d60b57d3",
            "755f84130cb7447aa3d79f49f4167f0f",
            "5e162a7e6e6f47aaa1505da7cae540b0",
            "25611947aa5c4abbb2f457493608b4ea",
            "b313c103a00c4fecaaaf61942a6899c3",
            "a41198e9956c4664be00c8d7127f532e",
            "6ca41bb7d5f94642ba4ea456e65feaed",
            "31b61a5bf42b4cc8a987e059834df44d",
            "16a7625c44114ae2b44ab772d2e213d0",
            "a689d7f3757f482087702eb6e2bb0d05",
            "fbbb886e2cd047abae9e5fe45d5b05d3",
            "73a743817e3f4e9d87b5d2476fc15d27",
            "127f1393acd145c79d1ac1b99064759d",
            "c80abf1ace9e498aa7927c6c9d117e46",
            "3b69a0c378f344b59bafea2a83099832",
            "bff60a75aeac409ba625076f6073c4d2",
            "746c3785f47a478b9a8e69fefe2d34ea",
            "0eca021462b74aef8fed3a9331216b34",
            "a8d5b012d8604c61b11b1d5f9ea47cd0",
            "773bef81105a415694dd2cf2570d0e27",
            "4a542840076943749b80a2f5b63347e4",
            "9830018b235a40f7b5debebb051778a4",
            "e8b428e93d8b4634bea0e2024ae83185",
            "a4d99217e39f4b85b5714ece7e93c573",
            "6eccdadc3eba47e2b021689b11b2d565",
            "3f7cc89bfeb54b7bb26eef9294e64693",
            "ec99f9008bdf4504aa2687e32bdd37d2",
            "0d07f34439274f45a945eddedb6b5e9b",
            "e5bcb28eb912461fa2c3c95fc448d164",
            "bf81b7d172544894801f0e2b324163db",
            "26fe9782b35c4e4e890a141f61179a03",
            "670e5cff60164b8a857a8a9c2f1c93fe",
            "c684c42c6f544de49c1c90121f98cb60",
            "d1ea7a070fbb43ec9a2c889401cb5905",
            "96e7d30ef1824b55aa73e6e42b5f6434",
            "53e4208d2bad426f9d2b279000e0cfd0",
            "c25282763a194d7294c81317e68796ca",
            "4022ab961ae34b3eac420a36d68584fb",
            "7c75ef41da324ef08938087672a25cfc",
            "3e60cd3f87734b7891903d7f44ba7875",
            "3f3afdd4c48f49b897bc0d29001511c0",
            "dc47ab275d8043f59977ef6fd1237ea2",
            "4b2e42aaa95040c0a92d5c9785449ab2",
            "64d29aff95be4313ba94444c20133cc5",
            "af33cd652cf7444593d6d671a24a81b5",
            "fdbb4687718e483698f318a1b86f5678",
            "b4f2c6a0d2d4442586954809f0b8e600",
            "55a7b11f760f4bbdb0ec4291ee70f5c2",
            "8ffefa4929774934b9de9d87ac844388",
            "e448f29f411a430cb1adad29575420db",
            "19e0544e29ac453bb3e3410a7eb72835",
            "e3942dee2dec4e83a8a0b309c69b5106",
            "e7a7a3990ab745e9a6c1aa21056daeff",
            "78cc0b6487164caab0cd24d01ac97f5e",
            "4c244d39369447f2b84f47f99085b08c",
            "4ee1974524a549f4862021a35522f834",
            "e0fd0d3f005b4af5a4e33b09d7d74a93",
            "72040b14ce2f45878afee951d589ccbd",
            "bfd44512003a4d6fbb49a51a31e27992",
            "61af97ca13044420826c026424d6b064",
            "63cc3230d3d1403c943145c25cab4e4b",
            "7ec4517195ea429ab91866807e2b28e7",
            "a3394390bd1240688f7c152808bceecc",
            "147e19c55b2f406a921abbdceae2ec96",
            "02859bdc7a964425b2f86f732f97740a",
            "e61e4cd7fc4f4d3e8ee3648fdd1c7935",
            "731bf71015ae4acdb4b460c597b4720c",
            "9baff30e0cb443f7a99b24bf2841a69f",
            "ba4c942f6b0e42f7836cafc12257c126",
            "c6823fd813d44848abfcd09e96f3353b",
            "552a85dd3ad9483988a8cc55bb6c4760",
            "a108cfa320a64fedbe9da488567ba00d",
            "460f642077c34782a69eb7129977f198",
            "f235607ac20f4c30b3fdd8124f579839",
            "9bbc99a8e3a944eb9723b4746be27e4f",
            "4b95315e81794cb18c28985fbc47a75f",
            "9ea8e6a8fafb4bf3bec0cac12f186134",
            "9531b811f59c4ae18e17f3efc4b373ee",
            "560d714c9ca542308522b75d2f08551f",
            "8a2b800fbf1c460fb31b2c104035d183",
            "6a11be0b31f542c3940bcc896bcccbad",
            "57eb3d4951134cdc8409668dedbcf938",
            "0a0279d4a4dc4863bfd8a5e24caa1975",
            "cbfface21ff641a09d0d5439d206cba3",
            "580f0ceb746d4ae7ab556fcc40bdc60a",
            "e8dcae2c5af647d2b91a4c5efadb9a44",
            "c384e13bd9a14c66a7e1a1d56819548e",
            "09083c0fb24847159231721bc2e39a5f",
            "6a959c0129634289bf6a325e8ae115a4",
            "21915f62b80f495f87679896ea9d85e7",
            "ef02415d478f476ba52ecc67c9c52039",
            "2b4d7ce949ce4c22a36821a581b84390",
            "65abf4a8c3fe421394d9a87f58be13f1",
            "b0c9008c1a644fdca480ea743f1e9f83",
            "ec65cde0f28c4c8f8aa114fac3191943",
            "e2dab64a2f6543f7b23607ece33050c3",
            "31beb0f1ecc74f5b925a845bd496b66a",
            "0458b002ce0e4bc4a576f122e35f55c1",
            "8ecd9084560e497488f05b035ccdfd71",
            "35d37a52f97e4814ada2e40079c7f35f",
            "94fa75588c4b417f86a5babc08cbf3f9",
            "48b53087178c463b9ab1fe086e9f0b47",
            "dd70b8b255ea4c91b4e20427a49f124e",
            "76e1876ce51b44139c941aba9c8a931f",
            "f8a9a45d726349bfb06d93993ce86122",
            "a12e035a4f9247439d8e4ee3609ee6c9",
            "31cee330f63a4f01a10eb3d1fcb7febd",
            "9bf5c2cee8db4de5bddbdb5d86b3d401",
            "41c1e7135cd54b6889c08e8295d459ab",
            "ae3465659ed846d89df4f223ecd36b5a",
            "d7673b826ec1457db2cbc5753c60bb28",
            "df9a420a1364484792be1f670b602173",
            "6f45f4431d21435ba68c95af9c371954",
            "28c5a9b9647247eaa868302abd9211d8",
            "4d1d2b7c1f1141b7b0ac0a4c8f95c777",
            "78fc6d4d2c784d9284b6c582a51c2ac4",
            "0366398731ec4765b3b908098f7e600b",
            "879b09ae38ed4ed0aac666c5779bc6d3",
            "71617e0fb44146d48ed8e35c2e0e09a4",
            "3101911dcc9c466195ddb9d1d6bb530f",
            "c63d79f8cc414bf390c66f64a2730036",
            "60768d7f987042b8a47589faf794fd46",
            "fed2f372be5746fdadecb2fe1a478677",
            "c51ec7bdbf2142d3ad023ba7a2a60f01",
            "b7941bb3a33449ad9fee922b3e712da9",
            "f7ca374f21564eff8a6e53202e00662f",
            "e495180932bf4cdebd070c6ad71b9c1a",
            "e06d3ece819245689a9d39e22a935ed2",
            "ba89210c1d5940cdb0b536148195aa30",
            "1ce2e815868846a481bd08bc35ba60db",
            "ea46783b484b4e7ab6bc1b7c0f3cf0ee",
            "864d71933be143aa88b348e6e7110291",
            "74c4dab20db54f3dbd0df0cfb1147742",
            "52d5a18d965f457cbee96dd1591231f3",
            "55390a58f7f64d55b138b034ad782226",
            "64038250d85044cd98c1458e093a2f88",
            "c9a827fca2464ccf8985b8ca745c0c88",
            "eaeb3347572d45538f26a283d1f9e2d1",
            "30d35784e5b247198e179e4d86e427c4",
            "22ea4712ed5a4d96bbfb76fc8ff0de50",
            "f50989550c43448398254008190f83da",
            "493bbb743bc340acb497281081ac7b82",
            "41ab16c15bf545a982bad12bae965683",
            "80cccbdbcad44180a6cd77e87dd0f7fc",
            "169dcc289ace40998492dff0e8d595f8",
            "5e5dcaf260dc43ad8c6295a9597b6ebc",
            "d947eb3d56d84a4ebb63c8d761a8b9ca",
            "731296d18497432f88966c41ed8e9f71",
            "29a16d1018ff4d6b8f8c10320f1bed8f",
            "c66706f9234c47bba161c56891eaaa05",
            "a38cb7b94c5345228466be4c15c4b864",
            "2214df678d9642ef814850fbc83a713c",
            "65aaf09792c9405eaff1aa3be528da0a",
            "7f79da716c7b47d18756163b43bcb5b3",
            "b375014fc8184060837b9c550f3807e5",
            "d565e1c2bfb14ab5b65b651ffe432aac",
            "b8dab39c732447cd877904244153c549",
            "bd17f2dacfc249a595c6d6d859c90cc1",
            "9cba8f5c32de4c7e8c5d2d1a22a6f588",
            "185d944d4a3c41d784d6d11ea5b8c396",
            "12d4284900404026a54038ab18d8c8ef",
            "fc46d024baef45dc8eb4b879be5e0cbe",
            "08a4ea9b5ab6468a8112d12c282066f9",
            "23161907c88d44fcba97236d67d74f44",
            "13c3c1691b4445e192ecf1f82d436a67",
            "a3eb9502be034958802bf3d4c73e05f0",
            "31bd727b3f554207a3b12c76cabdd1be",
            "dc82fb438c9141df9895cf266f9b4300",
            "198318c4fb14437bbc424471b7476098",
            "747bf9dc5d004d9a91347bade9f3cc20",
            "42430b0a50d74415a0550cbe7146ace3",
            "df43302ac23142e0ba8f3d862eb4ab20",
            "ecb1d4ef4fea46c2968f12dd571ca5a7",
            "6c2c8c098ca74d709a8337225c417cdb",
            "24c6cce3edbf4ca28c249eef45db0637",
            "f3b356fda8ba4a40ad5e66310f72ce6b",
            "c0135da9997443e6a4dce4602776fe55",
            "9c7da133f06045a3a74caf1fc924d2ab",
            "07b4d7734d0b4e37be79360c3991087b",
            "3023985ebd1a4ce5a0ce741c87aff0fb",
            "de41b422a00c4067acf3dc515fe65cea",
            "cb2496e9fef447a2a4994a36eccd91ab",
            "7595db979d874ead8b2084f13156cdd9",
            "396dbdca1537419b8f7a037f1cf2815b",
            "505d8d936b5b4b9495f281897f59952a",
            "09a57fce03314af790ed6c7a31673a08",
            "879215fc685b41e08f169f4529d4b807",
            "d3c1759776f4473b92ddd7e4a01bc81a",
            "e930bc6ded1a431d806ce2db7b693471",
            "52ac1a993a844e33baa9a7b0e0b3af83",
            "32428d8328734e4abf1aea8780538c93",
            "50bf9aaa686b430cb5bff7171b4359f3",
            "98d184602a1a4b538cb1cdfee24047ad",
            "6b687aeacddf4f8c8bc5c535b757daf0",
            "0765d1e3ad0c45c3a5fe1a55049a99fb",
            "79917201f1cd4db6a6c4ad04ba61932a",
            "c963b9956f9c430ab91efc3415be4ef0",
            "11d4fcfb3f764f3a88f4f6c8729f9d31",
            "eb1504d3235442b5956a90675b8201ad",
            "21a8a25872b743ae993676de4306ffd9",
            "c0fd19a8c68444fdba723b2e6efb3eaf",
            "19407b02e9df40ee80e37b09f1529179",
            "fc8ea90c24f44d078d1738ee0f94d793",
            "f8d59a1f784a4b37ae8be255b0da9757",
            "ecf834a760964b8d8e0598dccc097fe8",
            "eb7e1f68faf2452bb2f5e7925f613544",
            "bed5083777d848a0b99bf42369d305c4",
            "af9910d6fb5e4ea39d58f514e22601c7",
            "e953d2acfe444451a59b0ed91f6b060f",
            "1d1bb6d4472448679589a28ef5396967",
            "816b4888ac1541299df8cbc93fc20550",
            "9fc79cacce7d4d60ab1be720f34f96a6",
            "c06a2258c7fa4a00a7bf077137bd1fdd",
            "79f8c06551c64583becffea3cd90e412",
            "469c958160e2467ca6271236a64dc4fa",
            "783f4629e2424aa299ea0bd20628e135",
            "44cf7d5c5a0841ec9f980da026ddf601",
            "ca62adedc3834baa88c1787a8829bde7",
            "47b896a517a646f790e15f714c8d4d43",
            "566b7a7490fe4b1a836174dc9bcbe4bf",
            "d46de170b94a46b19269917703bf0438",
            "f322d1e3cf6d4683981f8e3d0793fd3e",
            "8fd4b38f06c04eab86ca6b29f1670261",
            "95161a3c67dc4e8296472eca9429b358",
            "251d649a94c84ce7b587c9f0c0f09da2",
            "bf52368a2cd24631a4a6b66c6324a560",
            "ff5473aad770404889d42583d95dc792",
            "1795c152403e4a1995ca203b0ed0a15f",
            "b43f2553bfc64f1884c76ee80303c585",
            "bb99220c46e447bea385be00f99b6702",
            "b4b12392541e467286044fd7cffeb0b6",
            "2b3899e4907d4dd5a40da85766ec59bf",
            "93a2ae04958e4869b92643ffdce178f1",
            "192053b9ad9c44e5bf26245109800663",
            "72bad1c4f2794d8b9c51bd363fd2ac25",
            "1628bc74350442aa9b7132dc8a47cb67",
            "9bfa364569bb4cf79eb0bf936fb5e412",
            "2550325fe77346e6ac537cfbd1fc61b4",
            "4c490b0b3055437f8b07c04e4ee7c1f5",
            "9f7e3d5e1c534d2eb40df71800eac0f7",
            "45146b55dbf14a1e837dbb51344c1618",
            "ea0a37aa47fc4dd19c8d08d6001dbead",
            "b754e8db7f7143ac93787f624b39d6b6",
            "03c2903e965642a18dda29ad0899c0ff",
            "595b8f031dca4e018f8231021497a752",
            "51ab0fa131904f30be48e15ee4d7e25a",
            "97b70435fbac43d49096ddc40d9b2d58",
            "29cf4a6c0be84b018dd8ba582d84e8e8",
            "8ecb150be04c4e96afe8a262dbfa856b",
            "d9c4c3b3f6394b019a1fa09b3df3ca1f",
            "b2f6ecb1e6fb41849f70de32563e10c6",
            "8746fafe37c24d74a997b9c4d36bfba8",
            "95a1314d9f3d4eb8b1d17f18dc82e066",
            "0a22a323a26c47fcbafecc32e120fffc",
            "a87dec835c204372b6e9f4f540749e0b",
            "951b5d9496fa48e69686a17bef13e2c0",
            "2b8127a478094e9b91aa593bf6e3e8d4",
            "d6e643dd163a4fdea06874d0070cc269",
            "5a4286cc59374414a886b4c298b9a84f",
            "150423dd5a864949b14854843659db32",
            "c70773f7d1ec4cafa2faac7fda785e32",
            "12750a0ad41b4355a1f36675074d8e53",
            "97c92687d64e4216a47eec897c401e48",
            "c47695f616ee4314942f6b7632c89d03",
            "d76f09a870ec4afb8acf55acb1fc4131",
            "521fb099e6814ab78f4843ef7124fb9d",
            "8d4dc90e9c5044d2b90b1567cd3c80b2",
            "c83f1ea175884e5ca816f9a21edbff28",
            "63d62e612e114de7aeb3a9758a63eed1",
            "016bbc322bfe473db8b62c071a847b2c",
            "04e831ec9625449ba790179dbc103b77",
            "ca37338c6a664804bb9967fbd5b2d876",
            "0ae27fd8c2924f7bb9c1abb2395d7fbc",
            "d2de1309531a42ca96cbcf668f6096b5",
            "bd44823411a5463dad4aab8256e42521",
            "05dd60a45a094c8d8344fbf4c4a5b612",
            "faf432618dc14797ac2fa5719e09f6ed",
            "ce3caf0023c4426f9c907c363305a2df",
            "33e61c51513944b4b44e7c306e7dd234",
            "e8f4c0f5a471459f819eac0da162ae1b",
            "e201743b522941079aaf3e403866aac6",
            "ee53d2f0b23249728eca3f5aab761d31",
            "1d787c7f07204908aba4aa625ecfcb37",
            "9d7eecf516f64386a524e97d8b8eb331",
            "1af2588e5c0341888049614ec000a040",
            "b0ecf95ddeba4bc4b67f20b45b8a8411",
            "264df24ef67244419cbfd475dc6aa83c",
            "e8a538d29c524a0a874b53af5d99a92c",
            "1b01fd3d1c2b413e976151f5d446c599",
            "d66cbc6cc982474584f0561e87699f0f",
            "9700ae0107e64249bf8cc10998108606",
            "2ef50b28f12542a48db5a1b516afb763",
            "a86379eaf2294a7a98e167d9ea4b6209",
            "cbf78b567db64dc2912b4494827b17c1",
            "45248099a1df4967ad3382107e75b9fd",
            "9ce96391e71d4805b4a2bdaae47419b4",
            "dac53fee5fc74f4dadd8ed2e3e0678a9",
            "31153f2964ef466784dc63e6a6217fdc",
            "b1ed2b3852d7411dbeac30322f3da88b",
            "55525321acfa4b7ebb18a651bc0e2fce",
            "64e45fc2fb864c01800e11f9e8ec5f67",
            "44862232238845988faf00a8156aff40",
            "2dea05ebbed04833b025d78936cd1a44",
            "fec3f16445124945b7bc8e4aedbb33d1",
            "6528246f28934d3b9a2401d87674228b",
            "ddcea2132451475e8273f57bf1b4b647",
            "8790298f622f490ab20e103565fe0e41",
            "5f9d282ff6fd401cb3daf07d4b7d4617",
            "7cfbb051e3d5464d9512da9f02f38b8d",
            "765d54e2a60745b3aef6dd1987f1c606",
            "9012851264154ccfbbc5723fbc34a04a",
            "857f49cb17a841ec81d91e2cc89b1ee2",
            "bb1e4f8b3ad948ff9f87f3139aa6f79d",
            "b284910f0c454670afb470afa86325a0",
            "0eb9a527f51c4176abaedc529c7fcf63",
            "7d9ade4817df441c9d0a024b8081dc7e",
            "1cda1de262394183ad18631f329c57e5",
            "294cbc8eedc8458ea1d95adbb4a71fe8",
            "07ad84f878164333b28979dbaab0bb6f",
            "04a466fbf2e04614b2adcc501212b10d",
            "5b50b55a676148d7814b6dffab624724",
            "5c8044872ab34f58808956699274023b",
            "5155eb4a98874ee296e9a236eaae9150",
            "895e36c5f53448ba920dbf363ebd9819",
            "429bf328c8514604ac57cfb0085eabab",
            "31ae2ffea6ca4dbebf48ff44a9d096db",
            "f0ee0146226e4d67879b1efc72f3db3f",
            "911af91d6bb14ea088af43564b91bffc",
            "a83c3ad2ba76444d93f586298c8e2d70",
            "73842bc8dd534e09b7a3666ac3ccceb5",
            "62ebabc79ceb4e9eba2819cef242a7cd",
            "8bad3f48fc544037836ce221f4be3f18",
            "82daca91f3804fad87b001d486ea2db8",
            "18c13cf1027c40ba9b8c1b1ea1ec82d2",
            "abaf28c8abfd49f6b9b9a9541cfab064",
            "400ebd58210e43d1aaa1066cac5494bd",
            "4e1665b8c5dc4c1ebbaf87496be17543",
            "505ea8de7caa48ce8671cbbca892ff8e",
            "c9e269dab0b24bc284c566e327e90801",
            "3656e40737f941e38664c1ae873beb85",
            "7727fb2b1bbd4d9b9cb032a7ba2526cb",
            "9318eb22baab40d894c231fdf48838a9",
            "81213342a9f24b4b8f16e240b6f8d377",
            "ce981b1a34cb4ee7afdff6c30faf0eea",
            "fa0a02ceda5e44de9fbdb2ef0af79626",
            "9f1894356e8b4670b5dca92d48715a57",
            "ebabe1d538554c77a80bffccfd96b757",
            "2cb1805c05e7444abc7c0f247126788f",
            "bcdbbb1966b04e4a878b23efc5f6a437",
            "ebfd813795384d49816526eae152a48e",
            "8c95a54301344bccbc457b8d3470f43d",
            "5bda4267ac3b461cb181702bdc7a97a3",
            "270bb40fc9ba49a38df98ea1090a38af",
            "c68fc8ee4bd841279eda1b5c19ac5c20",
            "a6c6cb5c741a4962aa39e85a6701123f",
            "eacd456c66d8489787058ea0de65f8c5",
            "2142bc1122954b93898c93267f4513d9",
            "c85a52100261403b9dde5f0c943d64e1",
            "0192ed1825164c51b6f1e590418744cd",
            "ea10be36e27e47ec8a91856377f59dfb",
            "12efbfde988e465ba772fdcf870c6afe",
            "300ca2140dd4430987160d30b1b99c5d",
            "086e3ed507214326bd66cd6aed4bb9c8",
            "53b1595379fa4f769e566e860188dc04",
            "2843a642a6784f3ea52ad7a941d34a09",
            "eb620dc694f649e18001190ba236ad31",
            "d3c957a11e0649b3b83b94018628deee",
            "1f7297e18017458c9b5ae4957f2a387b",
            "76396302a3f7473dbb8372c239d09b37",
            "8a77aa3a42134d209040b74755d0921e",
            "2d48df14142943469d43dee63056752d",
            "ad88aed4881d411bb5e870b282e75786",
            "e243c58f48994a70a193a8dfbd8b1078",
            "576c6aa49101416a92d8c1804b15b698",
            "cbde4a38b9f340d688b3a86a6570780c",
            "2fdcb29c9b9341eaa5e796e63c1d11ab",
            "590b38e0ba3545879e4741ef3eeba2eb",
            "74dced2ec87e407887964f8058f48ec0",
            "4d99b8ae0f46444382421fe77d77c3e2",
            "ed439f0912e9415cb68101aa4f84855c",
            "1e170a7017f04f4abbc39566a1f1b8d0",
            "ccda6676ab7c4e8a902ba950fef5f857",
            "7617d893aed14e119379e6250fe61595",
            "15c618c6331d4485b2e38acb46360b67",
            "c491562f339b40e8bef9af9050c57db6",
            "ccbc1e2fa2f24b1a915e6fb157a0c70e",
            "0da59d6862e445b1a157f20198078acb",
            "e2c2f8bcb0a0425eb9966adb4e279078",
            "589d6865b01042149b230933bbbc435c",
            "3b590e2d893b4386a8148823413f1f5a",
            "e290e602342d47c88b4d4bc4ecb44107",
            "d53ee2e7279d4f138609cf2eb9826073",
            "cb977d34398b48979d5101a2fe35d5cf",
            "b13e05c8222a437586f7bba28bdf5d27",
            "26b5929c6d2b4dceabb1eb8583199015",
            "5f7b60f37f554cb1a0375f552c577ac1",
            "df7cf9e8c1df48279ae21de8ba13a75f",
            "994bdefb590f4070b2b84af93d488982",
            "e15e6cbb0d7f4f3593399a88ae73fd2d",
            "2c92b0ffe18747d28db183beeb556fb4",
            "2698ed017a1b47ee86b9c5d216f4cd04",
            "5ebcfee3d61342ccbfa7d8c4fbdeb502",
            "319dda8108c644e6bdb6460d5484df58",
            "9f87489828574660940c2485583a646f",
            "1357a990d73a4234857b7274e20f1fb6",
            "87b3a32c50ab467abf9fc655065a5112",
            "af6b5f3bd1864898985c3f9d7003eaef",
            "ebaea2115da4404c8c6f4956517d6b45",
            "b1cec8b8682f4650aab2122c923ed080",
            "ad1bc28dc9e846aa96d4792fc4745af0",
            "36a2753fcfda468fabd98b20e3587a2f",
            "98b10b05ca4e480c922c882ee33eb396",
            "adf9dff6c3e1452e8e5446b284b2530e",
            "757ec40bbb9f459686c688f7a79f1f70",
            "106f08d1ca2e4f5db704c2f8e626b0fd",
            "2e1b18baed824a44a1d9696eed37a0cb",
            "8380f44bc09045389a48a8189801576a",
            "86f606a0e2ce45fda7d768c540f349a6",
            "8a4a39f62aa94a3a9dda755ddd88d099",
            "0d9d19b7f7c047f2b910c2baa551956e",
            "7d303a24ac78408088487cd048435a00",
            "470f787bef8f4cbc94b84b2c030c36e1",
            "59cbc870e0064dc792788349bb91a1f9",
            "aae88238b35349779db666be3d1e0d22",
            "ca032239ffa64b048f73b21cb1f4aedc",
            "7b649e99e52048fa8e606d74922c6abc",
            "b2bc93277353484c9e6c48065b922c6d",
            "3805be3eceb446d18ea4a43e197af7d4",
            "9b5d8e99d7da4f83bed7105290c10fbf",
            "e81ea29ca3e74b729003e4a000ec0dac",
            "4f0eabb079e44969bafba3a5236bd044",
            "3f142380e8754a178b647d2760607e6d",
            "8b987fa1e5f44e498265e51163888043",
            "12e1c758b7c04291892aef8fddcf474e",
            "4796ed913efa40d0a2e15cc4dbfd35d8",
            "31ca6e8681b142eaae16b584e9b4ad70",
            "ef6aa097b9624282a2ac38c1f5b77396",
            "201720ce62014acd94c71dc55bf63e5e",
            "9994671feb3e4969a51a9442c9848091",
            "1854972751dd4333aebeab927aa38a3f",
            "d4585b2856ab485ca9485254a2eb29a5",
            "663e5cbeee5f48f2897aded4cac1a7e4",
            "04143b266c444686b5eadd4a9253510d",
            "d9f86164a0514c56920a8b1fa0aadfd3",
            "1b17bd681ca24fd39204c264ce1726bf",
            "9c9c9e7f338e4e6bb17656d48b5a67e9",
            "75aec7ccd3c54a86b355f09a2769c40f",
            "84b70e3815574fa6b94e1c6ddae4de03",
            "02aa3c8d86f740b0ac74f95af5bda37c",
            "9747d665726640b5be421f238edaa850",
            "df4b0fced8c641f8a4a4e23b94f6ff3b",
            "553f43a424714f12926ada92f065be25",
            "87e25b77bbcd4f8fac80fa14da0aeca1",
            "39ba4f70a26d42aca745d881e08a3ab5",
            "d32514cf0984462483967c9645571c13",
            "230d891ff7df41feb401441b2fb97a10",
            "ae89b86f72a74fb8b4a40f37e84338ee",
            "741b13a05bca4d1a9eeca8699ed00a8a",
            "e21f62f75b2c41ef920dc0fe8e39e827",
            "953f29af14c64dac9676846ebf9d7f9f",
            "959a040fb89a42c1b09866d076ff8577",
            "deac8cd1523845a986eb25c30323d733",
            "15c7f4fc660d418e847fca6c5f158f43",
            "bda6f3b97d974da49b8715f2026f8cd3",
            "7d7bc30aed014e36adf270f8d00ba647",
            "5eb9eb50e6414ce38fd2d22cbb4e7299",
            "3e8c3e11cb1c48708b2b5af7fb5a8b32",
            "383494488cd34e778380a919ce21e923",
            "75942ffc149847878b6d73f7ca0edbb5",
            "ab0b604b5d3649dda3100be86a8a5dd9",
            "cc4c71e9144744dba14294f133e442e9",
            "deddabc2f42f4a299b954d119d9d069c",
            "3482241e9ba443f69d75120ea6469550",
            "42d50476b855419c8747ee73979b4863",
            "fa07023f103a4fc2b49aeec346199440",
            "017da0d41c4846c89a02618a1dac1607",
            "4b1ad5125a8b43259f1af9ae63dcca46",
            "4d8fedfbb4264044a9b2cb65a11e9c5b",
            "9aa0ccd704714211b3a38764f9b4e7a6",
            "06e58e769cc34422ab19e27d9789e798",
            "1df402abd3b64d598e4aa8801bcb0901",
            "2a293710c64648ababde388305f86ce1",
            "bcbd04d1131b4b4e9a992e7fb615a71c",
            "ccc10a4fe05948ff982428ac9e032cc3",
            "46f8a76332cf4d459725f8ad47a9113e",
            "788251d3aec744b2867646303e4224db",
            "7beb0ed183de475db78cd62737829f7c",
            "9ddc1ceeda1c40dcb1a2ad44075c4c93",
            "0f3c38c3cf5e41c18484b759bf8a73ca",
            "b899370837e14975817264afcf5b7f61",
            "dc204b30e1a2427683395a0673f45dac",
            "79e8ea44d0ee453a972a72d204ffce2d",
            "c86ce1a91fab4f60b6b244625a597b06",
            "3eefe4cdcfb7427dbeab0394cc7229e2",
            "001ebee465234a269a987520a5d73ef8",
            "7556fcf01c8b4141a8cbe3931d54b0ce",
            "23b2667a510349a98b6772dad8b8eb6e",
            "b26570ff8bc244f3964a2dbc9d1d99b7",
            "6974f5d651a24b7d940925082b471e86",
            "8d1ee295de524e9590d5b8a747c25e0f",
            "ccee4ebdd44343e7b1abe8ed441046bb",
            "ac0b5aa86d7343d8ba301cc465695e46",
            "e405608b16f546c18e9335aa9e633235",
            "2a241d458bfa4f0881c3bf1889017061",
            "fbd7770a1e244bc89616b738aaf29657",
            "8cf8820e392747d1bbb057c6e8885591",
            "e57f0fd675344773a464cd691467cab4",
            "22dee397f76e47a286f04c4e501423c7",
            "c4ea572170b04a178d463434a219f4ea",
            "f0411ad5abc54ef385e8be913e7a3f60",
            "01b913b62f654ed4a658bb05d36fa01e",
            "812b8385f69d49ce9f22e3699e8dc8b2",
            "e41543ab59984e0ba6b645e7a168a216",
            "0ac595a0e9b140d2b0bc4ad7955af9db",
            "9d9d14907a894c2781b0047d819c2a15",
            "14dde75b3a6b40dc95c867bc0792fd18",
            "6b89a2b6218944a2a067698fefe56186",
            "9a402906c73a48f3817db0bb60212e78",
            "10b1838581ac4d9c8e7a6fca50bbd48e",
            "b752afefee464b629347d08095ecb5d8",
            "0bb56c902515470585ee7ad6730a7c78",
            "11e8d7730a35415884500c8b0f177894",
            "b09ede581f894c938e02fa94b6507ced",
            "c607ee468cd34248ab117cb74d490981",
            "c738c0b8789b4cde921544634d11f8b2",
            "4775fd609c1d4cb4b69fe839abe92bd8",
            "daa635a899664efb85dfa3974204d10f",
            "24a00bab66d34bd58c64877cae9b9c4f",
            "735194019657492086f12345597576af",
            "504fd168ec7a4b38984d572160958267",
            "c7d831ced1bc474598f841a586c8e8f0",
            "dbdf4050357948ab90c952763b69988a",
            "514190b4b0a74c83a67e1c32ad7dc1f8",
            "74ed8ce2b07a4c649f03879902d8fcda",
            "8ccfca2dddd64ee8a069395e5cbf6132",
            "1be2aaf95e474de991213f852d93f99e",
            "bcd0110a892449658336de603761ccb0",
            "e74bdc7a60704a39ab821be92976c890",
            "025577e7313747dc989617790dc65079",
            "ae548b5fb8dd4bfd92ff99804a5b6f25",
            "a627f19a31654105bbc4902e0d3a0aef",
            "6d9908609bd84c90a76e077d934fff4b",
            "d419375c506b4377b693fd4a098d7aa6",
            "d7f3d508782542ffa6c4fe7fbe415fe2",
            "2cda918e1b41431faa881ad538a14d9f",
            "f5f2e7f42fb347458396c617f786091a",
            "6564224ebb8c4f3a9fa83e9829f175cb",
            "60ae9db5239e4dfcaa24c8bbe5b699b0",
            "51ae0c545e094023ae935d8a94922cbc",
            "8ac324215b814ff1aa3a4576bdb521c0",
            "8daba33239f74014b2d07246a5baca8b",
            "75b3bdbe9ad6491a9dc845edeaaeaa67",
            "8c2377e7bcb342e48ecb0d291dba3b26",
            "674288e45e474412953d00ebce5e6e4a",
            "dfd502557b384dcb8d39d726fac0c16f",
            "c590df46890349bf8848cdc2a5a783b3",
            "aaf0df88945f4711bc0ea948e5a3ad7a",
            "7856c6db4a9d4a5092d3928ec1869b9d",
            "51e03a03b8934572ab46457f996d5271",
            "c3f0e5f918cd4029af2ddc1929dd2548",
            "a05852a9480a4696a46fe13fb593a450",
            "6c532140bdc94dbdbc1a6ce7569ae763",
            "fbc03a68e50a479dbf3c36e68c52688a",
            "439911d54df84802affde3dfabee95e5",
            "1f1c5b299fd348eb9cb354bc5ca68bcf",
            "488b23b8c4e5453080938b328e10d458",
            "edf784993a3c4889b4ee3d8dbdb725d3",
            "7ee3ab8b7bdb46a0a4ad45b023d0ff91",
            "382d831ca86946acbc70528c93e81afd",
            "30b5b45d99ca47cc8e78295d198a0984",
            "a198e9473afc441084a1812cf6ae0083",
            "eea98be0f71c431ca2c99b8facb36e0d",
            "d26e4936b8a747b9afb21f08d7a3a9f4",
            "3076f16c28084d00af4fa3593432ca17",
            "196be9ffdf4643c492dfd66c3ebf4565",
            "dd5088e378c14602bc73e47ce825975d",
            "16195439ebdd4b939ec51863daccefd9",
            "0777354376a34aca94659505a20e0566",
            "addb887ee29147768623954ad002d034",
            "2b5434c5facf45f9be1fbafdbabd0db6",
            "563b5b21884c4e00aeb502830f231b87",
            "5f51396345414bc68f4d358bd2e57e12",
            "8ce7a24e635747198a384277fb937073",
            "6b1f6d2369d04828aa21f81051d45c30",
            "ec446db2ebb44a77af0ce3679d87a3dd",
            "68ace25d1f5e494297d8c3e473894989",
            "854ba99ad678445bab4db49a66ff3c1f",
            "cb9154bd499e483b80a1f45a7ea95d7d",
            "4766460fafb44af5a1c8ea5df8c7356d",
            "d094c09886054702b3295bd9e7806c36",
            "0d4566671eb84373920f2319aa33fd08",
            "4ccec498b024496e86ca88541e4ab511",
            "7c6e4ef32b9a40b39e536f733626906b",
            "d9a1329d45ca416f9bd5f0f5367e1edd",
            "f5510eb3679c498885356349a821db4d",
            "2f0a6752a78247a1bc761e2a7135a78c",
            "c5a65d4b63e74a65aaf7856dae707dd2",
            "541f943ac50e4fb69d41688cdf5ad7e5",
            "c1f97d43ec7246988fc788c416bbc0f6",
            "01c67e04d48e4ecfbb8490019e6a528a",
            "580984b7458e4827a45c23a75c7c4700",
            "8ce186da37364c2a8b0cff62d8f7cdab",
            "724cd9fdaf50454cb72d047784464b9d",
            "efaa4b349d3a47caa63cf434ed65fc6f",
            "b3fdee6e1e7b46a99d7ec139ae3bb710",
            "5760cc0f88ce412aa9299256b2fbe7a7",
            "3409c86f6c9d4a92a2ec76badf522b0b",
            "8321faa935d64521b1512b39817f3680",
            "bae38e0a06104b22895cb2e804ba20c9",
            "46300b7b112a48c0ac00e1d7cec85334",
            "263948a3cf9e4142ab90e8809d50bacd",
            "92b53c3b66c148d2ab65d57d59e86b87",
            "9fb601d88c434517a5bf31af27315aa1",
            "7be8bb26f4974954bbab36bbaa8e2c8e",
            "efc697dd570e4785a8bcbf57adf1ea45",
            "225406f033c54875ad86ae7ad31a2432",
            "5372c628c6e64087b29e10dc4bf89a6e",
            "25190cd7412840cc961659cb677244f3",
            "e41c1a09cfa84130aed74a71a29e8ac8",
            "a2081ac4136d477c951f3068eb62611f",
            "6e0a9b76d245449ba7a200caf1d73ae8",
            "c0103c1ea8b54b659912ba88e2690365",
            "0ca9c4b7201742e4ba978b6c7da7c61e",
            "89d0904e17db4a5f8ddb03201d481a2a",
            "2d3225c930924394a67bd5963102b4f6",
            "5daea9cc67d943019180cb194bcd2dad",
            "2dcd2dee8cc7404c85c764dd51fa289f",
            "a97facce310c48f887e9869ea6c5d035",
            "2f615fe20a9b4c0dbfdf0fbfdb32ab9f",
            "0267cd157d9d4fe4a1ed88e72775793a",
            "f890e5f9e7bf4366a9ad146bc2ae06a1",
            "16f908cceb5f4aca90b329f871828945",
            "bb295b2372ea4950b4392b8cdbc0cf0b",
            "f44208647ef040d989d5138a1f59f6a0",
            "5f5a4fb9154947548916755ae3bb51e2",
            "27c4b8efff1a43caa5f2b1a0a325b5f8",
            "aa24905530384fc59958abf280f9d2d0",
            "acca6406cd914035902b6d7a5c8b037e",
            "fe59e038dc5e4a4b8a1ca2952c411320",
            "1ef68518eb5146a4a3601bfbf7aba790",
            "143071132eaf46ecb35ca374894d5b4f",
            "761023ccf57041ce9e2a1d0395e993b2",
            "deeed23376cb4891a3c9f34fb5dcf4e2",
            "465d1920f32b48cab444b603f47c5302",
            "78f3fb95a8ea439cba5210f81005814b",
            "ab6c3cd0923b4985b89c4b33c801231a",
            "3acc3740f96a454eb2ac5603f1b0e2d2",
            "a55b2a8eb9c1439faa46a3fcf9d13165",
            "9a19665e49cc42ee9418fcef271ab983",
            "4817a9ac3f9642a1821298ec7e9b0431",
            "bc47ce3c8db041b9b02e0e3690a402f2",
            "66ed601021aa4607bfe64cf87bb3a482",
            "fbbd923fef7f49658a203a59eb05e15e",
            "9378fb6f4e9a4746b8f9e0cabc7ad07d",
            "0cacae71f99e4f29af72caad443044af",
            "12be13930d834572978dcb90b7f5d7ab",
            "5a7035890c5944dc8371bbd5df52919c",
            "928291f32c104f84925d93c8591c64c6",
            "e9b942120fa44b94a7d54e216673c849",
            "ce6e8d29984a427186b71fc1a627fcc0",
            "e068d4c687c3491dabd2764617b86cd9",
            "2f35dae364b2470f9432033d8ea1df96",
            "b0db745a58cb40dfad174505b51400c8",
            "539e0bbb34c44c54923e6d3e22b249a5",
            "588430adfc1b49adb43243af2b33cfaa",
            "6cf4a8cc0001428f81babaa7854c8d8b",
            "4a20c8227eba4041ab983e201136d5d4",
            "e08ab8c852d840388f08f013fc05a2d6",
            "86833eb479b840988d718e2b6cf938b5",
            "07ebc9b091f84ef68d80194cae5c3306",
            "de0d620b99184b79837154f2e66b2aa5",
            "3d2738239d484707844a1c73d881d00e",
            "f343f66f072d449cb5a9324af5938096",
            "2c203b2f32f84e1fa8b1e5276f80d435",
            "c572f53c7a814d30a33d26e395470b05",
            "554f86a3e9f9458eba8a002159643e79",
            "d3b19ea8b5814adaae6a40250014e08b",
            "2924181f3a004ca4b039f3f41129eb61",
            "53ac0a0721e44eb2b91e58ca60613161",
            "48ca5c4c903349fb98f97139d8193bea",
            "cc6b6f92a617411a999556048cc09a09",
            "b569852aa7cc4d5cb44fffc7bf306356",
            "ed9c626ca1fe46e2b5b52935f7e0dd3c",
            "36e8fee18c70470fab52c30cd0b760e1",
            "a3c5b22b506c48f4aced15414d387a93",
            "133c552240cf4eaa9176207c0f8da6a6",
            "3c4a688225e64cac8194b3f7d0f8ce9a",
            "09cd12a23bed4e2f845c96bd38c386a6",
            "f3be2338ff83455bbe20c5157a2186b8",
            "336b3a09ffab468588e5ed916d587890",
            "aa4b60c8420b403e979411df9e94bc41",
            "4c7027e21e0e4c80a8f74853d36adaa4",
            "a921c5b094104c9ea060a71193587cac",
            "2e75acf2ced048dc900257027f9078ae",
            "2f1098b3fc3f4f0d81a4c6a7a072d432",
            "6d74a3d09425400a9f2dd005bb119faa",
            "cee62f840c534b10a92522cbbf66d7b6",
            "90b6720e93b5425f8f627a69f9c56d41",
            "e0df957def33455e9b5b6ceabd9b6449",
            "abea0c9f02ec42768775e6e9fdaca224",
            "e5ff23b937b4423494af5ce1307154de",
            "7f3b9d3c457a4d50bac22b46471a5d19",
            "ea5ee7cb29fc4589a3fa0fb384f573cf",
            "e21c26007b6a42ad89b7bef2e2fd1031",
            "bddaa2c0a8384f8e9fefb350ed6fb98a",
            "dd834ed6ef4b4ab490706850f4a11d4a",
            "1e4dc9d3ddb34ebe9c7d1b1e131fbccc",
            "47cd0095c5f64ca081b0682998d16c91",
            "157ca5fb8b5d4fefab8c4d6d69adcdb9",
            "41f99fe4b0404074a8b9c8c9a106d084",
            "a72cb7d6d58c49d3961b4e1d1dc5dc9f",
            "8a5c312272b74362bf9c3e6430c9e86a",
            "c6ec016f1a4f45a28644631543b302b4",
            "a002f2bbc2ee4bb499da72763c68dd88",
            "db90e03184dc4c30ba2780f13ea66fa2",
            "7e3bd751be1b4862aa00c6dfcbc09a7d",
            "98891d4c4d534843b38c4f8f71f39228",
            "821a27c1acf1486fab382cce83c4e3ff",
            "ffbb09bf9e7e45718cb975ef7be6f2c8",
            "6331ca566fbe4248ba3b73f0ad1c6ebe",
            "7fd7c904032640d985a679c8ea4b1483",
            "bdfcaf3feaf6416ba877f6d82f267590",
            "0d67f42c39334fb6ba3adcf7537022ed",
            "e06092b9a6394bb18d4ba4688929c562",
            "147b4b13bde6415580a6e05d435278ce",
            "ea234f9fc6494f589755a1328a685155",
            "8784eec6a1854fddb9e0e1b3662446d9",
            "c091a7a751d74ced827dc97713bb6874",
            "c2c5803d57154484a7ba7558b95e3259",
            "f1f7e93e589b41ebadc5b7891a9e9331",
            "ea79203f9ec34b3e8563c624c310a81c",
            "fa706952c32c490383f1342a6ccbfbd9",
            "5f4a3d28b86d4cd4b57b6d52d1a6b6d5",
            "d77217fb6a2e450aab4e8ce7ebb3da57",
            "b38b6d2d9fb7446f8d3de7dcea3a094e",
            "17fde54daeff4dbe99fbe777a41591cf",
            "6800b6305fda44319a0a5df92f67f4d8",
            "77ab6d59d49d47789b9e7c9a3acb5d8a",
            "ff85f69dcf9642e2bd81e3638279be12",
            "e72bf95637c34256b294eb1c32bb5112",
            "17c24d0deed841da849b956cb8517648",
            "5c6cdd92433343f6ac68f503f31c7c7f",
            "9e3479645f034abbbf5175eee1175229",
            "ae82e7ee1aeb4812ac4a206b5b5accf9",
            "71510effffa142c89401d40cf8bdad67",
            "2db033348bbe42f3857afbacdf4b39e2",
            "e084a8901cd14b3aba800d62644cab05",
            "31c5429c78a8465caf5268b5b0b515ed",
            "c3a3be7e5f504171b3bed084d475c6cf",
            "c42cb5170f494e70b94b1412eca376d1",
            "8e9ab074a5eb490693f3f8bd03918133",
            "a5466451df294920b1da1606d3c0a016",
            "8db4e27b271c44b58e79a074e44e2374",
            "a00e1e48ab42455d8895c67bc1223e11",
            "02320ccbbf5f49649185bbf440f04b92",
            "f5b3d049b66d4f9687cc41e50318021a",
            "fd72bc2754124081bfa4d5309cccaa03",
            "9efed67f815242d2a66c737b1ff35b5d",
            "9de5228cb2e44a7e801d337822b514b0",
            "eaff88538b594ac4be3a6ac33e35dfb1",
            "3d875321e8c54ffe910d6739f7206477",
            "1c0ce5ae6b9d494ab871e95ea4f8c7b8",
            "456fdb4f57cc4d4680c4034a6805afc1",
            "72d8c3a1f29d499394942195286bbe63",
            "ec135d4bdc7f46dfb22ef58ffc158168",
            "6044c989f07749abac1664aa2c4bae5a",
            "a08c7225416b4b3185b1488016fce91e",
            "68e3b9166549486182c3837f2ed60704",
            "bb858186692443f1b3e9b7bc1089664b",
            "d130d2de74754066b2baa7e0f6458c64",
            "76f821246d26420b8acad02ba20a621f",
            "46710ed02045410382ab4236d80d53a0",
            "dcbbf5a472b84be49633d675f66e07f3",
            "6509822fee5f4fac8ebb852581a8d9a2",
            "455103d354ff4ace86dbf669ef35bf27",
            "f1fa71fa99dd45c79808de534358f571",
            "6038081a729d4ae78374acd8eb91c8f7",
            "2ab8c4f2b58e4264b13ff6190fa6232e",
            "2c0d3ac87cbb4ab791995ea444a80ce7",
            "0153b6ed725c4012b4c41c0fe214d8f1",
            "0a6be9f45f34439c97becc807e525711",
            "2f058501f5f347dfb1a800febd30bfef",
            "ffdee17ff0184cf8a8c42e0dbf7d31e7",
            "1941fba711e84ce78b172ce0e654ecbe",
            "7783d394589c456c9fd65bed9b4fef6d",
            "0657abf10c3641bb977dfd2d6481d98b",
            "d935926e511f4666b5bb2dd27643174b",
            "2d25ebe142a441beb3c7b3bcd600cea0",
            "dc9f9afeedb74a2aba8a6e9325a8ae9e",
            "a56e2aebec9e4e6e9bd62f690d42e497",
            "f4b04e804b164ce0a0653ede1295092e",
            "46f73ee81ffa490a85669511a3fc0d3b",
            "c1bbe44cd15a4071889ba2b6a8d869f6",
            "4da293c428494c5d9351f900fde268f7",
            "6d100d89f1a14048a4efee3b356767f7",
            "577b454c083c4b47ae5a3c7cfe67ae81",
            "e378dd0386ae4f52a9b6ad02bdb78f67",
            "b8bb7c9d86af4d75bb13df0ffd6cbae4",
            "12733b6d3094413c85fe32350f43f172",
            "d21850e7a47f429da00a74a25c71b160",
            "c11a4a79a3ad4098b33b4c8524d8a458",
            "42ae00b350924888937b132b951e132d",
            "22f1edc8f4d64e78b3378181b88c5a0d",
            "3fd4804253744993820809739a700304",
            "829424c3220e4b08ad88e74750121008",
            "48d87ddf7c714e9b9bdb65386da997eb",
            "618e3172dda046349f50c5ec92cc0ad4",
            "07d25f3af5d34f928dded5613bb7d652",
            "1a0de924d2224ab9b2e5481b8bdad868",
            "afee61f598684a3cb6028d9b83aba2c7",
            "86547614b27c4c91886e7e09813a24bb",
            "d906ec29b9be4e3ebfde87702f504394",
            "193d9bd0e66043b3ae1a7ba087c12522",
            "e3051462fb9a4d7c90d5a4f37c56f860",
            "0cd476d936d2492abbb41182d7a6eacb",
            "dab160e4332f4a2d81fa2f73bc8c2d2f",
            "4cb9e4917c3942fe96bbf6ed4ad245e3",
            "5cfafd7f9e6e4ababa2e16e2c9dfffdc",
            "0efc1e5d1614451881c3543f41fba4f2",
            "4886c2901d5b4a9790fb20fb8bc28ff9",
            "a00f0438894046b59275c70de852badc",
            "a7f5e2efa90645dea0e3577de18f29ad",
            "c7247ba7d0bb4c72b8fa47f3c48fecab",
            "db7308ad66f84e7887de5bce6663c2f5",
            "53f2ca85a5524c6aad6ca0de6c293b80",
            "3c06f6bc5d93403dbfdf8afb90556a57",
            "cc9f041aad3446a8b2c377cd8cef806a",
            "94125686fd7a40bc8482d04c5c00e684",
            "3beadb9f1b294bdc96bd6c17e0351324",
            "90c2cc35d5d94756bd705b1b4884a3bc",
            "ce203d6d2d804bcbaaa1dab8e2c586a0",
            "8998c194bae441c4ba3ec4af9d7ac774",
            "08cde130b9f94097b008f06198e4b842",
            "2a8f535678c64468922e4dd5025a2a61",
            "f1e834df3f6443c2a146dcdb7a8ff11c",
            "5f777b110fed4ca38053bdee3d68dc77",
            "1c84abb8163d4b42bf2f678ce2737da8",
            "e599398e21fb4eb0be16b85196b6cf74",
            "28adf730280542159d6c1ffa7260b216",
            "5c5b8e744d474697888489ef38e8941b",
            "23ca256f2d75494fb83443419b7bd888",
            "7692cfbe789b4ad082a746cff5b1ae52",
            "928e9446fbc74ef79ce5dc9fbb932ca5",
            "12d0c9e1943d4a63a907c67b1906f1a4",
            "9bff224ba9bf4afc9b8191f91eff1abc",
            "b3095761bcb14301a61c8352e4d15721",
            "e9e7d900b5514658b02f65c0f439448f",
            "577be424549e447a89a440d1bf537c71",
            "779b71724ea64a1d98a4b039bd08414a",
            "6bf726840e0d4f90b82c554941918dbb",
            "b22f1627939a4b1fb686fc142e3b1023",
            "194eee798dc14e01af731af7f4865cde",
            "43711e46aafc423388205341374d0048",
            "af34fcb489274a8990e59c635b17f2ad",
            "d8dc6e0cfac14041a6513a6e475ef7f4",
            "dc19a4b0b7bc4fa697dbd0a3e040df33",
            "8a2fa65341994f50891ae3ac7a04082c",
            "368a1560e6994994afee7e771913ffb0",
            "71f6000e6cb7494fb54cc12a7a00096f",
            "46aaff4ff4cf4b5bb1bc027b6c163ca5",
            "ff0792bd09ee435b828b4a3455a24083",
            "6c29b3b0daab49af88b64713400c730d",
            "0e3a08066ad64a548ba47c6239cacbcf",
            "f87373dec6f74707936591d8676fdc6e",
            "45362c2c87704cbbbcc8e795a18e50ba",
            "950bdad1d9154fae97fe1b8701da4d2d",
            "17df3ed221664118a0be7ed80a4b2d6c",
            "5ebe77ab766c4d799b6decfe0cf4bbac",
            "a39e77a194b44823841c3a7669739787",
            "123a1c9b8426497389fb1eb47343c2f0",
            "de067d2461544e29af6a5f60f4184232",
            "799d1128850c4e72a1151d8e302571a7",
            "1e35badd0a654f209b7a1ec94bcff023",
            "9885304e444546f4b5e3c27d4588d65f",
            "cf3071f9b033469a9c6a7af6f2fe77a8",
            "4cee543d60fd4090a1074d2b070f6b32",
            "06431f4c79004f349f92732018fe1d2d",
            "d3dcba9b3ca84a81964fd5d6d2e17076",
            "2bc4559953fc4b9f88f6b83f1237503e",
            "35f04516483f42299e4dd1d460847f9d",
            "98e1f4472c8c49db8e3361d77b2f5c5b",
            "e99f9f961c9846659cb8b15b2df089e1",
            "cf5a2ddb6a7042b098d9559240971c0e",
            "7a14d85b199d4aeaa06da2d9ca9a669f",
            "9f9477a010ed4f88b9215bad188a9165",
            "21dbf38bf0964ba3a30c12cc720679c0",
            "672a3b4807ae44118830b2754a56f730",
            "0a6e6e2aded340f9a147d539953e2592",
            "84d6cfb1b4f44c73b26bfe1339a4ac68",
            "8888630343dc410c9f8b135aeb5eed24",
            "11f030d7cd7a41ca810985e952d0f1da",
            "c1800fd1c88c40f58c114a5d4520ab7e",
            "c6e44f4bfa9d42b088d0d1e718831f61",
            "6cf4fde11b364b748e4059a8f2d16993",
            "2df99f7c79e34c17a27433042fe95956",
            "113271e6fe0142b0aa65f5a18ac924d3",
            "4e5fa34c352e45ff9770f72ac04e58af",
            "d936fe938c5745a4b840df513afcbc8b",
            "e16edfc520104035b64d7d7cbc12a217",
            "dd9171deb4fc4d698062b1883c33c229",
            "9271876108c4485789b5f21de499c54f",
            "da02b69334d24682be5a1f0542120a5b",
            "d4d3bbfeeaa946819515d02f8180ddbd",
            "9c1d093a99d7461c8b745349e420060b",
            "66c32f38208744da8148efdf1f225bb7",
            "a9c8815ba0cc4061a1aceb876e761ca6",
            "bec701c877e44f3b916afe7125e552c8",
            "f8d3bf6560944deda5d32081022c725a",
            "6f71a419e1204c6c8694e45bdec9983e",
            "05ef6c68b8c44cbcb13e03ab1bb63646",
            "c0cdc5cdf80645eba265026b775933e4",
            "6a9d3d2b390c4415b5c553225d560f28",
            "ff496634fd444cc98e56b1d835320e23",
            "cf3d513f960341c888bdd2dc6ff2403f",
            "4dbbccae5f1f4ffe83d7ea12e28f5cfc",
            "4121b0b4ec9d45f1b812dc31f49b9dd8",
            "3ebee6aaadf94f17b6dbf8884125099c",
            "2f1132b76ca14644b2f9af74bea6a286",
            "89373d51adc74985acc79511ebf06947",
            "633909626f774c278a7f9528deada3ca",
            "ba275ddceef048739bc1cfd23e836ec4",
            "33b1af4525924460b1605b25eaeaab4e",
            "4fbc13dce08e439695dd298bf7010ac7",
            "c1e8417331fd4aeab0fb2f2a3a04e26f",
            "1413b684307341b5bba081f90bd56c2f",
            "680a3544f2904986868a8a0a68c92453",
            "71bc7f1df11c4c0d9fbec3b17aff340a",
            "0a7005fc93984afe8e58cb87e5e29d55",
            "78bcd205ab9341adb3fe1802405bfcd7",
            "c7c0e1d4f90a402b826b4c30d34d4728",
            "9378ae920b3443668d617e9cb09ca20f",
            "a9ad4778858f48c096ff2a7cc0a18a7d",
            "064ed7b398b5454c86de448cf1237b9f",
            "e1fb648040fa4353b9fa55da2cfea438",
            "409d948e5ab84779a62fe0ea0f2d5264",
            "eb2494cb851a42448a10ddd7520aefcc",
            "eaf7945e429d4d32859fecd63d231659",
            "4b5a1a5971dc4383b387d7e2724e4e7c",
            "4a986bb82fe14bf1bab3f3dc91448efd",
            "f25dc3275b92439a8b19dd2ef19edfc0",
            "fb1e236935f04aac8a9378bd2cbdc0ef",
            "b804e5102b1747e0ab66ec932e5d5fa8",
            "584240ee7fb744f2ab72c7030ba885a2",
            "360031663a62479b97d4d75bd2280a2e",
            "64a4fdd831114be5951726c2ddfa8ac1",
            "1b273c2fc4f4454fa7a0989b0a3b367e",
            "3ed535c31908460d99ca64e0b195b53e",
            "3d412bf8a6434fd6aadae887763168a0",
            "3ae5e2a069474803a6f2435202796634",
            "0ed0b8c6518b4c488fe84a5a1ed89bd8",
            "4e6d3ac3b5b24151802400bfdf377836",
            "3fe758cdffa547789ebae91e542db29a",
            "518dbb24074349d3b59e9d8d00078423",
            "1cba84a199324090a385b63729a0370a",
            "4d9666291ffc4d57be20c33256b2f0ce",
            "c73f8f9559e540d3b5de9d54836323cd",
            "34883188239f45928ff026063929d6a9",
            "94060c3e52484e929208d4a84e8895a1",
            "c801ae5701fa4b27981d2f29eecddf60",
            "02bcf832c7754b85b6ead9586ba659ee",
            "d9897068db204e5c9c81c0eee3b51c85",
            "6d93073856e14de5b8fb99ff49f5cd39",
            "559639a61edf411fbd996ca6d2ec98fb",
            "a4ae006944984f27a33b6b06a77c5743",
            "46ef4053d6b247b28ccf3182c7c87e54",
            "cdb9109f42de426b9bd48ed92c3a4aba",
            "eb40e6d17e244ff0985c0faeb75e4299",
            "4169c6e42850421a8df553dfd9bb419d",
            "6228ea5ed08f4f459e95b29f524b3922",
            "516b89bda59f4161874206c8ac4674c5",
            "08828ad159114694948c938e550a88bf",
            "79b11b1d7c2c4caab56e441261daa757",
            "20b40c9837b2421a9f317c29a4dfef74",
            "f3d81191fb024bf78692063a26260dbb",
            "651cc30763504600bb58c140d87f97c2",
            "f1d626acd5554f9e9611fc3a2bf241e5",
            "8d1031f618354e8e91068b62c7699d91",
            "70766e88cc534a049e555e08474a1d20",
            "4852e2ac30804237aa321de56a19eaf1",
            "f6530d58b00b43eaaeb6afec3542e8e3",
            "2cbaecb3f00b4d448aeeda9f8245c391",
            "97fd5ecf56a343a7a292ecff92bab1e7",
            "39a9d5d3f17148f19d6e80974d44cb65",
            "b04b002caccd4150b0d6c09fe8510a35",
            "cc8288f6ffad4e1cb4d626d8516a7f60",
            "222d48464c0b40d7974035fb491d4a3e",
            "26b76b30e3ca4c0e97934bdde2bb2cab",
            "d1213f8b02f34919a215e7542c70feb4",
            "0ba1c22e3b0a4be09f5c432c1ac60cab",
            "67ff2395fb9244f18416aaad6b2cadf8",
            "3e325d3b73ba44abb706033c6247f455",
            "0288e3ad31ff4557a6c135f7dbc287a7",
            "efeb41943b9a4642ad6710c0145a5013",
            "abc8032c8dd34a6f963dea6f70a94f1c",
            "21ff58e4961c4fff85a1b5b6b7f0d60f",
            "3628c1b157ad47caba131df4cf3e9732",
            "0f80ef18ded547b9ac0bf4384c5d66fe",
            "50eaa8ab967f4f39946dc48a1d2cf403",
            "694e1fd4fb6d4d7c9690d6ed547dfe5b",
            "9792be5f91ed4bce91d43ccae345e8ff",
            "007e4e290fac4c0592bfda653690892a",
            "305695d303704ef181d920e05b8ba328",
            "4b42c1fe989b427f98be3fb7e20c66fa",
            "dfc934d85c2e4b91a83ad47322e1615b",
            "b860a29046f44c7495327b404e62759f",
            "7ed0b605c6454c0d933a5da7193b199b",
            "d466ae780bef443eb2140a7158234339",
            "73770236913340fd977a508ae639e090",
            "0060a3d526f44335b5636fe56e53e0df",
            "3257b003010f4524a9c096900cebdce9",
            "7dcbb7565d89487b828753b50531bc73",
            "4b4833b001724315bd9d72456f4e24d3",
            "966e3aee89f7474c97519ea76c59de7b",
            "cd3e4ffbfad043c7b3dc1fca47c4769a",
            "8881ade644204fcb902c17cd44acf68b",
            "e1eff27ab1b643599999c87186abc1eb",
            "3a90a3ae779348078088c6f543ece81b",
            "43cf7f362e994c52889fbd78e5363625",
            "07a6ac340734407591d11f356f9e2f4f",
            "05a33edde087475198cab6c449183c81",
            "f8c47caa7a754caca449f7324a494c18",
            "8e28cde61a2e41c3bed7f136c4115937",
            "c491173bfcf74a50ac9be11bbc9a1334",
            "70c666c02fac48668371e515672576e6",
            "c07a7484f0b049dfaacf2bf81428061f",
            "a0329bee40f244248d360b0aca2d18bc",
            "6067842d13074eb38eab2e2dda4dc291",
            "471c79a069104a558c6301ea255e555b",
            "45db0401ded24a79821b595d6f4cfde4",
            "837928e9ca8647dd8eac3f9d7c46191a",
            "8c9655396aa74bdeabd69753813c58bf",
            "3ac4cac0aaf142f8ae7c8c158cbb5276",
            "bfd0c787e7344abeabde35d891ed53f0",
            "44388d725c3e4dbd9425f38cc32a8f54",
            "85551f6408f04c14b209e1fa8e9c1a9c",
            "e93cfa196da24808910728491358ff28",
            "3420563e571948abae0328989875f13c",
            "0f1f0b5e7565436b8fff60456d9fdc1b",
            "ba047bd1559849a3b9aca54879fd7598",
            "e07c6fedb84e49f4892a46fb295ead00",
            "af44de698b9b47448e7b5286152512b9",
            "0e6fe62d93ab43ae83d0e07258d85f6b",
            "ba034e078d2a4ea4b64965d198e746a8",
            "895e93018dae4ddab74c34460165ec2f",
            "cf7cc18d4caa46b185caf3b52516e699",
            "3fbda160a68a42e8a5ba62851ab65596",
            "89ed95b9dc264c6c949fe19c2408f68f",
            "0de3c22ba85f4f04b630275971d7a5a5",
            "dbb2a6083e354e8b89c88d40b865f715",
            "559439531b3a41468bc21e08bd197bf1",
            "f18a77a939ca4e47a455a0752f21fead",
            "c054f05e6a494c2b8150e445a054e133",
            "10d8afbcd8004b97b5b8e0c4d8b9fe92",
            "e9ede1d203804c6d82153d7e88c9c144",
            "fbcc8414eac9456a9dcaafec59ea4517",
            "7c9645145e444fa68e07d6c30ef877cc",
            "36060280746344a883dc3c599fc5dad7",
            "59a33d119d72423b80c9941c52c9c543",
            "1cac2c3ed200431091ef499d925bdc7f",
            "dfb94aa8221d41fab53d71ee691c7aeb",
            "1f67bed26dc6422c8095bb3e0264fdae",
            "dbc2b4c9e26b4706b529ab8fe82048d7",
            "4f3b8996bfc4493b896212eac4bc612d",
            "395a310233754bb2b34971cd9f5156bb",
            "0a8d04b6245b493694054a513ce75559",
            "eb5b16fb77224847ba6feff6f79bcc05",
            "f0ed35092ff9425c9281d7962de9df06",
            "39337f13b9eb4059ac30321f185842b4",
            "2285c344af2340be90107e1a5672e8d7",
            "72daf14a29004cdb8225dc5a0369dafb",
            "20fc697ea40a490d82c1065ec4cc9e90",
            "297d5c8c50e743df9c2860526a1d6efb",
            "0e8464a5307e40bfba7e3221528386a0",
            "9d9a2f3228ce4701b65f99d941772ff7",
            "6af4645761c14cd791a052e94e98550c",
            "6e74061ce8634459b8366f709477fddd"
          ]
        },
        "collapsed": true,
        "id": "Q3ksBoJwtpFR",
        "outputId": "af3ec555-32d3-45ee-aeb5-24c9bce623cd"
      },
      "outputs": [
        {
          "name": "stderr",
          "output_type": "stream",
          "text": [
            "/usr/local/lib/python3.12/dist-packages/huggingface_hub/_login.py:337: UserWarning: \n",
            "The secret `HF_TOKEN` does not exist in your Colab secrets.\n",
            "To authenticate with the Hugging Face Hub, create a token in your settings tab (https://huggingface.co/settings/tokens), set it as secret in your Google Colab and restart your session.\n",
            "You will be able to reuse this secret in all of your notebooks.\n",
            "Please note that authentication is recommended but still optional to access public models or datasets.\n",
            "  warnings.warn(\n",
            "/usr/local/lib/python3.12/dist-packages/datasets/load.py:1429: FutureWarning: The repository for google/speech_commands contains custom code which must be executed to correctly load the dataset. You can inspect the repository content at https://hf.co/datasets/google/speech_commands\n",
            "You can avoid this message in future by passing the argument `trust_remote_code=True`.\n",
            "Passing `trust_remote_code=True` will be mandatory to load this dataset from the next major release of `datasets`.\n",
            "  warnings.warn(\n"
          ]
        },
        {
          "data": {
            "application/vnd.jupyter.widget-view+json": {
              "model_id": "16eece5608c6462387b8376d70c41398",
              "version_major": 2,
              "version_minor": 0
            },
            "text/plain": [
              "Downloading builder script: 0.00B [00:00, ?B/s]"
            ]
          },
          "metadata": {},
          "output_type": "display_data"
        },
        {
          "data": {
            "application/vnd.jupyter.widget-view+json": {
              "model_id": "5aa155b2c3c048c2a7270d0fc11f2fb4",
              "version_major": 2,
              "version_minor": 0
            },
            "text/plain": [
              "Downloading readme: 0.00B [00:00, ?B/s]"
            ]
          },
          "metadata": {},
          "output_type": "display_data"
        },
        {
          "data": {
            "application/vnd.jupyter.widget-view+json": {
              "model_id": "341b762595c64479b850c8c65725b926",
              "version_major": 2,
              "version_minor": 0
            },
            "text/plain": [
              "Downloading data:   0%|          | 0.00/1.94G [00:00<?, ?B/s]"
            ]
          },
          "metadata": {},
          "output_type": "display_data"
        },
        {
          "data": {
            "application/vnd.jupyter.widget-view+json": {
              "model_id": "9f39d0d8a36a491eae4edbd0635e6e7d",
              "version_major": 2,
              "version_minor": 0
            },
            "text/plain": [
              "Downloading data:   0%|          | 0.00/229M [00:00<?, ?B/s]"
            ]
          },
          "metadata": {},
          "output_type": "display_data"
        },
        {
          "data": {
            "application/vnd.jupyter.widget-view+json": {
              "model_id": "a4dcb6b058864e5fa1d80f4e6659e78c",
              "version_major": 2,
              "version_minor": 0
            },
            "text/plain": [
              "Downloading data:   0%|          | 0.00/112M [00:00<?, ?B/s]"
            ]
          },
          "metadata": {},
          "output_type": "display_data"
        },
        {
          "data": {
            "application/vnd.jupyter.widget-view+json": {
              "model_id": "9874f9c9ffca4e49899980dc0dc36495",
              "version_major": 2,
              "version_minor": 0
            },
            "text/plain": [
              "Generating train split:   0%|          | 0/84848 [00:00<?, ? examples/s]"
            ]
          },
          "metadata": {},
          "output_type": "display_data"
        },
        {
          "data": {
            "application/vnd.jupyter.widget-view+json": {
              "model_id": "21b28a6116ec45f6b3c2b8771041fe78",
              "version_major": 2,
              "version_minor": 0
            },
            "text/plain": [
              "Generating validation split:   0%|          | 0/9982 [00:00<?, ? examples/s]"
            ]
          },
          "metadata": {},
          "output_type": "display_data"
        },
        {
          "data": {
            "application/vnd.jupyter.widget-view+json": {
              "model_id": "f820458e2a1544b08a6c8c74fcabeb92",
              "version_major": 2,
              "version_minor": 0
            },
            "text/plain": [
              "Generating test split:   0%|          | 0/4890 [00:00<?, ? examples/s]"
            ]
          },
          "metadata": {},
          "output_type": "display_data"
        },
        {
          "name": "stderr",
          "output_type": "stream",
          "text": [
            "/usr/local/lib/python3.12/dist-packages/torch/optim/lr_scheduler.py:60: UserWarning: The verbose parameter is deprecated. Please use get_last_lr() to access the learning rate.\n",
            "  warnings.warn(\n",
            "/tmp/ipython-input-3881407057.py:79: FutureWarning: `torch.cuda.amp.GradScaler(args...)` is deprecated. Please use `torch.amp.GradScaler('cuda', args...)` instead.\n",
            "  scaler = torch.cuda.amp.GradScaler(enabled=use_amp)\n"
          ]
        },
        {
          "data": {
            "application/vnd.jupyter.widget-view+json": {
              "model_id": "3411b98951bd4984a7fbb13f1eb2fafb",
              "version_major": 2,
              "version_minor": 0
            },
            "text/plain": [
              "Epoch 01:   0%|          | 0/1326 [00:00<?, ?it/s]"
            ]
          },
          "metadata": {},
          "output_type": "display_data"
        },
        {
          "name": "stdout",
          "output_type": "stream",
          "text": [
            "Epoch 01 ➜ train 9.0% | val 22.3% (loss 2.884) | lr 4.17e-05\n",
            "** Saved new best RetNet model ** @ 22.3%\n"
          ]
        },
        {
          "data": {
            "application/vnd.jupyter.widget-view+json": {
              "model_id": "ee3d42ac05e745c0b334f64bcbf11319",
              "version_major": 2,
              "version_minor": 0
            },
            "text/plain": [
              "Epoch 02:   0%|          | 0/1326 [00:00<?, ?it/s]"
            ]
          },
          "metadata": {},
          "output_type": "display_data"
        },
        {
          "name": "stdout",
          "output_type": "stream",
          "text": [
            "Epoch 02 ➜ train 39.5% | val 64.3% (loss 1.542) | lr 8.33e-05\n",
            "** Saved new best RetNet model ** @ 64.3%\n"
          ]
        },
        {
          "data": {
            "application/vnd.jupyter.widget-view+json": {
              "model_id": "9ecd397ad6d3424eb3a9a0a18202d135",
              "version_major": 2,
              "version_minor": 0
            },
            "text/plain": [
              "Epoch 03:   0%|          | 0/1326 [00:00<?, ?it/s]"
            ]
          },
          "metadata": {},
          "output_type": "display_data"
        },
        {
          "name": "stdout",
          "output_type": "stream",
          "text": [
            "Epoch 03 ➜ train 66.7% | val 81.4% (loss 0.976) | lr 1.25e-04\n",
            "** Saved new best RetNet model ** @ 81.4%\n"
          ]
        },
        {
          "data": {
            "application/vnd.jupyter.widget-view+json": {
              "model_id": "a689d7f3757f482087702eb6e2bb0d05",
              "version_major": 2,
              "version_minor": 0
            },
            "text/plain": [
              "Epoch 04:   0%|          | 0/1326 [00:00<?, ?it/s]"
            ]
          },
          "metadata": {},
          "output_type": "display_data"
        },
        {
          "name": "stdout",
          "output_type": "stream",
          "text": [
            "Epoch 04 ➜ train 77.4% | val 88.3% (loss 0.761) | lr 1.67e-04\n",
            "** Saved new best RetNet model ** @ 88.3%\n"
          ]
        },
        {
          "data": {
            "application/vnd.jupyter.widget-view+json": {
              "model_id": "4a542840076943749b80a2f5b63347e4",
              "version_major": 2,
              "version_minor": 0
            },
            "text/plain": [
              "Epoch 05:   0%|          | 0/1326 [00:00<?, ?it/s]"
            ]
          },
          "metadata": {},
          "output_type": "display_data"
        },
        {
          "name": "stdout",
          "output_type": "stream",
          "text": [
            "Epoch 05 ➜ train 82.3% | val 91.0% (loss 0.675) | lr 2.08e-04\n",
            "** Saved new best RetNet model ** @ 91.0%\n"
          ]
        },
        {
          "data": {
            "application/vnd.jupyter.widget-view+json": {
              "model_id": "670e5cff60164b8a857a8a9c2f1c93fe",
              "version_major": 2,
              "version_minor": 0
            },
            "text/plain": [
              "Epoch 06:   0%|          | 0/1326 [00:00<?, ?it/s]"
            ]
          },
          "metadata": {},
          "output_type": "display_data"
        },
        {
          "name": "stdout",
          "output_type": "stream",
          "text": [
            "Epoch 06 ➜ train 84.8% | val 91.2% (loss 0.659) | lr 2.50e-04\n",
            "** Saved new best RetNet model ** @ 91.2%\n"
          ]
        },
        {
          "data": {
            "application/vnd.jupyter.widget-view+json": {
              "model_id": "4b2e42aaa95040c0a92d5c9785449ab2",
              "version_major": 2,
              "version_minor": 0
            },
            "text/plain": [
              "Epoch 07:   0%|          | 0/1326 [00:00<?, ?it/s]"
            ]
          },
          "metadata": {},
          "output_type": "display_data"
        },
        {
          "name": "stdout",
          "output_type": "stream",
          "text": [
            "Epoch 07 ➜ train 86.3% | val 93.1% (loss 0.605) | lr 2.92e-04\n",
            "** Saved new best RetNet model ** @ 93.1%\n"
          ]
        },
        {
          "data": {
            "application/vnd.jupyter.widget-view+json": {
              "model_id": "78cc0b6487164caab0cd24d01ac97f5e",
              "version_major": 2,
              "version_minor": 0
            },
            "text/plain": [
              "Epoch 08:   0%|          | 0/1326 [00:00<?, ?it/s]"
            ]
          },
          "metadata": {},
          "output_type": "display_data"
        },
        {
          "name": "stdout",
          "output_type": "stream",
          "text": [
            "Epoch 08 ➜ train 87.3% | val 93.4% (loss 0.589) | lr 3.33e-04\n",
            "** Saved new best RetNet model ** @ 93.4%\n"
          ]
        },
        {
          "data": {
            "application/vnd.jupyter.widget-view+json": {
              "model_id": "02859bdc7a964425b2f86f732f97740a",
              "version_major": 2,
              "version_minor": 0
            },
            "text/plain": [
              "Epoch 09:   0%|          | 0/1326 [00:00<?, ?it/s]"
            ]
          },
          "metadata": {},
          "output_type": "display_data"
        },
        {
          "name": "stdout",
          "output_type": "stream",
          "text": [
            "Epoch 09 ➜ train 88.1% | val 92.5% (loss 0.619) | lr 3.75e-04\n"
          ]
        },
        {
          "data": {
            "application/vnd.jupyter.widget-view+json": {
              "model_id": "4b95315e81794cb18c28985fbc47a75f",
              "version_major": 2,
              "version_minor": 0
            },
            "text/plain": [
              "Epoch 10:   0%|          | 0/1326 [00:00<?, ?it/s]"
            ]
          },
          "metadata": {},
          "output_type": "display_data"
        },
        {
          "name": "stdout",
          "output_type": "stream",
          "text": [
            "Epoch 10 ➜ train 88.6% | val 94.1% (loss 0.566) | lr 4.17e-04\n",
            "** Saved new best RetNet model ** @ 94.1%\n"
          ]
        },
        {
          "data": {
            "application/vnd.jupyter.widget-view+json": {
              "model_id": "c384e13bd9a14c66a7e1a1d56819548e",
              "version_major": 2,
              "version_minor": 0
            },
            "text/plain": [
              "Epoch 11:   0%|          | 0/1326 [00:00<?, ?it/s]"
            ]
          },
          "metadata": {},
          "output_type": "display_data"
        },
        {
          "name": "stdout",
          "output_type": "stream",
          "text": [
            "Epoch 11 ➜ train 89.3% | val 92.0% (loss 0.625) | lr 4.58e-04\n"
          ]
        },
        {
          "data": {
            "application/vnd.jupyter.widget-view+json": {
              "model_id": "0458b002ce0e4bc4a576f122e35f55c1",
              "version_major": 2,
              "version_minor": 0
            },
            "text/plain": [
              "Epoch 12:   0%|          | 0/1326 [00:00<?, ?it/s]"
            ]
          },
          "metadata": {},
          "output_type": "display_data"
        },
        {
          "name": "stdout",
          "output_type": "stream",
          "text": [
            "Epoch 12 ➜ train 89.4% | val 94.0% (loss 0.565) | lr 5.00e-04\n"
          ]
        },
        {
          "data": {
            "application/vnd.jupyter.widget-view+json": {
              "model_id": "41c1e7135cd54b6889c08e8295d459ab",
              "version_major": 2,
              "version_minor": 0
            },
            "text/plain": [
              "Epoch 13:   0%|          | 0/1326 [00:00<?, ?it/s]"
            ]
          },
          "metadata": {},
          "output_type": "display_data"
        },
        {
          "name": "stdout",
          "output_type": "stream",
          "text": [
            "Epoch 13 ➜ train 90.0% | val 95.0% (loss 0.537) | lr 5.00e-04\n",
            "** Saved new best RetNet model ** @ 95.0%\n"
          ]
        },
        {
          "data": {
            "application/vnd.jupyter.widget-view+json": {
              "model_id": "3101911dcc9c466195ddb9d1d6bb530f",
              "version_major": 2,
              "version_minor": 0
            },
            "text/plain": [
              "Epoch 14:   0%|          | 0/1326 [00:00<?, ?it/s]"
            ]
          },
          "metadata": {},
          "output_type": "display_data"
        },
        {
          "name": "stdout",
          "output_type": "stream",
          "text": [
            "Epoch 14 ➜ train 90.7% | val 94.8% (loss 0.534) | lr 5.00e-04\n"
          ]
        },
        {
          "data": {
            "application/vnd.jupyter.widget-view+json": {
              "model_id": "ea46783b484b4e7ab6bc1b7c0f3cf0ee",
              "version_major": 2,
              "version_minor": 0
            },
            "text/plain": [
              "Epoch 15:   0%|          | 0/1326 [00:00<?, ?it/s]"
            ]
          },
          "metadata": {},
          "output_type": "display_data"
        },
        {
          "name": "stdout",
          "output_type": "stream",
          "text": [
            "Epoch 15 ➜ train 91.0% | val 95.2% (loss 0.529) | lr 4.99e-04\n",
            "** Saved new best RetNet model ** @ 95.2%\n"
          ]
        },
        {
          "data": {
            "application/vnd.jupyter.widget-view+json": {
              "model_id": "493bbb743bc340acb497281081ac7b82",
              "version_major": 2,
              "version_minor": 0
            },
            "text/plain": [
              "Epoch 16:   0%|          | 0/1326 [00:00<?, ?it/s]"
            ]
          },
          "metadata": {},
          "output_type": "display_data"
        },
        {
          "name": "stdout",
          "output_type": "stream",
          "text": [
            "Epoch 16 ➜ train 91.5% | val 95.4% (loss 0.519) | lr 4.99e-04\n",
            "** Saved new best RetNet model ** @ 95.4%\n"
          ]
        },
        {
          "data": {
            "application/vnd.jupyter.widget-view+json": {
              "model_id": "65aaf09792c9405eaff1aa3be528da0a",
              "version_major": 2,
              "version_minor": 0
            },
            "text/plain": [
              "Epoch 17:   0%|          | 0/1326 [00:00<?, ?it/s]"
            ]
          },
          "metadata": {},
          "output_type": "display_data"
        },
        {
          "name": "stdout",
          "output_type": "stream",
          "text": [
            "Epoch 17 ➜ train 91.7% | val 95.4% (loss 0.519) | lr 4.98e-04\n"
          ]
        },
        {
          "data": {
            "application/vnd.jupyter.widget-view+json": {
              "model_id": "23161907c88d44fcba97236d67d74f44",
              "version_major": 2,
              "version_minor": 0
            },
            "text/plain": [
              "Epoch 18:   0%|          | 0/1326 [00:00<?, ?it/s]"
            ]
          },
          "metadata": {},
          "output_type": "display_data"
        },
        {
          "name": "stdout",
          "output_type": "stream",
          "text": [
            "Epoch 18 ➜ train 92.0% | val 95.7% (loss 0.508) | lr 4.98e-04\n",
            "** Saved new best RetNet model ** @ 95.7%\n"
          ]
        },
        {
          "data": {
            "application/vnd.jupyter.widget-view+json": {
              "model_id": "24c6cce3edbf4ca28c249eef45db0637",
              "version_major": 2,
              "version_minor": 0
            },
            "text/plain": [
              "Epoch 19:   0%|          | 0/1326 [00:00<?, ?it/s]"
            ]
          },
          "metadata": {},
          "output_type": "display_data"
        },
        {
          "name": "stdout",
          "output_type": "stream",
          "text": [
            "Epoch 19 ➜ train 92.2% | val 95.7% (loss 0.511) | lr 4.97e-04\n"
          ]
        },
        {
          "data": {
            "application/vnd.jupyter.widget-view+json": {
              "model_id": "09a57fce03314af790ed6c7a31673a08",
              "version_major": 2,
              "version_minor": 0
            },
            "text/plain": [
              "Epoch 20:   0%|          | 0/1326 [00:00<?, ?it/s]"
            ]
          },
          "metadata": {},
          "output_type": "display_data"
        },
        {
          "name": "stdout",
          "output_type": "stream",
          "text": [
            "Epoch 20 ➜ train 92.4% | val 96.1% (loss 0.498) | lr 4.96e-04\n",
            "** Saved new best RetNet model ** @ 96.1%\n"
          ]
        },
        {
          "data": {
            "application/vnd.jupyter.widget-view+json": {
              "model_id": "c963b9956f9c430ab91efc3415be4ef0",
              "version_major": 2,
              "version_minor": 0
            },
            "text/plain": [
              "Epoch 21:   0%|          | 0/1326 [00:00<?, ?it/s]"
            ]
          },
          "metadata": {},
          "output_type": "display_data"
        },
        {
          "name": "stdout",
          "output_type": "stream",
          "text": [
            "Epoch 21 ➜ train 92.7% | val 95.5% (loss 0.512) | lr 4.95e-04\n"
          ]
        },
        {
          "data": {
            "application/vnd.jupyter.widget-view+json": {
              "model_id": "af9910d6fb5e4ea39d58f514e22601c7",
              "version_major": 2,
              "version_minor": 0
            },
            "text/plain": [
              "Epoch 22:   0%|          | 0/1326 [00:00<?, ?it/s]"
            ]
          },
          "metadata": {},
          "output_type": "display_data"
        },
        {
          "name": "stdout",
          "output_type": "stream",
          "text": [
            "Epoch 22 ➜ train 92.9% | val 95.8% (loss 0.508) | lr 4.94e-04\n"
          ]
        },
        {
          "data": {
            "application/vnd.jupyter.widget-view+json": {
              "model_id": "47b896a517a646f790e15f714c8d4d43",
              "version_major": 2,
              "version_minor": 0
            },
            "text/plain": [
              "Epoch 23:   0%|          | 0/1326 [00:00<?, ?it/s]"
            ]
          },
          "metadata": {},
          "output_type": "display_data"
        },
        {
          "name": "stdout",
          "output_type": "stream",
          "text": [
            "Epoch 23 ➜ train 93.0% | val 96.0% (loss 0.499) | lr 4.92e-04\n"
          ]
        },
        {
          "data": {
            "application/vnd.jupyter.widget-view+json": {
              "model_id": "bb99220c46e447bea385be00f99b6702",
              "version_major": 2,
              "version_minor": 0
            },
            "text/plain": [
              "Epoch 24:   0%|          | 0/1326 [00:00<?, ?it/s]"
            ]
          },
          "metadata": {},
          "output_type": "display_data"
        },
        {
          "name": "stdout",
          "output_type": "stream",
          "text": [
            "Epoch 24 ➜ train 93.2% | val 96.1% (loss 0.494) | lr 4.91e-04\n"
          ]
        },
        {
          "data": {
            "application/vnd.jupyter.widget-view+json": {
              "model_id": "45146b55dbf14a1e837dbb51344c1618",
              "version_major": 2,
              "version_minor": 0
            },
            "text/plain": [
              "Epoch 25:   0%|          | 0/1326 [00:00<?, ?it/s]"
            ]
          },
          "metadata": {},
          "output_type": "display_data"
        },
        {
          "name": "stdout",
          "output_type": "stream",
          "text": [
            "Epoch 25 ➜ train 93.4% | val 96.1% (loss 0.495) | lr 4.89e-04\n"
          ]
        },
        {
          "data": {
            "application/vnd.jupyter.widget-view+json": {
              "model_id": "8746fafe37c24d74a997b9c4d36bfba8",
              "version_major": 2,
              "version_minor": 0
            },
            "text/plain": [
              "Epoch 26:   0%|          | 0/1326 [00:00<?, ?it/s]"
            ]
          },
          "metadata": {},
          "output_type": "display_data"
        },
        {
          "name": "stdout",
          "output_type": "stream",
          "text": [
            "Epoch 26 ➜ train 93.5% | val 96.0% (loss 0.497) | lr 4.87e-04\n"
          ]
        },
        {
          "data": {
            "application/vnd.jupyter.widget-view+json": {
              "model_id": "97c92687d64e4216a47eec897c401e48",
              "version_major": 2,
              "version_minor": 0
            },
            "text/plain": [
              "Epoch 27:   0%|          | 0/1326 [00:00<?, ?it/s]"
            ]
          },
          "metadata": {},
          "output_type": "display_data"
        },
        {
          "name": "stdout",
          "output_type": "stream",
          "text": [
            "Epoch 27 ➜ train 93.5% | val 96.0% (loss 0.498) | lr 4.86e-04\n"
          ]
        },
        {
          "data": {
            "application/vnd.jupyter.widget-view+json": {
              "model_id": "d2de1309531a42ca96cbcf668f6096b5",
              "version_major": 2,
              "version_minor": 0
            },
            "text/plain": [
              "Epoch 28:   0%|          | 0/1326 [00:00<?, ?it/s]"
            ]
          },
          "metadata": {},
          "output_type": "display_data"
        },
        {
          "name": "stdout",
          "output_type": "stream",
          "text": [
            "Epoch 28 ➜ train 93.8% | val 96.4% (loss 0.484) | lr 4.84e-04\n",
            "** Saved new best RetNet model ** @ 96.4%\n"
          ]
        },
        {
          "data": {
            "application/vnd.jupyter.widget-view+json": {
              "model_id": "1af2588e5c0341888049614ec000a040",
              "version_major": 2,
              "version_minor": 0
            },
            "text/plain": [
              "Epoch 29:   0%|          | 0/1326 [00:00<?, ?it/s]"
            ]
          },
          "metadata": {},
          "output_type": "display_data"
        },
        {
          "name": "stdout",
          "output_type": "stream",
          "text": [
            "Epoch 29 ➜ train 93.7% | val 96.5% (loss 0.487) | lr 4.82e-04\n",
            "** Saved new best RetNet model ** @ 96.5%\n"
          ]
        },
        {
          "data": {
            "application/vnd.jupyter.widget-view+json": {
              "model_id": "9ce96391e71d4805b4a2bdaae47419b4",
              "version_major": 2,
              "version_minor": 0
            },
            "text/plain": [
              "Epoch 30:   0%|          | 0/1326 [00:00<?, ?it/s]"
            ]
          },
          "metadata": {},
          "output_type": "display_data"
        },
        {
          "name": "stdout",
          "output_type": "stream",
          "text": [
            "Epoch 30 ➜ train 93.9% | val 96.4% (loss 0.485) | lr 4.79e-04\n"
          ]
        },
        {
          "data": {
            "application/vnd.jupyter.widget-view+json": {
              "model_id": "8790298f622f490ab20e103565fe0e41",
              "version_major": 2,
              "version_minor": 0
            },
            "text/plain": [
              "Epoch 31:   0%|          | 0/1326 [00:00<?, ?it/s]"
            ]
          },
          "metadata": {},
          "output_type": "display_data"
        },
        {
          "name": "stdout",
          "output_type": "stream",
          "text": [
            "Epoch 31 ➜ train 94.1% | val 96.4% (loss 0.483) | lr 4.77e-04\n"
          ]
        },
        {
          "data": {
            "application/vnd.jupyter.widget-view+json": {
              "model_id": "294cbc8eedc8458ea1d95adbb4a71fe8",
              "version_major": 2,
              "version_minor": 0
            },
            "text/plain": [
              "Epoch 32:   0%|          | 0/1326 [00:00<?, ?it/s]"
            ]
          },
          "metadata": {},
          "output_type": "display_data"
        },
        {
          "name": "stdout",
          "output_type": "stream",
          "text": [
            "Epoch 32 ➜ train 94.1% | val 96.4% (loss 0.483) | lr 4.75e-04\n"
          ]
        },
        {
          "data": {
            "application/vnd.jupyter.widget-view+json": {
              "model_id": "a83c3ad2ba76444d93f586298c8e2d70",
              "version_major": 2,
              "version_minor": 0
            },
            "text/plain": [
              "Epoch 33:   0%|          | 0/1326 [00:00<?, ?it/s]"
            ]
          },
          "metadata": {},
          "output_type": "display_data"
        },
        {
          "name": "stdout",
          "output_type": "stream",
          "text": [
            "Epoch 33 ➜ train 94.4% | val 96.5% (loss 0.486) | lr 4.72e-04\n",
            "** Saved new best RetNet model ** @ 96.5%\n"
          ]
        },
        {
          "data": {
            "application/vnd.jupyter.widget-view+json": {
              "model_id": "3656e40737f941e38664c1ae873beb85",
              "version_major": 2,
              "version_minor": 0
            },
            "text/plain": [
              "Epoch 34:   0%|          | 0/1326 [00:00<?, ?it/s]"
            ]
          },
          "metadata": {},
          "output_type": "display_data"
        },
        {
          "name": "stdout",
          "output_type": "stream",
          "text": [
            "Epoch 34 ➜ train 94.4% | val 96.4% (loss 0.482) | lr 4.69e-04\n"
          ]
        },
        {
          "data": {
            "application/vnd.jupyter.widget-view+json": {
              "model_id": "8c95a54301344bccbc457b8d3470f43d",
              "version_major": 2,
              "version_minor": 0
            },
            "text/plain": [
              "Epoch 35:   0%|          | 0/1326 [00:00<?, ?it/s]"
            ]
          },
          "metadata": {},
          "output_type": "display_data"
        },
        {
          "name": "stdout",
          "output_type": "stream",
          "text": [
            "Epoch 35 ➜ train 94.5% | val 96.5% (loss 0.481) | lr 4.67e-04\n",
            "** Saved new best RetNet model ** @ 96.5%\n"
          ]
        },
        {
          "data": {
            "application/vnd.jupyter.widget-view+json": {
              "model_id": "300ca2140dd4430987160d30b1b99c5d",
              "version_major": 2,
              "version_minor": 0
            },
            "text/plain": [
              "Epoch 36:   0%|          | 0/1326 [00:00<?, ?it/s]"
            ]
          },
          "metadata": {},
          "output_type": "display_data"
        },
        {
          "name": "stdout",
          "output_type": "stream",
          "text": [
            "Epoch 36 ➜ train 94.6% | val 96.8% (loss 0.472) | lr 4.64e-04\n",
            "** Saved new best RetNet model ** @ 96.8%\n"
          ]
        },
        {
          "data": {
            "application/vnd.jupyter.widget-view+json": {
              "model_id": "e243c58f48994a70a193a8dfbd8b1078",
              "version_major": 2,
              "version_minor": 0
            },
            "text/plain": [
              "Epoch 37:   0%|          | 0/1326 [00:00<?, ?it/s]"
            ]
          },
          "metadata": {},
          "output_type": "display_data"
        },
        {
          "name": "stdout",
          "output_type": "stream",
          "text": [
            "Epoch 37 ➜ train 94.7% | val 96.6% (loss 0.479) | lr 4.61e-04\n"
          ]
        },
        {
          "data": {
            "application/vnd.jupyter.widget-view+json": {
              "model_id": "15c618c6331d4485b2e38acb46360b67",
              "version_major": 2,
              "version_minor": 0
            },
            "text/plain": [
              "Epoch 38:   0%|          | 0/1326 [00:00<?, ?it/s]"
            ]
          },
          "metadata": {},
          "output_type": "display_data"
        },
        {
          "name": "stdout",
          "output_type": "stream",
          "text": [
            "Epoch 38 ➜ train 94.6% | val 96.3% (loss 0.482) | lr 4.57e-04\n"
          ]
        },
        {
          "data": {
            "application/vnd.jupyter.widget-view+json": {
              "model_id": "26b5929c6d2b4dceabb1eb8583199015",
              "version_major": 2,
              "version_minor": 0
            },
            "text/plain": [
              "Epoch 39:   0%|          | 0/1326 [00:00<?, ?it/s]"
            ]
          },
          "metadata": {},
          "output_type": "display_data"
        },
        {
          "name": "stdout",
          "output_type": "stream",
          "text": [
            "Epoch 39 ➜ train 94.8% | val 96.4% (loss 0.487) | lr 4.54e-04\n"
          ]
        },
        {
          "data": {
            "application/vnd.jupyter.widget-view+json": {
              "model_id": "87b3a32c50ab467abf9fc655065a5112",
              "version_major": 2,
              "version_minor": 0
            },
            "text/plain": [
              "Epoch 40:   0%|          | 0/1326 [00:00<?, ?it/s]"
            ]
          },
          "metadata": {},
          "output_type": "display_data"
        },
        {
          "name": "stdout",
          "output_type": "stream",
          "text": [
            "Epoch 40 ➜ train 94.9% | val 96.7% (loss 0.476) | lr 4.51e-04\n"
          ]
        },
        {
          "data": {
            "application/vnd.jupyter.widget-view+json": {
              "model_id": "8380f44bc09045389a48a8189801576a",
              "version_major": 2,
              "version_minor": 0
            },
            "text/plain": [
              "Epoch 41:   0%|          | 0/1326 [00:00<?, ?it/s]"
            ]
          },
          "metadata": {},
          "output_type": "display_data"
        },
        {
          "name": "stdout",
          "output_type": "stream",
          "text": [
            "Epoch 41 ➜ train 95.0% | val 96.7% (loss 0.478) | lr 4.47e-04\n"
          ]
        },
        {
          "data": {
            "application/vnd.jupyter.widget-view+json": {
              "model_id": "3805be3eceb446d18ea4a43e197af7d4",
              "version_major": 2,
              "version_minor": 0
            },
            "text/plain": [
              "Epoch 42:   0%|          | 0/1326 [00:00<?, ?it/s]"
            ]
          },
          "metadata": {},
          "output_type": "display_data"
        },
        {
          "name": "stdout",
          "output_type": "stream",
          "text": [
            "Epoch 42 ➜ train 94.9% | val 96.5% (loss 0.486) | lr 4.44e-04\n"
          ]
        },
        {
          "data": {
            "application/vnd.jupyter.widget-view+json": {
              "model_id": "9994671feb3e4969a51a9442c9848091",
              "version_major": 2,
              "version_minor": 0
            },
            "text/plain": [
              "Epoch 43:   0%|          | 0/1326 [00:00<?, ?it/s]"
            ]
          },
          "metadata": {},
          "output_type": "display_data"
        },
        {
          "name": "stdout",
          "output_type": "stream",
          "text": [
            "Epoch 43 ➜ train 95.0% | val 96.5% (loss 0.483) | lr 4.40e-04\n"
          ]
        },
        {
          "data": {
            "application/vnd.jupyter.widget-view+json": {
              "model_id": "9747d665726640b5be421f238edaa850",
              "version_major": 2,
              "version_minor": 0
            },
            "text/plain": [
              "Epoch 44:   0%|          | 0/1326 [00:00<?, ?it/s]"
            ]
          },
          "metadata": {},
          "output_type": "display_data"
        },
        {
          "name": "stdout",
          "output_type": "stream",
          "text": [
            "Epoch 44 ➜ train 95.1% | val 96.7% (loss 0.478) | lr 4.37e-04\n"
          ]
        },
        {
          "data": {
            "application/vnd.jupyter.widget-view+json": {
              "model_id": "959a040fb89a42c1b09866d076ff8577",
              "version_major": 2,
              "version_minor": 0
            },
            "text/plain": [
              "Epoch 45:   0%|          | 0/1326 [00:00<?, ?it/s]"
            ]
          },
          "metadata": {},
          "output_type": "display_data"
        },
        {
          "name": "stdout",
          "output_type": "stream",
          "text": [
            "Epoch 45 ➜ train 95.1% | val 96.4% (loss 0.486) | lr 4.33e-04\n"
          ]
        },
        {
          "data": {
            "application/vnd.jupyter.widget-view+json": {
              "model_id": "deddabc2f42f4a299b954d119d9d069c",
              "version_major": 2,
              "version_minor": 0
            },
            "text/plain": [
              "Epoch 46:   0%|          | 0/1326 [00:00<?, ?it/s]"
            ]
          },
          "metadata": {},
          "output_type": "display_data"
        },
        {
          "name": "stdout",
          "output_type": "stream",
          "text": [
            "Epoch 46 ➜ train 95.3% | val 96.7% (loss 0.476) | lr 4.29e-04\n"
          ]
        },
        {
          "data": {
            "application/vnd.jupyter.widget-view+json": {
              "model_id": "bcbd04d1131b4b4e9a992e7fb615a71c",
              "version_major": 2,
              "version_minor": 0
            },
            "text/plain": [
              "Epoch 47:   0%|          | 0/1326 [00:00<?, ?it/s]"
            ]
          },
          "metadata": {},
          "output_type": "display_data"
        },
        {
          "name": "stdout",
          "output_type": "stream",
          "text": [
            "Epoch 47 ➜ train 95.3% | val 96.6% (loss 0.485) | lr 4.25e-04\n"
          ]
        },
        {
          "data": {
            "application/vnd.jupyter.widget-view+json": {
              "model_id": "3eefe4cdcfb7427dbeab0394cc7229e2",
              "version_major": 2,
              "version_minor": 0
            },
            "text/plain": [
              "Epoch 48:   0%|          | 0/1326 [00:00<?, ?it/s]"
            ]
          },
          "metadata": {},
          "output_type": "display_data"
        },
        {
          "name": "stdout",
          "output_type": "stream",
          "text": [
            "Epoch 48 ➜ train 95.3% | val 96.7% (loss 0.478) | lr 4.21e-04\n"
          ]
        },
        {
          "data": {
            "application/vnd.jupyter.widget-view+json": {
              "model_id": "fbd7770a1e244bc89616b738aaf29657",
              "version_major": 2,
              "version_minor": 0
            },
            "text/plain": [
              "Epoch 49:   0%|          | 0/1326 [00:00<?, ?it/s]"
            ]
          },
          "metadata": {},
          "output_type": "display_data"
        },
        {
          "name": "stdout",
          "output_type": "stream",
          "text": [
            "Epoch 49 ➜ train 95.4% | val 96.8% (loss 0.473) | lr 4.16e-04\n",
            "** Saved new best RetNet model ** @ 96.8%\n"
          ]
        },
        {
          "data": {
            "application/vnd.jupyter.widget-view+json": {
              "model_id": "14dde75b3a6b40dc95c867bc0792fd18",
              "version_major": 2,
              "version_minor": 0
            },
            "text/plain": [
              "Epoch 50:   0%|          | 0/1326 [00:00<?, ?it/s]"
            ]
          },
          "metadata": {},
          "output_type": "display_data"
        },
        {
          "name": "stdout",
          "output_type": "stream",
          "text": [
            "Epoch 50 ➜ train 95.5% | val 96.9% (loss 0.473) | lr 4.12e-04\n",
            "** Saved new best RetNet model ** @ 96.9%\n"
          ]
        },
        {
          "data": {
            "application/vnd.jupyter.widget-view+json": {
              "model_id": "daa635a899664efb85dfa3974204d10f",
              "version_major": 2,
              "version_minor": 0
            },
            "text/plain": [
              "Epoch 51:   0%|          | 0/1326 [00:00<?, ?it/s]"
            ]
          },
          "metadata": {},
          "output_type": "display_data"
        },
        {
          "name": "stdout",
          "output_type": "stream",
          "text": [
            "Epoch 51 ➜ train 95.5% | val 96.6% (loss 0.481) | lr 4.08e-04\n"
          ]
        },
        {
          "data": {
            "application/vnd.jupyter.widget-view+json": {
              "model_id": "e74bdc7a60704a39ab821be92976c890",
              "version_major": 2,
              "version_minor": 0
            },
            "text/plain": [
              "Epoch 52:   0%|          | 0/1326 [00:00<?, ?it/s]"
            ]
          },
          "metadata": {},
          "output_type": "display_data"
        },
        {
          "name": "stdout",
          "output_type": "stream",
          "text": [
            "Epoch 52 ➜ train 95.6% | val 96.8% (loss 0.473) | lr 4.03e-04\n"
          ]
        },
        {
          "data": {
            "application/vnd.jupyter.widget-view+json": {
              "model_id": "51ae0c545e094023ae935d8a94922cbc",
              "version_major": 2,
              "version_minor": 0
            },
            "text/plain": [
              "Epoch 53:   0%|          | 0/1326 [00:00<?, ?it/s]"
            ]
          },
          "metadata": {},
          "output_type": "display_data"
        },
        {
          "name": "stdout",
          "output_type": "stream",
          "text": [
            "Epoch 53 ➜ train 95.6% | val 97.0% (loss 0.470) | lr 3.99e-04\n",
            "** Saved new best RetNet model ** @ 97.0%\n"
          ]
        },
        {
          "data": {
            "application/vnd.jupyter.widget-view+json": {
              "model_id": "c3f0e5f918cd4029af2ddc1929dd2548",
              "version_major": 2,
              "version_minor": 0
            },
            "text/plain": [
              "Epoch 54:   0%|          | 0/1326 [00:00<?, ?it/s]"
            ]
          },
          "metadata": {},
          "output_type": "display_data"
        },
        {
          "name": "stdout",
          "output_type": "stream",
          "text": [
            "Epoch 54 ➜ train 95.7% | val 96.9% (loss 0.472) | lr 3.94e-04\n"
          ]
        },
        {
          "data": {
            "application/vnd.jupyter.widget-view+json": {
              "model_id": "a198e9473afc441084a1812cf6ae0083",
              "version_major": 2,
              "version_minor": 0
            },
            "text/plain": [
              "Epoch 55:   0%|          | 0/1326 [00:00<?, ?it/s]"
            ]
          },
          "metadata": {},
          "output_type": "display_data"
        },
        {
          "name": "stdout",
          "output_type": "stream",
          "text": [
            "Epoch 55 ➜ train 95.8% | val 96.9% (loss 0.468) | lr 3.89e-04\n"
          ]
        },
        {
          "data": {
            "application/vnd.jupyter.widget-view+json": {
              "model_id": "5f51396345414bc68f4d358bd2e57e12",
              "version_major": 2,
              "version_minor": 0
            },
            "text/plain": [
              "Epoch 56:   0%|          | 0/1326 [00:00<?, ?it/s]"
            ]
          },
          "metadata": {},
          "output_type": "display_data"
        },
        {
          "name": "stdout",
          "output_type": "stream",
          "text": [
            "Epoch 56 ➜ train 95.8% | val 96.6% (loss 0.480) | lr 3.85e-04\n"
          ]
        },
        {
          "data": {
            "application/vnd.jupyter.widget-view+json": {
              "model_id": "7c6e4ef32b9a40b39e536f733626906b",
              "version_major": 2,
              "version_minor": 0
            },
            "text/plain": [
              "Epoch 57:   0%|          | 0/1326 [00:00<?, ?it/s]"
            ]
          },
          "metadata": {},
          "output_type": "display_data"
        },
        {
          "name": "stdout",
          "output_type": "stream",
          "text": [
            "Epoch 57 ➜ train 95.8% | val 96.8% (loss 0.473) | lr 3.80e-04\n"
          ]
        },
        {
          "data": {
            "application/vnd.jupyter.widget-view+json": {
              "model_id": "efaa4b349d3a47caa63cf434ed65fc6f",
              "version_major": 2,
              "version_minor": 0
            },
            "text/plain": [
              "Epoch 58:   0%|          | 0/1326 [00:00<?, ?it/s]"
            ]
          },
          "metadata": {},
          "output_type": "display_data"
        },
        {
          "name": "stdout",
          "output_type": "stream",
          "text": [
            "Epoch 58 ➜ train 95.9% | val 96.7% (loss 0.476) | lr 3.75e-04\n"
          ]
        },
        {
          "data": {
            "application/vnd.jupyter.widget-view+json": {
              "model_id": "efc697dd570e4785a8bcbf57adf1ea45",
              "version_major": 2,
              "version_minor": 0
            },
            "text/plain": [
              "Epoch 59:   0%|          | 0/1326 [00:00<?, ?it/s]"
            ]
          },
          "metadata": {},
          "output_type": "display_data"
        },
        {
          "name": "stdout",
          "output_type": "stream",
          "text": [
            "Epoch 59 ➜ train 95.9% | val 96.9% (loss 0.472) | lr 3.70e-04\n"
          ]
        },
        {
          "data": {
            "application/vnd.jupyter.widget-view+json": {
              "model_id": "5daea9cc67d943019180cb194bcd2dad",
              "version_major": 2,
              "version_minor": 0
            },
            "text/plain": [
              "Epoch 60:   0%|          | 0/1326 [00:00<?, ?it/s]"
            ]
          },
          "metadata": {},
          "output_type": "display_data"
        },
        {
          "name": "stdout",
          "output_type": "stream",
          "text": [
            "Epoch 60 ➜ train 96.1% | val 96.8% (loss 0.477) | lr 3.65e-04\n"
          ]
        },
        {
          "data": {
            "application/vnd.jupyter.widget-view+json": {
              "model_id": "aa24905530384fc59958abf280f9d2d0",
              "version_major": 2,
              "version_minor": 0
            },
            "text/plain": [
              "Epoch 61:   0%|          | 0/1326 [00:00<?, ?it/s]"
            ]
          },
          "metadata": {},
          "output_type": "display_data"
        },
        {
          "name": "stdout",
          "output_type": "stream",
          "text": [
            "Epoch 61 ➜ train 96.1% | val 96.8% (loss 0.476) | lr 3.60e-04\n"
          ]
        },
        {
          "data": {
            "application/vnd.jupyter.widget-view+json": {
              "model_id": "a55b2a8eb9c1439faa46a3fcf9d13165",
              "version_major": 2,
              "version_minor": 0
            },
            "text/plain": [
              "Epoch 62:   0%|          | 0/1326 [00:00<?, ?it/s]"
            ]
          },
          "metadata": {},
          "output_type": "display_data"
        },
        {
          "name": "stdout",
          "output_type": "stream",
          "text": [
            "Epoch 62 ➜ train 96.0% | val 96.8% (loss 0.471) | lr 3.55e-04\n"
          ]
        },
        {
          "data": {
            "application/vnd.jupyter.widget-view+json": {
              "model_id": "e9b942120fa44b94a7d54e216673c849",
              "version_major": 2,
              "version_minor": 0
            },
            "text/plain": [
              "Epoch 63:   0%|          | 0/1326 [00:00<?, ?it/s]"
            ]
          },
          "metadata": {},
          "output_type": "display_data"
        },
        {
          "name": "stdout",
          "output_type": "stream",
          "text": [
            "Epoch 63 ➜ train 96.2% | val 96.8% (loss 0.481) | lr 3.50e-04\n"
          ]
        },
        {
          "data": {
            "application/vnd.jupyter.widget-view+json": {
              "model_id": "07ebc9b091f84ef68d80194cae5c3306",
              "version_major": 2,
              "version_minor": 0
            },
            "text/plain": [
              "Epoch 64:   0%|          | 0/1326 [00:00<?, ?it/s]"
            ]
          },
          "metadata": {},
          "output_type": "display_data"
        },
        {
          "name": "stdout",
          "output_type": "stream",
          "text": [
            "Epoch 64 ➜ train 96.3% | val 96.7% (loss 0.480) | lr 3.44e-04\n"
          ]
        },
        {
          "data": {
            "application/vnd.jupyter.widget-view+json": {
              "model_id": "cc6b6f92a617411a999556048cc09a09",
              "version_major": 2,
              "version_minor": 0
            },
            "text/plain": [
              "Epoch 65:   0%|          | 0/1326 [00:00<?, ?it/s]"
            ]
          },
          "metadata": {},
          "output_type": "display_data"
        },
        {
          "name": "stdout",
          "output_type": "stream",
          "text": [
            "Epoch 65 ➜ train 96.2% | val 96.9% (loss 0.472) | lr 3.39e-04\n"
          ]
        },
        {
          "data": {
            "application/vnd.jupyter.widget-view+json": {
              "model_id": "4c7027e21e0e4c80a8f74853d36adaa4",
              "version_major": 2,
              "version_minor": 0
            },
            "text/plain": [
              "Epoch 66:   0%|          | 0/1326 [00:00<?, ?it/s]"
            ]
          },
          "metadata": {},
          "output_type": "display_data"
        },
        {
          "name": "stdout",
          "output_type": "stream",
          "text": [
            "Epoch 66 ➜ train 96.3% | val 96.7% (loss 0.476) | lr 3.34e-04\n"
          ]
        },
        {
          "data": {
            "application/vnd.jupyter.widget-view+json": {
              "model_id": "ea5ee7cb29fc4589a3fa0fb384f573cf",
              "version_major": 2,
              "version_minor": 0
            },
            "text/plain": [
              "Epoch 67:   0%|          | 0/1326 [00:00<?, ?it/s]"
            ]
          },
          "metadata": {},
          "output_type": "display_data"
        },
        {
          "name": "stdout",
          "output_type": "stream",
          "text": [
            "Epoch 67 ➜ train 96.4% | val 96.9% (loss 0.474) | lr 3.28e-04\n"
          ]
        },
        {
          "data": {
            "application/vnd.jupyter.widget-view+json": {
              "model_id": "a002f2bbc2ee4bb499da72763c68dd88",
              "version_major": 2,
              "version_minor": 0
            },
            "text/plain": [
              "Epoch 68:   0%|          | 0/1326 [00:00<?, ?it/s]"
            ]
          },
          "metadata": {},
          "output_type": "display_data"
        },
        {
          "name": "stdout",
          "output_type": "stream",
          "text": [
            "Epoch 68 ➜ train 96.3% | val 96.7% (loss 0.477) | lr 3.23e-04\n"
          ]
        },
        {
          "data": {
            "application/vnd.jupyter.widget-view+json": {
              "model_id": "147b4b13bde6415580a6e05d435278ce",
              "version_major": 2,
              "version_minor": 0
            },
            "text/plain": [
              "Epoch 69:   0%|          | 0/1326 [00:00<?, ?it/s]"
            ]
          },
          "metadata": {},
          "output_type": "display_data"
        },
        {
          "name": "stdout",
          "output_type": "stream",
          "text": [
            "Epoch 69 ➜ train 96.5% | val 96.9% (loss 0.477) | lr 3.17e-04\n"
          ]
        },
        {
          "data": {
            "application/vnd.jupyter.widget-view+json": {
              "model_id": "17fde54daeff4dbe99fbe777a41591cf",
              "version_major": 2,
              "version_minor": 0
            },
            "text/plain": [
              "Epoch 70:   0%|          | 0/1326 [00:00<?, ?it/s]"
            ]
          },
          "metadata": {},
          "output_type": "display_data"
        },
        {
          "name": "stdout",
          "output_type": "stream",
          "text": [
            "Epoch 70 ➜ train 96.5% | val 97.0% (loss 0.472) | lr 3.12e-04\n",
            "** Saved new best RetNet model ** @ 97.0%\n"
          ]
        },
        {
          "data": {
            "application/vnd.jupyter.widget-view+json": {
              "model_id": "e084a8901cd14b3aba800d62644cab05",
              "version_major": 2,
              "version_minor": 0
            },
            "text/plain": [
              "Epoch 71:   0%|          | 0/1326 [00:00<?, ?it/s]"
            ]
          },
          "metadata": {},
          "output_type": "display_data"
        },
        {
          "name": "stdout",
          "output_type": "stream",
          "text": [
            "Epoch 71 ➜ train 96.5% | val 96.8% (loss 0.478) | lr 3.06e-04\n"
          ]
        },
        {
          "data": {
            "application/vnd.jupyter.widget-view+json": {
              "model_id": "9efed67f815242d2a66c737b1ff35b5d",
              "version_major": 2,
              "version_minor": 0
            },
            "text/plain": [
              "Epoch 72:   0%|          | 0/1326 [00:00<?, ?it/s]"
            ]
          },
          "metadata": {},
          "output_type": "display_data"
        },
        {
          "name": "stdout",
          "output_type": "stream",
          "text": [
            "Epoch 72 ➜ train 96.6% | val 96.9% (loss 0.473) | lr 3.01e-04\n"
          ]
        },
        {
          "data": {
            "application/vnd.jupyter.widget-view+json": {
              "model_id": "bb858186692443f1b3e9b7bc1089664b",
              "version_major": 2,
              "version_minor": 0
            },
            "text/plain": [
              "Epoch 73:   0%|          | 0/1326 [00:00<?, ?it/s]"
            ]
          },
          "metadata": {},
          "output_type": "display_data"
        },
        {
          "name": "stdout",
          "output_type": "stream",
          "text": [
            "Epoch 73 ➜ train 96.6% | val 96.5% (loss 0.486) | lr 2.95e-04\n"
          ]
        },
        {
          "data": {
            "application/vnd.jupyter.widget-view+json": {
              "model_id": "0153b6ed725c4012b4c41c0fe214d8f1",
              "version_major": 2,
              "version_minor": 0
            },
            "text/plain": [
              "Epoch 74:   0%|          | 0/1326 [00:00<?, ?it/s]"
            ]
          },
          "metadata": {},
          "output_type": "display_data"
        },
        {
          "name": "stdout",
          "output_type": "stream",
          "text": [
            "Epoch 74 ➜ train 96.5% | val 96.8% (loss 0.475) | lr 2.90e-04\n"
          ]
        },
        {
          "data": {
            "application/vnd.jupyter.widget-view+json": {
              "model_id": "f4b04e804b164ce0a0653ede1295092e",
              "version_major": 2,
              "version_minor": 0
            },
            "text/plain": [
              "Epoch 75:   0%|          | 0/1326 [00:00<?, ?it/s]"
            ]
          },
          "metadata": {},
          "output_type": "display_data"
        },
        {
          "name": "stdout",
          "output_type": "stream",
          "text": [
            "Epoch 75 ➜ train 96.7% | val 97.0% (loss 0.476) | lr 2.84e-04\n"
          ]
        },
        {
          "data": {
            "application/vnd.jupyter.widget-view+json": {
              "model_id": "42ae00b350924888937b132b951e132d",
              "version_major": 2,
              "version_minor": 0
            },
            "text/plain": [
              "Epoch 76:   0%|          | 0/1326 [00:00<?, ?it/s]"
            ]
          },
          "metadata": {},
          "output_type": "display_data"
        },
        {
          "name": "stdout",
          "output_type": "stream",
          "text": [
            "Epoch 76 ➜ train 96.7% | val 96.9% (loss 0.477) | lr 2.78e-04\n"
          ]
        },
        {
          "data": {
            "application/vnd.jupyter.widget-view+json": {
              "model_id": "193d9bd0e66043b3ae1a7ba087c12522",
              "version_major": 2,
              "version_minor": 0
            },
            "text/plain": [
              "Epoch 77:   0%|          | 0/1326 [00:00<?, ?it/s]"
            ]
          },
          "metadata": {},
          "output_type": "display_data"
        },
        {
          "name": "stdout",
          "output_type": "stream",
          "text": [
            "Epoch 77 ➜ train 96.8% | val 96.8% (loss 0.477) | lr 2.73e-04\n"
          ]
        },
        {
          "data": {
            "application/vnd.jupyter.widget-view+json": {
              "model_id": "db7308ad66f84e7887de5bce6663c2f5",
              "version_major": 2,
              "version_minor": 0
            },
            "text/plain": [
              "Epoch 78:   0%|          | 0/1326 [00:00<?, ?it/s]"
            ]
          },
          "metadata": {},
          "output_type": "display_data"
        },
        {
          "name": "stdout",
          "output_type": "stream",
          "text": [
            "Epoch 78 ➜ train 96.8% | val 97.1% (loss 0.472) | lr 2.67e-04\n",
            "** Saved new best RetNet model ** @ 97.1%\n"
          ]
        },
        {
          "data": {
            "application/vnd.jupyter.widget-view+json": {
              "model_id": "f1e834df3f6443c2a146dcdb7a8ff11c",
              "version_major": 2,
              "version_minor": 0
            },
            "text/plain": [
              "Epoch 79:   0%|          | 0/1326 [00:00<?, ?it/s]"
            ]
          },
          "metadata": {},
          "output_type": "display_data"
        },
        {
          "name": "stdout",
          "output_type": "stream",
          "text": [
            "Epoch 79 ➜ train 96.8% | val 97.0% (loss 0.476) | lr 2.61e-04\n"
          ]
        },
        {
          "data": {
            "application/vnd.jupyter.widget-view+json": {
              "model_id": "b3095761bcb14301a61c8352e4d15721",
              "version_major": 2,
              "version_minor": 0
            },
            "text/plain": [
              "Epoch 80:   0%|          | 0/1326 [00:00<?, ?it/s]"
            ]
          },
          "metadata": {},
          "output_type": "display_data"
        },
        {
          "name": "stdout",
          "output_type": "stream",
          "text": [
            "Epoch 80 ➜ train 96.9% | val 96.9% (loss 0.474) | lr 2.56e-04\n"
          ]
        },
        {
          "data": {
            "application/vnd.jupyter.widget-view+json": {
              "model_id": "8a2fa65341994f50891ae3ac7a04082c",
              "version_major": 2,
              "version_minor": 0
            },
            "text/plain": [
              "Epoch 81:   0%|          | 0/1326 [00:00<?, ?it/s]"
            ]
          },
          "metadata": {},
          "output_type": "display_data"
        },
        {
          "name": "stdout",
          "output_type": "stream",
          "text": [
            "Epoch 81 ➜ train 97.0% | val 97.0% (loss 0.470) | lr 2.50e-04\n"
          ]
        },
        {
          "data": {
            "application/vnd.jupyter.widget-view+json": {
              "model_id": "5ebe77ab766c4d799b6decfe0cf4bbac",
              "version_major": 2,
              "version_minor": 0
            },
            "text/plain": [
              "Epoch 82:   0%|          | 0/1326 [00:00<?, ?it/s]"
            ]
          },
          "metadata": {},
          "output_type": "display_data"
        },
        {
          "name": "stdout",
          "output_type": "stream",
          "text": [
            "Epoch 82 ➜ train 96.9% | val 97.2% (loss 0.467) | lr 2.44e-04\n",
            "** Saved new best RetNet model ** @ 97.2%\n"
          ]
        },
        {
          "data": {
            "application/vnd.jupyter.widget-view+json": {
              "model_id": "2bc4559953fc4b9f88f6b83f1237503e",
              "version_major": 2,
              "version_minor": 0
            },
            "text/plain": [
              "Epoch 83:   0%|          | 0/1326 [00:00<?, ?it/s]"
            ]
          },
          "metadata": {},
          "output_type": "display_data"
        },
        {
          "name": "stdout",
          "output_type": "stream",
          "text": [
            "Epoch 83 ➜ train 97.1% | val 97.0% (loss 0.476) | lr 2.39e-04\n"
          ]
        },
        {
          "data": {
            "application/vnd.jupyter.widget-view+json": {
              "model_id": "8888630343dc410c9f8b135aeb5eed24",
              "version_major": 2,
              "version_minor": 0
            },
            "text/plain": [
              "Epoch 84:   0%|          | 0/1326 [00:00<?, ?it/s]"
            ]
          },
          "metadata": {},
          "output_type": "display_data"
        },
        {
          "name": "stdout",
          "output_type": "stream",
          "text": [
            "Epoch 84 ➜ train 97.1% | val 97.0% (loss 0.476) | lr 2.33e-04\n"
          ]
        },
        {
          "data": {
            "application/vnd.jupyter.widget-view+json": {
              "model_id": "9271876108c4485789b5f21de499c54f",
              "version_major": 2,
              "version_minor": 0
            },
            "text/plain": [
              "Epoch 85:   0%|          | 0/1326 [00:00<?, ?it/s]"
            ]
          },
          "metadata": {},
          "output_type": "display_data"
        },
        {
          "name": "stdout",
          "output_type": "stream",
          "text": [
            "Epoch 85 ➜ train 97.2% | val 97.0% (loss 0.473) | lr 2.27e-04\n"
          ]
        },
        {
          "data": {
            "application/vnd.jupyter.widget-view+json": {
              "model_id": "6a9d3d2b390c4415b5c553225d560f28",
              "version_major": 2,
              "version_minor": 0
            },
            "text/plain": [
              "Epoch 86:   0%|          | 0/1326 [00:00<?, ?it/s]"
            ]
          },
          "metadata": {},
          "output_type": "display_data"
        },
        {
          "name": "stdout",
          "output_type": "stream",
          "text": [
            "Epoch 86 ➜ train 97.1% | val 97.1% (loss 0.472) | lr 2.22e-04\n"
          ]
        },
        {
          "data": {
            "application/vnd.jupyter.widget-view+json": {
              "model_id": "4fbc13dce08e439695dd298bf7010ac7",
              "version_major": 2,
              "version_minor": 0
            },
            "text/plain": [
              "Epoch 87:   0%|          | 0/1326 [00:00<?, ?it/s]"
            ]
          },
          "metadata": {},
          "output_type": "display_data"
        },
        {
          "name": "stdout",
          "output_type": "stream",
          "text": [
            "Epoch 87 ➜ train 97.2% | val 96.8% (loss 0.484) | lr 2.16e-04\n"
          ]
        },
        {
          "data": {
            "application/vnd.jupyter.widget-view+json": {
              "model_id": "e1fb648040fa4353b9fa55da2cfea438",
              "version_major": 2,
              "version_minor": 0
            },
            "text/plain": [
              "Epoch 88:   0%|          | 0/1326 [00:00<?, ?it/s]"
            ]
          },
          "metadata": {},
          "output_type": "display_data"
        },
        {
          "name": "stdout",
          "output_type": "stream",
          "text": [
            "Epoch 88 ➜ train 97.2% | val 96.9% (loss 0.478) | lr 2.10e-04\n"
          ]
        },
        {
          "data": {
            "application/vnd.jupyter.widget-view+json": {
              "model_id": "64a4fdd831114be5951726c2ddfa8ac1",
              "version_major": 2,
              "version_minor": 0
            },
            "text/plain": [
              "Epoch 89:   0%|          | 0/1326 [00:00<?, ?it/s]"
            ]
          },
          "metadata": {},
          "output_type": "display_data"
        },
        {
          "name": "stdout",
          "output_type": "stream",
          "text": [
            "Epoch 89 ➜ train 97.3% | val 97.0% (loss 0.473) | lr 2.05e-04\n"
          ]
        },
        {
          "data": {
            "application/vnd.jupyter.widget-view+json": {
              "model_id": "c73f8f9559e540d3b5de9d54836323cd",
              "version_major": 2,
              "version_minor": 0
            },
            "text/plain": [
              "Epoch 90:   0%|          | 0/1326 [00:00<?, ?it/s]"
            ]
          },
          "metadata": {},
          "output_type": "display_data"
        },
        {
          "name": "stdout",
          "output_type": "stream",
          "text": [
            "Epoch 90 ➜ train 97.3% | val 97.2% (loss 0.470) | lr 1.99e-04\n"
          ]
        },
        {
          "data": {
            "application/vnd.jupyter.widget-view+json": {
              "model_id": "eb40e6d17e244ff0985c0faeb75e4299",
              "version_major": 2,
              "version_minor": 0
            },
            "text/plain": [
              "Epoch 91:   0%|          | 0/1326 [00:00<?, ?it/s]"
            ]
          },
          "metadata": {},
          "output_type": "display_data"
        },
        {
          "name": "stdout",
          "output_type": "stream",
          "text": [
            "Epoch 91 ➜ train 97.3% | val 97.0% (loss 0.476) | lr 1.94e-04\n"
          ]
        },
        {
          "data": {
            "application/vnd.jupyter.widget-view+json": {
              "model_id": "70766e88cc534a049e555e08474a1d20",
              "version_major": 2,
              "version_minor": 0
            },
            "text/plain": [
              "Epoch 92:   0%|          | 0/1326 [00:00<?, ?it/s]"
            ]
          },
          "metadata": {},
          "output_type": "display_data"
        },
        {
          "name": "stdout",
          "output_type": "stream",
          "text": [
            "Epoch 92 ➜ train 97.4% | val 97.0% (loss 0.474) | lr 1.88e-04\n"
          ]
        },
        {
          "data": {
            "application/vnd.jupyter.widget-view+json": {
              "model_id": "0ba1c22e3b0a4be09f5c432c1ac60cab",
              "version_major": 2,
              "version_minor": 0
            },
            "text/plain": [
              "Epoch 93:   0%|          | 0/1326 [00:00<?, ?it/s]"
            ]
          },
          "metadata": {},
          "output_type": "display_data"
        },
        {
          "name": "stdout",
          "output_type": "stream",
          "text": [
            "Epoch 93 ➜ train 97.4% | val 97.0% (loss 0.477) | lr 1.83e-04\n"
          ]
        },
        {
          "data": {
            "application/vnd.jupyter.widget-view+json": {
              "model_id": "9792be5f91ed4bce91d43ccae345e8ff",
              "version_major": 2,
              "version_minor": 0
            },
            "text/plain": [
              "Epoch 94:   0%|          | 0/1326 [00:00<?, ?it/s]"
            ]
          },
          "metadata": {},
          "output_type": "display_data"
        },
        {
          "name": "stdout",
          "output_type": "stream",
          "text": [
            "Epoch 94 ➜ train 97.4% | val 97.1% (loss 0.473) | lr 1.77e-04\n"
          ]
        },
        {
          "data": {
            "application/vnd.jupyter.widget-view+json": {
              "model_id": "7dcbb7565d89487b828753b50531bc73",
              "version_major": 2,
              "version_minor": 0
            },
            "text/plain": [
              "Epoch 95:   0%|          | 0/1326 [00:00<?, ?it/s]"
            ]
          },
          "metadata": {},
          "output_type": "display_data"
        },
        {
          "name": "stdout",
          "output_type": "stream",
          "text": [
            "Epoch 95 ➜ train 97.5% | val 97.0% (loss 0.478) | lr 1.72e-04\n"
          ]
        },
        {
          "data": {
            "application/vnd.jupyter.widget-view+json": {
              "model_id": "8e28cde61a2e41c3bed7f136c4115937",
              "version_major": 2,
              "version_minor": 0
            },
            "text/plain": [
              "Epoch 96:   0%|          | 0/1326 [00:00<?, ?it/s]"
            ]
          },
          "metadata": {},
          "output_type": "display_data"
        },
        {
          "name": "stdout",
          "output_type": "stream",
          "text": [
            "Epoch 96 ➜ train 97.4% | val 97.0% (loss 0.476) | lr 1.66e-04\n"
          ]
        },
        {
          "data": {
            "application/vnd.jupyter.widget-view+json": {
              "model_id": "bfd0c787e7344abeabde35d891ed53f0",
              "version_major": 2,
              "version_minor": 0
            },
            "text/plain": [
              "Epoch 97:   0%|          | 0/1326 [00:00<?, ?it/s]"
            ]
          },
          "metadata": {},
          "output_type": "display_data"
        },
        {
          "name": "stdout",
          "output_type": "stream",
          "text": [
            "Epoch 97 ➜ train 97.5% | val 97.0% (loss 0.478) | lr 1.61e-04\n"
          ]
        },
        {
          "data": {
            "application/vnd.jupyter.widget-view+json": {
              "model_id": "895e93018dae4ddab74c34460165ec2f",
              "version_major": 2,
              "version_minor": 0
            },
            "text/plain": [
              "Epoch 98:   0%|          | 0/1326 [00:00<?, ?it/s]"
            ]
          },
          "metadata": {},
          "output_type": "display_data"
        },
        {
          "name": "stdout",
          "output_type": "stream",
          "text": [
            "Epoch 98 ➜ train 97.5% | val 97.0% (loss 0.480) | lr 1.56e-04\n"
          ]
        },
        {
          "data": {
            "application/vnd.jupyter.widget-view+json": {
              "model_id": "fbcc8414eac9456a9dcaafec59ea4517",
              "version_major": 2,
              "version_minor": 0
            },
            "text/plain": [
              "Epoch 99:   0%|          | 0/1326 [00:00<?, ?it/s]"
            ]
          },
          "metadata": {},
          "output_type": "display_data"
        },
        {
          "name": "stdout",
          "output_type": "stream",
          "text": [
            "Epoch 99 ➜ train 97.6% | val 97.0% (loss 0.478) | lr 1.50e-04\n"
          ]
        },
        {
          "data": {
            "application/vnd.jupyter.widget-view+json": {
              "model_id": "eb5b16fb77224847ba6feff6f79bcc05",
              "version_major": 2,
              "version_minor": 0
            },
            "text/plain": [
              "Epoch 100:   0%|          | 0/1326 [00:00<?, ?it/s]"
            ]
          },
          "metadata": {},
          "output_type": "display_data"
        },
        {
          "name": "stdout",
          "output_type": "stream",
          "text": [
            "Epoch 100 ➜ train 97.6% | val 97.0% (loss 0.479) | lr 1.45e-04\n"
          ]
        }
      ],
      "source": [
        "# ---------------------------------------------------------------------\n",
        "# 6. Main script\n",
        "# ---------------------------------------------------------------------\n",
        "if __name__ == \"__main__\":\n",
        "    device = torch.device(\"cuda\" if torch.cuda.is_available() else \"cpu\")\n",
        "    use_amp = (device.type == \"cuda\")\n",
        "\n",
        "    # dataset\n",
        "    ds = load_dataset(\"google/speech_commands\", \"v0.02\")\n",
        "    n_classes = len(ds[\"train\"].features[\"label\"].names)\n",
        "\n",
        "    # log-mel + SpecAugment (train only)\n",
        "    feature_type = \"mel\"        # \"mel\"/\"mfcc\"\n",
        "    Epochs = 100\n",
        "    base_lr = 5e-4\n",
        "    warmup_frac = 0.12\n",
        "\n",
        "    frontend_train = WaveToSpec(\n",
        "        feature_type=feature_type,\n",
        "        n_mfcc=40, n_mels=128,\n",
        "        apply_mask=True,         # SpecAugment on train\n",
        "        freq_mask_param=12,\n",
        "        time_mask_param=20\n",
        "    )\n",
        "    frontend_eval = WaveToSpec(\n",
        "        feature_type=feature_type,\n",
        "        n_mfcc=40, n_mels=128,\n",
        "        apply_mask=False\n",
        "    )\n",
        "\n",
        "    frontend_stats = WaveToSpec(feature_type=feature_type, n_mfcc=40, n_mels=128, apply_mask=False)\n",
        "\n",
        "    # Waveform augs shift + a bit of noise\n",
        "    aug = Augment(shift_ms=120, noise=(0., 0.007))\n",
        "\n",
        "    # Normalization stats\n",
        "    train_mean, train_std = compute_dataset_stats(ds[\"train\"], frontend_stats)\n",
        "\n",
        "    # Datasets\n",
        "    train_ds = SpeechCommands(ds[\"train\"], aug, frontend_train, mean=train_mean, std=train_std)\n",
        "    val_ds   = SpeechCommands(ds[\"validation\"], None, frontend_eval, mean=train_mean, std=train_std)\n",
        "    test_ds  = SpeechCommands(ds[\"test\"], None, frontend_eval, mean=train_mean, std=train_std)\n",
        "\n",
        "    # Loaders\n",
        "    dl_kwargs = dict(\n",
        "        batch_size=64,\n",
        "        num_workers=2,\n",
        "        pin_memory=True,\n",
        "        persistent_workers=True,\n",
        "        collate_fn=collate_fn\n",
        "    )\n",
        "    train_dl = DataLoader(train_ds, shuffle=True, **dl_kwargs)\n",
        "    val_dl   = DataLoader(val_ds, shuffle=False, **dl_kwargs)\n",
        "\n",
        "    # Model\n",
        "    model = RetNetKWS(n_classes, d_model=128, n_layers=6, n_heads=8).to(device)\n",
        "\n",
        "    # Loss/opt/sched (per-batch schedule; short warmup; cosine with floor)\n",
        "    criterion = nn.CrossEntropyLoss(label_smoothing=0.05)\n",
        "    opt = torch.optim.AdamW(model.parameters(), lr=base_lr, weight_decay=1.8e-4, betas=(0.9, 0.999))\n",
        "\n",
        "    steps_per_epoch = len(train_dl)\n",
        "    true_steps      = steps_per_epoch * Epochs\n",
        "    total_steps     = steps_per_epoch * int(Epochs * 1.5)  # longer cosine tail\n",
        "    warmup_steps    = int(true_steps * warmup_frac)\n",
        "\n",
        "    sched = torch.optim.lr_scheduler.LambdaLR(opt, lr_lambda)\n",
        "\n",
        "    # Plateau after warmup\n",
        "    plateau = torch.optim.lr_scheduler.ReduceLROnPlateau(\n",
        "        opt, mode=\"min\", factor=0.5, patience=3, threshold=1e-3, cooldown=0, min_lr=1e-6, verbose=True\n",
        "    )\n",
        "\n",
        "    best_val_acc = 0.0\n",
        "    prev_val_acc = 0.0\n",
        "    BEST_PATH = Path(\"/content/best_kws_retnet.pt\")\n",
        "    BEST_PATH.parent.mkdir(parents=True, exist_ok=True)\n",
        "\n",
        "    scaler = torch.cuda.amp.GradScaler(enabled=use_amp)\n",
        "    global_step = 0\n",
        "\n",
        "    for epoch in range(1, Epochs + 1):\n",
        "        model.train()\n",
        "        running_loss = correct = total = 0.0\n",
        "\n",
        "        pbar = tqdm(train_dl, desc=f\"Epoch {epoch:02d}\")\n",
        "        for xb, yb, lb in pbar:\n",
        "            xb = xb.to(device, non_blocking=True)\n",
        "            yb = yb.to(device, non_blocking=True)\n",
        "            lb = lb.to(device, non_blocking=True)\n",
        "\n",
        "            with torch.amp.autocast(device_type=device.type, enabled=use_amp):\n",
        "                if torch.isnan(xb).any():\n",
        "                    xb = torch.nan_to_num(xb, nan=0.0)\n",
        "\n",
        "                logits = model(xb, lengths=lb)\n",
        "                loss = criterion(logits, yb)\n",
        "\n",
        "                if not torch.isfinite(loss):\n",
        "                    continue\n",
        "\n",
        "            opt.zero_grad(set_to_none=True)\n",
        "            scaler.scale(loss).backward()\n",
        "            scaler.unscale_(opt)\n",
        "            torch.nn.utils.clip_grad_norm_(model.parameters(), max_norm=0.15)\n",
        "            scaler.step(opt)\n",
        "            scaler.update()\n",
        "            sched.step()  # per-batch warmup+cosine\n",
        "            global_step += 1\n",
        "\n",
        "            pred = logits.argmax(1)\n",
        "            correct += (pred == yb).sum().item()\n",
        "            total += yb.size(0)\n",
        "            running_loss += loss.item() * yb.size(0)\n",
        "\n",
        "            pbar.set_postfix(\n",
        "                train_loss=f\"{running_loss / max(1,total):.3f}\",\n",
        "                train_acc=f\"{100 * correct / max(1,total):.1f}%\",\n",
        "                lr=f\"{opt.param_groups[0]['lr']:.2e}\"\n",
        "            )\n",
        "\n",
        "        tr_acc = 100.0 * correct / max(1, total)\n",
        "        val_loss, val_acc = evaluate(model, val_dl, device, criterion)\n",
        "        print(f\"Epoch {epoch:02d} ➜ train {tr_acc:.1f}% | val {val_acc:.1f}% (loss {val_loss:.3f}) | lr {opt.param_groups[0]['lr']:.2e}\")\n",
        "\n",
        "        # After warmup, allow Plateau to adjust LR (epoch-level)\n",
        "        if global_step >= warmup_steps:\n",
        "            plateau.step(val_loss)\n",
        "\n",
        "        # collapse guard\n",
        "        if epoch > 1 and prev_val_acc > 50.0 and val_acc < 0.5 * prev_val_acc:\n",
        "            print(f\"WARNING: accuracy collapse ({prev_val_acc:.2f}% → {val_acc:.2f}%). Restoring best and reducing LR ×5.\")\n",
        "            if BEST_PATH.exists():\n",
        "                model.load_state_dict(torch.load(BEST_PATH, map_location=device))\n",
        "            for g in opt.param_groups:\n",
        "                g['lr'] = max(g['lr'] / 5.0, 1e-6)\n",
        "            print(f\"New LR: {opt.param_groups[0]['lr']:.2e}\")\n",
        "\n",
        "        # best checkpoint (accuracy)\n",
        "        if val_acc > best_val_acc:\n",
        "            best_val_acc = val_acc\n",
        "            torch.save(model.state_dict(), BEST_PATH)\n",
        "            print(f\"** Saved new best RetNet model ** @ {best_val_acc:.1f}%\")\n",
        "\n",
        "        prev_val_acc = val_acc\n",
        "\n"
      ]
    },
    {
      "cell_type": "code",
      "execution_count": null,
      "metadata": {
        "colab": {
          "base_uri": "https://localhost:8080/"
        },
        "id": "fhH-Ins2tq4u",
        "outputId": "fbc5c71b-312c-4455-9c55-deae14f176b3"
      },
      "outputs": [
        {
          "name": "stdout",
          "output_type": "stream",
          "text": [
            "Saved LAST model to Drive\n",
            "Copied BEST model (val_acc=97.24%) to Drive: /content/drive/MyDrive/kws_models/best_kws_retnet-small.pt\n"
          ]
        }
      ],
      "source": [
        "# --- Save LAST params locally + Drive ---\n",
        "torch.save(model.state_dict(), \"/content/last_kws_retnet.pt\")\n",
        "\n",
        "CKPT_DIR = \"/content/drive/MyDrive/kws_models\"\n",
        "os.makedirs(CKPT_DIR, exist_ok=True)\n",
        "torch.save(model.state_dict(), f\"{CKPT_DIR}/last_kws_retnet.pt\")\n",
        "print(\"Saved LAST model to Drive\")\n",
        "\n",
        "# --- Copy BEST (by val_acc) to Drive if it exists ---\n",
        "best_local = \"/content/best_kws_retnet.pt\"\n",
        "if os.path.exists(best_local):\n",
        "    import shutil\n",
        "    dst = f\"{CKPT_DIR}/best_kws_retnet-small.pt\"\n",
        "    shutil.copy2(best_local, dst)          # copies the already-saved BEST\n",
        "    print(f\"Copied BEST model (val_acc={best_val_acc:.2f}%) to Drive: {dst}\")\n",
        "else:\n",
        "    print(\"WARNING: no best checkpoint was found to copy.\")"
      ]
    }
  ],
  "metadata": {
    "accelerator": "GPU",
    "colab": {
      "gpuType": "L4",
      "provenance": []
    },
    "kernelspec": {
      "display_name": "Python 3",
      "name": "python3"
    },
    "language_info": {
      "name": "python"
    }
  },
  "nbformat": 4,
  "nbformat_minor": 0
}
