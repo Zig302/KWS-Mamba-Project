{
  "nbformat": 4,
  "nbformat_minor": 0,
  "metadata": {
    "colab": {
      "provenance": [],
      "gpuType": "A100"
    },
    "kernelspec": {
      "name": "python3",
      "display_name": "Python 3"
    },
    "language_info": {
      "name": "python"
    },
    "accelerator": "GPU"
  },
  "cells": [
    {
      "cell_type": "code",
      "source": [
        "!pip install datasets==2.16.0\n",
        "!pip install huggingface-hub==0.20.0\n",
        "!apt-get install -y libsox-dev\n",
        "!pip install torch==2.4.0 torchvision==0.19.0 torchaudio==2.4.0 --index-url https://download.pytorch.org/whl/cu121"
      ],
      "metadata": {
        "collapsed": true,
        "id": "TinODpAPC_zb",
        "colab": {
          "base_uri": "https://localhost:8080/"
        },
        "outputId": "46ad9f32-6781-411b-a913-25a86ad9a5c5"
      },
      "execution_count": null,
      "outputs": [
        {
          "output_type": "stream",
          "name": "stdout",
          "text": [
            "Collecting datasets==2.16.0\n",
            "  Downloading datasets-2.16.0-py3-none-any.whl.metadata (20 kB)\n",
            "Requirement already satisfied: filelock in /usr/local/lib/python3.12/dist-packages (from datasets==2.16.0) (3.19.1)\n",
            "Requirement already satisfied: numpy>=1.17 in /usr/local/lib/python3.12/dist-packages (from datasets==2.16.0) (2.0.2)\n",
            "Requirement already satisfied: pyarrow>=8.0.0 in /usr/local/lib/python3.12/dist-packages (from datasets==2.16.0) (18.1.0)\n",
            "Collecting pyarrow-hotfix (from datasets==2.16.0)\n",
            "  Downloading pyarrow_hotfix-0.7-py3-none-any.whl.metadata (3.6 kB)\n",
            "Collecting dill<0.3.8,>=0.3.0 (from datasets==2.16.0)\n",
            "  Downloading dill-0.3.7-py3-none-any.whl.metadata (9.9 kB)\n",
            "Requirement already satisfied: pandas in /usr/local/lib/python3.12/dist-packages (from datasets==2.16.0) (2.2.2)\n",
            "Requirement already satisfied: requests>=2.19.0 in /usr/local/lib/python3.12/dist-packages (from datasets==2.16.0) (2.32.4)\n",
            "Requirement already satisfied: tqdm>=4.62.1 in /usr/local/lib/python3.12/dist-packages (from datasets==2.16.0) (4.67.1)\n",
            "Requirement already satisfied: xxhash in /usr/local/lib/python3.12/dist-packages (from datasets==2.16.0) (3.5.0)\n",
            "Requirement already satisfied: multiprocess in /usr/local/lib/python3.12/dist-packages (from datasets==2.16.0) (0.70.16)\n",
            "Collecting fsspec<=2023.10.0,>=2023.1.0 (from fsspec[http]<=2023.10.0,>=2023.1.0->datasets==2.16.0)\n",
            "  Downloading fsspec-2023.10.0-py3-none-any.whl.metadata (6.8 kB)\n",
            "Requirement already satisfied: aiohttp in /usr/local/lib/python3.12/dist-packages (from datasets==2.16.0) (3.12.15)\n",
            "Requirement already satisfied: huggingface-hub>=0.19.4 in /usr/local/lib/python3.12/dist-packages (from datasets==2.16.0) (0.34.4)\n",
            "Requirement already satisfied: packaging in /usr/local/lib/python3.12/dist-packages (from datasets==2.16.0) (25.0)\n",
            "Requirement already satisfied: pyyaml>=5.1 in /usr/local/lib/python3.12/dist-packages (from datasets==2.16.0) (6.0.2)\n",
            "Requirement already satisfied: aiohappyeyeballs>=2.5.0 in /usr/local/lib/python3.12/dist-packages (from aiohttp->datasets==2.16.0) (2.6.1)\n",
            "Requirement already satisfied: aiosignal>=1.4.0 in /usr/local/lib/python3.12/dist-packages (from aiohttp->datasets==2.16.0) (1.4.0)\n",
            "Requirement already satisfied: attrs>=17.3.0 in /usr/local/lib/python3.12/dist-packages (from aiohttp->datasets==2.16.0) (25.3.0)\n",
            "Requirement already satisfied: frozenlist>=1.1.1 in /usr/local/lib/python3.12/dist-packages (from aiohttp->datasets==2.16.0) (1.7.0)\n",
            "Requirement already satisfied: multidict<7.0,>=4.5 in /usr/local/lib/python3.12/dist-packages (from aiohttp->datasets==2.16.0) (6.6.4)\n",
            "Requirement already satisfied: propcache>=0.2.0 in /usr/local/lib/python3.12/dist-packages (from aiohttp->datasets==2.16.0) (0.3.2)\n",
            "Requirement already satisfied: yarl<2.0,>=1.17.0 in /usr/local/lib/python3.12/dist-packages (from aiohttp->datasets==2.16.0) (1.20.1)\n",
            "Requirement already satisfied: typing-extensions>=3.7.4.3 in /usr/local/lib/python3.12/dist-packages (from huggingface-hub>=0.19.4->datasets==2.16.0) (4.15.0)\n",
            "Requirement already satisfied: hf-xet<2.0.0,>=1.1.3 in /usr/local/lib/python3.12/dist-packages (from huggingface-hub>=0.19.4->datasets==2.16.0) (1.1.8)\n",
            "Requirement already satisfied: charset_normalizer<4,>=2 in /usr/local/lib/python3.12/dist-packages (from requests>=2.19.0->datasets==2.16.0) (3.4.3)\n",
            "Requirement already satisfied: idna<4,>=2.5 in /usr/local/lib/python3.12/dist-packages (from requests>=2.19.0->datasets==2.16.0) (3.10)\n",
            "Requirement already satisfied: urllib3<3,>=1.21.1 in /usr/local/lib/python3.12/dist-packages (from requests>=2.19.0->datasets==2.16.0) (2.5.0)\n",
            "Requirement already satisfied: certifi>=2017.4.17 in /usr/local/lib/python3.12/dist-packages (from requests>=2.19.0->datasets==2.16.0) (2025.8.3)\n",
            "INFO: pip is looking at multiple versions of multiprocess to determine which version is compatible with other requirements. This could take a while.\n",
            "Collecting multiprocess (from datasets==2.16.0)\n",
            "  Downloading multiprocess-0.70.18-py312-none-any.whl.metadata (7.5 kB)\n",
            "  Downloading multiprocess-0.70.17-py312-none-any.whl.metadata (7.2 kB)\n",
            "  Downloading multiprocess-0.70.15-py311-none-any.whl.metadata (7.2 kB)\n",
            "Requirement already satisfied: python-dateutil>=2.8.2 in /usr/local/lib/python3.12/dist-packages (from pandas->datasets==2.16.0) (2.9.0.post0)\n",
            "Requirement already satisfied: pytz>=2020.1 in /usr/local/lib/python3.12/dist-packages (from pandas->datasets==2.16.0) (2025.2)\n",
            "Requirement already satisfied: tzdata>=2022.7 in /usr/local/lib/python3.12/dist-packages (from pandas->datasets==2.16.0) (2025.2)\n",
            "Requirement already satisfied: six>=1.5 in /usr/local/lib/python3.12/dist-packages (from python-dateutil>=2.8.2->pandas->datasets==2.16.0) (1.17.0)\n",
            "Downloading datasets-2.16.0-py3-none-any.whl (507 kB)\n",
            "\u001b[2K   \u001b[90m\u2501\u2501\u2501\u2501\u2501\u2501\u2501\u2501\u2501\u2501\u2501\u2501\u2501\u2501\u2501\u2501\u2501\u2501\u2501\u2501\u2501\u2501\u2501\u2501\u2501\u2501\u2501\u2501\u2501\u2501\u2501\u2501\u2501\u2501\u2501\u2501\u2501\u2501\u2501\u2501\u001b[0m \u001b[32m507.1/507.1 kB\u001b[0m \u001b[31m11.6 MB/s\u001b[0m eta \u001b[36m0:00:00\u001b[0m\n",
            "\u001b[?25hDownloading dill-0.3.7-py3-none-any.whl (115 kB)\n",
            "\u001b[2K   \u001b[90m\u2501\u2501\u2501\u2501\u2501\u2501\u2501\u2501\u2501\u2501\u2501\u2501\u2501\u2501\u2501\u2501\u2501\u2501\u2501\u2501\u2501\u2501\u2501\u2501\u2501\u2501\u2501\u2501\u2501\u2501\u2501\u2501\u2501\u2501\u2501\u2501\u2501\u2501\u2501\u2501\u001b[0m \u001b[32m115.3/115.3 kB\u001b[0m \u001b[31m11.9 MB/s\u001b[0m eta \u001b[36m0:00:00\u001b[0m\n",
            "\u001b[?25hDownloading fsspec-2023.10.0-py3-none-any.whl (166 kB)\n",
            "\u001b[2K   \u001b[90m\u2501\u2501\u2501\u2501\u2501\u2501\u2501\u2501\u2501\u2501\u2501\u2501\u2501\u2501\u2501\u2501\u2501\u2501\u2501\u2501\u2501\u2501\u2501\u2501\u2501\u2501\u2501\u2501\u2501\u2501\u2501\u2501\u2501\u2501\u2501\u2501\u2501\u2501\u2501\u2501\u001b[0m \u001b[32m166.4/166.4 kB\u001b[0m \u001b[31m17.4 MB/s\u001b[0m eta \u001b[36m0:00:00\u001b[0m\n",
            "\u001b[?25hDownloading multiprocess-0.70.15-py311-none-any.whl (135 kB)\n",
            "\u001b[2K   \u001b[90m\u2501\u2501\u2501\u2501\u2501\u2501\u2501\u2501\u2501\u2501\u2501\u2501\u2501\u2501\u2501\u2501\u2501\u2501\u2501\u2501\u2501\u2501\u2501\u2501\u2501\u2501\u2501\u2501\u2501\u2501\u2501\u2501\u2501\u2501\u2501\u2501\u2501\u2501\u2501\u2501\u001b[0m \u001b[32m135.4/135.4 kB\u001b[0m \u001b[31m14.1 MB/s\u001b[0m eta \u001b[36m0:00:00\u001b[0m\n",
            "\u001b[?25hDownloading pyarrow_hotfix-0.7-py3-none-any.whl (7.9 kB)\n",
            "Installing collected packages: pyarrow-hotfix, fsspec, dill, multiprocess, datasets\n",
            "  Attempting uninstall: fsspec\n",
            "    Found existing installation: fsspec 2025.3.0\n",
            "    Uninstalling fsspec-2025.3.0:\n",
            "      Successfully uninstalled fsspec-2025.3.0\n",
            "  Attempting uninstall: dill\n",
            "    Found existing installation: dill 0.3.8\n",
            "    Uninstalling dill-0.3.8:\n",
            "      Successfully uninstalled dill-0.3.8\n",
            "  Attempting uninstall: multiprocess\n",
            "    Found existing installation: multiprocess 0.70.16\n",
            "    Uninstalling multiprocess-0.70.16:\n",
            "      Successfully uninstalled multiprocess-0.70.16\n",
            "  Attempting uninstall: datasets\n",
            "    Found existing installation: datasets 4.0.0\n",
            "    Uninstalling datasets-4.0.0:\n",
            "      Successfully uninstalled datasets-4.0.0\n",
            "\u001b[31mERROR: pip's dependency resolver does not currently take into account all the packages that are installed. This behaviour is the source of the following dependency conflicts.\n",
            "gcsfs 2025.3.0 requires fsspec==2025.3.0, but you have fsspec 2023.10.0 which is incompatible.\u001b[0m\u001b[31m\n",
            "\u001b[0mSuccessfully installed datasets-2.16.0 dill-0.3.7 fsspec-2023.10.0 multiprocess-0.70.15 pyarrow-hotfix-0.7\n",
            "Collecting huggingface-hub==0.20.0\n",
            "  Downloading huggingface_hub-0.20.0-py3-none-any.whl.metadata (12 kB)\n",
            "Requirement already satisfied: filelock in /usr/local/lib/python3.12/dist-packages (from huggingface-hub==0.20.0) (3.19.1)\n",
            "Requirement already satisfied: fsspec>=2023.5.0 in /usr/local/lib/python3.12/dist-packages (from huggingface-hub==0.20.0) (2023.10.0)\n",
            "Requirement already satisfied: requests in /usr/local/lib/python3.12/dist-packages (from huggingface-hub==0.20.0) (2.32.4)\n",
            "Requirement already satisfied: tqdm>=4.42.1 in /usr/local/lib/python3.12/dist-packages (from huggingface-hub==0.20.0) (4.67.1)\n",
            "Requirement already satisfied: pyyaml>=5.1 in /usr/local/lib/python3.12/dist-packages (from huggingface-hub==0.20.0) (6.0.2)\n",
            "Requirement already satisfied: typing-extensions>=3.7.4.3 in /usr/local/lib/python3.12/dist-packages (from huggingface-hub==0.20.0) (4.15.0)\n",
            "Requirement already satisfied: packaging>=20.9 in /usr/local/lib/python3.12/dist-packages (from huggingface-hub==0.20.0) (25.0)\n",
            "Requirement already satisfied: charset_normalizer<4,>=2 in /usr/local/lib/python3.12/dist-packages (from requests->huggingface-hub==0.20.0) (3.4.3)\n",
            "Requirement already satisfied: idna<4,>=2.5 in /usr/local/lib/python3.12/dist-packages (from requests->huggingface-hub==0.20.0) (3.10)\n",
            "Requirement already satisfied: urllib3<3,>=1.21.1 in /usr/local/lib/python3.12/dist-packages (from requests->huggingface-hub==0.20.0) (2.5.0)\n",
            "Requirement already satisfied: certifi>=2017.4.17 in /usr/local/lib/python3.12/dist-packages (from requests->huggingface-hub==0.20.0) (2025.8.3)\n",
            "Downloading huggingface_hub-0.20.0-py3-none-any.whl (329 kB)\n",
            "\u001b[2K   \u001b[90m\u2501\u2501\u2501\u2501\u2501\u2501\u2501\u2501\u2501\u2501\u2501\u2501\u2501\u2501\u2501\u2501\u2501\u2501\u2501\u2501\u2501\u2501\u2501\u2501\u2501\u2501\u2501\u2501\u2501\u2501\u2501\u2501\u2501\u2501\u2501\u2501\u2501\u2501\u2501\u2501\u001b[0m \u001b[32m329.1/329.1 kB\u001b[0m \u001b[31m7.3 MB/s\u001b[0m eta \u001b[36m0:00:00\u001b[0m\n",
            "\u001b[?25hInstalling collected packages: huggingface-hub\n",
            "  Attempting uninstall: huggingface-hub\n",
            "    Found existing installation: huggingface-hub 0.34.4\n",
            "    Uninstalling huggingface-hub-0.34.4:\n",
            "      Successfully uninstalled huggingface-hub-0.34.4\n",
            "\u001b[31mERROR: pip's dependency resolver does not currently take into account all the packages that are installed. This behaviour is the source of the following dependency conflicts.\n",
            "gradio 5.43.1 requires huggingface-hub<1.0,>=0.33.5, but you have huggingface-hub 0.20.0 which is incompatible.\n",
            "diffusers 0.35.1 requires huggingface-hub>=0.34.0, but you have huggingface-hub 0.20.0 which is incompatible.\n",
            "accelerate 1.10.1 requires huggingface_hub>=0.21.0, but you have huggingface-hub 0.20.0 which is incompatible.\n",
            "transformers 4.55.4 requires huggingface-hub<1.0,>=0.34.0, but you have huggingface-hub 0.20.0 which is incompatible.\n",
            "peft 0.17.1 requires huggingface_hub>=0.25.0, but you have huggingface-hub 0.20.0 which is incompatible.\u001b[0m\u001b[31m\n",
            "\u001b[0mSuccessfully installed huggingface-hub-0.20.0\n",
            "Reading package lists... Done\n",
            "Building dependency tree... Done\n",
            "Reading state information... Done\n",
            "The following additional packages will be installed:\n",
            "  libao-common libao4 libid3tag0 libmad0 libopencore-amrnb0 libopencore-amrwb0\n",
            "  libsox-fmt-all libsox-fmt-alsa libsox-fmt-ao libsox-fmt-base libsox-fmt-mp3\n",
            "  libsox-fmt-oss libsox-fmt-pulse libsox3 libwavpack1\n",
            "Suggested packages:\n",
            "  libaudio2 libsndio6.1\n",
            "The following NEW packages will be installed:\n",
            "  libao-common libao4 libid3tag0 libmad0 libopencore-amrnb0 libopencore-amrwb0\n",
            "  libsox-dev libsox-fmt-all libsox-fmt-alsa libsox-fmt-ao libsox-fmt-base\n",
            "  libsox-fmt-mp3 libsox-fmt-oss libsox-fmt-pulse libsox3 libwavpack1\n",
            "0 upgraded, 16 newly installed, 0 to remove and 35 not upgraded.\n",
            "Need to get 1,053 kB of archives.\n",
            "After this operation, 4,061 kB of additional disk space will be used.\n",
            "Get:1 http://archive.ubuntu.com/ubuntu jammy/main amd64 libao-common all 1.2.2+20180113-1.1ubuntu3 [6,568 B]\n",
            "Get:2 http://archive.ubuntu.com/ubuntu jammy/main amd64 libao4 amd64 1.2.2+20180113-1.1ubuntu3 [35.2 kB]\n",
            "Get:3 http://archive.ubuntu.com/ubuntu jammy/universe amd64 libid3tag0 amd64 0.15.1b-14 [31.3 kB]\n",
            "Get:4 http://archive.ubuntu.com/ubuntu jammy/universe amd64 libmad0 amd64 0.15.1b-10ubuntu1 [63.1 kB]\n",
            "Get:5 http://archive.ubuntu.com/ubuntu jammy/universe amd64 libopencore-amrnb0 amd64 0.1.5-1 [94.8 kB]\n",
            "Get:6 http://archive.ubuntu.com/ubuntu jammy/universe amd64 libopencore-amrwb0 amd64 0.1.5-1 [49.1 kB]\n",
            "Get:7 http://archive.ubuntu.com/ubuntu jammy-updates/universe amd64 libsox3 amd64 14.4.2+git20190427-2+deb11u2ubuntu0.22.04.1 [240 kB]\n",
            "Get:8 http://archive.ubuntu.com/ubuntu jammy-updates/universe amd64 libsox-fmt-alsa amd64 14.4.2+git20190427-2+deb11u2ubuntu0.22.04.1 [11.2 kB]\n",
            "Get:9 http://archive.ubuntu.com/ubuntu jammy-updates/universe amd64 libsox-fmt-ao amd64 14.4.2+git20190427-2+deb11u2ubuntu0.22.04.1 [7,740 B]\n",
            "Get:10 http://archive.ubuntu.com/ubuntu jammy/main amd64 libwavpack1 amd64 5.4.0-1build2 [83.7 kB]\n",
            "Get:11 http://archive.ubuntu.com/ubuntu jammy-updates/universe amd64 libsox-fmt-base amd64 14.4.2+git20190427-2+deb11u2ubuntu0.22.04.1 [33.7 kB]\n",
            "Get:12 http://archive.ubuntu.com/ubuntu jammy-updates/universe amd64 libsox-fmt-mp3 amd64 14.4.2+git20190427-2+deb11u2ubuntu0.22.04.1 [17.3 kB]\n",
            "Get:13 http://archive.ubuntu.com/ubuntu jammy-updates/universe amd64 libsox-fmt-oss amd64 14.4.2+git20190427-2+deb11u2ubuntu0.22.04.1 [9,424 B]\n",
            "Get:14 http://archive.ubuntu.com/ubuntu jammy-updates/universe amd64 libsox-fmt-pulse amd64 14.4.2+git20190427-2+deb11u2ubuntu0.22.04.1 [7,732 B]\n",
            "Get:15 http://archive.ubuntu.com/ubuntu jammy-updates/universe amd64 libsox-fmt-all amd64 14.4.2+git20190427-2+deb11u2ubuntu0.22.04.1 [5,016 B]\n",
            "Get:16 http://archive.ubuntu.com/ubuntu jammy-updates/universe amd64 libsox-dev amd64 14.4.2+git20190427-2+deb11u2ubuntu0.22.04.1 [356 kB]\n",
            "Fetched 1,053 kB in 0s (3,587 kB/s)\n",
            "Selecting previously unselected package libao-common.\n",
            "(Reading database ... 126371 files and directories currently installed.)\n",
            "Preparing to unpack .../00-libao-common_1.2.2+20180113-1.1ubuntu3_all.deb ...\n",
            "Unpacking libao-common (1.2.2+20180113-1.1ubuntu3) ...\n",
            "Selecting previously unselected package libao4:amd64.\n",
            "Preparing to unpack .../01-libao4_1.2.2+20180113-1.1ubuntu3_amd64.deb ...\n",
            "Unpacking libao4:amd64 (1.2.2+20180113-1.1ubuntu3) ...\n",
            "Selecting previously unselected package libid3tag0:amd64.\n",
            "Preparing to unpack .../02-libid3tag0_0.15.1b-14_amd64.deb ...\n",
            "Unpacking libid3tag0:amd64 (0.15.1b-14) ...\n",
            "Selecting previously unselected package libmad0:amd64.\n",
            "Preparing to unpack .../03-libmad0_0.15.1b-10ubuntu1_amd64.deb ...\n",
            "Unpacking libmad0:amd64 (0.15.1b-10ubuntu1) ...\n",
            "Selecting previously unselected package libopencore-amrnb0:amd64.\n",
            "Preparing to unpack .../04-libopencore-amrnb0_0.1.5-1_amd64.deb ...\n",
            "Unpacking libopencore-amrnb0:amd64 (0.1.5-1) ...\n",
            "Selecting previously unselected package libopencore-amrwb0:amd64.\n",
            "Preparing to unpack .../05-libopencore-amrwb0_0.1.5-1_amd64.deb ...\n",
            "Unpacking libopencore-amrwb0:amd64 (0.1.5-1) ...\n",
            "Selecting previously unselected package libsox3:amd64.\n",
            "Preparing to unpack .../06-libsox3_14.4.2+git20190427-2+deb11u2ubuntu0.22.04.1_amd64.deb ...\n",
            "Unpacking libsox3:amd64 (14.4.2+git20190427-2+deb11u2ubuntu0.22.04.1) ...\n",
            "Selecting previously unselected package libsox-fmt-alsa:amd64.\n",
            "Preparing to unpack .../07-libsox-fmt-alsa_14.4.2+git20190427-2+deb11u2ubuntu0.22.04.1_amd64.deb ...\n",
            "Unpacking libsox-fmt-alsa:amd64 (14.4.2+git20190427-2+deb11u2ubuntu0.22.04.1) ...\n",
            "Selecting previously unselected package libsox-fmt-ao:amd64.\n",
            "Preparing to unpack .../08-libsox-fmt-ao_14.4.2+git20190427-2+deb11u2ubuntu0.22.04.1_amd64.deb ...\n",
            "Unpacking libsox-fmt-ao:amd64 (14.4.2+git20190427-2+deb11u2ubuntu0.22.04.1) ...\n",
            "Selecting previously unselected package libwavpack1:amd64.\n",
            "Preparing to unpack .../09-libwavpack1_5.4.0-1build2_amd64.deb ...\n",
            "Unpacking libwavpack1:amd64 (5.4.0-1build2) ...\n",
            "Selecting previously unselected package libsox-fmt-base:amd64.\n",
            "Preparing to unpack .../10-libsox-fmt-base_14.4.2+git20190427-2+deb11u2ubuntu0.22.04.1_amd64.deb ...\n",
            "Unpacking libsox-fmt-base:amd64 (14.4.2+git20190427-2+deb11u2ubuntu0.22.04.1) ...\n",
            "Selecting previously unselected package libsox-fmt-mp3:amd64.\n",
            "Preparing to unpack .../11-libsox-fmt-mp3_14.4.2+git20190427-2+deb11u2ubuntu0.22.04.1_amd64.deb ...\n",
            "Unpacking libsox-fmt-mp3:amd64 (14.4.2+git20190427-2+deb11u2ubuntu0.22.04.1) ...\n",
            "Selecting previously unselected package libsox-fmt-oss:amd64.\n",
            "Preparing to unpack .../12-libsox-fmt-oss_14.4.2+git20190427-2+deb11u2ubuntu0.22.04.1_amd64.deb ...\n",
            "Unpacking libsox-fmt-oss:amd64 (14.4.2+git20190427-2+deb11u2ubuntu0.22.04.1) ...\n",
            "Selecting previously unselected package libsox-fmt-pulse:amd64.\n",
            "Preparing to unpack .../13-libsox-fmt-pulse_14.4.2+git20190427-2+deb11u2ubuntu0.22.04.1_amd64.deb ...\n",
            "Unpacking libsox-fmt-pulse:amd64 (14.4.2+git20190427-2+deb11u2ubuntu0.22.04.1) ...\n",
            "Selecting previously unselected package libsox-fmt-all:amd64.\n",
            "Preparing to unpack .../14-libsox-fmt-all_14.4.2+git20190427-2+deb11u2ubuntu0.22.04.1_amd64.deb ...\n",
            "Unpacking libsox-fmt-all:amd64 (14.4.2+git20190427-2+deb11u2ubuntu0.22.04.1) ...\n",
            "Selecting previously unselected package libsox-dev:amd64.\n",
            "Preparing to unpack .../15-libsox-dev_14.4.2+git20190427-2+deb11u2ubuntu0.22.04.1_amd64.deb ...\n",
            "Unpacking libsox-dev:amd64 (14.4.2+git20190427-2+deb11u2ubuntu0.22.04.1) ...\n",
            "Setting up libsox3:amd64 (14.4.2+git20190427-2+deb11u2ubuntu0.22.04.1) ...\n",
            "Setting up libsox-fmt-oss:amd64 (14.4.2+git20190427-2+deb11u2ubuntu0.22.04.1) ...\n",
            "Setting up libao-common (1.2.2+20180113-1.1ubuntu3) ...\n",
            "Setting up libid3tag0:amd64 (0.15.1b-14) ...\n",
            "Setting up libopencore-amrwb0:amd64 (0.1.5-1) ...\n",
            "Setting up libsox-fmt-alsa:amd64 (14.4.2+git20190427-2+deb11u2ubuntu0.22.04.1) ...\n",
            "Setting up libao4:amd64 (1.2.2+20180113-1.1ubuntu3) ...\n",
            "Setting up libmad0:amd64 (0.15.1b-10ubuntu1) ...\n",
            "Setting up libwavpack1:amd64 (5.4.0-1build2) ...\n",
            "Setting up libopencore-amrnb0:amd64 (0.1.5-1) ...\n",
            "Setting up libsox-fmt-base:amd64 (14.4.2+git20190427-2+deb11u2ubuntu0.22.04.1) ...\n",
            "Setting up libsox-fmt-ao:amd64 (14.4.2+git20190427-2+deb11u2ubuntu0.22.04.1) ...\n",
            "Setting up libsox-fmt-mp3:amd64 (14.4.2+git20190427-2+deb11u2ubuntu0.22.04.1) ...\n",
            "Setting up libsox-fmt-pulse:amd64 (14.4.2+git20190427-2+deb11u2ubuntu0.22.04.1) ...\n",
            "Setting up libsox-fmt-all:amd64 (14.4.2+git20190427-2+deb11u2ubuntu0.22.04.1) ...\n",
            "Setting up libsox-dev:amd64 (14.4.2+git20190427-2+deb11u2ubuntu0.22.04.1) ...\n",
            "Processing triggers for man-db (2.10.2-1) ...\n",
            "Processing triggers for libc-bin (2.35-0ubuntu3.8) ...\n",
            "/sbin/ldconfig.real: /usr/local/lib/libur_adapter_level_zero.so.0 is not a symbolic link\n",
            "\n",
            "/sbin/ldconfig.real: /usr/local/lib/libtbbmalloc.so.2 is not a symbolic link\n",
            "\n",
            "/sbin/ldconfig.real: /usr/local/lib/libhwloc.so.15 is not a symbolic link\n",
            "\n",
            "/sbin/ldconfig.real: /usr/local/lib/libtcm.so.1 is not a symbolic link\n",
            "\n",
            "/sbin/ldconfig.real: /usr/local/lib/libur_adapter_level_zero_v2.so.0 is not a symbolic link\n",
            "\n",
            "/sbin/ldconfig.real: /usr/local/lib/libtcm_debug.so.1 is not a symbolic link\n",
            "\n",
            "/sbin/ldconfig.real: /usr/local/lib/libur_loader.so.0 is not a symbolic link\n",
            "\n",
            "/sbin/ldconfig.real: /usr/local/lib/libtbbmalloc_proxy.so.2 is not a symbolic link\n",
            "\n",
            "/sbin/ldconfig.real: /usr/local/lib/libur_adapter_opencl.so.0 is not a symbolic link\n",
            "\n",
            "/sbin/ldconfig.real: /usr/local/lib/libtbb.so.12 is not a symbolic link\n",
            "\n",
            "/sbin/ldconfig.real: /usr/local/lib/libtbbbind.so.3 is not a symbolic link\n",
            "\n",
            "/sbin/ldconfig.real: /usr/local/lib/libtbbbind_2_5.so.3 is not a symbolic link\n",
            "\n",
            "/sbin/ldconfig.real: /usr/local/lib/libumf.so.0 is not a symbolic link\n",
            "\n",
            "/sbin/ldconfig.real: /usr/local/lib/libtbbbind_2_0.so.3 is not a symbolic link\n",
            "\n",
            "Looking in indexes: https://download.pytorch.org/whl/cu121\n",
            "Collecting torch==2.4.0\n",
            "  Downloading https://download.pytorch.org/whl/cu121/torch-2.4.0%2Bcu121-cp312-cp312-linux_x86_64.whl (799.0 MB)\n",
            "\u001b[2K     \u001b[90m\u2501\u2501\u2501\u2501\u2501\u2501\u2501\u2501\u2501\u2501\u2501\u2501\u2501\u2501\u2501\u2501\u2501\u2501\u2501\u2501\u2501\u2501\u2501\u2501\u2501\u2501\u2501\u2501\u2501\u2501\u2501\u2501\u2501\u2501\u2501\u2501\u2501\u2501\u2501\u001b[0m \u001b[32m799.0/799.0 MB\u001b[0m \u001b[31m1.5 MB/s\u001b[0m eta \u001b[36m0:00:00\u001b[0m\n",
            "\u001b[?25hCollecting torchvision==0.19.0\n",
            "  Downloading https://download.pytorch.org/whl/cu121/torchvision-0.19.0%2Bcu121-cp312-cp312-linux_x86_64.whl (7.1 MB)\n",
            "\u001b[2K     \u001b[90m\u2501\u2501\u2501\u2501\u2501\u2501\u2501\u2501\u2501\u2501\u2501\u2501\u2501\u2501\u2501\u2501\u2501\u2501\u2501\u2501\u2501\u2501\u2501\u2501\u2501\u2501\u2501\u2501\u2501\u2501\u2501\u2501\u2501\u2501\u2501\u2501\u2501\u2501\u2501\u2501\u001b[0m \u001b[32m7.1/7.1 MB\u001b[0m \u001b[31m127.6 MB/s\u001b[0m eta \u001b[36m0:00:00\u001b[0m\n",
            "\u001b[?25hCollecting torchaudio==2.4.0\n",
            "  Downloading https://download.pytorch.org/whl/cu121/torchaudio-2.4.0%2Bcu121-cp312-cp312-linux_x86_64.whl (3.4 MB)\n",
            "\u001b[2K     \u001b[90m\u2501\u2501\u2501\u2501\u2501\u2501\u2501\u2501\u2501\u2501\u2501\u2501\u2501\u2501\u2501\u2501\u2501\u2501\u2501\u2501\u2501\u2501\u2501\u2501\u2501\u2501\u2501\u2501\u2501\u2501\u2501\u2501\u2501\u2501\u2501\u2501\u2501\u2501\u2501\u2501\u001b[0m \u001b[32m3.4/3.4 MB\u001b[0m \u001b[31m112.7 MB/s\u001b[0m eta \u001b[36m0:00:00\u001b[0m\n",
            "\u001b[?25hRequirement already satisfied: filelock in /usr/local/lib/python3.12/dist-packages (from torch==2.4.0) (3.19.1)\n",
            "Requirement already satisfied: typing-extensions>=4.8.0 in /usr/local/lib/python3.12/dist-packages (from torch==2.4.0) (4.15.0)\n",
            "Requirement already satisfied: sympy in /usr/local/lib/python3.12/dist-packages (from torch==2.4.0) (1.13.3)\n",
            "Requirement already satisfied: networkx in /usr/local/lib/python3.12/dist-packages (from torch==2.4.0) (3.5)\n",
            "Requirement already satisfied: jinja2 in /usr/local/lib/python3.12/dist-packages (from torch==2.4.0) (3.1.6)\n",
            "Requirement already satisfied: fsspec in /usr/local/lib/python3.12/dist-packages (from torch==2.4.0) (2023.10.0)\n",
            "Requirement already satisfied: setuptools in /usr/local/lib/python3.12/dist-packages (from torch==2.4.0) (75.2.0)\n",
            "Collecting nvidia-cuda-nvrtc-cu12==12.1.105 (from torch==2.4.0)\n",
            "  Downloading https://download.pytorch.org/whl/cu121/nvidia_cuda_nvrtc_cu12-12.1.105-py3-none-manylinux1_x86_64.whl (23.7 MB)\n",
            "\u001b[2K     \u001b[90m\u2501\u2501\u2501\u2501\u2501\u2501\u2501\u2501\u2501\u2501\u2501\u2501\u2501\u2501\u2501\u2501\u2501\u2501\u2501\u2501\u2501\u2501\u2501\u2501\u2501\u2501\u2501\u2501\u2501\u2501\u2501\u2501\u2501\u2501\u2501\u2501\u2501\u2501\u2501\u001b[0m \u001b[32m23.7/23.7 MB\u001b[0m \u001b[31m100.8 MB/s\u001b[0m eta \u001b[36m0:00:00\u001b[0m\n",
            "\u001b[?25hCollecting nvidia-cuda-runtime-cu12==12.1.105 (from torch==2.4.0)\n",
            "  Downloading https://download.pytorch.org/whl/cu121/nvidia_cuda_runtime_cu12-12.1.105-py3-none-manylinux1_x86_64.whl (823 kB)\n",
            "\u001b[2K     \u001b[90m\u2501\u2501\u2501\u2501\u2501\u2501\u2501\u2501\u2501\u2501\u2501\u2501\u2501\u2501\u2501\u2501\u2501\u2501\u2501\u2501\u2501\u2501\u2501\u2501\u2501\u2501\u2501\u2501\u2501\u2501\u2501\u2501\u2501\u2501\u2501\u2501\u2501\u2501\u001b[0m \u001b[32m823.6/823.6 kB\u001b[0m \u001b[31m55.9 MB/s\u001b[0m eta \u001b[36m0:00:00\u001b[0m\n",
            "\u001b[?25hCollecting nvidia-cuda-cupti-cu12==12.1.105 (from torch==2.4.0)\n",
            "  Downloading https://download.pytorch.org/whl/cu121/nvidia_cuda_cupti_cu12-12.1.105-py3-none-manylinux1_x86_64.whl (14.1 MB)\n",
            "\u001b[2K     \u001b[90m\u2501\u2501\u2501\u2501\u2501\u2501\u2501\u2501\u2501\u2501\u2501\u2501\u2501\u2501\u2501\u2501\u2501\u2501\u2501\u2501\u2501\u2501\u2501\u2501\u2501\u2501\u2501\u2501\u2501\u2501\u2501\u2501\u2501\u2501\u2501\u2501\u2501\u2501\u2501\u001b[0m \u001b[32m14.1/14.1 MB\u001b[0m \u001b[31m129.1 MB/s\u001b[0m eta \u001b[36m0:00:00\u001b[0m\n",
            "\u001b[?25hCollecting nvidia-cudnn-cu12==9.1.0.70 (from torch==2.4.0)\n",
            "  Downloading https://download.pytorch.org/whl/cu121/nvidia_cudnn_cu12-9.1.0.70-py3-none-manylinux2014_x86_64.whl (664.8 MB)\n",
            "\u001b[2K     \u001b[90m\u2501\u2501\u2501\u2501\u2501\u2501\u2501\u2501\u2501\u2501\u2501\u2501\u2501\u2501\u2501\u2501\u2501\u2501\u2501\u2501\u2501\u2501\u2501\u2501\u2501\u2501\u2501\u2501\u2501\u2501\u2501\u2501\u2501\u2501\u2501\u2501\u2501\u2501\u2501\u001b[0m \u001b[32m664.8/664.8 MB\u001b[0m \u001b[31m1.4 MB/s\u001b[0m eta \u001b[36m0:00:00\u001b[0m\n",
            "\u001b[?25hCollecting nvidia-cublas-cu12==12.1.3.1 (from torch==2.4.0)\n",
            "  Downloading https://download.pytorch.org/whl/cu121/nvidia_cublas_cu12-12.1.3.1-py3-none-manylinux1_x86_64.whl (410.6 MB)\n",
            "\u001b[2K     \u001b[90m\u2501\u2501\u2501\u2501\u2501\u2501\u2501\u2501\u2501\u2501\u2501\u2501\u2501\u2501\u2501\u2501\u2501\u2501\u2501\u2501\u2501\u2501\u2501\u2501\u2501\u2501\u2501\u2501\u2501\u2501\u2501\u2501\u2501\u2501\u2501\u2501\u2501\u2501\u2501\u001b[0m \u001b[32m410.6/410.6 MB\u001b[0m \u001b[31m2.1 MB/s\u001b[0m eta \u001b[36m0:00:00\u001b[0m\n",
            "\u001b[?25hCollecting nvidia-cufft-cu12==11.0.2.54 (from torch==2.4.0)\n",
            "  Downloading https://download.pytorch.org/whl/cu121/nvidia_cufft_cu12-11.0.2.54-py3-none-manylinux1_x86_64.whl (121.6 MB)\n",
            "\u001b[2K     \u001b[90m\u2501\u2501\u2501\u2501\u2501\u2501\u2501\u2501\u2501\u2501\u2501\u2501\u2501\u2501\u2501\u2501\u2501\u2501\u2501\u2501\u2501\u2501\u2501\u2501\u2501\u2501\u2501\u2501\u2501\u2501\u2501\u2501\u2501\u2501\u2501\u2501\u2501\u2501\u001b[0m \u001b[32m121.6/121.6 MB\u001b[0m \u001b[31m17.1 MB/s\u001b[0m eta \u001b[36m0:00:00\u001b[0m\n",
            "\u001b[?25hCollecting nvidia-curand-cu12==10.3.2.106 (from torch==2.4.0)\n",
            "  Downloading https://download.pytorch.org/whl/cu121/nvidia_curand_cu12-10.3.2.106-py3-none-manylinux1_x86_64.whl (56.5 MB)\n",
            "\u001b[2K     \u001b[90m\u2501\u2501\u2501\u2501\u2501\u2501\u2501\u2501\u2501\u2501\u2501\u2501\u2501\u2501\u2501\u2501\u2501\u2501\u2501\u2501\u2501\u2501\u2501\u2501\u2501\u2501\u2501\u2501\u2501\u2501\u2501\u2501\u2501\u2501\u2501\u2501\u2501\u2501\u2501\u2501\u001b[0m \u001b[32m56.5/56.5 MB\u001b[0m \u001b[31m37.5 MB/s\u001b[0m eta \u001b[36m0:00:00\u001b[0m\n",
            "\u001b[?25hCollecting nvidia-cusolver-cu12==11.4.5.107 (from torch==2.4.0)\n",
            "  Downloading https://download.pytorch.org/whl/cu121/nvidia_cusolver_cu12-11.4.5.107-py3-none-manylinux1_x86_64.whl (124.2 MB)\n",
            "\u001b[2K     \u001b[90m\u2501\u2501\u2501\u2501\u2501\u2501\u2501\u2501\u2501\u2501\u2501\u2501\u2501\u2501\u2501\u2501\u2501\u2501\u2501\u2501\u2501\u2501\u2501\u2501\u2501\u2501\u2501\u2501\u2501\u2501\u2501\u2501\u2501\u2501\u2501\u2501\u2501\u2501\u001b[0m \u001b[32m124.2/124.2 MB\u001b[0m \u001b[31m16.9 MB/s\u001b[0m eta \u001b[36m0:00:00\u001b[0m\n",
            "\u001b[?25hCollecting nvidia-cusparse-cu12==12.1.0.106 (from torch==2.4.0)\n",
            "  Downloading https://download.pytorch.org/whl/cu121/nvidia_cusparse_cu12-12.1.0.106-py3-none-manylinux1_x86_64.whl (196.0 MB)\n",
            "\u001b[2K     \u001b[90m\u2501\u2501\u2501\u2501\u2501\u2501\u2501\u2501\u2501\u2501\u2501\u2501\u2501\u2501\u2501\u2501\u2501\u2501\u2501\u2501\u2501\u2501\u2501\u2501\u2501\u2501\u2501\u2501\u2501\u2501\u2501\u2501\u2501\u2501\u2501\u2501\u2501\u2501\u2501\u001b[0m \u001b[32m196.0/196.0 MB\u001b[0m \u001b[31m4.9 MB/s\u001b[0m eta \u001b[36m0:00:00\u001b[0m\n",
            "\u001b[?25hCollecting nvidia-nccl-cu12==2.20.5 (from torch==2.4.0)\n",
            "  Downloading https://download.pytorch.org/whl/cu121/nvidia_nccl_cu12-2.20.5-py3-none-manylinux2014_x86_64.whl (176.2 MB)\n",
            "\u001b[2K     \u001b[90m\u2501\u2501\u2501\u2501\u2501\u2501\u2501\u2501\u2501\u2501\u2501\u2501\u2501\u2501\u2501\u2501\u2501\u2501\u2501\u2501\u2501\u2501\u2501\u2501\u2501\u2501\u2501\u2501\u2501\u2501\u2501\u2501\u2501\u2501\u2501\u2501\u2501\u2501\u001b[0m \u001b[32m176.2/176.2 MB\u001b[0m \u001b[31m12.1 MB/s\u001b[0m eta \u001b[36m0:00:00\u001b[0m\n",
            "\u001b[?25hCollecting nvidia-nvtx-cu12==12.1.105 (from torch==2.4.0)\n",
            "  Downloading https://download.pytorch.org/whl/cu121/nvidia_nvtx_cu12-12.1.105-py3-none-manylinux1_x86_64.whl (99 kB)\n",
            "\u001b[2K     \u001b[90m\u2501\u2501\u2501\u2501\u2501\u2501\u2501\u2501\u2501\u2501\u2501\u2501\u2501\u2501\u2501\u2501\u2501\u2501\u2501\u2501\u2501\u2501\u2501\u2501\u2501\u2501\u2501\u2501\u2501\u2501\u2501\u2501\u2501\u2501\u2501\u2501\u2501\u2501\u2501\u2501\u001b[0m \u001b[32m99.1/99.1 kB\u001b[0m \u001b[31m10.1 MB/s\u001b[0m eta \u001b[36m0:00:00\u001b[0m\n",
            "\u001b[?25hCollecting triton==3.0.0 (from torch==2.4.0)\n",
            "  Downloading https://download.pytorch.org/whl/triton-3.0.0-1-cp312-cp312-manylinux2014_x86_64.manylinux_2_17_x86_64.whl (209.5 MB)\n",
            "\u001b[2K     \u001b[90m\u2501\u2501\u2501\u2501\u2501\u2501\u2501\u2501\u2501\u2501\u2501\u2501\u2501\u2501\u2501\u2501\u2501\u2501\u2501\u2501\u2501\u2501\u2501\u2501\u2501\u2501\u2501\u2501\u2501\u2501\u2501\u2501\u2501\u2501\u2501\u2501\u2501\u2501\u2501\u001b[0m \u001b[32m209.5/209.5 MB\u001b[0m \u001b[31m6.5 MB/s\u001b[0m eta \u001b[36m0:00:00\u001b[0m\n",
            "\u001b[?25hRequirement already satisfied: numpy in /usr/local/lib/python3.12/dist-packages (from torchvision==0.19.0) (2.0.2)\n",
            "Requirement already satisfied: pillow!=8.3.*,>=5.3.0 in /usr/local/lib/python3.12/dist-packages (from torchvision==0.19.0) (11.3.0)\n",
            "Requirement already satisfied: nvidia-nvjitlink-cu12 in /usr/local/lib/python3.12/dist-packages (from nvidia-cusolver-cu12==11.4.5.107->torch==2.4.0) (12.6.85)\n",
            "Requirement already satisfied: MarkupSafe>=2.0 in /usr/local/lib/python3.12/dist-packages (from jinja2->torch==2.4.0) (3.0.2)\n",
            "Requirement already satisfied: mpmath<1.4,>=1.1.0 in /usr/local/lib/python3.12/dist-packages (from sympy->torch==2.4.0) (1.3.0)\n",
            "Installing collected packages: triton, nvidia-nvtx-cu12, nvidia-nccl-cu12, nvidia-cusparse-cu12, nvidia-curand-cu12, nvidia-cufft-cu12, nvidia-cuda-runtime-cu12, nvidia-cuda-nvrtc-cu12, nvidia-cuda-cupti-cu12, nvidia-cublas-cu12, nvidia-cusolver-cu12, nvidia-cudnn-cu12, torch, torchvision, torchaudio\n",
            "  Attempting uninstall: triton\n",
            "    Found existing installation: triton 3.4.0\n",
            "    Uninstalling triton-3.4.0:\n",
            "      Successfully uninstalled triton-3.4.0\n",
            "  Attempting uninstall: nvidia-nvtx-cu12\n",
            "    Found existing installation: nvidia-nvtx-cu12 12.6.77\n",
            "    Uninstalling nvidia-nvtx-cu12-12.6.77:\n",
            "      Successfully uninstalled nvidia-nvtx-cu12-12.6.77\n",
            "  Attempting uninstall: nvidia-nccl-cu12\n",
            "    Found existing installation: nvidia-nccl-cu12 2.27.3\n",
            "    Uninstalling nvidia-nccl-cu12-2.27.3:\n",
            "      Successfully uninstalled nvidia-nccl-cu12-2.27.3\n",
            "  Attempting uninstall: nvidia-cusparse-cu12\n",
            "    Found existing installation: nvidia-cusparse-cu12 12.5.4.2\n",
            "    Uninstalling nvidia-cusparse-cu12-12.5.4.2:\n",
            "      Successfully uninstalled nvidia-cusparse-cu12-12.5.4.2\n",
            "  Attempting uninstall: nvidia-curand-cu12\n",
            "    Found existing installation: nvidia-curand-cu12 10.3.7.77\n",
            "    Uninstalling nvidia-curand-cu12-10.3.7.77:\n",
            "      Successfully uninstalled nvidia-curand-cu12-10.3.7.77\n",
            "  Attempting uninstall: nvidia-cufft-cu12\n",
            "    Found existing installation: nvidia-cufft-cu12 11.3.0.4\n",
            "    Uninstalling nvidia-cufft-cu12-11.3.0.4:\n",
            "      Successfully uninstalled nvidia-cufft-cu12-11.3.0.4\n",
            "  Attempting uninstall: nvidia-cuda-runtime-cu12\n",
            "    Found existing installation: nvidia-cuda-runtime-cu12 12.6.77\n",
            "    Uninstalling nvidia-cuda-runtime-cu12-12.6.77:\n",
            "      Successfully uninstalled nvidia-cuda-runtime-cu12-12.6.77\n",
            "  Attempting uninstall: nvidia-cuda-nvrtc-cu12\n",
            "    Found existing installation: nvidia-cuda-nvrtc-cu12 12.6.77\n",
            "    Uninstalling nvidia-cuda-nvrtc-cu12-12.6.77:\n",
            "      Successfully uninstalled nvidia-cuda-nvrtc-cu12-12.6.77\n",
            "  Attempting uninstall: nvidia-cuda-cupti-cu12\n",
            "    Found existing installation: nvidia-cuda-cupti-cu12 12.6.80\n",
            "    Uninstalling nvidia-cuda-cupti-cu12-12.6.80:\n",
            "      Successfully uninstalled nvidia-cuda-cupti-cu12-12.6.80\n",
            "  Attempting uninstall: nvidia-cublas-cu12\n",
            "    Found existing installation: nvidia-cublas-cu12 12.6.4.1\n",
            "    Uninstalling nvidia-cublas-cu12-12.6.4.1:\n",
            "      Successfully uninstalled nvidia-cublas-cu12-12.6.4.1\n",
            "  Attempting uninstall: nvidia-cusolver-cu12\n",
            "    Found existing installation: nvidia-cusolver-cu12 11.7.1.2\n",
            "    Uninstalling nvidia-cusolver-cu12-11.7.1.2:\n",
            "      Successfully uninstalled nvidia-cusolver-cu12-11.7.1.2\n",
            "  Attempting uninstall: nvidia-cudnn-cu12\n",
            "    Found existing installation: nvidia-cudnn-cu12 9.10.2.21\n",
            "    Uninstalling nvidia-cudnn-cu12-9.10.2.21:\n",
            "      Successfully uninstalled nvidia-cudnn-cu12-9.10.2.21\n",
            "  Attempting uninstall: torch\n",
            "    Found existing installation: torch 2.8.0+cu126\n",
            "    Uninstalling torch-2.8.0+cu126:\n",
            "      Successfully uninstalled torch-2.8.0+cu126\n",
            "  Attempting uninstall: torchvision\n",
            "    Found existing installation: torchvision 0.23.0+cu126\n",
            "    Uninstalling torchvision-0.23.0+cu126:\n",
            "      Successfully uninstalled torchvision-0.23.0+cu126\n",
            "  Attempting uninstall: torchaudio\n",
            "    Found existing installation: torchaudio 2.8.0+cu126\n",
            "    Uninstalling torchaudio-2.8.0+cu126:\n",
            "      Successfully uninstalled torchaudio-2.8.0+cu126\n",
            "\u001b[31mERROR: pip's dependency resolver does not currently take into account all the packages that are installed. This behaviour is the source of the following dependency conflicts.\n",
            "accelerate 1.10.1 requires huggingface_hub>=0.21.0, but you have huggingface-hub 0.20.0 which is incompatible.\n",
            "peft 0.17.1 requires huggingface_hub>=0.25.0, but you have huggingface-hub 0.20.0 which is incompatible.\u001b[0m\u001b[31m\n",
            "\u001b[0mSuccessfully installed nvidia-cublas-cu12-12.1.3.1 nvidia-cuda-cupti-cu12-12.1.105 nvidia-cuda-nvrtc-cu12-12.1.105 nvidia-cuda-runtime-cu12-12.1.105 nvidia-cudnn-cu12-9.1.0.70 nvidia-cufft-cu12-11.0.2.54 nvidia-curand-cu12-10.3.2.106 nvidia-cusolver-cu12-11.4.5.107 nvidia-cusparse-cu12-12.1.0.106 nvidia-nccl-cu12-2.20.5 nvidia-nvtx-cu12-12.1.105 torch-2.4.0+cu121 torchaudio-2.4.0+cu121 torchvision-0.19.0+cu121 triton-3.0.0\n"
          ]
        }
      ]
    },
    {
      "cell_type": "code",
      "execution_count": null,
      "metadata": {
        "colab": {
          "base_uri": "https://localhost:8080/"
        },
        "id": "RF4Hf9MzAfZa",
        "outputId": "74faa7c4-0c49-4cbb-f9f2-f151e31e1e91"
      },
      "outputs": [
        {
          "output_type": "stream",
          "name": "stdout",
          "text": [
            "Mounted at /content/drive\n"
          ]
        }
      ],
      "source": [
        "# Keyword\u2011Spotting project\n",
        "\n",
        "from __future__ import annotations\n",
        "import json, os, random\n",
        "from pathlib import Path\n",
        "from typing import Tuple, Dict\n",
        "\n",
        "import torch, torchaudio\n",
        "import torch.nn as nn\n",
        "import os\n",
        "import torch.nn.functional as F\n",
        "import torchvision.models as tvm  # MobileNet V2 backbone\n",
        "import torchaudio.transforms as T\n",
        "from torch.utils.data import Dataset, DataLoader\n",
        "from datasets import load_dataset\n",
        "from tqdm.notebook import tqdm\n",
        "\n",
        "# -------- Save parameters to Drive --------\n",
        "from google.colab import drive\n",
        "drive.mount('/content/drive')"
      ]
    },
    {
      "cell_type": "code",
      "source": [
        "class WaveToSpec:\n",
        "    \"\"\"Waveform \u279c log\u2011Mel **or** MFCC tensor.\n",
        "\n",
        "    Parameters\n",
        "    ----------\n",
        "    feature_type : \"mel\" | \"mfcc\"\n",
        "        If \"mfcc\", `n_mfcc` controls the number of cepstral coeffs.\n",
        "    normalize : bool | tuple(float,float)\n",
        "        *False* \u2013 return raw log power values.\n",
        "        *True*  \u2013 per\u2011sample standard score.\n",
        "        *(mean,std)* \u2013 dataset\u2011wide constants.\n",
        "    \"\"\"\n",
        "    def __init__(self,\n",
        "                 feature_type: str = \"mel\",\n",
        "                 sample_rate: int = 16_000,\n",
        "                 n_fft: int = 2048,\n",
        "                 hop_length: int = 128,\n",
        "                 n_mels: int = 128,\n",
        "                 n_mfcc: int = 40,\n",
        "                 top_db: int | None = 80,\n",
        "                 apply_mask: bool = True,\n",
        "                 freq_mask_param: int = 15,\n",
        "                 time_mask_param: int = 10):\n",
        "        self.feature_type = feature_type.lower(); assert self.feature_type in {\"mel\",\"mfcc\"}\n",
        "        self.apply_mask = apply_mask and self.feature_type == \"mel\"\n",
        "\n",
        "        if self.feature_type == \"mel\":\n",
        "            self.spec = T.MelSpectrogram(sample_rate, n_fft, hop_length, n_mels, power=2)\n",
        "            self.to_db = T.AmplitudeToDB(stype=\"power\", top_db=top_db)\n",
        "            if self.apply_mask:\n",
        "                self.freq_mask = T.FrequencyMasking(freq_mask_param)\n",
        "                self.time_mask = T.TimeMasking(time_mask_param)\n",
        "        else:\n",
        "            self.spec = T.MFCC(sample_rate, n_mfcc,\n",
        "                                melkwargs=dict(n_fft=n_fft, hop_length=hop_length, n_mels=n_mels))\n",
        "            self.to_db = None\n",
        "            self.freq_mask = self.time_mask = None\n",
        "\n",
        "    def __call__(self, wav: torch.Tensor) -> torch.Tensor:\n",
        "        if wav.dim() == 1:\n",
        "            wav = wav.unsqueeze(0)\n",
        "        feats = self.spec(wav)\n",
        "        if self.apply_mask:\n",
        "            feats = self.freq_mask(feats); feats = self.time_mask(feats)\n",
        "            feats = self.freq_mask(feats); feats = self.time_mask(feats)\n",
        "        if self.to_db is not None:\n",
        "            feats = self.to_db(feats.clamp(min=1e-10))\n",
        "        return feats   # [1, F, T]\n",
        "\n",
        "# -------------------------\n",
        "# 2) Waveform-level augs\n",
        "# -------------------------\n",
        "class Augment:\n",
        "    def __init__(self, stretch: Tuple[float,float]=(1.0,1.0),\n",
        "                 shift_ms: int = 100,\n",
        "                 noise: Tuple[float,float]=(0.,0.005),\n",
        "                 sr: int = 16_000):\n",
        "        self.stretch = stretch\n",
        "        self.shift   = int(shift_ms * sr / 1000)\n",
        "        self.noise   = noise\n",
        "        self.sr      = sr\n",
        "\n",
        "    def _shift(self, x: torch.Tensor):\n",
        "        if self.shift == 0:\n",
        "            return x\n",
        "        s = int(torch.randint(-self.shift, self.shift + 1, ()).item())\n",
        "        if s == 0:\n",
        "            return x\n",
        "        return (F.pad(x, (s, 0))[:, :-s] if s > 0 else F.pad(x, (0, -s))[:, -s:])\n",
        "\n",
        "    def __call__(self, wav: torch.Tensor):\n",
        "        squeezed = False\n",
        "        if wav.dim() == 1:\n",
        "            wav = wav.unsqueeze(0); squeezed = True\n",
        "\n",
        "        # Stretch remains OFF because (1.0, 1.0)\n",
        "        wav = self._shift(wav)\n",
        "\n",
        "        if self.noise[1] > 0:\n",
        "            sigma = float(torch.empty(()).uniform_(*self.noise))\n",
        "            if sigma > 0:\n",
        "                wav = wav + sigma * torch.randn_like(wav)\n",
        "\n",
        "        return wav.squeeze(0) if squeezed else wav"
      ],
      "metadata": {
        "id": "dti97Bt-Aoe2"
      },
      "execution_count": null,
      "outputs": []
    },
    {
      "cell_type": "code",
      "source": [
        "# -------------------------\n",
        "# 3) Dataset + Collate\n",
        "# -------------------------\n",
        "class SpeechCommands(Dataset):\n",
        "    \"\"\"HF split \u2192 (feature, label) with fixed waveform length (like your Mamba).\"\"\"\n",
        "    def __init__(self, hf_split, aug: Augment | None, frontend: WaveToSpec, wav_len: int = 16_000):  # CHANGED: wav_len\n",
        "        self.ds, self.aug, self.front = hf_split, aug, frontend\n",
        "        self.wav_len = wav_len  # pad/crop wave to this length before spec\n",
        "\n",
        "    def __len__(self): return len(self.ds)\n",
        "\n",
        "    def __getitem__(self, idx):\n",
        "        item = self.ds[idx]\n",
        "        wav = torch.from_numpy(item[\"audio\"][\"array\"]).float()\n",
        "\n",
        "        # CHANGED: fixed wav_len like Mamba\n",
        "        if wav.numel() < self.wav_len:\n",
        "            wav = F.pad(wav, (0, self.wav_len - wav.numel()))\n",
        "        else:\n",
        "            wav = wav[: self.wav_len]\n",
        "\n",
        "        if self.aug:\n",
        "            wav = self.aug(wav)\n",
        "\n",
        "        feats = self.front(wav)                          # [1, F, T]\n",
        "        feats = (feats - feats.mean()) / (feats.std() + 1e-6)\n",
        "        return feats, item[\"label\"]\n",
        "\n",
        "def collate_pad(batch):\n",
        "    feats, labels = zip(*batch)\n",
        "    B, F = len(feats), feats[0].size(1)\n",
        "    T_max = max(x.size(-1) for x in feats)\n",
        "    out = feats[0].new_zeros(B, 1, F, T_max)\n",
        "    for i, x in enumerate(feats):\n",
        "        T = x.size(-1)\n",
        "        out[i, :, :, :T] = x\n",
        "    return out, torch.tensor(labels, dtype=torch.long)\n",
        "\n",
        "\n",
        "# -------------------------\n",
        "# 4) Model\n",
        "# -------------------------\n",
        "class KeywordCNN(nn.Module):\n",
        "    \"\"\"Small CNN baseline with time-preserving pool and dropout head.\"\"\"\n",
        "    def __init__(self, n_classes:int):\n",
        "        super().__init__()\n",
        "        self.features = nn.Sequential(\n",
        "            nn.Conv2d(1, 32, 3, padding=1), nn.BatchNorm2d(32), nn.ReLU(),\n",
        "            nn.MaxPool2d((2,1)),\n",
        "            nn.Conv2d(32, 64, 3, padding=1), nn.BatchNorm2d(64), nn.ReLU(),\n",
        "            nn.MaxPool2d(2),\n",
        "            nn.Conv2d(64, 128, 3, padding=1), nn.BatchNorm2d(128), nn.ReLU(),\n",
        "            nn.AdaptiveAvgPool2d(1),\n",
        "        )\n",
        "        self.dropout = nn.Dropout(0.2)\n",
        "        self.fc = nn.Linear(128, n_classes)\n",
        "    def forward(self, x):\n",
        "        x = self.features(x).flatten(1)\n",
        "        x = self.dropout(x)\n",
        "        return self.fc(x)\n",
        "\n",
        "def build_mobilenet_v2(num_classes: int, alpha: float = 0.75, pretrained: bool = False) -> nn.Module:\n",
        "    import torchvision.models as tvm\n",
        "    net = tvm.mobilenet_v2(width_mult=alpha,\n",
        "                           weights=None if not pretrained else tvm.MobileNet_V2_Weights.DEFAULT)\n",
        "    # adapt first conv to 1 channel\n",
        "    first = net.features[0][0]\n",
        "    net.features[0][0] = nn.Conv2d(1, first.out_channels,\n",
        "                                   kernel_size=first.kernel_size,\n",
        "                                   stride=first.stride,\n",
        "                                   padding=first.padding,\n",
        "                                   bias=False)\n",
        "    # simple dropout + classifier\n",
        "    in_feats = net.classifier[-1].in_features\n",
        "    net.classifier = nn.Sequential(\n",
        "        nn.Dropout(0.2),\n",
        "        nn.Linear(in_feats, num_classes)\n",
        "    )\n",
        "    return net\n",
        "\n",
        "# -------------------------\n",
        "# 5) Eval helper\n",
        "# -------------------------\n",
        "@torch.no_grad()\n",
        "def evaluate(model, loader, device, criterion):\n",
        "    model.eval(); tot=correct=loss_sum=0\n",
        "    for xb,yb in loader:\n",
        "        xb,yb = xb.to(device), yb.to(device)\n",
        "        logits = model(xb)\n",
        "        loss = criterion(logits,yb)\n",
        "        loss_sum += loss.item()*xb.size(0)\n",
        "        correct  += (logits.argmax(1)==yb).sum().item(); tot += xb.size(0)\n",
        "    return loss_sum/tot, 100.0*correct/tot"
      ],
      "metadata": {
        "id": "sGh2FmXUApJx"
      },
      "execution_count": null,
      "outputs": []
    },
    {
      "cell_type": "code",
      "source": [
        "import math\n",
        "# -------------------------\n",
        "# 6) Main\n",
        "# -------------------------\n",
        "if __name__ == \"__main__\":\n",
        "    # ---- dataset\n",
        "    ds = load_dataset(\"google/speech_commands\", \"v0.02\")\n",
        "    labels = ds[\"train\"].features[\"label\"].names\n",
        "    n_classes = len(labels)\n",
        "\n",
        "    feature_type = \"mel\"               # \"mel\" or \"mfcc\"\n",
        "    Epochs = 100\n",
        "    base_lr = 1e-3\n",
        "    warmup_frac = 0.1\n",
        "    wav_len = 16_000\n",
        "\n",
        "    # train/eval frontends (SpecAugment only on train)\n",
        "    frontend_train = WaveToSpec(\n",
        "        feature_type=feature_type,\n",
        "        n_mfcc=40, n_mels=128,\n",
        "        apply_mask=True,\n",
        "        freq_mask_param=14, time_mask_param=24\n",
        "    )\n",
        "    frontend_eval = WaveToSpec(\n",
        "        feature_type=feature_type,\n",
        "        n_mfcc=40, n_mels=128,\n",
        "        apply_mask=False\n",
        "    )\n",
        "\n",
        "    # augs: shift + small noise; stretch OFF by default (1.0,1.0)\n",
        "    aug = Augment(stretch=(1.0, 1.0), shift_ms=100, noise=(0., 0.005))\n",
        "\n",
        "    train_ds = SpeechCommands(ds[\"train\"],      aug,  frontend_train, wav_len=wav_len)\n",
        "    val_ds   = SpeechCommands(ds[\"validation\"], None, frontend_eval,  wav_len=wav_len)\n",
        "    test_ds  = SpeechCommands(ds[\"test\"],       None, frontend_eval,  wav_len=wav_len)\n",
        "\n",
        "    dl_kwargs = dict(batch_size=128, num_workers=4, pin_memory=True, collate_fn=collate_pad)\n",
        "    train_dl  = DataLoader(train_ds, shuffle=True,  **dl_kwargs)\n",
        "    val_dl    = DataLoader(val_ds,   shuffle=False, **dl_kwargs)\n",
        "\n",
        "    device = torch.device(\"cuda\" if torch.cuda.is_available() else \"cpu\")\n",
        "    use_amp = (device.type == \"cuda\")\n",
        "    scaler = torch.amp.GradScaler(device.type, enabled=use_amp)\n",
        "\n",
        "    model = build_mobilenet_v2(n_classes, alpha=0.75, pretrained=False).to(device)\n",
        "\n",
        "    criterion = nn.CrossEntropyLoss(label_smoothing=0.05)\n",
        "    opt = torch.optim.AdamW(model.parameters(), lr=base_lr, weight_decay=5e-5, betas=(0.9, 0.999))\n",
        "\n",
        "    # warmup + cosine tail + Plateau (after warmup)\n",
        "    steps_per_epoch = len(train_dl)\n",
        "    true_steps      = steps_per_epoch * Epochs\n",
        "    total_steps     = steps_per_epoch * int(Epochs * 1.5)\n",
        "    warmup_steps    = int(true_steps * warmup_frac)\n",
        "\n",
        "    def lr_lambda(step):\n",
        "        if step < warmup_steps:\n",
        "            return float(step) / float(max(1, warmup_steps))\n",
        "        progress = float(step - warmup_steps) / float(max(1, total_steps - warmup_steps))\n",
        "        return max(0.01, 0.5 * (1.0 + math.cos(math.pi * progress)))\n",
        "\n",
        "    sched = torch.optim.lr_scheduler.LambdaLR(opt, lr_lambda)\n",
        "    plateau = torch.optim.lr_scheduler.ReduceLROnPlateau(\n",
        "        opt, mode=\"min\", factor=0.5, patience=3, threshold=1e-3, cooldown=0, min_lr=1e-6\n",
        "    )\n",
        "    prev_plateau_lr = opt.param_groups[0]['lr']\n",
        "\n",
        "    best_val_acc = 0.0\n",
        "    BEST_PATH = Path(\"/content/best_kws_cnn.pt\")\n",
        "    CKPT_DIR = Path(\"/content/drive/MyDrive/kws_models\")\n",
        "    CKPT_DIR.mkdir(parents=True, exist_ok=True)\n",
        "\n",
        "    global_step = 0\n",
        "    for epoch in range(1, Epochs + 1):\n",
        "        model.train()\n",
        "        running_loss = correct = total = 0\n",
        "        pbar = tqdm(train_dl, desc=f\"Epoch {epoch:02d}\")\n",
        "\n",
        "        for xb, yb in pbar:\n",
        "            xb, yb = xb.to(device, non_blocking=True), yb.to(device, non_blocking=True)\n",
        "            with torch.amp.autocast(device.type, enabled=use_amp):\n",
        "                logits = model(xb)\n",
        "                loss = criterion(logits, yb)\n",
        "                if not torch.isfinite(loss):\n",
        "                    continue\n",
        "\n",
        "            opt.zero_grad(set_to_none=True)\n",
        "            scaler.scale(loss).backward()\n",
        "            scaler.unscale_(opt)\n",
        "            torch.nn.utils.clip_grad_norm_(model.parameters(), max_norm=0.3)\n",
        "            scaler.step(opt); scaler.update()\n",
        "            sched.step()   # per-batch\n",
        "            global_step += 1\n",
        "\n",
        "            pred = logits.argmax(1)\n",
        "            correct += (pred == yb).sum().item()\n",
        "            total += yb.size(0)\n",
        "            running_loss += loss.item() * yb.size(0)\n",
        "            pbar.set_postfix(\n",
        "                train_loss=f\"{running_loss/max(1,total):.3f}\",\n",
        "                train_acc=f\"{100*correct/max(1,total):.1f}%\",\n",
        "                lr=f\"{opt.param_groups[0]['lr']:.2e}\"\n",
        "            )\n",
        "\n",
        "        val_loss, val_acc = evaluate(model, val_dl, device, criterion)\n",
        "        print(f\"Epoch {epoch:02d} \u279c train {100*correct/max(1,total):.1f}% | \"\n",
        "              f\"val {val_acc:.1f}% (loss {val_loss:.3f}) | lr {opt.param_groups[0]['lr']:.2e}\")\n",
        "\n",
        "        # After warmup, allow Plateau to adjust LR (epoch-level)\n",
        "        if global_step >= warmup_steps:\n",
        "            plateau.step(val_loss)\n",
        "            new_lr = opt.param_groups[0]['lr']\n",
        "            if new_lr < prev_plateau_lr - 1e-12:\n",
        "                print(f\"[Plateau] LR reduced: {prev_plateau_lr:.2e} -> {new_lr:.2e}\")\n",
        "            prev_plateau_lr = new_lr\n",
        "\n",
        "        # Save best-by-accuracy\n",
        "        if val_acc > best_val_acc:\n",
        "            best_val_acc = val_acc\n",
        "            torch.save(model.state_dict(), BEST_PATH)\n",
        "            print(f\"Saved new BEST CNN @ {best_val_acc:.1f}%\")"
      ],
      "metadata": {
        "colab": {
          "base_uri": "https://localhost:8080/",
          "height": 1000,
          "referenced_widgets": [
            "a5c4c29ecc8a412c909004269710f405",
            "18bcbfb3f72f4e00955d0ab11a76e955",
            "7216876563214715bf5cbe9639c6c1fd",
            "87954182b3d64a85977034f7823c608d",
            "9aeadbe81e56407aa10122f1dc7afdc8",
            "db98c701023643338114c64ad48ebe80",
            "fb4d4023ef4e4b7eb70eb389c13473fc",
            "34bff5cb9d1848288eddd0c9b148a7fb",
            "35bbd23f6e484b3ba824847f7409fb77",
            "0e991887a8e241dd9c4c810f48400aa2",
            "d6dc0b86d3c4467195fe43adad142d47",
            "dad67c0afd6a48c9b4f5ee3312d3c053",
            "bf12b10cf7c847bdac4612a2554b8692",
            "32d98b7816044cee85e7d7cbb4e7d44f",
            "379b02e2d924499aa2792dd3c2ff2fdf",
            "9df5bea648824d788833ca257f2d1b4a",
            "a320a42e47fc48d48c4fe8afab59cdc4",
            "9853a6bbbc174058892b5c0dabc45e99",
            "2261690082d84fa89754c213821d75b4",
            "d3f4ba26fe2b43a79f4f623bfd459f32",
            "0c43d8777aa44a8f83520df1dc68706e",
            "15a2efb8e2b94fc3bc64c0ceedbaab95",
            "71eeec6c82b14094af32d9026a25d013",
            "517b3c6d7d4b43f8b41379b5a580f5a6",
            "67009fac3ba9476a880f572a3b7b927a",
            "58ed1affa63248c7b6e995b8cff317e1",
            "46ab40f1d704462e9629d71fc49c01f7",
            "41da5e45582e43de9a30e4535992f4b2",
            "07c0604165e34369a1a446b2dc5f9938",
            "bdf5abf5c2e549148eef75100725d96d",
            "f6bc9bb3fbb042db850be4c3195b470c",
            "fa3d90ea448847c488b6c2041cf34f84",
            "66d126450b974911adfa519c5e95dac2",
            "c5ebf9bff8654095aaae1f2334295001",
            "eac20027ff5744ecb5898f1f7208795d",
            "f6eaf33ae1c74f0fbc3763f4dc37f3e4",
            "32991c71c3dd450dab665743e85d4988",
            "dfff0890a133400a87c9821f7c7a549e",
            "8cb6cb7b899d4793b24ce1dc7a61c6dc",
            "023abaf49ae2452cbc113da5138fb7d6",
            "4248a42986144fe39c3116f4636fe9fe",
            "052a0f7278254e0abcba8acc386d97cc",
            "77752a0ba06b404d9ec0e01fdfad9df0",
            "14adde3d03cf488eb8ed7574dc801c7b",
            "d8b92dff4bee4fabb3f3190006e1f6be",
            "ed1f08c97c6749d489c5d2162d1871b4",
            "2825f1aca8144980bf69a0ceb85b32e6",
            "90291464186945e39f38a8552ed72f57",
            "6fa41a0dbd79459d83487115f9dffd99",
            "2a925868665747d0a6ff0af0038d49a2",
            "ac7b4002acc34cc89f8e00836e4bdbf6",
            "e57d39427cdb42a2ad1c3400cd3b380f",
            "7bb14183f4f64e13bed18a1cb7d898f3",
            "d75c45c1049046b498039f1493f79f6f",
            "378802780b624598a3702e556d7abde3",
            "3d879698402c424c9ff229598f31191b",
            "679059d61903481b9bb958dac9549335",
            "54486b1c3a6d4040b466f40bf95bc9ad",
            "3a6f0df6c73a4d638cdef76124997459",
            "237bf3f87a2445638b09ee23343ae00c",
            "bd5a243a33a84a5d9c767bb6740a9a03",
            "6c859b120f8a42508f8cca3a411ccb0c",
            "862a07fa849940b1a18e4a5be31f6198",
            "f5a86f1c4deb41f5823c7b4170785145",
            "508b498cdfa045de8f814a17e0833091",
            "37f277a406e040b89e4d0cce460a976b",
            "09abb21d54124fe3aa561b7c2ee41d93",
            "654d21b12e514705abed552ada99e593",
            "c9b6616df8eb42c1aefb61684e0cd6ca",
            "8f18c653b93e4e7e8f69a26d974b0e6f",
            "e5304e56970a4fd0a3c5888924cd1f84",
            "025bfa70dba5413184a8da92e3246360",
            "5e5536789b4a4d5383a9b126fa73a464",
            "b543863a8d814c0dbf1e590e70cc2fbd",
            "8dafe11fe86b4377a9dcb42a2bf2a4b0",
            "f6beb621413c4432a76b5fa142997e6c",
            "a94200a1ac334c9ba72033e7301dd48d",
            "3f7ef421a8eb45e19ae35b2b69b446b2",
            "877220d056a545afb3975e4f7c363635",
            "ea748ced4b9549d2ab2cfe9c23e7ce4e",
            "53992882d6bd42a88624fec992cde88a",
            "b54cd9a01fc5476d8d28fe28bc59d26c",
            "10a3f9df5ce84928a4a42bc4592bb31d",
            "0bce850ba3e44b2db888ce4ee633c7b1",
            "0d478193e7054bafb9fdb2c0bef1c4b3",
            "bc655ddb98dd42e983971b9287930415",
            "ff25ae94aaf348529e9018b3f7d4696a",
            "f6c27dbaeb7c4fd0a2277f8f3413f9a1",
            "b52f462c130c47f2bc85eb953d99015f",
            "e3d5743f9bac46789eae387303904c76",
            "bd0f98dd168745b1bb369c8607fd4a46",
            "ad35582a34a74a9fab42ad1b7b28f585",
            "84722244df2d45bcbcfbe68eb0f59e2c",
            "ab22ebfa012d4ee4bceeae5a04326be7",
            "535733f6b95149aa956a5b9c12fc199a",
            "0065b485328147d5b7f8a7590d304e33",
            "606a6223b0f14171a222353a43d01dd2",
            "2c6b4071743b499c9c097d6c94461188",
            "74bc41795de0419c8f24a1ac65db9446",
            "f637c7bfd64048588daadd8ce84c317b",
            "0c3a6c4c6dce482694761ccbd5e0e8c8",
            "c295a972b2fe41c4b35e75581a73696d",
            "bc0bde85350a4947919c726ce1c6cf02",
            "95dc0afd4efc463888886c0d89d2bb47",
            "b7ef2aac0d7f40559d7fbd91c8ff290e",
            "1fe57277dff648a2ac536fd6594b4883",
            "37d56b8fec1e4949b73fc4374eb57b6f",
            "9ad545e72ca346cda556dd210bb9be32",
            "0a43551630454a38bac8b94805f79e4a",
            "09c341caa76c4f90b097e7bef6911389",
            "c511b2def65e461990ca3e86e2c1a205",
            "f383e2f673a046f2b4de8be6787a7ff4",
            "104ce178dcdb4933b8974d34211db841",
            "74fc2984ee5847338610bb64ab272707",
            "cfb24dff077f423b9606acd988a56cf9",
            "2a74e73f0e1840619457adcd1f99d95c",
            "be320f6a20674b04b4339a44448021a0",
            "6dec34b5b9554ac88b747d3c6b603d52",
            "6deaa21ec7a14b38aed161599c503e1f",
            "aa6cadae84944373ae4ede06e393c4f2",
            "3b2690ad3f73456394c32fe4c59e7d26",
            "adaece1e079d4d8695e213a867238c79",
            "f511862efa01466a80f4820287ab5a19",
            "11134e692d54424f9f17436a739694b1",
            "5f135048ebd44d4895a31988b9231748",
            "38d19b439b2740d3b4624e7104420549",
            "39f09266b5a94e05b396eaec27d11bdd",
            "1daf6da43bbd4a9cad1cbbba170725b5",
            "2b33579065104720ad444db5fcf54665",
            "a917223d98b94ffc9a051a5ba14684b9",
            "70aa848e6982411a9f57d62a5f4ae2a9",
            "7d500116f5144aaa9be7f766fe57f001",
            "a9c40c5475e441cea54c4d28d19a8b98",
            "03e523eb9c0c479d985d5efd7f23ca9f",
            "b2f08ddbb393455a99bb39a8edfe7c1f",
            "dbf4af52a12f49a99cdafbb43f1bf4e7",
            "7e1e36e35b1d4163bffbb8e37e751c0e",
            "c714c9cd5d814775ad69e483cd6783d0",
            "be9e09107870460bae32ca9ef0ab120f",
            "4d929c8e663444ad89b3311479ad795d",
            "278c5c0a9dc5495da475f930cdd4231b",
            "62ff31b2dd0548aeb064ee4034a47f9b",
            "1dae22f8231148539d2de5a45426f65e",
            "f3480090041e466a982799ea1041fafb",
            "a7feb4c7536042479cd1f1da7eb30db5",
            "ff28f01b2fd34439afc8db90e7badbd9",
            "e83cc5f8fd4b498b8fa37c0c2265e628",
            "4f5cfbcc55404a048707c3470d170ddd",
            "3b2a3c79cd5347e59b96ec2e9e874200",
            "76e43c83a55644a295ee18c466f9dc48",
            "034a39c5dc71479390338ea76868153d",
            "b9d1e39256544e41a07eab630dc1576c",
            "14d6eb79cd7a46bba0ffcdb23e85935c",
            "568ce2071001430fafb5ee5320b9cce1",
            "dfda493540134af88175674f226ba797",
            "41b45e31c04b47f584ad847a48ad1fc6",
            "4bd68506857845a8bac6fd4db8e10bf8",
            "c9e24e7d64d049c9ac100f522a99174f",
            "29ca2d369b9945bca5e57eaa3d377a6b",
            "87aeca6db7544e47978d8cdd84aae6a8",
            "b3b940d8e28b41adb0845e9f4a476929",
            "52474c2c84f74fd2af5345519d9370c2",
            "a21695dfadfa4a6b8eb963f0aaf03ab9",
            "5faf67889f7d41a1a3fc82673f733f77",
            "17b000d79542469e92b35a67a3344ff7",
            "f28319d58ff14d2990bf4b2affeb1866",
            "dbe262d5881c4a578a60f03effa970a7",
            "cebbfa360ea646b3ae1bdc462e71c4e7",
            "288172e5ffda4c9e85b960d4b2c99e25",
            "9b282c2679834f74aa0587f782dcbe53",
            "1040def8cec440bda59cc46773e6684c",
            "d4815825aaaf4b429d81f2b528ae146b",
            "4ca9d7ff69ca4a3e813c34d51ab6fb46",
            "6cfe755b98bf4dd7a61a93349b3582c8",
            "864f3676388b4e429a4195aa5026a959",
            "445bd5f58b9e4a59b35b565829834d4f",
            "213edffe64aa46b4b3acfcd152293170",
            "cb546139abff493c9d7cd7fdfa75dd6b",
            "33dbd9441b8442e9825943ebe67c2460",
            "4caf208c2735468e9055b939b54a0ced",
            "55e6b78a6a674ef49c957cbf6535d632",
            "0e2c734c19cc443b8ec703de4ccc7040",
            "1c4e12bfc68a44e6885297bd3b127c57",
            "965c7b603c17429db29e87a9136c3878",
            "ead0e39d4f244c579e04b94374890c1c",
            "39b56002bed94f9db8143ad865840756",
            "3db1ec538a214b5ab3917ad3288bc425",
            "8df272efa84b4d92a497727c37000b36",
            "a31396f7ce294d19b2c5fbb5b860f830",
            "096b67ccdb424378b1b1c9a51ce2c905",
            "1abc6eee89a747779454436618d7df15",
            "dfb876f42bdd404aa5dd84d713b37213",
            "5f097db01f584841aebcba86d2809693",
            "e1bceeddbe02470a9b58564d5a75a6d2",
            "0062b79eff774f46b6065df50df5fe11",
            "21fc26ac942947649886946496870a06",
            "e5ef26f95992439ab319e6d64d84cdda",
            "72cda562d8194d1c84b8bc364c29cf5f",
            "a3a7da0f9a7447aebc65f1b54edb8372",
            "9edff5c6da524f8f99634af6992b76da",
            "3bca33939a114ee8bfe6e973a14edbf2",
            "7957f6d2e5574b5290d7f817e53a9f1e",
            "e1a186227ba74c53b24b84ed708948fa",
            "b3b530beaac5424fbba612103f6607ed",
            "439dba0604df49b890d262cb6f6add5e",
            "299800863ede46bb8ad6caef0bac47cd",
            "7259d493321349b78793d71b5e0479d3",
            "dbe5300d8d7e4bd8a563febe0fddd236",
            "93650f8f0cbc456cb9ca57ff1e509776",
            "05c87a24c1f44a2c889a3d73fb9f0bc3",
            "ffb04f9c18804fc89529519776041545",
            "ec0874ad072f49a1806e1720dd6577ee",
            "bcbd44747d5b4e81a430192e8bdd439f",
            "d60a8a6116134523a5e2635f7c86a692",
            "dfaae9a3e7944ce4bb3bf82648351f77",
            "86a8c760c9094d3e96cab898b43aa550",
            "6173265de7a24e089f65b934b9fa21b4",
            "abf3596f25f648408665dd30df4efabb",
            "0b6f0d3c7c8546d4984923f98c3737a1",
            "bb8eb4c3503b45189f2d0a1f9035dc7e",
            "9ff71bb2f0ff4ae8954b59ee005e8fd6",
            "1b89e4c46ba94752be42a4f72909623b",
            "36974ed505c24d3581720d84284e284b",
            "6d7c7456f03347008d0996aba4928843",
            "69f755a12a7a420588da8dcb0d2833cd",
            "dd2ac6b672594e70a3b086514e2ae5e5",
            "e2a8516d3db445d5b2eb4b7bffeb8e3e",
            "54cf9be760624ed6a96a5487b5cf5265",
            "0637cdbde567427ea4bf0bc5fd63de2d",
            "ccf0950cde834b109318fc62a622a991",
            "7c2df7687beb4bbd87a57ebe6970c437",
            "424a596d0e5a4505b8d7015159286210",
            "fb2593a44d1547e986104d34796dfa61",
            "7dd45217bcab455fb80268734f08a2f7",
            "d9d73fc52a1649b4a6843cc7ee96abce",
            "c2576924586742bb8af228b79a1a4962",
            "d0e404c2232f4f9a9a73d94a27d8c90f",
            "e53dc55edad94603994a32602ed1581a",
            "ca909212ec074cc6a99a6bf3ba99ffcb",
            "ae194e12e4004a3ba38117001e492464",
            "5431f05c607643e8930d6afe9add8062",
            "16ff30c12ab74d0c8fd58a247cfc8669",
            "c116f634e724437ebe8c7c38a40956f6",
            "96251ed96dc9479b8354ae28b2cfc889",
            "2097ae6f67b341de8a6171c673db1081",
            "389944eca49c4ce4a23bb9b2c42d3fe5",
            "f4e2481f3b804f29887f69cb305f4f12",
            "00ded15df1654c7a98fc1ba9d06db01e",
            "e62529dd290f413fba30cbdb5758d774",
            "5f106d0d52d149d19ad167d2cd6b4512",
            "ac6c9d3facd244c88f06a209d14df0b1",
            "533f9349810f49b7b1cc783448b24f7d",
            "cdb39e4a7a5447bd8680ea9802f2ad95",
            "c09f7d32c5b8486eb198a61200d08e16",
            "2c75aabb73ce49329bbe7f49f3796651",
            "d90d8cb54c53489a8a943e850add7f4f",
            "6eb059ee3e414ee8b3e2e44973b3d347",
            "f3dc0a891f564f92888ac9b9e5706452",
            "cfe3673e02774e4f97fee839c5dff1e3",
            "38d9223e5c074b9d9b149338b4439e04",
            "85e67fd96fb0421bb5cae790c0fe60ae",
            "83881f24f0714ebda2d3206c97d1724f",
            "7471f3aeba6d4c21a43b068dfb771ae2",
            "a380f70f781f49e5aac3f56bfae9dbc6",
            "a9df10a52a2b492eba10068ff9ddbf92",
            "673e0a5c60dc42f2a1be7785f461164b",
            "ef74d744f2d84f86ae8b5530a4617419",
            "35a96693c04446088721e19c68eb724c",
            "24598ac37b8848a98ded99f57333d450",
            "bce940285a9a4ef9ae22f5477f2e5229",
            "e7fc843ac8474ffda33b98aae95370ca",
            "80b30ad7b3ec4f728be3c99b34eeb3c1",
            "8cc8f61ec5544a569b221114bc17e09b",
            "a2c17d36011d4a4dacd57b3164c0a351",
            "3044b7271ddf41899d3ba8f73bb271d1",
            "f4fbbae7019047d7b6578eef440a7011",
            "742f75ff0a3d4c71a4f227c194bf55a1",
            "0f19b662337b4980811dd0052c60cb0c",
            "5490f56d842d4758afb79260e0e3244c",
            "d406b8de8a6d4dfaa70c89275044a06a",
            "acd02f2614c84be3b58782669cc18832",
            "00eced81e5be45a383e36a56232bb39a",
            "0aca2ef7d81443b8a93d0d9c01a62a38",
            "0610ac47f3d441d49df4495adde27a0b",
            "c3a79a448df74ef79b94b0b3a6576ebf",
            "22cb87774bed46d6ba73684461521956",
            "e827884108874aaabd08c599d6befdd1",
            "5265638cee8545d1b4ccafcdba9dda14",
            "ae78d07ac03f4d1496dd5d9e5886ec29",
            "20aec4aa0b244b5ea114d11be1d622c9",
            "0a7b36349f3a4c74ae759bae402c6cab",
            "cb220235d82146afb5e07269e4bdfd99",
            "9c13f17b7f2f43d489b3446309619a25",
            "fd107ead9faf4c6bb0c6f09b375d5836",
            "960c8f7e34c749a08215cc2088255672",
            "cdb8c080e98f44da96ef697b8a4b588f",
            "2d1e1292bba646e69e74454c7d3697b9",
            "2b42beba649c48c58f0e76d159109c95",
            "9c4c5a4659604fbb9854f34df888278e",
            "abba9b72afaf4488952f48222882a8a2",
            "b90b8dbd79d64f72916ccdbfc28df939",
            "08bc0c6d650f4cd480abe3084f4b92f0",
            "31f20036e32a452d8999497c64cc2cb9",
            "ee9936e3f711445183e8b32a1185c531",
            "da5e15d245ca49119093e23757d195f3",
            "3937d84a1b5d4dfa8397b7b74dafa956",
            "97e08440d79344518bd3c8cb40321559",
            "a262e9634d8d4d25ba3f4fb1f317fedd",
            "04a2a12288f846a89866f1c8c8e88648",
            "db5cabddc6664fcca23b3707270db661",
            "4fbbf34fbea84d5b9e685248ec43ce6c",
            "a9c8097932874450bbd9310b0939f511",
            "976649accdc148a6bc5cf0565bd7a160",
            "02a06960c3a246d5866da97288eafa0e",
            "0dea0c2aac584c02a07c10ddf364a703",
            "b42bd250c63d4f11b071dc65f5535f4a",
            "8741566e4f5d4f219f5eaa49275d2073",
            "f39cc7fc09184837be6ceafdb9aad0d6",
            "ec6d804fecd54261921544f5b9f64af6",
            "3a787d0b65544e3bbd204cd68b9c2f5e",
            "58f3a644516e4661a9daa054af9d6e2a",
            "3b6cc3bcd3f24c86a5fc863d4c0e8db1",
            "be7d1aae3c354c2e8057bfb689bc1bae",
            "876287cee88f40a591ef2830e76e3cc3",
            "886297eb2e674a8a9a6a1c665c5b5e30",
            "ae2d6936675c4b62b703678e2b681214",
            "0557c998ebe54be08dc5afe6c7417f3c",
            "b463f89b4bca433bbc38438388651604",
            "3275c86959774c73bb97ed6fb9374ac6",
            "027084c988a14f55a8d0263942213ce9",
            "3bdc7d464c7047e0af2ff812a5f073d8",
            "d7bb3c9991a34aaab28830b25755bbda",
            "05e38adaf5234d36a0758f0b8e5ec30d",
            "2d7f04f963094fa59b7f34fdb2e20f73",
            "deb6ec4a49774546bcd54b3abc58df40",
            "399db77f853941cb9a98f262bdf1296c",
            "8bcfaf2032a342e59383e1c2f0412de4",
            "6534b1ea336643429c9a78750c26c983",
            "68f03f5718e4465d9e845e29f5331cf5",
            "b57931817ad14e8ba10f971a15fefbd0",
            "528e7d04e5c7471ea1f1cec0c587bb39",
            "9f74f2a151d647378c09eaa5f9fe489d",
            "995bb1f5120a4993b54b382f0b76446e",
            "2f646540f87a45e18b74a2ea2fdae176",
            "8354e3eb33dc42d9b77d0d6f88fbff63",
            "e2afd5684c29486088b1b08312338ef7",
            "e57f0c8ea2b540f3af403e0ff729b441",
            "976fa75505024569b231bbf5fe337bc5",
            "c1014157b7584bf0ae8de145e3f37d42",
            "396b03caaa384598b46b1f5c2be0a4cd",
            "523704a6a61e44a1a67a6b8e8539894d",
            "d4ad73b0891b4256985595a8a1b3a0b3",
            "28287e1bbbcd48aaba63ca62b806947d",
            "6d3157abeb9f4a6597367f3e5a239e04",
            "e42009ffa1d842c4afc73d32b5c765ad",
            "b299ed7f7c7541d6a623ec276e89df42",
            "232a43c99bfc403e80db7d9f2b4ccb18",
            "02613e823160477ba9e3783c8593f793",
            "d84392a3e191432780ce363f07dd38f6",
            "7eec88be895a47a7aabc9a4ff5abbb96",
            "de90d52d722645378f125d499e2b5fd5",
            "13a5de5584174833a26ef3c00932a734",
            "8f683254d58d4877baa7aec95a385b87",
            "6499aaa7a0b4453085452be0d2a6f808",
            "a5051065018241c081c5221b153689b3",
            "c7985f6afcf949d499cff70f2ef1a9b9",
            "82053da1d0e34165bd7043b67d952aa6",
            "9739346db6f34071b4c0028ab082b620",
            "688ec89ea01d4e96b3338ced006d49df",
            "9f6d11a718324fbc9bc51681e299fceb",
            "fda163b313f2405986ab59c716d68873",
            "4ea9e99234104d0890d6a3b2aff40781",
            "6c108ec0d922407a9fca2be70d6469b9",
            "6d8e27e77cef41468bd5ae342740c21f",
            "df49e85307de4378998e171aa6802206",
            "15811811793b47d69dc5d6ab691246bd",
            "fcef7f7f9d49475db1ee1122240a4425",
            "963e1a75ed4147e18e16a934afb3002f",
            "86d1be5f901d424d995a52af744eaf61",
            "7e166cc12796419890006c3b991151a4",
            "eae582f451f746aa9e3bd21622e3d589",
            "ab5b25ad7a0b40c3b770ad3e336467ea",
            "666bb426e2dd4f2aa9bc439f814d84f3",
            "341b3e85f08b4b32af4b9db92c2418d2",
            "2e492be0a9a84d9eae0d0ac702419dc2",
            "f331596429e14da4bcbee33528fabc41",
            "0ebe81d91f3347729fee2914f996bd7d",
            "6a76c2d6e7b94feda2ce061b92652086",
            "183a4b40d6fd4e24a194f7b308e8aa25",
            "f846da8f929d4ff486f771493c4c401d",
            "aa3b6f5fbc4a4759870bef6e01f4dfb6",
            "27a028215ff04a55a397e3dab9c3241f",
            "4475ce130ecb42bfa34ed2dae44ece38",
            "04fd0235900b474c871567ecdd2d9415",
            "cdeb55ce4cf546bd841266a5a1a1737a",
            "4c521216204743b3a37d899b64743c02",
            "ab385db5ebe84913a9d44456c74b58fb",
            "8252545915da4c8a8166506f77bdf398",
            "948a31df303747d8ae684952b5903a18",
            "11a914be16074c6e83a49999cf72ae21",
            "b109826bb1a349309d9b64257a487a7a",
            "f67c35fe1b004f9290b367dca91a197c",
            "97a91ab86e214849aa6b4f29a52d915c",
            "df34a9158fe444ca80f18dbc871ba3f4",
            "9c117a45cff74d3d857fa442d33c5061",
            "b767a48414ed4692abe8a984e11f9b5c",
            "0886bdef2b934dac8f2dd6fd6d79ed95",
            "5767b16e23cf4aac8be2a7a7d97dcf1e",
            "2b9758f920e84aa39f26a71df61f97e9",
            "fe636f4e18564ee195d93feca41a14ef",
            "5ca8f1c7da5b4efea40cf21020530b8f",
            "4cc1b89cca0540a1bb6e18148b23bd71",
            "8158bf530ea44696a1260973555a84fc",
            "8af0937354ff42cc8ef8885d283b46ca",
            "4f1cdddcf458432193554b2985daba17",
            "9f9e3a19e54a461987307f9d3f7cdb09",
            "c93956b024c04613bb4d0b2acd56d796",
            "bf89cd173bd242fbadd9ccf2843b401b",
            "f47cb45af9454cc48de378333892b0fc",
            "37617ecb131648cfb5af6f3688f4ec01",
            "ae254b9caf864662b336a8a19f18b83d",
            "1d0f8d86dd5a4302a02df706bfe6fc36",
            "4091612dc5094676935fc1c970cc51f3",
            "a0ed2eab4a0f4108ac79762e939b10ad",
            "e1831d746a90428b9bc41b506f9c7117",
            "4900577fda94446c826fbd1736ebe072",
            "71f9b149147e4e72a61fc63351045496",
            "c2da7b99396c4fc48fc6189f46bff3ac",
            "c9c66b966d4542ebb857be8c40fdb2c2",
            "ac33d09a78694bf2b26d4492c56e65e9",
            "76ee320f3e2148f18e43c45fc9621834",
            "d43e6ae7a9164d2bb67f1d78d84bd34d",
            "7de9495ce9d14265a9e4724f50fc99c0",
            "d570a0112c6447e4a28fbc8043a09d71",
            "3146507faeb349f4b16564c72b324827",
            "6fe9155d25a14667bb91776c6ac106f5",
            "c7084fcf65534b6cab1d9fe80c8240f5",
            "1a20a751620c492dabcfb08760cf7e46",
            "5eaadbd803e74a718d826ecbc4f007a1",
            "6930ab3088b249c0a4c90e056c72c6b8",
            "72b46b322ee84c729ba72087bce6ae10",
            "c0a88d3f54d14afcbb3b5614e58d53cb",
            "b1a08def66e140a6afd0d732f28f40c8",
            "5972f51636fb471a9bc5cb9e95a2040a",
            "6fa76fe214e8452c81b8eb54cedefe27",
            "01a5f12a8ebc4488b48d97737f2729a6",
            "9901763634964791b95ede2a607f56e4",
            "48b5682c07ea4df0a4d596d16dd34138",
            "274a67b5dc044820bfe14651ff2c8b0c",
            "56dc85fe200244c68f6caa072aa36850",
            "e0164f6a78e141a8ace72658805f3aa9",
            "df314c7f46884aa9a38f2cc8f918891a",
            "68c529fa45ba4afaa8d8096a3f523650",
            "f0b095f6d1744f60a7debda2882a2315",
            "c0a88de70f39477f8a9bdb7f3645dd45",
            "e92b5e6526a84d559e469dadc855e324",
            "e496b1eaf21f41ac8be299e009acfb2f",
            "edcd3a0f164f4f7581b015fa1b2bc9ae",
            "29e3f0ed218c4df69165c8114bddf69d",
            "82916c2421e742869ff7c1cf049edfbe",
            "389b19c9c6954e7fb824e0f4301599bc",
            "505cafc4cd544bb69f0859fd4e938c7a",
            "fe14ebd458a644aea23c54f52a774ee2",
            "66d3361e2264466abcf70c1e82f80e1d",
            "86ef98f97b2048419e43712f33aee4ea",
            "d360d91be73c4ecba4a14d9db5984309",
            "463405182994454c891ac8587904a67b",
            "dffa2700fb174787878c55c923cd871c",
            "e96e479f28194b42a2094fff6e985cf6",
            "bf762e21af81460faf437f76b540c6b1",
            "37bc048b8997409b8ed0c02127607a1a",
            "cb94f29309914ece82453eaafa654eab",
            "90bd64a4b2fb45d1ba76e862901691d2",
            "0aa791e876e54b90a1e40430e55fcff2",
            "56000a7d776443cba174e8952ca84221",
            "32922dc80480496fbace1239d41c8b61",
            "54917e9428f14059926203b8d6aa50cd",
            "e617c4f6835a46ef97e8ed00148c1108",
            "0e1db6a8ae404a70897720ac78e93935",
            "83034bf6999b495681c6636df7b37870",
            "cc5d8deb717c4e31b0dc64290992ac04",
            "6c19c887dba24827ab8244fa0f0bec6a",
            "786bb3a90c344024a950d810df1ec971",
            "e001967143564f33935652f6ac2ea3e8",
            "7f43b97b6ae24bd0826081d4bfa372df",
            "c85cef04b7394953a38025fead665ab5",
            "f997cdf81d2344a4bd59fdef1c18562a",
            "7704bc21e34645abab1e726a71e85c65",
            "f6c019e186214918b35c56254e79add5",
            "f787b205a3c84c01b52c2466c1ebb9ec",
            "a812a9320c3b4312a4a3be4ef5d80a61",
            "19a7c69338a1482fa4dbe0795513cfa6",
            "9a11c5711b4644cca989584a6bb435e3",
            "21c43c354c5c46439d68ed4bc7e7513c",
            "ef07f8dc49c146e9be33e68443c6efc9",
            "36c0db960e334d8f8715c4891cbda66a",
            "b76ef1f1124f482186633d17fe596aec",
            "57aba3528b004061a0dc4f11a70071af",
            "2da80aad665841d68af0fccd5725fc15",
            "c278a98b03cb431b9d5e01cff1aac4f6",
            "2d985b9b5e6d46b09685076da82d1f45",
            "d3ff4e5775c44526bb54cd4c6dbac1ea",
            "79e55949fb2f4b6d8cf1fc4404c3abf2",
            "394292904d62459ba64558e456038d30",
            "07b07b5eb7d74b3a80a05e0af141e0a1",
            "1254488d4a9a456193dec4ccb72d5399",
            "b3cf65cc319b43608f54520cf360d14f",
            "4b71ab20d89d457794ab81a0f4b8edf0",
            "f8bf6d967dac4e08832f941cdcc9d2ff",
            "ef1998e4f7bf417b8488451da66f2afc",
            "c662f777dd7d4adb9eb948d82bc002f7",
            "22f38a206fb34833bee29a95f8ebd576",
            "a489834171a34689b04539cf219335f4",
            "7d0bdb71db8b47a09c74b31f5078c9d4",
            "f2d2fbf5bacd458bb52c45aeb7d3045c",
            "5019c6789aa14dfd923c9f73ab1739f8",
            "06af72fb16ca41fca5874f99cee297f1",
            "f9ccc9a642934f6a886f91763010bb83",
            "b04a71dc5c8745e39fad611d47914c53",
            "c0687097e12b48e19e9e0e11e72eee3f",
            "d1908cc6c81f472f891ebc64202a9cfb",
            "01b97b15673f4109bd3ac8f0701c477b",
            "b15c03d0d7da465f84b7d06f0a67f55d",
            "50643527acda458084c3feb10e0c8684",
            "c819828d2b29478ca97f26e09fd65ea6",
            "ca545113bfe24f84980f36057018925b",
            "8a6ce98eba9e43b198028dcd77b18e63",
            "5e0a0c70dafa400685803e8b62a6d027",
            "189313ac15d9444ea24b6d3bd06b997f",
            "450350f242ac4cb1b5b63c62d15a0866",
            "05db5333353b4ba8a931f19418cc421f",
            "b24ee9d00ea2442db7df8872f6ee0773",
            "73773996474a439bb6d091cc1e324afc",
            "ae49dd6bf6d14c67a6bd77daa633a823",
            "b07616f5f65f4b8c847bcfb6c5ee15b1",
            "a2b617b503984784a4579a54ac04524d",
            "a10f0f2363c641e280e8eed6d41c30c9",
            "639a7203b86e4216b0fe0b27423227a5",
            "4e1c7f0ed1c7478694770b39eb035f4f",
            "68e1f97389974995af7f18e112f1c826",
            "9229347b825148b49f4e4e7b912942c6",
            "2d276f3575c14fbaa982f35a80b1d8e3",
            "eb5e5d409eb14143ab91ea0dae7637d3",
            "10c311115d5b48688858e3c9d6d834f5",
            "89c1be42b459499592d614cbe2909167",
            "ce4e7e56a35943c7b9ba26aea519e095",
            "4bce7ad7d24845099e0e2ca73550395c",
            "98708b0db1ab4a299e124eef378eebcc",
            "6b501444eb87427aa5185a6c0ff3f074",
            "c0d5496b3de749bd98cd3990da2e8926",
            "8f6153a977d6413588fba7cfb71f92f9",
            "f9dfa007ca624958ae72c33f14a94454",
            "2765bdefde1a476c99206cc356bb3126",
            "4e4f289d1f614bfaaf68a4d9d6c3c0a8",
            "929ac3588941426e80496858a4626406",
            "3aeba2e98e404d8cba562823f881ad20",
            "0b746f045a30475f81d46e447ecd7847",
            "fb9587feb84046f9b54f6554a3d239c3",
            "7a1e95b460604713b5efff5e0cd522e1",
            "83a9a87f9c02473985e76485ac58ddfb",
            "8a2adafc90144458b7f4714aec504d98",
            "46d0d52284f84e86869138c42cba6859",
            "a867d83f4aee411bbb30c0d740e75757",
            "d3ae825498bc47929291a275cf4fc652",
            "084ef6aa267c43f5a74b9d66b4e89c76",
            "a059ac529def45079b4e18243af67654",
            "19bc308694dd46eb90abee903e33d42c",
            "eaffd202f8774a5cb5c80a7e25fcde49",
            "1f5b8f9a3cb146ba9c661d00103e522b",
            "39c537bc336a401da00e56c8738255f8",
            "92af6d0afe2d41b0ab2f181d049a247a",
            "ee2030ea63c148f0ac4ae96f66677c3f",
            "dced4330d02347888066e56e463fc00e",
            "cbc0ad2b289d46ec9bd2006d28a8abe4",
            "b1223b05cc354b1c87bf8c10be4348da",
            "6cadf745543045b4a4cfef5d15255c6a",
            "6c12d3bfafda4e84b024cf2c624f3ca0",
            "f5969439d2b642bb9a378af959059827",
            "a0409f9b5e9840a992e022929806042a",
            "b8744ee6953e453682fb9c16765c8a14",
            "a48c91f5b47a438fa0f1a69a8fe963ce",
            "f808d1470a9f47ad9784a89452c71db0",
            "7f505d9d91cd4a598c11cc6ae6a721a9",
            "49c5d80809f2422c857a976370db508a",
            "4fd08480eb124165a4d5d464c71353bc",
            "55df1fe85c044717b5f8b37350c982ea",
            "6c19aad4c6a841d6822ce6838f9bbc2b",
            "c997845ab9a74c618a91720105011ce3",
            "074074890df14205951c2822bd255610",
            "22fe09dc2ef64ab49f6734c5776b9cc6",
            "80e7c16fce824a528737483a253aba9f",
            "c2e5db3284f644c59b6495a40bd6d193",
            "3728a96f97d44aa7a78be494309f8463",
            "6492b2d5ca3542d286145626298af69b",
            "93e9482e96604b8c92921371fb16d71e",
            "ae097fdea0304069b46864229bcdf4af",
            "330f49e32a274703b179cdbff30c66ac",
            "927e37596e29445db6ec7e0e11df5834",
            "197ba151f9464d10ac1ca4801af4a8a7",
            "b98b7713cedc42e8a2aa91da471810f7",
            "39f21424f96b4ff8b964f1a4804a0e00",
            "a3346e1128db4f97855bd49e82d78147",
            "5c7bc300c8814e4591140ad033f85387",
            "4a266e83a6eb428884ed6a0c5c2d9ef7",
            "c4e77894668a43fca2d621eab0d4df6a",
            "1305cb3dd49d4a9394a941cea417b295",
            "0dee4ea0d7fe47abb1eca995059f5b34",
            "664be601facc48b685cf497298de8582",
            "e9442a852eea49108464ac177596a3ef",
            "6100964f25c24a739c1a9f20c1714d3a",
            "ed1fc7050bf8469c83c5b83602c55d20",
            "a06fe82153da465e96e403b5dd34ecd6",
            "707a4e46da1e4304b18aa309e5679a43",
            "7d2eae3c292747f5b83482245f8ec01b",
            "84157080c0f342fc8815eaba56b40eb3",
            "6f2bbe6bb06142038d4bacc3a3fd9e78",
            "33939cd086a846a28ef661fe727bf6ac",
            "2a76b7cab83d421e9d78ce853c9eee65",
            "7b5e5f3815c74388b5064600196de991",
            "f4e973b15d414511be293527c42dbb94",
            "3ea77642833047bf9a778d882e6742bc",
            "5a4a9c4257fb4c48be92d61b71d16a2a",
            "6d0dd99ab9864a74b40a4a20e1dec334",
            "fd1dbd69b54e4b9ca035ba46b22f1d29",
            "6301534c498f4492800ab5baf6aa0ad2",
            "8644b7e8d0c446e38aad1638e48520a3",
            "ab2c506ea2314d6b915c107974e9801a",
            "8b0f81553070490ebe2ea33dfbf8261e",
            "cff767985aa748169180ae16e757344b",
            "13adadc88b4540259efcc60c65f25017",
            "4eb08b6e585e48e0975fbab22ba74ee4",
            "6d5ce6bfa0b248b884908e7e0899a9b3",
            "03f16b661db145e2b6d73add03080c2c",
            "e729cd3ca9ff43d5bf66c5e5daef6053",
            "5223d46b84a44e5ea54dcb9b1daae4fa",
            "7993f1e065b94e3bb337aa91e0f45476",
            "0e9d290849654014ae86bcb7aa73989a",
            "4f5e79dc11d9486aa78373aa58e15562",
            "52498aadf9a84daf8813a8f17832ac38",
            "737b108b296442c28dcba9aa38e29b66",
            "297e8221037d4a9a808a995322578f29",
            "f54b6a3a709944ad910f68a63bd9a923",
            "8e9f0732524a4cb0812234ba2bd2b0da",
            "c1cc4bfbed634c6c92c0b74fa0fba8dc",
            "e06f2f6f801444009b04d2f9a99aea62",
            "a94ce499e5e14b24a8b6f9f8cd6b7210",
            "70729eb40e9044c98c0052c29fd07f6a",
            "7bf77210d44440768e49decc428564ed",
            "8bd442ee5be946818c2f919784fec682",
            "b784a85d8a3c4027a5cd670776ea0706",
            "9635f825ad7744748486ae2452ba23d2",
            "bfe53d45c05b4c3a9f07fb4c7b2c3851",
            "f3bfd5f94e744280846b2eec9af3d6ca",
            "d5d423374b10453a8af9ca8297e1deb3",
            "a410938bb2a049d9ac76cc525478f63c",
            "faf81e0326714046ac40c41ae0f10e03",
            "bfe51c4e720a4725ae78a0f35d14f9a6",
            "fb3d7186bfbf46b5a14b335152410483",
            "8c9fd42991264815b5a55d3471e10f03",
            "6eca36e8096643c793ecc73e0943b663",
            "00c9e95987d1429dbb6f689966584b63",
            "32cad3aa5a5a4b84a0df9b39c77bec19",
            "7b9db89cf9f346f1a50d43565d62f010",
            "c423fa60978b44318b836c8b9a1e1604",
            "643f39dc21904b41a8b2579438b59618",
            "b22ba532673f43289f7a1528a0ddd87e",
            "6688b96bb9b344839a84d57402480179",
            "9ae961812dac49d8921a4115ae21b616",
            "a46dae17b17c47f8a1212284d6a82746",
            "d3c49ddb8613414e811de5e4c49a6daa",
            "6c07d322ad80495f8cb0375bff366fce",
            "892d74ac39644e8ba5974bd96c6216fa",
            "f54240dbb5984491b0f72e828896fda2",
            "2f8850f0690a4013bc329fcfad64707f",
            "3964a5fbb6374c80bdaf9170d4ffda23",
            "81f0619c80084e788eb910c940871156",
            "caf1a0134b244babad05c360a177e54d",
            "7972eb2b48be4df48f10d03bcd67baca",
            "ed1913af1879491987eaa5a10d002784",
            "9185cdacc5ce4edea56cd90d63e7d7bd",
            "b8f7212401904163bf9f0efee8cf86c8",
            "7324bbaae28f4ca4b39f607f03c53436",
            "61af699a4990406fbf7bb38c49d1db72",
            "d7906306dcf844d999d4ab246d277238",
            "12394adcbdab47b6994912a0e3401d3a",
            "45255a5a6bb64b5ea5cd3b9e57bdf491",
            "c3205210f8d045c7841c4c0d2eb81675",
            "156d2a99f20f4e81a9fc46c345f602b4",
            "4806bb3e5f85452995542fbccacf2b71",
            "39faafae6f52435ab7213227b237df75",
            "c487de533a554ab7b82c955ba2ed9aad",
            "dd61c462eefe41a68c3381c6b23c5406",
            "021e3912923e4f49a89eb13d78cc7133",
            "044e1cb391494f1c8a531911de996ca7",
            "b0e6413a6467447e9efd39cfe0ca19d0",
            "9a03ac5fecec410d9a32f85db913795d",
            "d21be74211e44435a90161c3c1d6198c",
            "5b0d60172bd042cb9b8f956d15b13b58",
            "3475697b5d444036aaa0f41bc61b49d0",
            "f1a03516012a4220a82d16f55431e1c5",
            "6a6d224e12f34adbb91eb712a243ccb8",
            "7f676c897d7a43a78684db5749d3136b",
            "6c87eb8fbeae481d998e1fd07fecd79c",
            "da80ba6e588043ba9c25e7b2c368c25e",
            "fd0023f772fc4a9fb3e32a439c77a9e0",
            "f1ecc3b23dba4800a8fd193f04b65451",
            "59bf279a88164e7aa282932262dd23da",
            "04bd5fa08c224443909a82de86243b45",
            "be893d27b64e467a9f24365594e962c9",
            "aeba5fc638784686ab6f34cbd1c99b0a",
            "492f96b2204a441ca08a5c28f92a82f1",
            "a1b9a5784671497bb9e0236f77336ba5",
            "c58044ea8bf648b19389c5fd8c76b6da",
            "282ef66743ae4924bb1da91ae755472b",
            "048a9a6d09d6464992b6b8d011028e0b",
            "0bcfc7b9a42e483b833392f6b6badc25",
            "035dddb61ab347efa019bf3f182a87a1",
            "2dc0b4d16f0e48cf9568e75ff65b4244",
            "23a68a1f55aa4f57992f4b211d0834f9",
            "921d5039e9cb40a99c41eb78998f62bd",
            "a617d742feff468c902d94de04ee52be",
            "a314afc8b2074a76ab24ccebfbb02dd2",
            "012dedcbb9194305a76bcdc2822b91b4",
            "a015760eaac74d8db080f44cb621f32c",
            "90eebd1f6194477c8d4556012c92433e",
            "a8e5a20430cf487fb27438b74999e0dd",
            "ef901dd5a28b4cb8b4e5af81db81eb01",
            "80285ec458934405b3e0da4bc89b8303",
            "577f6a549ac2499aa8ec63ec9ed64ad2",
            "50510dfd857242c29b6064ae2eca823d",
            "6ff4125c82bc4901be2a7d410e0106c2",
            "445b0b749aae499eb348aba8539fcd5b",
            "a935509bc7304f06bb12d16df2ba83ef",
            "63b2936183ac465baf026ffc9120fe24",
            "5bf653f9a4dd454d97bf0ba0c04f01d8",
            "a6832d4727834fcf80e21fbb77c48bf4",
            "6b409209760a4f5c9db5fcf2fb7ec2de",
            "65886e8b61c64f7f8cecd1dca2cd60b4",
            "4b2a713c09d645c897cb8ae0513bf4e1",
            "68966aa08ca248f6b12e87f9ed80b3f1",
            "594084524d694468adac0a9d88b699a2",
            "e68a8e5b9fe74751b0fb4979baa588dc",
            "92f7ad7c18e048589bb5d6d2c78eedb9",
            "e8f9176c2e9c4d3f82963813725a53b1",
            "d24f5d0984df4db4acd4893f51f9de30",
            "06ab13baef144b63a052ec95a82f8af5",
            "8d4fa4180da84a5da7d73b8f0b6927b7",
            "997feb30df3649dcbc56cb29454bd274",
            "771c177a4ef44353aea1f0e24a4a5e30",
            "c3448e0f60cb4ba08fb319e1cadaf8c7",
            "6dfbef4ba86841c39c3ca6ba82f54056",
            "7a38e21e721a4dd7aebf63a7585628c6",
            "8436d547890f40338c8bc1f09bc190dd",
            "f362073eabd04ab5bcc299ca7114abfb",
            "6753d381223342b2b199b52b32eafa36",
            "11f841c7876445fcb88ae75d40af5867",
            "865074b5650c47b6bc5b0d0d9d416448",
            "e7b848702dae4d6b98bef1ef7f4442e3",
            "24c45cde7bcc4a53a95e711c9c7ba048",
            "a7c447a2079b4816b3b0de06813e08b4",
            "dd26fad9c27c4f19a621fcfaead5b931",
            "1e10c51a89d040d691f91c78eb77e193",
            "fc7fe4f557ab4d2591a52dffe62073fa",
            "23678416b0d748c0a6fa0e2ae15ed8a7",
            "49ada75fcb9d486d87369cba325b7afe",
            "4d365182a2894e5e89d1b32a5a46ad75",
            "ea45a0ac6d95440882439aff841bb4ab",
            "0ab919ae3a7c42c38bc560c066dcfbd2",
            "090efe86fe4048f5bdf8badbb0366b14",
            "4e848da687174fa1a4bca563c9f9a955",
            "aabce83e1be7443192dc8dc2c4d840de",
            "2002b71315ce4a308dfdcdc2f252ee0d",
            "f15b847d08e0459c8a9707823f5844ef",
            "96aa20331ec74d369b5f46927126ef60",
            "e08ef9cc976344d6b8f3afc3d9d773a8",
            "1ad9ed902cef4f8e915883295424fb6e",
            "e0dd020ee6104c0190b51c6cf23ec118",
            "3e217380b80b444ead7d59ab5b88785f",
            "4fbceff15cd441f6b079083bc4c2da71",
            "17f14e299df54e0bbb97576f4da85efd",
            "3bfb1d325e914d779d6f4c465970ee40",
            "245cc4e392b74cdfadb91651f1417460",
            "efd04d5d267a46f38283d515b80c7d8d",
            "410175ef6cb74e16855d2e4d8381c7a2",
            "758f9b60c76f4d7195de804ae661a716",
            "803643511faf45f0ad4d7c4e3ac36b34",
            "cfd0aa547f1243bb93e0fb71e9984318",
            "0a199a73cf614a3e900a58988ded09cb",
            "5365132c6c734391945b1852b5f4ad5c",
            "d0dc024c93f34aba89748eff0c60dfaf",
            "ee5480b0c5cc4ccaa01525d3d2739c41",
            "2edb53d5b9974a60aac09b928057737f",
            "d4661436e6d34ff2b7e37fc881b13260",
            "36404b1e3e714ca3a09437a29a80e9f1",
            "c2eee7262b9f45aeb50ca6b7c297b417",
            "d20744ca5fc942b08f7922a2a75e7aff",
            "16c690507fc64ff099b69b9f8278b95c",
            "1ad28f61f2884a39b0fe65e519329eb9",
            "2ababb6f874a4aa88a7698952984435c",
            "edd1a268a95a4ce385a5bfdc0e261216",
            "9b77a2ce93984f54834391fb29a3ee3a",
            "0e83df0d576147b5a07b67786ef4787b",
            "2ebb37d5be934f8590fe016c9ed76c75",
            "c2c4190327e44ff9809ecde9d7672bb5",
            "cd8e4fbf307c4be09b13edb805c1cfc7",
            "807b1035fccf4b1398a0e11d1a186dc8",
            "6ec7f822ca0a493c9ab58967e895036e",
            "4bb544808f4b4837b5e02894f347cfff",
            "0357f4266a344b888e7e5fbdefa5f516",
            "6f08340fcb7140558951351472840761",
            "e2c5b958a58147a1b890e8d58a0c6d9e",
            "d5d59f3111e0495a9e21a1e3c8def703",
            "30a52f4886a94cb287c5ef1adffcb4c6",
            "28f12da0731a454883e91a71505b3f6d",
            "45f0cb7fa3924468aef1bafe80955b06",
            "f39c4b680a8f406f9de62b5da4304da4",
            "dde44cd02d304d3698d17feb76a370d0",
            "8f80604af0fb4852aef3c8ec412c30ff",
            "f9e5bed6e2c3474a9cbcd463dcf112d2",
            "dae78fe8e7264d9e9f6cd33bcbd7e8bc",
            "2036922630ff40699064d0e047342eab",
            "e583d62b363c4b81b31cdbcd0d812245",
            "ad775f3ade4a409ca2fb7c5378abcd29",
            "c64bdd7812dd457586498d3a5bb93f99",
            "ca033b4d921e4ea8a268c432cb6f4113",
            "f893a50e6d6049d2856887e3b195bf72",
            "4ef12abe77584cb4b42c3d30842490b7",
            "fcfd8169808f479084cb0b1e92790de0",
            "94661e2e51584e84835a6951575a21ad",
            "8a5d05685dd34f9aa18a4d9ab59ca108",
            "ce978b5dd3a14638b5e80ebacd903976",
            "6f602f7eb56840baa11ba34c37b1b44b",
            "6b0ed9b185c54349ac82aacbcfd59834",
            "0417956cff7c4111bf4aee2afcf4908f",
            "3857c1f299c3471388cd88b7410d8298",
            "13c36fa2d7034e669b5ba98ac9670c56",
            "25a5686249694f73a45b6c0fff92487f",
            "b10b55b637834e6b8ad6d580d670fbf8",
            "2d6d43c5d5c641e8b947f13f88c7edb8",
            "b227d7e4a28042778496640e32a2f6e2",
            "f19f16285fb344a9ae536a744c0d8692",
            "d82560ba834342789f18e9ce85cd785c",
            "1e376ee3495f443eb1860e12fdf9b8e8",
            "4e909e2f6e4b4cfc8a7255bdad25748d",
            "082070a68cc74d0b99304310e927bccf",
            "14f9b93b8f674c81b134df3ae6fc0dd5",
            "9f1647efb0bd4fbe9da98afd6a9829d7",
            "91243385b6c34294a0ce24f0f990bdf7",
            "c429560076ff4598aed9a6015a145041",
            "1af9ef064e374a46990d777e7c305415",
            "93d5e38f65744360b8a14e6c7de28c15",
            "d97ea21a630d48a2aa2a23a2e99ddd7e",
            "bdc5824ee0c54f95b372edd1d383747e",
            "809db38f1b054148b68a82aa2adf2fe0",
            "11717d433c8145ca968ec555675e6cfe",
            "dacd9be4af1b4477879273e28bdc1f92",
            "128e3531fdbb4a9ab758ecc82794c124",
            "ca8e4211646e40478683aaa4913b1907",
            "55fbd9e6321846f299992f55a03b307e",
            "e6074fee3d0840e5b26a1f0b8e91c764",
            "4e6d5955ad904f1cb5dfc73e334a2e46",
            "64e887935dc146aca7f85fcc80c530aa",
            "0482d8aa381f4984b215b07e86461a40",
            "d4f46d10577d4c1b8ffcc8aac04efd5f",
            "ea09d6875f9547bbb871edca13fc9cf0",
            "e8e9cffa37c14fb6b6bf649af8c006df",
            "0179ca504f1b4c7b9695c45e0307d061",
            "b53aa0bad2624efd9e1d4e1f2955731b",
            "46b2d1cb7ed04ed6a673360cc650f9b6",
            "cfc6988f973949ff9dd29432e640eaf7",
            "20996c69bd65459899de7e025b3dfa38",
            "e7b5ae0e03d44bb7a64bcaaa129ee3c6",
            "dca52844e19c405aa1354877f41517b5",
            "e22b6d5c3ac040d5a52e03b612106541",
            "f6b328f4105849999576bf73ee1a56f5",
            "76c6c4665490486a8a6ad96bc78b4c53",
            "f99fe31565fc47409d63210fc3a65e04",
            "9a80c8932f444008a5f6d5e36ca6b1c3",
            "beabc6ca458c4bf6b22bbd95d6e27856",
            "00a4cec010ee45859d5941d80e894b5d",
            "dd50da2324df407b9d957f46f82844dc",
            "7a1c83e8ef1846d38dec9867c1613298",
            "f61c29fcd3644ea59176fd752fec81d8",
            "e864678f040d4d3eb33b0486845fda4c",
            "06becbfd11814b3ab3e36ce9b7f35252",
            "53c777f39ec94540a827e5c510bf026b",
            "0f9e38d94d894dac99396ffeda206fd5",
            "428a5dadbda049ce8465eba3ae2b9585",
            "7a53d1a720514698990e54ca7d3682f8",
            "b1c40dd832c84f18b494d145c311bf66",
            "6dd862cf8c7244e99e16be2e5fd75df9",
            "321ad2b706fd40ab9512b9f9618da2be",
            "295e65bba5d74f06a71b4ca03c16297e",
            "6e16913c33134ccea84f2dc451e94d72",
            "d4c1ebbcf9564588ad3bf1e750866d7a",
            "de8df6fcd9f3435f925f3ef0b542a302",
            "b75566ce8d3b423e8e6ef5e79754dda4",
            "dc7ade3901a24225a19fac7ebdec9023",
            "59001080c0cf4a368e6b054405e9498c",
            "789847f25095405f8c1fbc59e7d05bce",
            "ab52097414da4d18a904084c39ece0cc",
            "7bbd8c4f002447b5a271c3a3f4a4e2ff",
            "12863864355a4992a59a1bc769f600d1",
            "78711553768d4e7bb1870f86f03a23b0",
            "497129e286904a6693e4e80caf0f6f68",
            "55e433a4b34943578896d24cc0e58e73",
            "1c1a429af3f543cb877c7279a819b173",
            "d1e325c2ffac4b54bc7832c3991373fb",
            "e10f763ae4d0491a879231a4ed7f4bf4",
            "6d05f9f5e91647fd9b0731e6811440b0",
            "700d2d9faa9046068b6c195e5a9a7775",
            "d594a24f932d464f855ad9d18b1659a4",
            "9ab63ad067e940edb9b3d1c4740fd74f",
            "7f4c3d7df512489abe82779d7b4b0483",
            "9df396b0cf174db0b3c495d5fd7c18de",
            "a208023671834c93a430b1a340eae436",
            "2f508adfe90348848d17dc458eac81fc",
            "2a3211d3d7f24bf0ac4c4bde19160e70",
            "f14cdb66a3df41f49d223727a7b7662d",
            "7a8696e496644815913e6c832dbad4a0",
            "08a734d1df5f49efbc90a645ab61f1af",
            "c8b07c6f12884026ab849a7d62ba048e",
            "8d9daf5eea4c4a51ae0c3b9d36854a51",
            "7b0841ba20044b5a8b04d4a8eba4e280",
            "66fece2190434d4db41c7db04f0fa3c5",
            "3497967bff1048b0bf1f1c417af09ee6",
            "ee7fbe60f0d34197a48d99e34c3da05b",
            "a210b5669c63491b95136876f763a84d",
            "ae3ce581d0a249daa0cb3e8820f14faa",
            "9d27e04266134b12ba369abcc6ca4d97",
            "7dfa6affec0a42d8942836950dbe14ba",
            "ab47c81d00e7430d8c962a3da5397b80",
            "77d36b5c96b64dbfaeccb90c23aa53c3",
            "565d951712db42a08608d990f5372f10",
            "c5a3614ab7eb4fbc9a3f7d2e4390a2ba",
            "91a80f5399674ec79575e9a9f9059a19",
            "9e1fbf4461494004af79c28140546000",
            "f50290f4589044929b5db86c480f4bc5",
            "a04b7d19d4354d6da576420aa45dcc29",
            "d1781a3d52eb403eb79513e81d74b275",
            "02fea8d14bf9422f91f1ed750d183a98",
            "00c34b5cf2894944a95c22859755cbf2",
            "76a1fe65e4e14b6993d90e38f5fc99a5",
            "88f0901ac04849fa8e35b031da952757",
            "8d1503d99b77402184726c1fd81ae7f0",
            "3c82b477a6134b35abe70964f8a9e21f",
            "eabd2391ee124b66b198786a2ac8cd81",
            "079831f90b6e475388639e173d2a7776",
            "54ea5c4bc2054c4aa034f86b2d6e57b4",
            "4fe41b384bdb4c25b22552649645d787",
            "dca3a28950e44b059e4483ac0e6fc84f",
            "9de94e2776c6426eb1528b0e0f98d630",
            "d5ab2851e50b48d998873b16701b97a8",
            "efa027e37a314301910903977a5cdfd8",
            "70d9c26caad14e86bb5bcc70e738cfd2",
            "57e2d9c212274ef981dbec6fff2ddd78",
            "d548f42288894b95b01f00dd6a880f54",
            "f5eb2b1d810f4f9a8c1bff5b3f190e7c",
            "c8b3e3e5171542d1a943a2d2172b70af",
            "fbf5c15be37b414abb35967ecb0093f2",
            "fcc22ef5ca9e4548a632797d73cbee41",
            "e294645d531947f790274d5bea19e244",
            "eea1cef8b8a743dbb570c04a01bdf2c1",
            "20685990df324854a98440b50d2eb197",
            "18f1fca99a4a447393d8c9dfbb349aec",
            "06bebd1d98684370857efe207aafb13d",
            "59f9c641599a45eda157a924afa4a19d",
            "8fe3235a794a4d888fff9261fcfe0419",
            "4de0029e7a1b498a9ba20412d08ddb2b",
            "c0a153f286a247ecbb8815ab535e2461",
            "bd6458a4a73f4d4c9984c826de4346a1",
            "3efd54587a814e05983f2c17b68f2ac3",
            "935e85edcd6f424a8ab2b6bb4a55b65a",
            "f2b3a506aaf14565a6c5f0fa1150db5d",
            "08e6818d94e9496d981d0d7a5f0e5def",
            "abfbe1310b264fdab86400984245397c",
            "2fc0cb19549a4975b2c2ce86ae7b85f7",
            "34116ca4db5b4e5d81896f8ddde6d4d6",
            "4c847f1a453949bca172cb229dc2e13f",
            "17871e17a53140e3aaffbedc5ad60a90",
            "3612700078614f92ab2ca4f6123c1cb0",
            "8b3e65f25ab64eeb979287d94cff6400",
            "11df4d6c9293413fa1c5ab86f85c67c5",
            "5dc8be387d3740c0800b2574c273aec4",
            "ea6881bc238b420f8f80eb1dd9dc488e",
            "0c89556b204241809c8e6a59f6c1a5e2",
            "c14f038472d0488f850c28234cd32409",
            "3313f4e5d85644fda50123d1b253c5a1",
            "6b1fa79068f44612a8ddfd2ab34e8505",
            "1f951cb797b44cd589390a28e4b260e6",
            "171394f3e35b4e45a48e61b61e856dcf",
            "7239f08b69574fe5b21638e36f6d3069",
            "c4f26edaf6da4252af6cf6d10a564c82",
            "32a7c7c66a7f4abc8df9e0f3b090bade",
            "0ae0874a97ac4da8b1d98dcefaee34a9",
            "2820a1dfd6d14b2eb8815f60c516cdc9",
            "345e3f060a9445ef84f7cc2a45cabbc9",
            "7fbdba4d34a14df8bd42c2abcff678f9",
            "383191c5650443b89bd10d28a4958ad3",
            "9956cc69710a46b3b0fe6893fea26d2e",
            "46bf822a76a740df8ea1777ac1492284",
            "94a3139b00a94defafe28c569924985f",
            "2cb88d484f214a52abbd367546b8bbdf",
            "7135453ce71d4446a2285e08a965178d",
            "4375e8303686496092f1c3612bea14f0",
            "9989f20e4e164a8c97985f30dbeca05d",
            "589e5dc593324a0da162757653f96583",
            "be1d3b1c8e944d00b7afaa06e45536b7",
            "f4000886225e4a6f8ee6db2986a3ef8b",
            "b9686a87007a44e9943d05d38f4dc0b4",
            "13cabe32d1f647f2bd8e922d7a274b23",
            "6ce74f1d5475478c80d6120738737810",
            "ee52100a78c6441babdecacaedafa807",
            "d687d8b81a9d45febaa9132e86eb8720",
            "3dd184d9f81c49c8abb9dd7e5848026c",
            "ed516211d4214296bb102ea257c686ed",
            "6de74fe3b7724694a2263164931dca09",
            "4505f4e455214bc4938ccdc5592c3671",
            "f8d3152e24fd4eadabcc3c823307839b",
            "f52497e8b5474474891e4e691b60a98d",
            "967c021cdbb44b308da3c53fb50413da",
            "7f5ff88abd1a4d18b45e6fb78b6cb040",
            "2e2af0c2b37e43bc8e64192d3bc9a00b",
            "92eea593e34b496e8f0e52f1943c2f32",
            "83098f586be14af1849227bef6c59fd9",
            "90d4d9ca82f24f5b85468a6c7eede20c",
            "fb0dcc7d00944a9f98dd4e3bd471d83c",
            "89ce57dd29b1448095eed412749a2f86",
            "5509a4c2441847e6bfbe0bd4f6ea464a",
            "6d2738205257400dacebe274fbc802ee",
            "0cb34a12ee6841b7ac6a6276b675907b",
            "b6c3f994cff8427ea52bd3844f8f6145",
            "43821479cf4745d3b06ffea6a2c937f8",
            "67dee7faf6cb439eb2d8a8d18fdc6dcc",
            "40c7a127d84745789212e6a2664687c0",
            "40f12cc235144855be8e6e1b17262cd7",
            "e4d1d383a6f945e9923a80fe8c1850f0",
            "2847d7d49d274739900b937ab4816b97",
            "5276af6bc7754b8c9ea65b09560944e7",
            "620e7797ba7242ea82c5ab7696130482",
            "cc03626648fb4b16866d4f916d334d42",
            "224342d186874240bc4e59c9bfaef47f",
            "805407cda556485f80ccd4aff874ad76",
            "72017934cf0e46238193fc1864cfc88d",
            "51f24cdd3e7e423d8ec0d06058903622",
            "2c213dd3ace74a33b024f1121afc6bdd",
            "e068747454ae4785915d6491ee03efaa",
            "14c87fb1ae8d413c9a8e47f24657b4eb",
            "bbceddf8ade5411f8d543889de69f50f",
            "653995b045f945adbe41cd979ff91a78",
            "d247aa1c503a4d38802ab361e7d8193e",
            "da429f00df9c4628a2f01b519ad17445",
            "6c56ca7ffcf2427c981bace71917d67c",
            "63746ab286634cb89ffd809193e18684",
            "c7bcc229890449c7bdf24f3fc26dd263",
            "3a30590e84444e178567b56b22b027fc",
            "8a7dbf84e9b748e4969e962afd691298",
            "f711b846bfe6472191c0ddd5ea2507bf",
            "a75a80cf6bab4656ba936352eece8d69",
            "798ceb7938864423ab5e6a6e5334d6e0",
            "167eea63b6d4494ab6bf6dff4ac58267",
            "36a4d2a06bb44fe897a21ab07c8bd2ca",
            "4dbad2d15adb4da88f2d585022c63f9f",
            "a6c38b0662344f43b276d3555d0fe30e",
            "bbad98c8ba354592b3352e8e3c61e231",
            "97fa3479bf6e40b68cc2fc54585cd8bc",
            "bb1214b962a84524b9e62cf5c9d4c1a5",
            "fff3887ae01f4d05973827652ac538be",
            "2a65005e39ea4be9a64169a09b5ad2a9",
            "db84f4afda4e410c8a9397059dd898f3",
            "bdf36f9d0f854b9093a75cdbf06e5ed8",
            "c429aa7f99194d9588849802ce03735a",
            "4c812cba8a954e34a46778149e746fbc",
            "97cc3e1bd34a421da7747a843ea4a4fe",
            "f646d8347ff0433c8e2c89b4af5feb89",
            "c4d76da0c4a541c1be8038abf7ca2e0f",
            "34cf1520d82641c2bf2408b77ec92fd2",
            "0d2ace2b212a4df6a54da772537fd20f",
            "67209de8e662443bb01a5ab65b6d2a59",
            "7c5fa3d100fe4df0936a752b0225cd6f",
            "756986641db64b74b53092e7532f44cb",
            "65716e08d0cf49c5a0926438161fc454",
            "3144a15409ad4d0eb4fde0209493d26f",
            "fad5c8fac2fa4cf388c380169f7a3638",
            "c277c077efdb431cba9aaf0dda59b93a",
            "4e8f7c25731d41d5be9b1642a9555b0b",
            "4ae6bc5647c940ed9e40b685276dba7b",
            "827ec26fe93e4773a2dd537287de1ba0",
            "c50c85aa10164ea49c565e8c003e7971",
            "1e0c80ec7ec24f57a85bfafa9cbb2b44",
            "31bf9b5c5ae44be79fbb60759cfcd54e",
            "bf5718b283384d0c8a390f7d9341b8d0",
            "488a49e2d29c4669ad215a32f134145e",
            "921479f516694b879a1bce99c7d287e7",
            "ecef1dec92304476b779d10578c63374",
            "fa077d298d114c7d8590b11cef5402c5",
            "edcbc624b7b64961afc31a382685dee6",
            "ce1d83f02cb3467f90cdc16bc7c72836",
            "1a2c9ac095694f969e2faa225f414a5f",
            "f5c7e1c343134b1cb5f3fa917497064c"
          ]
        },
        "id": "XLFLhJOrAt26",
        "outputId": "019a167f-74c2-4260-9454-feff2860424e",
        "collapsed": true
      },
      "execution_count": null,
      "outputs": [
        {
          "output_type": "stream",
          "name": "stderr",
          "text": [
            "/usr/local/lib/python3.12/dist-packages/huggingface_hub/_login.py:337: UserWarning: \n",
            "The secret `HF_TOKEN` does not exist in your Colab secrets.\n",
            "To authenticate with the Hugging Face Hub, create a token in your settings tab (https://huggingface.co/settings/tokens), set it as secret in your Google Colab and restart your session.\n",
            "You will be able to reuse this secret in all of your notebooks.\n",
            "Please note that authentication is recommended but still optional to access public models or datasets.\n",
            "  warnings.warn(\n",
            "/usr/local/lib/python3.12/dist-packages/datasets/load.py:1429: FutureWarning: The repository for google/speech_commands contains custom code which must be executed to correctly load the dataset. You can inspect the repository content at https://hf.co/datasets/google/speech_commands\n",
            "You can avoid this message in future by passing the argument `trust_remote_code=True`.\n",
            "Passing `trust_remote_code=True` will be mandatory to load this dataset from the next major release of `datasets`.\n",
            "  warnings.warn(\n"
          ]
        },
        {
          "output_type": "display_data",
          "data": {
            "text/plain": [
              "Epoch 01:   0%|          | 0/663 [00:00<?, ?it/s]"
            ],
            "application/vnd.jupyter.widget-view+json": {
              "version_major": 2,
              "version_minor": 0,
              "model_id": "a5c4c29ecc8a412c909004269710f405"
            }
          },
          "metadata": {}
        },
        {
          "output_type": "stream",
          "name": "stderr",
          "text": [
            "/usr/local/lib/python3.12/dist-packages/torch/optim/lr_scheduler.py:216: UserWarning: Detected call of `lr_scheduler.step()` before `optimizer.step()`. In PyTorch 1.1.0 and later, you should call them in the opposite order: `optimizer.step()` before `lr_scheduler.step()`.  Failure to do this will result in PyTorch skipping the first value of the learning rate schedule. See more details at https://pytorch.org/docs/stable/optim.html#how-to-adjust-learning-rate\n",
            "  warnings.warn(\n"
          ]
        },
        {
          "output_type": "stream",
          "name": "stdout",
          "text": [
            "Epoch 01 \u279c train 4.0% | val 6.0% (loss 3.478) | lr 1.00e-04\n",
            "\u2605 Saved new BEST CNN @ 6.0%\n"
          ]
        },
        {
          "output_type": "display_data",
          "data": {
            "text/plain": [
              "Epoch 02:   0%|          | 0/663 [00:00<?, ?it/s]"
            ],
            "application/vnd.jupyter.widget-view+json": {
              "version_major": 2,
              "version_minor": 0,
              "model_id": "dad67c0afd6a48c9b4f5ee3312d3c053"
            }
          },
          "metadata": {}
        },
        {
          "output_type": "stream",
          "name": "stdout",
          "text": [
            "Epoch 02 \u279c train 15.5% | val 51.6% (loss 1.857) | lr 2.00e-04\n",
            "\u2605 Saved new BEST CNN @ 51.6%\n"
          ]
        },
        {
          "output_type": "display_data",
          "data": {
            "text/plain": [
              "Epoch 03:   0%|          | 0/663 [00:00<?, ?it/s]"
            ],
            "application/vnd.jupyter.widget-view+json": {
              "version_major": 2,
              "version_minor": 0,
              "model_id": "71eeec6c82b14094af32d9026a25d013"
            }
          },
          "metadata": {}
        },
        {
          "output_type": "stream",
          "name": "stdout",
          "text": [
            "Epoch 03 \u279c train 58.6% | val 80.8% (loss 0.977) | lr 3.00e-04\n",
            "\u2605 Saved new BEST CNN @ 80.8%\n"
          ]
        },
        {
          "output_type": "display_data",
          "data": {
            "text/plain": [
              "Epoch 04:   0%|          | 0/663 [00:00<?, ?it/s]"
            ],
            "application/vnd.jupyter.widget-view+json": {
              "version_major": 2,
              "version_minor": 0,
              "model_id": "c5ebf9bff8654095aaae1f2334295001"
            }
          },
          "metadata": {}
        },
        {
          "output_type": "stream",
          "name": "stdout",
          "text": [
            "Epoch 04 \u279c train 74.9% | val 86.9% (loss 0.806) | lr 4.00e-04\n",
            "\u2605 Saved new BEST CNN @ 86.9%\n"
          ]
        },
        {
          "output_type": "display_data",
          "data": {
            "text/plain": [
              "Epoch 05:   0%|          | 0/663 [00:00<?, ?it/s]"
            ],
            "application/vnd.jupyter.widget-view+json": {
              "version_major": 2,
              "version_minor": 0,
              "model_id": "d8b92dff4bee4fabb3f3190006e1f6be"
            }
          },
          "metadata": {}
        },
        {
          "output_type": "stream",
          "name": "stdout",
          "text": [
            "Epoch 05 \u279c train 79.8% | val 88.9% (loss 0.737) | lr 5.00e-04\n",
            "\u2605 Saved new BEST CNN @ 88.9%\n"
          ]
        },
        {
          "output_type": "display_data",
          "data": {
            "text/plain": [
              "Epoch 06:   0%|          | 0/663 [00:00<?, ?it/s]"
            ],
            "application/vnd.jupyter.widget-view+json": {
              "version_major": 2,
              "version_minor": 0,
              "model_id": "3d879698402c424c9ff229598f31191b"
            }
          },
          "metadata": {}
        },
        {
          "output_type": "stream",
          "name": "stdout",
          "text": [
            "Epoch 06 \u279c train 82.1% | val 88.7% (loss 0.734) | lr 6.00e-04\n"
          ]
        },
        {
          "output_type": "display_data",
          "data": {
            "text/plain": [
              "Epoch 07:   0%|          | 0/663 [00:00<?, ?it/s]"
            ],
            "application/vnd.jupyter.widget-view+json": {
              "version_major": 2,
              "version_minor": 0,
              "model_id": "09abb21d54124fe3aa561b7c2ee41d93"
            }
          },
          "metadata": {}
        },
        {
          "output_type": "stream",
          "name": "stdout",
          "text": [
            "Epoch 07 \u279c train 83.8% | val 91.3% (loss 0.659) | lr 7.00e-04\n",
            "\u2605 Saved new BEST CNN @ 91.3%\n"
          ]
        },
        {
          "output_type": "display_data",
          "data": {
            "text/plain": [
              "Epoch 08:   0%|          | 0/663 [00:00<?, ?it/s]"
            ],
            "application/vnd.jupyter.widget-view+json": {
              "version_major": 2,
              "version_minor": 0,
              "model_id": "3f7ef421a8eb45e19ae35b2b69b446b2"
            }
          },
          "metadata": {}
        },
        {
          "output_type": "stream",
          "name": "stdout",
          "text": [
            "Epoch 08 \u279c train 84.6% | val 92.1% (loss 0.635) | lr 8.00e-04\n",
            "\u2605 Saved new BEST CNN @ 92.1%\n"
          ]
        },
        {
          "output_type": "display_data",
          "data": {
            "text/plain": [
              "Epoch 09:   0%|          | 0/663 [00:00<?, ?it/s]"
            ],
            "application/vnd.jupyter.widget-view+json": {
              "version_major": 2,
              "version_minor": 0,
              "model_id": "b52f462c130c47f2bc85eb953d99015f"
            }
          },
          "metadata": {}
        },
        {
          "output_type": "stream",
          "name": "stdout",
          "text": [
            "Epoch 09 \u279c train 85.4% | val 92.3% (loss 0.634) | lr 9.00e-04\n",
            "\u2605 Saved new BEST CNN @ 92.3%\n"
          ]
        },
        {
          "output_type": "display_data",
          "data": {
            "text/plain": [
              "Epoch 10:   0%|          | 0/663 [00:00<?, ?it/s]"
            ],
            "application/vnd.jupyter.widget-view+json": {
              "version_major": 2,
              "version_minor": 0,
              "model_id": "f637c7bfd64048588daadd8ce84c317b"
            }
          },
          "metadata": {}
        },
        {
          "output_type": "stream",
          "name": "stdout",
          "text": [
            "Epoch 10 \u279c train 86.4% | val 92.3% (loss 0.627) | lr 1.00e-03\n"
          ]
        },
        {
          "output_type": "display_data",
          "data": {
            "text/plain": [
              "Epoch 11:   0%|          | 0/663 [00:00<?, ?it/s]"
            ],
            "application/vnd.jupyter.widget-view+json": {
              "version_major": 2,
              "version_minor": 0,
              "model_id": "c511b2def65e461990ca3e86e2c1a205"
            }
          },
          "metadata": {}
        },
        {
          "output_type": "stream",
          "name": "stdout",
          "text": [
            "Epoch 11 \u279c train 86.9% | val 93.1% (loss 0.604) | lr 1.00e-03\n",
            "[Plateau] LR reduced: 1.00e-03 -> 1.00e-03\n",
            "\u2605 Saved new BEST CNN @ 93.1%\n"
          ]
        },
        {
          "output_type": "display_data",
          "data": {
            "text/plain": [
              "Epoch 12:   0%|          | 0/663 [00:00<?, ?it/s]"
            ],
            "application/vnd.jupyter.widget-view+json": {
              "version_major": 2,
              "version_minor": 0,
              "model_id": "adaece1e079d4d8695e213a867238c79"
            }
          },
          "metadata": {}
        },
        {
          "output_type": "stream",
          "name": "stdout",
          "text": [
            "Epoch 12 \u279c train 87.6% | val 93.1% (loss 0.593) | lr 9.99e-04\n",
            "[Plateau] LR reduced: 1.00e-03 -> 9.99e-04\n"
          ]
        },
        {
          "output_type": "display_data",
          "data": {
            "text/plain": [
              "Epoch 13:   0%|          | 0/663 [00:00<?, ?it/s]"
            ],
            "application/vnd.jupyter.widget-view+json": {
              "version_major": 2,
              "version_minor": 0,
              "model_id": "a9c40c5475e441cea54c4d28d19a8b98"
            }
          },
          "metadata": {}
        },
        {
          "output_type": "stream",
          "name": "stdout",
          "text": [
            "Epoch 13 \u279c train 88.2% | val 93.9% (loss 0.565) | lr 9.99e-04\n",
            "[Plateau] LR reduced: 9.99e-04 -> 9.99e-04\n",
            "\u2605 Saved new BEST CNN @ 93.9%\n"
          ]
        },
        {
          "output_type": "display_data",
          "data": {
            "text/plain": [
              "Epoch 14:   0%|          | 0/663 [00:00<?, ?it/s]"
            ],
            "application/vnd.jupyter.widget-view+json": {
              "version_major": 2,
              "version_minor": 0,
              "model_id": "f3480090041e466a982799ea1041fafb"
            }
          },
          "metadata": {}
        },
        {
          "output_type": "stream",
          "name": "stdout",
          "text": [
            "Epoch 14 \u279c train 88.7% | val 93.9% (loss 0.567) | lr 9.98e-04\n",
            "[Plateau] LR reduced: 9.99e-04 -> 9.98e-04\n",
            "\u2605 Saved new BEST CNN @ 93.9%\n"
          ]
        },
        {
          "output_type": "display_data",
          "data": {
            "text/plain": [
              "Epoch 15:   0%|          | 0/663 [00:00<?, ?it/s]"
            ],
            "application/vnd.jupyter.widget-view+json": {
              "version_major": 2,
              "version_minor": 0,
              "model_id": "dfda493540134af88175674f226ba797"
            }
          },
          "metadata": {}
        },
        {
          "output_type": "stream",
          "name": "stdout",
          "text": [
            "Epoch 15 \u279c train 89.1% | val 94.1% (loss 0.568) | lr 9.97e-04\n",
            "[Plateau] LR reduced: 9.98e-04 -> 9.97e-04\n",
            "\u2605 Saved new BEST CNN @ 94.1%\n"
          ]
        },
        {
          "output_type": "display_data",
          "data": {
            "text/plain": [
              "Epoch 16:   0%|          | 0/663 [00:00<?, ?it/s]"
            ],
            "application/vnd.jupyter.widget-view+json": {
              "version_major": 2,
              "version_minor": 0,
              "model_id": "f28319d58ff14d2990bf4b2affeb1866"
            }
          },
          "metadata": {}
        },
        {
          "output_type": "stream",
          "name": "stdout",
          "text": [
            "Epoch 16 \u279c train 89.3% | val 93.9% (loss 0.568) | lr 9.95e-04\n",
            "[Plateau] LR reduced: 9.97e-04 -> 9.95e-04\n"
          ]
        },
        {
          "output_type": "display_data",
          "data": {
            "text/plain": [
              "Epoch 17:   0%|          | 0/663 [00:00<?, ?it/s]"
            ],
            "application/vnd.jupyter.widget-view+json": {
              "version_major": 2,
              "version_minor": 0,
              "model_id": "213edffe64aa46b4b3acfcd152293170"
            }
          },
          "metadata": {}
        },
        {
          "output_type": "stream",
          "name": "stdout",
          "text": [
            "Epoch 17 \u279c train 89.8% | val 94.5% (loss 0.547) | lr 9.94e-04\n",
            "[Plateau] LR reduced: 9.95e-04 -> 9.94e-04\n",
            "\u2605 Saved new BEST CNN @ 94.5%\n"
          ]
        },
        {
          "output_type": "display_data",
          "data": {
            "text/plain": [
              "Epoch 18:   0%|          | 0/663 [00:00<?, ?it/s]"
            ],
            "application/vnd.jupyter.widget-view+json": {
              "version_major": 2,
              "version_minor": 0,
              "model_id": "8df272efa84b4d92a497727c37000b36"
            }
          },
          "metadata": {}
        },
        {
          "output_type": "stream",
          "name": "stdout",
          "text": [
            "Epoch 18 \u279c train 90.2% | val 94.5% (loss 0.541) | lr 9.92e-04\n",
            "[Plateau] LR reduced: 9.94e-04 -> 9.92e-04\n"
          ]
        },
        {
          "output_type": "display_data",
          "data": {
            "text/plain": [
              "Epoch 19:   0%|          | 0/663 [00:00<?, ?it/s]"
            ],
            "application/vnd.jupyter.widget-view+json": {
              "version_major": 2,
              "version_minor": 0,
              "model_id": "a3a7da0f9a7447aebc65f1b54edb8372"
            }
          },
          "metadata": {}
        },
        {
          "output_type": "stream",
          "name": "stdout",
          "text": [
            "Epoch 19 \u279c train 90.5% | val 94.9% (loss 0.533) | lr 9.90e-04\n",
            "[Plateau] LR reduced: 9.92e-04 -> 9.90e-04\n",
            "\u2605 Saved new BEST CNN @ 94.9%\n"
          ]
        },
        {
          "output_type": "display_data",
          "data": {
            "text/plain": [
              "Epoch 20:   0%|          | 0/663 [00:00<?, ?it/s]"
            ],
            "application/vnd.jupyter.widget-view+json": {
              "version_major": 2,
              "version_minor": 0,
              "model_id": "05c87a24c1f44a2c889a3d73fb9f0bc3"
            }
          },
          "metadata": {}
        },
        {
          "output_type": "stream",
          "name": "stdout",
          "text": [
            "Epoch 20 \u279c train 90.7% | val 95.0% (loss 0.534) | lr 9.87e-04\n",
            "[Plateau] LR reduced: 9.90e-04 -> 9.87e-04\n",
            "\u2605 Saved new BEST CNN @ 95.0%\n"
          ]
        },
        {
          "output_type": "display_data",
          "data": {
            "text/plain": [
              "Epoch 21:   0%|          | 0/663 [00:00<?, ?it/s]"
            ],
            "application/vnd.jupyter.widget-view+json": {
              "version_major": 2,
              "version_minor": 0,
              "model_id": "9ff71bb2f0ff4ae8954b59ee005e8fd6"
            }
          },
          "metadata": {}
        },
        {
          "output_type": "stream",
          "name": "stdout",
          "text": [
            "Epoch 21 \u279c train 90.8% | val 94.8% (loss 0.535) | lr 9.85e-04\n",
            "[Plateau] LR reduced: 9.87e-04 -> 9.85e-04\n"
          ]
        },
        {
          "output_type": "display_data",
          "data": {
            "text/plain": [
              "Epoch 22:   0%|          | 0/663 [00:00<?, ?it/s]"
            ],
            "application/vnd.jupyter.widget-view+json": {
              "version_major": 2,
              "version_minor": 0,
              "model_id": "424a596d0e5a4505b8d7015159286210"
            }
          },
          "metadata": {}
        },
        {
          "output_type": "stream",
          "name": "stdout",
          "text": [
            "Epoch 22 \u279c train 91.0% | val 95.1% (loss 0.530) | lr 9.82e-04\n",
            "[Plateau] LR reduced: 9.85e-04 -> 9.82e-04\n",
            "\u2605 Saved new BEST CNN @ 95.1%\n"
          ]
        },
        {
          "output_type": "display_data",
          "data": {
            "text/plain": [
              "Epoch 23:   0%|          | 0/663 [00:00<?, ?it/s]"
            ],
            "application/vnd.jupyter.widget-view+json": {
              "version_major": 2,
              "version_minor": 0,
              "model_id": "c116f634e724437ebe8c7c38a40956f6"
            }
          },
          "metadata": {}
        },
        {
          "output_type": "stream",
          "name": "stdout",
          "text": [
            "Epoch 23 \u279c train 91.1% | val 94.8% (loss 0.539) | lr 9.79e-04\n",
            "[Plateau] LR reduced: 9.82e-04 -> 9.79e-04\n"
          ]
        },
        {
          "output_type": "display_data",
          "data": {
            "text/plain": [
              "Epoch 24:   0%|          | 0/663 [00:00<?, ?it/s]"
            ],
            "application/vnd.jupyter.widget-view+json": {
              "version_major": 2,
              "version_minor": 0,
              "model_id": "c09f7d32c5b8486eb198a61200d08e16"
            }
          },
          "metadata": {}
        },
        {
          "output_type": "stream",
          "name": "stdout",
          "text": [
            "Epoch 24 \u279c train 91.4% | val 94.8% (loss 0.535) | lr 9.76e-04\n",
            "[Plateau] LR reduced: 9.79e-04 -> 9.76e-04\n"
          ]
        },
        {
          "output_type": "display_data",
          "data": {
            "text/plain": [
              "Epoch 25:   0%|          | 0/663 [00:00<?, ?it/s]"
            ],
            "application/vnd.jupyter.widget-view+json": {
              "version_major": 2,
              "version_minor": 0,
              "model_id": "a9df10a52a2b492eba10068ff9ddbf92"
            }
          },
          "metadata": {}
        },
        {
          "output_type": "stream",
          "name": "stdout",
          "text": [
            "Epoch 25 \u279c train 91.5% | val 95.6% (loss 0.514) | lr 9.72e-04\n",
            "[Plateau] LR reduced: 9.76e-04 -> 9.72e-04\n",
            "\u2605 Saved new BEST CNN @ 95.6%\n"
          ]
        },
        {
          "output_type": "display_data",
          "data": {
            "text/plain": [
              "Epoch 26:   0%|          | 0/663 [00:00<?, ?it/s]"
            ],
            "application/vnd.jupyter.widget-view+json": {
              "version_major": 2,
              "version_minor": 0,
              "model_id": "f4fbbae7019047d7b6578eef440a7011"
            }
          },
          "metadata": {}
        },
        {
          "output_type": "stream",
          "name": "stdout",
          "text": [
            "Epoch 26 \u279c train 91.8% | val 95.3% (loss 0.520) | lr 9.68e-04\n",
            "[Plateau] LR reduced: 9.72e-04 -> 9.68e-04\n"
          ]
        },
        {
          "output_type": "display_data",
          "data": {
            "text/plain": [
              "Epoch 27:   0%|          | 0/663 [00:00<?, ?it/s]"
            ],
            "application/vnd.jupyter.widget-view+json": {
              "version_major": 2,
              "version_minor": 0,
              "model_id": "e827884108874aaabd08c599d6befdd1"
            }
          },
          "metadata": {}
        },
        {
          "output_type": "stream",
          "name": "stdout",
          "text": [
            "Epoch 27 \u279c train 91.8% | val 95.2% (loss 0.519) | lr 9.64e-04\n",
            "[Plateau] LR reduced: 9.68e-04 -> 9.64e-04\n"
          ]
        },
        {
          "output_type": "display_data",
          "data": {
            "text/plain": [
              "Epoch 28:   0%|          | 0/663 [00:00<?, ?it/s]"
            ],
            "application/vnd.jupyter.widget-view+json": {
              "version_major": 2,
              "version_minor": 0,
              "model_id": "2b42beba649c48c58f0e76d159109c95"
            }
          },
          "metadata": {}
        },
        {
          "output_type": "stream",
          "name": "stdout",
          "text": [
            "Epoch 28 \u279c train 91.9% | val 95.4% (loss 0.511) | lr 9.60e-04\n",
            "[Plateau] LR reduced: 9.64e-04 -> 9.60e-04\n"
          ]
        },
        {
          "output_type": "display_data",
          "data": {
            "text/plain": [
              "Epoch 29:   0%|          | 0/663 [00:00<?, ?it/s]"
            ],
            "application/vnd.jupyter.widget-view+json": {
              "version_major": 2,
              "version_minor": 0,
              "model_id": "04a2a12288f846a89866f1c8c8e88648"
            }
          },
          "metadata": {}
        },
        {
          "output_type": "stream",
          "name": "stdout",
          "text": [
            "Epoch 29 \u279c train 92.1% | val 95.1% (loss 0.519) | lr 9.55e-04\n",
            "[Plateau] LR reduced: 9.60e-04 -> 9.55e-04\n"
          ]
        },
        {
          "output_type": "display_data",
          "data": {
            "text/plain": [
              "Epoch 30:   0%|          | 0/663 [00:00<?, ?it/s]"
            ],
            "application/vnd.jupyter.widget-view+json": {
              "version_major": 2,
              "version_minor": 0,
              "model_id": "3a787d0b65544e3bbd204cd68b9c2f5e"
            }
          },
          "metadata": {}
        },
        {
          "output_type": "stream",
          "name": "stdout",
          "text": [
            "Epoch 30 \u279c train 92.1% | val 95.3% (loss 0.514) | lr 9.50e-04\n",
            "[Plateau] LR reduced: 9.55e-04 -> 9.50e-04\n"
          ]
        },
        {
          "output_type": "display_data",
          "data": {
            "text/plain": [
              "Epoch 31:   0%|          | 0/663 [00:00<?, ?it/s]"
            ],
            "application/vnd.jupyter.widget-view+json": {
              "version_major": 2,
              "version_minor": 0,
              "model_id": "3bdc7d464c7047e0af2ff812a5f073d8"
            }
          },
          "metadata": {}
        },
        {
          "output_type": "stream",
          "name": "stdout",
          "text": [
            "Epoch 31 \u279c train 92.4% | val 95.5% (loss 0.513) | lr 9.46e-04\n",
            "[Plateau] LR reduced: 9.50e-04 -> 9.46e-04\n"
          ]
        },
        {
          "output_type": "display_data",
          "data": {
            "text/plain": [
              "Epoch 32:   0%|          | 0/663 [00:00<?, ?it/s]"
            ],
            "application/vnd.jupyter.widget-view+json": {
              "version_major": 2,
              "version_minor": 0,
              "model_id": "9f74f2a151d647378c09eaa5f9fe489d"
            }
          },
          "metadata": {}
        },
        {
          "output_type": "stream",
          "name": "stdout",
          "text": [
            "Epoch 32 \u279c train 92.5% | val 95.4% (loss 0.515) | lr 9.40e-04\n",
            "[Plateau] LR reduced: 9.46e-04 -> 4.70e-04\n"
          ]
        },
        {
          "output_type": "display_data",
          "data": {
            "text/plain": [
              "Epoch 33:   0%|          | 0/663 [00:00<?, ?it/s]"
            ],
            "application/vnd.jupyter.widget-view+json": {
              "version_major": 2,
              "version_minor": 0,
              "model_id": "28287e1bbbcd48aaba63ca62b806947d"
            }
          },
          "metadata": {}
        },
        {
          "output_type": "stream",
          "name": "stdout",
          "text": [
            "Epoch 33 \u279c train 92.5% | val 95.5% (loss 0.512) | lr 9.35e-04\n"
          ]
        },
        {
          "output_type": "display_data",
          "data": {
            "text/plain": [
              "Epoch 34:   0%|          | 0/663 [00:00<?, ?it/s]"
            ],
            "application/vnd.jupyter.widget-view+json": {
              "version_major": 2,
              "version_minor": 0,
              "model_id": "6499aaa7a0b4453085452be0d2a6f808"
            }
          },
          "metadata": {}
        },
        {
          "output_type": "stream",
          "name": "stdout",
          "text": [
            "Epoch 34 \u279c train 92.6% | val 95.3% (loss 0.515) | lr 9.29e-04\n",
            "[Plateau] LR reduced: 9.35e-04 -> 9.29e-04\n"
          ]
        },
        {
          "output_type": "display_data",
          "data": {
            "text/plain": [
              "Epoch 35:   0%|          | 0/663 [00:00<?, ?it/s]"
            ],
            "application/vnd.jupyter.widget-view+json": {
              "version_major": 2,
              "version_minor": 0,
              "model_id": "df49e85307de4378998e171aa6802206"
            }
          },
          "metadata": {}
        },
        {
          "output_type": "stream",
          "name": "stdout",
          "text": [
            "Epoch 35 \u279c train 92.7% | val 95.4% (loss 0.516) | lr 9.23e-04\n",
            "[Plateau] LR reduced: 9.29e-04 -> 9.23e-04\n"
          ]
        },
        {
          "output_type": "display_data",
          "data": {
            "text/plain": [
              "Epoch 36:   0%|          | 0/663 [00:00<?, ?it/s]"
            ],
            "application/vnd.jupyter.widget-view+json": {
              "version_major": 2,
              "version_minor": 0,
              "model_id": "f331596429e14da4bcbee33528fabc41"
            }
          },
          "metadata": {}
        },
        {
          "output_type": "stream",
          "name": "stdout",
          "text": [
            "Epoch 36 \u279c train 92.9% | val 95.4% (loss 0.514) | lr 9.17e-04\n",
            "[Plateau] LR reduced: 9.23e-04 -> 4.59e-04\n"
          ]
        },
        {
          "output_type": "display_data",
          "data": {
            "text/plain": [
              "Epoch 37:   0%|          | 0/663 [00:00<?, ?it/s]"
            ],
            "application/vnd.jupyter.widget-view+json": {
              "version_major": 2,
              "version_minor": 0,
              "model_id": "ab385db5ebe84913a9d44456c74b58fb"
            }
          },
          "metadata": {}
        },
        {
          "output_type": "stream",
          "name": "stdout",
          "text": [
            "Epoch 37 \u279c train 92.9% | val 95.6% (loss 0.512) | lr 9.11e-04\n"
          ]
        },
        {
          "output_type": "display_data",
          "data": {
            "text/plain": [
              "Epoch 38:   0%|          | 0/663 [00:00<?, ?it/s]"
            ],
            "application/vnd.jupyter.widget-view+json": {
              "version_major": 2,
              "version_minor": 0,
              "model_id": "5767b16e23cf4aac8be2a7a7d97dcf1e"
            }
          },
          "metadata": {}
        },
        {
          "output_type": "stream",
          "name": "stdout",
          "text": [
            "Epoch 38 \u279c train 93.1% | val 95.4% (loss 0.512) | lr 9.05e-04\n",
            "[Plateau] LR reduced: 9.11e-04 -> 9.05e-04\n"
          ]
        },
        {
          "output_type": "display_data",
          "data": {
            "text/plain": [
              "Epoch 39:   0%|          | 0/663 [00:00<?, ?it/s]"
            ],
            "application/vnd.jupyter.widget-view+json": {
              "version_major": 2,
              "version_minor": 0,
              "model_id": "f47cb45af9454cc48de378333892b0fc"
            }
          },
          "metadata": {}
        },
        {
          "output_type": "stream",
          "name": "stdout",
          "text": [
            "Epoch 39 \u279c train 93.2% | val 95.8% (loss 0.508) | lr 8.98e-04\n",
            "[Plateau] LR reduced: 9.05e-04 -> 8.98e-04\n",
            "\u2605 Saved new BEST CNN @ 95.8%\n"
          ]
        },
        {
          "output_type": "display_data",
          "data": {
            "text/plain": [
              "Epoch 40:   0%|          | 0/663 [00:00<?, ?it/s]"
            ],
            "application/vnd.jupyter.widget-view+json": {
              "version_major": 2,
              "version_minor": 0,
              "model_id": "ac33d09a78694bf2b26d4492c56e65e9"
            }
          },
          "metadata": {}
        },
        {
          "output_type": "stream",
          "name": "stdout",
          "text": [
            "Epoch 40 \u279c train 93.2% | val 96.0% (loss 0.501) | lr 8.91e-04\n",
            "[Plateau] LR reduced: 8.98e-04 -> 8.91e-04\n",
            "\u2605 Saved new BEST CNN @ 96.0%\n"
          ]
        },
        {
          "output_type": "display_data",
          "data": {
            "text/plain": [
              "Epoch 41:   0%|          | 0/663 [00:00<?, ?it/s]"
            ],
            "application/vnd.jupyter.widget-view+json": {
              "version_major": 2,
              "version_minor": 0,
              "model_id": "72b46b322ee84c729ba72087bce6ae10"
            }
          },
          "metadata": {}
        },
        {
          "output_type": "stream",
          "name": "stdout",
          "text": [
            "Epoch 41 \u279c train 93.2% | val 95.6% (loss 0.505) | lr 8.84e-04\n",
            "[Plateau] LR reduced: 8.91e-04 -> 8.84e-04\n"
          ]
        },
        {
          "output_type": "display_data",
          "data": {
            "text/plain": [
              "Epoch 42:   0%|          | 0/663 [00:00<?, ?it/s]"
            ],
            "application/vnd.jupyter.widget-view+json": {
              "version_major": 2,
              "version_minor": 0,
              "model_id": "df314c7f46884aa9a38f2cc8f918891a"
            }
          },
          "metadata": {}
        },
        {
          "output_type": "stream",
          "name": "stdout",
          "text": [
            "Epoch 42 \u279c train 93.4% | val 95.8% (loss 0.499) | lr 8.77e-04\n",
            "[Plateau] LR reduced: 8.84e-04 -> 8.77e-04\n"
          ]
        },
        {
          "output_type": "display_data",
          "data": {
            "text/plain": [
              "Epoch 43:   0%|          | 0/663 [00:00<?, ?it/s]"
            ],
            "application/vnd.jupyter.widget-view+json": {
              "version_major": 2,
              "version_minor": 0,
              "model_id": "fe14ebd458a644aea23c54f52a774ee2"
            }
          },
          "metadata": {}
        },
        {
          "output_type": "stream",
          "name": "stdout",
          "text": [
            "Epoch 43 \u279c train 93.4% | val 95.8% (loss 0.504) | lr 8.69e-04\n",
            "[Plateau] LR reduced: 8.77e-04 -> 8.69e-04\n"
          ]
        },
        {
          "output_type": "display_data",
          "data": {
            "text/plain": [
              "Epoch 44:   0%|          | 0/663 [00:00<?, ?it/s]"
            ],
            "application/vnd.jupyter.widget-view+json": {
              "version_major": 2,
              "version_minor": 0,
              "model_id": "0aa791e876e54b90a1e40430e55fcff2"
            }
          },
          "metadata": {}
        },
        {
          "output_type": "stream",
          "name": "stdout",
          "text": [
            "Epoch 44 \u279c train 93.5% | val 95.7% (loss 0.503) | lr 8.61e-04\n",
            "[Plateau] LR reduced: 8.69e-04 -> 8.61e-04\n"
          ]
        },
        {
          "output_type": "display_data",
          "data": {
            "text/plain": [
              "Epoch 45:   0%|          | 0/663 [00:00<?, ?it/s]"
            ],
            "application/vnd.jupyter.widget-view+json": {
              "version_major": 2,
              "version_minor": 0,
              "model_id": "7f43b97b6ae24bd0826081d4bfa372df"
            }
          },
          "metadata": {}
        },
        {
          "output_type": "stream",
          "name": "stdout",
          "text": [
            "Epoch 45 \u279c train 93.6% | val 95.7% (loss 0.497) | lr 8.54e-04\n",
            "[Plateau] LR reduced: 8.61e-04 -> 8.54e-04\n"
          ]
        },
        {
          "output_type": "display_data",
          "data": {
            "text/plain": [
              "Epoch 46:   0%|          | 0/663 [00:00<?, ?it/s]"
            ],
            "application/vnd.jupyter.widget-view+json": {
              "version_major": 2,
              "version_minor": 0,
              "model_id": "36c0db960e334d8f8715c4891cbda66a"
            }
          },
          "metadata": {}
        },
        {
          "output_type": "stream",
          "name": "stdout",
          "text": [
            "Epoch 46 \u279c train 93.8% | val 95.7% (loss 0.503) | lr 8.46e-04\n",
            "[Plateau] LR reduced: 8.54e-04 -> 8.46e-04\n"
          ]
        },
        {
          "output_type": "display_data",
          "data": {
            "text/plain": [
              "Epoch 47:   0%|          | 0/663 [00:00<?, ?it/s]"
            ],
            "application/vnd.jupyter.widget-view+json": {
              "version_major": 2,
              "version_minor": 0,
              "model_id": "b3cf65cc319b43608f54520cf360d14f"
            }
          },
          "metadata": {}
        },
        {
          "output_type": "stream",
          "name": "stdout",
          "text": [
            "Epoch 47 \u279c train 93.8% | val 95.8% (loss 0.499) | lr 8.37e-04\n",
            "[Plateau] LR reduced: 8.46e-04 -> 8.37e-04\n"
          ]
        },
        {
          "output_type": "display_data",
          "data": {
            "text/plain": [
              "Epoch 48:   0%|          | 0/663 [00:00<?, ?it/s]"
            ],
            "application/vnd.jupyter.widget-view+json": {
              "version_major": 2,
              "version_minor": 0,
              "model_id": "f9ccc9a642934f6a886f91763010bb83"
            }
          },
          "metadata": {}
        },
        {
          "output_type": "stream",
          "name": "stdout",
          "text": [
            "Epoch 48 \u279c train 93.9% | val 95.8% (loss 0.501) | lr 8.29e-04\n",
            "[Plateau] LR reduced: 8.37e-04 -> 8.29e-04\n"
          ]
        },
        {
          "output_type": "display_data",
          "data": {
            "text/plain": [
              "Epoch 49:   0%|          | 0/663 [00:00<?, ?it/s]"
            ],
            "application/vnd.jupyter.widget-view+json": {
              "version_major": 2,
              "version_minor": 0,
              "model_id": "189313ac15d9444ea24b6d3bd06b997f"
            }
          },
          "metadata": {}
        },
        {
          "output_type": "stream",
          "name": "stdout",
          "text": [
            "Epoch 49 \u279c train 93.9% | val 96.0% (loss 0.498) | lr 8.20e-04\n",
            "[Plateau] LR reduced: 8.29e-04 -> 4.10e-04\n",
            "\u2605 Saved new BEST CNN @ 96.0%\n"
          ]
        },
        {
          "output_type": "display_data",
          "data": {
            "text/plain": [
              "Epoch 50:   0%|          | 0/663 [00:00<?, ?it/s]"
            ],
            "application/vnd.jupyter.widget-view+json": {
              "version_major": 2,
              "version_minor": 0,
              "model_id": "68e1f97389974995af7f18e112f1c826"
            }
          },
          "metadata": {}
        },
        {
          "output_type": "stream",
          "name": "stdout",
          "text": [
            "Epoch 50 \u279c train 94.0% | val 96.1% (loss 0.498) | lr 8.12e-04\n",
            "\u2605 Saved new BEST CNN @ 96.1%\n"
          ]
        },
        {
          "output_type": "display_data",
          "data": {
            "text/plain": [
              "Epoch 51:   0%|          | 0/663 [00:00<?, ?it/s]"
            ],
            "application/vnd.jupyter.widget-view+json": {
              "version_major": 2,
              "version_minor": 0,
              "model_id": "8f6153a977d6413588fba7cfb71f92f9"
            }
          },
          "metadata": {}
        },
        {
          "output_type": "stream",
          "name": "stdout",
          "text": [
            "Epoch 51 \u279c train 94.1% | val 95.8% (loss 0.501) | lr 8.03e-04\n",
            "[Plateau] LR reduced: 8.12e-04 -> 8.03e-04\n"
          ]
        },
        {
          "output_type": "display_data",
          "data": {
            "text/plain": [
              "Epoch 52:   0%|          | 0/663 [00:00<?, ?it/s]"
            ],
            "application/vnd.jupyter.widget-view+json": {
              "version_major": 2,
              "version_minor": 0,
              "model_id": "46d0d52284f84e86869138c42cba6859"
            }
          },
          "metadata": {}
        },
        {
          "output_type": "stream",
          "name": "stdout",
          "text": [
            "Epoch 52 \u279c train 94.1% | val 95.9% (loss 0.497) | lr 7.94e-04\n",
            "[Plateau] LR reduced: 8.03e-04 -> 7.94e-04\n"
          ]
        },
        {
          "output_type": "display_data",
          "data": {
            "text/plain": [
              "Epoch 53:   0%|          | 0/663 [00:00<?, ?it/s]"
            ],
            "application/vnd.jupyter.widget-view+json": {
              "version_major": 2,
              "version_minor": 0,
              "model_id": "dced4330d02347888066e56e463fc00e"
            }
          },
          "metadata": {}
        },
        {
          "output_type": "stream",
          "name": "stdout",
          "text": [
            "Epoch 53 \u279c train 94.0% | val 96.0% (loss 0.494) | lr 7.85e-04\n",
            "[Plateau] LR reduced: 7.94e-04 -> 7.85e-04\n"
          ]
        },
        {
          "output_type": "display_data",
          "data": {
            "text/plain": [
              "Epoch 54:   0%|          | 0/663 [00:00<?, ?it/s]"
            ],
            "application/vnd.jupyter.widget-view+json": {
              "version_major": 2,
              "version_minor": 0,
              "model_id": "49c5d80809f2422c857a976370db508a"
            }
          },
          "metadata": {}
        },
        {
          "output_type": "stream",
          "name": "stdout",
          "text": [
            "Epoch 54 \u279c train 94.3% | val 95.9% (loss 0.500) | lr 7.75e-04\n",
            "[Plateau] LR reduced: 7.85e-04 -> 7.75e-04\n"
          ]
        },
        {
          "output_type": "display_data",
          "data": {
            "text/plain": [
              "Epoch 55:   0%|          | 0/663 [00:00<?, ?it/s]"
            ],
            "application/vnd.jupyter.widget-view+json": {
              "version_major": 2,
              "version_minor": 0,
              "model_id": "93e9482e96604b8c92921371fb16d71e"
            }
          },
          "metadata": {}
        },
        {
          "output_type": "stream",
          "name": "stdout",
          "text": [
            "Epoch 55 \u279c train 94.4% | val 96.0% (loss 0.497) | lr 7.66e-04\n",
            "[Plateau] LR reduced: 7.75e-04 -> 7.66e-04\n"
          ]
        },
        {
          "output_type": "display_data",
          "data": {
            "text/plain": [
              "Epoch 56:   0%|          | 0/663 [00:00<?, ?it/s]"
            ],
            "application/vnd.jupyter.widget-view+json": {
              "version_major": 2,
              "version_minor": 0,
              "model_id": "1305cb3dd49d4a9394a941cea417b295"
            }
          },
          "metadata": {}
        },
        {
          "output_type": "stream",
          "name": "stdout",
          "text": [
            "Epoch 56 \u279c train 94.3% | val 96.0% (loss 0.498) | lr 7.56e-04\n",
            "[Plateau] LR reduced: 7.66e-04 -> 7.56e-04\n"
          ]
        },
        {
          "output_type": "display_data",
          "data": {
            "text/plain": [
              "Epoch 57:   0%|          | 0/663 [00:00<?, ?it/s]"
            ],
            "application/vnd.jupyter.widget-view+json": {
              "version_major": 2,
              "version_minor": 0,
              "model_id": "33939cd086a846a28ef661fe727bf6ac"
            }
          },
          "metadata": {}
        },
        {
          "output_type": "stream",
          "name": "stdout",
          "text": [
            "Epoch 57 \u279c train 94.4% | val 96.3% (loss 0.494) | lr 7.47e-04\n",
            "[Plateau] LR reduced: 7.56e-04 -> 3.73e-04\n",
            "\u2605 Saved new BEST CNN @ 96.3%\n"
          ]
        },
        {
          "output_type": "display_data",
          "data": {
            "text/plain": [
              "Epoch 58:   0%|          | 0/663 [00:00<?, ?it/s]"
            ],
            "application/vnd.jupyter.widget-view+json": {
              "version_major": 2,
              "version_minor": 0,
              "model_id": "8b0f81553070490ebe2ea33dfbf8261e"
            }
          },
          "metadata": {}
        },
        {
          "output_type": "stream",
          "name": "stdout",
          "text": [
            "Epoch 58 \u279c train 94.5% | val 96.2% (loss 0.494) | lr 7.37e-04\n"
          ]
        },
        {
          "output_type": "display_data",
          "data": {
            "text/plain": [
              "Epoch 59:   0%|          | 0/663 [00:00<?, ?it/s]"
            ],
            "application/vnd.jupyter.widget-view+json": {
              "version_major": 2,
              "version_minor": 0,
              "model_id": "52498aadf9a84daf8813a8f17832ac38"
            }
          },
          "metadata": {}
        },
        {
          "output_type": "stream",
          "name": "stdout",
          "text": [
            "Epoch 59 \u279c train 94.6% | val 96.0% (loss 0.490) | lr 7.27e-04\n",
            "[Plateau] LR reduced: 7.37e-04 -> 7.27e-04\n"
          ]
        },
        {
          "output_type": "display_data",
          "data": {
            "text/plain": [
              "Epoch 60:   0%|          | 0/663 [00:00<?, ?it/s]"
            ],
            "application/vnd.jupyter.widget-view+json": {
              "version_major": 2,
              "version_minor": 0,
              "model_id": "b784a85d8a3c4027a5cd670776ea0706"
            }
          },
          "metadata": {}
        },
        {
          "output_type": "stream",
          "name": "stdout",
          "text": [
            "Epoch 60 \u279c train 94.7% | val 95.9% (loss 0.501) | lr 7.17e-04\n",
            "[Plateau] LR reduced: 7.27e-04 -> 7.17e-04\n"
          ]
        },
        {
          "output_type": "display_data",
          "data": {
            "text/plain": [
              "Epoch 61:   0%|          | 0/663 [00:00<?, ?it/s]"
            ],
            "application/vnd.jupyter.widget-view+json": {
              "version_major": 2,
              "version_minor": 0,
              "model_id": "00c9e95987d1429dbb6f689966584b63"
            }
          },
          "metadata": {}
        },
        {
          "output_type": "stream",
          "name": "stdout",
          "text": [
            "Epoch 61 \u279c train 94.7% | val 95.8% (loss 0.501) | lr 7.07e-04\n",
            "[Plateau] LR reduced: 7.17e-04 -> 7.07e-04\n"
          ]
        },
        {
          "output_type": "display_data",
          "data": {
            "text/plain": [
              "Epoch 62:   0%|          | 0/663 [00:00<?, ?it/s]"
            ],
            "application/vnd.jupyter.widget-view+json": {
              "version_major": 2,
              "version_minor": 0,
              "model_id": "892d74ac39644e8ba5974bd96c6216fa"
            }
          },
          "metadata": {}
        },
        {
          "output_type": "stream",
          "name": "stdout",
          "text": [
            "Epoch 62 \u279c train 94.9% | val 96.3% (loss 0.492) | lr 6.97e-04\n",
            "[Plateau] LR reduced: 7.07e-04 -> 6.97e-04\n"
          ]
        },
        {
          "output_type": "display_data",
          "data": {
            "text/plain": [
              "Epoch 63:   0%|          | 0/663 [00:00<?, ?it/s]"
            ],
            "application/vnd.jupyter.widget-view+json": {
              "version_major": 2,
              "version_minor": 0,
              "model_id": "61af699a4990406fbf7bb38c49d1db72"
            }
          },
          "metadata": {}
        },
        {
          "output_type": "stream",
          "name": "stdout",
          "text": [
            "Epoch 63 \u279c train 94.8% | val 95.9% (loss 0.498) | lr 6.86e-04\n",
            "[Plateau] LR reduced: 6.97e-04 -> 3.43e-04\n"
          ]
        },
        {
          "output_type": "display_data",
          "data": {
            "text/plain": [
              "Epoch 64:   0%|          | 0/663 [00:00<?, ?it/s]"
            ],
            "application/vnd.jupyter.widget-view+json": {
              "version_major": 2,
              "version_minor": 0,
              "model_id": "044e1cb391494f1c8a531911de996ca7"
            }
          },
          "metadata": {}
        },
        {
          "output_type": "stream",
          "name": "stdout",
          "text": [
            "Epoch 64 \u279c train 95.0% | val 96.3% (loss 0.488) | lr 6.76e-04\n",
            "\u2605 Saved new BEST CNN @ 96.3%\n"
          ]
        },
        {
          "output_type": "display_data",
          "data": {
            "text/plain": [
              "Epoch 65:   0%|          | 0/663 [00:00<?, ?it/s]"
            ],
            "application/vnd.jupyter.widget-view+json": {
              "version_major": 2,
              "version_minor": 0,
              "model_id": "fd0023f772fc4a9fb3e32a439c77a9e0"
            }
          },
          "metadata": {}
        },
        {
          "output_type": "stream",
          "name": "stdout",
          "text": [
            "Epoch 65 \u279c train 94.9% | val 96.0% (loss 0.505) | lr 6.65e-04\n",
            "[Plateau] LR reduced: 6.76e-04 -> 6.65e-04\n"
          ]
        },
        {
          "output_type": "display_data",
          "data": {
            "text/plain": [
              "Epoch 66:   0%|          | 0/663 [00:00<?, ?it/s]"
            ],
            "application/vnd.jupyter.widget-view+json": {
              "version_major": 2,
              "version_minor": 0,
              "model_id": "0bcfc7b9a42e483b833392f6b6badc25"
            }
          },
          "metadata": {}
        },
        {
          "output_type": "stream",
          "name": "stdout",
          "text": [
            "Epoch 66 \u279c train 95.0% | val 96.2% (loss 0.497) | lr 6.55e-04\n",
            "[Plateau] LR reduced: 6.65e-04 -> 6.55e-04\n"
          ]
        },
        {
          "output_type": "display_data",
          "data": {
            "text/plain": [
              "Epoch 67:   0%|          | 0/663 [00:00<?, ?it/s]"
            ],
            "application/vnd.jupyter.widget-view+json": {
              "version_major": 2,
              "version_minor": 0,
              "model_id": "ef901dd5a28b4cb8b4e5af81db81eb01"
            }
          },
          "metadata": {}
        },
        {
          "output_type": "stream",
          "name": "stdout",
          "text": [
            "Epoch 67 \u279c train 95.0% | val 96.1% (loss 0.497) | lr 6.44e-04\n",
            "[Plateau] LR reduced: 6.55e-04 -> 6.44e-04\n"
          ]
        },
        {
          "output_type": "display_data",
          "data": {
            "text/plain": [
              "Epoch 68:   0%|          | 0/663 [00:00<?, ?it/s]"
            ],
            "application/vnd.jupyter.widget-view+json": {
              "version_major": 2,
              "version_minor": 0,
              "model_id": "65886e8b61c64f7f8cecd1dca2cd60b4"
            }
          },
          "metadata": {}
        },
        {
          "output_type": "stream",
          "name": "stdout",
          "text": [
            "Epoch 68 \u279c train 95.1% | val 96.1% (loss 0.495) | lr 6.33e-04\n",
            "[Plateau] LR reduced: 6.44e-04 -> 3.17e-04\n"
          ]
        },
        {
          "output_type": "display_data",
          "data": {
            "text/plain": [
              "Epoch 69:   0%|          | 0/663 [00:00<?, ?it/s]"
            ],
            "application/vnd.jupyter.widget-view+json": {
              "version_major": 2,
              "version_minor": 0,
              "model_id": "771c177a4ef44353aea1f0e24a4a5e30"
            }
          },
          "metadata": {}
        },
        {
          "output_type": "stream",
          "name": "stdout",
          "text": [
            "Epoch 69 \u279c train 95.1% | val 96.2% (loss 0.493) | lr 6.22e-04\n"
          ]
        },
        {
          "output_type": "display_data",
          "data": {
            "text/plain": [
              "Epoch 70:   0%|          | 0/663 [00:00<?, ?it/s]"
            ],
            "application/vnd.jupyter.widget-view+json": {
              "version_major": 2,
              "version_minor": 0,
              "model_id": "a7c447a2079b4816b3b0de06813e08b4"
            }
          },
          "metadata": {}
        },
        {
          "output_type": "stream",
          "name": "stdout",
          "text": [
            "Epoch 70 \u279c train 95.1% | val 96.0% (loss 0.498) | lr 6.11e-04\n",
            "[Plateau] LR reduced: 6.22e-04 -> 6.11e-04\n"
          ]
        },
        {
          "output_type": "display_data",
          "data": {
            "text/plain": [
              "Epoch 71:   0%|          | 0/663 [00:00<?, ?it/s]"
            ],
            "application/vnd.jupyter.widget-view+json": {
              "version_major": 2,
              "version_minor": 0,
              "model_id": "aabce83e1be7443192dc8dc2c4d840de"
            }
          },
          "metadata": {}
        },
        {
          "output_type": "stream",
          "name": "stdout",
          "text": [
            "Epoch 71 \u279c train 95.3% | val 96.0% (loss 0.498) | lr 6.00e-04\n",
            "[Plateau] LR reduced: 6.11e-04 -> 6.00e-04\n"
          ]
        },
        {
          "output_type": "display_data",
          "data": {
            "text/plain": [
              "Epoch 72:   0%|          | 0/663 [00:00<?, ?it/s]"
            ],
            "application/vnd.jupyter.widget-view+json": {
              "version_major": 2,
              "version_minor": 0,
              "model_id": "245cc4e392b74cdfadb91651f1417460"
            }
          },
          "metadata": {}
        },
        {
          "output_type": "stream",
          "name": "stdout",
          "text": [
            "Epoch 72 \u279c train 95.3% | val 96.1% (loss 0.498) | lr 5.89e-04\n",
            "[Plateau] LR reduced: 6.00e-04 -> 2.95e-04\n"
          ]
        },
        {
          "output_type": "display_data",
          "data": {
            "text/plain": [
              "Epoch 73:   0%|          | 0/663 [00:00<?, ?it/s]"
            ],
            "application/vnd.jupyter.widget-view+json": {
              "version_major": 2,
              "version_minor": 0,
              "model_id": "d4661436e6d34ff2b7e37fc881b13260"
            }
          },
          "metadata": {}
        },
        {
          "output_type": "stream",
          "name": "stdout",
          "text": [
            "Epoch 73 \u279c train 95.4% | val 96.2% (loss 0.498) | lr 5.78e-04\n"
          ]
        },
        {
          "output_type": "display_data",
          "data": {
            "text/plain": [
              "Epoch 74:   0%|          | 0/663 [00:00<?, ?it/s]"
            ],
            "application/vnd.jupyter.widget-view+json": {
              "version_major": 2,
              "version_minor": 0,
              "model_id": "c2c4190327e44ff9809ecde9d7672bb5"
            }
          },
          "metadata": {}
        },
        {
          "output_type": "stream",
          "name": "stdout",
          "text": [
            "Epoch 74 \u279c train 95.5% | val 96.3% (loss 0.490) | lr 5.67e-04\n",
            "[Plateau] LR reduced: 5.78e-04 -> 5.67e-04\n"
          ]
        },
        {
          "output_type": "display_data",
          "data": {
            "text/plain": [
              "Epoch 75:   0%|          | 0/663 [00:00<?, ?it/s]"
            ],
            "application/vnd.jupyter.widget-view+json": {
              "version_major": 2,
              "version_minor": 0,
              "model_id": "45f0cb7fa3924468aef1bafe80955b06"
            }
          },
          "metadata": {}
        },
        {
          "output_type": "stream",
          "name": "stdout",
          "text": [
            "Epoch 75 \u279c train 95.5% | val 96.2% (loss 0.492) | lr 5.56e-04\n",
            "[Plateau] LR reduced: 5.67e-04 -> 5.56e-04\n"
          ]
        },
        {
          "output_type": "display_data",
          "data": {
            "text/plain": [
              "Epoch 76:   0%|          | 0/663 [00:00<?, ?it/s]"
            ],
            "application/vnd.jupyter.widget-view+json": {
              "version_major": 2,
              "version_minor": 0,
              "model_id": "f893a50e6d6049d2856887e3b195bf72"
            }
          },
          "metadata": {}
        },
        {
          "output_type": "stream",
          "name": "stdout",
          "text": [
            "Epoch 76 \u279c train 95.6% | val 96.2% (loss 0.492) | lr 5.45e-04\n",
            "[Plateau] LR reduced: 5.56e-04 -> 2.72e-04\n"
          ]
        },
        {
          "output_type": "display_data",
          "data": {
            "text/plain": [
              "Epoch 77:   0%|          | 0/663 [00:00<?, ?it/s]"
            ],
            "application/vnd.jupyter.widget-view+json": {
              "version_major": 2,
              "version_minor": 0,
              "model_id": "25a5686249694f73a45b6c0fff92487f"
            }
          },
          "metadata": {}
        },
        {
          "output_type": "stream",
          "name": "stdout",
          "text": [
            "Epoch 77 \u279c train 95.6% | val 96.1% (loss 0.496) | lr 5.34e-04\n"
          ]
        },
        {
          "output_type": "display_data",
          "data": {
            "text/plain": [
              "Epoch 78:   0%|          | 0/663 [00:00<?, ?it/s]"
            ],
            "application/vnd.jupyter.widget-view+json": {
              "version_major": 2,
              "version_minor": 0,
              "model_id": "91243385b6c34294a0ce24f0f990bdf7"
            }
          },
          "metadata": {}
        },
        {
          "output_type": "stream",
          "name": "stdout",
          "text": [
            "Epoch 78 \u279c train 95.7% | val 96.2% (loss 0.495) | lr 5.22e-04\n",
            "[Plateau] LR reduced: 5.34e-04 -> 5.22e-04\n"
          ]
        },
        {
          "output_type": "display_data",
          "data": {
            "text/plain": [
              "Epoch 79:   0%|          | 0/663 [00:00<?, ?it/s]"
            ],
            "application/vnd.jupyter.widget-view+json": {
              "version_major": 2,
              "version_minor": 0,
              "model_id": "55fbd9e6321846f299992f55a03b307e"
            }
          },
          "metadata": {}
        },
        {
          "output_type": "stream",
          "name": "stdout",
          "text": [
            "Epoch 79 \u279c train 95.7% | val 96.2% (loss 0.494) | lr 5.11e-04\n",
            "[Plateau] LR reduced: 5.22e-04 -> 5.11e-04\n"
          ]
        },
        {
          "output_type": "display_data",
          "data": {
            "text/plain": [
              "Epoch 80:   0%|          | 0/663 [00:00<?, ?it/s]"
            ],
            "application/vnd.jupyter.widget-view+json": {
              "version_major": 2,
              "version_minor": 0,
              "model_id": "cfc6988f973949ff9dd29432e640eaf7"
            }
          },
          "metadata": {}
        },
        {
          "output_type": "stream",
          "name": "stdout",
          "text": [
            "Epoch 80 \u279c train 95.8% | val 96.3% (loss 0.495) | lr 5.00e-04\n",
            "[Plateau] LR reduced: 5.11e-04 -> 2.50e-04\n"
          ]
        },
        {
          "output_type": "display_data",
          "data": {
            "text/plain": [
              "Epoch 81:   0%|          | 0/663 [00:00<?, ?it/s]"
            ],
            "application/vnd.jupyter.widget-view+json": {
              "version_major": 2,
              "version_minor": 0,
              "model_id": "dd50da2324df407b9d957f46f82844dc"
            }
          },
          "metadata": {}
        },
        {
          "output_type": "stream",
          "name": "stdout",
          "text": [
            "Epoch 81 \u279c train 95.9% | val 96.2% (loss 0.494) | lr 4.89e-04\n"
          ]
        },
        {
          "output_type": "display_data",
          "data": {
            "text/plain": [
              "Epoch 82:   0%|          | 0/663 [00:00<?, ?it/s]"
            ],
            "application/vnd.jupyter.widget-view+json": {
              "version_major": 2,
              "version_minor": 0,
              "model_id": "321ad2b706fd40ab9512b9f9618da2be"
            }
          },
          "metadata": {}
        },
        {
          "output_type": "stream",
          "name": "stdout",
          "text": [
            "Epoch 82 \u279c train 95.8% | val 96.3% (loss 0.493) | lr 4.78e-04\n",
            "[Plateau] LR reduced: 4.89e-04 -> 4.78e-04\n",
            "\u2605 Saved new BEST CNN @ 96.3%\n"
          ]
        },
        {
          "output_type": "display_data",
          "data": {
            "text/plain": [
              "Epoch 83:   0%|          | 0/663 [00:00<?, ?it/s]"
            ],
            "application/vnd.jupyter.widget-view+json": {
              "version_major": 2,
              "version_minor": 0,
              "model_id": "12863864355a4992a59a1bc769f600d1"
            }
          },
          "metadata": {}
        },
        {
          "output_type": "stream",
          "name": "stdout",
          "text": [
            "Epoch 83 \u279c train 96.0% | val 96.2% (loss 0.498) | lr 4.66e-04\n",
            "[Plateau] LR reduced: 4.78e-04 -> 4.66e-04\n"
          ]
        },
        {
          "output_type": "display_data",
          "data": {
            "text/plain": [
              "Epoch 84:   0%|          | 0/663 [00:00<?, ?it/s]"
            ],
            "application/vnd.jupyter.widget-view+json": {
              "version_major": 2,
              "version_minor": 0,
              "model_id": "7f4c3d7df512489abe82779d7b4b0483"
            }
          },
          "metadata": {}
        },
        {
          "output_type": "stream",
          "name": "stdout",
          "text": [
            "Epoch 84 \u279c train 95.9% | val 96.2% (loss 0.494) | lr 4.55e-04\n",
            "[Plateau] LR reduced: 4.66e-04 -> 2.28e-04\n"
          ]
        },
        {
          "output_type": "display_data",
          "data": {
            "text/plain": [
              "Epoch 85:   0%|          | 0/663 [00:00<?, ?it/s]"
            ],
            "application/vnd.jupyter.widget-view+json": {
              "version_major": 2,
              "version_minor": 0,
              "model_id": "66fece2190434d4db41c7db04f0fa3c5"
            }
          },
          "metadata": {}
        },
        {
          "output_type": "stream",
          "name": "stdout",
          "text": [
            "Epoch 85 \u279c train 95.9% | val 96.2% (loss 0.496) | lr 4.44e-04\n"
          ]
        },
        {
          "output_type": "display_data",
          "data": {
            "text/plain": [
              "Epoch 86:   0%|          | 0/663 [00:00<?, ?it/s]"
            ],
            "application/vnd.jupyter.widget-view+json": {
              "version_major": 2,
              "version_minor": 0,
              "model_id": "91a80f5399674ec79575e9a9f9059a19"
            }
          },
          "metadata": {}
        },
        {
          "output_type": "stream",
          "name": "stdout",
          "text": [
            "Epoch 86 \u279c train 96.0% | val 96.3% (loss 0.495) | lr 4.33e-04\n",
            "[Plateau] LR reduced: 4.44e-04 -> 4.33e-04\n"
          ]
        },
        {
          "output_type": "display_data",
          "data": {
            "text/plain": [
              "Epoch 87:   0%|          | 0/663 [00:00<?, ?it/s]"
            ],
            "application/vnd.jupyter.widget-view+json": {
              "version_major": 2,
              "version_minor": 0,
              "model_id": "eabd2391ee124b66b198786a2ac8cd81"
            }
          },
          "metadata": {}
        },
        {
          "output_type": "stream",
          "name": "stdout",
          "text": [
            "Epoch 87 \u279c train 96.1% | val 96.3% (loss 0.492) | lr 4.22e-04\n",
            "[Plateau] LR reduced: 4.33e-04 -> 4.22e-04\n"
          ]
        },
        {
          "output_type": "display_data",
          "data": {
            "text/plain": [
              "Epoch 88:   0%|          | 0/663 [00:00<?, ?it/s]"
            ],
            "application/vnd.jupyter.widget-view+json": {
              "version_major": 2,
              "version_minor": 0,
              "model_id": "f5eb2b1d810f4f9a8c1bff5b3f190e7c"
            }
          },
          "metadata": {}
        },
        {
          "output_type": "stream",
          "name": "stdout",
          "text": [
            "Epoch 88 \u279c train 96.1% | val 96.3% (loss 0.492) | lr 4.11e-04\n",
            "[Plateau] LR reduced: 4.22e-04 -> 2.05e-04\n"
          ]
        },
        {
          "output_type": "display_data",
          "data": {
            "text/plain": [
              "Epoch 89:   0%|          | 0/663 [00:00<?, ?it/s]"
            ],
            "application/vnd.jupyter.widget-view+json": {
              "version_major": 2,
              "version_minor": 0,
              "model_id": "4de0029e7a1b498a9ba20412d08ddb2b"
            }
          },
          "metadata": {}
        },
        {
          "output_type": "stream",
          "name": "stdout",
          "text": [
            "Epoch 89 \u279c train 96.2% | val 96.2% (loss 0.494) | lr 4.00e-04\n"
          ]
        },
        {
          "output_type": "display_data",
          "data": {
            "text/plain": [
              "Epoch 90:   0%|          | 0/663 [00:00<?, ?it/s]"
            ],
            "application/vnd.jupyter.widget-view+json": {
              "version_major": 2,
              "version_minor": 0,
              "model_id": "17871e17a53140e3aaffbedc5ad60a90"
            }
          },
          "metadata": {}
        },
        {
          "output_type": "stream",
          "name": "stdout",
          "text": [
            "Epoch 90 \u279c train 96.1% | val 96.5% (loss 0.489) | lr 3.89e-04\n",
            "[Plateau] LR reduced: 4.00e-04 -> 3.89e-04\n",
            "\u2605 Saved new BEST CNN @ 96.5%\n"
          ]
        },
        {
          "output_type": "display_data",
          "data": {
            "text/plain": [
              "Epoch 91:   0%|          | 0/663 [00:00<?, ?it/s]"
            ],
            "application/vnd.jupyter.widget-view+json": {
              "version_major": 2,
              "version_minor": 0,
              "model_id": "171394f3e35b4e45a48e61b61e856dcf"
            }
          },
          "metadata": {}
        },
        {
          "output_type": "stream",
          "name": "stdout",
          "text": [
            "Epoch 91 \u279c train 96.3% | val 96.4% (loss 0.490) | lr 3.78e-04\n",
            "[Plateau] LR reduced: 3.89e-04 -> 3.78e-04\n"
          ]
        },
        {
          "output_type": "display_data",
          "data": {
            "text/plain": [
              "Epoch 92:   0%|          | 0/663 [00:00<?, ?it/s]"
            ],
            "application/vnd.jupyter.widget-view+json": {
              "version_major": 2,
              "version_minor": 0,
              "model_id": "94a3139b00a94defafe28c569924985f"
            }
          },
          "metadata": {}
        },
        {
          "output_type": "stream",
          "name": "stdout",
          "text": [
            "Epoch 92 \u279c train 96.2% | val 96.2% (loss 0.491) | lr 3.67e-04\n",
            "[Plateau] LR reduced: 3.78e-04 -> 1.83e-04\n"
          ]
        },
        {
          "output_type": "display_data",
          "data": {
            "text/plain": [
              "Epoch 93:   0%|          | 0/663 [00:00<?, ?it/s]"
            ],
            "application/vnd.jupyter.widget-view+json": {
              "version_major": 2,
              "version_minor": 0,
              "model_id": "ee52100a78c6441babdecacaedafa807"
            }
          },
          "metadata": {}
        },
        {
          "output_type": "stream",
          "name": "stdout",
          "text": [
            "Epoch 93 \u279c train 96.3% | val 96.5% (loss 0.489) | lr 3.56e-04\n",
            "\u2605 Saved new BEST CNN @ 96.5%\n"
          ]
        },
        {
          "output_type": "display_data",
          "data": {
            "text/plain": [
              "Epoch 94:   0%|          | 0/663 [00:00<?, ?it/s]"
            ],
            "application/vnd.jupyter.widget-view+json": {
              "version_major": 2,
              "version_minor": 0,
              "model_id": "92eea593e34b496e8f0e52f1943c2f32"
            }
          },
          "metadata": {}
        },
        {
          "output_type": "stream",
          "name": "stdout",
          "text": [
            "Epoch 94 \u279c train 96.3% | val 96.3% (loss 0.494) | lr 3.45e-04\n",
            "[Plateau] LR reduced: 3.56e-04 -> 3.45e-04\n"
          ]
        },
        {
          "output_type": "display_data",
          "data": {
            "text/plain": [
              "Epoch 95:   0%|          | 0/663 [00:00<?, ?it/s]"
            ],
            "application/vnd.jupyter.widget-view+json": {
              "version_major": 2,
              "version_minor": 0,
              "model_id": "40c7a127d84745789212e6a2664687c0"
            }
          },
          "metadata": {}
        },
        {
          "output_type": "stream",
          "name": "stdout",
          "text": [
            "Epoch 95 \u279c train 96.3% | val 96.3% (loss 0.492) | lr 3.35e-04\n",
            "[Plateau] LR reduced: 3.45e-04 -> 3.35e-04\n"
          ]
        },
        {
          "output_type": "display_data",
          "data": {
            "text/plain": [
              "Epoch 96:   0%|          | 0/663 [00:00<?, ?it/s]"
            ],
            "application/vnd.jupyter.widget-view+json": {
              "version_major": 2,
              "version_minor": 0,
              "model_id": "2c213dd3ace74a33b024f1121afc6bdd"
            }
          },
          "metadata": {}
        },
        {
          "output_type": "stream",
          "name": "stdout",
          "text": [
            "Epoch 96 \u279c train 96.5% | val 96.4% (loss 0.490) | lr 3.24e-04\n",
            "[Plateau] LR reduced: 3.35e-04 -> 1.62e-04\n"
          ]
        },
        {
          "output_type": "display_data",
          "data": {
            "text/plain": [
              "Epoch 97:   0%|          | 0/663 [00:00<?, ?it/s]"
            ],
            "application/vnd.jupyter.widget-view+json": {
              "version_major": 2,
              "version_minor": 0,
              "model_id": "8a7dbf84e9b748e4969e962afd691298"
            }
          },
          "metadata": {}
        },
        {
          "output_type": "stream",
          "name": "stdout",
          "text": [
            "Epoch 97 \u279c train 96.5% | val 96.3% (loss 0.489) | lr 3.14e-04\n"
          ]
        },
        {
          "output_type": "display_data",
          "data": {
            "text/plain": [
              "Epoch 98:   0%|          | 0/663 [00:00<?, ?it/s]"
            ],
            "application/vnd.jupyter.widget-view+json": {
              "version_major": 2,
              "version_minor": 0,
              "model_id": "fff3887ae01f4d05973827652ac538be"
            }
          },
          "metadata": {}
        },
        {
          "output_type": "stream",
          "name": "stdout",
          "text": [
            "Epoch 98 \u279c train 96.5% | val 96.4% (loss 0.491) | lr 3.03e-04\n",
            "[Plateau] LR reduced: 3.14e-04 -> 3.03e-04\n"
          ]
        },
        {
          "output_type": "display_data",
          "data": {
            "text/plain": [
              "Epoch 99:   0%|          | 0/663 [00:00<?, ?it/s]"
            ],
            "application/vnd.jupyter.widget-view+json": {
              "version_major": 2,
              "version_minor": 0,
              "model_id": "67209de8e662443bb01a5ab65b6d2a59"
            }
          },
          "metadata": {}
        },
        {
          "output_type": "stream",
          "name": "stdout",
          "text": [
            "Epoch 99 \u279c train 96.4% | val 96.4% (loss 0.489) | lr 2.93e-04\n",
            "[Plateau] LR reduced: 3.03e-04 -> 2.93e-04\n"
          ]
        },
        {
          "output_type": "display_data",
          "data": {
            "text/plain": [
              "Epoch 100:   0%|          | 0/663 [00:00<?, ?it/s]"
            ],
            "application/vnd.jupyter.widget-view+json": {
              "version_major": 2,
              "version_minor": 0,
              "model_id": "1e0c80ec7ec24f57a85bfafa9cbb2b44"
            }
          },
          "metadata": {}
        },
        {
          "output_type": "stream",
          "name": "stdout",
          "text": [
            "Epoch 100 \u279c train 96.6% | val 96.4% (loss 0.491) | lr 2.83e-04\n",
            "[Plateau] LR reduced: 2.93e-04 -> 1.42e-04\n"
          ]
        }
      ]
    },
    {
      "cell_type": "code",
      "source": [
        "    # ---- save LAST weights to Drive ----\n",
        "    torch.save(model.state_dict(), \"/content/last_cnn_raw.pt\")\n",
        "    torch.save(model.state_dict(), CKPT_DIR / \"last_cnn_raw.pt\")\n",
        "    if BEST_PATH.exists():\n",
        "        import shutil\n",
        "        shutil.copy2(BEST_PATH, CKPT_DIR / \"best_cnn.pt\")\n",
        "        print(f\"Copied BEST CNN to Drive: {CKPT_DIR/'best_cnn.pt'}\")"
      ],
      "metadata": {
        "colab": {
          "base_uri": "https://localhost:8080/"
        },
        "id": "lLKeeojoFhut",
        "outputId": "92292b75-b0c6-4fab-a347-56f20e5abe4b"
      },
      "execution_count": null,
      "outputs": [
        {
          "output_type": "stream",
          "name": "stdout",
          "text": [
            "Copied BEST CNN to Drive: /content/drive/MyDrive/kws_models/best_cnn.pt\n"
          ]
        }
      ]
    }
  ]
}